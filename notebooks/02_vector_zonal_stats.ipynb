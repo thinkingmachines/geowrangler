{
 "cells": [
  {
   "cell_type": "code",
   "execution_count": 1,
   "id": "5e26c44d-f73d-4a76-8000-ff483f7f4297",
   "metadata": {},
   "outputs": [],
   "source": [
    "# default_exp vector_zonal_stats"
   ]
  },
  {
   "cell_type": "code",
   "execution_count": 2,
   "id": "451a4b39-6d18-47a8-9bf9-291114aaa8ad",
   "metadata": {},
   "outputs": [],
   "source": [
    "# hide\n",
    "# no_test\n",
    "! [ -e /content ] && pip install -Uqq git+https://github.com/thinkingmachines/geowrangler.git\n",
    "! [ -e /content ] && pip install -Uqq git+https://github.com/butchland/nbdev.git@add-black-format\n",
    "# downgrade tornado if in colab\n",
    "! [ -e /content ] && pip install -Uqq tornado==5.1.0"
   ]
  },
  {
   "cell_type": "code",
   "execution_count": 3,
   "id": "8daa0f3a-d80c-4030-bce8-d437cdb313ea",
   "metadata": {},
   "outputs": [],
   "source": [
    "# hide\n",
    "# no_test\n",
    "%reload_ext autoreload\n",
    "%autoreload 2\n",
    "%matplotlib inline"
   ]
  },
  {
   "cell_type": "code",
   "execution_count": 4,
   "id": "0d4c51d1-9abf-47f5-ba0d-aed39bd8bbe4",
   "metadata": {},
   "outputs": [],
   "source": [
    "# hide\n",
    "# no_test\n",
    "# conditionally load nb_black cell magic\n",
    "import sys\n",
    "\n",
    "IN_COLAB = True\n",
    "if \"google.colab\" not in sys.modules:\n",
    "    from IPython import get_ipython\n",
    "\n",
    "    IN_COLAB = False\n",
    "    ipython = get_ipython()\n",
    "    ipython.magic(\"reload_ext lab_black\")"
   ]
  },
  {
   "cell_type": "code",
   "execution_count": 5,
   "id": "b8c71d8b-4a1a-44e2-b854-c14fb3f4ec94",
   "metadata": {},
   "outputs": [],
   "source": [
    "# hide\n",
    "import warnings\n",
    "\n",
    "from shapely.errors import ShapelyDeprecationWarning\n",
    "\n",
    "warnings.filterwarnings(action=\"ignore\", category=UserWarning, module=\"geopandas\")\n",
    "warnings.filterwarnings(\n",
    "    action=\"ignore\", category=ShapelyDeprecationWarning, module=\"pandas\"\n",
    ")"
   ]
  },
  {
   "cell_type": "markdown",
   "id": "f50c0e84-e23d-4fcc-a8c6-3e7a1f138c3e",
   "metadata": {},
   "source": [
    "# Vector Zonal Stats\n",
    "\n",
    "> generate vector zonal stat features"
   ]
  },
  {
   "cell_type": "code",
   "execution_count": 6,
   "id": "d48f4332-f394-4250-9393-d2e092114203",
   "metadata": {},
   "outputs": [],
   "source": [
    "# hide\n",
    "import matplotlib.pyplot as plt\n",
    "from nbdev.export2html import show_doc\n",
    "from shapely.geometry import Point, Polygon"
   ]
  },
  {
   "cell_type": "code",
   "execution_count": 7,
   "id": "4726b379-56e7-43d7-b3dc-ba2858f16773",
   "metadata": {
    "tags": []
   },
   "outputs": [],
   "source": [
    "# exporti\n",
    "GEO_INDEX_NAME = \"__GeoWrangleer_aoi_index\""
   ]
  },
  {
   "cell_type": "code",
   "execution_count": 8,
   "id": "b2133259-3fa9-4f2e-82e3-d632f9c5e35a",
   "metadata": {
    "tags": []
   },
   "outputs": [],
   "source": [
    "# exporti\n",
    "from typing import Any, Dict, List\n",
    "\n",
    "import geopandas as gpd\n",
    "import numpy as np\n",
    "import pandas as pd"
   ]
  },
  {
   "cell_type": "markdown",
   "id": "df8775f0-d493-4431-a76e-82660754223a",
   "metadata": {
    "tags": []
   },
   "source": [
    "### Aggregations\n",
    "\n",
    "In order to generate zonal stats for an area (or areas) of interest (aoi) , we have come up with the concept of an **aggregation specification** or _agg spec_, which is a way to specify what aggregation functions (such as `count`,`sum`, `mean`,`std` etc.) are to be applied to columns in the source dataframe (data). \n",
    "\n",
    "The method `create_zonal_stats` can then take in a list of these _agg specs_ and apply them to create zonal stats from the data for the aoi.\n",
    "\n",
    "Each _agg spec_ consists of a `dict` with the following keys:\n",
    "\n",
    "* `func`: (Required) a `str` or a list `[str]` of aggregation functions. See the pandas documentation for [agg](https://pandas.pydata.org/pandas-docs/stable/reference/api/pandas.DataFrame.agg.html)\n",
    "\n",
    "* `column`: (Optional) an existing column in the data to generate the zonal statistic from. If not specified, the grouping key based on the index of the aoi applied to the data is used as default.\n",
    "\n",
    "* `output`: (Optional) a `str` or a list `[str]` of the name(s) of the output zonal statistic column. If not specified it is concatenated from the column and func i.e.  `{column}_{func}` (e.g. `'func':'mean'` on `'column':'population'` has a default value `'output':'population_mean'`) \n",
    "\n",
    "* `fillna`: (Optional) a `bool` or a list `[bool]` of the flag(s) that indicates whether to to a `fillna(0)` step for the new zonal column, `True` meaning it will set any `NA` values in the resulting zonal stat to `0`, and `False` will retain any `NA` values. The default value of the flag(s) is `True`.\n",
    "\n",
    "**Examples**\n",
    "\n",
    "* The simplest aggregation spec. This will result in an output column named `index_count` as it will use the aoi index as the default column. \n",
    "``` \n",
    "{\"func\":\"count\"}\n",
    "```\n",
    "\n",
    "* The `sum` function is applied to the data column `population` which will create an output column named `total_population`.\n",
    "\n",
    "```\n",
    "{\n",
    " \"func:\"sum\",\n",
    " \"column\": \"population\",\n",
    " \"output\": \"total_population\"\n",
    "}\n",
    "```\n",
    "\n",
    "* Compute the zonal stats `mean`,`sum`,`max` on the `population` column and rename the output columns (by default) to `population_mean`, `population_sum` and `population_max`.\n",
    "\n",
    "```\n",
    "{\n",
    " \"func\": [\"mean\",\"sum\",\"max\"],\n",
    " \"column\": \"population\",\n",
    "}\n",
    " ```\n",
    "\n",
    "* A full aggregation spec with `fillna`. `fillna == False` for `std` means it will remain an `NA` if there is no data for the column in the group. The default value for `fillna` is `True` which means that `0` is used to replace any `NA` in the output column.\n",
    "```\n",
    "{\n",
    " \"func\": [\"mean\", \"sum\", \"std\"],\n",
    " \"column\":\"population\",\n",
    " \"output\": [\"avg_pop\", \"total_pop\", \"std_dev\"],\n",
    " \"fillna\": [True,True,False],\n",
    "}\n",
    "```\n",
    "\n",
    "The `agg spec` in the list of aggregations can contain the same columns, but the output columns must be unique since they will added as columns in the results."
   ]
  },
  {
   "cell_type": "markdown",
   "id": "ceb8837b-efe6-4908-ada9-cdb7026911ff",
   "metadata": {},
   "source": [
    "### Internal API\n",
    "> These functions are only called internally by the geowrangler module"
   ]
  },
  {
   "cell_type": "code",
   "execution_count": 9,
   "id": "8c0d397e-3e74-4777-95aa-504bb29c7b03",
   "metadata": {},
   "outputs": [],
   "source": [
    "# export\n",
    "_all_ = [\"_fix_agg\"]"
   ]
  },
  {
   "cell_type": "code",
   "execution_count": 10,
   "id": "7e915eb6-5270-4022-abbb-8e061ce7bcb9",
   "metadata": {},
   "outputs": [],
   "source": [
    "# exporti\n",
    "def _fix_agg(\n",
    "    agg: Dict[str, Any],  # A dict containing at the minimum a 'func' key\n",
    ") -> Dict[str, Any]:\n",
    "    \"\"\"\n",
    "    Fix an `agg spec`.\n",
    "\n",
    "    It outputs a dict containing the following keys:\n",
    "      - 'func': a list of aggregation functions (should be a valid 'agg' function)\n",
    "      - 'column': a column to apply the aggregation functions (should be a valid numeric column in data)\n",
    "      - 'output': the names of the new columns containing the application of the aggregation functions (default: concat column + '_' + func)\n",
    "      - 'fillna': boolean list whether to replace new columns with 'NA' values  with 0 (default: True)\n",
    "    \"\"\"\n",
    "    if \"func\" not in agg:\n",
    "        return agg  # skip fix as agg spec is invalid\n",
    "\n",
    "    if type(agg[\"func\"]) == str:\n",
    "        agg[\"func\"] = [agg[\"func\"]]\n",
    "\n",
    "    # optional column, default to index count\n",
    "    if \"column\" not in agg:\n",
    "        agg[\"column\"] = GEO_INDEX_NAME\n",
    "\n",
    "    if \"output\" not in agg:\n",
    "        column = \"index\" if agg[\"column\"] == GEO_INDEX_NAME else agg[\"column\"]\n",
    "        agg[\"output\"] = [f\"{column}_{f}\" for f in agg[\"func\"]]\n",
    "\n",
    "    if type(agg[\"output\"]) == str:\n",
    "        agg[\"output\"] = [agg[\"output\"]]\n",
    "\n",
    "    # check matching fillna\n",
    "    if \"fillna\" not in agg:\n",
    "        agg[\"fillna\"] = [True for _ in agg[\"func\"]]\n",
    "\n",
    "    if type(agg[\"fillna\"]) == bool:\n",
    "        agg[\"fillna\"] = [agg[\"fillna\"]]\n",
    "\n",
    "    return agg"
   ]
  },
  {
   "cell_type": "code",
   "execution_count": 11,
   "id": "b0d6bfcd-acf9-4227-8599-68344838d773",
   "metadata": {},
   "outputs": [],
   "source": [
    "# hide\n",
    "assert _fix_agg({\"func\": [\"sum\", \"max\", \"min\", \"mean\"], \"column\": \"population\"}) == {\n",
    "    \"func\": [\"sum\", \"max\", \"min\", \"mean\"],\n",
    "    \"column\": \"population\",\n",
    "    \"output\": [\"population_sum\", \"population_max\", \"population_min\", \"population_mean\"],\n",
    "    \"fillna\": [True, True, True, True],\n",
    "}"
   ]
  },
  {
   "cell_type": "code",
   "execution_count": 12,
   "id": "be038173-897c-4542-baf4-de8650680912",
   "metadata": {},
   "outputs": [],
   "source": [
    "# hide\n",
    "assert _fix_agg({\"func\": \"count\"}) == {\n",
    "    \"func\": [\"count\"],\n",
    "    \"column\": GEO_INDEX_NAME,\n",
    "    \"output\": [\"index_count\"],\n",
    "    \"fillna\": [True],\n",
    "}"
   ]
  },
  {
   "cell_type": "code",
   "execution_count": 13,
   "id": "a9f5836e-15fb-40f0-a4ef-76fc54afb903",
   "metadata": {},
   "outputs": [],
   "source": [
    "# hide\n",
    "assert _fix_agg(\n",
    "    {\n",
    "        \"func\": [\"sum\", \"max\", \"min\", \"mean\", \"std\"],\n",
    "        \"column\": \"population\",\n",
    "        \"output\": [\"pop_sum\", \"pop_max\", \"pop_min\", \"avg_pop\", \"pop_std_dev\"],\n",
    "        \"fillna\": [True, True, True, True, False],\n",
    "    }\n",
    ") == {\n",
    "    \"func\": [\"sum\", \"max\", \"min\", \"mean\", \"std\"],\n",
    "    \"column\": \"population\",\n",
    "    \"output\": [\"pop_sum\", \"pop_max\", \"pop_min\", \"avg_pop\", \"pop_std_dev\"],\n",
    "    \"fillna\": [True, True, True, True, False],\n",
    "}"
   ]
  },
  {
   "cell_type": "code",
   "execution_count": 14,
   "id": "ee2ba37c-e5b0-4989-abe4-2c7090899b09",
   "metadata": {},
   "outputs": [],
   "source": [
    "# hide\n",
    "assert _fix_agg({\"func\": \"count\"}) == {\n",
    "    \"func\": [\"count\"],\n",
    "    \"column\": GEO_INDEX_NAME,\n",
    "    \"output\": [\"index_count\"],\n",
    "    \"fillna\": [True],\n",
    "}"
   ]
  },
  {
   "cell_type": "code",
   "execution_count": 15,
   "id": "e467d390-8f61-42b2-a98b-8f01a5f4b170",
   "metadata": {},
   "outputs": [
    {
     "data": {
      "text/markdown": [
       "<h4 id=\"_fix_agg\" class=\"doc_header\"><code>_fix_agg</code><a href=\"__main__.py#L2\" class=\"source_link\" style=\"float:right\">[source]</a></h4>\n",
       "\n",
       "> <code>_fix_agg</code>(**`agg`**:`Dict`\\[`str`, `typing.Any`\\])\n",
       "\n",
       "Fix an `agg spec`.\n",
       "\n",
       "It outputs a dict containing the following keys:\n",
       "  - 'func': a list of aggregation functions (should be a valid 'agg' function)\n",
       "  - 'column': a column to apply the aggregation functions (should be a valid numeric column in data)\n",
       "  - 'output': the names of the new columns containing the application of the aggregation functions (default: concat column + '_' + func)\n",
       "  - 'fillna': boolean list whether to replace new columns with 'NA' values  with 0 (default: True)\n",
       "\n",
       "||Type|Default|Details|\n",
       "|---|---|---|---|\n",
       "|**`agg`**|`typing.Dict[str, typing.Any]`||A dict containing at the minimum a 'func' key|\n"
      ],
      "text/plain": [
       "<IPython.core.display.Markdown object>"
      ]
     },
     "metadata": {},
     "output_type": "display_data"
    }
   ],
   "source": [
    "show_doc(_fix_agg)"
   ]
  },
  {
   "cell_type": "code",
   "execution_count": 16,
   "id": "e2f299f7-077b-4fce-91f1-10e218388d42",
   "metadata": {},
   "outputs": [],
   "source": [
    "# export\n",
    "_all_ = [\"_check_agg\"]"
   ]
  },
  {
   "cell_type": "code",
   "execution_count": 17,
   "id": "c801e5ae-9163-48e5-a5a8-96b5b40879b9",
   "metadata": {
    "tags": []
   },
   "outputs": [],
   "source": [
    "# exporti\n",
    "def _check_agg(\n",
    "    agg: Dict[str, Any],  # A dict containing at the minimum a 'func' key\n",
    "    i: int,  # The index into the list of aggregations\n",
    "    data_cols: List[str],  # list of data columns\n",
    "    dtypes: pd.Series,  # series of dtypes with column names as index\n",
    ") -> None:\n",
    "    \"\"\"\n",
    "    Validate an `agg spec`.\n",
    "    \"\"\"\n",
    "\n",
    "    if \"func\" not in agg:\n",
    "        raise ValueError(f\"Missing key 'func' in agg[{i}] {agg}\")\n",
    "\n",
    "    for func in agg[\"func\"]:\n",
    "        if getattr(pd.Series, func, None) is None:\n",
    "            raise ValueError(f\"Unknown func '{func}' in agg[{i}] {agg}\")\n",
    "\n",
    "    if agg[\"column\"] != GEO_INDEX_NAME and agg[\"column\"] not in data_cols:\n",
    "        raise ValueError(\n",
    "            f\"Column '{agg['column']}' in agg[{i}] {agg} does not exist in the data\"\n",
    "        )\n",
    "\n",
    "    if agg[\"column\"] != GEO_INDEX_NAME and not np.issubdtype(\n",
    "        dtypes.loc[agg[\"column\"]], np.number\n",
    "    ):\n",
    "        raise ValueError(\n",
    "            f\"Column '{agg['column']}' in agg[{i}] {agg} is not a numeric column in the data\"\n",
    "        )\n",
    "\n",
    "    if len(agg[\"func\"]) != len(agg[\"output\"]):\n",
    "        raise ValueError(\n",
    "            f\"output list {agg['output']} doesn't match func list {agg['func']} in agg[{i}] {agg}\"\n",
    "        )\n",
    "\n",
    "    # check matching fillna\n",
    "    if len(agg[\"fillna\"]) != len(agg[\"func\"]):\n",
    "        raise ValueError(\n",
    "            f\"fillna list {agg['fillna']} doesn't match func list {agg['func']} in agg[{i}] {agg}\"\n",
    "        )"
   ]
  },
  {
   "cell_type": "code",
   "execution_count": 18,
   "id": "f135564a-ddfe-4c62-af6a-986096624f29",
   "metadata": {
    "tags": []
   },
   "outputs": [],
   "source": [
    "# hide\n",
    "try:\n",
    "    _check_agg({}, 0, [], pd.Series(dtype=np.float64))\n",
    "    threw_exception = False\n",
    "except ValueError as e:\n",
    "    threw_exception = True\n",
    "    assert e.args[0] == \"Missing key 'func' in agg[0] {}\"\n",
    "assert threw_exception"
   ]
  },
  {
   "cell_type": "code",
   "execution_count": 19,
   "id": "1dacd545-4e08-40df-9313-f6de18e05e80",
   "metadata": {
    "tags": []
   },
   "outputs": [],
   "source": [
    "# hide\n",
    "try:\n",
    "    _check_agg(\n",
    "        {\"func\": [\"mean\", \"sum\"], \"column\": \"population\", \"output\": [\"pop_mean\"]},\n",
    "        1,\n",
    "        [\"population\"],\n",
    "        pd.Series(data={\"population\": np.dtype(np.int32)}),\n",
    "    )\n",
    "    threw_exception = False\n",
    "except ValueError as e:\n",
    "    threw_exception = True\n",
    "    assert (\n",
    "        e.args[0]\n",
    "        == \"output list ['pop_mean'] doesn't match func list ['mean', 'sum'] in agg[1] {'func': ['mean', 'sum'], 'column': 'population', 'output': ['pop_mean']}\"\n",
    "    )\n",
    "assert threw_exception"
   ]
  },
  {
   "cell_type": "code",
   "execution_count": 20,
   "id": "9391cf94-296c-4dd9-bce9-6f5179044f86",
   "metadata": {},
   "outputs": [
    {
     "data": {
      "text/markdown": [
       "<h4 id=\"_check_agg\" class=\"doc_header\"><code>_check_agg</code><a href=\"__main__.py#L2\" class=\"source_link\" style=\"float:right\">[source]</a></h4>\n",
       "\n",
       "> <code>_check_agg</code>(**`agg`**:`Dict`\\[`str`, `typing.Any`\\], **`i`**:`int`, **`data_cols`**:`List`\\[`str`\\], **`dtypes`**:`Series`)\n",
       "\n",
       "Validate an `agg spec`.\n",
       "\n",
       "||Type|Default|Details|\n",
       "|---|---|---|---|\n",
       "|**`agg`**|`typing.Dict[str, typing.Any]`||A dict containing at the minimum a 'func' key|\n",
       "|**`i`**|`int`||The index into the list of aggregations|\n",
       "|**`data_cols`**|`typing.List[str]`||list of data columns|\n",
       "|**`dtypes`**|`Series`||series of dtypes with column names as index|\n"
      ],
      "text/plain": [
       "<IPython.core.display.Markdown object>"
      ]
     },
     "metadata": {},
     "output_type": "display_data"
    }
   ],
   "source": [
    "show_doc(_check_agg)"
   ]
  },
  {
   "cell_type": "code",
   "execution_count": 21,
   "id": "ce6226de-5205-4045-9725-a1f3ed9828ea",
   "metadata": {},
   "outputs": [],
   "source": [
    "# export\n",
    "_all_ = [\"_validate_aggs\"]"
   ]
  },
  {
   "cell_type": "code",
   "execution_count": 22,
   "id": "69b95df7-b6fc-46eb-904c-d580fe997dd1",
   "metadata": {},
   "outputs": [],
   "source": [
    "# exporti\n",
    "def _validate_aggs(\n",
    "    fixed_aggs: List[Dict[str, Any]],  # A list of fixed agg specs\n",
    "    data: pd.DataFrame,  # Source dataframe\n",
    ") -> None:\n",
    "    data_cols = list(data.columns.values)\n",
    "    outputs = []\n",
    "    for i, agg in enumerate(fixed_aggs):\n",
    "        _check_agg(agg, i, data_cols, data.dtypes)\n",
    "        # check duplicate outputs\n",
    "        if any(item in agg[\"output\"] for item in outputs):\n",
    "            raise ValueError(\n",
    "                f\"Duplicate output column name found for agg[{i}] {agg['output']}\"\n",
    "            )\n",
    "        outputs += agg[\"output\"]"
   ]
  },
  {
   "cell_type": "code",
   "execution_count": 23,
   "id": "39ecc419-450c-4a5e-af41-6778894b47c7",
   "metadata": {
    "tags": []
   },
   "outputs": [],
   "source": [
    "# hide\n",
    "try:\n",
    "    _validate_aggs(\n",
    "        [{\"func\": [\"mean\", \"sum\"], \"column\": \"population\", \"output\": [\"pop_mean\"]}],\n",
    "        pd.DataFrame(data={\"population\": [1, 2, 3]}),\n",
    "    )\n",
    "    threw_exception = False\n",
    "except ValueError as e:\n",
    "    threw_exception = True\n",
    "    assert (\n",
    "        e.args[0]\n",
    "        == \"output list ['pop_mean'] doesn't match func list ['mean', 'sum'] in agg[0] {'func': ['mean', 'sum'], 'column': 'population', 'output': ['pop_mean']}\"\n",
    "    )\n",
    "assert threw_exception"
   ]
  },
  {
   "cell_type": "code",
   "execution_count": 24,
   "id": "7f1aefee-6919-481c-93d6-8fec8e098198",
   "metadata": {
    "tags": []
   },
   "outputs": [],
   "source": [
    "# hide\n",
    "try:\n",
    "    _validate_aggs(\n",
    "        [\n",
    "            {\n",
    "                \"func\": [\"mean\", \"sum\"],\n",
    "                \"column\": \"population\",\n",
    "                \"output\": [\"pop_mean\", \"pop_total\"],\n",
    "                \"fillna\": [True, True],\n",
    "            }\n",
    "        ],\n",
    "        pd.DataFrame(data={\"population\": [1, 2, 3]}),\n",
    "    )\n",
    "    threw_exception = False\n",
    "except ValueError:\n",
    "    threw_exception = True\n",
    "assert not threw_exception"
   ]
  },
  {
   "cell_type": "code",
   "execution_count": 25,
   "id": "2a8aefcd-a763-4bcb-82ce-6e6ab7b14965",
   "metadata": {
    "tags": []
   },
   "outputs": [],
   "source": [
    "# hide\n",
    "try:\n",
    "    _validate_aggs(\n",
    "        [\n",
    "            {\n",
    "                \"func\": [\"mean\", \"sum\"],\n",
    "                \"column\": \"population\",\n",
    "                \"output\": [\"pop_mean\", \"pop_total\"],\n",
    "                \"fillna\": [True, True],\n",
    "            },\n",
    "            {\n",
    "                \"func\": [\"mean\", \"sum\"],\n",
    "                \"column\": \"dads\",\n",
    "                \"output\": [\"pop_mean\", \"pop_total\"],\n",
    "                \"fillna\": [True, True],\n",
    "            },\n",
    "        ],\n",
    "        pd.DataFrame(data={\"population\": [1, 2, 3], \"dads\": [5, 6, 7]}),\n",
    "    )\n",
    "    threw_exception = False\n",
    "except ValueError as e:\n",
    "    threw_exception = True\n",
    "    assert (\n",
    "        e.args[0]\n",
    "        == \"Duplicate output column name found for agg[1] ['pop_mean', 'pop_total']\"\n",
    "    )\n",
    "assert threw_exception"
   ]
  },
  {
   "cell_type": "code",
   "execution_count": 26,
   "id": "5d7315a6-42a7-4cfa-87b1-b74917254cf3",
   "metadata": {},
   "outputs": [],
   "source": [
    "# hide\n",
    "# TODO - more tests for validating aggs"
   ]
  },
  {
   "cell_type": "code",
   "execution_count": 27,
   "id": "02e371cc-f7c2-4c72-91ca-7181c3fcab0d",
   "metadata": {
    "tags": []
   },
   "outputs": [
    {
     "data": {
      "text/markdown": [
       "<h4 id=\"_validate_aggs\" class=\"doc_header\"><code>_validate_aggs</code><a href=\"__main__.py#L2\" class=\"source_link\" style=\"float:right\">[source]</a></h4>\n",
       "\n",
       "> <code>_validate_aggs</code>(**`fixed_aggs`**:`List`\\[`typing.Dict[str, typing.Any]`\\], **`data`**:`DataFrame`)\n",
       "\n",
       "\n",
       "\n",
       "||Type|Default|Details|\n",
       "|---|---|---|---|\n",
       "|**`fixed_aggs`**|`typing.List[typing.Dict[str, typing.Any]]`||A list of fixed agg specs|\n",
       "|**`data`**|`DataFrame`||Source dataframe|\n"
      ],
      "text/plain": [
       "<IPython.core.display.Markdown object>"
      ]
     },
     "metadata": {},
     "output_type": "display_data"
    }
   ],
   "source": [
    "show_doc(_validate_aggs)"
   ]
  },
  {
   "cell_type": "code",
   "execution_count": 28,
   "id": "b40df9f8-8ef0-44f5-be2e-da1c406a7d10",
   "metadata": {},
   "outputs": [],
   "source": [
    "# export\n",
    "_all_ = [\"_expand_aggs\"]"
   ]
  },
  {
   "cell_type": "code",
   "execution_count": 29,
   "id": "e72a2ea2-7163-4593-9310-b96ddfab3f67",
   "metadata": {},
   "outputs": [],
   "source": [
    "# exporti\n",
    "def _expand_aggs(\n",
    "    aggs: List[Dict[str, Any]],  # List of fixed valid aggs\n",
    ") -> List[Dict[str, Any]]:\n",
    "    \"\"\"Expands agg specs with multiple funcs each into a separate agg spec\"\"\"\n",
    "    expanded_aggs = []\n",
    "    for agg in aggs:\n",
    "        for i, func in enumerate(agg[\"func\"]):\n",
    "            expanded_agg = {\n",
    "                \"func\": func,\n",
    "                \"column\": agg[\"column\"],\n",
    "                \"output\": agg[\"output\"][i],\n",
    "                \"fillna\": agg[\"fillna\"][i],\n",
    "            }\n",
    "            expanded_aggs += [expanded_agg]\n",
    "    return expanded_aggs"
   ]
  },
  {
   "cell_type": "code",
   "execution_count": 30,
   "id": "0d48d769-c4d9-44c7-a3f8-dac92c102156",
   "metadata": {},
   "outputs": [],
   "source": [
    "# hide\n",
    "assert _expand_aggs(\n",
    "    [\n",
    "        {\n",
    "            \"func\": [\"mean\", \"sum\"],\n",
    "            \"column\": \"population\",\n",
    "            \"output\": [\"pop_mean\", \"pop_total\"],\n",
    "            \"fillna\": [True, True],\n",
    "        },\n",
    "        {\n",
    "            \"func\": [\"mean\", \"sum\"],\n",
    "            \"column\": \"dads\",\n",
    "            \"output\": [\"dad_mean\", \"dad_total\"],\n",
    "            \"fillna\": [True, True],\n",
    "        },\n",
    "    ],\n",
    ") == [\n",
    "    {\"func\": \"mean\", \"column\": \"population\", \"output\": \"pop_mean\", \"fillna\": True},\n",
    "    {\"func\": \"sum\", \"column\": \"population\", \"output\": \"pop_total\", \"fillna\": True},\n",
    "    {\"func\": \"mean\", \"column\": \"dads\", \"output\": \"dad_mean\", \"fillna\": True},\n",
    "    {\"func\": \"sum\", \"column\": \"dads\", \"output\": \"dad_total\", \"fillna\": True},\n",
    "]"
   ]
  },
  {
   "cell_type": "code",
   "execution_count": 31,
   "id": "349bca15-f07c-4bf3-8095-e0de9916ddc3",
   "metadata": {},
   "outputs": [
    {
     "data": {
      "text/markdown": [
       "<h4 id=\"_expand_aggs\" class=\"doc_header\"><code>_expand_aggs</code><a href=\"__main__.py#L2\" class=\"source_link\" style=\"float:right\">[source]</a></h4>\n",
       "\n",
       "> <code>_expand_aggs</code>(**`aggs`**:`List`\\[`typing.Dict[str, typing.Any]`\\])\n",
       "\n",
       "Expands agg specs with multiple funcs each into a separate agg spec\n",
       "\n",
       "||Type|Default|Details|\n",
       "|---|---|---|---|\n",
       "|**`aggs`**|`typing.List[typing.Dict[str, typing.Any]]`||List of fixed valid aggs|\n"
      ],
      "text/plain": [
       "<IPython.core.display.Markdown object>"
      ]
     },
     "metadata": {},
     "output_type": "display_data"
    }
   ],
   "source": [
    "show_doc(_expand_aggs)"
   ]
  },
  {
   "cell_type": "code",
   "execution_count": 32,
   "id": "66e59904-4b1f-492d-9318-160d9fe12bb1",
   "metadata": {},
   "outputs": [],
   "source": [
    "# export\n",
    "_all_ = [\"_build_agg_args\"]"
   ]
  },
  {
   "cell_type": "code",
   "execution_count": 33,
   "id": "894131e2-31bd-4a65-95a0-70ac253b39c7",
   "metadata": {},
   "outputs": [],
   "source": [
    "# exporti\n",
    "def _build_agg_args(\n",
    "    aggs: List[Dict[str, Any]],  # A list of expanded aggs\n",
    ") -> Dict:\n",
    "    \"\"\"Builds a dict of args with output as key and a tuple of column and func as value from a list of expanded aggs\"\"\"\n",
    "    return {agg[\"output\"]: (agg[\"column\"], agg[\"func\"]) for agg in aggs}"
   ]
  },
  {
   "cell_type": "code",
   "execution_count": 34,
   "id": "5f93ff13-76f3-4c00-b564-b6568c433020",
   "metadata": {},
   "outputs": [],
   "source": [
    "# hide\n",
    "\n",
    "assert _build_agg_args(\n",
    "    [\n",
    "        {\"func\": \"mean\", \"column\": \"population\", \"output\": \"pop_mean\", \"fillna\": True},\n",
    "        {\"func\": \"sum\", \"column\": \"population\", \"output\": \"pop_total\", \"fillna\": True},\n",
    "        {\"func\": \"mean\", \"column\": \"dads\", \"output\": \"dad_mean\", \"fillna\": True},\n",
    "        {\"func\": \"sum\", \"column\": \"dads\", \"output\": \"dad_total\", \"fillna\": True},\n",
    "    ]\n",
    ") == {\n",
    "    \"pop_mean\": (\"population\", \"mean\"),\n",
    "    \"pop_total\": (\"population\", \"sum\"),\n",
    "    \"dad_mean\": (\"dads\", \"mean\"),\n",
    "    \"dad_total\": (\"dads\", \"sum\"),\n",
    "}"
   ]
  },
  {
   "cell_type": "code",
   "execution_count": 35,
   "id": "ba6f1604-3f37-42fa-9113-5316feda5f35",
   "metadata": {},
   "outputs": [
    {
     "data": {
      "text/markdown": [
       "<h4 id=\"_build_agg_args\" class=\"doc_header\"><code>_build_agg_args</code><a href=\"__main__.py#L2\" class=\"source_link\" style=\"float:right\">[source]</a></h4>\n",
       "\n",
       "> <code>_build_agg_args</code>(**`aggs`**:`List`\\[`typing.Dict[str, typing.Any]`\\])\n",
       "\n",
       "Builds a dict of args with output as key and a tuple of column and func as value from a list of expanded aggs\n",
       "\n",
       "||Type|Default|Details|\n",
       "|---|---|---|---|\n",
       "|**`aggs`**|`typing.List[typing.Dict[str, typing.Any]]`||A list of expanded aggs|\n"
      ],
      "text/plain": [
       "<IPython.core.display.Markdown object>"
      ]
     },
     "metadata": {},
     "output_type": "display_data"
    }
   ],
   "source": [
    "show_doc(_build_agg_args)"
   ]
  },
  {
   "cell_type": "code",
   "execution_count": 36,
   "id": "9998fd7a-f92d-4cca-93b8-c45b73286540",
   "metadata": {},
   "outputs": [],
   "source": [
    "# export\n",
    "_all_ = [\"_prep_aoi\"]"
   ]
  },
  {
   "cell_type": "code",
   "execution_count": 37,
   "id": "a9dea21e-fbc9-4121-9ad0-0f3d08f05e3a",
   "metadata": {},
   "outputs": [],
   "source": [
    "# exporti\n",
    "\n",
    "\n",
    "def _prep_aoi(\n",
    "    aoi: pd.DataFrame,  # Area of interest\n",
    ") -> pd.DataFrame:\n",
    "    \"\"\"\n",
    "    Prepare aoi for spatial join\n",
    "      - split off any existing column named index and drop it from aoi\n",
    "      - create a column  from aoi's index which will be used as grouping key\n",
    "    \"\"\"\n",
    "    if GEO_INDEX_NAME in list(aoi.columns.values):\n",
    "        raise ValueError(\n",
    "            f\"Invalid column name error: AOI column should not match Geowrangler index column {GEO_INDEX_NAME}\"\n",
    "        )\n",
    "    # prep for spatial join\n",
    "    aoi = aoi.copy()\n",
    "\n",
    "    # handle existing col named 'index'\n",
    "    aoi_index_data = None\n",
    "    if \"index\" in list(aoi.columns.values):\n",
    "        aoi_index_data = aoi[\"index\"]\n",
    "        aoi.drop(labels=\"index\", inplace=True, axis=1)\n",
    "\n",
    "    # create index col for broadcast to features\n",
    "    aoi.reset_index(level=0, inplace=True)\n",
    "    aoi.rename(columns={\"index\": GEO_INDEX_NAME}, inplace=True)\n",
    "    return aoi, aoi_index_data"
   ]
  },
  {
   "cell_type": "code",
   "execution_count": 38,
   "id": "617cd6ac-c765-4c66-a983-d8177a199620",
   "metadata": {},
   "outputs": [],
   "source": [
    "# hide\n",
    "test_aoi = pd.DataFrame(data={\"col1\": [1, 2, 3]})\n",
    "result, index_data = _prep_aoi(test_aoi)\n",
    "assert index_data is None\n",
    "assert any(\n",
    "    colname in list(result.columns.values)\n",
    "    for colname in [*list(test_aoi.columns.values), GEO_INDEX_NAME]\n",
    ")"
   ]
  },
  {
   "cell_type": "code",
   "execution_count": 39,
   "id": "4a5ee605-b282-4805-ba61-d2352a112f63",
   "metadata": {},
   "outputs": [],
   "source": [
    "# hide\n",
    "test_aoi = pd.DataFrame(data={\"col1\": [1, 2, 3], \"index\": [5, 6, 7]})\n",
    "result, index_data = _prep_aoi(test_aoi)\n",
    "assert any(\n",
    "    colname in list(result.columns.values)\n",
    "    for colname in [*list(test_aoi.columns.values), GEO_INDEX_NAME]\n",
    ")\n",
    "assert index_data.equals(pd.Series([5, 6, 7], name=\"index\"))"
   ]
  },
  {
   "cell_type": "code",
   "execution_count": 40,
   "id": "6e195c45-9d39-4646-831d-a734fb7d9e44",
   "metadata": {},
   "outputs": [
    {
     "data": {
      "text/markdown": [
       "<h4 id=\"_prep_aoi\" class=\"doc_header\"><code>_prep_aoi</code><a href=\"__main__.py#L4\" class=\"source_link\" style=\"float:right\">[source]</a></h4>\n",
       "\n",
       "> <code>_prep_aoi</code>(**`aoi`**:`DataFrame`)\n",
       "\n",
       "Prepare aoi for spatial join\n",
       "  - split off any existing column named index and drop it from aoi\n",
       "  - create a column  from aoi's index which will be used as grouping key\n",
       "\n",
       "||Type|Default|Details|\n",
       "|---|---|---|---|\n",
       "|**`aoi`**|`DataFrame`||Area of interest|\n"
      ],
      "text/plain": [
       "<IPython.core.display.Markdown object>"
      ]
     },
     "metadata": {},
     "output_type": "display_data"
    }
   ],
   "source": [
    "show_doc(_prep_aoi)"
   ]
  },
  {
   "cell_type": "code",
   "execution_count": 41,
   "id": "6516b59c-8451-4e99-9154-12739e5232ea",
   "metadata": {},
   "outputs": [],
   "source": [
    "# hide\n",
    "# TODO - add tests\n",
    "# - show addition of aoi_index\n",
    "# - show split if existing column index\n",
    "# - show split if existing column aoi_index"
   ]
  },
  {
   "cell_type": "code",
   "execution_count": 42,
   "id": "01c786ee-9c65-4de1-8b7c-fbca088b16bf",
   "metadata": {},
   "outputs": [],
   "source": [
    "# export\n",
    "_all_ = [\"_fillnas\"]"
   ]
  },
  {
   "cell_type": "code",
   "execution_count": 43,
   "id": "151f01ac-750a-4e4b-b9bc-3072ba0e9dfd",
   "metadata": {},
   "outputs": [],
   "source": [
    "# exporti\n",
    "\n",
    "\n",
    "def _fillnas(\n",
    "    expanded_aggs: List[Dict[str, Any]],  # list of expanded aggs\n",
    "    results: pd.DataFrame,  # results dataframe to be filled with NAs if flag set\n",
    "    aoi: pd.DataFrame,  # aoi dataframe to merge it back to\n",
    "):\n",
    "    # set NAs to 0 if fillna\n",
    "    for agg in expanded_aggs:\n",
    "        if agg[\"fillna\"]:\n",
    "            colname = agg[\"output\"]\n",
    "            if colname in list(aoi.columns.values):\n",
    "                colname = colname + \"_y\"  # try if merged df has colname + _y\n",
    "            if colname in list(results.columns.values):\n",
    "                results[colname].fillna(0, inplace=True)"
   ]
  },
  {
   "cell_type": "code",
   "execution_count": 44,
   "id": "e3c5f62a-cfc7-4778-8e19-dba729f4bb94",
   "metadata": {},
   "outputs": [
    {
     "data": {
      "text/markdown": [
       "<h4 id=\"_fillnas\" class=\"doc_header\"><code>_fillnas</code><a href=\"__main__.py#L4\" class=\"source_link\" style=\"float:right\">[source]</a></h4>\n",
       "\n",
       "> <code>_fillnas</code>(**`expanded_aggs`**:`List`\\[`typing.Dict[str, typing.Any]`\\], **`results`**:`DataFrame`, **`aoi`**:`DataFrame`)\n",
       "\n",
       "\n",
       "\n",
       "||Type|Default|Details|\n",
       "|---|---|---|---|\n",
       "|**`expanded_aggs`**|`typing.List[typing.Dict[str, typing.Any]]`||list of expanded aggs|\n",
       "|**`results`**|`DataFrame`||results dataframe to be filled with NAs if flag set|\n",
       "|**`aoi`**|`DataFrame`||aoi dataframe to merge it back to|\n"
      ],
      "text/plain": [
       "<IPython.core.display.Markdown object>"
      ]
     },
     "metadata": {},
     "output_type": "display_data"
    }
   ],
   "source": [
    "show_doc(_fillnas)"
   ]
  },
  {
   "cell_type": "code",
   "execution_count": 45,
   "id": "2cebdcd6-6687-4fd6-a80b-e6b53b376f87",
   "metadata": {},
   "outputs": [],
   "source": [
    "# hide\n",
    "results = pd.DataFrame(data={\"pop_total\": [pd.NA, pd.NA, 5]})\n",
    "aoi = pd.DataFrame(data={\"col1\": [1, 2, 3]})\n",
    "_fillnas([{\"output\": \"pop_total\", \"fillna\": True}], results, aoi)\n",
    "assert results.equals(pd.DataFrame(data={\"pop_total\": [0, 0, 5]}))"
   ]
  },
  {
   "cell_type": "code",
   "execution_count": 46,
   "id": "3411f330-a0ae-4d34-bccd-08fc8ef7d85a",
   "metadata": {},
   "outputs": [],
   "source": [
    "# hide\n",
    "results = pd.DataFrame(data={\"pop_total\": [pd.NA, pd.NA, 5]})\n",
    "aoi = pd.DataFrame(data={\"col1\": [1, 2, 3]})\n",
    "_fillnas([{\"output\": \"pop_total\", \"fillna\": False}], results, aoi)\n",
    "assert results.equals(pd.DataFrame(data={\"pop_total\": [pd.NA, pd.NA, 5]}))"
   ]
  },
  {
   "cell_type": "code",
   "execution_count": 47,
   "id": "9061d2d9-7105-4d4d-abb8-46ec07ef0e22",
   "metadata": {},
   "outputs": [],
   "source": [
    "# hide\n",
    "results = pd.DataFrame(data={\"pop_total_y\": [pd.NA, pd.NA, 5]})\n",
    "aoi = pd.DataFrame(data={\"pop_total\": [1, 2, 3]})\n",
    "_fillnas([{\"output\": \"pop_total\", \"fillna\": True}], results, aoi)\n",
    "assert results.equals(pd.DataFrame(data={\"pop_total_y\": [0, 0, 5]}))"
   ]
  },
  {
   "cell_type": "code",
   "execution_count": 48,
   "id": "26a371db-de01-4bf7-af8f-639b9b279ebd",
   "metadata": {},
   "outputs": [],
   "source": [
    "# export\n",
    "_all_ = [\"_aggregate_stats\"]"
   ]
  },
  {
   "cell_type": "code",
   "execution_count": 49,
   "id": "b1768cc6-e4fa-432d-94a7-12d6fb2bb4dc",
   "metadata": {},
   "outputs": [],
   "source": [
    "# exporti\n",
    "\n",
    "\n",
    "def _aggregate_stats(\n",
    "    aoi: pd.DataFrame,  # Area of interest\n",
    "    groups: pd.core.groupby.DataFrameGroupBy,  # Source data aggregated into groups by GEO_INDEX_NAME\n",
    "    expanded_aggs: List[Dict[str, Any]],  # A list of expanded aggs\n",
    ") -> pd.DataFrame:\n",
    "    \"\"\"Aggregate groups and compute the agg['func'] for agg['column'], map them to the output column in agg['column'] for all the aggs in the expanded_aggs list\n",
    "    and merge them back to aoi dataframe\n",
    "    \"\"\"\n",
    "    agg_dicts = _build_agg_args(expanded_aggs)\n",
    "    aggregates = groups.agg(**agg_dicts)\n",
    "    results = aoi.merge(\n",
    "        aggregates, how=\"left\", on=GEO_INDEX_NAME, suffixes=(None, \"_y\")\n",
    "    )\n",
    "    _fillnas(expanded_aggs, results, aoi)\n",
    "\n",
    "    return results"
   ]
  },
  {
   "cell_type": "code",
   "execution_count": 50,
   "id": "fddbe6ef-bb56-402e-a147-41a0410e6787",
   "metadata": {},
   "outputs": [
    {
     "data": {
      "text/markdown": [
       "<h4 id=\"_aggregate_stats\" class=\"doc_header\"><code>_aggregate_stats</code><a href=\"__main__.py#L4\" class=\"source_link\" style=\"float:right\">[source]</a></h4>\n",
       "\n",
       "> <code>_aggregate_stats</code>(**`aoi`**:`DataFrame`, **`groups`**:`DataFrameGroupBy`, **`expanded_aggs`**:`List`\\[`typing.Dict[str, typing.Any]`\\])\n",
       "\n",
       "Aggregate groups and compute the agg['func'] for agg['column'], map them to the output column in agg['column'] for all the aggs in the expanded_aggs list\n",
       "and merge them back to aoi dataframe\n",
       "\n",
       "||Type|Default|Details|\n",
       "|---|---|---|---|\n",
       "|**`aoi`**|`DataFrame`||Area of interest|\n",
       "|**`groups`**|`DataFrameGroupBy`||Source data aggregated into groups by GEO_INDEX_NAME|\n",
       "|**`expanded_aggs`**|`typing.List[typing.Dict[str, typing.Any]]`||A list of expanded aggs|\n"
      ],
      "text/plain": [
       "<IPython.core.display.Markdown object>"
      ]
     },
     "metadata": {},
     "output_type": "display_data"
    }
   ],
   "source": [
    "show_doc(_aggregate_stats)"
   ]
  },
  {
   "cell_type": "code",
   "execution_count": 51,
   "id": "547c7f6c-b138-46f2-aec6-3f6eacd38d5b",
   "metadata": {},
   "outputs": [],
   "source": [
    "# hide\n",
    "expanded_aggs = [\n",
    "    {\"func\": \"mean\", \"column\": \"population\", \"output\": \"pop_mean\", \"fillna\": True},\n",
    "    {\"func\": \"sum\", \"column\": \"population\", \"output\": \"pop_total\", \"fillna\": True},\n",
    "    {\"func\": \"mean\", \"column\": \"dads\", \"output\": \"dad_mean\", \"fillna\": True},\n",
    "    {\"func\": \"sum\", \"column\": \"dads\", \"output\": \"dad_total\", \"fillna\": True},\n",
    "]\n",
    "aoi = pd.DataFrame(\n",
    "    data={\n",
    "        GEO_INDEX_NAME: [\n",
    "            1,\n",
    "            2,\n",
    "            3,\n",
    "        ],\n",
    "        \"col1\": [\"a\", \"b\", \"c\"],\n",
    "    }\n",
    ")\n",
    "features = pd.DataFrame(\n",
    "    data={\n",
    "        GEO_INDEX_NAME: [1, 1, 1, 2, 2, 2, 3, 3, 3],\n",
    "        \"population\": [1, 2, 3, 4, 5, 6, 7, 8, 9],\n",
    "        \"dads\": [10, 20, 30, 40, 50, 60, pd.NA, pd.NA, pd.NA],\n",
    "    }\n",
    ")\n",
    "groups = features.groupby(GEO_INDEX_NAME)"
   ]
  },
  {
   "cell_type": "code",
   "execution_count": 52,
   "id": "a7235a96-1e4b-4d8d-a128-8a981707a680",
   "metadata": {},
   "outputs": [],
   "source": [
    "# hide\n",
    "assert _aggregate_stats(aoi, groups, expanded_aggs).equals(\n",
    "    pd.DataFrame(\n",
    "        data={\n",
    "            GEO_INDEX_NAME: [1, 2, 3],\n",
    "            \"col1\": [\"a\", \"b\", \"c\"],\n",
    "            \"pop_mean\": [2.0, 5.0, 8.0],\n",
    "            \"pop_total\": [6, 15, 24],\n",
    "            \"dad_mean\": [20.0, 50.0, 0.0],\n",
    "            \"dad_total\": [60, 150, 0],\n",
    "        }\n",
    "    )\n",
    ")"
   ]
  },
  {
   "cell_type": "code",
   "execution_count": 53,
   "id": "4c88f4d2-6a53-475c-85d8-e6701553b1dd",
   "metadata": {},
   "outputs": [],
   "source": [
    "# hide\n",
    "# TODO:\n",
    "# - setup aggregate stats inputs\n",
    "# - show examples of aggregate stats"
   ]
  },
  {
   "cell_type": "markdown",
   "id": "1603c8d9-a700-4d4b-9879-fdc055195f03",
   "metadata": {},
   "source": [
    "### External API"
   ]
  },
  {
   "cell_type": "code",
   "execution_count": 54,
   "id": "ab5241e1-fda3-4dee-88e0-909a2bd7d352",
   "metadata": {},
   "outputs": [],
   "source": [
    "# export\n",
    "\n",
    "\n",
    "def create_zonal_stats(\n",
    "    aoi: gpd.GeoDataFrame,  # Area of interest for which zonal stats are to be computed for\n",
    "    data: gpd.GeoDataFrame,  # Source gdf containing data to compute zonal stats from\n",
    "    aggregations: List[  # List of agg specs, with each agg spec applied to a data column\n",
    "        Dict[str, Any]\n",
    "    ],\n",
    "    overlap_method: str = \"intersects\",  # spatial predicate to used in spatial join of aoi and data [geopandas.sjoin](https://geopandas.org/en/stable/docs/user_guide/mergingdata.html#binary-predicate-joins) for more details\n",
    "    # categorical_column_options: str = None,\n",
    ") -> gpd.GeoDataFrame:\n",
    "    \"\"\"\n",
    "    Create zonal stats for area of interest from data using aggregration operations on data columns.\n",
    "    Returns the same aoi with additional columns containing the computed zonal features.\n",
    "    \"\"\"\n",
    "\n",
    "    fixed_aggs = [_fix_agg(agg) for agg in aggregations]\n",
    "\n",
    "    _validate_aggs(fixed_aggs, data)\n",
    "\n",
    "    # prep for spatial join\n",
    "    aoi, aoi_index_data = _prep_aoi(aoi)\n",
    "\n",
    "    if not data.crs.equals(aoi.crs):\n",
    "        data = data.to_crs(aoi.crs)\n",
    "\n",
    "    # spatial join - broadcast aoi_index to data => features\n",
    "    features = gpd.sjoin(\n",
    "        aoi[[GEO_INDEX_NAME, \"geometry\"]], data, how=\"inner\", predicate=overlap_method\n",
    "    )\n",
    "\n",
    "    # group\n",
    "    groups = features.groupby(GEO_INDEX_NAME)\n",
    "\n",
    "    # apply all aggregations all at once\n",
    "    expanded_aggs = _expand_aggs(fixed_aggs)\n",
    "    results = _aggregate_stats(aoi, groups, expanded_aggs)\n",
    "\n",
    "    # cleanup results\n",
    "    results.drop(labels=GEO_INDEX_NAME, inplace=True, axis=1)\n",
    "    if aoi_index_data is not None:\n",
    "        results[\"index\"] = aoi_index_data\n",
    "\n",
    "    return results"
   ]
  },
  {
   "cell_type": "code",
   "execution_count": 55,
   "id": "e18afd93-2272-40de-b268-ecab52e45b85",
   "metadata": {},
   "outputs": [
    {
     "data": {
      "text/markdown": [
       "<h4 id=\"create_zonal_stats\" class=\"doc_header\"><code>create_zonal_stats</code><a href=\"__main__.py#L4\" class=\"source_link\" style=\"float:right\">[source]</a></h4>\n",
       "\n",
       "> <code>create_zonal_stats</code>(**`aoi`**:`GeoDataFrame`, **`data`**:`GeoDataFrame`, **`aggregations`**:`List`\\[`typing.Dict[str, typing.Any]`\\], **`overlap_method`**:`str`=*`'intersects'`*)\n",
       "\n",
       "Create zonal stats for area of interest from data using aggregration operations on data columns.\n",
       "Returns the same aoi with additional columns containing the computed zonal features.\n",
       "\n",
       "||Type|Default|Details|\n",
       "|---|---|---|---|\n",
       "|**`aoi`**|`GeoDataFrame`||Area of interest for which zonal stats are to be computed for|\n",
       "|**`data`**|`GeoDataFrame`||Source gdf containing data to compute zonal stats from|\n",
       "|**`aggregations`**|`typing.List[typing.Dict[str, typing.Any]]`||List of agg specs, with each agg spec applied to a data column|\n",
       "|**`overlap_method`**|`str`|`intersects`|spatial predicate to used in spatial join of aoi and data [geopandas.sjoin](https://geopandas.org/en/stable/docs/user_guide/mergingdata.html#binary-predicate-joins) for more details|\n"
      ],
      "text/plain": [
       "<IPython.core.display.Markdown object>"
      ]
     },
     "metadata": {},
     "output_type": "display_data"
    }
   ],
   "source": [
    "show_doc(create_zonal_stats)"
   ]
  },
  {
   "cell_type": "code",
   "execution_count": 56,
   "id": "52da8913-bd3a-4f75-925f-345191859754",
   "metadata": {},
   "outputs": [],
   "source": [
    "# hide\n",
    "# setup for create_zonal_stats test\n",
    "# see tests/test_vector_zonal_stats.py\n",
    "def make_simple_aoi():\n",
    "    df = pd.DataFrame(\n",
    "        data={\n",
    "            \"col1\": [1, 2, 3],\n",
    "            \"lat0\": [0.0, 1.0, 2.0],\n",
    "            \"lon0\": [0.0, 0.0, 0.0],\n",
    "            \"lat1\": [0.0, 1.0, 2.0],\n",
    "            \"lon1\": [1.0, 1.0, 1.0],\n",
    "            \"lat2\": [1.0, 2.0, 3.0],\n",
    "            \"lon2\": [1.0, 1.0, 1.0],\n",
    "            \"lat3\": [1.0, 2.0, 3.0],\n",
    "            \"lon3\": [0.0, 0.0, 0.0],\n",
    "        }\n",
    "    )\n",
    "\n",
    "    def square(row):\n",
    "        return Polygon(\n",
    "            (\n",
    "                [\n",
    "                    (row.lat0, row.lon0),\n",
    "                    (row.lat1, row.lon1),\n",
    "                    (row.lat2, row.lon2),\n",
    "                    (row.lat3, row.lon3),\n",
    "                ]\n",
    "            )\n",
    "        )\n",
    "\n",
    "    return gpd.GeoDataFrame(df, geometry=df.apply(square, axis=1), crs=\"EPSG:4326\")\n",
    "\n",
    "\n",
    "def make_simple_data():\n",
    "    df = pd.DataFrame(\n",
    "        data={\n",
    "            \"col1\": [1, 2, 3, 4, 5, 6, 7, 8, 9, 10, 11, 12],\n",
    "            \"lat\": [\n",
    "                0.5,\n",
    "                1.5,\n",
    "                2.5,\n",
    "                0.45,\n",
    "                1.45,\n",
    "                2.45,\n",
    "                0.45,\n",
    "                1.45,\n",
    "                2.45,\n",
    "                0.45,\n",
    "                1.45,\n",
    "                2.45,\n",
    "            ],\n",
    "            \"lon\": [0.5, 0.5, 0.5, 0.5, 0.5, 0.5, 0.45, 0.45, 0.45, 1.45, 1.45, 1.45],\n",
    "        }\n",
    "    )\n",
    "    return gpd.GeoDataFrame(\n",
    "        df,\n",
    "        geometry=df.apply(lambda row: Point(row.lat, row.lon), axis=1),\n",
    "        crs=\"EPSG:4326\",\n",
    "    )\n",
    "\n",
    "\n",
    "simple_aoi = make_simple_aoi()\n",
    "simple_data = make_simple_data()"
   ]
  },
  {
   "cell_type": "code",
   "execution_count": 57,
   "id": "44eb49f7-1fbc-4826-ad21-5b58de87947c",
   "metadata": {},
   "outputs": [
    {
     "data": {
      "text/html": [
       "<div>\n",
       "<style scoped>\n",
       "    .dataframe tbody tr th:only-of-type {\n",
       "        vertical-align: middle;\n",
       "    }\n",
       "\n",
       "    .dataframe tbody tr th {\n",
       "        vertical-align: top;\n",
       "    }\n",
       "\n",
       "    .dataframe thead th {\n",
       "        text-align: right;\n",
       "    }\n",
       "</style>\n",
       "<table border=\"1\" class=\"dataframe\">\n",
       "  <thead>\n",
       "    <tr style=\"text-align: right;\">\n",
       "      <th></th>\n",
       "      <th>col1</th>\n",
       "      <th>lat0</th>\n",
       "      <th>lon0</th>\n",
       "      <th>lat1</th>\n",
       "      <th>lon1</th>\n",
       "      <th>lat2</th>\n",
       "      <th>lon2</th>\n",
       "      <th>lat3</th>\n",
       "      <th>lon3</th>\n",
       "      <th>geometry</th>\n",
       "    </tr>\n",
       "  </thead>\n",
       "  <tbody>\n",
       "    <tr>\n",
       "      <th>0</th>\n",
       "      <td>1</td>\n",
       "      <td>0.0</td>\n",
       "      <td>0.0</td>\n",
       "      <td>0.0</td>\n",
       "      <td>1.0</td>\n",
       "      <td>1.0</td>\n",
       "      <td>1.0</td>\n",
       "      <td>1.0</td>\n",
       "      <td>0.0</td>\n",
       "      <td>POLYGON ((0.00000 0.00000, 0.00000 1.00000, 1....</td>\n",
       "    </tr>\n",
       "    <tr>\n",
       "      <th>1</th>\n",
       "      <td>2</td>\n",
       "      <td>1.0</td>\n",
       "      <td>0.0</td>\n",
       "      <td>1.0</td>\n",
       "      <td>1.0</td>\n",
       "      <td>2.0</td>\n",
       "      <td>1.0</td>\n",
       "      <td>2.0</td>\n",
       "      <td>0.0</td>\n",
       "      <td>POLYGON ((1.00000 0.00000, 1.00000 1.00000, 2....</td>\n",
       "    </tr>\n",
       "    <tr>\n",
       "      <th>2</th>\n",
       "      <td>3</td>\n",
       "      <td>2.0</td>\n",
       "      <td>0.0</td>\n",
       "      <td>2.0</td>\n",
       "      <td>1.0</td>\n",
       "      <td>3.0</td>\n",
       "      <td>1.0</td>\n",
       "      <td>3.0</td>\n",
       "      <td>0.0</td>\n",
       "      <td>POLYGON ((2.00000 0.00000, 2.00000 1.00000, 3....</td>\n",
       "    </tr>\n",
       "  </tbody>\n",
       "</table>\n",
       "</div>"
      ],
      "text/plain": [
       "   col1  lat0  lon0  lat1  lon1  lat2  lon2  lat3  lon3  \\\n",
       "0     1   0.0   0.0   0.0   1.0   1.0   1.0   1.0   0.0   \n",
       "1     2   1.0   0.0   1.0   1.0   2.0   1.0   2.0   0.0   \n",
       "2     3   2.0   0.0   2.0   1.0   3.0   1.0   3.0   0.0   \n",
       "\n",
       "                                            geometry  \n",
       "0  POLYGON ((0.00000 0.00000, 0.00000 1.00000, 1....  \n",
       "1  POLYGON ((1.00000 0.00000, 1.00000 1.00000, 2....  \n",
       "2  POLYGON ((2.00000 0.00000, 2.00000 1.00000, 3....  "
      ]
     },
     "execution_count": 57,
     "metadata": {},
     "output_type": "execute_result"
    }
   ],
   "source": [
    "simple_aoi  # sample aoi"
   ]
  },
  {
   "cell_type": "code",
   "execution_count": 58,
   "id": "ff69df0b-0222-4450-9fc3-f4107c5758af",
   "metadata": {},
   "outputs": [
    {
     "data": {
      "text/html": [
       "<div>\n",
       "<style scoped>\n",
       "    .dataframe tbody tr th:only-of-type {\n",
       "        vertical-align: middle;\n",
       "    }\n",
       "\n",
       "    .dataframe tbody tr th {\n",
       "        vertical-align: top;\n",
       "    }\n",
       "\n",
       "    .dataframe thead th {\n",
       "        text-align: right;\n",
       "    }\n",
       "</style>\n",
       "<table border=\"1\" class=\"dataframe\">\n",
       "  <thead>\n",
       "    <tr style=\"text-align: right;\">\n",
       "      <th></th>\n",
       "      <th>col1</th>\n",
       "      <th>lat</th>\n",
       "      <th>lon</th>\n",
       "      <th>geometry</th>\n",
       "    </tr>\n",
       "  </thead>\n",
       "  <tbody>\n",
       "    <tr>\n",
       "      <th>0</th>\n",
       "      <td>1</td>\n",
       "      <td>0.50</td>\n",
       "      <td>0.50</td>\n",
       "      <td>POINT (0.50000 0.50000)</td>\n",
       "    </tr>\n",
       "    <tr>\n",
       "      <th>1</th>\n",
       "      <td>2</td>\n",
       "      <td>1.50</td>\n",
       "      <td>0.50</td>\n",
       "      <td>POINT (1.50000 0.50000)</td>\n",
       "    </tr>\n",
       "    <tr>\n",
       "      <th>2</th>\n",
       "      <td>3</td>\n",
       "      <td>2.50</td>\n",
       "      <td>0.50</td>\n",
       "      <td>POINT (2.50000 0.50000)</td>\n",
       "    </tr>\n",
       "    <tr>\n",
       "      <th>3</th>\n",
       "      <td>4</td>\n",
       "      <td>0.45</td>\n",
       "      <td>0.50</td>\n",
       "      <td>POINT (0.45000 0.50000)</td>\n",
       "    </tr>\n",
       "    <tr>\n",
       "      <th>4</th>\n",
       "      <td>5</td>\n",
       "      <td>1.45</td>\n",
       "      <td>0.50</td>\n",
       "      <td>POINT (1.45000 0.50000)</td>\n",
       "    </tr>\n",
       "    <tr>\n",
       "      <th>5</th>\n",
       "      <td>6</td>\n",
       "      <td>2.45</td>\n",
       "      <td>0.50</td>\n",
       "      <td>POINT (2.45000 0.50000)</td>\n",
       "    </tr>\n",
       "    <tr>\n",
       "      <th>6</th>\n",
       "      <td>7</td>\n",
       "      <td>0.45</td>\n",
       "      <td>0.45</td>\n",
       "      <td>POINT (0.45000 0.45000)</td>\n",
       "    </tr>\n",
       "    <tr>\n",
       "      <th>7</th>\n",
       "      <td>8</td>\n",
       "      <td>1.45</td>\n",
       "      <td>0.45</td>\n",
       "      <td>POINT (1.45000 0.45000)</td>\n",
       "    </tr>\n",
       "    <tr>\n",
       "      <th>8</th>\n",
       "      <td>9</td>\n",
       "      <td>2.45</td>\n",
       "      <td>0.45</td>\n",
       "      <td>POINT (2.45000 0.45000)</td>\n",
       "    </tr>\n",
       "    <tr>\n",
       "      <th>9</th>\n",
       "      <td>10</td>\n",
       "      <td>0.45</td>\n",
       "      <td>1.45</td>\n",
       "      <td>POINT (0.45000 1.45000)</td>\n",
       "    </tr>\n",
       "    <tr>\n",
       "      <th>10</th>\n",
       "      <td>11</td>\n",
       "      <td>1.45</td>\n",
       "      <td>1.45</td>\n",
       "      <td>POINT (1.45000 1.45000)</td>\n",
       "    </tr>\n",
       "    <tr>\n",
       "      <th>11</th>\n",
       "      <td>12</td>\n",
       "      <td>2.45</td>\n",
       "      <td>1.45</td>\n",
       "      <td>POINT (2.45000 1.45000)</td>\n",
       "    </tr>\n",
       "  </tbody>\n",
       "</table>\n",
       "</div>"
      ],
      "text/plain": [
       "    col1   lat   lon                 geometry\n",
       "0      1  0.50  0.50  POINT (0.50000 0.50000)\n",
       "1      2  1.50  0.50  POINT (1.50000 0.50000)\n",
       "2      3  2.50  0.50  POINT (2.50000 0.50000)\n",
       "3      4  0.45  0.50  POINT (0.45000 0.50000)\n",
       "4      5  1.45  0.50  POINT (1.45000 0.50000)\n",
       "5      6  2.45  0.50  POINT (2.45000 0.50000)\n",
       "6      7  0.45  0.45  POINT (0.45000 0.45000)\n",
       "7      8  1.45  0.45  POINT (1.45000 0.45000)\n",
       "8      9  2.45  0.45  POINT (2.45000 0.45000)\n",
       "9     10  0.45  1.45  POINT (0.45000 1.45000)\n",
       "10    11  1.45  1.45  POINT (1.45000 1.45000)\n",
       "11    12  2.45  1.45  POINT (2.45000 1.45000)"
      ]
     },
     "execution_count": 58,
     "metadata": {},
     "output_type": "execute_result"
    }
   ],
   "source": [
    "simple_data  # sample data"
   ]
  },
  {
   "cell_type": "code",
   "execution_count": 59,
   "id": "7294b015-6856-4d03-99c8-adc9a98dd70d",
   "metadata": {},
   "outputs": [
    {
     "data": {
      "image/png": "[encoded data removed]",
      "text/plain": [
       "<Figure size 432x288 with 1 Axes>"
      ]
     },
     "metadata": {
      "needs_background": "light"
     },
     "output_type": "display_data"
    }
   ],
   "source": [
    "ax = simple_aoi.plot(\n",
    "    ax=plt.axes(), facecolor=\"none\", edgecolor=[\"red\", \"blue\", \"green\"]\n",
    ")\n",
    "ax = simple_data.plot(ax=ax, color=\"purple\")"
   ]
  },
  {
   "cell_type": "code",
   "execution_count": 60,
   "id": "aa58ab6f-d227-4c8f-b965-2fd25822f13a",
   "metadata": {},
   "outputs": [
    {
     "data": {
      "text/html": [
       "<div>\n",
       "<style scoped>\n",
       "    .dataframe tbody tr th:only-of-type {\n",
       "        vertical-align: middle;\n",
       "    }\n",
       "\n",
       "    .dataframe tbody tr th {\n",
       "        vertical-align: top;\n",
       "    }\n",
       "\n",
       "    .dataframe thead th {\n",
       "        text-align: right;\n",
       "    }\n",
       "</style>\n",
       "<table border=\"1\" class=\"dataframe\">\n",
       "  <thead>\n",
       "    <tr style=\"text-align: right;\">\n",
       "      <th></th>\n",
       "      <th>col1</th>\n",
       "      <th>lat0</th>\n",
       "      <th>lon0</th>\n",
       "      <th>lat1</th>\n",
       "      <th>lon1</th>\n",
       "      <th>lat2</th>\n",
       "      <th>lon2</th>\n",
       "      <th>lat3</th>\n",
       "      <th>lon3</th>\n",
       "      <th>geometry</th>\n",
       "      <th>index_count</th>\n",
       "    </tr>\n",
       "  </thead>\n",
       "  <tbody>\n",
       "    <tr>\n",
       "      <th>0</th>\n",
       "      <td>1</td>\n",
       "      <td>0.0</td>\n",
       "      <td>0.0</td>\n",
       "      <td>0.0</td>\n",
       "      <td>1.0</td>\n",
       "      <td>1.0</td>\n",
       "      <td>1.0</td>\n",
       "      <td>1.0</td>\n",
       "      <td>0.0</td>\n",
       "      <td>POLYGON ((0.00000 0.00000, 0.00000 1.00000, 1....</td>\n",
       "      <td>3</td>\n",
       "    </tr>\n",
       "    <tr>\n",
       "      <th>1</th>\n",
       "      <td>2</td>\n",
       "      <td>1.0</td>\n",
       "      <td>0.0</td>\n",
       "      <td>1.0</td>\n",
       "      <td>1.0</td>\n",
       "      <td>2.0</td>\n",
       "      <td>1.0</td>\n",
       "      <td>2.0</td>\n",
       "      <td>0.0</td>\n",
       "      <td>POLYGON ((1.00000 0.00000, 1.00000 1.00000, 2....</td>\n",
       "      <td>3</td>\n",
       "    </tr>\n",
       "    <tr>\n",
       "      <th>2</th>\n",
       "      <td>3</td>\n",
       "      <td>2.0</td>\n",
       "      <td>0.0</td>\n",
       "      <td>2.0</td>\n",
       "      <td>1.0</td>\n",
       "      <td>3.0</td>\n",
       "      <td>1.0</td>\n",
       "      <td>3.0</td>\n",
       "      <td>0.0</td>\n",
       "      <td>POLYGON ((2.00000 0.00000, 2.00000 1.00000, 3....</td>\n",
       "      <td>3</td>\n",
       "    </tr>\n",
       "  </tbody>\n",
       "</table>\n",
       "</div>"
      ],
      "text/plain": [
       "   col1  lat0  lon0  lat1  lon1  lat2  lon2  lat3  lon3  \\\n",
       "0     1   0.0   0.0   0.0   1.0   1.0   1.0   1.0   0.0   \n",
       "1     2   1.0   0.0   1.0   1.0   2.0   1.0   2.0   0.0   \n",
       "2     3   2.0   0.0   2.0   1.0   3.0   1.0   3.0   0.0   \n",
       "\n",
       "                                            geometry  index_count  \n",
       "0  POLYGON ((0.00000 0.00000, 0.00000 1.00000, 1....            3  \n",
       "1  POLYGON ((1.00000 0.00000, 1.00000 1.00000, 2....            3  \n",
       "2  POLYGON ((2.00000 0.00000, 2.00000 1.00000, 3....            3  "
      ]
     },
     "execution_count": 60,
     "metadata": {},
     "output_type": "execute_result"
    }
   ],
   "source": [
    "results = create_zonal_stats(simple_aoi, simple_data, aggregations=[{\"func\": \"count\"}])\n",
    "results"
   ]
  },
  {
   "cell_type": "code",
   "execution_count": 61,
   "id": "d13e6690-b5be-4c7c-9472-02f688e47815",
   "metadata": {},
   "outputs": [],
   "source": [
    "# hide\n",
    "assert any(\n",
    "    item in list(results.columns.values)\n",
    "    for item in [*list(simple_aoi.columns.values), \"index_count\"]\n",
    ")\n",
    "assert results.index_count.sum() == 9\n",
    "assert results.iloc[0].index_count == 3"
   ]
  },
  {
   "cell_type": "code",
   "execution_count": 62,
   "id": "4fb524e8-80e7-4a64-ad71-6b438043ffd2",
   "metadata": {},
   "outputs": [
    {
     "name": "stdout",
     "output_type": "stream",
     "text": [
      "Converted 02_vector_zonal_stats.ipynb.\n"
     ]
    }
   ],
   "source": [
    "# hide\n",
    "# no_test\n",
    "from nbdev.export import notebook2script\n",
    "\n",
    "if not IN_COLAB:\n",
    "    notebook2script(\"02_vector_zonal_stats.ipynb\")"
   ]
  }
 ],
 "metadata": {
  "kernelspec": {
   "display_name": "Python 3",
   "language": "python",
   "name": "python3"
  },
  "language_info": {
   "codemirror_mode": {
    "name": "ipython",
    "version": 3
   },
   "file_extension": ".py",
   "mimetype": "text/x-python",
   "name": "python",
   "nbconvert_exporter": "python",
   "pygments_lexer": "ipython3",
   "version": "3.7.12"
  }
 },
 "nbformat": 4,
 "nbformat_minor": 5
}
