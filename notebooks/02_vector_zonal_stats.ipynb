{
 "cells": [
  {
   "cell_type": "code",
   "execution_count": 1,
   "id": "5e26c44d-f73d-4a76-8000-ff483f7f4297",
   "metadata": {},
   "outputs": [],
   "source": [
    "# default_exp vector_zonal_stats"
   ]
  },
  {
   "cell_type": "code",
   "execution_count": 2,
   "id": "451a4b39-6d18-47a8-9bf9-291114aaa8ad",
   "metadata": {},
   "outputs": [],
   "source": [
    "# hide\n",
    "# no_test\n",
    "! [ -e /content ] && pip install -Uqq git+https://github.com/thinkingmachines/geowrangler.git"
   ]
  },
  {
   "cell_type": "code",
   "execution_count": 3,
   "id": "8daa0f3a-d80c-4030-bce8-d437cdb313ea",
   "metadata": {},
   "outputs": [],
   "source": [
    "# hide\n",
    "# no_test\n",
    "%reload_ext autoreload\n",
    "%autoreload 2\n",
    "%matplotlib inline"
   ]
  },
  {
   "cell_type": "code",
   "execution_count": 4,
   "id": "0d4c51d1-9abf-47f5-ba0d-aed39bd8bbe4",
   "metadata": {},
   "outputs": [],
   "source": [
    "# hide\n",
    "# no_test\n",
    "# conditionally load nb_black cell magic\n",
    "import sys\n",
    "\n",
    "if \"google.colab\" not in sys.modules:\n",
    "    from IPython import get_ipython\n",
    "\n",
    "    ipython = get_ipython()\n",
    "    ipython.magic(\"reload_ext lab_black\")"
   ]
  },
  {
   "cell_type": "markdown",
   "id": "f50c0e84-e23d-4fcc-a8c6-3e7a1f138c3e",
   "metadata": {},
   "source": [
    "# Vector Zonal Stats\n",
    "\n",
    "> generate vector zonal stat features"
   ]
  },
  {
   "cell_type": "markdown",
   "id": "3e1429ef-62d2-4c36-b747-8a3d656a18d0",
   "metadata": {},
   "source": [
    "[![Open in Colab](https://colab.research.google.com/assets/colab-badge.svg)](https://colab.research.google.com/github/thinkingmachines/geowrangler/blob/master/notebooks/02_vector_zonal_stats.ipynb)"
   ]
  },
  {
   "cell_type": "code",
   "execution_count": 5,
   "id": "225450a3-09c9-48e3-9d87-606c28318351",
   "metadata": {},
   "outputs": [
    {
     "name": "stderr",
     "output_type": "stream",
     "text": [
      "/home/butchtm/work/ai4d/geowrangler/.venv/lib/python3.7/site-packages/geopandas/_compat.py:115: UserWarning: The Shapely GEOS version (3.10.2-CAPI-1.16.0) is incompatible with the GEOS version PyGEOS was compiled with (3.10.1-CAPI-1.16.0). Conversions between both will be slow.\n",
      "  shapely_geos_version, geos_capi_version_string\n"
     ]
    }
   ],
   "source": [
    "# exporti\n",
    "import geopandas as gpd\n",
    "import pandas as pd"
   ]
  },
  {
   "cell_type": "code",
   "execution_count": 32,
   "id": "7e915eb6-5270-4022-abbb-8e061ce7bcb9",
   "metadata": {},
   "outputs": [],
   "source": [
    "# exports\n",
    "def fix_agg(agg: {}) -> {}:  # A dict containing at the minimum a 'func' key\n",
    "    \"\"\"\n",
    "    Validate and (possibly) Fix an aggregation specification\n",
    "    and outputs a dict containing the following keys:\n",
    "    'func': a list of aggregation functions (should be a valid 'agg' function)\n",
    "    'column': a column to apply the aggregation functions (should be a valid numeric column in data)\n",
    "    'output': the names of the new columns containing the application of the aggregation functions (default: concat column + '_' + func)\n",
    "    'fillna': boolean list whether to replace new columns with 'NA' values  with 0 (default: True)\n",
    "    \"\"\"\n",
    "    if \"func\" not in agg:\n",
    "        raise ValueError(f\"Missing key 'func' for agg {agg}\")\n",
    "\n",
    "    if type(agg[\"func\"]) == str:\n",
    "        agg[\"func\"] = [agg[\"func\"]]\n",
    "\n",
    "    # optional column, default to index count\n",
    "    if \"column\" not in agg:\n",
    "        agg[\"column\"] = \"aoi_index\"\n",
    "\n",
    "    # check matching output\n",
    "    if \"output\" not in agg:\n",
    "        agg[\"output\"] = [f'{agg[\"column\"]}_{f}' for f in agg[\"func\"]]\n",
    "    if type(agg[\"output\"]) == str:\n",
    "        agg[\"output\"] = [agg[\"output\"]]\n",
    "    if len(agg[\"output\"]) != len(agg[\"func\"]):\n",
    "        raise ValueError(\n",
    "            f\"output list {agg['output']} doesn't match func list {agg['func']}\"\n",
    "        )\n",
    "\n",
    "    # check matching fillna\n",
    "    if \"fillna\" not in agg:\n",
    "        agg[\"fillna\"] = [True for o in agg[\"func\"]]\n",
    "\n",
    "    if len(agg[\"fillna\"]) != len(agg[\"func\"]):\n",
    "        raise ValueError(\n",
    "            f\"fillna list {agg['fillna']} doesn't match func list {agg['func']}\"\n",
    "        )\n",
    "\n",
    "    return agg"
   ]
  },
  {
   "cell_type": "code",
   "execution_count": 7,
   "id": "b0d6bfcd-acf9-4227-8599-68344838d773",
   "metadata": {},
   "outputs": [],
   "source": [
    "assert fix_agg({\"func\": [\"sum\", \"max\", \"min\", \"mean\"], \"column\": \"population\"}) == {\n",
    "    \"func\": [\"sum\", \"max\", \"min\", \"mean\"],\n",
    "    \"column\": \"population\",\n",
    "    \"output\": [\"population_sum\", \"population_max\", \"population_min\", \"population_mean\"],\n",
    "    \"fillna\": [True, True, True, True],\n",
    "}"
   ]
  },
  {
   "cell_type": "code",
   "execution_count": 8,
   "id": "be038173-897c-4542-baf4-de8650680912",
   "metadata": {},
   "outputs": [],
   "source": [
    "assert fix_agg({\"func\": \"count\"}) == {\n",
    "    \"func\": [\"count\"],\n",
    "    \"column\": \"aoi_index\",\n",
    "    \"output\": [\"aoi_index_count\"],\n",
    "    \"fillna\": [True],\n",
    "}"
   ]
  },
  {
   "cell_type": "code",
   "execution_count": 9,
   "id": "a9f5836e-15fb-40f0-a4ef-76fc54afb903",
   "metadata": {},
   "outputs": [],
   "source": [
    "assert fix_agg(\n",
    "    {\n",
    "        \"func\": [\"sum\", \"max\", \"min\", \"mean\", \"std\"],\n",
    "        \"column\": \"population\",\n",
    "        \"output\": [\"pop_sum\", \"pop_max\", \"pop_min\", \"avg_pop\", \"pop_std_dev\"],\n",
    "        \"fillna\": [True, True, True, True, False],\n",
    "    }\n",
    ") == {\n",
    "    \"func\": [\"sum\", \"max\", \"min\", \"mean\", \"std\"],\n",
    "    \"column\": \"population\",\n",
    "    \"output\": [\"pop_sum\", \"pop_max\", \"pop_min\", \"avg_pop\", \"pop_std_dev\"],\n",
    "    \"fillna\": [True, True, True, True, False],\n",
    "}"
   ]
  },
  {
   "cell_type": "code",
   "execution_count": 10,
   "id": "ee2ba37c-e5b0-4989-abe4-2c7090899b09",
   "metadata": {},
   "outputs": [],
   "source": [
    "assert fix_agg({\"func\": \"count\"}) == {\n",
    "    \"func\": [\"count\"],\n",
    "    \"column\": \"aoi_index\",\n",
    "    \"output\": [\"aoi_index_count\"],\n",
    "    \"fillna\": [True],\n",
    "}"
   ]
  },
  {
   "cell_type": "code",
   "execution_count": 11,
   "id": "f135564a-ddfe-4c62-af6a-986096624f29",
   "metadata": {
    "tags": []
   },
   "outputs": [],
   "source": [
    "try:\n",
    "    fix_agg({})\n",
    "    threw_exception = False\n",
    "except ValueError as e:\n",
    "    threw_exception = True\n",
    "    assert e.args[0] == \"Missing key 'func' for agg {}\"\n",
    "assert threw_exception"
   ]
  },
  {
   "cell_type": "code",
   "execution_count": 12,
   "id": "1dacd545-4e08-40df-9313-f6de18e05e80",
   "metadata": {
    "tags": []
   },
   "outputs": [],
   "source": [
    "try:\n",
    "    fix_agg({\"func\": [\"mean\", \"sum\"], \"column\": \"population\", \"output\": [\"pop_mean\"]})\n",
    "    threw_exception = False\n",
    "except ValueError as e:\n",
    "    threw_exception = True\n",
    "    assert (\n",
    "        e.args[0] == \"output list ['pop_mean'] doesn't match func list ['mean', 'sum']\"\n",
    "    )\n",
    "assert threw_exception"
   ]
  },
  {
   "cell_type": "code",
   "execution_count": 13,
   "id": "5d7315a6-42a7-4cfa-87b1-b74917254cf3",
   "metadata": {},
   "outputs": [],
   "source": [
    "# TODO - more tests for validating agg"
   ]
  },
  {
   "cell_type": "code",
   "execution_count": 33,
   "id": "a9dea21e-fbc9-4121-9ad0-0f3d08f05e3a",
   "metadata": {},
   "outputs": [],
   "source": [
    "# export\n",
    "def prep_aoi(aoi: gpd.GeoDataFrame) -> gpd.GeoDataFrame:  # Area of interest\n",
    "    \"\"\"\n",
    "    prepare aoi for spatial join\n",
    "      - split off any existing columns named index and aoi_index and drop them from aoi\n",
    "      - create a column 'aoi_index' from aoi index\n",
    "    \"\"\"\n",
    "    # prep for spatial join\n",
    "    aoi = aoi.copy()\n",
    "\n",
    "    # handle existing col named 'index'\n",
    "\n",
    "    aoi_index_data = None\n",
    "    if \"index\" in list(aoi.columns.values):\n",
    "        aoi_index_data = aoi[\"index\"]\n",
    "        aoi.drop(labels=\"index\", inplace=True, axis=1)\n",
    "\n",
    "    # handle existing col named 'aoi_index'\n",
    "\n",
    "    aoi_col_data = None\n",
    "    if \"aoi_index\" in list(aoi.columns.values):\n",
    "        aoi_col_data = aoi[\"aoi_index\"]\n",
    "        aoi.drop(labels=\"aoi_index\", inplace=True, axis=1)\n",
    "\n",
    "    # create index col for broadcast to features\n",
    "    aoi.reset_index(level=0, inplace=True)\n",
    "    aoi.rename(columns={\"index\": \"aoi_index\"}, inplace=True)\n",
    "    return aoi, aoi_index_data, aoi_col_data"
   ]
  },
  {
   "cell_type": "code",
   "execution_count": 15,
   "id": "6516b59c-8451-4e99-9154-12739e5232ea",
   "metadata": {},
   "outputs": [],
   "source": [
    "# TODO - add tests\n",
    "# - show addition of aoi_index\n",
    "# - show split if existing column index\n",
    "# - show split if existing column aoi_index"
   ]
  },
  {
   "cell_type": "code",
   "execution_count": 35,
   "id": "6d1a5358-3e90-4217-b83b-06b785cc5f8e",
   "metadata": {},
   "outputs": [],
   "source": [
    "# export\n",
    "\n",
    "\n",
    "def aggregate_stats(\n",
    "    aoi: gpd.GeoDataFrame,  # Area of interest\n",
    "    groups: pd.core.groupby.DataFrameGroupBy,  # data aggregated into groups by 'aoi_index'\n",
    "    agg: {},  # aggregation to be applied for a given column\n",
    ") -> gpd.GeoDataFrame:\n",
    "    \"\"\"Aggregate groups and compute agg functions in agg['func'] for agg['column'], map them to output columns in agg['column']\n",
    "    and merge them back to aoi\n",
    "    \"\"\"\n",
    "    aggregates = groups[agg[\"column\"]].agg(agg[\"func\"])\n",
    "    renames = {k: v for k, v in zip(agg[\"func\"], agg[\"output\"])}\n",
    "    aggregates.rename(columns=renames, inplace=True)\n",
    "    results = aoi.merge(aggregates, how=\"left\", on=\"aoi_index\", suffixes=(None, \"_y\"))\n",
    "\n",
    "    return results"
   ]
  },
  {
   "cell_type": "code",
   "execution_count": 17,
   "id": "4c88f4d2-6a53-475c-85d8-e6701553b1dd",
   "metadata": {},
   "outputs": [],
   "source": [
    "# TODO:\n",
    "# - setup aggregate stats inputs\n",
    "# - show examples of aggregate stats"
   ]
  },
  {
   "cell_type": "code",
   "execution_count": 36,
   "id": "ab5241e1-fda3-4dee-88e0-909a2bd7d352",
   "metadata": {},
   "outputs": [],
   "source": [
    "# export\n",
    "\n",
    "\n",
    "def create_zonal_stats(\n",
    "    aoi: gpd.GeoDataFrame,  # Area of interest for which zonal stats are to be computed for\n",
    "    data: gpd.GeoDataFrame,  # Source gdf containing data to compute zonal stats from\n",
    "    # data_type: str\n",
    "    aggregations: [],  # a list of aggregation operations, with each agg applied to a column\n",
    "    overlap_method: str = \"intersects\",  # spatial predicate to used in spatial join of aoi and data\n",
    "    # categorical_column_options: str = None,\n",
    ") -> gpd.GeoDataFrame:\n",
    "    \"\"\"\n",
    "    Create zonal stats for area of interest from data using aggregration operations on data columns.\n",
    "    Returns the same aoi with additional columns containing the computed zonal features.\n",
    "    \"\"\"\n",
    "    # make data crs == aoi crs\n",
    "    if not data.crs.equals(aoi.crs):\n",
    "        data = data.to_crs(aoi.crs)\n",
    "\n",
    "    # prep for spatial join\n",
    "    aoi, aoi_index_data, aoi_col_data = prep_aoi(aoi)\n",
    "\n",
    "    # spatial join - broadcast aoi_index to data => features\n",
    "    features = gpd.sjoin(\n",
    "        aoi[[\"aoi_index\", \"geometry\"]], data, how=\"inner\", predicate=overlap_method\n",
    "    )\n",
    "\n",
    "    # group\n",
    "    groups = features.groupby(\"aoi_index\")\n",
    "    results = aoi\n",
    "\n",
    "    # apply aggregations one column at a time\n",
    "    for agg in aggregations:\n",
    "        agg = fix_agg(agg)\n",
    "        results = aggregate_stats(results, groups, agg)\n",
    "\n",
    "    # cleanup results\n",
    "    results.drop(labels=\"aoi_index\", inplace=True, axis=1)\n",
    "    if aoi_index_data:\n",
    "        results[\"index\"] = aoi_index_data\n",
    "    if aoi_col_data:\n",
    "        results[\"aoi_index\"] = aoi_col_data\n",
    "\n",
    "    return results"
   ]
  },
  {
   "cell_type": "markdown",
   "id": "b4642973-c7fa-4fab-b7dd-7cd3cbe47d62",
   "metadata": {
    "tags": []
   },
   "source": [
    "#### use case 1 - pois count \n",
    "* input: \n",
    "    - aoi - region3 geometry (geom_type - polygon, multipolygon)\n",
    "    - data - pois (geom_type - points) \n",
    "    - data_type: 'individual_pois'\n",
    "    - overlap_method = 'intersect'?\n",
    "    - aggregations:\n",
    "        * count \n",
    "            - number of pois within aoi\n",
    "            - output column name\n",
    "        "
   ]
  },
  {
   "cell_type": "code",
   "execution_count": 19,
   "id": "47ce906d-1877-4b9d-8333-e85e35452d71",
   "metadata": {
    "tags": []
   },
   "outputs": [
    {
     "name": "stdout",
     "output_type": "stream",
     "text": [
      "CPU times: user 3.03 s, sys: 509 ms, total: 3.54 s\n",
      "Wall time: 3.53 s\n"
     ]
    }
   ],
   "source": [
    "%%time\n",
    "# area multipolygons for regions 3,4,ncr of the philippines\n",
    "aoi = gpd.read_file(\"../data/region34ncr_admin.geojson\")"
   ]
  },
  {
   "cell_type": "code",
   "execution_count": 20,
   "id": "195d968b-7dda-4ab1-b278-d5d4f7bca583",
   "metadata": {
    "tags": []
   },
   "outputs": [
    {
     "name": "stdout",
     "output_type": "stream",
     "text": [
      "CPU times: user 486 ms, sys: 20.8 ms, total: 507 ms\n",
      "Wall time: 505 ms\n"
     ]
    }
   ],
   "source": [
    "%%time\n",
    "# raw pois from osm data\n",
    "raw_data = gpd.read_file(\"../data/ph_pois.geojson\")"
   ]
  },
  {
   "cell_type": "code",
   "execution_count": 21,
   "id": "d3fea5b7-b5f6-4480-975c-128dc8c37ffa",
   "metadata": {},
   "outputs": [],
   "source": [
    "attractions = raw_data[raw_data.fclass == \"attraction\"]"
   ]
  },
  {
   "cell_type": "code",
   "execution_count": 22,
   "id": "b074ff0b-fc5a-4651-85c1-a1bc2d8def13",
   "metadata": {},
   "outputs": [
    {
     "data": {
      "text/html": [
       "<div>\n",
       "<style scoped>\n",
       "    .dataframe tbody tr th:only-of-type {\n",
       "        vertical-align: middle;\n",
       "    }\n",
       "\n",
       "    .dataframe tbody tr th {\n",
       "        vertical-align: top;\n",
       "    }\n",
       "\n",
       "    .dataframe thead th {\n",
       "        text-align: right;\n",
       "    }\n",
       "</style>\n",
       "<table border=\"1\" class=\"dataframe\">\n",
       "  <thead>\n",
       "    <tr style=\"text-align: right;\">\n",
       "      <th></th>\n",
       "      <th>Reg_Code</th>\n",
       "      <th>Reg_Name</th>\n",
       "      <th>Reg_Alt_Name</th>\n",
       "      <th>geometry</th>\n",
       "      <th>aoi_index_count</th>\n",
       "    </tr>\n",
       "  </thead>\n",
       "  <tbody>\n",
       "    <tr>\n",
       "      <th>0</th>\n",
       "      <td>130000000</td>\n",
       "      <td>National Capital Region</td>\n",
       "      <td>NCR</td>\n",
       "      <td>MULTIPOLYGON (((121.03842 14.78525, 121.03815 ...</td>\n",
       "      <td>136</td>\n",
       "    </tr>\n",
       "    <tr>\n",
       "      <th>1</th>\n",
       "      <td>030000000</td>\n",
       "      <td>Region III</td>\n",
       "      <td>Central Luzon</td>\n",
       "      <td>MULTIPOLYGON (((120.11687 14.76309, 120.11684 ...</td>\n",
       "      <td>205</td>\n",
       "    </tr>\n",
       "    <tr>\n",
       "      <th>2</th>\n",
       "      <td>040000000</td>\n",
       "      <td>Region IV-A</td>\n",
       "      <td>Calabarzon</td>\n",
       "      <td>MULTIPOLYGON (((122.72165 13.36485, 122.72143 ...</td>\n",
       "      <td>312</td>\n",
       "    </tr>\n",
       "  </tbody>\n",
       "</table>\n",
       "</div>"
      ],
      "text/plain": [
       "    Reg_Code                 Reg_Name   Reg_Alt_Name  \\\n",
       "0  130000000  National Capital Region            NCR   \n",
       "1  030000000               Region III  Central Luzon   \n",
       "2  040000000              Region IV-A     Calabarzon   \n",
       "\n",
       "                                            geometry  aoi_index_count  \n",
       "0  MULTIPOLYGON (((121.03842 14.78525, 121.03815 ...              136  \n",
       "1  MULTIPOLYGON (((120.11687 14.76309, 120.11684 ...              205  \n",
       "2  MULTIPOLYGON (((122.72165 13.36485, 122.72143 ...              312  "
      ]
     },
     "execution_count": 22,
     "metadata": {},
     "output_type": "execute_result"
    }
   ],
   "source": [
    "aoi_attr = create_zonal_stats(aoi, attractions, aggregations=[{\"func\": \"count\"}])"
   ]
  },
  {
   "cell_type": "code",
   "execution_count": 23,
   "id": "3e366acc-eca9-4548-bdba-e7a2774eaaa9",
   "metadata": {},
   "outputs": [],
   "source": [
    "assert [*list(aoi.columns.values), \"aoi_index_count\"] == list(aoi_attr.columns.values)"
   ]
  },
  {
   "cell_type": "code",
   "execution_count": 24,
   "id": "3538bf00-0654-4009-8e15-200847336e38",
   "metadata": {
    "tags": []
   },
   "outputs": [
    {
     "data": {
      "text/plain": [
       "True"
      ]
     },
     "execution_count": 24,
     "metadata": {},
     "output_type": "execute_result"
    }
   ],
   "source": [
    "len(aoi_attr) == len(aoi)"
   ]
  },
  {
   "cell_type": "code",
   "execution_count": 25,
   "id": "294be1b3-b73d-4e5e-a317-d000e6928397",
   "metadata": {},
   "outputs": [],
   "source": [
    "assert aoi_attr.drop(\"aoi_index_count\", axis=1).equals(aoi)"
   ]
  },
  {
   "cell_type": "code",
   "execution_count": 26,
   "id": "d9ea75cb-4422-4074-a513-e74b0f77f287",
   "metadata": {},
   "outputs": [],
   "source": [
    "assert [136, 205, 312] == aoi_attr[[\"aoi_index_count\"]].values.flatten().tolist()"
   ]
  },
  {
   "cell_type": "code",
   "execution_count": 30,
   "id": "71f47902-45fd-4df8-8dd7-57a68c469fa7",
   "metadata": {},
   "outputs": [
    {
     "name": "stdout",
     "output_type": "stream",
     "text": [
      "CPU times: user 126 ms, sys: 0 ns, total: 126 ms\n",
      "Wall time: 124 ms\n"
     ]
    }
   ],
   "source": [
    "%%time\n",
    "aoi_attr = create_zonal_stats(\n",
    "    aoi, attractions, aggregations=[{\"func\": \"count\", \"output\": \"attractions\"}]\n",
    ")"
   ]
  },
  {
   "cell_type": "code",
   "execution_count": 29,
   "id": "d94954a0-5c5d-4b81-8b59-05fc6317c66b",
   "metadata": {},
   "outputs": [
    {
     "data": {
      "text/html": [
       "<div>\n",
       "<style scoped>\n",
       "    .dataframe tbody tr th:only-of-type {\n",
       "        vertical-align: middle;\n",
       "    }\n",
       "\n",
       "    .dataframe tbody tr th {\n",
       "        vertical-align: top;\n",
       "    }\n",
       "\n",
       "    .dataframe thead th {\n",
       "        text-align: right;\n",
       "    }\n",
       "</style>\n",
       "<table border=\"1\" class=\"dataframe\">\n",
       "  <thead>\n",
       "    <tr style=\"text-align: right;\">\n",
       "      <th></th>\n",
       "      <th>Reg_Code</th>\n",
       "      <th>Reg_Name</th>\n",
       "      <th>Reg_Alt_Name</th>\n",
       "      <th>geometry</th>\n",
       "      <th>attractions</th>\n",
       "    </tr>\n",
       "  </thead>\n",
       "  <tbody>\n",
       "    <tr>\n",
       "      <th>0</th>\n",
       "      <td>130000000</td>\n",
       "      <td>National Capital Region</td>\n",
       "      <td>NCR</td>\n",
       "      <td>MULTIPOLYGON (((121.03842 14.78525, 121.03815 ...</td>\n",
       "      <td>136</td>\n",
       "    </tr>\n",
       "    <tr>\n",
       "      <th>1</th>\n",
       "      <td>030000000</td>\n",
       "      <td>Region III</td>\n",
       "      <td>Central Luzon</td>\n",
       "      <td>MULTIPOLYGON (((120.11687 14.76309, 120.11684 ...</td>\n",
       "      <td>205</td>\n",
       "    </tr>\n",
       "    <tr>\n",
       "      <th>2</th>\n",
       "      <td>040000000</td>\n",
       "      <td>Region IV-A</td>\n",
       "      <td>Calabarzon</td>\n",
       "      <td>MULTIPOLYGON (((122.72165 13.36485, 122.72143 ...</td>\n",
       "      <td>312</td>\n",
       "    </tr>\n",
       "  </tbody>\n",
       "</table>\n",
       "</div>"
      ],
      "text/plain": [
       "    Reg_Code                 Reg_Name   Reg_Alt_Name  \\\n",
       "0  130000000  National Capital Region            NCR   \n",
       "1  030000000               Region III  Central Luzon   \n",
       "2  040000000              Region IV-A     Calabarzon   \n",
       "\n",
       "                                            geometry  attractions  \n",
       "0  MULTIPOLYGON (((121.03842 14.78525, 121.03815 ...          136  \n",
       "1  MULTIPOLYGON (((120.11687 14.76309, 120.11684 ...          205  \n",
       "2  MULTIPOLYGON (((122.72165 13.36485, 122.72143 ...          312  "
      ]
     },
     "execution_count": 29,
     "metadata": {},
     "output_type": "execute_result"
    }
   ],
   "source": [
    "aoi_attr"
   ]
  },
  {
   "cell_type": "code",
   "execution_count": 31,
   "id": "0921c62f-fb5f-464b-bce8-658b811acd00",
   "metadata": {},
   "outputs": [],
   "source": [
    "assert [*list(aoi.columns.values), \"attractions\"] == list(aoi_attr.columns.values)"
   ]
  },
  {
   "cell_type": "code",
   "execution_count": null,
   "id": "ab0aed13-7584-4189-ad6a-c109631b42da",
   "metadata": {},
   "outputs": [],
   "source": []
  }
 ],
 "metadata": {
  "kernelspec": {
   "display_name": "Python3.7(geowrangler)",
   "language": "python",
   "name": "geowrangler"
  },
  "language_info": {
   "codemirror_mode": {
    "name": "ipython",
    "version": 3
   },
   "file_extension": ".py",
   "mimetype": "text/x-python",
   "name": "python",
   "nbconvert_exporter": "python",
   "pygments_lexer": "ipython3",
   "version": "3.7.12"
  }
 },
 "nbformat": 4,
 "nbformat_minor": 5
}
