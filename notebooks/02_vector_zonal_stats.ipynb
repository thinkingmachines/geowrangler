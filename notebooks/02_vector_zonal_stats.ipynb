{
 "cells": [
  {
   "cell_type": "code",
   "execution_count": 1,
   "id": "5e26c44d-f73d-4a76-8000-ff483f7f4297",
   "metadata": {},
   "outputs": [],
   "source": [
    "# default_exp vector_zonal_stats"
   ]
  },
  {
   "cell_type": "code",
   "execution_count": 2,
   "id": "451a4b39-6d18-47a8-9bf9-291114aaa8ad",
   "metadata": {},
   "outputs": [],
   "source": [
    "# hide\n",
    "# no_test\n",
    "! [ -e /content ] && pip install -Uqq git+https://github.com/thinkingmachines/geowrangler.git"
   ]
  },
  {
   "cell_type": "code",
   "execution_count": 3,
   "id": "8daa0f3a-d80c-4030-bce8-d437cdb313ea",
   "metadata": {},
   "outputs": [],
   "source": [
    "# hide\n",
    "# no_test\n",
    "%reload_ext autoreload\n",
    "%autoreload 2\n",
    "%matplotlib inline"
   ]
  },
  {
   "cell_type": "code",
   "execution_count": 4,
   "id": "0d4c51d1-9abf-47f5-ba0d-aed39bd8bbe4",
   "metadata": {},
   "outputs": [],
   "source": [
    "# hide\n",
    "# no_test\n",
    "# conditionally load nb_black cell magic\n",
    "import sys\n",
    "\n",
    "if \"google.colab\" not in sys.modules:\n",
    "    from IPython import get_ipython\n",
    "\n",
    "    ipython = get_ipython()\n",
    "    ipython.magic(\"reload_ext lab_black\")"
   ]
  },
  {
   "cell_type": "code",
   "execution_count": 5,
   "id": "b8c71d8b-4a1a-44e2-b854-c14fb3f4ec94",
   "metadata": {},
   "outputs": [],
   "source": [
    "# exporti\n",
    "import warnings\n",
    "\n",
    "warnings.filterwarnings(\"ignore\")"
   ]
  },
  {
   "cell_type": "markdown",
   "id": "f50c0e84-e23d-4fcc-a8c6-3e7a1f138c3e",
   "metadata": {},
   "source": [
    "# Vector Zonal Stats\n",
    "\n",
    "> generate vector zonal stat features"
   ]
  },
  {
   "cell_type": "markdown",
   "id": "3e1429ef-62d2-4c36-b747-8a3d656a18d0",
   "metadata": {},
   "source": [
    "[![Open in Colab](https://colab.research.google.com/assets/colab-badge.svg)](https://colab.research.google.com/github/thinkingmachines/geowrangler/blob/master/notebooks/02_vector_zonal_stats.ipynb)"
   ]
  },
  {
   "cell_type": "code",
   "execution_count": 6,
   "id": "225450a3-09c9-48e3-9d87-606c28318351",
   "metadata": {
    "tags": []
   },
   "outputs": [],
   "source": [
    "# hide\n",
    "import geopandas"
   ]
  },
  {
   "cell_type": "code",
   "execution_count": 7,
   "id": "b2133259-3fa9-4f2e-82e3-d632f9c5e35a",
   "metadata": {
    "tags": []
   },
   "outputs": [],
   "source": [
    "# exporti\n",
    "from typing import Any, Dict\n",
    "import geopandas as gpd\n",
    "import pandas as pd"
   ]
  },
  {
   "cell_type": "markdown",
   "id": "df8775f0-d493-4431-a76e-82660754223a",
   "metadata": {
    "tags": []
   },
   "source": [
    "### Aggregations\n",
    "\n",
    "In order to generate zonal stats, we have come up with the concept of an **aggregation specification**, which is a way to specify what aggregation functions (sucn as `count`,`sum`, `mean`,`std` etc.) are to be applied to columns in the data. \n",
    "\n",
    "The method `create_zonal_stats` can then take in a list of these specifications and apply them to create zonal stats for the area of interest.\n",
    "\n",
    "An \"aggregation specification\" aka \"agg spec\" is specification of how to generate a zonal statistic from a column. It consists of a `dict` with the following keys:\n",
    "\n",
    "* `func`: (Required) a `str` or a list `[str]` of aggregation functions. See the pandas documentation for [`agg`](https://pandas.pydata.org/pandas-docs/stable/reference/api/pandas.DataFrame.agg.html)\n",
    "\n",
    "* `column`: (Optional) an existing column to generate the zonal statistic from. If not specified, the grouping key `aoi_index` is used as default.\n",
    "\n",
    "* `output`: (Optional) a `str` or a list `[str]` of the name(s) of the output zonal statistic column. If not specified it is concatenated from the column and func e.g. `{column}_{func}`.\n",
    "\n",
    "* `fillna`: (Optional) a `bool` or a list `[bool]` of the flag(s) that indicates whether to to a `fillna(0)` step for the new zonal column, `True` meaning it will set any `NA` values in the resulting zonal stat to `0`, and `False` will retain any `NA` values. The default value of the flag(s) is `True`.\n",
    "\n",
    "**Examples**\n",
    "\n",
    "* The simplest aggregation spec:\n",
    "``` \n",
    "{\"func\":\"count\"}\n",
    "```\n",
    "\n",
    "* Compute the zonal stats `mean`,`sum`,`std` on the `population` column and rename them to `pop_avg`, `pop_total` and `pop_sdev` and retain the `NA` on `std` if no data:\n",
    "\n",
    "```\n",
    "{\"func\":[\"mean\",\"sum\",\"std\"],\n",
    " \"column\": \"population\",\n",
    " \"fillna\": [True,True,False]\n",
    " }\n",
    " ```\n",
    "\n"
   ]
  },
  {
   "cell_type": "markdown",
   "id": "ceb8837b-efe6-4908-ada9-cdb7026911ff",
   "metadata": {},
   "source": [
    "### Internal API"
   ]
  },
  {
   "cell_type": "code",
   "execution_count": 8,
   "id": "7e915eb6-5270-4022-abbb-8e061ce7bcb9",
   "metadata": {},
   "outputs": [],
   "source": [
    "# export\n",
    "def fix_agg(\n",
    "    agg: Dict[str, Any],  # A dict containing at the minimum a 'func' key\n",
    ") -> Dict[str, Any]:\n",
    "    \"\"\"\n",
    "    Validate and (possibly) fix an `agg spec`.\n",
    "\n",
    "    It outputs a dict containing the following keys:\n",
    "      - 'func': a list of aggregation functions (should be a valid 'agg' function)\n",
    "      - 'column': a column to apply the aggregation functions (should be a valid numeric column in data)\n",
    "      - 'output': the names of the new columns containing the application of the aggregation functions (default: concat column + '_' + func)\n",
    "      - 'fillna': boolean list whether to replace new columns with 'NA' values  with 0 (default: True)\n",
    "    \"\"\"\n",
    "    if \"func\" not in agg:\n",
    "        raise ValueError(f\"Missing key 'func' for agg {agg}\")\n",
    "\n",
    "    if type(agg[\"func\"]) == str:\n",
    "        agg[\"func\"] = [agg[\"func\"]]\n",
    "\n",
    "    # optional column, default to index count\n",
    "    if \"column\" not in agg:\n",
    "        agg[\"column\"] = \"aoi_index\"\n",
    "\n",
    "    # check matching output\n",
    "    if \"output\" not in agg:\n",
    "        agg[\"output\"] = [f'{agg[\"column\"]}_{f}' for f in agg[\"func\"]]\n",
    "    if type(agg[\"output\"]) == str:\n",
    "        agg[\"output\"] = [agg[\"output\"]]\n",
    "    if len(agg[\"output\"]) != len(agg[\"func\"]):\n",
    "        raise ValueError(\n",
    "            f\"output list {agg['output']} doesn't match func list {agg['func']}\"\n",
    "        )\n",
    "\n",
    "    # check matching fillna\n",
    "    if \"fillna\" not in agg:\n",
    "        agg[\"fillna\"] = [True for o in agg[\"func\"]]\n",
    "\n",
    "    if len(agg[\"fillna\"]) != len(agg[\"func\"]):\n",
    "        raise ValueError(\n",
    "            f\"fillna list {agg['fillna']} doesn't match func list {agg['func']}\"\n",
    "        )\n",
    "\n",
    "    return agg"
   ]
  },
  {
   "cell_type": "code",
   "execution_count": 9,
   "id": "b0d6bfcd-acf9-4227-8599-68344838d773",
   "metadata": {},
   "outputs": [],
   "source": [
    "# hide\n",
    "assert fix_agg({\"func\": [\"sum\", \"max\", \"min\", \"mean\"], \"column\": \"population\"}) == {\n",
    "    \"func\": [\"sum\", \"max\", \"min\", \"mean\"],\n",
    "    \"column\": \"population\",\n",
    "    \"output\": [\"population_sum\", \"population_max\", \"population_min\", \"population_mean\"],\n",
    "    \"fillna\": [True, True, True, True],\n",
    "}"
   ]
  },
  {
   "cell_type": "code",
   "execution_count": 10,
   "id": "be038173-897c-4542-baf4-de8650680912",
   "metadata": {},
   "outputs": [],
   "source": [
    "# hide\n",
    "assert fix_agg({\"func\": \"count\"}) == {\n",
    "    \"func\": [\"count\"],\n",
    "    \"column\": \"aoi_index\",\n",
    "    \"output\": [\"aoi_index_count\"],\n",
    "    \"fillna\": [True],\n",
    "}"
   ]
  },
  {
   "cell_type": "code",
   "execution_count": 11,
   "id": "a9f5836e-15fb-40f0-a4ef-76fc54afb903",
   "metadata": {},
   "outputs": [],
   "source": [
    "# hide\n",
    "assert fix_agg(\n",
    "    {\n",
    "        \"func\": [\"sum\", \"max\", \"min\", \"mean\", \"std\"],\n",
    "        \"column\": \"population\",\n",
    "        \"output\": [\"pop_sum\", \"pop_max\", \"pop_min\", \"avg_pop\", \"pop_std_dev\"],\n",
    "        \"fillna\": [True, True, True, True, False],\n",
    "    }\n",
    ") == {\n",
    "    \"func\": [\"sum\", \"max\", \"min\", \"mean\", \"std\"],\n",
    "    \"column\": \"population\",\n",
    "    \"output\": [\"pop_sum\", \"pop_max\", \"pop_min\", \"avg_pop\", \"pop_std_dev\"],\n",
    "    \"fillna\": [True, True, True, True, False],\n",
    "}"
   ]
  },
  {
   "cell_type": "code",
   "execution_count": 12,
   "id": "ee2ba37c-e5b0-4989-abe4-2c7090899b09",
   "metadata": {},
   "outputs": [],
   "source": [
    "# hide\n",
    "assert fix_agg({\"func\": \"count\"}) == {\n",
    "    \"func\": [\"count\"],\n",
    "    \"column\": \"aoi_index\",\n",
    "    \"output\": [\"aoi_index_count\"],\n",
    "    \"fillna\": [True],\n",
    "}"
   ]
  },
  {
   "cell_type": "code",
   "execution_count": 13,
   "id": "f135564a-ddfe-4c62-af6a-986096624f29",
   "metadata": {
    "tags": []
   },
   "outputs": [],
   "source": [
    "# hide\n",
    "try:\n",
    "    fix_agg({})\n",
    "    threw_exception = False\n",
    "except ValueError as e:\n",
    "    threw_exception = True\n",
    "    assert e.args[0] == \"Missing key 'func' for agg {}\"\n",
    "assert threw_exception"
   ]
  },
  {
   "cell_type": "code",
   "execution_count": 14,
   "id": "1dacd545-4e08-40df-9313-f6de18e05e80",
   "metadata": {
    "tags": []
   },
   "outputs": [],
   "source": [
    "# hide\n",
    "try:\n",
    "    fix_agg({\"func\": [\"mean\", \"sum\"], \"column\": \"population\", \"output\": [\"pop_mean\"]})\n",
    "    threw_exception = False\n",
    "except ValueError as e:\n",
    "    threw_exception = True\n",
    "    assert (\n",
    "        e.args[0] == \"output list ['pop_mean'] doesn't match func list ['mean', 'sum']\"\n",
    "    )\n",
    "assert threw_exception"
   ]
  },
  {
   "cell_type": "code",
   "execution_count": 15,
   "id": "5d7315a6-42a7-4cfa-87b1-b74917254cf3",
   "metadata": {},
   "outputs": [],
   "source": [
    "# hide\n",
    "# TODO - more tests for validating agg"
   ]
  },
  {
   "cell_type": "code",
   "execution_count": 16,
   "id": "a9dea21e-fbc9-4121-9ad0-0f3d08f05e3a",
   "metadata": {},
   "outputs": [],
   "source": [
    "# export\n",
    "def prep_aoi(\n",
    "    aoi: gpd.GeoDataFrame,  # Area of interest\n",
    ") -> gpd.GeoDataFrame:\n",
    "    \"\"\"\n",
    "    Prepare aoi for spatial join\n",
    "      - split off any existing columns named index and aoi_index and drop them from aoi\n",
    "      - create a column 'aoi_index' from aoi's index which will be used as grouping key\n",
    "    \"\"\"\n",
    "    # prep for spatial join\n",
    "    aoi = aoi.copy()\n",
    "\n",
    "    # handle existing col named 'index'\n",
    "\n",
    "    aoi_index_data = None\n",
    "    if \"index\" in list(aoi.columns.values):\n",
    "        aoi_index_data = aoi[\"index\"]\n",
    "        aoi.drop(labels=\"index\", inplace=True, axis=1)\n",
    "\n",
    "    # handle existing col named 'aoi_index'\n",
    "\n",
    "    aoi_col_data = None\n",
    "    if \"aoi_index\" in list(aoi.columns.values):\n",
    "        aoi_col_data = aoi[\"aoi_index\"]\n",
    "        aoi.drop(labels=\"aoi_index\", inplace=True, axis=1)\n",
    "\n",
    "    # create index col for broadcast to features\n",
    "    aoi.reset_index(level=0, inplace=True)\n",
    "    aoi.rename(columns={\"index\": \"aoi_index\"}, inplace=True)\n",
    "    return aoi, aoi_index_data, aoi_col_data"
   ]
  },
  {
   "cell_type": "code",
   "execution_count": 17,
   "id": "6516b59c-8451-4e99-9154-12739e5232ea",
   "metadata": {},
   "outputs": [],
   "source": [
    "# hide\n",
    "# TODO - add tests\n",
    "# - show addition of aoi_index\n",
    "# - show split if existing column index\n",
    "# - show split if existing column aoi_index"
   ]
  },
  {
   "cell_type": "code",
   "execution_count": 18,
   "id": "6d1a5358-3e90-4217-b83b-06b785cc5f8e",
   "metadata": {},
   "outputs": [],
   "source": [
    "# export\n",
    "\n",
    "\n",
    "def aggregate_stats(\n",
    "    aoi: gpd.GeoDataFrame,  # Area of interest\n",
    "    groups: pd.core.groupby.DataFrameGroupBy,  # Source data aggregated into groups by 'aoi_index'\n",
    "    agg: {},  # An agg spec to be applied\n",
    ") -> gpd.GeoDataFrame:\n",
    "    \"\"\"Aggregate groups and compute agg functions in agg['func'] for agg['column'], map them to output columns in agg['column']\n",
    "    and merge them back to aoi dataframe\n",
    "    \"\"\"\n",
    "    aggregates = groups[agg[\"column\"]].agg(agg[\"func\"])\n",
    "    renames = {k: v for k, v in zip(agg[\"func\"], agg[\"output\"])}\n",
    "    aggregates.rename(columns=renames, inplace=True)\n",
    "    results = aoi.merge(aggregates, how=\"left\", on=\"aoi_index\", suffixes=(None, \"_y\"))\n",
    "\n",
    "    # set NAs to 0 if fillna\n",
    "    for i, colname in enumerate(agg[\"output\"]):\n",
    "        if agg[\"fillna\"][i]:\n",
    "            if colname in list(aoi.columns.values):\n",
    "                colname = colname + \"_y\"  # try if merged df has colname + _y\n",
    "            if colname in list(results.columns.values):\n",
    "                results[colname].fillna(0, inplace=True)\n",
    "\n",
    "    return results"
   ]
  },
  {
   "cell_type": "code",
   "execution_count": 19,
   "id": "4c88f4d2-6a53-475c-85d8-e6701553b1dd",
   "metadata": {},
   "outputs": [],
   "source": [
    "# hide\n",
    "# TODO:\n",
    "# - setup aggregate stats inputs\n",
    "# - show examples of aggregate stats"
   ]
  },
  {
   "cell_type": "markdown",
   "id": "1603c8d9-a700-4d4b-9879-fdc055195f03",
   "metadata": {},
   "source": [
    "### External API"
   ]
  },
  {
   "cell_type": "code",
   "execution_count": 20,
   "id": "ab5241e1-fda3-4dee-88e0-909a2bd7d352",
   "metadata": {},
   "outputs": [],
   "source": [
    "# export\n",
    "\n",
    "\n",
    "def create_zonal_stats(\n",
    "    aoi: gpd.GeoDataFrame,  # Area of interest for which zonal stats are to be computed for\n",
    "    data: gpd.GeoDataFrame,  # Source gdf containing data to compute zonal stats from\n",
    "    aggregations: [],  # a list of agg specs, with each agg spect applied to a data column\n",
    "    overlap_method: str = \"intersects\",  # spatial predicate to used in spatial join of aoi and data\n",
    "    # categorical_column_options: str = None,\n",
    ") -> gpd.GeoDataFrame:\n",
    "    \"\"\"\n",
    "    Create zonal stats for area of interest from data using aggregration operations on data columns.\n",
    "    Returns the same aoi with additional columns containing the computed zonal features.\n",
    "    \"\"\"\n",
    "    # make data crs == aoi crs\n",
    "    if not data.crs.equals(aoi.crs):\n",
    "        data = data.to_crs(aoi.crs)\n",
    "\n",
    "    # prep for spatial join\n",
    "    aoi, aoi_index_data, aoi_col_data = prep_aoi(aoi)\n",
    "\n",
    "    # spatial join - broadcast aoi_index to data => features\n",
    "    features = gpd.sjoin(\n",
    "        aoi[[\"aoi_index\", \"geometry\"]], data, how=\"inner\", predicate=overlap_method\n",
    "    )\n",
    "\n",
    "    # group\n",
    "    groups = features.groupby(\"aoi_index\")\n",
    "    results = aoi\n",
    "\n",
    "    # apply aggregations one column at a time\n",
    "    for agg in aggregations:\n",
    "        agg = fix_agg(agg)\n",
    "        results = aggregate_stats(results, groups, agg)\n",
    "\n",
    "    # cleanup results\n",
    "    results.drop(labels=\"aoi_index\", inplace=True, axis=1)\n",
    "    if aoi_index_data:\n",
    "        results[\"index\"] = aoi_index_data\n",
    "    if aoi_col_data:\n",
    "        results[\"aoi_index\"] = aoi_col_data\n",
    "\n",
    "    return results"
   ]
  },
  {
   "cell_type": "code",
   "execution_count": 21,
   "id": "4fb524e8-80e7-4a64-ad71-6b438043ffd2",
   "metadata": {},
   "outputs": [
    {
     "name": "stdout",
     "output_type": "stream",
     "text": [
      "Converted 02_vector_zonal_stats.ipynb.\n"
     ]
    }
   ],
   "source": [
    "# hide\n",
    "# no_test\n",
    "from nbdev.export import notebook2script\n",
    "\n",
    "notebook2script(\"02_vector_zonal_stats.ipynb\")"
   ]
  }
 ],
 "metadata": {
  "kernelspec": {
   "display_name": "Python3.7(geowrangler)",
   "language": "python",
   "name": "geowrangler"
  },
  "language_info": {
   "codemirror_mode": {
    "name": "ipython",
    "version": 3
   },
   "file_extension": ".py",
   "mimetype": "text/x-python",
   "name": "python",
   "nbconvert_exporter": "python",
   "pygments_lexer": "ipython3",
   "version": "3.7.12"
  }
 },
 "nbformat": 4,
 "nbformat_minor": 5
}
