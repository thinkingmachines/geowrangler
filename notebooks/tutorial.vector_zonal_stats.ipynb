{
 "cells": [
  {
   "cell_type": "code",
   "execution_count": 1,
   "id": "1b793fa9-69d9-4f8a-8cc3-a3154e84f111",
   "metadata": {},
   "outputs": [],
   "source": [
    "# hide\n",
    "# all_slow"
   ]
  },
  {
   "cell_type": "code",
   "execution_count": 2,
   "id": "699f9813-1436-4348-b044-7163e6c65eda",
   "metadata": {},
   "outputs": [],
   "source": [
    "# hide\n",
    "# no_test\n",
    "! [ -e /content ] && pip install -Uqq geowrangler"
   ]
  },
  {
   "cell_type": "code",
   "execution_count": 3,
   "id": "a7b76044-95d4-4570-b145-bacefc2bfc8d",
   "metadata": {},
   "outputs": [],
   "source": [
    "# hide\n",
    "# no_test\n",
    "!mkdir -p ../data\n",
    "![ -e /content ] && ln -s ../data ."
   ]
  },
  {
   "cell_type": "code",
   "execution_count": 4,
   "id": "a2b36dee-d74a-4771-bb63-124a2686fd82",
   "metadata": {},
   "outputs": [],
   "source": [
    "# hide\n",
    "# no_test\n",
    "%reload_ext autoreload\n",
    "%autoreload 2\n",
    "%matplotlib inline"
   ]
  },
  {
   "cell_type": "markdown",
   "id": "9be8c9be-01ee-419f-a360-d83c5a4d3fbc",
   "metadata": {
    "tags": []
   },
   "source": [
    "# Vector Zonal Stats Tutorial"
   ]
  },
  {
   "cell_type": "markdown",
   "id": "0d74e4d0-1ebb-4e16-9a2c-c8190819912c",
   "metadata": {},
   "source": [
    "> A basic introduction to Vector Zonal Stats "
   ]
  },
  {
   "cell_type": "markdown",
   "id": "b6eb90f0-d1be-418a-b4e4-500280b3e10b",
   "metadata": {
    "tags": []
   },
   "source": [
    "## Basic Usage\n",
    "\n",
    "Generate zonal stats for a GeoDataframe containing areas of interest\n",
    "\n",
    "Terms:\n",
    "\n",
    "* **aoi** - (area of interest) a geodataframe which we are interested in generating zonal statistics for\n",
    "* **data** - the source geodataframe containing the features which are interested in collecting zonal stats for our aoi.\n"
   ]
  },
  {
   "cell_type": "markdown",
   "id": "05ce9679-69d0-4c09-b3a1-a344353a6585",
   "metadata": {
    "tags": []
   },
   "source": [
    "### Use case 1 - Count POIs (Points of Interest) "
   ]
  },
  {
   "cell_type": "markdown",
   "id": "1be8fe67-cf4f-4ebe-ab08-792984cc1e74",
   "metadata": {
    "tags": []
   },
   "source": [
    "#### Example 1: Count POIs for Regions\n",
    "\n",
    "* Input:\n",
    "  - aoi - region3,4,ncr regions (Admin Level 1) (Central Luzon) geometry (geom_type - polygon, multipolygon\n",
    "  - data - Philippine pois (geom_type - points)\n",
    "  - overlap_method = 'intersects'\n",
    "  - aggregations:\n",
    "    * count - number of pois within aoi\n",
    "* Output\n",
    "  - aoi with pois count (default output column: `index_count`)"
   ]
  },
  {
   "cell_type": "code",
   "execution_count": 5,
   "id": "25607301-578f-488d-92bd-a2d8b91f1b2f",
   "metadata": {},
   "outputs": [],
   "source": [
    "# hide\n",
    "import warnings\n",
    "\n",
    "warnings.filterwarnings(action=\"ignore\", category=UserWarning, module=\"geopandas\")"
   ]
  },
  {
   "cell_type": "code",
   "execution_count": 6,
   "id": "82012947-cc3e-4b8b-850e-dcd565ad160d",
   "metadata": {},
   "outputs": [],
   "source": [
    "import geopandas as gpd\n",
    "import matplotlib.pyplot as plt\n",
    "import geowrangler.vector_zonal_stats as vzs"
   ]
  },
  {
   "cell_type": "code",
   "execution_count": 7,
   "id": "7d420843-28d8-405a-ae0b-42137e6f04fe",
   "metadata": {},
   "outputs": [],
   "source": [
    "# hide\n",
    "# no_test\n",
    "!mkdir -p ../data\n",
    "# download sample geojson files from repo\n",
    "![ ! -e ../data/region34ncr_admin.geojson ] && curl -s -o ../data/region34ncr_admin.geojson https://raw.githubusercontent.com/thinkingmachines/geowrangler/master/data/region34ncr_admin.geojson\n",
    "![ ! -e ../data/region34ncr_osm_pois.geojson ] && curl -s -o ../data/region34ncr_osm_pois.geojson https://raw.githubusercontent.com/thinkingmachines/geowrangler/master/data/region34ncr_osm_pois.geojson\n",
    "![ ! -e ../data/region3_admin_grids.geojson ] && curl -s -o ../data/region3_admin_grids.geojson https://raw.githubusercontent.com/thinkingmachines/geowrangler/master/data/region3_admin_grids.geojson\n",
    "![ ! -e ../data/region3_osm_pois.geojson ] && curl -s -o ../data/region3_osm_pois.geojson https://raw.githubusercontent.com/thinkingmachines/geowrangler/master/data/region3_osm_pois.geojson\n",
    "![ ! -e ../data/region34ncr_population_land.geojson ] && curl -s -o ../data/region34ncr_population_land.geojson https://raw.githubusercontent.com/thinkingmachines/geowrangler/master/data/region34ncr_population_land.geojson\n",
    "![ ! -e ../data/region3_population_pois.geojson ] && curl -s -o ../data/region3_population_pois.geojson https://raw.githubusercontent.com/thinkingmachines/geowrangler/master/data/region3_population_pois.geojson\n",
    "![ ! -e ../data/region3_bingtile_grid13.geojson ] && curl -s -o ../data/region3_bingtile_grid13.geojson https://raw.githubusercontent.com/thinkingmachines/geowrangler/master/data/region3_bingtile_grid13.geojson"
   ]
  },
  {
   "cell_type": "code",
   "execution_count": 8,
   "id": "47b42c74-9df7-4231-970a-17f3832cd49b",
   "metadata": {
    "tags": []
   },
   "outputs": [
    {
     "name": "stdout",
     "output_type": "stream",
     "text": [
      "CPU times: user 3 s, sys: 219 ms, total: 3.22 s\n",
      "Wall time: 3.21 s\n"
     ]
    }
   ],
   "source": [
    "%%time\n",
    "# area multipolygons for regions 3,4,ncr of the philippines\n",
    "aoi = gpd.read_file(\"../data/region34ncr_admin.geojson\")"
   ]
  },
  {
   "cell_type": "code",
   "execution_count": 9,
   "id": "705e5c6f-5ad7-4fef-9949-1a91154564fd",
   "metadata": {},
   "outputs": [
    {
     "data": {
      "image/png": "[encoded data removed]",
      "text/plain": [
       "<Figure size 432x288 with 1 Axes>"
      ]
     },
     "metadata": {
      "needs_background": "light"
     },
     "output_type": "display_data"
    }
   ],
   "source": [
    "# no_test\n",
    "ax = aoi.plot(\n",
    "    ax=plt.axes(),\n",
    "    facecolor=\"none\",\n",
    "    edgecolor=[\n",
    "        \"#C62828\",\n",
    "        \"#283593\",\n",
    "        \"#FF9800\",\n",
    "    ],\n",
    ")"
   ]
  },
  {
   "cell_type": "code",
   "execution_count": 10,
   "id": "5d562862-9ba9-4546-9e57-b73457a5a60b",
   "metadata": {},
   "outputs": [
    {
     "data": {
      "text/html": [
       "<div>\n",
       "<style scoped>\n",
       "    .dataframe tbody tr th:only-of-type {\n",
       "        vertical-align: middle;\n",
       "    }\n",
       "\n",
       "    .dataframe tbody tr th {\n",
       "        vertical-align: top;\n",
       "    }\n",
       "\n",
       "    .dataframe thead th {\n",
       "        text-align: right;\n",
       "    }\n",
       "</style>\n",
       "<table border=\"1\" class=\"dataframe\">\n",
       "  <thead>\n",
       "    <tr style=\"text-align: right;\">\n",
       "      <th></th>\n",
       "      <th>Reg_Code</th>\n",
       "      <th>Reg_Name</th>\n",
       "      <th>Reg_Alt_Name</th>\n",
       "      <th>geometry</th>\n",
       "    </tr>\n",
       "  </thead>\n",
       "  <tbody>\n",
       "    <tr>\n",
       "      <th>0</th>\n",
       "      <td>130000000</td>\n",
       "      <td>National Capital Region</td>\n",
       "      <td>NCR</td>\n",
       "      <td>MULTIPOLYGON (((121.03842 14.78525, 121.03815 ...</td>\n",
       "    </tr>\n",
       "    <tr>\n",
       "      <th>1</th>\n",
       "      <td>030000000</td>\n",
       "      <td>Region III</td>\n",
       "      <td>Central Luzon</td>\n",
       "      <td>MULTIPOLYGON (((120.11687 14.76309, 120.11684 ...</td>\n",
       "    </tr>\n",
       "    <tr>\n",
       "      <th>2</th>\n",
       "      <td>040000000</td>\n",
       "      <td>Region IV-A</td>\n",
       "      <td>Calabarzon</td>\n",
       "      <td>MULTIPOLYGON (((122.72165 13.36485, 122.72143 ...</td>\n",
       "    </tr>\n",
       "  </tbody>\n",
       "</table>\n",
       "</div>"
      ],
      "text/plain": [
       "    Reg_Code                 Reg_Name   Reg_Alt_Name  \\\n",
       "0  130000000  National Capital Region            NCR   \n",
       "1  030000000               Region III  Central Luzon   \n",
       "2  040000000              Region IV-A     Calabarzon   \n",
       "\n",
       "                                            geometry  \n",
       "0  MULTIPOLYGON (((121.03842 14.78525, 121.03815 ...  \n",
       "1  MULTIPOLYGON (((120.11687 14.76309, 120.11684 ...  \n",
       "2  MULTIPOLYGON (((122.72165 13.36485, 122.72143 ...  "
      ]
     },
     "execution_count": 10,
     "metadata": {},
     "output_type": "execute_result"
    }
   ],
   "source": [
    "# no_test\n",
    "aoi"
   ]
  },
  {
   "cell_type": "code",
   "execution_count": 11,
   "id": "f928ffc5-643c-462b-baef-83da9c1e4684",
   "metadata": {
    "tags": []
   },
   "outputs": [
    {
     "name": "stdout",
     "output_type": "stream",
     "text": [
      "CPU times: user 94.6 ms, sys: 4.12 ms, total: 98.7 ms\n",
      "Wall time: 96.1 ms\n"
     ]
    }
   ],
   "source": [
    "%%time\n",
    "# raw pois from osm data (subset of region3,4, ncr only)\n",
    "raw_data = gpd.read_file(\"../data/region34ncr_osm_pois.geojson\")"
   ]
  },
  {
   "cell_type": "code",
   "execution_count": 12,
   "id": "1a583f05-e76a-46c8-a579-252bf0f72cad",
   "metadata": {},
   "outputs": [
    {
     "data": {
      "text/plain": [
       "array(['osm_id', 'code', 'fclass', 'name', 'BARANGAY_CODE', 'geometry'],\n",
       "      dtype=object)"
      ]
     },
     "execution_count": 12,
     "metadata": {},
     "output_type": "execute_result"
    }
   ],
   "source": [
    "# no_test\n",
    "raw_data.columns.values"
   ]
  },
  {
   "cell_type": "code",
   "execution_count": 13,
   "id": "afc3c9b4-4219-4bf5-9d05-9fa24a187293",
   "metadata": {},
   "outputs": [
    {
     "data": {
      "text/html": [
       "<div>\n",
       "<style scoped>\n",
       "    .dataframe tbody tr th:only-of-type {\n",
       "        vertical-align: middle;\n",
       "    }\n",
       "\n",
       "    .dataframe tbody tr th {\n",
       "        vertical-align: top;\n",
       "    }\n",
       "\n",
       "    .dataframe thead th {\n",
       "        text-align: right;\n",
       "    }\n",
       "</style>\n",
       "<table border=\"1\" class=\"dataframe\">\n",
       "  <thead>\n",
       "    <tr style=\"text-align: right;\">\n",
       "      <th></th>\n",
       "      <th>osm_id</th>\n",
       "      <th>code</th>\n",
       "      <th>fclass</th>\n",
       "      <th>name</th>\n",
       "      <th>BARANGAY_CODE</th>\n",
       "      <th>geometry</th>\n",
       "    </tr>\n",
       "  </thead>\n",
       "  <tbody>\n",
       "    <tr>\n",
       "      <th>0</th>\n",
       "      <td>311568428</td>\n",
       "      <td>2701</td>\n",
       "      <td>tourist_info</td>\n",
       "      <td>Manila American Cemetery and Memorial Visitor ...</td>\n",
       "      <td>137602022</td>\n",
       "      <td>POINT (121.04852 14.54398)</td>\n",
       "    </tr>\n",
       "    <tr>\n",
       "      <th>1</th>\n",
       "      <td>672565496</td>\n",
       "      <td>2701</td>\n",
       "      <td>tourist_info</td>\n",
       "      <td>ecopark paging and first aid station</td>\n",
       "      <td>137404141</td>\n",
       "      <td>POINT (121.07479 14.71173)</td>\n",
       "    </tr>\n",
       "    <tr>\n",
       "      <th>2</th>\n",
       "      <td>672565498</td>\n",
       "      <td>2701</td>\n",
       "      <td>tourist_info</td>\n",
       "      <td>Ecopark ticket counter</td>\n",
       "      <td>137404141</td>\n",
       "      <td>POINT (121.07326 14.71291)</td>\n",
       "    </tr>\n",
       "    <tr>\n",
       "      <th>3</th>\n",
       "      <td>1585389544</td>\n",
       "      <td>2701</td>\n",
       "      <td>tourist_info</td>\n",
       "      <td>Area Formerly Occupied by Fort Bonifacio Museum</td>\n",
       "      <td>137602021</td>\n",
       "      <td>POINT (121.05837 14.55071)</td>\n",
       "    </tr>\n",
       "    <tr>\n",
       "      <th>4</th>\n",
       "      <td>1834855424</td>\n",
       "      <td>2701</td>\n",
       "      <td>tourist_info</td>\n",
       "      <td>Lotto Booth</td>\n",
       "      <td>137601020</td>\n",
       "      <td>POINT (120.99216 14.42312)</td>\n",
       "    </tr>\n",
       "  </tbody>\n",
       "</table>\n",
       "</div>"
      ],
      "text/plain": [
       "       osm_id  code        fclass  \\\n",
       "0   311568428  2701  tourist_info   \n",
       "1   672565496  2701  tourist_info   \n",
       "2   672565498  2701  tourist_info   \n",
       "3  1585389544  2701  tourist_info   \n",
       "4  1834855424  2701  tourist_info   \n",
       "\n",
       "                                                name BARANGAY_CODE  \\\n",
       "0  Manila American Cemetery and Memorial Visitor ...     137602022   \n",
       "1               ecopark paging and first aid station     137404141   \n",
       "2                             Ecopark ticket counter     137404141   \n",
       "3    Area Formerly Occupied by Fort Bonifacio Museum     137602021   \n",
       "4                                        Lotto Booth     137601020   \n",
       "\n",
       "                     geometry  \n",
       "0  POINT (121.04852 14.54398)  \n",
       "1  POINT (121.07479 14.71173)  \n",
       "2  POINT (121.07326 14.71291)  \n",
       "3  POINT (121.05837 14.55071)  \n",
       "4  POINT (120.99216 14.42312)  "
      ]
     },
     "execution_count": 13,
     "metadata": {},
     "output_type": "execute_result"
    }
   ],
   "source": [
    "# no_test\n",
    "raw_data.head()"
   ]
  },
  {
   "cell_type": "code",
   "execution_count": 14,
   "id": "99346654-b912-402f-a1bb-c4a3da88429b",
   "metadata": {},
   "outputs": [
    {
     "data": {
      "image/png": "[encoded data removed]",
      "text/plain": [
       "<Figure size 432x288 with 1 Axes>"
      ]
     },
     "metadata": {
      "needs_background": "light"
     },
     "output_type": "display_data"
    }
   ],
   "source": [
    "# no_test\n",
    "ax = aoi.plot(\n",
    "    ax=plt.axes(),\n",
    "    facecolor=\"none\",\n",
    "    edgecolor=[\n",
    "        \"#C62828\",\n",
    "        \"#283593\",\n",
    "        \"#FF9800\",\n",
    "    ],\n",
    ")\n",
    "ax = raw_data.plot(ax=ax)"
   ]
  },
  {
   "cell_type": "markdown",
   "id": "bf9917d0-2a88-4cd7-913d-d4596b4d72c8",
   "metadata": {},
   "source": [
    "Compute POIs count per region"
   ]
  },
  {
   "cell_type": "code",
   "execution_count": 15,
   "id": "17722aaa-1888-4755-bf05-5bfbbfb43c1f",
   "metadata": {},
   "outputs": [
    {
     "name": "stdout",
     "output_type": "stream",
     "text": [
      "CPU times: user 274 ms, sys: 0 ns, total: 274 ms\n",
      "Wall time: 272 ms\n"
     ]
    }
   ],
   "source": [
    "%%time\n",
    "aoi = vzs.create_zonal_stats(\n",
    "    aoi,\n",
    "    raw_data,\n",
    "    overlap_method=\"intersects\",\n",
    "    aggregations=[{\"func\": \"count\"}],\n",
    ")"
   ]
  },
  {
   "cell_type": "markdown",
   "id": "bb5601a0-b6ac-4f98-9376-c606d91c7757",
   "metadata": {},
   "source": [
    "New aoi with pois count in the column `index_count`. (The column name can be overridden as shown in the next example)"
   ]
  },
  {
   "cell_type": "code",
   "execution_count": 16,
   "id": "8c4441ab-d3d2-406a-a0ce-8b8068ed375e",
   "metadata": {},
   "outputs": [
    {
     "name": "stdout",
     "output_type": "stream",
     "text": [
      "CPU times: user 2 µs, sys: 0 ns, total: 2 µs\n",
      "Wall time: 4.29 µs\n"
     ]
    },
    {
     "data": {
      "text/html": [
       "<div>\n",
       "<style scoped>\n",
       "    .dataframe tbody tr th:only-of-type {\n",
       "        vertical-align: middle;\n",
       "    }\n",
       "\n",
       "    .dataframe tbody tr th {\n",
       "        vertical-align: top;\n",
       "    }\n",
       "\n",
       "    .dataframe thead th {\n",
       "        text-align: right;\n",
       "    }\n",
       "</style>\n",
       "<table border=\"1\" class=\"dataframe\">\n",
       "  <thead>\n",
       "    <tr style=\"text-align: right;\">\n",
       "      <th></th>\n",
       "      <th>Reg_Code</th>\n",
       "      <th>Reg_Name</th>\n",
       "      <th>Reg_Alt_Name</th>\n",
       "      <th>geometry</th>\n",
       "      <th>index_count</th>\n",
       "    </tr>\n",
       "  </thead>\n",
       "  <tbody>\n",
       "    <tr>\n",
       "      <th>0</th>\n",
       "      <td>130000000</td>\n",
       "      <td>National Capital Region</td>\n",
       "      <td>NCR</td>\n",
       "      <td>MULTIPOLYGON (((121.03842 14.78525, 121.03815 ...</td>\n",
       "      <td>880</td>\n",
       "    </tr>\n",
       "    <tr>\n",
       "      <th>1</th>\n",
       "      <td>030000000</td>\n",
       "      <td>Region III</td>\n",
       "      <td>Central Luzon</td>\n",
       "      <td>MULTIPOLYGON (((120.11687 14.76309, 120.11684 ...</td>\n",
       "      <td>701</td>\n",
       "    </tr>\n",
       "    <tr>\n",
       "      <th>2</th>\n",
       "      <td>040000000</td>\n",
       "      <td>Region IV-A</td>\n",
       "      <td>Calabarzon</td>\n",
       "      <td>MULTIPOLYGON (((122.72165 13.36485, 122.72143 ...</td>\n",
       "      <td>1253</td>\n",
       "    </tr>\n",
       "  </tbody>\n",
       "</table>\n",
       "</div>"
      ],
      "text/plain": [
       "    Reg_Code                 Reg_Name   Reg_Alt_Name  \\\n",
       "0  130000000  National Capital Region            NCR   \n",
       "1  030000000               Region III  Central Luzon   \n",
       "2  040000000              Region IV-A     Calabarzon   \n",
       "\n",
       "                                            geometry  index_count  \n",
       "0  MULTIPOLYGON (((121.03842 14.78525, 121.03815 ...          880  \n",
       "1  MULTIPOLYGON (((120.11687 14.76309, 120.11684 ...          701  \n",
       "2  MULTIPOLYGON (((122.72165 13.36485, 122.72143 ...         1253  "
      ]
     },
     "execution_count": 16,
     "metadata": {},
     "output_type": "execute_result"
    }
   ],
   "source": [
    "%%time\n",
    "# no_test\n",
    "aoi"
   ]
  },
  {
   "cell_type": "code",
   "execution_count": 17,
   "id": "e7d29496-90fc-4efd-a2a1-d039a6102ab0",
   "metadata": {},
   "outputs": [],
   "source": [
    "# hide\n",
    "# drop newly created zonal stat\n",
    "aoi.drop(labels=[\"index_count\"], inplace=True, axis=1)"
   ]
  },
  {
   "cell_type": "markdown",
   "id": "01790bca-fb6b-461f-9485-fe0386f1a91a",
   "metadata": {
    "tags": []
   },
   "source": [
    "#### Example 2: Count attractions for Regions \n",
    "\n",
    "* Input: \n",
    "  - aoi - region3,4,ncr regions (Admin Level 1) (Central Luzon, NCR, Calabarzon) geometry (geom_type - polygon, multipolygon)\n",
    "  - data - attractions: filtered Philippine pois (Central Luzon, NCR, Calabarzon only) (geom_type - points) with `fclass` == 'attraction' \n",
    "  - overlap_method = 'intersects'\n",
    "  - aggregations:\n",
    "    * count\n",
    "      - number of pois within aoi\n",
    "      - output column name `attractions`\n",
    "* Output\n",
    "  - aoi with attractions count"
   ]
  },
  {
   "cell_type": "markdown",
   "id": "f70c13ba-65d5-4ad3-bb9a-eb578deb9711",
   "metadata": {},
   "source": [
    "Filter the raw data "
   ]
  },
  {
   "cell_type": "code",
   "execution_count": 18,
   "id": "f3567a32-ba0e-4589-b4ac-dfb51710d5e8",
   "metadata": {},
   "outputs": [],
   "source": [
    "# select only 'attraction' pois\n",
    "attractions = raw_data[raw_data.fclass == \"attraction\"]"
   ]
  },
  {
   "cell_type": "code",
   "execution_count": 19,
   "id": "6755f5f0-8f49-4506-be80-5ec69dd34acf",
   "metadata": {},
   "outputs": [
    {
     "data": {
      "text/html": [
       "<div>\n",
       "<style scoped>\n",
       "    .dataframe tbody tr th:only-of-type {\n",
       "        vertical-align: middle;\n",
       "    }\n",
       "\n",
       "    .dataframe tbody tr th {\n",
       "        vertical-align: top;\n",
       "    }\n",
       "\n",
       "    .dataframe thead th {\n",
       "        text-align: right;\n",
       "    }\n",
       "</style>\n",
       "<table border=\"1\" class=\"dataframe\">\n",
       "  <thead>\n",
       "    <tr style=\"text-align: right;\">\n",
       "      <th></th>\n",
       "      <th>osm_id</th>\n",
       "      <th>code</th>\n",
       "      <th>fclass</th>\n",
       "      <th>name</th>\n",
       "      <th>BARANGAY_CODE</th>\n",
       "      <th>geometry</th>\n",
       "    </tr>\n",
       "  </thead>\n",
       "  <tbody>\n",
       "    <tr>\n",
       "      <th>49</th>\n",
       "      <td>159473554</td>\n",
       "      <td>2721</td>\n",
       "      <td>attraction</td>\n",
       "      <td>Chinatown Arch</td>\n",
       "      <td>133902005</td>\n",
       "      <td>POINT (120.97671 14.59672)</td>\n",
       "    </tr>\n",
       "    <tr>\n",
       "      <th>50</th>\n",
       "      <td>622413978</td>\n",
       "      <td>2721</td>\n",
       "      <td>attraction</td>\n",
       "      <td>Peace Bell</td>\n",
       "      <td>137404020</td>\n",
       "      <td>POINT (121.04934 14.65026)</td>\n",
       "    </tr>\n",
       "    <tr>\n",
       "      <th>51</th>\n",
       "      <td>625180701</td>\n",
       "      <td>2721</td>\n",
       "      <td>attraction</td>\n",
       "      <td>The Glass Garden</td>\n",
       "      <td>137403027</td>\n",
       "      <td>POINT (121.08194 14.61932)</td>\n",
       "    </tr>\n",
       "    <tr>\n",
       "      <th>52</th>\n",
       "      <td>681222977</td>\n",
       "      <td>2721</td>\n",
       "      <td>attraction</td>\n",
       "      <td>La Madre Filipina</td>\n",
       "      <td>133908008</td>\n",
       "      <td>POINT (120.97773 14.58172)</td>\n",
       "    </tr>\n",
       "    <tr>\n",
       "      <th>53</th>\n",
       "      <td>820634039</td>\n",
       "      <td>2721</td>\n",
       "      <td>attraction</td>\n",
       "      <td>Independence Flag Pole</td>\n",
       "      <td>133908008</td>\n",
       "      <td>POINT (120.97659 14.58155)</td>\n",
       "    </tr>\n",
       "  </tbody>\n",
       "</table>\n",
       "</div>"
      ],
      "text/plain": [
       "       osm_id  code      fclass                    name BARANGAY_CODE  \\\n",
       "49  159473554  2721  attraction          Chinatown Arch     133902005   \n",
       "50  622413978  2721  attraction              Peace Bell     137404020   \n",
       "51  625180701  2721  attraction        The Glass Garden     137403027   \n",
       "52  681222977  2721  attraction       La Madre Filipina     133908008   \n",
       "53  820634039  2721  attraction  Independence Flag Pole     133908008   \n",
       "\n",
       "                      geometry  \n",
       "49  POINT (120.97671 14.59672)  \n",
       "50  POINT (121.04934 14.65026)  \n",
       "51  POINT (121.08194 14.61932)  \n",
       "52  POINT (120.97773 14.58172)  \n",
       "53  POINT (120.97659 14.58155)  "
      ]
     },
     "execution_count": 19,
     "metadata": {},
     "output_type": "execute_result"
    }
   ],
   "source": [
    "# no_test\n",
    "attractions.head()"
   ]
  },
  {
   "cell_type": "code",
   "execution_count": 20,
   "id": "dd8cc165-550c-428d-af36-63f0e96b8d34",
   "metadata": {},
   "outputs": [
    {
     "name": "stdout",
     "output_type": "stream",
     "text": [
      "CPU times: user 264 ms, sys: 0 ns, total: 264 ms\n",
      "Wall time: 262 ms\n"
     ]
    }
   ],
   "source": [
    "%%time\n",
    "# hide\n",
    "aoi_attr = vzs.create_zonal_stats(aoi, attractions, aggregations=[{\"func\": \"count\"}])"
   ]
  },
  {
   "cell_type": "code",
   "execution_count": 21,
   "id": "6cbf9011-9911-49e8-9ac7-284549bd6a16",
   "metadata": {},
   "outputs": [],
   "source": [
    "# hide\n",
    "assert [*list(aoi.columns.values), \"index_count\"] == list(aoi_attr.columns.values)"
   ]
  },
  {
   "cell_type": "code",
   "execution_count": 22,
   "id": "bd29e8d1-ac0c-4939-9609-de90ccdb4b73",
   "metadata": {
    "tags": []
   },
   "outputs": [],
   "source": [
    "# hide\n",
    "assert len(aoi_attr) == len(aoi)"
   ]
  },
  {
   "cell_type": "code",
   "execution_count": 23,
   "id": "90652a2f-9fcf-42cd-8285-6208194a1cc7",
   "metadata": {},
   "outputs": [],
   "source": [
    "# hide\n",
    "assert aoi_attr.drop(\"index_count\", axis=1).equals(aoi)"
   ]
  },
  {
   "cell_type": "code",
   "execution_count": 24,
   "id": "4fb55c54-d2dd-4c95-af3b-a42a28a574f7",
   "metadata": {},
   "outputs": [],
   "source": [
    "# hide\n",
    "assert [136, 205, 312] == aoi_attr[[\"index_count\"]].values.flatten().tolist()"
   ]
  },
  {
   "cell_type": "markdown",
   "id": "d44d9c8e-e474-4a2d-bdef-9a405d0d02db",
   "metadata": {},
   "source": [
    "Create zonal stats for filtered data. Add `output` key to specify output column name for count"
   ]
  },
  {
   "cell_type": "code",
   "execution_count": 25,
   "id": "ba6830c5-1250-4dab-b06e-7bf4503c1532",
   "metadata": {},
   "outputs": [
    {
     "name": "stdout",
     "output_type": "stream",
     "text": [
      "CPU times: user 290 ms, sys: 0 ns, total: 290 ms\n",
      "Wall time: 288 ms\n"
     ]
    }
   ],
   "source": [
    "%%time\n",
    "aoi_attr = vzs.create_zonal_stats(\n",
    "    aoi, attractions, aggregations=[{\"func\": \"count\", \"output\": \"attractions\"}]\n",
    ")"
   ]
  },
  {
   "cell_type": "code",
   "execution_count": 26,
   "id": "ba0fb9ad-2ae1-4ac7-9bc9-9e805dfe4cbb",
   "metadata": {},
   "outputs": [
    {
     "data": {
      "text/html": [
       "<div>\n",
       "<style scoped>\n",
       "    .dataframe tbody tr th:only-of-type {\n",
       "        vertical-align: middle;\n",
       "    }\n",
       "\n",
       "    .dataframe tbody tr th {\n",
       "        vertical-align: top;\n",
       "    }\n",
       "\n",
       "    .dataframe thead th {\n",
       "        text-align: right;\n",
       "    }\n",
       "</style>\n",
       "<table border=\"1\" class=\"dataframe\">\n",
       "  <thead>\n",
       "    <tr style=\"text-align: right;\">\n",
       "      <th></th>\n",
       "      <th>Reg_Code</th>\n",
       "      <th>Reg_Name</th>\n",
       "      <th>Reg_Alt_Name</th>\n",
       "      <th>geometry</th>\n",
       "      <th>attractions</th>\n",
       "    </tr>\n",
       "  </thead>\n",
       "  <tbody>\n",
       "    <tr>\n",
       "      <th>0</th>\n",
       "      <td>130000000</td>\n",
       "      <td>National Capital Region</td>\n",
       "      <td>NCR</td>\n",
       "      <td>MULTIPOLYGON (((121.03842 14.78525, 121.03815 ...</td>\n",
       "      <td>136</td>\n",
       "    </tr>\n",
       "    <tr>\n",
       "      <th>1</th>\n",
       "      <td>030000000</td>\n",
       "      <td>Region III</td>\n",
       "      <td>Central Luzon</td>\n",
       "      <td>MULTIPOLYGON (((120.11687 14.76309, 120.11684 ...</td>\n",
       "      <td>205</td>\n",
       "    </tr>\n",
       "    <tr>\n",
       "      <th>2</th>\n",
       "      <td>040000000</td>\n",
       "      <td>Region IV-A</td>\n",
       "      <td>Calabarzon</td>\n",
       "      <td>MULTIPOLYGON (((122.72165 13.36485, 122.72143 ...</td>\n",
       "      <td>312</td>\n",
       "    </tr>\n",
       "  </tbody>\n",
       "</table>\n",
       "</div>"
      ],
      "text/plain": [
       "    Reg_Code                 Reg_Name   Reg_Alt_Name  \\\n",
       "0  130000000  National Capital Region            NCR   \n",
       "1  030000000               Region III  Central Luzon   \n",
       "2  040000000              Region IV-A     Calabarzon   \n",
       "\n",
       "                                            geometry  attractions  \n",
       "0  MULTIPOLYGON (((121.03842 14.78525, 121.03815 ...          136  \n",
       "1  MULTIPOLYGON (((120.11687 14.76309, 120.11684 ...          205  \n",
       "2  MULTIPOLYGON (((122.72165 13.36485, 122.72143 ...          312  "
      ]
     },
     "execution_count": 26,
     "metadata": {},
     "output_type": "execute_result"
    }
   ],
   "source": [
    "# no_test\n",
    "aoi_attr"
   ]
  },
  {
   "cell_type": "code",
   "execution_count": 27,
   "id": "98b7b4be-7883-4f94-a140-3f39a1adb048",
   "metadata": {
    "tags": []
   },
   "outputs": [],
   "source": [
    "# hide\n",
    "assert [*list(aoi.columns.values), \"attractions\"] == list(aoi_attr.columns.values)"
   ]
  },
  {
   "cell_type": "markdown",
   "id": "b6594e1c-a6ec-402c-9520-ba589d71320b",
   "metadata": {
    "tags": []
   },
   "source": [
    "#### Example 3: Grid Tiles over POIs\n",
    "\n",
    "* Input: \n",
    "  - aoi - gridded tiles for Region 3 (Central Luzon) at 15km x 15km size \n",
    "  - data - region 3 data filtered from philippine pois (geom_type - points) \n",
    "  - overlap_method = 'intersects'\n",
    "  - aggregations:\n",
    "    * count \n",
    "      - number of pois within aoi\n",
    "      - output column name:: `pois_count`\n",
    "* Output\n",
    "  - aoi with pois count"
   ]
  },
  {
   "cell_type": "code",
   "execution_count": 28,
   "id": "0700d3ac-8412-47d0-99d8-c96ade86b305",
   "metadata": {},
   "outputs": [
    {
     "name": "stdout",
     "output_type": "stream",
     "text": [
      "CPU times: user 96.3 ms, sys: 0 ns, total: 96.3 ms\n",
      "Wall time: 87.4 ms\n"
     ]
    }
   ],
   "source": [
    "%%time\n",
    "# load gridded tiles\n",
    "grid_aoi = gpd.read_file(\"../data/region3_admin_grids.geojson\")"
   ]
  },
  {
   "cell_type": "code",
   "execution_count": 29,
   "id": "12bb5464-da65-4d7e-8e2f-6aadcf6781f9",
   "metadata": {},
   "outputs": [
    {
     "data": {
      "image/png": "[encoded data removed]",
      "text/plain": [
       "<Figure size 432x288 with 1 Axes>"
      ]
     },
     "metadata": {
      "needs_background": "light"
     },
     "output_type": "display_data"
    }
   ],
   "source": [
    "# no_test\n",
    "ax = aoi[aoi.Reg_Name == \"Region III\"].plot(\n",
    "    ax=plt.axes(), facecolor=\"none\", edgecolor=\"#C62828\"\n",
    ")\n",
    "ax = grid_aoi.plot(ax=ax, facecolor=\"none\", edgecolor=\"blue\")"
   ]
  },
  {
   "cell_type": "code",
   "execution_count": 30,
   "id": "9ca8f6e5-bcd2-49fa-88b2-f05bf84c4e99",
   "metadata": {
    "tags": []
   },
   "outputs": [
    {
     "name": "stdout",
     "output_type": "stream",
     "text": [
      "CPU times: user 50.4 ms, sys: 0 ns, total: 50.4 ms\n",
      "Wall time: 48 ms\n"
     ]
    }
   ],
   "source": [
    "%%time\n",
    "region3_pois = gpd.read_file(\"../data/region3_osm_pois.geojson\")"
   ]
  },
  {
   "cell_type": "code",
   "execution_count": 31,
   "id": "ed31f275-93d0-4c6e-8a0c-808ee60da1a7",
   "metadata": {},
   "outputs": [
    {
     "data": {
      "text/html": [
       "<div>\n",
       "<style scoped>\n",
       "    .dataframe tbody tr th:only-of-type {\n",
       "        vertical-align: middle;\n",
       "    }\n",
       "\n",
       "    .dataframe tbody tr th {\n",
       "        vertical-align: top;\n",
       "    }\n",
       "\n",
       "    .dataframe thead th {\n",
       "        text-align: right;\n",
       "    }\n",
       "</style>\n",
       "<table border=\"1\" class=\"dataframe\">\n",
       "  <thead>\n",
       "    <tr style=\"text-align: right;\">\n",
       "      <th></th>\n",
       "      <th>osm_id</th>\n",
       "      <th>code</th>\n",
       "      <th>fclass</th>\n",
       "      <th>name</th>\n",
       "      <th>BARANGAY_CODE</th>\n",
       "      <th>geometry</th>\n",
       "    </tr>\n",
       "  </thead>\n",
       "  <tbody>\n",
       "    <tr>\n",
       "      <th>0</th>\n",
       "      <td>560410986</td>\n",
       "      <td>2701</td>\n",
       "      <td>tourist_info</td>\n",
       "      <td>Gawad Kalinga Office</td>\n",
       "      <td>031420009</td>\n",
       "      <td>POINT (121.08516 14.83601)</td>\n",
       "    </tr>\n",
       "    <tr>\n",
       "      <th>1</th>\n",
       "      <td>1244301672</td>\n",
       "      <td>2701</td>\n",
       "      <td>tourist_info</td>\n",
       "      <td>N 15deg 26' 11.1\",    E 120deg 25' 50.2\",   El...</td>\n",
       "      <td>036918006</td>\n",
       "      <td>POINT (120.43045 15.43663)</td>\n",
       "    </tr>\n",
       "    <tr>\n",
       "      <th>2</th>\n",
       "      <td>1666684393</td>\n",
       "      <td>2701</td>\n",
       "      <td>tourist_info</td>\n",
       "      <td>Eco Park Tourist Information &amp; DENR Environmen...</td>\n",
       "      <td>036918006</td>\n",
       "      <td>POINT (120.44958 15.46446)</td>\n",
       "    </tr>\n",
       "    <tr>\n",
       "      <th>3</th>\n",
       "      <td>1679992929</td>\n",
       "      <td>2701</td>\n",
       "      <td>tourist_info</td>\n",
       "      <td>La Paz Tarlac - Zaragoza Nueva Ecija Boundary</td>\n",
       "      <td>034932027</td>\n",
       "      <td>POINT (120.75832 15.44284)</td>\n",
       "    </tr>\n",
       "    <tr>\n",
       "      <th>4</th>\n",
       "      <td>1714645729</td>\n",
       "      <td>2701</td>\n",
       "      <td>tourist_info</td>\n",
       "      <td>Lucy Pineda</td>\n",
       "      <td>035409019</td>\n",
       "      <td>POINT (120.61452 15.23359)</td>\n",
       "    </tr>\n",
       "  </tbody>\n",
       "</table>\n",
       "</div>"
      ],
      "text/plain": [
       "       osm_id  code        fclass  \\\n",
       "0   560410986  2701  tourist_info   \n",
       "1  1244301672  2701  tourist_info   \n",
       "2  1666684393  2701  tourist_info   \n",
       "3  1679992929  2701  tourist_info   \n",
       "4  1714645729  2701  tourist_info   \n",
       "\n",
       "                                                name BARANGAY_CODE  \\\n",
       "0                               Gawad Kalinga Office     031420009   \n",
       "1  N 15deg 26' 11.1\",    E 120deg 25' 50.2\",   El...     036918006   \n",
       "2  Eco Park Tourist Information & DENR Environmen...     036918006   \n",
       "3      La Paz Tarlac - Zaragoza Nueva Ecija Boundary     034932027   \n",
       "4                                        Lucy Pineda     035409019   \n",
       "\n",
       "                     geometry  \n",
       "0  POINT (121.08516 14.83601)  \n",
       "1  POINT (120.43045 15.43663)  \n",
       "2  POINT (120.44958 15.46446)  \n",
       "3  POINT (120.75832 15.44284)  \n",
       "4  POINT (120.61452 15.23359)  "
      ]
     },
     "execution_count": 31,
     "metadata": {},
     "output_type": "execute_result"
    }
   ],
   "source": [
    "# no_test\n",
    "region3_pois.head()"
   ]
  },
  {
   "cell_type": "code",
   "execution_count": 32,
   "id": "fa9460ca-7e27-4ebe-9dbd-343adafd5f95",
   "metadata": {},
   "outputs": [
    {
     "data": {
      "text/plain": [
       "701"
      ]
     },
     "execution_count": 32,
     "metadata": {},
     "output_type": "execute_result"
    }
   ],
   "source": [
    "len(region3_pois)"
   ]
  },
  {
   "cell_type": "code",
   "execution_count": 33,
   "id": "9561b16c-bfe6-41ea-90e1-055733e02c97",
   "metadata": {},
   "outputs": [
    {
     "data": {
      "image/png": "[encoded data removed]",
      "text/plain": [
       "<Figure size 432x288 with 1 Axes>"
      ]
     },
     "metadata": {
      "needs_background": "light"
     },
     "output_type": "display_data"
    }
   ],
   "source": [
    "# no_test\n",
    "ax = aoi[aoi.Reg_Name == \"Region III\"].plot(\n",
    "    ax=plt.axes(), facecolor=\"none\", edgecolor=\"#C62828\"\n",
    ")\n",
    "ax = region3_pois.plot(ax=ax)"
   ]
  },
  {
   "cell_type": "code",
   "execution_count": 34,
   "id": "7a551862-8721-4b31-8613-070dd1050cf9",
   "metadata": {},
   "outputs": [],
   "source": [
    "# hide\n",
    "assert len(region3_pois) == 701"
   ]
  },
  {
   "cell_type": "code",
   "execution_count": 35,
   "id": "51d06250-45c7-4995-8192-15706cad9fa4",
   "metadata": {},
   "outputs": [],
   "source": [
    "# hide\n",
    "assert list(grid_aoi.columns.values) == [\"x\", \"y\", \"geometry\"]"
   ]
  },
  {
   "cell_type": "code",
   "execution_count": 36,
   "id": "e4246587-beae-4684-89f8-867209f21da1",
   "metadata": {},
   "outputs": [],
   "source": [
    "# hide\n",
    "assert list(region3_pois.columns.values) == [\n",
    "    \"osm_id\",\n",
    "    \"code\",\n",
    "    \"fclass\",\n",
    "    \"name\",\n",
    "    \"BARANGAY_CODE\",\n",
    "    \"geometry\",\n",
    "]"
   ]
  },
  {
   "cell_type": "markdown",
   "id": "c92063a3-231e-4590-859c-511e684eee97",
   "metadata": {},
   "source": [
    "Compute pois count per grid"
   ]
  },
  {
   "cell_type": "code",
   "execution_count": 37,
   "id": "3716a72e-3842-408d-81c4-1891e4653f65",
   "metadata": {},
   "outputs": [
    {
     "name": "stdout",
     "output_type": "stream",
     "text": [
      "CPU times: user 33.9 ms, sys: 0 ns, total: 33.9 ms\n",
      "Wall time: 31.5 ms\n"
     ]
    }
   ],
   "source": [
    "%%time\n",
    "grid_aoi = vzs.create_zonal_stats(\n",
    "    grid_aoi,\n",
    "    region3_pois,\n",
    "    overlap_method=\"intersects\",\n",
    "    aggregations=[{\"func\": \"count\", \"output\": \"pois_count\"}],\n",
    ")"
   ]
  },
  {
   "cell_type": "code",
   "execution_count": 38,
   "id": "78d95296-9ad8-46d5-85aa-ff76bbf55b8f",
   "metadata": {},
   "outputs": [
    {
     "data": {
      "text/html": [
       "<div>\n",
       "<style scoped>\n",
       "    .dataframe tbody tr th:only-of-type {\n",
       "        vertical-align: middle;\n",
       "    }\n",
       "\n",
       "    .dataframe tbody tr th {\n",
       "        vertical-align: top;\n",
       "    }\n",
       "\n",
       "    .dataframe thead th {\n",
       "        text-align: right;\n",
       "    }\n",
       "</style>\n",
       "<table border=\"1\" class=\"dataframe\">\n",
       "  <thead>\n",
       "    <tr style=\"text-align: right;\">\n",
       "      <th></th>\n",
       "      <th>x</th>\n",
       "      <th>y</th>\n",
       "      <th>geometry</th>\n",
       "      <th>pois_count</th>\n",
       "    </tr>\n",
       "  </thead>\n",
       "  <tbody>\n",
       "    <tr>\n",
       "      <th>11</th>\n",
       "      <td>2</td>\n",
       "      <td>28</td>\n",
       "      <td>POLYGON ((119.87566 15.62220, 119.92058 15.622...</td>\n",
       "      <td>1.0</td>\n",
       "    </tr>\n",
       "    <tr>\n",
       "      <th>14</th>\n",
       "      <td>2</td>\n",
       "      <td>31</td>\n",
       "      <td>POLYGON ((119.87566 15.75193, 119.92058 15.751...</td>\n",
       "      <td>1.0</td>\n",
       "    </tr>\n",
       "    <tr>\n",
       "      <th>18</th>\n",
       "      <td>3</td>\n",
       "      <td>23</td>\n",
       "      <td>POLYGON ((119.92058 15.40581, 119.96550 15.405...</td>\n",
       "      <td>1.0</td>\n",
       "    </tr>\n",
       "    <tr>\n",
       "      <th>21</th>\n",
       "      <td>3</td>\n",
       "      <td>26</td>\n",
       "      <td>POLYGON ((119.92058 15.53567, 119.96550 15.535...</td>\n",
       "      <td>4.0</td>\n",
       "    </tr>\n",
       "    <tr>\n",
       "      <th>22</th>\n",
       "      <td>3</td>\n",
       "      <td>27</td>\n",
       "      <td>POLYGON ((119.92058 15.57894, 119.96550 15.578...</td>\n",
       "      <td>1.0</td>\n",
       "    </tr>\n",
       "  </tbody>\n",
       "</table>\n",
       "</div>"
      ],
      "text/plain": [
       "    x   y                                           geometry  pois_count\n",
       "11  2  28  POLYGON ((119.87566 15.62220, 119.92058 15.622...         1.0\n",
       "14  2  31  POLYGON ((119.87566 15.75193, 119.92058 15.751...         1.0\n",
       "18  3  23  POLYGON ((119.92058 15.40581, 119.96550 15.405...         1.0\n",
       "21  3  26  POLYGON ((119.92058 15.53567, 119.96550 15.535...         4.0\n",
       "22  3  27  POLYGON ((119.92058 15.57894, 119.96550 15.578...         1.0"
      ]
     },
     "execution_count": 38,
     "metadata": {},
     "output_type": "execute_result"
    }
   ],
   "source": [
    "# no_test\n",
    "grid_aoi[grid_aoi.pois_count > 0].head()"
   ]
  },
  {
   "cell_type": "code",
   "execution_count": 39,
   "id": "fd8f63aa-71db-43e0-be7b-176237f964a1",
   "metadata": {},
   "outputs": [
    {
     "data": {
      "text/plain": [
       "701.0"
      ]
     },
     "execution_count": 39,
     "metadata": {},
     "output_type": "execute_result"
    }
   ],
   "source": [
    "# no_test\n",
    "grid_aoi.pois_count.sum()"
   ]
  },
  {
   "cell_type": "code",
   "execution_count": 40,
   "id": "bb7d3900-482f-4a93-926f-6b432225abeb",
   "metadata": {},
   "outputs": [],
   "source": [
    "# hide\n",
    "assert grid_aoi.pois_count.sum() == len(region3_pois)"
   ]
  },
  {
   "cell_type": "code",
   "execution_count": 41,
   "id": "da5fd399-d8fb-41db-9baf-6807323334e0",
   "metadata": {},
   "outputs": [
    {
     "data": {
      "image/png": "[encoded data removed]",
      "text/plain": [
       "<Figure size 432x288 with 1 Axes>"
      ]
     },
     "metadata": {
      "needs_background": "light"
     },
     "output_type": "display_data"
    }
   ],
   "source": [
    "# no_test\n",
    "# show grids with at least 1 poi\n",
    "ax = aoi[aoi.Reg_Name == \"Region III\"].plot(\n",
    "    ax=plt.axes(),\n",
    "    facecolor=\"none\",\n",
    "    edgecolor=[\n",
    "        \"#C62828\",\n",
    "    ],\n",
    ")\n",
    "ax = grid_aoi[grid_aoi.pois_count > 0].plot(ax=ax, facecolor=\"none\", edgecolor=\"green\")"
   ]
  },
  {
   "cell_type": "markdown",
   "id": "12a56685-1b48-4d8e-911c-a42dcc579e2d",
   "metadata": {
    "tags": []
   },
   "source": [
    "### Use case 2 - Stats on a metric column"
   ]
  },
  {
   "cell_type": "markdown",
   "id": "5f0e67ad-1004-474d-86bf-c097e5c7f5a6",
   "metadata": {
    "tags": []
   },
   "source": [
    "#### Example 1 Regions over Population per Bgy Level\n",
    "\n",
    "* Input:\n",
    "  - aoi - region3,4,ncr geometry (geom_type - polygon, multipolygon)\n",
    "  - data - region3,4, ncr population data (geom_type - pois) \n",
    "  - data_type: 'individual_pois'\n",
    "  - overlap_method = 'intersects'\n",
    "  - aggregations:\n",
    "    * metric_columns: 'population','men', etc.\n",
    "      - each row in the data has a column: population, men, women, etc. with numeric value\n",
    "      - aggregation_functions - 'min','max', 'mean', 'sum',  etc.\n",
    "      - output_columns - 'pop_min', 'pop_max', for each column\n",
    "* Output:\n",
    "  - aoi with new output columns pop_min, pop_max etc "
   ]
  },
  {
   "cell_type": "markdown",
   "id": "71a52046-6df8-4790-b0f1-b42c53912694",
   "metadata": {},
   "source": [
    "Load 2020 Region3,4,NCR Population Data at Barangay level (Admin Level 4)\n",
    "> Note: The population data came from the **2020 Facebook HRSL Dataset** filtered for barangays covering Regions 3,4, NCR and converted the geometries from polygons to points by computing their centroids (projected to `EPSG:3969`). The land area was computed by projecting to `EPSG:3123` and getting the `geometry.area` . "
   ]
  },
  {
   "cell_type": "code",
   "execution_count": 42,
   "id": "75e7b106-72d4-485a-a325-91fcdfbbcb8c",
   "metadata": {},
   "outputs": [
    {
     "name": "stdout",
     "output_type": "stream",
     "text": [
      "CPU times: user 543 ms, sys: 9.45 ms, total: 552 ms\n",
      "Wall time: 548 ms\n"
     ]
    }
   ],
   "source": [
    "%%time\n",
    "# load region3,4,ncr population data at barangay level\n",
    "region34ncr_pop_data = gpd.read_file(\"../data/region34ncr_population_land.geojson\")"
   ]
  },
  {
   "cell_type": "code",
   "execution_count": 43,
   "id": "4f39da67-8663-4fb0-a6fa-c3fe82f5ba0d",
   "metadata": {},
   "outputs": [],
   "source": [
    "# hide\n",
    "assert len(region34ncr_pop_data) == 8816"
   ]
  },
  {
   "cell_type": "code",
   "execution_count": 44,
   "id": "52a7ca3c-7bc4-4d7b-a4dd-e02e579b05ce",
   "metadata": {},
   "outputs": [
    {
     "data": {
      "text/html": [
       "<div>\n",
       "<style scoped>\n",
       "    .dataframe tbody tr th:only-of-type {\n",
       "        vertical-align: middle;\n",
       "    }\n",
       "\n",
       "    .dataframe tbody tr th {\n",
       "        vertical-align: top;\n",
       "    }\n",
       "\n",
       "    .dataframe thead th {\n",
       "        text-align: right;\n",
       "    }\n",
       "</style>\n",
       "<table border=\"1\" class=\"dataframe\">\n",
       "  <thead>\n",
       "    <tr style=\"text-align: right;\">\n",
       "      <th></th>\n",
       "      <th>BARANGAY_CODE</th>\n",
       "      <th>population</th>\n",
       "      <th>men</th>\n",
       "      <th>women</th>\n",
       "      <th>children_under_five</th>\n",
       "      <th>youth_15_24</th>\n",
       "      <th>women_of_reproductive_age_15_49</th>\n",
       "      <th>elderly_60_plus</th>\n",
       "      <th>land_area</th>\n",
       "      <th>geometry</th>\n",
       "    </tr>\n",
       "  </thead>\n",
       "  <tbody>\n",
       "    <tr>\n",
       "      <th>0</th>\n",
       "      <td>31420020.0</td>\n",
       "      <td>1807</td>\n",
       "      <td>920</td>\n",
       "      <td>887</td>\n",
       "      <td>202</td>\n",
       "      <td>359</td>\n",
       "      <td>468</td>\n",
       "      <td>77</td>\n",
       "      <td>2.183518e+05</td>\n",
       "      <td>POINT (121.05919 14.85825)</td>\n",
       "    </tr>\n",
       "    <tr>\n",
       "      <th>1</th>\n",
       "      <td>34915006.0</td>\n",
       "      <td>3093</td>\n",
       "      <td>1594</td>\n",
       "      <td>1499</td>\n",
       "      <td>352</td>\n",
       "      <td>658</td>\n",
       "      <td>826</td>\n",
       "      <td>159</td>\n",
       "      <td>7.327482e+06</td>\n",
       "      <td>POINT (120.99590 15.62242)</td>\n",
       "    </tr>\n",
       "    <tr>\n",
       "      <th>2</th>\n",
       "      <td>35403009.0</td>\n",
       "      <td>4241</td>\n",
       "      <td>2158</td>\n",
       "      <td>2083</td>\n",
       "      <td>474</td>\n",
       "      <td>821</td>\n",
       "      <td>1112</td>\n",
       "      <td>256</td>\n",
       "      <td>8.740450e+05</td>\n",
       "      <td>POINT (120.77730 15.14580)</td>\n",
       "    </tr>\n",
       "    <tr>\n",
       "      <th>3</th>\n",
       "      <td>35409023.0</td>\n",
       "      <td>3373</td>\n",
       "      <td>1750</td>\n",
       "      <td>1623</td>\n",
       "      <td>296</td>\n",
       "      <td>611</td>\n",
       "      <td>895</td>\n",
       "      <td>244</td>\n",
       "      <td>6.484611e+05</td>\n",
       "      <td>POINT (120.58052 15.22315)</td>\n",
       "    </tr>\n",
       "    <tr>\n",
       "      <th>4</th>\n",
       "      <td>35413009.0</td>\n",
       "      <td>20884</td>\n",
       "      <td>10539</td>\n",
       "      <td>10344</td>\n",
       "      <td>2198</td>\n",
       "      <td>3893</td>\n",
       "      <td>5589</td>\n",
       "      <td>1260</td>\n",
       "      <td>2.015571e+06</td>\n",
       "      <td>POINT (120.68523 15.09163)</td>\n",
       "    </tr>\n",
       "  </tbody>\n",
       "</table>\n",
       "</div>"
      ],
      "text/plain": [
       "   BARANGAY_CODE  population    men  women  children_under_five  youth_15_24  \\\n",
       "0     31420020.0        1807    920    887                  202          359   \n",
       "1     34915006.0        3093   1594   1499                  352          658   \n",
       "2     35403009.0        4241   2158   2083                  474          821   \n",
       "3     35409023.0        3373   1750   1623                  296          611   \n",
       "4     35413009.0       20884  10539  10344                 2198         3893   \n",
       "\n",
       "   women_of_reproductive_age_15_49  elderly_60_plus     land_area  \\\n",
       "0                              468               77  2.183518e+05   \n",
       "1                              826              159  7.327482e+06   \n",
       "2                             1112              256  8.740450e+05   \n",
       "3                              895              244  6.484611e+05   \n",
       "4                             5589             1260  2.015571e+06   \n",
       "\n",
       "                     geometry  \n",
       "0  POINT (121.05919 14.85825)  \n",
       "1  POINT (120.99590 15.62242)  \n",
       "2  POINT (120.77730 15.14580)  \n",
       "3  POINT (120.58052 15.22315)  \n",
       "4  POINT (120.68523 15.09163)  "
      ]
     },
     "execution_count": 44,
     "metadata": {},
     "output_type": "execute_result"
    }
   ],
   "source": [
    "# no_test\n",
    "region34ncr_pop_data.head()"
   ]
  },
  {
   "cell_type": "code",
   "execution_count": 45,
   "id": "f205754e-e3bf-4ec7-b52a-fac8c55cd876",
   "metadata": {},
   "outputs": [
    {
     "data": {
      "text/plain": [
       "array(['BARANGAY_CODE', 'population', 'men', 'women',\n",
       "       'children_under_five', 'youth_15_24',\n",
       "       'women_of_reproductive_age_15_49', 'elderly_60_plus', 'land_area',\n",
       "       'geometry'], dtype=object)"
      ]
     },
     "execution_count": 45,
     "metadata": {},
     "output_type": "execute_result"
    }
   ],
   "source": [
    "# no_test\n",
    "region34ncr_pop_data.columns.values"
   ]
  },
  {
   "cell_type": "markdown",
   "id": "a07ff755-0b55-40b8-ac18-f0b8f4e62e1f",
   "metadata": {},
   "source": [
    "Compute zonal stats for regions 3,4,NCR\n",
    "* barangay count per region (bgy_count)\n",
    "* sum and mean for each population statistic (population, men, women, etc)\n",
    "* sum, mean, std, min, max for land area statistic"
   ]
  },
  {
   "cell_type": "code",
   "execution_count": 46,
   "id": "3162533f-3233-4a70-8f5c-3c017ca68c6a",
   "metadata": {},
   "outputs": [
    {
     "name": "stdout",
     "output_type": "stream",
     "text": [
      "CPU times: user 313 ms, sys: 9.88 ms, total: 322 ms\n",
      "Wall time: 320 ms\n"
     ]
    }
   ],
   "source": [
    "%%time\n",
    "aoi = vzs.create_zonal_stats(\n",
    "    aoi,\n",
    "    region34ncr_pop_data,\n",
    "    aggregations=[\n",
    "        {\"func\": \"count\", \"output\": \"bgy_count\"},\n",
    "        {\n",
    "            \"column\": \"population\",\n",
    "            \"func\": [\"sum\", \"mean\"],\n",
    "            \"output\": [\"pop_total\", \"pop_avg\"],\n",
    "        },\n",
    "        {\"column\": \"men\", \"func\": [\"sum\", \"mean\"], \"output\": [\"men_total\", \"men_avg\"]},\n",
    "        {\n",
    "            \"column\": \"women\",\n",
    "            \"func\": [\"sum\", \"mean\"],\n",
    "            \"output\": [\"women_total\", \"women_avg\"],\n",
    "        },\n",
    "        {\n",
    "            \"column\": \"children_under_five\",\n",
    "            \"func\": [\"sum\", \"mean\"],\n",
    "            \"output\": [\"under5_total\", \"under5_avg\"],\n",
    "        },\n",
    "        {\n",
    "            \"column\": \"youth_15_24\",\n",
    "            \"func\": [\"sum\", \"mean\"],\n",
    "            \"output\": [\"youth_total\", \"youth_avg\"],\n",
    "        },\n",
    "        {\n",
    "            \"column\": \"women_of_reproductive_age_15_49\",\n",
    "            \"func\": [\"sum\", \"mean\"],\n",
    "            \"output\": [\"women_repro_total\", \"women_repro_avg\"],\n",
    "        },\n",
    "        {\n",
    "            \"column\": \"elderly_60_plus\",\n",
    "            \"func\": [\"sum\", \"mean\"],\n",
    "            \"output\": [\"elderly_total\", \"elderly_avg\"],\n",
    "        },\n",
    "        {\n",
    "            \"column\": \"land_area\",\n",
    "            \"func\": [\"sum\", \"mean\", \"min\", \"max\", \"std\"],\n",
    "            \"output\": [\"land_total\", \"land_avg\", \"land_min\", \"land_max\", \"land_std\"],\n",
    "        },\n",
    "    ],\n",
    "    overlap_method=\"intersects\",\n",
    ")"
   ]
  },
  {
   "cell_type": "code",
   "execution_count": 47,
   "id": "a9b4ea63-8260-4d5d-8532-2452905ca814",
   "metadata": {},
   "outputs": [
    {
     "data": {
      "text/plain": [
       "array(['Reg_Code', 'Reg_Name', 'Reg_Alt_Name', 'geometry', 'bgy_count',\n",
       "       'pop_total', 'pop_avg', 'men_total', 'men_avg', 'women_total',\n",
       "       'women_avg', 'under5_total', 'under5_avg', 'youth_total',\n",
       "       'youth_avg', 'women_repro_total', 'women_repro_avg',\n",
       "       'elderly_total', 'elderly_avg', 'land_total', 'land_avg',\n",
       "       'land_min', 'land_max', 'land_std'], dtype=object)"
      ]
     },
     "execution_count": 47,
     "metadata": {},
     "output_type": "execute_result"
    }
   ],
   "source": [
    "# no_test\n",
    "aoi.columns.values"
   ]
  },
  {
   "cell_type": "code",
   "execution_count": 48,
   "id": "4e433cbb-21c3-408f-a657-303c21f2be54",
   "metadata": {},
   "outputs": [
    {
     "data": {
      "text/html": [
       "<div>\n",
       "<style scoped>\n",
       "    .dataframe tbody tr th:only-of-type {\n",
       "        vertical-align: middle;\n",
       "    }\n",
       "\n",
       "    .dataframe tbody tr th {\n",
       "        vertical-align: top;\n",
       "    }\n",
       "\n",
       "    .dataframe thead th {\n",
       "        text-align: right;\n",
       "    }\n",
       "</style>\n",
       "<table border=\"1\" class=\"dataframe\">\n",
       "  <thead>\n",
       "    <tr style=\"text-align: right;\">\n",
       "      <th></th>\n",
       "      <th>Reg_Code</th>\n",
       "      <th>Reg_Name</th>\n",
       "      <th>Reg_Alt_Name</th>\n",
       "      <th>geometry</th>\n",
       "      <th>bgy_count</th>\n",
       "      <th>pop_total</th>\n",
       "      <th>pop_avg</th>\n",
       "      <th>men_total</th>\n",
       "      <th>men_avg</th>\n",
       "      <th>women_total</th>\n",
       "      <th>...</th>\n",
       "      <th>youth_avg</th>\n",
       "      <th>women_repro_total</th>\n",
       "      <th>women_repro_avg</th>\n",
       "      <th>elderly_total</th>\n",
       "      <th>elderly_avg</th>\n",
       "      <th>land_total</th>\n",
       "      <th>land_avg</th>\n",
       "      <th>land_min</th>\n",
       "      <th>land_max</th>\n",
       "      <th>land_std</th>\n",
       "    </tr>\n",
       "  </thead>\n",
       "  <tbody>\n",
       "    <tr>\n",
       "      <th>0</th>\n",
       "      <td>130000000</td>\n",
       "      <td>National Capital Region</td>\n",
       "      <td>NCR</td>\n",
       "      <td>MULTIPOLYGON (((121.03842 14.78525, 121.03815 ...</td>\n",
       "      <td>1707</td>\n",
       "      <td>12484535</td>\n",
       "      <td>7313.728764</td>\n",
       "      <td>6132828</td>\n",
       "      <td>3592.752197</td>\n",
       "      <td>6350844</td>\n",
       "      <td>...</td>\n",
       "      <td>1468.077329</td>\n",
       "      <td>3699839</td>\n",
       "      <td>2167.451084</td>\n",
       "      <td>653306</td>\n",
       "      <td>382.721734</td>\n",
       "      <td>5.945955e+08</td>\n",
       "      <td>3.483277e+05</td>\n",
       "      <td>2890.947906</td>\n",
       "      <td>2.750653e+07</td>\n",
       "      <td>1.065422e+06</td>\n",
       "    </tr>\n",
       "    <tr>\n",
       "      <th>1</th>\n",
       "      <td>030000000</td>\n",
       "      <td>Region III</td>\n",
       "      <td>Central Luzon</td>\n",
       "      <td>MULTIPOLYGON (((120.11687 14.76309, 120.11684 ...</td>\n",
       "      <td>3099</td>\n",
       "      <td>10581859</td>\n",
       "      <td>3414.604389</td>\n",
       "      <td>5353309</td>\n",
       "      <td>1727.431107</td>\n",
       "      <td>5227035</td>\n",
       "      <td>...</td>\n",
       "      <td>655.773475</td>\n",
       "      <td>2808810</td>\n",
       "      <td>906.360116</td>\n",
       "      <td>664150</td>\n",
       "      <td>214.311068</td>\n",
       "      <td>2.120885e+10</td>\n",
       "      <td>6.843771e+06</td>\n",
       "      <td>9589.467114</td>\n",
       "      <td>3.496501e+08</td>\n",
       "      <td>1.826504e+07</td>\n",
       "    </tr>\n",
       "    <tr>\n",
       "      <th>2</th>\n",
       "      <td>040000000</td>\n",
       "      <td>Region IV-A</td>\n",
       "      <td>Calabarzon</td>\n",
       "      <td>MULTIPOLYGON (((122.72165 13.36485, 122.72143 ...</td>\n",
       "      <td>4010</td>\n",
       "      <td>14081857</td>\n",
       "      <td>3511.685037</td>\n",
       "      <td>7035334</td>\n",
       "      <td>1754.447382</td>\n",
       "      <td>7044548</td>\n",
       "      <td>...</td>\n",
       "      <td>671.226185</td>\n",
       "      <td>3857217</td>\n",
       "      <td>961.899501</td>\n",
       "      <td>780294</td>\n",
       "      <td>194.587032</td>\n",
       "      <td>1.551525e+10</td>\n",
       "      <td>3.869139e+06</td>\n",
       "      <td>3087.452331</td>\n",
       "      <td>4.310269e+08</td>\n",
       "      <td>1.119929e+07</td>\n",
       "    </tr>\n",
       "  </tbody>\n",
       "</table>\n",
       "<p>3 rows × 24 columns</p>\n",
       "</div>"
      ],
      "text/plain": [
       "    Reg_Code                 Reg_Name   Reg_Alt_Name  \\\n",
       "0  130000000  National Capital Region            NCR   \n",
       "1  030000000               Region III  Central Luzon   \n",
       "2  040000000              Region IV-A     Calabarzon   \n",
       "\n",
       "                                            geometry  bgy_count  pop_total  \\\n",
       "0  MULTIPOLYGON (((121.03842 14.78525, 121.03815 ...       1707   12484535   \n",
       "1  MULTIPOLYGON (((120.11687 14.76309, 120.11684 ...       3099   10581859   \n",
       "2  MULTIPOLYGON (((122.72165 13.36485, 122.72143 ...       4010   14081857   \n",
       "\n",
       "       pop_avg  men_total      men_avg  women_total  ...    youth_avg  \\\n",
       "0  7313.728764    6132828  3592.752197      6350844  ...  1468.077329   \n",
       "1  3414.604389    5353309  1727.431107      5227035  ...   655.773475   \n",
       "2  3511.685037    7035334  1754.447382      7044548  ...   671.226185   \n",
       "\n",
       "   women_repro_total  women_repro_avg  elderly_total  elderly_avg  \\\n",
       "0            3699839      2167.451084         653306   382.721734   \n",
       "1            2808810       906.360116         664150   214.311068   \n",
       "2            3857217       961.899501         780294   194.587032   \n",
       "\n",
       "     land_total      land_avg     land_min      land_max      land_std  \n",
       "0  5.945955e+08  3.483277e+05  2890.947906  2.750653e+07  1.065422e+06  \n",
       "1  2.120885e+10  6.843771e+06  9589.467114  3.496501e+08  1.826504e+07  \n",
       "2  1.551525e+10  3.869139e+06  3087.452331  4.310269e+08  1.119929e+07  \n",
       "\n",
       "[3 rows x 24 columns]"
      ]
     },
     "execution_count": 48,
     "metadata": {},
     "output_type": "execute_result"
    }
   ],
   "source": [
    "aoi.head()"
   ]
  },
  {
   "cell_type": "markdown",
   "id": "312e56c0-7a76-4ccc-9d6f-9163953ccc77",
   "metadata": {
    "tags": []
   },
   "source": [
    "#### Example 2 : Grids over Population per Bgy Level\n",
    "* Input:\n",
    "  - aoi - region3 grids geometry (geom_type - polygon)\n",
    "  - data - population data (geom_type - pois) \n",
    "  - data_type: 'individual_pois'\n",
    "  - overlap_method = 'intersects'\n",
    "  - aggregations:\n",
    "    * metric_columns: 'population','men', 'land_area'\n",
    "      - each row in the data has a column population, men, women, including land with numeric value\n",
    "      - aggregation_functions - 'min','max', 'mean', 'sum',  etc.\n",
    "      - output_columns - 'pop_min', 'pop_max', for each \n",
    "* Output:\n",
    "  - aoi with new columns pop_min, pop_max  etc."
   ]
  },
  {
   "cell_type": "markdown",
   "id": "c5968ba0-74ae-480a-a90e-c27dfe6f069c",
   "metadata": {
    "tags": []
   },
   "source": [
    "Load population and land POIs (Bgy level)\n",
    "> Note: The dataset is similar to the previous one (Region3,4,NCR) except that it has been filtered only data for the Region 3."
   ]
  },
  {
   "cell_type": "code",
   "execution_count": 49,
   "id": "5797de69-f821-4db2-9362-b13c49ca006e",
   "metadata": {},
   "outputs": [
    {
     "name": "stdout",
     "output_type": "stream",
     "text": [
      "CPU times: user 372 ms, sys: 0 ns, total: 372 ms\n",
      "Wall time: 370 ms\n"
     ]
    }
   ],
   "source": [
    "%%time\n",
    "region3_pop_pois = gpd.read_file(\"../data/region3_population_pois.geojson\")"
   ]
  },
  {
   "cell_type": "code",
   "execution_count": 50,
   "id": "ca9cd206-2be2-49cb-8685-f6c4413242db",
   "metadata": {},
   "outputs": [
    {
     "data": {
      "text/html": [
       "<div>\n",
       "<style scoped>\n",
       "    .dataframe tbody tr th:only-of-type {\n",
       "        vertical-align: middle;\n",
       "    }\n",
       "\n",
       "    .dataframe tbody tr th {\n",
       "        vertical-align: top;\n",
       "    }\n",
       "\n",
       "    .dataframe thead th {\n",
       "        text-align: right;\n",
       "    }\n",
       "</style>\n",
       "<table border=\"1\" class=\"dataframe\">\n",
       "  <thead>\n",
       "    <tr style=\"text-align: right;\">\n",
       "      <th></th>\n",
       "      <th>BARANGAY_CODE</th>\n",
       "      <th>population</th>\n",
       "      <th>men</th>\n",
       "      <th>women</th>\n",
       "      <th>children_under_five</th>\n",
       "      <th>youth_15_24</th>\n",
       "      <th>women_of_reproductive_age_15_49</th>\n",
       "      <th>elderly_60_plus</th>\n",
       "      <th>land_area</th>\n",
       "      <th>Reg_Name</th>\n",
       "      <th>geometry</th>\n",
       "    </tr>\n",
       "  </thead>\n",
       "  <tbody>\n",
       "    <tr>\n",
       "      <th>0</th>\n",
       "      <td>31420020.0</td>\n",
       "      <td>1807</td>\n",
       "      <td>920</td>\n",
       "      <td>887</td>\n",
       "      <td>202</td>\n",
       "      <td>359</td>\n",
       "      <td>468</td>\n",
       "      <td>77</td>\n",
       "      <td>2.183518e+05</td>\n",
       "      <td>Region III</td>\n",
       "      <td>POINT (121.05919 14.85825)</td>\n",
       "    </tr>\n",
       "    <tr>\n",
       "      <th>1</th>\n",
       "      <td>34915006.0</td>\n",
       "      <td>3093</td>\n",
       "      <td>1594</td>\n",
       "      <td>1499</td>\n",
       "      <td>352</td>\n",
       "      <td>658</td>\n",
       "      <td>826</td>\n",
       "      <td>159</td>\n",
       "      <td>7.327482e+06</td>\n",
       "      <td>Region III</td>\n",
       "      <td>POINT (120.99590 15.62242)</td>\n",
       "    </tr>\n",
       "    <tr>\n",
       "      <th>2</th>\n",
       "      <td>35403009.0</td>\n",
       "      <td>4241</td>\n",
       "      <td>2158</td>\n",
       "      <td>2083</td>\n",
       "      <td>474</td>\n",
       "      <td>821</td>\n",
       "      <td>1112</td>\n",
       "      <td>256</td>\n",
       "      <td>8.740450e+05</td>\n",
       "      <td>Region III</td>\n",
       "      <td>POINT (120.77730 15.14580)</td>\n",
       "    </tr>\n",
       "    <tr>\n",
       "      <th>3</th>\n",
       "      <td>35409023.0</td>\n",
       "      <td>3373</td>\n",
       "      <td>1750</td>\n",
       "      <td>1623</td>\n",
       "      <td>296</td>\n",
       "      <td>611</td>\n",
       "      <td>895</td>\n",
       "      <td>244</td>\n",
       "      <td>6.484611e+05</td>\n",
       "      <td>Region III</td>\n",
       "      <td>POINT (120.58052 15.22315)</td>\n",
       "    </tr>\n",
       "    <tr>\n",
       "      <th>4</th>\n",
       "      <td>35413009.0</td>\n",
       "      <td>20884</td>\n",
       "      <td>10539</td>\n",
       "      <td>10344</td>\n",
       "      <td>2198</td>\n",
       "      <td>3893</td>\n",
       "      <td>5589</td>\n",
       "      <td>1260</td>\n",
       "      <td>2.015571e+06</td>\n",
       "      <td>Region III</td>\n",
       "      <td>POINT (120.68523 15.09163)</td>\n",
       "    </tr>\n",
       "  </tbody>\n",
       "</table>\n",
       "</div>"
      ],
      "text/plain": [
       "   BARANGAY_CODE  population    men  women  children_under_five  youth_15_24  \\\n",
       "0     31420020.0        1807    920    887                  202          359   \n",
       "1     34915006.0        3093   1594   1499                  352          658   \n",
       "2     35403009.0        4241   2158   2083                  474          821   \n",
       "3     35409023.0        3373   1750   1623                  296          611   \n",
       "4     35413009.0       20884  10539  10344                 2198         3893   \n",
       "\n",
       "   women_of_reproductive_age_15_49  elderly_60_plus     land_area    Reg_Name  \\\n",
       "0                              468               77  2.183518e+05  Region III   \n",
       "1                              826              159  7.327482e+06  Region III   \n",
       "2                             1112              256  8.740450e+05  Region III   \n",
       "3                              895              244  6.484611e+05  Region III   \n",
       "4                             5589             1260  2.015571e+06  Region III   \n",
       "\n",
       "                     geometry  \n",
       "0  POINT (121.05919 14.85825)  \n",
       "1  POINT (120.99590 15.62242)  \n",
       "2  POINT (120.77730 15.14580)  \n",
       "3  POINT (120.58052 15.22315)  \n",
       "4  POINT (120.68523 15.09163)  "
      ]
     },
     "execution_count": 50,
     "metadata": {},
     "output_type": "execute_result"
    }
   ],
   "source": [
    "# no_test\n",
    "region3_pop_pois.head()"
   ]
  },
  {
   "cell_type": "code",
   "execution_count": 51,
   "id": "7cfe2b77-3bbf-416f-a2af-b9ac293d9ebe",
   "metadata": {},
   "outputs": [
    {
     "data": {
      "text/plain": [
       "array(['BARANGAY_CODE', 'population', 'men', 'women',\n",
       "       'children_under_five', 'youth_15_24',\n",
       "       'women_of_reproductive_age_15_49', 'elderly_60_plus', 'land_area',\n",
       "       'Reg_Name', 'geometry'], dtype=object)"
      ]
     },
     "execution_count": 51,
     "metadata": {},
     "output_type": "execute_result"
    }
   ],
   "source": [
    "# no_test\n",
    "region3_pop_pois.columns.values"
   ]
  },
  {
   "cell_type": "markdown",
   "id": "e2bbe3fa-d193-4cf7-9de2-66f00b4aad13",
   "metadata": {},
   "source": [
    "Create zonal stats (same as previous example, but now for a more granular level for region 3 only)"
   ]
  },
  {
   "cell_type": "code",
   "execution_count": 52,
   "id": "6fe28f8a-4c32-4faf-9ea6-2cf27f647fd5",
   "metadata": {},
   "outputs": [
    {
     "name": "stdout",
     "output_type": "stream",
     "text": [
      "CPU times: user 115 ms, sys: 10.5 ms, total: 126 ms\n",
      "Wall time: 121 ms\n"
     ]
    }
   ],
   "source": [
    "%%time\n",
    "grid_aoi = vzs.create_zonal_stats(\n",
    "    grid_aoi,\n",
    "    region3_pop_pois,\n",
    "    aggregations=[\n",
    "        {\"func\": \"count\", \"output\": \"bgy_count\"},\n",
    "        {\n",
    "            \"column\": \"population\",\n",
    "            \"func\": [\"sum\", \"mean\"],\n",
    "            \"output\": [\"pop_total\", \"pop_avg\"],\n",
    "        },\n",
    "        {\"column\": \"men\", \"func\": [\"sum\", \"mean\"], \"output\": [\"men_total\", \"men_avg\"]},\n",
    "        {\n",
    "            \"column\": \"women\",\n",
    "            \"func\": [\"sum\", \"mean\"],\n",
    "            \"output\": [\"women_total\", \"women_avg\"],\n",
    "        },\n",
    "        {\n",
    "            \"column\": \"children_under_five\",\n",
    "            \"func\": [\"sum\", \"mean\"],\n",
    "            \"output\": [\"under5_total\", \"under5_avg\"],\n",
    "        },\n",
    "        {\n",
    "            \"column\": \"youth_15_24\",\n",
    "            \"func\": [\"sum\", \"mean\"],\n",
    "            \"output\": [\"youth_total\", \"youth_avg\"],\n",
    "        },\n",
    "        {\n",
    "            \"column\": \"women_of_reproductive_age_15_49\",\n",
    "            \"func\": [\"sum\", \"mean\"],\n",
    "            \"output\": [\"women_repro_total\", \"women_repro_avg\"],\n",
    "        },\n",
    "        {\n",
    "            \"column\": \"elderly_60_plus\",\n",
    "            \"func\": [\"sum\", \"mean\"],\n",
    "            \"output\": [\"elderly_total\", \"elderly_avg\"],\n",
    "        },\n",
    "        {\n",
    "            \"column\": \"land_area\",\n",
    "            \"func\": [\"sum\", \"mean\", \"min\", \"max\", \"std\"],\n",
    "            \"output\": [\"land_total\", \"land_avg\", \"land_min\", \"land_max\", \"land_std\"],\n",
    "        },\n",
    "    ],\n",
    "    overlap_method=\"intersects\",\n",
    ")"
   ]
  },
  {
   "cell_type": "code",
   "execution_count": 53,
   "id": "58a1d2b5-aaad-456d-9c69-308d874b1976",
   "metadata": {},
   "outputs": [
    {
     "data": {
      "text/html": [
       "<div>\n",
       "<style scoped>\n",
       "    .dataframe tbody tr th:only-of-type {\n",
       "        vertical-align: middle;\n",
       "    }\n",
       "\n",
       "    .dataframe tbody tr th {\n",
       "        vertical-align: top;\n",
       "    }\n",
       "\n",
       "    .dataframe thead th {\n",
       "        text-align: right;\n",
       "    }\n",
       "</style>\n",
       "<table border=\"1\" class=\"dataframe\">\n",
       "  <thead>\n",
       "    <tr style=\"text-align: right;\">\n",
       "      <th></th>\n",
       "      <th>x</th>\n",
       "      <th>y</th>\n",
       "      <th>geometry</th>\n",
       "      <th>pois_count</th>\n",
       "      <th>bgy_count</th>\n",
       "      <th>pop_total</th>\n",
       "      <th>pop_avg</th>\n",
       "      <th>men_total</th>\n",
       "      <th>men_avg</th>\n",
       "      <th>women_total</th>\n",
       "      <th>...</th>\n",
       "      <th>youth_avg</th>\n",
       "      <th>women_repro_total</th>\n",
       "      <th>women_repro_avg</th>\n",
       "      <th>elderly_total</th>\n",
       "      <th>elderly_avg</th>\n",
       "      <th>land_total</th>\n",
       "      <th>land_avg</th>\n",
       "      <th>land_min</th>\n",
       "      <th>land_max</th>\n",
       "      <th>land_std</th>\n",
       "    </tr>\n",
       "  </thead>\n",
       "  <tbody>\n",
       "    <tr>\n",
       "      <th>0</th>\n",
       "      <td>0</td>\n",
       "      <td>30</td>\n",
       "      <td>POLYGON ((119.78583 15.70870, 119.83075 15.708...</td>\n",
       "      <td>NaN</td>\n",
       "      <td>NaN</td>\n",
       "      <td>NaN</td>\n",
       "      <td>NaN</td>\n",
       "      <td>NaN</td>\n",
       "      <td>NaN</td>\n",
       "      <td>NaN</td>\n",
       "      <td>...</td>\n",
       "      <td>NaN</td>\n",
       "      <td>NaN</td>\n",
       "      <td>NaN</td>\n",
       "      <td>NaN</td>\n",
       "      <td>NaN</td>\n",
       "      <td>NaN</td>\n",
       "      <td>NaN</td>\n",
       "      <td>NaN</td>\n",
       "      <td>NaN</td>\n",
       "      <td>NaN</td>\n",
       "    </tr>\n",
       "    <tr>\n",
       "      <th>1</th>\n",
       "      <td>0</td>\n",
       "      <td>31</td>\n",
       "      <td>POLYGON ((119.78583 15.75193, 119.83075 15.751...</td>\n",
       "      <td>NaN</td>\n",
       "      <td>NaN</td>\n",
       "      <td>NaN</td>\n",
       "      <td>NaN</td>\n",
       "      <td>NaN</td>\n",
       "      <td>NaN</td>\n",
       "      <td>NaN</td>\n",
       "      <td>...</td>\n",
       "      <td>NaN</td>\n",
       "      <td>NaN</td>\n",
       "      <td>NaN</td>\n",
       "      <td>NaN</td>\n",
       "      <td>NaN</td>\n",
       "      <td>NaN</td>\n",
       "      <td>NaN</td>\n",
       "      <td>NaN</td>\n",
       "      <td>NaN</td>\n",
       "      <td>NaN</td>\n",
       "    </tr>\n",
       "    <tr>\n",
       "      <th>2</th>\n",
       "      <td>0</td>\n",
       "      <td>32</td>\n",
       "      <td>POLYGON ((119.78583 15.79516, 119.83075 15.795...</td>\n",
       "      <td>NaN</td>\n",
       "      <td>NaN</td>\n",
       "      <td>NaN</td>\n",
       "      <td>NaN</td>\n",
       "      <td>NaN</td>\n",
       "      <td>NaN</td>\n",
       "      <td>NaN</td>\n",
       "      <td>...</td>\n",
       "      <td>NaN</td>\n",
       "      <td>NaN</td>\n",
       "      <td>NaN</td>\n",
       "      <td>NaN</td>\n",
       "      <td>NaN</td>\n",
       "      <td>NaN</td>\n",
       "      <td>NaN</td>\n",
       "      <td>NaN</td>\n",
       "      <td>NaN</td>\n",
       "      <td>NaN</td>\n",
       "    </tr>\n",
       "    <tr>\n",
       "      <th>3</th>\n",
       "      <td>1</td>\n",
       "      <td>30</td>\n",
       "      <td>POLYGON ((119.83075 15.70870, 119.87566 15.708...</td>\n",
       "      <td>NaN</td>\n",
       "      <td>1.0</td>\n",
       "      <td>3415.0</td>\n",
       "      <td>3415.0</td>\n",
       "      <td>1744.0</td>\n",
       "      <td>1744.0</td>\n",
       "      <td>1670.0</td>\n",
       "      <td>...</td>\n",
       "      <td>648.0</td>\n",
       "      <td>848.0</td>\n",
       "      <td>848.0</td>\n",
       "      <td>229.0</td>\n",
       "      <td>229.0</td>\n",
       "      <td>5.552401e+06</td>\n",
       "      <td>5.552401e+06</td>\n",
       "      <td>5.552401e+06</td>\n",
       "      <td>5.552401e+06</td>\n",
       "      <td>NaN</td>\n",
       "    </tr>\n",
       "    <tr>\n",
       "      <th>4</th>\n",
       "      <td>1</td>\n",
       "      <td>32</td>\n",
       "      <td>POLYGON ((119.83075 15.79516, 119.87566 15.795...</td>\n",
       "      <td>NaN</td>\n",
       "      <td>NaN</td>\n",
       "      <td>NaN</td>\n",
       "      <td>NaN</td>\n",
       "      <td>NaN</td>\n",
       "      <td>NaN</td>\n",
       "      <td>NaN</td>\n",
       "      <td>...</td>\n",
       "      <td>NaN</td>\n",
       "      <td>NaN</td>\n",
       "      <td>NaN</td>\n",
       "      <td>NaN</td>\n",
       "      <td>NaN</td>\n",
       "      <td>NaN</td>\n",
       "      <td>NaN</td>\n",
       "      <td>NaN</td>\n",
       "      <td>NaN</td>\n",
       "      <td>NaN</td>\n",
       "    </tr>\n",
       "  </tbody>\n",
       "</table>\n",
       "<p>5 rows × 24 columns</p>\n",
       "</div>"
      ],
      "text/plain": [
       "   x   y                                           geometry  pois_count  \\\n",
       "0  0  30  POLYGON ((119.78583 15.70870, 119.83075 15.708...         NaN   \n",
       "1  0  31  POLYGON ((119.78583 15.75193, 119.83075 15.751...         NaN   \n",
       "2  0  32  POLYGON ((119.78583 15.79516, 119.83075 15.795...         NaN   \n",
       "3  1  30  POLYGON ((119.83075 15.70870, 119.87566 15.708...         NaN   \n",
       "4  1  32  POLYGON ((119.83075 15.79516, 119.87566 15.795...         NaN   \n",
       "\n",
       "   bgy_count  pop_total  pop_avg  men_total  men_avg  women_total  ...  \\\n",
       "0        NaN        NaN      NaN        NaN      NaN          NaN  ...   \n",
       "1        NaN        NaN      NaN        NaN      NaN          NaN  ...   \n",
       "2        NaN        NaN      NaN        NaN      NaN          NaN  ...   \n",
       "3        1.0     3415.0   3415.0     1744.0   1744.0       1670.0  ...   \n",
       "4        NaN        NaN      NaN        NaN      NaN          NaN  ...   \n",
       "\n",
       "   youth_avg  women_repro_total  women_repro_avg  elderly_total  elderly_avg  \\\n",
       "0        NaN                NaN              NaN            NaN          NaN   \n",
       "1        NaN                NaN              NaN            NaN          NaN   \n",
       "2        NaN                NaN              NaN            NaN          NaN   \n",
       "3      648.0              848.0            848.0          229.0        229.0   \n",
       "4        NaN                NaN              NaN            NaN          NaN   \n",
       "\n",
       "     land_total      land_avg      land_min      land_max  land_std  \n",
       "0           NaN           NaN           NaN           NaN       NaN  \n",
       "1           NaN           NaN           NaN           NaN       NaN  \n",
       "2           NaN           NaN           NaN           NaN       NaN  \n",
       "3  5.552401e+06  5.552401e+06  5.552401e+06  5.552401e+06       NaN  \n",
       "4           NaN           NaN           NaN           NaN       NaN  \n",
       "\n",
       "[5 rows x 24 columns]"
      ]
     },
     "execution_count": 53,
     "metadata": {},
     "output_type": "execute_result"
    }
   ],
   "source": [
    "# no_test\n",
    "grid_aoi.head()"
   ]
  },
  {
   "cell_type": "code",
   "execution_count": 54,
   "id": "428a5a76-019a-42ed-8ba3-f942c618e113",
   "metadata": {},
   "outputs": [],
   "source": [
    "# hide\n",
    "assert any(\n",
    "    item\n",
    "    in [\n",
    "        \"land_total\",\n",
    "        \"land_avg\",\n",
    "        \"land_min\",\n",
    "        \"land_max\",\n",
    "        \"land_std\",\n",
    "        \"elderly_total\",\n",
    "        \"elderly_avg\",\n",
    "        \"women_repro_total\",\n",
    "        \"women_repro_avg\",\n",
    "        \"under5_total\",\n",
    "        \"under5_avg\",\n",
    "        \"women_total\",\n",
    "        \"women_avg\",\n",
    "        \"men_total\",\n",
    "        \"men_avg\",\n",
    "        \"pop_total\",\n",
    "        \"pop_avg\",\n",
    "        \"bgy_count\",\n",
    "    ]\n",
    "    for item in list(grid_aoi.columns.values)\n",
    ")"
   ]
  },
  {
   "cell_type": "markdown",
   "id": "8b619905-e7e5-4510-aaa3-4327dae3412b",
   "metadata": {},
   "source": [
    "Show grids with bgy_count > 0 and bgy_count == 0"
   ]
  },
  {
   "cell_type": "code",
   "execution_count": 55,
   "id": "d1de6e04-3657-455e-8b83-646c8d4479bf",
   "metadata": {},
   "outputs": [
    {
     "data": {
      "image/png": "[encoded data removed]",
      "text/plain": [
       "<Figure size 432x288 with 1 Axes>"
      ]
     },
     "metadata": {
      "needs_background": "light"
     },
     "output_type": "display_data"
    }
   ],
   "source": [
    "# no_test\n",
    "ax = aoi[aoi.Reg_Name == \"Region III\"].plot(\n",
    "    ax=plt.axes(), facecolor=\"none\", edgecolor=\"black\"\n",
    ")\n",
    "ax = grid_aoi[grid_aoi.bgy_count.notna()].plot(\n",
    "    ax=ax, facecolor=\"none\", edgecolor=\"blue\"\n",
    ")\n",
    "ax = grid_aoi[grid_aoi.bgy_count.isna()].plot(ax=ax, facecolor=\"none\", edgecolor=\"red\")"
   ]
  },
  {
   "cell_type": "markdown",
   "id": "8d64fa1c-6bc7-4ec9-867d-7d37b98269e4",
   "metadata": {
    "tags": []
   },
   "source": [
    "## Generating Bing Tile Grid Zonal Stats\n",
    "\n",
    "If our areas of interest use Bing Tile Grids (with the associated quadkeys), \n",
    "\n",
    "we can use a much faster way of generating zonal stats by pre-computing the quadkeys for our\n",
    "data.\n",
    "\n",
    "> Note: you can use the `geowrangler.grids` modules `BingTileGridGenerator` to convert your AOI into a Bing Tile Grid AOI.\n"
   ]
  },
  {
   "cell_type": "markdown",
   "id": "a7d005cf-630e-4c78-a26c-f2ca20d5d5b0",
   "metadata": {
    "tags": []
   },
   "source": [
    "#### Example 1: Count POIs for Region 3 Bing Tile Grid AOI\n",
    "\n",
    "* Input:\n",
    "  - aoi bing tile grids zoom level 13 - region3 (Admin Level 1) (Central Luzon) geometry (geom_type - polygon, multipolygon)\n",
    "  - data - Region 3 pois (geom_type - points)\n",
    "  - aggregations:\n",
    "    * count - number of pois within aoi\n",
    "* Output\n",
    "  - aoi with pois count (default output column: `index_count`)"
   ]
  },
  {
   "cell_type": "markdown",
   "id": "21344857-3379-4df6-8fe6-4b866a0a0044",
   "metadata": {},
   "source": [
    "Load our bing tile grid aoi "
   ]
  },
  {
   "cell_type": "code",
   "execution_count": 56,
   "id": "c4a8aac7-5792-4ce7-91b2-5ecd03bcae00",
   "metadata": {},
   "outputs": [],
   "source": [
    "# load region3_admin area in bing tile grid ('ADM level 1 - Philippines, region 3, zoom level13')\n",
    "\n",
    "region3_bingtile_grid = gpd.read_file(\"../data/region3_bingtile_grid13.geojson\")"
   ]
  },
  {
   "cell_type": "code",
   "execution_count": 57,
   "id": "6494ab85-3373-4657-9cb3-b011ab39e9c0",
   "metadata": {},
   "outputs": [
    {
     "data": {
      "text/html": [
       "<div>\n",
       "<style scoped>\n",
       "    .dataframe tbody tr th:only-of-type {\n",
       "        vertical-align: middle;\n",
       "    }\n",
       "\n",
       "    .dataframe tbody tr th {\n",
       "        vertical-align: top;\n",
       "    }\n",
       "\n",
       "    .dataframe thead th {\n",
       "        text-align: right;\n",
       "    }\n",
       "</style>\n",
       "<table border=\"1\" class=\"dataframe\">\n",
       "  <thead>\n",
       "    <tr style=\"text-align: right;\">\n",
       "      <th></th>\n",
       "      <th>quadkey</th>\n",
       "      <th>geometry</th>\n",
       "    </tr>\n",
       "  </thead>\n",
       "  <tbody>\n",
       "    <tr>\n",
       "      <th>0</th>\n",
       "      <td>1323030303301</td>\n",
       "      <td>POLYGON ((120.10254 14.73239, 120.10254 14.774...</td>\n",
       "    </tr>\n",
       "    <tr>\n",
       "      <th>1</th>\n",
       "      <td>1323030303300</td>\n",
       "      <td>POLYGON ((120.05859 14.73239, 120.05859 14.774...</td>\n",
       "    </tr>\n",
       "    <tr>\n",
       "      <th>2</th>\n",
       "      <td>1323030303311</td>\n",
       "      <td>POLYGON ((120.19043 14.73239, 120.19043 14.774...</td>\n",
       "    </tr>\n",
       "    <tr>\n",
       "      <th>3</th>\n",
       "      <td>1323030303133</td>\n",
       "      <td>POLYGON ((120.19043 14.77488, 120.19043 14.817...</td>\n",
       "    </tr>\n",
       "    <tr>\n",
       "      <th>4</th>\n",
       "      <td>1323030303131</td>\n",
       "      <td>POLYGON ((120.19043 14.81737, 120.19043 14.859...</td>\n",
       "    </tr>\n",
       "  </tbody>\n",
       "</table>\n",
       "</div>"
      ],
      "text/plain": [
       "         quadkey                                           geometry\n",
       "0  1323030303301  POLYGON ((120.10254 14.73239, 120.10254 14.774...\n",
       "1  1323030303300  POLYGON ((120.05859 14.73239, 120.05859 14.774...\n",
       "2  1323030303311  POLYGON ((120.19043 14.73239, 120.19043 14.774...\n",
       "3  1323030303133  POLYGON ((120.19043 14.77488, 120.19043 14.817...\n",
       "4  1323030303131  POLYGON ((120.19043 14.81737, 120.19043 14.859..."
      ]
     },
     "execution_count": 57,
     "metadata": {},
     "output_type": "execute_result"
    }
   ],
   "source": [
    "# no_test\n",
    "region3_bingtile_grid.head()"
   ]
  },
  {
   "cell_type": "code",
   "execution_count": 58,
   "id": "1e529790-75f0-4af5-9d63-3eb571d552a9",
   "metadata": {},
   "outputs": [
    {
     "data": {
      "image/png": "[encoded data removed]",
      "text/plain": [
       "<Figure size 432x288 with 1 Axes>"
      ]
     },
     "metadata": {
      "needs_background": "light"
     },
     "output_type": "display_data"
    }
   ],
   "source": [
    "# no_test\n",
    "ax = plt.axes()\n",
    "ax = aoi[aoi.Reg_Name == \"Region III\"].plot(ax=ax, facecolor=\"none\", edgecolor=\"blue\")\n",
    "ax = region3_bingtile_grid.plot(ax=ax, facecolor=\"none\", edgecolor=\"red\")"
   ]
  },
  {
   "cell_type": "markdown",
   "id": "d347be38-af4a-424a-81f2-7faa6762aa3a",
   "metadata": {},
   "source": [
    "Lets compute the quadkeys for our Region3 pois"
   ]
  },
  {
   "cell_type": "code",
   "execution_count": 59,
   "id": "c1494dc9-af4e-4c05-b668-2c82b56acbc9",
   "metadata": {},
   "outputs": [],
   "source": [
    "DATA_ZOOM_LEVEL = 23  # for pois, it can be as high as 24"
   ]
  },
  {
   "cell_type": "code",
   "execution_count": 60,
   "id": "15163683-8b8e-4ff2-82f8-eb8fe2c90867",
   "metadata": {},
   "outputs": [
    {
     "name": "stdout",
     "output_type": "stream",
     "text": [
      "CPU times: user 236 ms, sys: 320 µs, total: 236 ms\n",
      "Wall time: 233 ms\n"
     ]
    }
   ],
   "source": [
    "%%time\n",
    "region3_pois_quadkeys = vzs.compute_quadkey(region3_pois, DATA_ZOOM_LEVEL)"
   ]
  },
  {
   "cell_type": "code",
   "execution_count": 61,
   "id": "40a0202e-928b-4fb4-951d-24d6335df71e",
   "metadata": {},
   "outputs": [
    {
     "data": {
      "text/html": [
       "<div>\n",
       "<style scoped>\n",
       "    .dataframe tbody tr th:only-of-type {\n",
       "        vertical-align: middle;\n",
       "    }\n",
       "\n",
       "    .dataframe tbody tr th {\n",
       "        vertical-align: top;\n",
       "    }\n",
       "\n",
       "    .dataframe thead th {\n",
       "        text-align: right;\n",
       "    }\n",
       "</style>\n",
       "<table border=\"1\" class=\"dataframe\">\n",
       "  <thead>\n",
       "    <tr style=\"text-align: right;\">\n",
       "      <th></th>\n",
       "      <th>osm_id</th>\n",
       "      <th>code</th>\n",
       "      <th>fclass</th>\n",
       "      <th>name</th>\n",
       "      <th>BARANGAY_CODE</th>\n",
       "      <th>geometry</th>\n",
       "      <th>quadkey</th>\n",
       "    </tr>\n",
       "  </thead>\n",
       "  <tbody>\n",
       "    <tr>\n",
       "      <th>0</th>\n",
       "      <td>560410986</td>\n",
       "      <td>2701</td>\n",
       "      <td>tourist_info</td>\n",
       "      <td>Gawad Kalinga Office</td>\n",
       "      <td>031420009</td>\n",
       "      <td>POINT (121.08516 14.83601)</td>\n",
       "      <td>13230312020312101332220</td>\n",
       "    </tr>\n",
       "    <tr>\n",
       "      <th>1</th>\n",
       "      <td>1244301672</td>\n",
       "      <td>2701</td>\n",
       "      <td>tourist_info</td>\n",
       "      <td>N 15deg 26' 11.1\",    E 120deg 25' 50.2\",   El...</td>\n",
       "      <td>036918006</td>\n",
       "      <td>POINT (120.43045 15.43663)</td>\n",
       "      <td>13230301323000331033200</td>\n",
       "    </tr>\n",
       "    <tr>\n",
       "      <th>2</th>\n",
       "      <td>1666684393</td>\n",
       "      <td>2701</td>\n",
       "      <td>tourist_info</td>\n",
       "      <td>Eco Park Tourist Information &amp; DENR Environmen...</td>\n",
       "      <td>036918006</td>\n",
       "      <td>POINT (120.44958 15.46446)</td>\n",
       "      <td>13230301321223132232132</td>\n",
       "    </tr>\n",
       "    <tr>\n",
       "      <th>3</th>\n",
       "      <td>1679992929</td>\n",
       "      <td>2701</td>\n",
       "      <td>tourist_info</td>\n",
       "      <td>La Paz Tarlac - Zaragoza Nueva Ecija Boundary</td>\n",
       "      <td>034932027</td>\n",
       "      <td>POINT (120.75832 15.44284)</td>\n",
       "      <td>13230301332111310110220</td>\n",
       "    </tr>\n",
       "    <tr>\n",
       "      <th>4</th>\n",
       "      <td>1714645729</td>\n",
       "      <td>2701</td>\n",
       "      <td>tourist_info</td>\n",
       "      <td>Lucy Pineda</td>\n",
       "      <td>035409019</td>\n",
       "      <td>POINT (120.61452 15.23359)</td>\n",
       "      <td>13230303110021032011230</td>\n",
       "    </tr>\n",
       "  </tbody>\n",
       "</table>\n",
       "</div>"
      ],
      "text/plain": [
       "       osm_id  code        fclass  \\\n",
       "0   560410986  2701  tourist_info   \n",
       "1  1244301672  2701  tourist_info   \n",
       "2  1666684393  2701  tourist_info   \n",
       "3  1679992929  2701  tourist_info   \n",
       "4  1714645729  2701  tourist_info   \n",
       "\n",
       "                                                name BARANGAY_CODE  \\\n",
       "0                               Gawad Kalinga Office     031420009   \n",
       "1  N 15deg 26' 11.1\",    E 120deg 25' 50.2\",   El...     036918006   \n",
       "2  Eco Park Tourist Information & DENR Environmen...     036918006   \n",
       "3      La Paz Tarlac - Zaragoza Nueva Ecija Boundary     034932027   \n",
       "4                                        Lucy Pineda     035409019   \n",
       "\n",
       "                     geometry                  quadkey  \n",
       "0  POINT (121.08516 14.83601)  13230312020312101332220  \n",
       "1  POINT (120.43045 15.43663)  13230301323000331033200  \n",
       "2  POINT (120.44958 15.46446)  13230301321223132232132  \n",
       "3  POINT (120.75832 15.44284)  13230301332111310110220  \n",
       "4  POINT (120.61452 15.23359)  13230303110021032011230  "
      ]
     },
     "execution_count": 61,
     "metadata": {},
     "output_type": "execute_result"
    }
   ],
   "source": [
    "region3_pois_quadkeys.head()"
   ]
  },
  {
   "cell_type": "markdown",
   "id": "73a2ade6-e983-4e8d-801c-07db37fd61b1",
   "metadata": {},
   "source": [
    "Lets compute the zonal stats for each grid as the pois_count.\n",
    "> Notice the computation time is pretty fast"
   ]
  },
  {
   "cell_type": "code",
   "execution_count": 63,
   "id": "821a17e3-3034-4e67-9e66-28e64495a9d1",
   "metadata": {},
   "outputs": [
    {
     "name": "stdout",
     "output_type": "stream",
     "text": [
      "CPU times: user 71.6 ms, sys: 0 ns, total: 71.6 ms\n",
      "Wall time: 69.3 ms\n"
     ]
    }
   ],
   "source": [
    "%%time\n",
    "region3_bingtile_pois = vzs.create_bingtile_zonal_stats(\n",
    "    region3_bingtile_grid,\n",
    "    region3_pois_quadkeys,\n",
    "    aggregations=[dict(func=\"count\", output=\"pois_count\", fillna=True)],\n",
    ")"
   ]
  },
  {
   "cell_type": "code",
   "execution_count": 64,
   "id": "909b32a4-c393-4d5f-b6f1-7e20c5719cda",
   "metadata": {},
   "outputs": [
    {
     "data": {
      "text/html": [
       "<div>\n",
       "<style scoped>\n",
       "    .dataframe tbody tr th:only-of-type {\n",
       "        vertical-align: middle;\n",
       "    }\n",
       "\n",
       "    .dataframe tbody tr th {\n",
       "        vertical-align: top;\n",
       "    }\n",
       "\n",
       "    .dataframe thead th {\n",
       "        text-align: right;\n",
       "    }\n",
       "</style>\n",
       "<table border=\"1\" class=\"dataframe\">\n",
       "  <thead>\n",
       "    <tr style=\"text-align: right;\">\n",
       "      <th></th>\n",
       "      <th>quadkey</th>\n",
       "      <th>geometry</th>\n",
       "      <th>pois_count</th>\n",
       "    </tr>\n",
       "  </thead>\n",
       "  <tbody>\n",
       "    <tr>\n",
       "      <th>5</th>\n",
       "      <td>1323030312020</td>\n",
       "      <td>POLYGON ((120.23438 14.81737, 120.23438 14.859...</td>\n",
       "      <td>8.0</td>\n",
       "    </tr>\n",
       "    <tr>\n",
       "      <th>8</th>\n",
       "      <td>1323030121200</td>\n",
       "      <td>POLYGON ((119.88281 15.74996, 119.88281 15.792...</td>\n",
       "      <td>1.0</td>\n",
       "    </tr>\n",
       "    <tr>\n",
       "      <th>11</th>\n",
       "      <td>1323030121222</td>\n",
       "      <td>POLYGON ((119.88281 15.62304, 119.88281 15.665...</td>\n",
       "      <td>1.0</td>\n",
       "    </tr>\n",
       "    <tr>\n",
       "      <th>13</th>\n",
       "      <td>1323030123002</td>\n",
       "      <td>POLYGON ((119.88281 15.53838, 119.88281 15.580...</td>\n",
       "      <td>1.0</td>\n",
       "    </tr>\n",
       "    <tr>\n",
       "      <th>22</th>\n",
       "      <td>1323030123001</td>\n",
       "      <td>POLYGON ((119.92676 15.58071, 119.92676 15.623...</td>\n",
       "      <td>1.0</td>\n",
       "    </tr>\n",
       "  </tbody>\n",
       "</table>\n",
       "</div>"
      ],
      "text/plain": [
       "          quadkey                                           geometry  \\\n",
       "5   1323030312020  POLYGON ((120.23438 14.81737, 120.23438 14.859...   \n",
       "8   1323030121200  POLYGON ((119.88281 15.74996, 119.88281 15.792...   \n",
       "11  1323030121222  POLYGON ((119.88281 15.62304, 119.88281 15.665...   \n",
       "13  1323030123002  POLYGON ((119.88281 15.53838, 119.88281 15.580...   \n",
       "22  1323030123001  POLYGON ((119.92676 15.58071, 119.92676 15.623...   \n",
       "\n",
       "    pois_count  \n",
       "5          8.0  \n",
       "8          1.0  \n",
       "11         1.0  \n",
       "13         1.0  \n",
       "22         1.0  "
      ]
     },
     "execution_count": 64,
     "metadata": {},
     "output_type": "execute_result"
    }
   ],
   "source": [
    "# no_test\n",
    "region3_bingtile_pois[region3_bingtile_pois.pois_count > 0].head()"
   ]
  },
  {
   "cell_type": "code",
   "execution_count": 65,
   "id": "bce1c433-7415-46ce-b16b-fad60470e4d8",
   "metadata": {},
   "outputs": [
    {
     "data": {
      "image/png": "[encoded data removed]",
      "text/plain": [
       "<Figure size 432x288 with 1 Axes>"
      ]
     },
     "metadata": {
      "needs_background": "light"
     },
     "output_type": "display_data"
    }
   ],
   "source": [
    "# no_test\n",
    "ax = aoi[aoi.Reg_Name == \"Region III\"].plot(\n",
    "    ax=plt.axes(), facecolor=\"none\", edgecolor=\"black\"\n",
    ")\n",
    "ax = region3_bingtile_pois[region3_bingtile_pois.pois_count > 0].plot(\n",
    "    column=\"pois_count\", ax=ax, edgecolor=\"blue\", alpha=0.4\n",
    ")\n",
    "ax = region3_bingtile_pois[region3_bingtile_pois.pois_count == 0].plot(\n",
    "    ax=ax, facecolor=\"none\", edgecolor=\"red\", alpha=0.4\n",
    ")"
   ]
  },
  {
   "cell_type": "markdown",
   "id": "a9d404ca-68b1-408e-afa4-1d1abb0e302e",
   "metadata": {
    "tags": []
   },
   "source": [
    "#### Example 2: Population stats for Region 3 Bing Tile Grid AOI\n",
    "\n",
    "* Input:\n",
    "  - aoi bing tile grids zoom level 13 - region3 (Admin Level 1) (Central Luzon) geometry (geom_type - polygon, multipolygon)\n",
    "  - data - Region 3 pop data (geom_type - points)\n",
    "  - aggregations:\n",
    "    * pop totals, avg, men total and avg, etc , barangay counts, etc.\n",
    "* Output\n",
    "  - aoi bing tile grids zoom level 13 with additional stats"
   ]
  },
  {
   "cell_type": "markdown",
   "id": "7708fe66-f289-4482-84e1-9067d3a2301d",
   "metadata": {},
   "source": [
    "We can also reuse the region34ncr population data to add more zonal statistics to our region3 bingtile pois"
   ]
  },
  {
   "cell_type": "code",
   "execution_count": 66,
   "id": "0fe4605c-26b7-49a5-9ebe-1d803ce01ec6",
   "metadata": {},
   "outputs": [
    {
     "name": "stdout",
     "output_type": "stream",
     "text": [
      "CPU times: user 1.5 s, sys: 0 ns, total: 1.5 s\n",
      "Wall time: 1.5 s\n"
     ]
    }
   ],
   "source": [
    "%%time\n",
    "# Add quadkeys to region34ncr population data\n",
    "region34ncr_pop_data = vzs.compute_quadkey(\n",
    "    region34ncr_pop_data, DATA_ZOOM_LEVEL, inplace=True\n",
    ")  # inplace saves copying"
   ]
  },
  {
   "cell_type": "code",
   "execution_count": 67,
   "id": "43612be1-8c24-4769-879c-7a0a34e84f7b",
   "metadata": {},
   "outputs": [
    {
     "data": {
      "text/html": [
       "<div>\n",
       "<style scoped>\n",
       "    .dataframe tbody tr th:only-of-type {\n",
       "        vertical-align: middle;\n",
       "    }\n",
       "\n",
       "    .dataframe tbody tr th {\n",
       "        vertical-align: top;\n",
       "    }\n",
       "\n",
       "    .dataframe thead th {\n",
       "        text-align: right;\n",
       "    }\n",
       "</style>\n",
       "<table border=\"1\" class=\"dataframe\">\n",
       "  <thead>\n",
       "    <tr style=\"text-align: right;\">\n",
       "      <th></th>\n",
       "      <th>BARANGAY_CODE</th>\n",
       "      <th>population</th>\n",
       "      <th>men</th>\n",
       "      <th>women</th>\n",
       "      <th>children_under_five</th>\n",
       "      <th>youth_15_24</th>\n",
       "      <th>women_of_reproductive_age_15_49</th>\n",
       "      <th>elderly_60_plus</th>\n",
       "      <th>land_area</th>\n",
       "      <th>geometry</th>\n",
       "      <th>quadkey</th>\n",
       "    </tr>\n",
       "  </thead>\n",
       "  <tbody>\n",
       "    <tr>\n",
       "      <th>0</th>\n",
       "      <td>31420020.0</td>\n",
       "      <td>1807</td>\n",
       "      <td>920</td>\n",
       "      <td>887</td>\n",
       "      <td>202</td>\n",
       "      <td>359</td>\n",
       "      <td>468</td>\n",
       "      <td>77</td>\n",
       "      <td>2.183518e+05</td>\n",
       "      <td>POINT (121.05919 14.85825)</td>\n",
       "      <td>13230312020301100210231</td>\n",
       "    </tr>\n",
       "    <tr>\n",
       "      <th>1</th>\n",
       "      <td>34915006.0</td>\n",
       "      <td>3093</td>\n",
       "      <td>1594</td>\n",
       "      <td>1499</td>\n",
       "      <td>352</td>\n",
       "      <td>658</td>\n",
       "      <td>826</td>\n",
       "      <td>159</td>\n",
       "      <td>7.327482e+06</td>\n",
       "      <td>POINT (120.99590 15.62242)</td>\n",
       "      <td>13230310220010101012220</td>\n",
       "    </tr>\n",
       "    <tr>\n",
       "      <th>2</th>\n",
       "      <td>35403009.0</td>\n",
       "      <td>4241</td>\n",
       "      <td>2158</td>\n",
       "      <td>2083</td>\n",
       "      <td>474</td>\n",
       "      <td>821</td>\n",
       "      <td>1112</td>\n",
       "      <td>256</td>\n",
       "      <td>8.740450e+05</td>\n",
       "      <td>POINT (120.77730 15.14580)</td>\n",
       "      <td>13230303111220301103213</td>\n",
       "    </tr>\n",
       "    <tr>\n",
       "      <th>3</th>\n",
       "      <td>35409023.0</td>\n",
       "      <td>3373</td>\n",
       "      <td>1750</td>\n",
       "      <td>1623</td>\n",
       "      <td>296</td>\n",
       "      <td>611</td>\n",
       "      <td>895</td>\n",
       "      <td>244</td>\n",
       "      <td>6.484611e+05</td>\n",
       "      <td>POINT (120.58052 15.22315)</td>\n",
       "      <td>13230303101131332000021</td>\n",
       "    </tr>\n",
       "    <tr>\n",
       "      <th>4</th>\n",
       "      <td>35413009.0</td>\n",
       "      <td>20884</td>\n",
       "      <td>10539</td>\n",
       "      <td>10344</td>\n",
       "      <td>2198</td>\n",
       "      <td>3893</td>\n",
       "      <td>5589</td>\n",
       "      <td>1260</td>\n",
       "      <td>2.015571e+06</td>\n",
       "      <td>POINT (120.68523 15.09163)</td>\n",
       "      <td>13230303112102100203003</td>\n",
       "    </tr>\n",
       "  </tbody>\n",
       "</table>\n",
       "</div>"
      ],
      "text/plain": [
       "   BARANGAY_CODE  population    men  women  children_under_five  youth_15_24  \\\n",
       "0     31420020.0        1807    920    887                  202          359   \n",
       "1     34915006.0        3093   1594   1499                  352          658   \n",
       "2     35403009.0        4241   2158   2083                  474          821   \n",
       "3     35409023.0        3373   1750   1623                  296          611   \n",
       "4     35413009.0       20884  10539  10344                 2198         3893   \n",
       "\n",
       "   women_of_reproductive_age_15_49  elderly_60_plus     land_area  \\\n",
       "0                              468               77  2.183518e+05   \n",
       "1                              826              159  7.327482e+06   \n",
       "2                             1112              256  8.740450e+05   \n",
       "3                              895              244  6.484611e+05   \n",
       "4                             5589             1260  2.015571e+06   \n",
       "\n",
       "                     geometry                  quadkey  \n",
       "0  POINT (121.05919 14.85825)  13230312020301100210231  \n",
       "1  POINT (120.99590 15.62242)  13230310220010101012220  \n",
       "2  POINT (120.77730 15.14580)  13230303111220301103213  \n",
       "3  POINT (120.58052 15.22315)  13230303101131332000021  \n",
       "4  POINT (120.68523 15.09163)  13230303112102100203003  "
      ]
     },
     "execution_count": 67,
     "metadata": {},
     "output_type": "execute_result"
    }
   ],
   "source": [
    "# no_test\n",
    "region34ncr_pop_data.head()"
   ]
  },
  {
   "cell_type": "code",
   "execution_count": 68,
   "id": "3489e820-39e1-4491-930c-d34b063f49b3",
   "metadata": {},
   "outputs": [
    {
     "name": "stdout",
     "output_type": "stream",
     "text": [
      "CPU times: user 528 ms, sys: 0 ns, total: 528 ms\n",
      "Wall time: 526 ms\n"
     ]
    }
   ],
   "source": [
    "%%time\n",
    "region3_bingtile_pois_pop_data = vzs.create_bingtile_zonal_stats(\n",
    "    region3_bingtile_pois,  # reuse from previous example\n",
    "    region34ncr_pop_data,  # updated with quadkeys\n",
    "    aggregations=[\n",
    "        {\"func\": \"count\", \"output\": \"bgy_count\"},\n",
    "        {\n",
    "            \"column\": \"population\",\n",
    "            \"func\": [\"sum\", \"mean\"],\n",
    "            \"output\": [\"pop_total\", \"pop_avg\"],\n",
    "        },\n",
    "        {\"column\": \"men\", \"func\": [\"sum\", \"mean\"], \"output\": [\"men_total\", \"men_avg\"]},\n",
    "        {\n",
    "            \"column\": \"women\",\n",
    "            \"func\": [\"sum\", \"mean\"],\n",
    "            \"output\": [\"women_total\", \"women_avg\"],\n",
    "        },\n",
    "        {\n",
    "            \"column\": \"children_under_five\",\n",
    "            \"func\": [\"sum\", \"mean\"],\n",
    "            \"output\": [\"under5_total\", \"under5_avg\"],\n",
    "        },\n",
    "        {\n",
    "            \"column\": \"youth_15_24\",\n",
    "            \"func\": [\"sum\", \"mean\"],\n",
    "            \"output\": [\"youth_total\", \"youth_avg\"],\n",
    "        },\n",
    "        {\n",
    "            \"column\": \"women_of_reproductive_age_15_49\",\n",
    "            \"func\": [\"sum\", \"mean\"],\n",
    "            \"output\": [\"women_repro_total\", \"women_repro_avg\"],\n",
    "        },\n",
    "        {\n",
    "            \"column\": \"elderly_60_plus\",\n",
    "            \"func\": [\"sum\", \"mean\"],\n",
    "            \"output\": [\"elderly_total\", \"elderly_avg\"],\n",
    "        },\n",
    "        {\n",
    "            \"column\": \"land_area\",\n",
    "            \"func\": [\"sum\", \"mean\", \"min\", \"max\", \"std\"],\n",
    "            \"output\": [\"land_total\", \"land_avg\", \"land_min\", \"land_max\", \"land_std\"],\n",
    "        },\n",
    "    ],\n",
    ")"
   ]
  },
  {
   "cell_type": "code",
   "execution_count": 69,
   "id": "82c22ff5-9cf1-423e-9fd0-0a0a5000e553",
   "metadata": {},
   "outputs": [
    {
     "data": {
      "text/html": [
       "<div>\n",
       "<style scoped>\n",
       "    .dataframe tbody tr th:only-of-type {\n",
       "        vertical-align: middle;\n",
       "    }\n",
       "\n",
       "    .dataframe tbody tr th {\n",
       "        vertical-align: top;\n",
       "    }\n",
       "\n",
       "    .dataframe thead th {\n",
       "        text-align: right;\n",
       "    }\n",
       "</style>\n",
       "<table border=\"1\" class=\"dataframe\">\n",
       "  <thead>\n",
       "    <tr style=\"text-align: right;\">\n",
       "      <th></th>\n",
       "      <th>quadkey</th>\n",
       "      <th>geometry</th>\n",
       "      <th>pois_count</th>\n",
       "      <th>bgy_count</th>\n",
       "      <th>pop_total</th>\n",
       "      <th>pop_avg</th>\n",
       "      <th>men_total</th>\n",
       "      <th>men_avg</th>\n",
       "      <th>women_total</th>\n",
       "      <th>women_avg</th>\n",
       "      <th>...</th>\n",
       "      <th>youth_avg</th>\n",
       "      <th>women_repro_total</th>\n",
       "      <th>women_repro_avg</th>\n",
       "      <th>elderly_total</th>\n",
       "      <th>elderly_avg</th>\n",
       "      <th>land_total</th>\n",
       "      <th>land_avg</th>\n",
       "      <th>land_min</th>\n",
       "      <th>land_max</th>\n",
       "      <th>land_std</th>\n",
       "    </tr>\n",
       "  </thead>\n",
       "  <tbody>\n",
       "    <tr>\n",
       "      <th>5</th>\n",
       "      <td>1323030312020</td>\n",
       "      <td>POLYGON ((120.23438 14.81737, 120.23438 14.859...</td>\n",
       "      <td>8.0</td>\n",
       "      <td>5.0</td>\n",
       "      <td>40890.0</td>\n",
       "      <td>8178.000000</td>\n",
       "      <td>20398.0</td>\n",
       "      <td>4079.600000</td>\n",
       "      <td>20490.0</td>\n",
       "      <td>4098.000000</td>\n",
       "      <td>...</td>\n",
       "      <td>1662.000000</td>\n",
       "      <td>11493.0</td>\n",
       "      <td>2298.600000</td>\n",
       "      <td>2337.0</td>\n",
       "      <td>467.4</td>\n",
       "      <td>4.156777e+06</td>\n",
       "      <td>8.313554e+05</td>\n",
       "      <td>1.319242e+05</td>\n",
       "      <td>2.503691e+06</td>\n",
       "      <td>9.727404e+05</td>\n",
       "    </tr>\n",
       "    <tr>\n",
       "      <th>6</th>\n",
       "      <td>1323030120313</td>\n",
       "      <td>POLYGON ((119.83887 15.70766, 119.83887 15.749...</td>\n",
       "      <td>0.0</td>\n",
       "      <td>1.0</td>\n",
       "      <td>3415.0</td>\n",
       "      <td>3415.000000</td>\n",
       "      <td>1744.0</td>\n",
       "      <td>1744.000000</td>\n",
       "      <td>1670.0</td>\n",
       "      <td>1670.000000</td>\n",
       "      <td>...</td>\n",
       "      <td>648.000000</td>\n",
       "      <td>848.0</td>\n",
       "      <td>848.000000</td>\n",
       "      <td>229.0</td>\n",
       "      <td>229.0</td>\n",
       "      <td>5.552401e+06</td>\n",
       "      <td>5.552401e+06</td>\n",
       "      <td>5.552401e+06</td>\n",
       "      <td>5.552401e+06</td>\n",
       "      <td>NaN</td>\n",
       "    </tr>\n",
       "    <tr>\n",
       "      <th>7</th>\n",
       "      <td>1323030121022</td>\n",
       "      <td>POLYGON ((119.88281 15.79225, 119.88281 15.834...</td>\n",
       "      <td>0.0</td>\n",
       "      <td>1.0</td>\n",
       "      <td>4742.0</td>\n",
       "      <td>4742.000000</td>\n",
       "      <td>2438.0</td>\n",
       "      <td>2438.000000</td>\n",
       "      <td>2304.0</td>\n",
       "      <td>2304.000000</td>\n",
       "      <td>...</td>\n",
       "      <td>828.000000</td>\n",
       "      <td>1114.0</td>\n",
       "      <td>1114.000000</td>\n",
       "      <td>370.0</td>\n",
       "      <td>370.0</td>\n",
       "      <td>5.485826e+06</td>\n",
       "      <td>5.485826e+06</td>\n",
       "      <td>5.485826e+06</td>\n",
       "      <td>5.485826e+06</td>\n",
       "      <td>NaN</td>\n",
       "    </tr>\n",
       "    <tr>\n",
       "      <th>8</th>\n",
       "      <td>1323030121200</td>\n",
       "      <td>POLYGON ((119.88281 15.74996, 119.88281 15.792...</td>\n",
       "      <td>1.0</td>\n",
       "      <td>7.0</td>\n",
       "      <td>21755.0</td>\n",
       "      <td>3107.857143</td>\n",
       "      <td>11047.0</td>\n",
       "      <td>1578.142857</td>\n",
       "      <td>10707.0</td>\n",
       "      <td>1529.571429</td>\n",
       "      <td>...</td>\n",
       "      <td>587.857143</td>\n",
       "      <td>5364.0</td>\n",
       "      <td>766.285714</td>\n",
       "      <td>1631.0</td>\n",
       "      <td>233.0</td>\n",
       "      <td>1.343751e+07</td>\n",
       "      <td>1.919645e+06</td>\n",
       "      <td>5.222719e+05</td>\n",
       "      <td>4.416378e+06</td>\n",
       "      <td>1.395113e+06</td>\n",
       "    </tr>\n",
       "    <tr>\n",
       "      <th>9</th>\n",
       "      <td>1323030121202</td>\n",
       "      <td>POLYGON ((119.88281 15.70766, 119.88281 15.749...</td>\n",
       "      <td>0.0</td>\n",
       "      <td>5.0</td>\n",
       "      <td>10146.0</td>\n",
       "      <td>2029.200000</td>\n",
       "      <td>5257.0</td>\n",
       "      <td>1051.400000</td>\n",
       "      <td>4887.0</td>\n",
       "      <td>977.400000</td>\n",
       "      <td>...</td>\n",
       "      <td>376.600000</td>\n",
       "      <td>2393.0</td>\n",
       "      <td>478.600000</td>\n",
       "      <td>668.0</td>\n",
       "      <td>133.6</td>\n",
       "      <td>1.836666e+07</td>\n",
       "      <td>3.673332e+06</td>\n",
       "      <td>2.364678e+06</td>\n",
       "      <td>5.247429e+06</td>\n",
       "      <td>1.068957e+06</td>\n",
       "    </tr>\n",
       "  </tbody>\n",
       "</table>\n",
       "<p>5 rows × 23 columns</p>\n",
       "</div>"
      ],
      "text/plain": [
       "         quadkey                                           geometry  \\\n",
       "5  1323030312020  POLYGON ((120.23438 14.81737, 120.23438 14.859...   \n",
       "6  1323030120313  POLYGON ((119.83887 15.70766, 119.83887 15.749...   \n",
       "7  1323030121022  POLYGON ((119.88281 15.79225, 119.88281 15.834...   \n",
       "8  1323030121200  POLYGON ((119.88281 15.74996, 119.88281 15.792...   \n",
       "9  1323030121202  POLYGON ((119.88281 15.70766, 119.88281 15.749...   \n",
       "\n",
       "   pois_count  bgy_count  pop_total      pop_avg  men_total      men_avg  \\\n",
       "5         8.0        5.0    40890.0  8178.000000    20398.0  4079.600000   \n",
       "6         0.0        1.0     3415.0  3415.000000     1744.0  1744.000000   \n",
       "7         0.0        1.0     4742.0  4742.000000     2438.0  2438.000000   \n",
       "8         1.0        7.0    21755.0  3107.857143    11047.0  1578.142857   \n",
       "9         0.0        5.0    10146.0  2029.200000     5257.0  1051.400000   \n",
       "\n",
       "   women_total    women_avg  ...    youth_avg  women_repro_total  \\\n",
       "5      20490.0  4098.000000  ...  1662.000000            11493.0   \n",
       "6       1670.0  1670.000000  ...   648.000000              848.0   \n",
       "7       2304.0  2304.000000  ...   828.000000             1114.0   \n",
       "8      10707.0  1529.571429  ...   587.857143             5364.0   \n",
       "9       4887.0   977.400000  ...   376.600000             2393.0   \n",
       "\n",
       "   women_repro_avg  elderly_total  elderly_avg    land_total      land_avg  \\\n",
       "5      2298.600000         2337.0        467.4  4.156777e+06  8.313554e+05   \n",
       "6       848.000000          229.0        229.0  5.552401e+06  5.552401e+06   \n",
       "7      1114.000000          370.0        370.0  5.485826e+06  5.485826e+06   \n",
       "8       766.285714         1631.0        233.0  1.343751e+07  1.919645e+06   \n",
       "9       478.600000          668.0        133.6  1.836666e+07  3.673332e+06   \n",
       "\n",
       "       land_min      land_max      land_std  \n",
       "5  1.319242e+05  2.503691e+06  9.727404e+05  \n",
       "6  5.552401e+06  5.552401e+06           NaN  \n",
       "7  5.485826e+06  5.485826e+06           NaN  \n",
       "8  5.222719e+05  4.416378e+06  1.395113e+06  \n",
       "9  2.364678e+06  5.247429e+06  1.068957e+06  \n",
       "\n",
       "[5 rows x 23 columns]"
      ]
     },
     "execution_count": 69,
     "metadata": {},
     "output_type": "execute_result"
    }
   ],
   "source": [
    "# no_test\n",
    "region3_bingtile_pois_pop_data[region3_bingtile_pois_pop_data.bgy_count.notna()].head()"
   ]
  },
  {
   "cell_type": "code",
   "execution_count": 70,
   "id": "e728167a-5ece-4c46-8fdf-ac9fad02614d",
   "metadata": {},
   "outputs": [
    {
     "data": {
      "image/png": "[encoded data removed]",
      "text/plain": [
       "<Figure size 432x288 with 1 Axes>"
      ]
     },
     "metadata": {
      "needs_background": "light"
     },
     "output_type": "display_data"
    }
   ],
   "source": [
    "# no_test\n",
    "ax = aoi[aoi.Reg_Name == \"Region III\"].plot(\n",
    "    ax=plt.axes(), facecolor=\"none\", edgecolor=\"black\"\n",
    ")\n",
    "ax = region3_bingtile_pois_pop_data[\n",
    "    region3_bingtile_pois_pop_data.bgy_count.notna()\n",
    "].plot(column=\"pop_total\", ax=ax, edgecolor=\"blue\", alpha=0.4)\n",
    "ax = region3_bingtile_pois_pop_data[\n",
    "    region3_bingtile_pois_pop_data.bgy_count.isna()\n",
    "].plot(ax=ax, facecolor=\"none\", edgecolor=\"red\", alpha=0.4)"
   ]
  }
 ],
 "metadata": {
  "kernelspec": {
   "display_name": "Python 3",
   "language": "python",
   "name": "python3"
  },
  "language_info": {
   "codemirror_mode": {
    "name": "ipython",
    "version": 3
   },
   "file_extension": ".py",
   "mimetype": "text/x-python",
   "name": "python",
   "nbconvert_exporter": "python",
   "pygments_lexer": "ipython3",
   "version": "3.9.13"
  }
 },
 "nbformat": 4,
 "nbformat_minor": 5
}
