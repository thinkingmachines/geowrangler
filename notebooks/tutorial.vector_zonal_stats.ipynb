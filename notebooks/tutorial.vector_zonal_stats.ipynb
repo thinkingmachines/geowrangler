{
 "cells": [
  {
   "cell_type": "code",
   "execution_count": 1,
   "id": "699f9813-1436-4348-b044-7163e6c65eda",
   "metadata": {},
   "outputs": [],
   "source": [
    "# hide\n",
    "# no_test\n",
    "! [ -e /content ] && pip install -Uqq git+https://github.com/thinkingmachines/geowrangler.git"
   ]
  },
  {
   "cell_type": "code",
   "execution_count": 2,
   "id": "a7b76044-95d4-4570-b145-bacefc2bfc8d",
   "metadata": {},
   "outputs": [],
   "source": [
    "# hide\n",
    "# no_test\n",
    "!mkdir -p ../data\n",
    "![ -e /content ] && ln -s ../data ."
   ]
  },
  {
   "cell_type": "code",
   "execution_count": 3,
   "id": "a2b36dee-d74a-4771-bb63-124a2686fd82",
   "metadata": {},
   "outputs": [],
   "source": [
    "# hide\n",
    "# no_test\n",
    "%reload_ext autoreload\n",
    "%autoreload 2\n",
    "%matplotlib inline"
   ]
  },
  {
   "cell_type": "code",
   "execution_count": 4,
   "id": "275c6a44-2aab-4a9e-b712-4b875d866d51",
   "metadata": {},
   "outputs": [],
   "source": [
    "# hide\n",
    "# no_test\n",
    "# conditionally load nb_black cell magic\n",
    "import sys\n",
    "\n",
    "if \"google.colab\" not in sys.modules:\n",
    "    from IPython import get_ipython\n",
    "\n",
    "    ipython = get_ipython()\n",
    "    ipython.magic(\"reload_ext lab_black\")"
   ]
  },
  {
   "cell_type": "code",
   "execution_count": 5,
   "id": "98806ab8-cb99-4676-b19f-64ecde0bcd6e",
   "metadata": {},
   "outputs": [
    {
     "name": "stderr",
     "output_type": "stream",
     "text": [
      "/home/butchtm/work/ai4d/geowrangler/.venv/lib/python3.7/site-packages/geopandas/_compat.py:115: UserWarning: The Shapely GEOS version (3.10.2-CAPI-1.16.0) is incompatible with the GEOS version PyGEOS was compiled with (3.10.1-CAPI-1.16.0). Conversions between both will be slow.\n",
      "  shapely_geos_version, geos_capi_version_string\n"
     ]
    }
   ],
   "source": [
    "import geopandas as gpd\n",
    "import matplotlib.pyplot as plt\n",
    "\n",
    "import geowrangler.vector_zonal_stats as vzs"
   ]
  },
  {
   "cell_type": "markdown",
   "id": "9be8c9be-01ee-419f-a360-d83c5a4d3fbc",
   "metadata": {
    "tags": []
   },
   "source": [
    "# Vector Zonal Stats Tutorial"
   ]
  },
  {
   "cell_type": "markdown",
   "id": "0d74e4d0-1ebb-4e16-9a2c-c8190819912c",
   "metadata": {},
   "source": [
    "> A basic introduction to Vector Zonal Stats "
   ]
  },
  {
   "cell_type": "markdown",
   "id": "ec108626-a06a-4f9e-8201-878a26987c92",
   "metadata": {},
   "source": [
    "[![Open in Colab](https://colab.research.google.com/assets/colab-badge.svg)](https://colab.research.google.com/github/thinkingmachines/geowrangler/blob/master/notebooks/tutorial.vector_zonal_stats.ipynb)\n"
   ]
  },
  {
   "cell_type": "markdown",
   "id": "b6eb90f0-d1be-418a-b4e4-500280b3e10b",
   "metadata": {
    "tags": []
   },
   "source": [
    "## Basic Usage\n",
    "\n",
    "Generate zonal stats for a GeoDataframe containing areas of interest\n",
    "\n",
    "Terms:\n",
    "\n",
    "* **aoi** - Area of Interest: a geodataframe which we are interested in generating zonal statistics for\n",
    "* **data** - Data: the source geodataframe containing data\n"
   ]
  },
  {
   "cell_type": "markdown",
   "id": "05ce9679-69d0-4c09-b3a1-a344353a6585",
   "metadata": {
    "tags": []
   },
   "source": [
    "#### Usecase 1 - Count POIs (Points of Interest) "
   ]
  },
  {
   "cell_type": "markdown",
   "id": "1be8fe67-cf4f-4ebe-ab08-792984cc1e74",
   "metadata": {
    "tags": []
   },
   "source": [
    "* Example 1\n",
    "\n",
    "   * Input: \n",
    "      - aoi - region3,4,ncr regions (Admin Level 1) (Central Luzon) geometry (geom_type - polygon, multipolygon)\n",
    "      - data - Philippine pois (geom_type - points) \n",
    "      - overlap_method = 'intersects'\n",
    "      - aggregations:\n",
    "         * count \n",
    "            - number of pois within aoi\n",
    "  * Output\n",
    "    - aoi with pois count (default output column: `aoi_index_count`)"
   ]
  },
  {
   "cell_type": "code",
   "execution_count": 6,
   "id": "47b42c74-9df7-4231-970a-17f3832cd49b",
   "metadata": {
    "tags": []
   },
   "outputs": [
    {
     "name": "stdout",
     "output_type": "stream",
     "text": [
      "CPU times: user 2.88 s, sys: 277 ms, total: 3.16 s\n",
      "Wall time: 3.15 s\n"
     ]
    }
   ],
   "source": [
    "%%time\n",
    "# area multipolygons for regions 3,4,ncr of the philippines\n",
    "aoi = gpd.read_file(\"../data/region34ncr_admin.geojson\")"
   ]
  },
  {
   "cell_type": "code",
   "execution_count": 7,
   "id": "705e5c6f-5ad7-4fef-9949-1a91154564fd",
   "metadata": {},
   "outputs": [
    {
     "data": {
      "image/png": "[encoded data removed]",
      "text/plain": [
       "<Figure size 432x288 with 1 Axes>"
      ]
     },
     "metadata": {
      "needs_background": "light"
     },
     "output_type": "display_data"
    }
   ],
   "source": [
    "# no_test\n",
    "ax = aoi.plot(\n",
    "    ax=plt.axes(),\n",
    "    facecolor=\"none\",\n",
    "    edgecolor=[\n",
    "        \"#C62828\",\n",
    "        \"#283593\",\n",
    "        \"#FF9800\",\n",
    "    ],\n",
    ")"
   ]
  },
  {
   "cell_type": "code",
   "execution_count": 8,
   "id": "5d562862-9ba9-4546-9e57-b73457a5a60b",
   "metadata": {},
   "outputs": [
    {
     "data": {
      "text/html": [
       "<div>\n",
       "<style scoped>\n",
       "    .dataframe tbody tr th:only-of-type {\n",
       "        vertical-align: middle;\n",
       "    }\n",
       "\n",
       "    .dataframe tbody tr th {\n",
       "        vertical-align: top;\n",
       "    }\n",
       "\n",
       "    .dataframe thead th {\n",
       "        text-align: right;\n",
       "    }\n",
       "</style>\n",
       "<table border=\"1\" class=\"dataframe\">\n",
       "  <thead>\n",
       "    <tr style=\"text-align: right;\">\n",
       "      <th></th>\n",
       "      <th>Reg_Code</th>\n",
       "      <th>Reg_Name</th>\n",
       "      <th>Reg_Alt_Name</th>\n",
       "      <th>geometry</th>\n",
       "    </tr>\n",
       "  </thead>\n",
       "  <tbody>\n",
       "    <tr>\n",
       "      <th>0</th>\n",
       "      <td>130000000</td>\n",
       "      <td>National Capital Region</td>\n",
       "      <td>NCR</td>\n",
       "      <td>MULTIPOLYGON (((121.03842 14.78525, 121.03815 ...</td>\n",
       "    </tr>\n",
       "    <tr>\n",
       "      <th>1</th>\n",
       "      <td>030000000</td>\n",
       "      <td>Region III</td>\n",
       "      <td>Central Luzon</td>\n",
       "      <td>MULTIPOLYGON (((120.11687 14.76309, 120.11684 ...</td>\n",
       "    </tr>\n",
       "    <tr>\n",
       "      <th>2</th>\n",
       "      <td>040000000</td>\n",
       "      <td>Region IV-A</td>\n",
       "      <td>Calabarzon</td>\n",
       "      <td>MULTIPOLYGON (((122.72165 13.36485, 122.72143 ...</td>\n",
       "    </tr>\n",
       "  </tbody>\n",
       "</table>\n",
       "</div>"
      ],
      "text/plain": [
       "    Reg_Code                 Reg_Name   Reg_Alt_Name  \\\n",
       "0  130000000  National Capital Region            NCR   \n",
       "1  030000000               Region III  Central Luzon   \n",
       "2  040000000              Region IV-A     Calabarzon   \n",
       "\n",
       "                                            geometry  \n",
       "0  MULTIPOLYGON (((121.03842 14.78525, 121.03815 ...  \n",
       "1  MULTIPOLYGON (((120.11687 14.76309, 120.11684 ...  \n",
       "2  MULTIPOLYGON (((122.72165 13.36485, 122.72143 ...  "
      ]
     },
     "execution_count": 8,
     "metadata": {},
     "output_type": "execute_result"
    }
   ],
   "source": [
    "aoi"
   ]
  },
  {
   "cell_type": "code",
   "execution_count": 9,
   "id": "f928ffc5-643c-462b-baef-83da9c1e4684",
   "metadata": {
    "tags": []
   },
   "outputs": [
    {
     "name": "stdout",
     "output_type": "stream",
     "text": [
      "CPU times: user 166 ms, sys: 809 µs, total: 167 ms\n",
      "Wall time: 165 ms\n"
     ]
    }
   ],
   "source": [
    "%%time\n",
    "# raw pois from osm data (subset of region3,4, ncr only)\n",
    "raw_data = gpd.read_file(\"../data/region34ncr_osm_pois.geojson\")"
   ]
  },
  {
   "cell_type": "code",
   "execution_count": 10,
   "id": "17722aaa-1888-4755-bf05-5bfbbfb43c1f",
   "metadata": {},
   "outputs": [
    {
     "name": "stdout",
     "output_type": "stream",
     "text": [
      "CPU times: user 104 ms, sys: 589 µs, total: 105 ms\n",
      "Wall time: 103 ms\n"
     ]
    }
   ],
   "source": [
    "%%time\n",
    "aoi = vzs.create_zonal_stats(\n",
    "    aoi,\n",
    "    raw_data,\n",
    "    overlap_method=\"intersects\",\n",
    "    aggregations=[{\"func\": \"count\"}],\n",
    ")"
   ]
  },
  {
   "cell_type": "code",
   "execution_count": 11,
   "id": "8c4441ab-d3d2-406a-a0ce-8b8068ed375e",
   "metadata": {},
   "outputs": [
    {
     "name": "stdout",
     "output_type": "stream",
     "text": [
      "CPU times: user 1e+03 ns, sys: 0 ns, total: 1e+03 ns\n",
      "Wall time: 5.25 µs\n"
     ]
    },
    {
     "data": {
      "text/html": [
       "<div>\n",
       "<style scoped>\n",
       "    .dataframe tbody tr th:only-of-type {\n",
       "        vertical-align: middle;\n",
       "    }\n",
       "\n",
       "    .dataframe tbody tr th {\n",
       "        vertical-align: top;\n",
       "    }\n",
       "\n",
       "    .dataframe thead th {\n",
       "        text-align: right;\n",
       "    }\n",
       "</style>\n",
       "<table border=\"1\" class=\"dataframe\">\n",
       "  <thead>\n",
       "    <tr style=\"text-align: right;\">\n",
       "      <th></th>\n",
       "      <th>Reg_Code</th>\n",
       "      <th>Reg_Name</th>\n",
       "      <th>Reg_Alt_Name</th>\n",
       "      <th>geometry</th>\n",
       "      <th>aoi_index_count</th>\n",
       "    </tr>\n",
       "  </thead>\n",
       "  <tbody>\n",
       "    <tr>\n",
       "      <th>0</th>\n",
       "      <td>130000000</td>\n",
       "      <td>National Capital Region</td>\n",
       "      <td>NCR</td>\n",
       "      <td>MULTIPOLYGON (((121.03842 14.78525, 121.03815 ...</td>\n",
       "      <td>880</td>\n",
       "    </tr>\n",
       "    <tr>\n",
       "      <th>1</th>\n",
       "      <td>030000000</td>\n",
       "      <td>Region III</td>\n",
       "      <td>Central Luzon</td>\n",
       "      <td>MULTIPOLYGON (((120.11687 14.76309, 120.11684 ...</td>\n",
       "      <td>701</td>\n",
       "    </tr>\n",
       "    <tr>\n",
       "      <th>2</th>\n",
       "      <td>040000000</td>\n",
       "      <td>Region IV-A</td>\n",
       "      <td>Calabarzon</td>\n",
       "      <td>MULTIPOLYGON (((122.72165 13.36485, 122.72143 ...</td>\n",
       "      <td>1253</td>\n",
       "    </tr>\n",
       "  </tbody>\n",
       "</table>\n",
       "</div>"
      ],
      "text/plain": [
       "    Reg_Code                 Reg_Name   Reg_Alt_Name  \\\n",
       "0  130000000  National Capital Region            NCR   \n",
       "1  030000000               Region III  Central Luzon   \n",
       "2  040000000              Region IV-A     Calabarzon   \n",
       "\n",
       "                                            geometry  aoi_index_count  \n",
       "0  MULTIPOLYGON (((121.03842 14.78525, 121.03815 ...              880  \n",
       "1  MULTIPOLYGON (((120.11687 14.76309, 120.11684 ...              701  \n",
       "2  MULTIPOLYGON (((122.72165 13.36485, 122.72143 ...             1253  "
      ]
     },
     "execution_count": 11,
     "metadata": {},
     "output_type": "execute_result"
    }
   ],
   "source": [
    "%%time\n",
    "# no_test\n",
    "aoi"
   ]
  },
  {
   "cell_type": "code",
   "execution_count": 12,
   "id": "e7d29496-90fc-4efd-a2a1-d039a6102ab0",
   "metadata": {},
   "outputs": [],
   "source": [
    "# hide\n",
    "# drop newly created zonal stat\n",
    "aoi.drop(labels=[\"aoi_index_count\"], inplace=True, axis=1)"
   ]
  },
  {
   "cell_type": "markdown",
   "id": "01790bca-fb6b-461f-9485-fe0386f1a91a",
   "metadata": {
    "tags": []
   },
   "source": [
    "* Example 2\n",
    "\n",
    "   * Input: \n",
    "      - aoi - region3,4,ncr regions (Admin Level 1) (Central Luzon, NCR, Calabarzon) geometry (geom_type - polygon, multipolygon)\n",
    "      - attractions - filtered Philippine pois (Central Luzon, NCR, Calabarzon only) (geom_type - points) with `fclass` == 'attraction' \n",
    "      - overlap_method = 'intersects'\n",
    "      - aggregations:\n",
    "         * count \n",
    "            - number of pois within aoi\n",
    "            - output column name `attractions`\n",
    "  * Output\n",
    "    - aoi with pois count"
   ]
  },
  {
   "cell_type": "code",
   "execution_count": 13,
   "id": "f3567a32-ba0e-4589-b4ac-dfb51710d5e8",
   "metadata": {},
   "outputs": [],
   "source": [
    "# hide\n",
    "# select only 'attraction' pois\n",
    "attractions = raw_data[raw_data.fclass == \"attraction\"]"
   ]
  },
  {
   "cell_type": "code",
   "execution_count": 14,
   "id": "dd8cc165-550c-428d-af36-63f0e96b8d34",
   "metadata": {},
   "outputs": [],
   "source": [
    "# hide\n",
    "aoi_attr = vzs.create_zonal_stats(aoi, attractions, aggregations=[{\"func\": \"count\"}])"
   ]
  },
  {
   "cell_type": "code",
   "execution_count": 15,
   "id": "6cbf9011-9911-49e8-9ac7-284549bd6a16",
   "metadata": {},
   "outputs": [],
   "source": [
    "# hide\n",
    "assert [*list(aoi.columns.values), \"aoi_index_count\"] == list(aoi_attr.columns.values)"
   ]
  },
  {
   "cell_type": "code",
   "execution_count": 16,
   "id": "bd29e8d1-ac0c-4939-9609-de90ccdb4b73",
   "metadata": {
    "tags": []
   },
   "outputs": [
    {
     "data": {
      "text/plain": [
       "True"
      ]
     },
     "execution_count": 16,
     "metadata": {},
     "output_type": "execute_result"
    }
   ],
   "source": [
    "# hide\n",
    "len(aoi_attr) == len(aoi)"
   ]
  },
  {
   "cell_type": "code",
   "execution_count": 17,
   "id": "90652a2f-9fcf-42cd-8285-6208194a1cc7",
   "metadata": {},
   "outputs": [],
   "source": [
    "# hide\n",
    "assert aoi_attr.drop(\"aoi_index_count\", axis=1).equals(aoi)"
   ]
  },
  {
   "cell_type": "code",
   "execution_count": 18,
   "id": "4fb55c54-d2dd-4c95-af3b-a42a28a574f7",
   "metadata": {},
   "outputs": [],
   "source": [
    "# hide\n",
    "assert [136, 205, 312] == aoi_attr[[\"aoi_index_count\"]].values.flatten().tolist()"
   ]
  },
  {
   "cell_type": "markdown",
   "id": "21e7f229-fdda-4af9-aeef-556c3b362010",
   "metadata": {},
   "source": [
    "Add `output` key to specify output column name for count"
   ]
  },
  {
   "cell_type": "code",
   "execution_count": 19,
   "id": "ba6830c5-1250-4dab-b06e-7bf4503c1532",
   "metadata": {},
   "outputs": [
    {
     "name": "stdout",
     "output_type": "stream",
     "text": [
      "CPU times: user 123 ms, sys: 279 µs, total: 124 ms\n",
      "Wall time: 121 ms\n"
     ]
    }
   ],
   "source": [
    "%%time\n",
    "aoi_attr = vzs.create_zonal_stats(\n",
    "    aoi, attractions, aggregations=[{\"func\": \"count\", \"output\": \"attractions\"}]\n",
    ")"
   ]
  },
  {
   "cell_type": "code",
   "execution_count": 20,
   "id": "ba0fb9ad-2ae1-4ac7-9bc9-9e805dfe4cbb",
   "metadata": {},
   "outputs": [
    {
     "data": {
      "text/html": [
       "<div>\n",
       "<style scoped>\n",
       "    .dataframe tbody tr th:only-of-type {\n",
       "        vertical-align: middle;\n",
       "    }\n",
       "\n",
       "    .dataframe tbody tr th {\n",
       "        vertical-align: top;\n",
       "    }\n",
       "\n",
       "    .dataframe thead th {\n",
       "        text-align: right;\n",
       "    }\n",
       "</style>\n",
       "<table border=\"1\" class=\"dataframe\">\n",
       "  <thead>\n",
       "    <tr style=\"text-align: right;\">\n",
       "      <th></th>\n",
       "      <th>Reg_Code</th>\n",
       "      <th>Reg_Name</th>\n",
       "      <th>Reg_Alt_Name</th>\n",
       "      <th>geometry</th>\n",
       "      <th>attractions</th>\n",
       "    </tr>\n",
       "  </thead>\n",
       "  <tbody>\n",
       "    <tr>\n",
       "      <th>0</th>\n",
       "      <td>130000000</td>\n",
       "      <td>National Capital Region</td>\n",
       "      <td>NCR</td>\n",
       "      <td>MULTIPOLYGON (((121.03842 14.78525, 121.03815 ...</td>\n",
       "      <td>136</td>\n",
       "    </tr>\n",
       "    <tr>\n",
       "      <th>1</th>\n",
       "      <td>030000000</td>\n",
       "      <td>Region III</td>\n",
       "      <td>Central Luzon</td>\n",
       "      <td>MULTIPOLYGON (((120.11687 14.76309, 120.11684 ...</td>\n",
       "      <td>205</td>\n",
       "    </tr>\n",
       "    <tr>\n",
       "      <th>2</th>\n",
       "      <td>040000000</td>\n",
       "      <td>Region IV-A</td>\n",
       "      <td>Calabarzon</td>\n",
       "      <td>MULTIPOLYGON (((122.72165 13.36485, 122.72143 ...</td>\n",
       "      <td>312</td>\n",
       "    </tr>\n",
       "  </tbody>\n",
       "</table>\n",
       "</div>"
      ],
      "text/plain": [
       "    Reg_Code                 Reg_Name   Reg_Alt_Name  \\\n",
       "0  130000000  National Capital Region            NCR   \n",
       "1  030000000               Region III  Central Luzon   \n",
       "2  040000000              Region IV-A     Calabarzon   \n",
       "\n",
       "                                            geometry  attractions  \n",
       "0  MULTIPOLYGON (((121.03842 14.78525, 121.03815 ...          136  \n",
       "1  MULTIPOLYGON (((120.11687 14.76309, 120.11684 ...          205  \n",
       "2  MULTIPOLYGON (((122.72165 13.36485, 122.72143 ...          312  "
      ]
     },
     "execution_count": 20,
     "metadata": {},
     "output_type": "execute_result"
    }
   ],
   "source": [
    "# no_test\n",
    "aoi_attr"
   ]
  },
  {
   "cell_type": "code",
   "execution_count": 21,
   "id": "98b7b4be-7883-4f94-a140-3f39a1adb048",
   "metadata": {
    "tags": []
   },
   "outputs": [],
   "source": [
    "# hide\n",
    "assert [*list(aoi.columns.values), \"attractions\"] == list(aoi_attr.columns.values)"
   ]
  },
  {
   "cell_type": "markdown",
   "id": "b6594e1c-a6ec-402c-9520-ba589d71320b",
   "metadata": {
    "tags": []
   },
   "source": [
    "* Example 3\n",
    "\n",
    "   * Input: \n",
    "      - aoi - gridded tiles for Region 3 (Central Luzon) at 15km x 15km size \n",
    "      - data - region 3 data filtered from philippine pois (geom_type - points) \n",
    "      - overlap_method = 'intersects'\n",
    "      - aggregations:\n",
    "         * count \n",
    "            - number of pois within aoi\n",
    "            - output column name\n",
    "  * Output\n",
    "    - aoi with pois count"
   ]
  },
  {
   "cell_type": "code",
   "execution_count": 22,
   "id": "0700d3ac-8412-47d0-99d8-c96ade86b305",
   "metadata": {},
   "outputs": [
    {
     "name": "stdout",
     "output_type": "stream",
     "text": [
      "CPU times: user 135 ms, sys: 20.5 ms, total: 155 ms\n",
      "Wall time: 136 ms\n"
     ]
    }
   ],
   "source": [
    "%%time\n",
    "# load gridded tiles\n",
    "grid_aoi = gpd.read_file(\"../data/region3_admin_grids.geojson\")"
   ]
  },
  {
   "cell_type": "code",
   "execution_count": 23,
   "id": "9ca8f6e5-bcd2-49fa-88b2-f05bf84c4e99",
   "metadata": {
    "tags": []
   },
   "outputs": [
    {
     "name": "stdout",
     "output_type": "stream",
     "text": [
      "CPU times: user 80.4 ms, sys: 924 µs, total: 81.3 ms\n",
      "Wall time: 79.9 ms\n"
     ]
    }
   ],
   "source": [
    "%%time\n",
    "region3_pois = gpd.read_file(\"../data/region3_osm_pois.geojson\")"
   ]
  },
  {
   "cell_type": "code",
   "execution_count": 24,
   "id": "ed31f275-93d0-4c6e-8a0c-808ee60da1a7",
   "metadata": {},
   "outputs": [
    {
     "data": {
      "text/html": [
       "<div>\n",
       "<style scoped>\n",
       "    .dataframe tbody tr th:only-of-type {\n",
       "        vertical-align: middle;\n",
       "    }\n",
       "\n",
       "    .dataframe tbody tr th {\n",
       "        vertical-align: top;\n",
       "    }\n",
       "\n",
       "    .dataframe thead th {\n",
       "        text-align: right;\n",
       "    }\n",
       "</style>\n",
       "<table border=\"1\" class=\"dataframe\">\n",
       "  <thead>\n",
       "    <tr style=\"text-align: right;\">\n",
       "      <th></th>\n",
       "      <th>osm_id</th>\n",
       "      <th>code</th>\n",
       "      <th>fclass</th>\n",
       "      <th>name</th>\n",
       "      <th>BARANGAY_CODE</th>\n",
       "      <th>geometry</th>\n",
       "    </tr>\n",
       "  </thead>\n",
       "  <tbody>\n",
       "    <tr>\n",
       "      <th>0</th>\n",
       "      <td>560410986</td>\n",
       "      <td>2701</td>\n",
       "      <td>tourist_info</td>\n",
       "      <td>Gawad Kalinga Office</td>\n",
       "      <td>031420009</td>\n",
       "      <td>POINT (121.08516 14.83601)</td>\n",
       "    </tr>\n",
       "    <tr>\n",
       "      <th>1</th>\n",
       "      <td>1244301672</td>\n",
       "      <td>2701</td>\n",
       "      <td>tourist_info</td>\n",
       "      <td>N 15deg 26' 11.1\",    E 120deg 25' 50.2\",   El...</td>\n",
       "      <td>036918006</td>\n",
       "      <td>POINT (120.43045 15.43663)</td>\n",
       "    </tr>\n",
       "    <tr>\n",
       "      <th>2</th>\n",
       "      <td>1666684393</td>\n",
       "      <td>2701</td>\n",
       "      <td>tourist_info</td>\n",
       "      <td>Eco Park Tourist Information &amp; DENR Environmen...</td>\n",
       "      <td>036918006</td>\n",
       "      <td>POINT (120.44958 15.46446)</td>\n",
       "    </tr>\n",
       "    <tr>\n",
       "      <th>3</th>\n",
       "      <td>1679992929</td>\n",
       "      <td>2701</td>\n",
       "      <td>tourist_info</td>\n",
       "      <td>La Paz Tarlac - Zaragoza Nueva Ecija Boundary</td>\n",
       "      <td>034932027</td>\n",
       "      <td>POINT (120.75832 15.44284)</td>\n",
       "    </tr>\n",
       "    <tr>\n",
       "      <th>4</th>\n",
       "      <td>1714645729</td>\n",
       "      <td>2701</td>\n",
       "      <td>tourist_info</td>\n",
       "      <td>Lucy Pineda</td>\n",
       "      <td>035409019</td>\n",
       "      <td>POINT (120.61452 15.23359)</td>\n",
       "    </tr>\n",
       "  </tbody>\n",
       "</table>\n",
       "</div>"
      ],
      "text/plain": [
       "       osm_id  code        fclass  \\\n",
       "0   560410986  2701  tourist_info   \n",
       "1  1244301672  2701  tourist_info   \n",
       "2  1666684393  2701  tourist_info   \n",
       "3  1679992929  2701  tourist_info   \n",
       "4  1714645729  2701  tourist_info   \n",
       "\n",
       "                                                name BARANGAY_CODE  \\\n",
       "0                               Gawad Kalinga Office     031420009   \n",
       "1  N 15deg 26' 11.1\",    E 120deg 25' 50.2\",   El...     036918006   \n",
       "2  Eco Park Tourist Information & DENR Environmen...     036918006   \n",
       "3      La Paz Tarlac - Zaragoza Nueva Ecija Boundary     034932027   \n",
       "4                                        Lucy Pineda     035409019   \n",
       "\n",
       "                     geometry  \n",
       "0  POINT (121.08516 14.83601)  \n",
       "1  POINT (120.43045 15.43663)  \n",
       "2  POINT (120.44958 15.46446)  \n",
       "3  POINT (120.75832 15.44284)  \n",
       "4  POINT (120.61452 15.23359)  "
      ]
     },
     "execution_count": 24,
     "metadata": {},
     "output_type": "execute_result"
    }
   ],
   "source": [
    "region3_pois.head()"
   ]
  },
  {
   "cell_type": "code",
   "execution_count": 25,
   "id": "7a551862-8721-4b31-8613-070dd1050cf9",
   "metadata": {},
   "outputs": [
    {
     "data": {
      "text/plain": [
       "701"
      ]
     },
     "execution_count": 25,
     "metadata": {},
     "output_type": "execute_result"
    }
   ],
   "source": [
    "len(region3_pois)"
   ]
  },
  {
   "cell_type": "code",
   "execution_count": 26,
   "id": "51d06250-45c7-4995-8192-15706cad9fa4",
   "metadata": {},
   "outputs": [
    {
     "data": {
      "text/plain": [
       "array(['x', 'y', 'geometry'], dtype=object)"
      ]
     },
     "execution_count": 26,
     "metadata": {},
     "output_type": "execute_result"
    }
   ],
   "source": [
    "grid_aoi.columns.values"
   ]
  },
  {
   "cell_type": "code",
   "execution_count": 27,
   "id": "e4246587-beae-4684-89f8-867209f21da1",
   "metadata": {},
   "outputs": [
    {
     "data": {
      "text/plain": [
       "array(['osm_id', 'code', 'fclass', 'name', 'BARANGAY_CODE', 'geometry'],\n",
       "      dtype=object)"
      ]
     },
     "execution_count": 27,
     "metadata": {},
     "output_type": "execute_result"
    }
   ],
   "source": [
    "region3_pois.columns.values"
   ]
  },
  {
   "cell_type": "code",
   "execution_count": 28,
   "id": "49e567b9-ad4a-43be-b0dd-bdf5eb72d400",
   "metadata": {},
   "outputs": [
    {
     "name": "stdout",
     "output_type": "stream",
     "text": [
      "CPU times: user 32.6 ms, sys: 10.3 ms, total: 42.9 ms\n",
      "Wall time: 40.2 ms\n"
     ]
    },
    {
     "data": {
      "text/html": [
       "<div>\n",
       "<style scoped>\n",
       "    .dataframe tbody tr th:only-of-type {\n",
       "        vertical-align: middle;\n",
       "    }\n",
       "\n",
       "    .dataframe tbody tr th {\n",
       "        vertical-align: top;\n",
       "    }\n",
       "\n",
       "    .dataframe thead th {\n",
       "        text-align: right;\n",
       "    }\n",
       "</style>\n",
       "<table border=\"1\" class=\"dataframe\">\n",
       "  <thead>\n",
       "    <tr style=\"text-align: right;\">\n",
       "      <th></th>\n",
       "      <th>x</th>\n",
       "      <th>y</th>\n",
       "      <th>geometry</th>\n",
       "      <th>pois_count</th>\n",
       "    </tr>\n",
       "  </thead>\n",
       "  <tbody>\n",
       "    <tr>\n",
       "      <th>0</th>\n",
       "      <td>0</td>\n",
       "      <td>30</td>\n",
       "      <td>POLYGON ((119.78583 15.70870, 119.83075 15.708...</td>\n",
       "      <td>0.0</td>\n",
       "    </tr>\n",
       "    <tr>\n",
       "      <th>1</th>\n",
       "      <td>0</td>\n",
       "      <td>31</td>\n",
       "      <td>POLYGON ((119.78583 15.75193, 119.83075 15.751...</td>\n",
       "      <td>0.0</td>\n",
       "    </tr>\n",
       "    <tr>\n",
       "      <th>2</th>\n",
       "      <td>0</td>\n",
       "      <td>32</td>\n",
       "      <td>POLYGON ((119.78583 15.79516, 119.83075 15.795...</td>\n",
       "      <td>0.0</td>\n",
       "    </tr>\n",
       "    <tr>\n",
       "      <th>3</th>\n",
       "      <td>1</td>\n",
       "      <td>30</td>\n",
       "      <td>POLYGON ((119.83075 15.70870, 119.87566 15.708...</td>\n",
       "      <td>0.0</td>\n",
       "    </tr>\n",
       "    <tr>\n",
       "      <th>4</th>\n",
       "      <td>1</td>\n",
       "      <td>32</td>\n",
       "      <td>POLYGON ((119.83075 15.79516, 119.87566 15.795...</td>\n",
       "      <td>0.0</td>\n",
       "    </tr>\n",
       "  </tbody>\n",
       "</table>\n",
       "</div>"
      ],
      "text/plain": [
       "   x   y                                           geometry  pois_count\n",
       "0  0  30  POLYGON ((119.78583 15.70870, 119.83075 15.708...         0.0\n",
       "1  0  31  POLYGON ((119.78583 15.75193, 119.83075 15.751...         0.0\n",
       "2  0  32  POLYGON ((119.78583 15.79516, 119.83075 15.795...         0.0\n",
       "3  1  30  POLYGON ((119.83075 15.70870, 119.87566 15.708...         0.0\n",
       "4  1  32  POLYGON ((119.83075 15.79516, 119.87566 15.795...         0.0"
      ]
     },
     "execution_count": 28,
     "metadata": {},
     "output_type": "execute_result"
    }
   ],
   "source": [
    "%%time\n",
    "grid_aoi = vzs.create_zonal_stats(\n",
    "    grid_aoi,\n",
    "    region3_pois,\n",
    "    overlap_method=\"intersects\",\n",
    "    aggregations=[{\"func\": \"count\", \"output\": \"pois_count\"}],\n",
    ")\n",
    "grid_aoi.head()"
   ]
  },
  {
   "cell_type": "code",
   "execution_count": 29,
   "id": "fd8f63aa-71db-43e0-be7b-176237f964a1",
   "metadata": {},
   "outputs": [
    {
     "data": {
      "text/plain": [
       "701.0"
      ]
     },
     "execution_count": 29,
     "metadata": {},
     "output_type": "execute_result"
    }
   ],
   "source": [
    "grid_aoi.pois_count.sum()"
   ]
  },
  {
   "cell_type": "code",
   "execution_count": 30,
   "id": "bb7d3900-482f-4a93-926f-6b432225abeb",
   "metadata": {},
   "outputs": [],
   "source": [
    "# hide\n",
    "assert grid_aoi.pois_count.sum() == len(region3_pois)"
   ]
  },
  {
   "cell_type": "code",
   "execution_count": 31,
   "id": "da5fd399-d8fb-41db-9baf-6807323334e0",
   "metadata": {},
   "outputs": [
    {
     "data": {
      "image/png": "[encoded data removed]",
      "text/plain": [
       "<Figure size 432x288 with 1 Axes>"
      ]
     },
     "metadata": {
      "needs_background": "light"
     },
     "output_type": "display_data"
    }
   ],
   "source": [
    "# no_test\n",
    "# show grids with at least 1 poi\n",
    "ax = aoi[aoi.Reg_Name == \"Region III\"].plot(\n",
    "    ax=plt.axes(),\n",
    "    facecolor=\"none\",\n",
    "    edgecolor=[\n",
    "        \"#C62828\",\n",
    "    ],\n",
    ")\n",
    "ax = grid_aoi[grid_aoi.pois_count > 0].plot(ax=ax, facecolor=\"none\", edgecolor=\"green\")"
   ]
  },
  {
   "cell_type": "markdown",
   "id": "12a56685-1b48-4d8e-911c-a42dcc579e2d",
   "metadata": {
    "tags": []
   },
   "source": [
    "#### Usecase 2 - Stats on a metric column"
   ]
  },
  {
   "cell_type": "markdown",
   "id": "5f0e67ad-1004-474d-86bf-c097e5c7f5a6",
   "metadata": {
    "tags": []
   },
   "source": [
    "** Example 1 **\n",
    "* input: \n",
    "    - aoi - region3,4,ncr geometry (geom_type - polygon, multipolygon)\n",
    "    - data - region3,4, ncr population data (geom_type - pois) \n",
    "    - data_type: 'individual_pois'\n",
    "    - overlap_method = 'intersects'\n",
    "    - aggregations:\n",
    "        * metric_columns: 'population','men', etc.  \n",
    "            - each row in the data has a column population, men, women, etc with numeric value\n",
    "            - aggregation_functions - 'min','max', 'mean', 'sum',  etc.\n",
    "            - output_columns - 'pop_min', 'pop_max', for each \n",
    "  "
   ]
  },
  {
   "cell_type": "markdown",
   "id": "71a52046-6df8-4790-b0f1-b42c53912694",
   "metadata": {},
   "source": [
    "Load 2020 Region3,4,NCR Population Data at Barangay level (Admin Level 4)"
   ]
  },
  {
   "cell_type": "code",
   "execution_count": 32,
   "id": "75e7b106-72d4-485a-a325-91fcdfbbcb8c",
   "metadata": {},
   "outputs": [
    {
     "name": "stdout",
     "output_type": "stream",
     "text": [
      "CPU times: user 759 ms, sys: 20.4 ms, total: 779 ms\n",
      "Wall time: 777 ms\n"
     ]
    }
   ],
   "source": [
    "%%time\n",
    "# load region3,4,ncr population data at barangay level\n",
    "region34ncr_pop_data = gpd.read_file(\"../data/region34ncr_population_land.geojson\")"
   ]
  },
  {
   "cell_type": "code",
   "execution_count": 33,
   "id": "4f39da67-8663-4fb0-a6fa-c3fe82f5ba0d",
   "metadata": {},
   "outputs": [
    {
     "data": {
      "text/plain": [
       "8816"
      ]
     },
     "execution_count": 33,
     "metadata": {},
     "output_type": "execute_result"
    }
   ],
   "source": [
    "len(region34ncr_pop_data)"
   ]
  },
  {
   "cell_type": "code",
   "execution_count": 34,
   "id": "52a7ca3c-7bc4-4d7b-a4dd-e02e579b05ce",
   "metadata": {},
   "outputs": [
    {
     "data": {
      "text/html": [
       "<div>\n",
       "<style scoped>\n",
       "    .dataframe tbody tr th:only-of-type {\n",
       "        vertical-align: middle;\n",
       "    }\n",
       "\n",
       "    .dataframe tbody tr th {\n",
       "        vertical-align: top;\n",
       "    }\n",
       "\n",
       "    .dataframe thead th {\n",
       "        text-align: right;\n",
       "    }\n",
       "</style>\n",
       "<table border=\"1\" class=\"dataframe\">\n",
       "  <thead>\n",
       "    <tr style=\"text-align: right;\">\n",
       "      <th></th>\n",
       "      <th>BARANGAY_CODE</th>\n",
       "      <th>population</th>\n",
       "      <th>men</th>\n",
       "      <th>women</th>\n",
       "      <th>children_under_five</th>\n",
       "      <th>youth_15_24</th>\n",
       "      <th>women_of_reproductive_age_15_49</th>\n",
       "      <th>elderly_60_plus</th>\n",
       "      <th>land_area</th>\n",
       "      <th>geometry</th>\n",
       "    </tr>\n",
       "  </thead>\n",
       "  <tbody>\n",
       "    <tr>\n",
       "      <th>0</th>\n",
       "      <td>31420020.0</td>\n",
       "      <td>1807</td>\n",
       "      <td>920</td>\n",
       "      <td>887</td>\n",
       "      <td>202</td>\n",
       "      <td>359</td>\n",
       "      <td>468</td>\n",
       "      <td>77</td>\n",
       "      <td>2.183518e+05</td>\n",
       "      <td>POINT (121.05919 14.85825)</td>\n",
       "    </tr>\n",
       "    <tr>\n",
       "      <th>1</th>\n",
       "      <td>34915006.0</td>\n",
       "      <td>3093</td>\n",
       "      <td>1594</td>\n",
       "      <td>1499</td>\n",
       "      <td>352</td>\n",
       "      <td>658</td>\n",
       "      <td>826</td>\n",
       "      <td>159</td>\n",
       "      <td>7.327482e+06</td>\n",
       "      <td>POINT (120.99590 15.62242)</td>\n",
       "    </tr>\n",
       "    <tr>\n",
       "      <th>2</th>\n",
       "      <td>35403009.0</td>\n",
       "      <td>4241</td>\n",
       "      <td>2158</td>\n",
       "      <td>2083</td>\n",
       "      <td>474</td>\n",
       "      <td>821</td>\n",
       "      <td>1112</td>\n",
       "      <td>256</td>\n",
       "      <td>8.740450e+05</td>\n",
       "      <td>POINT (120.77730 15.14580)</td>\n",
       "    </tr>\n",
       "    <tr>\n",
       "      <th>3</th>\n",
       "      <td>35409023.0</td>\n",
       "      <td>3373</td>\n",
       "      <td>1750</td>\n",
       "      <td>1623</td>\n",
       "      <td>296</td>\n",
       "      <td>611</td>\n",
       "      <td>895</td>\n",
       "      <td>244</td>\n",
       "      <td>6.484611e+05</td>\n",
       "      <td>POINT (120.58052 15.22315)</td>\n",
       "    </tr>\n",
       "    <tr>\n",
       "      <th>4</th>\n",
       "      <td>35413009.0</td>\n",
       "      <td>20884</td>\n",
       "      <td>10539</td>\n",
       "      <td>10344</td>\n",
       "      <td>2198</td>\n",
       "      <td>3893</td>\n",
       "      <td>5589</td>\n",
       "      <td>1260</td>\n",
       "      <td>2.015571e+06</td>\n",
       "      <td>POINT (120.68523 15.09163)</td>\n",
       "    </tr>\n",
       "  </tbody>\n",
       "</table>\n",
       "</div>"
      ],
      "text/plain": [
       "   BARANGAY_CODE  population    men  women  children_under_five  youth_15_24  \\\n",
       "0     31420020.0        1807    920    887                  202          359   \n",
       "1     34915006.0        3093   1594   1499                  352          658   \n",
       "2     35403009.0        4241   2158   2083                  474          821   \n",
       "3     35409023.0        3373   1750   1623                  296          611   \n",
       "4     35413009.0       20884  10539  10344                 2198         3893   \n",
       "\n",
       "   women_of_reproductive_age_15_49  elderly_60_plus     land_area  \\\n",
       "0                              468               77  2.183518e+05   \n",
       "1                              826              159  7.327482e+06   \n",
       "2                             1112              256  8.740450e+05   \n",
       "3                              895              244  6.484611e+05   \n",
       "4                             5589             1260  2.015571e+06   \n",
       "\n",
       "                     geometry  \n",
       "0  POINT (121.05919 14.85825)  \n",
       "1  POINT (120.99590 15.62242)  \n",
       "2  POINT (120.77730 15.14580)  \n",
       "3  POINT (120.58052 15.22315)  \n",
       "4  POINT (120.68523 15.09163)  "
      ]
     },
     "execution_count": 34,
     "metadata": {},
     "output_type": "execute_result"
    }
   ],
   "source": [
    "region34ncr_pop_data.head()"
   ]
  },
  {
   "cell_type": "code",
   "execution_count": 35,
   "id": "f205754e-e3bf-4ec7-b52a-fac8c55cd876",
   "metadata": {},
   "outputs": [
    {
     "data": {
      "text/plain": [
       "array(['BARANGAY_CODE', 'population', 'men', 'women',\n",
       "       'children_under_five', 'youth_15_24',\n",
       "       'women_of_reproductive_age_15_49', 'elderly_60_plus', 'land_area',\n",
       "       'geometry'], dtype=object)"
      ]
     },
     "execution_count": 35,
     "metadata": {},
     "output_type": "execute_result"
    }
   ],
   "source": [
    "region34ncr_pop_data.columns.values"
   ]
  },
  {
   "cell_type": "code",
   "execution_count": 36,
   "id": "3162533f-3233-4a70-8f5c-3c017ca68c6a",
   "metadata": {},
   "outputs": [
    {
     "name": "stdout",
     "output_type": "stream",
     "text": [
      "CPU times: user 205 ms, sys: 9.41 ms, total: 214 ms\n",
      "Wall time: 212 ms\n"
     ]
    }
   ],
   "source": [
    "%%time\n",
    "aoi = vzs.create_zonal_stats(\n",
    "    aoi,\n",
    "    region34ncr_pop_data,\n",
    "    aggregations=[\n",
    "        {\"func\": \"count\", \"output\": \"bgy_count\"},\n",
    "        {\n",
    "            \"column\": \"population\",\n",
    "            \"func\": [\"sum\", \"mean\"],\n",
    "            \"output\": [\"pop_total\", \"pop_avg\"],\n",
    "        },\n",
    "        {\"column\": \"men\", \"func\": [\"sum\", \"mean\"], \"output\": [\"men_total\", \"men_avg\"]},\n",
    "        {\n",
    "            \"column\": \"women\",\n",
    "            \"func\": [\"sum\", \"mean\"],\n",
    "            \"output\": [\"women_total\", \"women_avg\"],\n",
    "        },\n",
    "        {\n",
    "            \"column\": \"children_under_five\",\n",
    "            \"func\": [\"sum\", \"mean\"],\n",
    "            \"output\": [\"under5_total\", \"under5_avg\"],\n",
    "        },\n",
    "        {\n",
    "            \"column\": \"youth_15_24\",\n",
    "            \"func\": [\"sum\", \"mean\"],\n",
    "            \"output\": [\"youth_total\", \"youth_avg\"],\n",
    "        },\n",
    "        {\n",
    "            \"column\": \"women_of_reproductive_age_15_49\",\n",
    "            \"func\": [\"sum\", \"mean\"],\n",
    "            \"output\": [\"women_repro_total\", \"women_repro_avg\"],\n",
    "        },\n",
    "        {\n",
    "            \"column\": \"elderly_60_plus\",\n",
    "            \"func\": [\"sum\", \"mean\"],\n",
    "            \"output\": [\"elderly_total\", \"elderly_avg\"],\n",
    "        },\n",
    "        {\n",
    "            \"column\": \"land_area\",\n",
    "            \"func\": [\"sum\", \"mean\", \"min\", \"max\", \"std\"],\n",
    "            \"output\": [\"land_total\", \"land_avg\", \"land_min\", \"land_max\", \"land_std\"],\n",
    "        },\n",
    "    ],\n",
    "    overlap_method=\"intersects\",\n",
    ")"
   ]
  },
  {
   "cell_type": "code",
   "execution_count": 37,
   "id": "a9b4ea63-8260-4d5d-8532-2452905ca814",
   "metadata": {},
   "outputs": [
    {
     "data": {
      "text/plain": [
       "array(['Reg_Code', 'Reg_Name', 'Reg_Alt_Name', 'geometry', 'bgy_count',\n",
       "       'pop_total', 'pop_avg', 'men_total', 'men_avg', 'women_total',\n",
       "       'women_avg', 'under5_total', 'under5_avg', 'youth_total',\n",
       "       'youth_avg', 'women_repro_total', 'women_repro_avg',\n",
       "       'elderly_total', 'elderly_avg', 'land_total', 'land_avg',\n",
       "       'land_min', 'land_max', 'land_std'], dtype=object)"
      ]
     },
     "execution_count": 37,
     "metadata": {},
     "output_type": "execute_result"
    }
   ],
   "source": [
    "aoi.columns.values"
   ]
  },
  {
   "cell_type": "code",
   "execution_count": 38,
   "id": "4e433cbb-21c3-408f-a657-303c21f2be54",
   "metadata": {},
   "outputs": [
    {
     "data": {
      "text/html": [
       "<div>\n",
       "<style scoped>\n",
       "    .dataframe tbody tr th:only-of-type {\n",
       "        vertical-align: middle;\n",
       "    }\n",
       "\n",
       "    .dataframe tbody tr th {\n",
       "        vertical-align: top;\n",
       "    }\n",
       "\n",
       "    .dataframe thead th {\n",
       "        text-align: right;\n",
       "    }\n",
       "</style>\n",
       "<table border=\"1\" class=\"dataframe\">\n",
       "  <thead>\n",
       "    <tr style=\"text-align: right;\">\n",
       "      <th></th>\n",
       "      <th>Reg_Code</th>\n",
       "      <th>Reg_Name</th>\n",
       "      <th>Reg_Alt_Name</th>\n",
       "      <th>geometry</th>\n",
       "      <th>bgy_count</th>\n",
       "      <th>pop_total</th>\n",
       "      <th>pop_avg</th>\n",
       "      <th>men_total</th>\n",
       "      <th>men_avg</th>\n",
       "      <th>women_total</th>\n",
       "      <th>...</th>\n",
       "      <th>youth_avg</th>\n",
       "      <th>women_repro_total</th>\n",
       "      <th>women_repro_avg</th>\n",
       "      <th>elderly_total</th>\n",
       "      <th>elderly_avg</th>\n",
       "      <th>land_total</th>\n",
       "      <th>land_avg</th>\n",
       "      <th>land_min</th>\n",
       "      <th>land_max</th>\n",
       "      <th>land_std</th>\n",
       "    </tr>\n",
       "  </thead>\n",
       "  <tbody>\n",
       "    <tr>\n",
       "      <th>0</th>\n",
       "      <td>130000000</td>\n",
       "      <td>National Capital Region</td>\n",
       "      <td>NCR</td>\n",
       "      <td>MULTIPOLYGON (((121.03842 14.78525, 121.03815 ...</td>\n",
       "      <td>1707</td>\n",
       "      <td>12484535</td>\n",
       "      <td>7313.728764</td>\n",
       "      <td>6132828</td>\n",
       "      <td>3592.752197</td>\n",
       "      <td>6350844</td>\n",
       "      <td>...</td>\n",
       "      <td>1468.077329</td>\n",
       "      <td>3699839</td>\n",
       "      <td>2167.451084</td>\n",
       "      <td>653306</td>\n",
       "      <td>382.721734</td>\n",
       "      <td>5.945955e+08</td>\n",
       "      <td>3.483277e+05</td>\n",
       "      <td>2890.947906</td>\n",
       "      <td>2.750653e+07</td>\n",
       "      <td>1.065422e+06</td>\n",
       "    </tr>\n",
       "    <tr>\n",
       "      <th>1</th>\n",
       "      <td>030000000</td>\n",
       "      <td>Region III</td>\n",
       "      <td>Central Luzon</td>\n",
       "      <td>MULTIPOLYGON (((120.11687 14.76309, 120.11684 ...</td>\n",
       "      <td>3099</td>\n",
       "      <td>10581859</td>\n",
       "      <td>3414.604389</td>\n",
       "      <td>5353309</td>\n",
       "      <td>1727.431107</td>\n",
       "      <td>5227035</td>\n",
       "      <td>...</td>\n",
       "      <td>655.773475</td>\n",
       "      <td>2808810</td>\n",
       "      <td>906.360116</td>\n",
       "      <td>664150</td>\n",
       "      <td>214.311068</td>\n",
       "      <td>2.120885e+10</td>\n",
       "      <td>6.843771e+06</td>\n",
       "      <td>9589.467114</td>\n",
       "      <td>3.496501e+08</td>\n",
       "      <td>1.826504e+07</td>\n",
       "    </tr>\n",
       "    <tr>\n",
       "      <th>2</th>\n",
       "      <td>040000000</td>\n",
       "      <td>Region IV-A</td>\n",
       "      <td>Calabarzon</td>\n",
       "      <td>MULTIPOLYGON (((122.72165 13.36485, 122.72143 ...</td>\n",
       "      <td>4010</td>\n",
       "      <td>14081857</td>\n",
       "      <td>3511.685037</td>\n",
       "      <td>7035334</td>\n",
       "      <td>1754.447382</td>\n",
       "      <td>7044548</td>\n",
       "      <td>...</td>\n",
       "      <td>671.226185</td>\n",
       "      <td>3857217</td>\n",
       "      <td>961.899501</td>\n",
       "      <td>780294</td>\n",
       "      <td>194.587032</td>\n",
       "      <td>1.551525e+10</td>\n",
       "      <td>3.869139e+06</td>\n",
       "      <td>3087.452331</td>\n",
       "      <td>4.310269e+08</td>\n",
       "      <td>1.119929e+07</td>\n",
       "    </tr>\n",
       "  </tbody>\n",
       "</table>\n",
       "<p>3 rows × 24 columns</p>\n",
       "</div>"
      ],
      "text/plain": [
       "    Reg_Code                 Reg_Name   Reg_Alt_Name  \\\n",
       "0  130000000  National Capital Region            NCR   \n",
       "1  030000000               Region III  Central Luzon   \n",
       "2  040000000              Region IV-A     Calabarzon   \n",
       "\n",
       "                                            geometry  bgy_count  pop_total  \\\n",
       "0  MULTIPOLYGON (((121.03842 14.78525, 121.03815 ...       1707   12484535   \n",
       "1  MULTIPOLYGON (((120.11687 14.76309, 120.11684 ...       3099   10581859   \n",
       "2  MULTIPOLYGON (((122.72165 13.36485, 122.72143 ...       4010   14081857   \n",
       "\n",
       "       pop_avg  men_total      men_avg  women_total  ...    youth_avg  \\\n",
       "0  7313.728764    6132828  3592.752197      6350844  ...  1468.077329   \n",
       "1  3414.604389    5353309  1727.431107      5227035  ...   655.773475   \n",
       "2  3511.685037    7035334  1754.447382      7044548  ...   671.226185   \n",
       "\n",
       "   women_repro_total  women_repro_avg  elderly_total  elderly_avg  \\\n",
       "0            3699839      2167.451084         653306   382.721734   \n",
       "1            2808810       906.360116         664150   214.311068   \n",
       "2            3857217       961.899501         780294   194.587032   \n",
       "\n",
       "     land_total      land_avg     land_min      land_max      land_std  \n",
       "0  5.945955e+08  3.483277e+05  2890.947906  2.750653e+07  1.065422e+06  \n",
       "1  2.120885e+10  6.843771e+06  9589.467114  3.496501e+08  1.826504e+07  \n",
       "2  1.551525e+10  3.869139e+06  3087.452331  4.310269e+08  1.119929e+07  \n",
       "\n",
       "[3 rows x 24 columns]"
      ]
     },
     "execution_count": 38,
     "metadata": {},
     "output_type": "execute_result"
    }
   ],
   "source": [
    "aoi.head()"
   ]
  },
  {
   "cell_type": "markdown",
   "id": "312e56c0-7a76-4ccc-9d6f-9163953ccc77",
   "metadata": {
    "tags": []
   },
   "source": [
    "** Example 2 **\n",
    "* input: \n",
    "    - aoi - region3 grids geometry (geom_type - polygon)\n",
    "    - data - population data (geom_type - pois) \n",
    "    - data_type: 'individual_pois'\n",
    "    - overlap_method = 'intersects'\n",
    "    - aggregations:\n",
    "        * metric_columns: 'population','men', 'land_area'   \n",
    "            - each row in the data has a column population numeric value\n",
    "            - aggregation_functions - 'min','max', 'mean', 'sum',  etc.\n",
    "            - output_columns - 'pop_min', 'pop_max', for each \n",
    "  "
   ]
  },
  {
   "cell_type": "markdown",
   "id": "c5968ba0-74ae-480a-a90e-c27dfe6f069c",
   "metadata": {
    "tags": []
   },
   "source": [
    "Filter population POIs only in region 3"
   ]
  },
  {
   "cell_type": "code",
   "execution_count": 39,
   "id": "5797de69-f821-4db2-9362-b13c49ca006e",
   "metadata": {},
   "outputs": [
    {
     "name": "stdout",
     "output_type": "stream",
     "text": [
      "CPU times: user 273 ms, sys: 36 µs, total: 273 ms\n",
      "Wall time: 271 ms\n"
     ]
    }
   ],
   "source": [
    "%%time\n",
    "region3_pop_pois = gpd.read_file(\"../data/region3_population_pois.geojson\")"
   ]
  },
  {
   "cell_type": "code",
   "execution_count": 40,
   "id": "ca9cd206-2be2-49cb-8685-f6c4413242db",
   "metadata": {},
   "outputs": [
    {
     "data": {
      "text/html": [
       "<div>\n",
       "<style scoped>\n",
       "    .dataframe tbody tr th:only-of-type {\n",
       "        vertical-align: middle;\n",
       "    }\n",
       "\n",
       "    .dataframe tbody tr th {\n",
       "        vertical-align: top;\n",
       "    }\n",
       "\n",
       "    .dataframe thead th {\n",
       "        text-align: right;\n",
       "    }\n",
       "</style>\n",
       "<table border=\"1\" class=\"dataframe\">\n",
       "  <thead>\n",
       "    <tr style=\"text-align: right;\">\n",
       "      <th></th>\n",
       "      <th>BARANGAY_CODE</th>\n",
       "      <th>population</th>\n",
       "      <th>men</th>\n",
       "      <th>women</th>\n",
       "      <th>children_under_five</th>\n",
       "      <th>youth_15_24</th>\n",
       "      <th>women_of_reproductive_age_15_49</th>\n",
       "      <th>elderly_60_plus</th>\n",
       "      <th>land_area</th>\n",
       "      <th>Reg_Name</th>\n",
       "      <th>geometry</th>\n",
       "    </tr>\n",
       "  </thead>\n",
       "  <tbody>\n",
       "    <tr>\n",
       "      <th>0</th>\n",
       "      <td>31420020.0</td>\n",
       "      <td>1807</td>\n",
       "      <td>920</td>\n",
       "      <td>887</td>\n",
       "      <td>202</td>\n",
       "      <td>359</td>\n",
       "      <td>468</td>\n",
       "      <td>77</td>\n",
       "      <td>2.183518e+05</td>\n",
       "      <td>Region III</td>\n",
       "      <td>POINT (121.05919 14.85825)</td>\n",
       "    </tr>\n",
       "    <tr>\n",
       "      <th>1</th>\n",
       "      <td>34915006.0</td>\n",
       "      <td>3093</td>\n",
       "      <td>1594</td>\n",
       "      <td>1499</td>\n",
       "      <td>352</td>\n",
       "      <td>658</td>\n",
       "      <td>826</td>\n",
       "      <td>159</td>\n",
       "      <td>7.327482e+06</td>\n",
       "      <td>Region III</td>\n",
       "      <td>POINT (120.99590 15.62242)</td>\n",
       "    </tr>\n",
       "    <tr>\n",
       "      <th>2</th>\n",
       "      <td>35403009.0</td>\n",
       "      <td>4241</td>\n",
       "      <td>2158</td>\n",
       "      <td>2083</td>\n",
       "      <td>474</td>\n",
       "      <td>821</td>\n",
       "      <td>1112</td>\n",
       "      <td>256</td>\n",
       "      <td>8.740450e+05</td>\n",
       "      <td>Region III</td>\n",
       "      <td>POINT (120.77730 15.14580)</td>\n",
       "    </tr>\n",
       "    <tr>\n",
       "      <th>3</th>\n",
       "      <td>35409023.0</td>\n",
       "      <td>3373</td>\n",
       "      <td>1750</td>\n",
       "      <td>1623</td>\n",
       "      <td>296</td>\n",
       "      <td>611</td>\n",
       "      <td>895</td>\n",
       "      <td>244</td>\n",
       "      <td>6.484611e+05</td>\n",
       "      <td>Region III</td>\n",
       "      <td>POINT (120.58052 15.22315)</td>\n",
       "    </tr>\n",
       "    <tr>\n",
       "      <th>4</th>\n",
       "      <td>35413009.0</td>\n",
       "      <td>20884</td>\n",
       "      <td>10539</td>\n",
       "      <td>10344</td>\n",
       "      <td>2198</td>\n",
       "      <td>3893</td>\n",
       "      <td>5589</td>\n",
       "      <td>1260</td>\n",
       "      <td>2.015571e+06</td>\n",
       "      <td>Region III</td>\n",
       "      <td>POINT (120.68523 15.09163)</td>\n",
       "    </tr>\n",
       "  </tbody>\n",
       "</table>\n",
       "</div>"
      ],
      "text/plain": [
       "   BARANGAY_CODE  population    men  women  children_under_five  youth_15_24  \\\n",
       "0     31420020.0        1807    920    887                  202          359   \n",
       "1     34915006.0        3093   1594   1499                  352          658   \n",
       "2     35403009.0        4241   2158   2083                  474          821   \n",
       "3     35409023.0        3373   1750   1623                  296          611   \n",
       "4     35413009.0       20884  10539  10344                 2198         3893   \n",
       "\n",
       "   women_of_reproductive_age_15_49  elderly_60_plus     land_area    Reg_Name  \\\n",
       "0                              468               77  2.183518e+05  Region III   \n",
       "1                              826              159  7.327482e+06  Region III   \n",
       "2                             1112              256  8.740450e+05  Region III   \n",
       "3                              895              244  6.484611e+05  Region III   \n",
       "4                             5589             1260  2.015571e+06  Region III   \n",
       "\n",
       "                     geometry  \n",
       "0  POINT (121.05919 14.85825)  \n",
       "1  POINT (120.99590 15.62242)  \n",
       "2  POINT (120.77730 15.14580)  \n",
       "3  POINT (120.58052 15.22315)  \n",
       "4  POINT (120.68523 15.09163)  "
      ]
     },
     "execution_count": 40,
     "metadata": {},
     "output_type": "execute_result"
    }
   ],
   "source": [
    "region3_pop_pois.head()"
   ]
  },
  {
   "cell_type": "code",
   "execution_count": 41,
   "id": "7cfe2b77-3bbf-416f-a2af-b9ac293d9ebe",
   "metadata": {},
   "outputs": [
    {
     "data": {
      "text/plain": [
       "array(['BARANGAY_CODE', 'population', 'men', 'women',\n",
       "       'children_under_five', 'youth_15_24',\n",
       "       'women_of_reproductive_age_15_49', 'elderly_60_plus', 'land_area',\n",
       "       'Reg_Name', 'geometry'], dtype=object)"
      ]
     },
     "execution_count": 41,
     "metadata": {},
     "output_type": "execute_result"
    }
   ],
   "source": [
    "region3_pop_pois.columns.values"
   ]
  },
  {
   "cell_type": "code",
   "execution_count": 42,
   "id": "6fe28f8a-4c32-4faf-9ea6-2cf27f647fd5",
   "metadata": {},
   "outputs": [
    {
     "name": "stdout",
     "output_type": "stream",
     "text": [
      "CPU times: user 93.3 ms, sys: 225 µs, total: 93.5 ms\n",
      "Wall time: 89.2 ms\n"
     ]
    }
   ],
   "source": [
    "%%time\n",
    "grid_aoi = vzs.create_zonal_stats(\n",
    "    grid_aoi,\n",
    "    region3_pop_pois,\n",
    "    aggregations=[\n",
    "        {\"func\": \"count\", \"output\": \"bgy_count\"},\n",
    "        {\n",
    "            \"column\": \"population\",\n",
    "            \"func\": [\"sum\", \"mean\"],\n",
    "            \"output\": [\"pop_total\", \"pop_avg\"],\n",
    "        },\n",
    "        {\"column\": \"men\", \"func\": [\"sum\", \"mean\"], \"output\": [\"men_total\", \"men_avg\"]},\n",
    "        {\n",
    "            \"column\": \"women\",\n",
    "            \"func\": [\"sum\", \"mean\"],\n",
    "            \"output\": [\"women_total\", \"women_avg\"],\n",
    "        },\n",
    "        {\n",
    "            \"column\": \"children_under_five\",\n",
    "            \"func\": [\"sum\", \"mean\"],\n",
    "            \"output\": [\"under5_total\", \"under5_avg\"],\n",
    "        },\n",
    "        {\n",
    "            \"column\": \"youth_15_24\",\n",
    "            \"func\": [\"sum\", \"mean\"],\n",
    "            \"output\": [\"youth_total\", \"youth_avg\"],\n",
    "        },\n",
    "        {\n",
    "            \"column\": \"women_of_reproductive_age_15_49\",\n",
    "            \"func\": [\"sum\", \"mean\"],\n",
    "            \"output\": [\"women_repro_total\", \"women_repro_avg\"],\n",
    "        },\n",
    "        {\n",
    "            \"column\": \"elderly_60_plus\",\n",
    "            \"func\": [\"sum\", \"mean\"],\n",
    "            \"output\": [\"elderly_total\", \"elderly_avg\"],\n",
    "        },\n",
    "        {\n",
    "            \"column\": \"land_area\",\n",
    "            \"func\": [\"sum\", \"mean\", \"min\", \"max\", \"std\"],\n",
    "            \"output\": [\"land_total\", \"land_avg\", \"land_min\", \"land_max\", \"land_std\"],\n",
    "        },\n",
    "    ],\n",
    "    overlap_method=\"intersects\",\n",
    ")"
   ]
  },
  {
   "cell_type": "code",
   "execution_count": 43,
   "id": "58a1d2b5-aaad-456d-9c69-308d874b1976",
   "metadata": {},
   "outputs": [
    {
     "data": {
      "text/html": [
       "<div>\n",
       "<style scoped>\n",
       "    .dataframe tbody tr th:only-of-type {\n",
       "        vertical-align: middle;\n",
       "    }\n",
       "\n",
       "    .dataframe tbody tr th {\n",
       "        vertical-align: top;\n",
       "    }\n",
       "\n",
       "    .dataframe thead th {\n",
       "        text-align: right;\n",
       "    }\n",
       "</style>\n",
       "<table border=\"1\" class=\"dataframe\">\n",
       "  <thead>\n",
       "    <tr style=\"text-align: right;\">\n",
       "      <th></th>\n",
       "      <th>x</th>\n",
       "      <th>y</th>\n",
       "      <th>geometry</th>\n",
       "      <th>pois_count</th>\n",
       "      <th>bgy_count</th>\n",
       "      <th>pop_total</th>\n",
       "      <th>pop_avg</th>\n",
       "      <th>men_total</th>\n",
       "      <th>men_avg</th>\n",
       "      <th>women_total</th>\n",
       "      <th>...</th>\n",
       "      <th>youth_avg</th>\n",
       "      <th>women_repro_total</th>\n",
       "      <th>women_repro_avg</th>\n",
       "      <th>elderly_total</th>\n",
       "      <th>elderly_avg</th>\n",
       "      <th>land_total</th>\n",
       "      <th>land_avg</th>\n",
       "      <th>land_min</th>\n",
       "      <th>land_max</th>\n",
       "      <th>land_std</th>\n",
       "    </tr>\n",
       "  </thead>\n",
       "  <tbody>\n",
       "    <tr>\n",
       "      <th>0</th>\n",
       "      <td>0</td>\n",
       "      <td>30</td>\n",
       "      <td>POLYGON ((119.78583 15.70870, 119.83075 15.708...</td>\n",
       "      <td>0.0</td>\n",
       "      <td>0.0</td>\n",
       "      <td>0.0</td>\n",
       "      <td>0.0</td>\n",
       "      <td>0.0</td>\n",
       "      <td>0.0</td>\n",
       "      <td>0.0</td>\n",
       "      <td>...</td>\n",
       "      <td>0.0</td>\n",
       "      <td>0.0</td>\n",
       "      <td>0.0</td>\n",
       "      <td>0.0</td>\n",
       "      <td>0.0</td>\n",
       "      <td>0.000000e+00</td>\n",
       "      <td>0.000000e+00</td>\n",
       "      <td>0.000000e+00</td>\n",
       "      <td>0.000000e+00</td>\n",
       "      <td>0.0</td>\n",
       "    </tr>\n",
       "    <tr>\n",
       "      <th>1</th>\n",
       "      <td>0</td>\n",
       "      <td>31</td>\n",
       "      <td>POLYGON ((119.78583 15.75193, 119.83075 15.751...</td>\n",
       "      <td>0.0</td>\n",
       "      <td>0.0</td>\n",
       "      <td>0.0</td>\n",
       "      <td>0.0</td>\n",
       "      <td>0.0</td>\n",
       "      <td>0.0</td>\n",
       "      <td>0.0</td>\n",
       "      <td>...</td>\n",
       "      <td>0.0</td>\n",
       "      <td>0.0</td>\n",
       "      <td>0.0</td>\n",
       "      <td>0.0</td>\n",
       "      <td>0.0</td>\n",
       "      <td>0.000000e+00</td>\n",
       "      <td>0.000000e+00</td>\n",
       "      <td>0.000000e+00</td>\n",
       "      <td>0.000000e+00</td>\n",
       "      <td>0.0</td>\n",
       "    </tr>\n",
       "    <tr>\n",
       "      <th>2</th>\n",
       "      <td>0</td>\n",
       "      <td>32</td>\n",
       "      <td>POLYGON ((119.78583 15.79516, 119.83075 15.795...</td>\n",
       "      <td>0.0</td>\n",
       "      <td>0.0</td>\n",
       "      <td>0.0</td>\n",
       "      <td>0.0</td>\n",
       "      <td>0.0</td>\n",
       "      <td>0.0</td>\n",
       "      <td>0.0</td>\n",
       "      <td>...</td>\n",
       "      <td>0.0</td>\n",
       "      <td>0.0</td>\n",
       "      <td>0.0</td>\n",
       "      <td>0.0</td>\n",
       "      <td>0.0</td>\n",
       "      <td>0.000000e+00</td>\n",
       "      <td>0.000000e+00</td>\n",
       "      <td>0.000000e+00</td>\n",
       "      <td>0.000000e+00</td>\n",
       "      <td>0.0</td>\n",
       "    </tr>\n",
       "    <tr>\n",
       "      <th>3</th>\n",
       "      <td>1</td>\n",
       "      <td>30</td>\n",
       "      <td>POLYGON ((119.83075 15.70870, 119.87566 15.708...</td>\n",
       "      <td>0.0</td>\n",
       "      <td>1.0</td>\n",
       "      <td>3415.0</td>\n",
       "      <td>3415.0</td>\n",
       "      <td>1744.0</td>\n",
       "      <td>1744.0</td>\n",
       "      <td>1670.0</td>\n",
       "      <td>...</td>\n",
       "      <td>648.0</td>\n",
       "      <td>848.0</td>\n",
       "      <td>848.0</td>\n",
       "      <td>229.0</td>\n",
       "      <td>229.0</td>\n",
       "      <td>5.552401e+06</td>\n",
       "      <td>5.552401e+06</td>\n",
       "      <td>5.552401e+06</td>\n",
       "      <td>5.552401e+06</td>\n",
       "      <td>0.0</td>\n",
       "    </tr>\n",
       "    <tr>\n",
       "      <th>4</th>\n",
       "      <td>1</td>\n",
       "      <td>32</td>\n",
       "      <td>POLYGON ((119.83075 15.79516, 119.87566 15.795...</td>\n",
       "      <td>0.0</td>\n",
       "      <td>0.0</td>\n",
       "      <td>0.0</td>\n",
       "      <td>0.0</td>\n",
       "      <td>0.0</td>\n",
       "      <td>0.0</td>\n",
       "      <td>0.0</td>\n",
       "      <td>...</td>\n",
       "      <td>0.0</td>\n",
       "      <td>0.0</td>\n",
       "      <td>0.0</td>\n",
       "      <td>0.0</td>\n",
       "      <td>0.0</td>\n",
       "      <td>0.000000e+00</td>\n",
       "      <td>0.000000e+00</td>\n",
       "      <td>0.000000e+00</td>\n",
       "      <td>0.000000e+00</td>\n",
       "      <td>0.0</td>\n",
       "    </tr>\n",
       "  </tbody>\n",
       "</table>\n",
       "<p>5 rows × 24 columns</p>\n",
       "</div>"
      ],
      "text/plain": [
       "   x   y                                           geometry  pois_count  \\\n",
       "0  0  30  POLYGON ((119.78583 15.70870, 119.83075 15.708...         0.0   \n",
       "1  0  31  POLYGON ((119.78583 15.75193, 119.83075 15.751...         0.0   \n",
       "2  0  32  POLYGON ((119.78583 15.79516, 119.83075 15.795...         0.0   \n",
       "3  1  30  POLYGON ((119.83075 15.70870, 119.87566 15.708...         0.0   \n",
       "4  1  32  POLYGON ((119.83075 15.79516, 119.87566 15.795...         0.0   \n",
       "\n",
       "   bgy_count  pop_total  pop_avg  men_total  men_avg  women_total  ...  \\\n",
       "0        0.0        0.0      0.0        0.0      0.0          0.0  ...   \n",
       "1        0.0        0.0      0.0        0.0      0.0          0.0  ...   \n",
       "2        0.0        0.0      0.0        0.0      0.0          0.0  ...   \n",
       "3        1.0     3415.0   3415.0     1744.0   1744.0       1670.0  ...   \n",
       "4        0.0        0.0      0.0        0.0      0.0          0.0  ...   \n",
       "\n",
       "   youth_avg  women_repro_total  women_repro_avg  elderly_total  elderly_avg  \\\n",
       "0        0.0                0.0              0.0            0.0          0.0   \n",
       "1        0.0                0.0              0.0            0.0          0.0   \n",
       "2        0.0                0.0              0.0            0.0          0.0   \n",
       "3      648.0              848.0            848.0          229.0        229.0   \n",
       "4        0.0                0.0              0.0            0.0          0.0   \n",
       "\n",
       "     land_total      land_avg      land_min      land_max  land_std  \n",
       "0  0.000000e+00  0.000000e+00  0.000000e+00  0.000000e+00       0.0  \n",
       "1  0.000000e+00  0.000000e+00  0.000000e+00  0.000000e+00       0.0  \n",
       "2  0.000000e+00  0.000000e+00  0.000000e+00  0.000000e+00       0.0  \n",
       "3  5.552401e+06  5.552401e+06  5.552401e+06  5.552401e+06       0.0  \n",
       "4  0.000000e+00  0.000000e+00  0.000000e+00  0.000000e+00       0.0  \n",
       "\n",
       "[5 rows x 24 columns]"
      ]
     },
     "execution_count": 43,
     "metadata": {},
     "output_type": "execute_result"
    }
   ],
   "source": [
    "# no_test\n",
    "grid_aoi.head()"
   ]
  },
  {
   "cell_type": "code",
   "execution_count": 44,
   "id": "428a5a76-019a-42ed-8ba3-f942c618e113",
   "metadata": {},
   "outputs": [],
   "source": [
    "# hide\n",
    "assert any(\n",
    "    item\n",
    "    in [\n",
    "        \"land_total\",\n",
    "        \"land_avg\",\n",
    "        \"land_min\",\n",
    "        \"land_max\",\n",
    "        \"land_std\",\n",
    "        \"elderly_total\",\n",
    "        \"elderly_avg\",\n",
    "        \"women_repro_total\",\n",
    "        \"women_repro_avg\",\n",
    "        \"under5_total\",\n",
    "        \"under5_avg\",\n",
    "        \"women_total\",\n",
    "        \"women_avg\",\n",
    "        \"men_total\",\n",
    "        \"men_avg\",\n",
    "        \"pop_total\",\n",
    "        \"pop_avg\",\n",
    "        \"bgy_count\",\n",
    "    ]\n",
    "    for item in list(grid_aoi.columns.values)\n",
    ")"
   ]
  },
  {
   "cell_type": "code",
   "execution_count": 45,
   "id": "06b2eb59-523c-4160-ad8c-95f5276e89da",
   "metadata": {},
   "outputs": [],
   "source": [
    "import matplotlib.pyplot as plt"
   ]
  },
  {
   "cell_type": "markdown",
   "id": "8b619905-e7e5-4510-aaa3-4327dae3412b",
   "metadata": {},
   "source": [
    "Show grids with bgy_count > 0 and bgy_count == 0"
   ]
  },
  {
   "cell_type": "code",
   "execution_count": 46,
   "id": "d1de6e04-3657-455e-8b83-646c8d4479bf",
   "metadata": {},
   "outputs": [
    {
     "data": {
      "image/png": "[encoded data removed]",
      "text/plain": [
       "<Figure size 432x288 with 1 Axes>"
      ]
     },
     "metadata": {
      "needs_background": "light"
     },
     "output_type": "display_data"
    }
   ],
   "source": [
    "# no_test\n",
    "ax = aoi[aoi.Reg_Name == \"Region III\"].plot(\n",
    "    ax=plt.axes(), facecolor=\"none\", edgecolor=\"black\"\n",
    ")\n",
    "ax = grid_aoi[grid_aoi.bgy_count > 0.0].plot(ax=ax, facecolor=\"none\", edgecolor=\"blue\")\n",
    "ax = grid_aoi[grid_aoi.bgy_count == 0.0].plot(ax=ax, facecolor=\"none\", edgecolor=\"red\")"
   ]
  }
 ],
 "metadata": {
  "kernelspec": {
   "display_name": "Python3.7(geowrangler)",
   "language": "python",
   "name": "geowrangler"
  },
  "language_info": {
   "codemirror_mode": {
    "name": "ipython",
    "version": 3
   },
   "file_extension": ".py",
   "mimetype": "text/x-python",
   "name": "python",
   "nbconvert_exporter": "python",
   "pygments_lexer": "ipython3",
   "version": "3.7.12"
  }
 },
 "nbformat": 4,
 "nbformat_minor": 5
}
