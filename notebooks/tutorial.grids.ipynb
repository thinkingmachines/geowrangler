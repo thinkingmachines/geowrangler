{
 "cells": [
  {
   "cell_type": "code",
   "execution_count": 1,
   "id": "a2b36dee-d74a-4771-bb63-124a2686fd82",
   "metadata": {},
   "outputs": [],
   "source": [
    "# hide\n",
    "%reload_ext autoreload\n",
    "%autoreload 2\n",
    "%matplotlib inline\n",
    "%reload_ext lab_black"
   ]
  },
  {
   "cell_type": "markdown",
   "id": "c0e4066d-500d-4f0a-91a8-88751f794901",
   "metadata": {},
   "source": [
    "# Grid Generation"
   ]
  },
  {
   "cell_type": "markdown",
   "id": "ba84cf1a-008c-46d8-9963-11c0daee86c0",
   "metadata": {},
   "source": [
    "> A basic introduction to Geospatial Grids"
   ]
  },
  {
   "cell_type": "markdown",
   "id": "25255b72-32af-4b52-ae61-1d6d86c83317",
   "metadata": {},
   "source": [
    "[![Open in Colab](https://colab.research.google.com/assets/colab-badge.svg)](https://colab.research.google.com/github/thinkingmachines/geowrangler/blob/master/notebooks/tutorial.grids.ipynb)"
   ]
  },
  {
   "cell_type": "code",
   "execution_count": 2,
   "id": "1b61d155-e4f5-4b92-b14f-fe2813fa8471",
   "metadata": {},
   "outputs": [],
   "source": [
    "# hide\n",
    "import warnings\n",
    "\n",
    "from IPython.display import display\n",
    "\n",
    "warnings.filterwarnings(\"ignore\")"
   ]
  },
  {
   "cell_type": "markdown",
   "id": "4e099cdb-f4e7-4ca6-9c46-eadf0ce50c05",
   "metadata": {},
   "source": [
    "### Import `geopandas` and the `geowrangler.grids` module"
   ]
  },
  {
   "cell_type": "code",
   "execution_count": 3,
   "id": "f38a007c-081b-4ee4-aecc-9b116904b95e",
   "metadata": {},
   "outputs": [],
   "source": [
    "import geopandas as gpd\n",
    "\n",
    "from geowrangler import grids"
   ]
  },
  {
   "cell_type": "code",
   "execution_count": 4,
   "id": "a30cfacc-bdb2-49d9-88e5-be4c03464a54",
   "metadata": {},
   "outputs": [],
   "source": [
    "# hide\n",
    "!mkdir -p ../data\n",
    "# download sample geojson file from repo\n",
    "![ ! -e ../data/region3_admin.geojson ] && curl -s -o ../data/region3_admin.geojson https://raw.githubusercontent.com/thinkingmachines/geowrangler/convert-to-nbdev/data/region3_admin.geojson"
   ]
  },
  {
   "cell_type": "markdown",
   "id": "52246bff-3cc5-4fb9-9a97-5abbc280fb6c",
   "metadata": {},
   "source": [
    "### Load a sample geojson file into pandas \n",
    "\n",
    "\n",
    "In our case, we are loading the Region 3 (Central Luzon Administrative Region) of the Philippines."
   ]
  },
  {
   "cell_type": "code",
   "execution_count": 5,
   "id": "83809aa8-069f-49fc-95ae-da95166ce2b3",
   "metadata": {},
   "outputs": [],
   "source": [
    "region3_gdf = gpd.read_file(\"../data/region3_admin.geojson\")"
   ]
  },
  {
   "cell_type": "markdown",
   "id": "e7e42781-7e32-489d-ac6a-04eb6b818cfe",
   "metadata": {},
   "source": [
    "This geopandas dataframe has the size: "
   ]
  },
  {
   "cell_type": "code",
   "execution_count": 6,
   "id": "465c0d62-317e-4ce5-b5ab-6ca5db92c587",
   "metadata": {},
   "outputs": [
    {
     "name": "stdout",
     "output_type": "stream",
     "text": [
      "length of region3_gdf: 1 row(s)\n"
     ]
    }
   ],
   "source": [
    "# hide_input\n",
    "print(f\"length of region3_gdf: {len(region3_gdf)} row(s)\")"
   ]
  },
  {
   "cell_type": "code",
   "execution_count": 7,
   "id": "616984c8-32fa-4de6-b6d5-af71bc805b5c",
   "metadata": {},
   "outputs": [
    {
     "data": {
      "text/html": [
       "<div>\n",
       "<style scoped>\n",
       "    .dataframe tbody tr th:only-of-type {\n",
       "        vertical-align: middle;\n",
       "    }\n",
       "\n",
       "    .dataframe tbody tr th {\n",
       "        vertical-align: top;\n",
       "    }\n",
       "\n",
       "    .dataframe thead th {\n",
       "        text-align: right;\n",
       "    }\n",
       "</style>\n",
       "<table border=\"1\" class=\"dataframe\">\n",
       "  <thead>\n",
       "    <tr style=\"text-align: right;\">\n",
       "      <th></th>\n",
       "      <th>Reg_Code</th>\n",
       "      <th>Reg_Name</th>\n",
       "      <th>Reg_Alt_Name</th>\n",
       "      <th>geometry</th>\n",
       "    </tr>\n",
       "  </thead>\n",
       "  <tbody>\n",
       "    <tr>\n",
       "      <th>0</th>\n",
       "      <td>030000000</td>\n",
       "      <td>Region III</td>\n",
       "      <td>Central Luzon</td>\n",
       "      <td>MULTIPOLYGON (((120.11687 14.76309, 120.11684 ...</td>\n",
       "    </tr>\n",
       "  </tbody>\n",
       "</table>\n",
       "</div>"
      ],
      "text/plain": [
       "    Reg_Code    Reg_Name   Reg_Alt_Name  \\\n",
       "0  030000000  Region III  Central Luzon   \n",
       "\n",
       "                                            geometry  \n",
       "0  MULTIPOLYGON (((120.11687 14.76309, 120.11684 ...  "
      ]
     },
     "metadata": {},
     "output_type": "display_data"
    }
   ],
   "source": [
    "display(region3_gdf)"
   ]
  },
  {
   "cell_type": "markdown",
   "id": "eb7f1dd2-4e69-4bd0-b4fc-14301e9ac987",
   "metadata": {},
   "source": [
    "Show the original plot"
   ]
  },
  {
   "cell_type": "code",
   "execution_count": 8,
   "id": "99047ed6-1a26-496e-8e29-58010d9de1f0",
   "metadata": {},
   "outputs": [
    {
     "data": {
      "text/plain": [
       "<AxesSubplot:>"
      ]
     },
     "execution_count": 8,
     "metadata": {},
     "output_type": "execute_result"
    },
    {
     "data": {
      "image/png": "[encoded data removed]",
      "text/plain": [
       "<Figure size 432x288 with 1 Axes>"
      ]
     },
     "metadata": {
      "needs_background": "light"
     },
     "output_type": "display_data"
    }
   ],
   "source": [
    "region3_gdf.plot()"
   ]
  },
  {
   "cell_type": "code",
   "execution_count": 9,
   "id": "e4e44e60-a053-444a-8819-2bb6455df5f0",
   "metadata": {},
   "outputs": [
    {
     "data": {
      "text/plain": [
       "<Geographic 2D CRS: EPSG:4326>\n",
       "Name: WGS 84\n",
       "Axis Info [ellipsoidal]:\n",
       "- Lat[north]: Geodetic latitude (degree)\n",
       "- Lon[east]: Geodetic longitude (degree)\n",
       "Area of Use:\n",
       "- name: World.\n",
       "- bounds: (-180.0, -90.0, 180.0, 90.0)\n",
       "Datum: World Geodetic System 1984 ensemble\n",
       "- Ellipsoid: WGS 84\n",
       "- Prime Meridian: Greenwich"
      ]
     },
     "execution_count": 9,
     "metadata": {},
     "output_type": "execute_result"
    }
   ],
   "source": [
    "region3_gdf.crs  # CRS info"
   ]
  },
  {
   "cell_type": "markdown",
   "id": "858c0aa8-1333-4e5f-beb5-fc1f0a210d69",
   "metadata": {},
   "source": [
    "### Creating Grids\n",
    "\n",
    "Create a grid generator with a size of `5000`. \n",
    "The units of the grid size are dependent on the projection of \n",
    "the geodataframe, in this case, `EPSG:4326`."
   ]
  },
  {
   "cell_type": "code",
   "execution_count": 10,
   "id": "c173e958-a657-4848-991e-17e035894b32",
   "metadata": {
    "tags": []
   },
   "outputs": [],
   "source": [
    "grid_generator5k = grids.GridGenerator(region3_gdf, 5000)  # 5 km x 5 km grids"
   ]
  },
  {
   "cell_type": "markdown",
   "id": "5793c60a-59a5-4013-9fc5-eff11c8639fc",
   "metadata": {},
   "source": [
    "Generate square grids\n",
    "> Notice the time taken to grid the multi polygon at 5K resolution\n"
   ]
  },
  {
   "cell_type": "code",
   "execution_count": 11,
   "id": "2f193001-319f-446d-b1fc-fa436117bf27",
   "metadata": {},
   "outputs": [
    {
     "name": "stdout",
     "output_type": "stream",
     "text": [
      "CPU times: user 26.7 s, sys: 0 ns, total: 26.7 s\n",
      "Wall time: 26.7 s\n"
     ]
    }
   ],
   "source": [
    "%%time\n",
    "grid_gdf5k = grid_generator5k.generate_grids()"
   ]
  },
  {
   "cell_type": "markdown",
   "id": "6ff5018d-4ed8-451b-965b-5ffad626256a",
   "metadata": {},
   "source": [
    "Show gridded version of sample geojson file at 5K resolution "
   ]
  },
  {
   "cell_type": "code",
   "execution_count": 12,
   "id": "6856c206-da79-45bf-956b-6d660ce2545e",
   "metadata": {},
   "outputs": [
    {
     "name": "stdout",
     "output_type": "stream",
     "text": [
      "length of grid_gdf5k: 1074 row(s)\n"
     ]
    }
   ],
   "source": [
    "# hide_input\n",
    "print(f\"length of grid_gdf5k: {len(grid_gdf5k)} row(s)\")"
   ]
  },
  {
   "cell_type": "code",
   "execution_count": 13,
   "id": "164cc378-111c-45fa-8bc8-a79f2d180b35",
   "metadata": {},
   "outputs": [
    {
     "data": {
      "text/plain": [
       "<AxesSubplot:>"
      ]
     },
     "execution_count": 13,
     "metadata": {},
     "output_type": "execute_result"
    },
    {
     "data": {
      "image/png": "[encoded data removed]",
      "text/plain": [
       "<Figure size 432x288 with 1 Axes>"
      ]
     },
     "metadata": {
      "needs_background": "light"
     },
     "output_type": "display_data"
    }
   ],
   "source": [
    "grid_gdf5k.plot()"
   ]
  },
  {
   "cell_type": "markdown",
   "id": "c789ea17-c6ba-4c3b-8c98-53d3637f2229",
   "metadata": {},
   "source": [
    "### Gridding at a coarser resolution\n",
    "Let's try the same process but with a bigger grid (15K)"
   ]
  },
  {
   "cell_type": "code",
   "execution_count": 14,
   "id": "160ad35f-c110-4162-b5c1-da35bf0892ea",
   "metadata": {
    "tags": []
   },
   "outputs": [],
   "source": [
    "grid_generator15k = grids.GridGenerator(region3_gdf, 15000)  # 15 km x 15 km grids"
   ]
  },
  {
   "cell_type": "markdown",
   "id": "e6add052-1ee7-4a78-aba3-a5692af84a92",
   "metadata": {},
   "source": [
    "Generate square grids\n",
    "> Notice the time taken to grid the multi polygon at 15K resolution (compared to 5K resolution)\n"
   ]
  },
  {
   "cell_type": "code",
   "execution_count": 15,
   "id": "7153ffba-8b39-48f1-89d1-fa2875e36c59",
   "metadata": {},
   "outputs": [
    {
     "name": "stdout",
     "output_type": "stream",
     "text": [
      "CPU times: user 4.23 s, sys: 48.8 ms, total: 4.27 s\n",
      "Wall time: 4.27 s\n"
     ]
    }
   ],
   "source": [
    "%%time\n",
    "grid_gdf15k = grid_generator15k.generate_grids()"
   ]
  },
  {
   "cell_type": "markdown",
   "id": "4a690b6a-0fae-4cb9-ba89-58375be4c97b",
   "metadata": {},
   "source": [
    "Show gridded version of sample geojson file at 15K resolution "
   ]
  },
  {
   "cell_type": "code",
   "execution_count": 16,
   "id": "da9dbcf6-c4e8-474a-afce-2548f0c834a0",
   "metadata": {},
   "outputs": [
    {
     "name": "stdout",
     "output_type": "stream",
     "text": [
      "length of grid_gdf15k: 154 row(s)\n"
     ]
    }
   ],
   "source": [
    "# hide_input\n",
    "print(f\"length of grid_gdf15k: {len(grid_gdf15k)} row(s)\")"
   ]
  },
  {
   "cell_type": "code",
   "execution_count": 17,
   "id": "8c77003b-566e-462c-8f78-8188e3b12731",
   "metadata": {},
   "outputs": [
    {
     "data": {
      "text/plain": [
       "<AxesSubplot:>"
      ]
     },
     "execution_count": 17,
     "metadata": {},
     "output_type": "execute_result"
    },
    {
     "data": {
      "image/png": "[encoded data removed]",
      "text/plain": [
       "<Figure size 432x288 with 1 Axes>"
      ]
     },
     "metadata": {
      "needs_background": "light"
     },
     "output_type": "display_data"
    }
   ],
   "source": [
    "grid_gdf15k.plot()"
   ]
  }
 ],
 "metadata": {
  "kernelspec": {
   "display_name": "Python 3",
   "language": "python",
   "name": "python3"
  },
  "language_info": {
   "codemirror_mode": {
    "name": "ipython",
    "version": 3
   },
   "file_extension": ".py",
   "mimetype": "text/x-python",
   "name": "python",
   "nbconvert_exporter": "python",
   "pygments_lexer": "ipython3",
   "version": "3.9.12"
  }
 },
 "nbformat": 4,
 "nbformat_minor": 5
}
