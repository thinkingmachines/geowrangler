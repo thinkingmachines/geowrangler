{
 "cells": [
  {
   "cell_type": "code",
   "execution_count": 1,
   "id": "c4460eac-f6b8-4d46-b971-109ed6ba24f7",
   "metadata": {},
   "outputs": [],
   "source": [
    "# default_exp datasets.ookla"
   ]
  },
  {
   "cell_type": "code",
   "execution_count": 2,
   "id": "21f3485c-20cb-44c9-a82d-3cef6a4047cf",
   "metadata": {},
   "outputs": [],
   "source": [
    "# hide\n",
    "# no_test\n",
    "![ -e /content ] && pip install -Uqq geowrangler"
   ]
  },
  {
   "cell_type": "markdown",
   "id": "bb3ad1a2-b0df-4675-af9e-3223c8f36e31",
   "metadata": {},
   "source": [
    "# Datasets Ookla\n",
    "> Download ookla data"
   ]
  },
  {
   "cell_type": "code",
   "execution_count": 3,
   "id": "595e34c0-415a-4ef7-8bb5-4df48d0a0e66",
   "metadata": {},
   "outputs": [],
   "source": [
    "# exporti\n",
    "import os\n",
    "import shutil\n",
    "import xml.etree.ElementTree as ET\n",
    "from collections import namedtuple\n",
    "from functools import lru_cache\n",
    "from pathlib import Path\n",
    "from typing import List\n",
    "from urllib.parse import urlparse\n",
    "\n",
    "import requests\n",
    "\n",
    "OoklaFile = namedtuple(\"OoklaQuarter\", [\"type\", \"year\", \"quarter\"])"
   ]
  },
  {
   "cell_type": "code",
   "execution_count": 4,
   "id": "84a30a6d-c28d-4be2-9325-ac7618d49a31",
   "metadata": {},
   "outputs": [],
   "source": [
    "# export\n",
    "@lru_cache(maxsize=None)\n",
    "def list_ookla_files() -> dict:\n",
    "    \"\"\"Get list of ookla data\"\"\"\n",
    "    # Query parquet files as they are easier to deal with then shapefiles\n",
    "    resp = requests.get(\n",
    "        \"https://ookla-open-data.s3.us-west-2.amazonaws.com/?list-type=2&prefix=parquet\"\n",
    "    )\n",
    "    resp.raise_for_status()\n",
    "    root = ET.fromstring(resp.text)\n",
    "    keys = {}\n",
    "    # Get keys. This would require pagination once there are more than 1000 keys under the parquet folder\n",
    "    # but that would only happen after ~125 years\n",
    "    for child in root.findall(\"{http://s3.amazonaws.com/doc/2006-03-01/}Contents\"):\n",
    "        key = child.find(\"{http://s3.amazonaws.com/doc/2006-03-01/}Key\").text\n",
    "        path_key = Path(key)\n",
    "        type_ = path_key.parts[2].rsplit(\"=\")[-1]\n",
    "        year = path_key.parts[3].rsplit(\"=\")[-1]\n",
    "        quarter = path_key.parts[4].rsplit(\"=\")[-1]\n",
    "        file = path_key.parts[5]\n",
    "        keys.update({OoklaFile(type_, year, quarter): file})\n",
    "    return keys"
   ]
  },
  {
   "cell_type": "code",
   "execution_count": 5,
   "id": "0fde158e-98ef-43a1-836b-fed81205d638",
   "metadata": {},
   "outputs": [],
   "source": [
    "# export\n",
    "def download_ookla_file(\n",
    "    type_: str,  # Internet connection type: 'fixed' or 'mobile'\n",
    "    year: str,  # Year (e.g. '2020')\n",
    "    quarter: str,  # Quarter (valid values: '1','2','3','4')\n",
    "    directory: str = \"data/\",  # Download directory\n",
    "    overwrite: bool = False,  # Overwrite if existing\n",
    ") -> List[Path]:\n",
    "    \"\"\"Download ookla file to path\"\"\"\n",
    "    if not os.path.isdir(directory):\n",
    "        os.makedirs(directory)\n",
    "    ookla_info = list_ookla_files()\n",
    "    key = OoklaFile(type_, str(year), str(quarter))\n",
    "    if key not in ookla_info:\n",
    "        raise ValueError(\n",
    "            f\"{key} not found in ookla. Run list_ookla_data() to learn more about available files\"\n",
    "        )\n",
    "    file = ookla_info[key]\n",
    "    url = f\"https://ookla-open-data.s3.us-west-2.amazonaws.com/parquet/performance/type={type_}/year={year}/quarter={quarter}/{file}\"\n",
    "    parsed_url = urlparse(url)\n",
    "    filename = Path(os.path.basename(parsed_url.path))\n",
    "    filepath = directory / filename\n",
    "    if not filepath.exists() or overwrite:\n",
    "        response = requests.get(url, stream=True)\n",
    "        with open(filepath, \"wb\") as out_file:\n",
    "            shutil.copyfileobj(response.raw, out_file)\n",
    "    return filepath"
   ]
  },
  {
   "cell_type": "code",
   "execution_count": 6,
   "id": "23d8b707-6b41-426b-9135-a422d5a2ad37",
   "metadata": {},
   "outputs": [
    {
     "name": "stdout",
     "output_type": "stream",
     "text": [
      "Converted 05_datasets_ookla.ipynb.\n"
     ]
    }
   ],
   "source": [
    "# hide\n",
    "# no_test\n",
    "from nbdev.export import notebook2script\n",
    "\n",
    "notebook2script(\"05_datasets_ookla.ipynb\")"
   ]
  },
  {
   "cell_type": "code",
   "execution_count": null,
   "id": "3d7b9c01-1dbd-4720-a7b0-2976139777e8",
   "metadata": {},
   "outputs": [],
   "source": []
  }
 ],
 "metadata": {
  "kernelspec": {
   "display_name": "Python 3",
   "language": "python",
   "name": "python3"
  },
  "language_info": {
   "codemirror_mode": {
    "name": "ipython",
    "version": 3
   },
   "file_extension": ".py",
   "mimetype": "text/x-python",
   "name": "python",
   "nbconvert_exporter": "python",
   "pygments_lexer": "ipython3",
   "version": "3.9.13"
  },
  "vscode": {
   "interpreter": {
    "hash": "4a07a05096b6351e45107f092fcbc6d58e4d1183d490a1128ce24e8ca5af3ddc"
   }
  }
 },
 "nbformat": 4,
 "nbformat_minor": 5
}
