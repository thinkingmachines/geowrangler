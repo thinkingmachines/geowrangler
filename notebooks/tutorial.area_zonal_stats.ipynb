{
 "cells": [
  {
   "cell_type": "code",
   "execution_count": 1,
   "id": "1a12bdc5-566a-409c-ae39-3636f131c65d",
   "metadata": {},
   "outputs": [],
   "source": [
    "# hide\n",
    "# all_slow"
   ]
  },
  {
   "cell_type": "code",
   "execution_count": 2,
   "id": "4832ee28-c56f-454b-ac7d-eb35158220c8",
   "metadata": {},
   "outputs": [],
   "source": [
    "# hide\n",
    "# no_test\n",
    "! [ -e /content ] && pip install -Uqq git+https://github.com/thinkingmachines/geowrangler.git"
   ]
  },
  {
   "cell_type": "code",
   "execution_count": 3,
   "id": "8dadc39a-8b5f-41fc-9e78-e62f710ae0bb",
   "metadata": {},
   "outputs": [],
   "source": [
    "# hide\n",
    "# no_test\n",
    "!mkdir -p ../data\n",
    "![ -e /content ] && ln -s ../data ."
   ]
  },
  {
   "cell_type": "code",
   "execution_count": 4,
   "id": "f59a0b84-0de7-414a-be2e-3e5d3b94b000",
   "metadata": {},
   "outputs": [],
   "source": [
    "# hide\n",
    "# no_test\n",
    "%reload_ext autoreload\n",
    "%autoreload 2\n",
    "%matplotlib inline"
   ]
  },
  {
   "cell_type": "markdown",
   "id": "c0338fb8-6b7f-451d-9af2-cb45778b1038",
   "metadata": {
    "tags": []
   },
   "source": [
    "# Vector Area Zonal Stats Tutorial"
   ]
  },
  {
   "cell_type": "markdown",
   "id": "39db2a30-2b96-4ef1-bae0-1499a79dab2f",
   "metadata": {},
   "source": [
    "> A basic introduction to Vector Area Zonal Stats "
   ]
  },
  {
   "cell_type": "markdown",
   "id": "26a4ef83-0f9b-43be-b2cc-e292c7ea4ca1",
   "metadata": {
    "tags": []
   },
   "source": [
    "## Basic Usage\n",
    "\n",
    "Generate area zonal stats for a GeoDataframe containing areas of interest with a vector data source containing areas associated with statistics. \n",
    "> Note: the assumption for the data is that the statistics are uniformly distributed over the entire area for each row in the data source.\n"
   ]
  },
  {
   "cell_type": "code",
   "execution_count": 5,
   "id": "25607301-578f-488d-92bd-a2d8b91f1b2f",
   "metadata": {},
   "outputs": [],
   "source": [
    "# hide\n",
    "import warnings\n",
    "\n",
    "warnings.filterwarnings(action=\"ignore\", category=UserWarning, module=\"geopandas\")"
   ]
  },
  {
   "cell_type": "code",
   "execution_count": 6,
   "id": "82012947-cc3e-4b8b-850e-dcd565ad160d",
   "metadata": {},
   "outputs": [],
   "source": [
    "import geopandas as gpd\n",
    "import matplotlib.pyplot as plt\n",
    "import geowrangler.area_zonal_stats as azs"
   ]
  },
  {
   "cell_type": "code",
   "execution_count": 7,
   "id": "e0a7872a-e5be-4b3f-a7ae-f9d77c36f4f6",
   "metadata": {},
   "outputs": [],
   "source": [
    "# hide\n",
    "# no_test\n",
    "!mkdir -p ../data\n",
    "# download sample geojson files from repo\n",
    "![ ! -e ../data/simple_planar_aoi.geojson ] && curl -s -o ../data/simple_planar_aoi.geojson https://raw.githubusercontent.com/thinkingmachines/geowrangler/master/data/simple_planar_aoi.geojson\n",
    "![ ! -e ../data/simple_planar_data.geojson ] && curl -s -o ../data/simple_planar_data.geojson https://raw.githubusercontent.com/thinkingmachines/geowrangler/master/data/simple_planar_data.geojson\n",
    "![ ! -e ../data/region3_admin_grids.geojson ] && curl -s -o ../data/region3_admin_grids.geojson https://raw.githubusercontent.com/thinkingmachines/geowrangler/master/data/region3_admin_grids.geojson\n",
    "![ ! -e ../data/region3_population_bgy_level.geojson ] && curl -s -o ../data/region3_population_bgy_level.geojson https://raw.githubusercontent.com/thinkingmachines/geowrangler/master/data/region3_population_bgy_level.geojson"
   ]
  },
  {
   "cell_type": "markdown",
   "id": "88f66142-537f-40cb-a928-47d0e5c9e40d",
   "metadata": {},
   "source": [
    "### Simple Grid AOIs and Data"
   ]
  },
  {
   "cell_type": "code",
   "execution_count": 8,
   "id": "7be602ce-8820-413d-86cf-086700760cfb",
   "metadata": {},
   "outputs": [],
   "source": [
    "simple_aoi = gpd.read_file(\"../data/simple_planar_aoi.geojson\")\n",
    "simple_data = gpd.read_file(\"../data/simple_planar_data.geojson\")"
   ]
  },
  {
   "cell_type": "markdown",
   "id": "06743362-7018-4be2-9b2f-6d2fe2b142f5",
   "metadata": {},
   "source": [
    "Given an aoi (`simple_aoi`) and geodataframe containing sample data (`simple_data`)"
   ]
  },
  {
   "cell_type": "code",
   "execution_count": 9,
   "id": "cf157b87-f293-4c75-8c8f-d884af87a4de",
   "metadata": {},
   "outputs": [
    {
     "data": {
      "text/html": [
       "<div>\n",
       "<style scoped>\n",
       "    .dataframe tbody tr th:only-of-type {\n",
       "        vertical-align: middle;\n",
       "    }\n",
       "\n",
       "    .dataframe tbody tr th {\n",
       "        vertical-align: top;\n",
       "    }\n",
       "\n",
       "    .dataframe thead th {\n",
       "        text-align: right;\n",
       "    }\n",
       "</style>\n",
       "<table border=\"1\" class=\"dataframe\">\n",
       "  <thead>\n",
       "    <tr style=\"text-align: right;\">\n",
       "      <th></th>\n",
       "      <th>geometry</th>\n",
       "    </tr>\n",
       "  </thead>\n",
       "  <tbody>\n",
       "    <tr>\n",
       "      <th>0</th>\n",
       "      <td>POLYGON ((0.000 0.000, 0.000 1.000, 1.000 1.00...</td>\n",
       "    </tr>\n",
       "    <tr>\n",
       "      <th>1</th>\n",
       "      <td>POLYGON ((1.000 0.000, 1.000 1.000, 2.000 1.00...</td>\n",
       "    </tr>\n",
       "    <tr>\n",
       "      <th>2</th>\n",
       "      <td>POLYGON ((2.000 0.000, 2.000 1.000, 3.000 1.00...</td>\n",
       "    </tr>\n",
       "  </tbody>\n",
       "</table>\n",
       "</div>"
      ],
      "text/plain": [
       "                                            geometry\n",
       "0  POLYGON ((0.000 0.000, 0.000 1.000, 1.000 1.00...\n",
       "1  POLYGON ((1.000 0.000, 1.000 1.000, 2.000 1.00...\n",
       "2  POLYGON ((2.000 0.000, 2.000 1.000, 3.000 1.00..."
      ]
     },
     "execution_count": 9,
     "metadata": {},
     "output_type": "execute_result"
    }
   ],
   "source": [
    "simple_aoi"
   ]
  },
  {
   "cell_type": "code",
   "execution_count": 10,
   "id": "009720cc-0a44-4228-a8d5-6c132efb5a0f",
   "metadata": {},
   "outputs": [
    {
     "data": {
      "text/html": [
       "<div>\n",
       "<style scoped>\n",
       "    .dataframe tbody tr th:only-of-type {\n",
       "        vertical-align: middle;\n",
       "    }\n",
       "\n",
       "    .dataframe tbody tr th {\n",
       "        vertical-align: top;\n",
       "    }\n",
       "\n",
       "    .dataframe thead th {\n",
       "        text-align: right;\n",
       "    }\n",
       "</style>\n",
       "<table border=\"1\" class=\"dataframe\">\n",
       "  <thead>\n",
       "    <tr style=\"text-align: right;\">\n",
       "      <th></th>\n",
       "      <th>population</th>\n",
       "      <th>internet_speed</th>\n",
       "      <th>geometry</th>\n",
       "    </tr>\n",
       "  </thead>\n",
       "  <tbody>\n",
       "    <tr>\n",
       "      <th>0</th>\n",
       "      <td>100</td>\n",
       "      <td>20.0</td>\n",
       "      <td>POLYGON ((0.250 0.000, 0.250 1.000, 1.250 1.00...</td>\n",
       "    </tr>\n",
       "    <tr>\n",
       "      <th>1</th>\n",
       "      <td>200</td>\n",
       "      <td>10.0</td>\n",
       "      <td>POLYGON ((1.250 0.000, 1.250 1.000, 2.250 1.00...</td>\n",
       "    </tr>\n",
       "    <tr>\n",
       "      <th>2</th>\n",
       "      <td>300</td>\n",
       "      <td>5.0</td>\n",
       "      <td>POLYGON ((2.250 0.000, 2.250 1.000, 3.250 1.00...</td>\n",
       "    </tr>\n",
       "  </tbody>\n",
       "</table>\n",
       "</div>"
      ],
      "text/plain": [
       "   population  internet_speed  \\\n",
       "0         100            20.0   \n",
       "1         200            10.0   \n",
       "2         300             5.0   \n",
       "\n",
       "                                            geometry  \n",
       "0  POLYGON ((0.250 0.000, 0.250 1.000, 1.250 1.00...  \n",
       "1  POLYGON ((1.250 0.000, 1.250 1.000, 2.250 1.00...  \n",
       "2  POLYGON ((2.250 0.000, 2.250 1.000, 3.250 1.00...  "
      ]
     },
     "execution_count": 10,
     "metadata": {},
     "output_type": "execute_result"
    }
   ],
   "source": [
    "simple_data"
   ]
  },
  {
   "cell_type": "markdown",
   "id": "0b8266ff-3c0a-45ed-bde3-12f01eab034c",
   "metadata": {},
   "source": [
    "In order correctly apportion the statistic, we need to make sure that the aoi and data geodataframes are using a `planar` CRS (i.e. `gdf.crs.is_geographic == False`)"
   ]
  },
  {
   "cell_type": "code",
   "execution_count": 12,
   "id": "df7c82a4-18ee-4810-b19f-2917baebf0dc",
   "metadata": {},
   "outputs": [
    {
     "data": {
      "text/plain": [
       "<Projected CRS: EPSG:3857>\n",
       "Name: WGS 84 / Pseudo-Mercator\n",
       "Axis Info [cartesian]:\n",
       "- X[east]: Easting (metre)\n",
       "- Y[north]: Northing (metre)\n",
       "Area of Use:\n",
       "- name: World between 85.06°S and 85.06°N.\n",
       "- bounds: (-180.0, -85.06, 180.0, 85.06)\n",
       "Coordinate Operation:\n",
       "- name: Popular Visualisation Pseudo-Mercator\n",
       "- method: Popular Visualisation Pseudo Mercator\n",
       "Datum: World Geodetic System 1984 ensemble\n",
       "- Ellipsoid: WGS 84\n",
       "- Prime Meridian: Greenwich"
      ]
     },
     "execution_count": 12,
     "metadata": {},
     "output_type": "execute_result"
    }
   ],
   "source": [
    "simple_aoi.crs"
   ]
  },
  {
   "cell_type": "code",
   "execution_count": 13,
   "id": "cf41954a-eda2-4250-a1a8-16a2f59d2d1e",
   "metadata": {},
   "outputs": [
    {
     "data": {
      "text/plain": [
       "<Projected CRS: EPSG:3857>\n",
       "Name: WGS 84 / Pseudo-Mercator\n",
       "Axis Info [cartesian]:\n",
       "- X[east]: Easting (metre)\n",
       "- Y[north]: Northing (metre)\n",
       "Area of Use:\n",
       "- name: World between 85.06°S and 85.06°N.\n",
       "- bounds: (-180.0, -85.06, 180.0, 85.06)\n",
       "Coordinate Operation:\n",
       "- name: Popular Visualisation Pseudo-Mercator\n",
       "- method: Popular Visualisation Pseudo Mercator\n",
       "Datum: World Geodetic System 1984 ensemble\n",
       "- Ellipsoid: WGS 84\n",
       "- Prime Meridian: Greenwich"
      ]
     },
     "execution_count": 13,
     "metadata": {},
     "output_type": "execute_result"
    }
   ],
   "source": [
    "simple_data.crs"
   ]
  },
  {
   "cell_type": "code",
   "execution_count": 14,
   "id": "0e7d9f75-ea71-40ef-89ac-cbc29dd51a35",
   "metadata": {},
   "outputs": [
    {
     "data": {
      "image/png": "[encoded data removed]",
      "text/plain": [
       "<Figure size 432x288 with 1 Axes>"
      ]
     },
     "metadata": {
      "needs_background": "light"
     },
     "output_type": "display_data"
    }
   ],
   "source": [
    "ax = plt.axes()\n",
    "ax = simple_data.plot(\n",
    "    ax=ax, color=[\"orange\", \"brown\", \"purple\"], edgecolor=\"yellow\", alpha=0.4\n",
    ")\n",
    "ax = simple_aoi.plot(ax=ax, facecolor=\"none\", edgecolor=[\"r\", \"g\", \"b\"])"
   ]
  },
  {
   "cell_type": "markdown",
   "id": "b57a3113-5637-4e0c-bca8-12a523d06751",
   "metadata": {
    "tags": []
   },
   "source": [
    "The red,green,blue outlines are the 3 regions of interest (aoi) while the orange,brown, purple areas are the data areas. "
   ]
  },
  {
   "cell_type": "code",
   "execution_count": 15,
   "id": "0b2be7bc-979b-4daa-80b2-ebbf3f6286e8",
   "metadata": {},
   "outputs": [],
   "source": [
    "empty_aoi_results = azs.create_area_zonal_stats(simple_aoi, simple_data)"
   ]
  },
  {
   "cell_type": "markdown",
   "id": "e2d6d0f8-f712-49e6-8322-f16662991bbb",
   "metadata": {},
   "source": [
    "If no aggregations are specified, the `include_intersect=True` arg specifies that the sum of the data areas intersecting our aoi is computed in the column `intersect_area_sum`.  "
   ]
  },
  {
   "cell_type": "code",
   "execution_count": 16,
   "id": "bbe236f8-d7ee-493a-a15a-23006a90916f",
   "metadata": {},
   "outputs": [
    {
     "data": {
      "text/html": [
       "<div>\n",
       "<style scoped>\n",
       "    .dataframe tbody tr th:only-of-type {\n",
       "        vertical-align: middle;\n",
       "    }\n",
       "\n",
       "    .dataframe tbody tr th {\n",
       "        vertical-align: top;\n",
       "    }\n",
       "\n",
       "    .dataframe thead th {\n",
       "        text-align: right;\n",
       "    }\n",
       "</style>\n",
       "<table border=\"1\" class=\"dataframe\">\n",
       "  <thead>\n",
       "    <tr style=\"text-align: right;\">\n",
       "      <th></th>\n",
       "      <th>geometry</th>\n",
       "      <th>intersect_area_sum</th>\n",
       "    </tr>\n",
       "  </thead>\n",
       "  <tbody>\n",
       "    <tr>\n",
       "      <th>0</th>\n",
       "      <td>POLYGON ((0.000 0.000, 0.000 1.000, 1.000 1.00...</td>\n",
       "      <td>0.75</td>\n",
       "    </tr>\n",
       "    <tr>\n",
       "      <th>1</th>\n",
       "      <td>POLYGON ((1.000 0.000, 1.000 1.000, 2.000 1.00...</td>\n",
       "      <td>1.00</td>\n",
       "    </tr>\n",
       "    <tr>\n",
       "      <th>2</th>\n",
       "      <td>POLYGON ((2.000 0.000, 2.000 1.000, 3.000 1.00...</td>\n",
       "      <td>1.00</td>\n",
       "    </tr>\n",
       "  </tbody>\n",
       "</table>\n",
       "</div>"
      ],
      "text/plain": [
       "                                            geometry  intersect_area_sum\n",
       "0  POLYGON ((0.000 0.000, 0.000 1.000, 1.000 1.00...                0.75\n",
       "1  POLYGON ((1.000 0.000, 1.000 1.000, 2.000 1.00...                1.00\n",
       "2  POLYGON ((2.000 0.000, 2.000 1.000, 3.000 1.00...                1.00"
      ]
     },
     "execution_count": 16,
     "metadata": {},
     "output_type": "execute_result"
    }
   ],
   "source": [
    "empty_aoi_results"
   ]
  },
  {
   "cell_type": "markdown",
   "id": "12f45bf9-fc72-4e2e-8c86-ea92d68a2fa1",
   "metadata": {},
   "source": [
    "#### Apportioning aggregated statistics\n",
    "\n",
    "To aggregate statistics over the aoi areas intersecting with the data areas, the default behavior of \"apportioning\" the statistic over the intersection of the data area overlapping the aoi area depends on the statistic.\n",
    "\n",
    "* For `sum` it apportions the total value of the statistic over the proportion of the data area overlapping the aoi area divided by the total area of the _`data`_.\n",
    "* For `mean` it apportions the total value of the statistic over the proportion of the data area overlapping the aoi area divided by the total area of the _`aoi`_.\n",
    "* For other statistics, there is no apportioning done and uses the _`raw`_ statistics from the data areas overlapping the aoi area.\n",
    "\n",
    "> Note: this default behavior can be overridden by specifying a prefix (`raw_`,`data_`,`aoi_`)  to the statistic (i.e. func) -- e.g. if you wish the apportion the `sum` as a proportion of the _aoi area_ instead of the _data area_, specify the func as `aoi_sum` instead of `sum`. \n"
   ]
  },
  {
   "cell_type": "code",
   "execution_count": 17,
   "id": "e67c515c-52d4-4843-8409-2875c31bdc9a",
   "metadata": {
    "tags": []
   },
   "outputs": [
    {
     "name": "stdout",
     "output_type": "stream",
     "text": [
      "CPU times: user 53.2 ms, sys: 728 µs, total: 53.9 ms\n",
      "Wall time: 51.6 ms\n"
     ]
    }
   ],
   "source": [
    "%%time\n",
    "simple_aoi_results = azs.create_area_zonal_stats(\n",
    "    simple_aoi,\n",
    "    simple_data,\n",
    "    [\n",
    "        dict(func=[\"sum\", \"count\"], column=\"population\"),\n",
    "        dict(func=[\"mean\", \"max\", \"min\", \"std\"], column=\"internet_speed\"),\n",
    "    ],\n",
    ")"
   ]
  },
  {
   "cell_type": "code",
   "execution_count": 18,
   "id": "d53a5b4f-81e4-482f-a9af-3a8bb079ef73",
   "metadata": {},
   "outputs": [
    {
     "data": {
      "text/html": [
       "<div>\n",
       "<style scoped>\n",
       "    .dataframe tbody tr th:only-of-type {\n",
       "        vertical-align: middle;\n",
       "    }\n",
       "\n",
       "    .dataframe tbody tr th {\n",
       "        vertical-align: top;\n",
       "    }\n",
       "\n",
       "    .dataframe thead th {\n",
       "        text-align: right;\n",
       "    }\n",
       "</style>\n",
       "<table border=\"1\" class=\"dataframe\">\n",
       "  <thead>\n",
       "    <tr style=\"text-align: right;\">\n",
       "      <th></th>\n",
       "      <th>geometry</th>\n",
       "      <th>intersect_area_sum</th>\n",
       "      <th>population_sum</th>\n",
       "      <th>population_count</th>\n",
       "      <th>internet_speed_mean</th>\n",
       "      <th>internet_speed_max</th>\n",
       "      <th>internet_speed_min</th>\n",
       "      <th>internet_speed_std</th>\n",
       "    </tr>\n",
       "  </thead>\n",
       "  <tbody>\n",
       "    <tr>\n",
       "      <th>0</th>\n",
       "      <td>POLYGON ((0.000 0.000, 0.000 1.000, 1.000 1.00...</td>\n",
       "      <td>0.75</td>\n",
       "      <td>75.0</td>\n",
       "      <td>1</td>\n",
       "      <td>15.000</td>\n",
       "      <td>20.0</td>\n",
       "      <td>0.0</td>\n",
       "      <td>NaN</td>\n",
       "    </tr>\n",
       "    <tr>\n",
       "      <th>1</th>\n",
       "      <td>POLYGON ((1.000 0.000, 1.000 1.000, 2.000 1.00...</td>\n",
       "      <td>1.00</td>\n",
       "      <td>175.0</td>\n",
       "      <td>2</td>\n",
       "      <td>6.250</td>\n",
       "      <td>20.0</td>\n",
       "      <td>10.0</td>\n",
       "      <td>7.071068</td>\n",
       "    </tr>\n",
       "    <tr>\n",
       "      <th>2</th>\n",
       "      <td>POLYGON ((2.000 0.000, 2.000 1.000, 3.000 1.00...</td>\n",
       "      <td>1.00</td>\n",
       "      <td>275.0</td>\n",
       "      <td>2</td>\n",
       "      <td>3.125</td>\n",
       "      <td>10.0</td>\n",
       "      <td>5.0</td>\n",
       "      <td>3.535534</td>\n",
       "    </tr>\n",
       "  </tbody>\n",
       "</table>\n",
       "</div>"
      ],
      "text/plain": [
       "                                            geometry  intersect_area_sum  \\\n",
       "0  POLYGON ((0.000 0.000, 0.000 1.000, 1.000 1.00...                0.75   \n",
       "1  POLYGON ((1.000 0.000, 1.000 1.000, 2.000 1.00...                1.00   \n",
       "2  POLYGON ((2.000 0.000, 2.000 1.000, 3.000 1.00...                1.00   \n",
       "\n",
       "   population_sum  population_count  internet_speed_mean  internet_speed_max  \\\n",
       "0            75.0                 1               15.000                20.0   \n",
       "1           175.0                 2                6.250                20.0   \n",
       "2           275.0                 2                3.125                10.0   \n",
       "\n",
       "   internet_speed_min  internet_speed_std  \n",
       "0                 0.0                 NaN  \n",
       "1                10.0            7.071068  \n",
       "2                 5.0            3.535534  "
      ]
     },
     "execution_count": 18,
     "metadata": {},
     "output_type": "execute_result"
    }
   ],
   "source": [
    "simple_aoi_results"
   ]
  },
  {
   "cell_type": "code",
   "execution_count": 19,
   "id": "89c6f4ec-ca1c-4f63-869c-16a618dd0585",
   "metadata": {},
   "outputs": [
    {
     "data": {
      "text/plain": [
       "525.0"
      ]
     },
     "execution_count": 19,
     "metadata": {},
     "output_type": "execute_result"
    }
   ],
   "source": [
    "simple_aoi_results.population_sum.sum(axis=None)"
   ]
  },
  {
   "cell_type": "markdown",
   "id": "2f362e75-8eb5-483b-8af9-332aab0b5fc5",
   "metadata": {},
   "source": [
    "Note the value of the mean of the internet speed for the 1st area above. \n",
    "\n",
    "While there is one data area overlapping with an internet speed of `20.0` the computed aggregate statistic for the mean is `15.0` due to the apportioning which only accounts for `0.75` (the total aoi area is `1.0`) -- meaning it assigns a value of `0.0` for the `0.25` area with no overlapping data area.\n",
    "\n",
    "If you wish to override this behavior and impute the value of the statistic as the means of all the overlapping areas (in proportion to the overlap of their area over the total area of the aoi), you can additionally add a prefix of `imputed_` as shown in the next example. Note that adding a prefix doesn't change the default output column name, which is why we explicitly specified an output column name (`internet_speed_imputed_mean` in order to differentiate it from the original `internet_speed_mean` column.\n",
    "\n",
    "Notice as well that adding a `raw_` prefix to the `min`,`max`,`std` statistics doesn't change their values since by default these statistics don't use any apportioning (so specifying `raw_` is redundant in this case).\n",
    "\n",
    "Lastly, check the effect of setting of the `fix_min` arg to `False` (the default value is `True`) -- since it uses the _raw column_ to compute the `min`, it is not aware that there are areas in the aoi that have no overlapping data areas and uses the `min` value from the overlapping areas (in this case, since there is only 1 partially overlapping area, it uses that as the `min` value).  The `fix_min` arg \"fixes\" this by checking if the data areas completely overlap the aoi area and sets the minimum to `0`  if there is a portion of the aoi area that is not completely intersected by a data area.\n"
   ]
  },
  {
   "cell_type": "code",
   "execution_count": 31,
   "id": "52d8cf69-8a11-4b41-9012-02ec5a55fb34",
   "metadata": {
    "tags": []
   },
   "outputs": [
    {
     "name": "stdout",
     "output_type": "stream",
     "text": [
      "CPU times: user 103 ms, sys: 0 ns, total: 103 ms\n",
      "Wall time: 101 ms\n"
     ]
    }
   ],
   "source": [
    "%%time\n",
    "corrected_aoi_results = azs.create_area_zonal_stats(\n",
    "    simple_aoi,\n",
    "    simple_data,\n",
    "    [\n",
    "        dict(func=[\"sum\", \"count\"], column=\"population\"),\n",
    "        dict(\n",
    "            func=[\"mean\", \"imputed_mean\", \"raw_max\", \"raw_min\", \"raw_std\"],\n",
    "            column=\"internet_speed\",\n",
    "            output=[\n",
    "                \"internet_speed_mean\",\n",
    "                \"internet_speed_imputed_mean\",\n",
    "                \"internet_speed_max\",\n",
    "                \"internet_speed_min\",\n",
    "                \"internet_speed_std\",\n",
    "            ],\n",
    "        ),\n",
    "    ],\n",
    "    fix_min=False,\n",
    ")"
   ]
  },
  {
   "cell_type": "code",
   "execution_count": 32,
   "id": "4b7ee3f4-b9d7-4156-b0c7-e91d51030654",
   "metadata": {},
   "outputs": [
    {
     "data": {
      "text/html": [
       "<div>\n",
       "<style scoped>\n",
       "    .dataframe tbody tr th:only-of-type {\n",
       "        vertical-align: middle;\n",
       "    }\n",
       "\n",
       "    .dataframe tbody tr th {\n",
       "        vertical-align: top;\n",
       "    }\n",
       "\n",
       "    .dataframe thead th {\n",
       "        text-align: right;\n",
       "    }\n",
       "</style>\n",
       "<table border=\"1\" class=\"dataframe\">\n",
       "  <thead>\n",
       "    <tr style=\"text-align: right;\">\n",
       "      <th></th>\n",
       "      <th>geometry</th>\n",
       "      <th>intersect_area_sum</th>\n",
       "      <th>population_sum</th>\n",
       "      <th>population_count</th>\n",
       "      <th>internet_speed_mean</th>\n",
       "      <th>internet_speed_imputed_mean</th>\n",
       "      <th>internet_speed_max</th>\n",
       "      <th>internet_speed_min</th>\n",
       "      <th>internet_speed_std</th>\n",
       "    </tr>\n",
       "  </thead>\n",
       "  <tbody>\n",
       "    <tr>\n",
       "      <th>0</th>\n",
       "      <td>POLYGON ((0.000 0.000, 0.000 1.000, 1.000 1.00...</td>\n",
       "      <td>0.75</td>\n",
       "      <td>75.0</td>\n",
       "      <td>1</td>\n",
       "      <td>15.000</td>\n",
       "      <td>20.000</td>\n",
       "      <td>20.0</td>\n",
       "      <td>20.0</td>\n",
       "      <td>NaN</td>\n",
       "    </tr>\n",
       "    <tr>\n",
       "      <th>1</th>\n",
       "      <td>POLYGON ((1.000 0.000, 1.000 1.000, 2.000 1.00...</td>\n",
       "      <td>1.00</td>\n",
       "      <td>175.0</td>\n",
       "      <td>2</td>\n",
       "      <td>6.250</td>\n",
       "      <td>6.250</td>\n",
       "      <td>20.0</td>\n",
       "      <td>10.0</td>\n",
       "      <td>7.071068</td>\n",
       "    </tr>\n",
       "    <tr>\n",
       "      <th>2</th>\n",
       "      <td>POLYGON ((2.000 0.000, 2.000 1.000, 3.000 1.00...</td>\n",
       "      <td>1.00</td>\n",
       "      <td>275.0</td>\n",
       "      <td>2</td>\n",
       "      <td>3.125</td>\n",
       "      <td>3.125</td>\n",
       "      <td>10.0</td>\n",
       "      <td>5.0</td>\n",
       "      <td>3.535534</td>\n",
       "    </tr>\n",
       "  </tbody>\n",
       "</table>\n",
       "</div>"
      ],
      "text/plain": [
       "                                            geometry  intersect_area_sum  \\\n",
       "0  POLYGON ((0.000 0.000, 0.000 1.000, 1.000 1.00...                0.75   \n",
       "1  POLYGON ((1.000 0.000, 1.000 1.000, 2.000 1.00...                1.00   \n",
       "2  POLYGON ((2.000 0.000, 2.000 1.000, 3.000 1.00...                1.00   \n",
       "\n",
       "   population_sum  population_count  internet_speed_mean  \\\n",
       "0            75.0                 1               15.000   \n",
       "1           175.0                 2                6.250   \n",
       "2           275.0                 2                3.125   \n",
       "\n",
       "   internet_speed_imputed_mean  internet_speed_max  internet_speed_min  \\\n",
       "0                       20.000                20.0                20.0   \n",
       "1                        6.250                20.0                10.0   \n",
       "2                        3.125                10.0                 5.0   \n",
       "\n",
       "   internet_speed_std  \n",
       "0                 NaN  \n",
       "1            7.071068  \n",
       "2            3.535534  "
      ]
     },
     "execution_count": 32,
     "metadata": {},
     "output_type": "execute_result"
    }
   ],
   "source": [
    "corrected_aoi_results"
   ]
  },
  {
   "cell_type": "markdown",
   "id": "314bfe22-6db1-473f-8546-f04ef0853cc2",
   "metadata": {},
   "source": [
    "### Custom Grids over admin area data\n",
    "\n",
    "> Another example using aggregated statistics over admin areas (barangay level) that are apportioned into grid areas by their overlap.\n",
    "\n",
    "\n",
    "> Notice that since the grid areas does not completely overlap the admin areas (and vice versa) , the sum of their total populations and land areas are not equal."
   ]
  },
  {
   "cell_type": "code",
   "execution_count": 33,
   "id": "276faa4f-6c47-4bab-ac51-fa67a016bdeb",
   "metadata": {
    "tags": []
   },
   "outputs": [
    {
     "name": "stdout",
     "output_type": "stream",
     "text": [
      "CPU times: user 159 ms, sys: 0 ns, total: 159 ms\n",
      "Wall time: 157 ms\n"
     ]
    }
   ],
   "source": [
    "%%time\n",
    "region3_admin_grids = gpd.read_file(\"../data/region3_admin_grids.geojson\")\n",
    "region3_admin_grids = region3_admin_grids.to_crs(\"EPSG:3857\")  # convert to planar"
   ]
  },
  {
   "cell_type": "code",
   "execution_count": 34,
   "id": "6dbea28e-4e3c-468e-8c76-eddc1a5eb387",
   "metadata": {},
   "outputs": [
    {
     "name": "stdout",
     "output_type": "stream",
     "text": [
      "CPU times: user 376 ms, sys: 29.2 ms, total: 405 ms\n",
      "Wall time: 402 ms\n"
     ]
    }
   ],
   "source": [
    "%%time\n",
    "region3_pop_bgy_level = gpd.read_file(\"../data/region3_population_bgy_level.geojson\")"
   ]
  },
  {
   "cell_type": "code",
   "execution_count": 35,
   "id": "7679ca33-78c9-443b-98c4-ee40d8a41d17",
   "metadata": {
    "tags": []
   },
   "outputs": [
    {
     "name": "stdout",
     "output_type": "stream",
     "text": [
      "CPU times: user 764 ms, sys: 0 ns, total: 764 ms\n",
      "Wall time: 763 ms\n"
     ]
    }
   ],
   "source": [
    "%%time\n",
    "aoi_result = azs.create_area_zonal_stats(\n",
    "    region3_admin_grids,\n",
    "    region3_pop_bgy_level,\n",
    "    [\n",
    "        dict(func=[\"sum\", \"count\"], column=\"population\"),\n",
    "    ],\n",
    ")"
   ]
  },
  {
   "cell_type": "code",
   "execution_count": 36,
   "id": "028f4309-0fec-410b-bb21-e25b8533ea28",
   "metadata": {},
   "outputs": [
    {
     "data": {
      "text/html": [
       "<div>\n",
       "<style scoped>\n",
       "    .dataframe tbody tr th:only-of-type {\n",
       "        vertical-align: middle;\n",
       "    }\n",
       "\n",
       "    .dataframe tbody tr th {\n",
       "        vertical-align: top;\n",
       "    }\n",
       "\n",
       "    .dataframe thead th {\n",
       "        text-align: right;\n",
       "    }\n",
       "</style>\n",
       "<table border=\"1\" class=\"dataframe\">\n",
       "  <thead>\n",
       "    <tr style=\"text-align: right;\">\n",
       "      <th></th>\n",
       "      <th>x</th>\n",
       "      <th>y</th>\n",
       "      <th>geometry</th>\n",
       "      <th>intersect_area_sum</th>\n",
       "      <th>population_sum</th>\n",
       "      <th>population_count</th>\n",
       "    </tr>\n",
       "  </thead>\n",
       "  <tbody>\n",
       "    <tr>\n",
       "      <th>0</th>\n",
       "      <td>0</td>\n",
       "      <td>30</td>\n",
       "      <td>POLYGON ((13334497.956 1771012.807, 13339497.9...</td>\n",
       "      <td>1.213773e+06</td>\n",
       "      <td>687.832840</td>\n",
       "      <td>1</td>\n",
       "    </tr>\n",
       "    <tr>\n",
       "      <th>1</th>\n",
       "      <td>0</td>\n",
       "      <td>31</td>\n",
       "      <td>POLYGON ((13334497.956 1776012.807, 13339497.9...</td>\n",
       "      <td>2.471924e+06</td>\n",
       "      <td>986.890853</td>\n",
       "      <td>1</td>\n",
       "    </tr>\n",
       "    <tr>\n",
       "      <th>2</th>\n",
       "      <td>0</td>\n",
       "      <td>32</td>\n",
       "      <td>POLYGON ((13334497.956 1781012.807, 13339497.9...</td>\n",
       "      <td>2.748813e+06</td>\n",
       "      <td>1097.435840</td>\n",
       "      <td>1</td>\n",
       "    </tr>\n",
       "    <tr>\n",
       "      <th>3</th>\n",
       "      <td>1</td>\n",
       "      <td>30</td>\n",
       "      <td>POLYGON ((13339497.956 1771012.807, 13344497.9...</td>\n",
       "      <td>1.081669e+06</td>\n",
       "      <td>468.368614</td>\n",
       "      <td>2</td>\n",
       "    </tr>\n",
       "    <tr>\n",
       "      <th>4</th>\n",
       "      <td>1</td>\n",
       "      <td>32</td>\n",
       "      <td>POLYGON ((13339497.956 1781012.807, 13344497.9...</td>\n",
       "      <td>8.941593e+04</td>\n",
       "      <td>8.570604</td>\n",
       "      <td>2</td>\n",
       "    </tr>\n",
       "    <tr>\n",
       "      <th>...</th>\n",
       "      <td>...</td>\n",
       "      <td>...</td>\n",
       "      <td>...</td>\n",
       "      <td>...</td>\n",
       "      <td>...</td>\n",
       "      <td>...</td>\n",
       "    </tr>\n",
       "    <tr>\n",
       "      <th>1069</th>\n",
       "      <td>54</td>\n",
       "      <td>44</td>\n",
       "      <td>POLYGON ((13604497.956 1841012.807, 13609497.9...</td>\n",
       "      <td>1.976718e+05</td>\n",
       "      <td>15.398162</td>\n",
       "      <td>1</td>\n",
       "    </tr>\n",
       "    <tr>\n",
       "      <th>1070</th>\n",
       "      <td>54</td>\n",
       "      <td>45</td>\n",
       "      <td>POLYGON ((13604497.956 1846012.807, 13609497.9...</td>\n",
       "      <td>1.019141e+07</td>\n",
       "      <td>1613.913393</td>\n",
       "      <td>3</td>\n",
       "    </tr>\n",
       "    <tr>\n",
       "      <th>1071</th>\n",
       "      <td>54</td>\n",
       "      <td>46</td>\n",
       "      <td>POLYGON ((13604497.956 1851012.807, 13609497.9...</td>\n",
       "      <td>3.129991e+06</td>\n",
       "      <td>1033.997979</td>\n",
       "      <td>2</td>\n",
       "    </tr>\n",
       "    <tr>\n",
       "      <th>1072</th>\n",
       "      <td>54</td>\n",
       "      <td>47</td>\n",
       "      <td>POLYGON ((13604497.956 1856012.807, 13609497.9...</td>\n",
       "      <td>8.106461e+06</td>\n",
       "      <td>250.893691</td>\n",
       "      <td>2</td>\n",
       "    </tr>\n",
       "    <tr>\n",
       "      <th>1073</th>\n",
       "      <td>54</td>\n",
       "      <td>48</td>\n",
       "      <td>POLYGON ((13604497.956 1861012.807, 13609497.9...</td>\n",
       "      <td>1.928818e+07</td>\n",
       "      <td>299.377987</td>\n",
       "      <td>3</td>\n",
       "    </tr>\n",
       "  </tbody>\n",
       "</table>\n",
       "<p>1074 rows × 6 columns</p>\n",
       "</div>"
      ],
      "text/plain": [
       "       x   y                                           geometry  \\\n",
       "0      0  30  POLYGON ((13334497.956 1771012.807, 13339497.9...   \n",
       "1      0  31  POLYGON ((13334497.956 1776012.807, 13339497.9...   \n",
       "2      0  32  POLYGON ((13334497.956 1781012.807, 13339497.9...   \n",
       "3      1  30  POLYGON ((13339497.956 1771012.807, 13344497.9...   \n",
       "4      1  32  POLYGON ((13339497.956 1781012.807, 13344497.9...   \n",
       "...   ..  ..                                                ...   \n",
       "1069  54  44  POLYGON ((13604497.956 1841012.807, 13609497.9...   \n",
       "1070  54  45  POLYGON ((13604497.956 1846012.807, 13609497.9...   \n",
       "1071  54  46  POLYGON ((13604497.956 1851012.807, 13609497.9...   \n",
       "1072  54  47  POLYGON ((13604497.956 1856012.807, 13609497.9...   \n",
       "1073  54  48  POLYGON ((13604497.956 1861012.807, 13609497.9...   \n",
       "\n",
       "      intersect_area_sum  population_sum  population_count  \n",
       "0           1.213773e+06      687.832840                 1  \n",
       "1           2.471924e+06      986.890853                 1  \n",
       "2           2.748813e+06     1097.435840                 1  \n",
       "3           1.081669e+06      468.368614                 2  \n",
       "4           8.941593e+04        8.570604                 2  \n",
       "...                  ...             ...               ...  \n",
       "1069        1.976718e+05       15.398162                 1  \n",
       "1070        1.019141e+07     1613.913393                 3  \n",
       "1071        3.129991e+06     1033.997979                 2  \n",
       "1072        8.106461e+06      250.893691                 2  \n",
       "1073        1.928818e+07      299.377987                 3  \n",
       "\n",
       "[1074 rows x 6 columns]"
      ]
     },
     "execution_count": 36,
     "metadata": {},
     "output_type": "execute_result"
    }
   ],
   "source": [
    "aoi_result"
   ]
  },
  {
   "cell_type": "code",
   "execution_count": 44,
   "id": "b53a4adf-10bf-47ec-bbea-961463fc61b6",
   "metadata": {},
   "outputs": [
    {
     "data": {
      "text/plain": [
       "(26850000000.000072, 24548892214.947075, 12136963.9717533)"
      ]
     },
     "execution_count": 44,
     "metadata": {},
     "output_type": "execute_result"
    }
   ],
   "source": [
    "(\n",
    "    aoi_result.geometry.area.sum(),\n",
    "    aoi_result.intersect_area_sum.sum(),\n",
    "    aoi_result.population_sum.sum(),\n",
    ")"
   ]
  },
  {
   "cell_type": "code",
   "execution_count": 43,
   "id": "7af23a3e-ee4c-498b-9f41-2b73c8d9b34d",
   "metadata": {},
   "outputs": [
    {
     "data": {
      "text/plain": [
       "(27658006631.682587, 13139695)"
      ]
     },
     "execution_count": 43,
     "metadata": {},
     "output_type": "execute_result"
    }
   ],
   "source": [
    "(region3_pop_bgy_level.geometry.area.sum(), region3_pop_bgy_level.population.sum())"
   ]
  },
  {
   "cell_type": "code",
   "execution_count": 37,
   "id": "9a6dc063-bf3a-4a82-a50b-7b6f2721623b",
   "metadata": {},
   "outputs": [],
   "source": [
    "gdf = region3_admin_grids\n",
    "gdf2 = region3_pop_bgy_level"
   ]
  },
  {
   "cell_type": "code",
   "execution_count": 38,
   "id": "7a25a659-2bad-436c-808c-e6c2309dbc1f",
   "metadata": {
    "tags": []
   },
   "outputs": [
    {
     "data": {
      "image/png": "[encoded data removed]",
      "text/plain": [
       "<Figure size 432x288 with 1 Axes>"
      ]
     },
     "metadata": {
      "needs_background": "light"
     },
     "output_type": "display_data"
    }
   ],
   "source": [
    "ax = plt.axes()\n",
    "ax = gdf2.plot(ax=ax, column=\"population\", alpha=0.4)\n",
    "ax = gdf.plot(ax=ax, facecolor=\"none\", edgecolor=\"blue\", alpha=0.4)"
   ]
  },
  {
   "cell_type": "code",
   "execution_count": 39,
   "id": "3008c429-1a22-41f8-9965-2997296191ec",
   "metadata": {},
   "outputs": [
    {
     "data": {
      "image/png": "[encoded data removed]",
      "text/plain": [
       "<Figure size 432x288 with 1 Axes>"
      ]
     },
     "metadata": {
      "needs_background": "light"
     },
     "output_type": "display_data"
    }
   ],
   "source": [
    "ax = plt.axes()\n",
    "ax = gdf2.plot(ax=ax, facecolor=\"none\", alpha=0.4, edgecolor=\"red\")\n",
    "ax = aoi_result.plot(column=\"population_sum\", ax=ax, alpha=0.4, edgecolor=\"blue\")"
   ]
  },
  {
   "cell_type": "code",
   "execution_count": 40,
   "id": "a6ba4adb-47ca-4c0c-8632-812e0a13b6d0",
   "metadata": {},
   "outputs": [
    {
     "data": {
      "image/png": "[encoded data removed]",
      "text/plain": [
       "<Figure size 432x288 with 1 Axes>"
      ]
     },
     "metadata": {
      "needs_background": "light"
     },
     "output_type": "display_data"
    }
   ],
   "source": [
    "ax = plt.axes()\n",
    "ax = gdf2.plot(ax=ax, column=\"population\", alpha=0.4, edgecolor=\"red\")\n",
    "ax = aoi_result.plot(column=\"intersect_area_sum\", ax=ax, alpha=0.4, edgecolor=\"blue\")"
   ]
  }
 ],
 "metadata": {
  "kernelspec": {
   "display_name": "Python 3",
   "language": "python",
   "name": "python3"
  },
  "language_info": {
   "codemirror_mode": {
    "name": "ipython",
    "version": 3
   },
   "file_extension": ".py",
   "mimetype": "text/x-python",
   "name": "python",
   "nbconvert_exporter": "python",
   "pygments_lexer": "ipython3",
   "version": "3.7.12"
  }
 },
 "nbformat": 4,
 "nbformat_minor": 5
}
