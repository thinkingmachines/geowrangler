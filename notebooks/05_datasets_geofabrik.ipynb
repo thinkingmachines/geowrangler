{
 "cells": [
  {
   "cell_type": "code",
   "execution_count": 1,
   "id": "c4460eac-f6b8-4d46-b971-109ed6ba24f7",
   "metadata": {},
   "outputs": [],
   "source": [
    "# default_exp datasets.geofabrik"
   ]
  },
  {
   "cell_type": "code",
   "execution_count": 2,
   "id": "21f3485c-20cb-44c9-a82d-3cef6a4047cf",
   "metadata": {},
   "outputs": [],
   "source": [
    "# hide\n",
    "# no_test\n",
    "![ -e /content ] && pip install -Uqq git+https://github.com/thinkingmachines/geowrangler.git"
   ]
  },
  {
   "cell_type": "markdown",
   "id": "bb3ad1a2-b0df-4675-af9e-3223c8f36e31",
   "metadata": {},
   "source": [
    "# Datasets Geofabrik\n",
    "> Download geofabrik data"
   ]
  },
  {
   "cell_type": "code",
   "execution_count": 3,
   "id": "595e34c0-415a-4ef7-8bb5-4df48d0a0e66",
   "metadata": {},
   "outputs": [],
   "source": [
    "import os\n",
    "import shutil\n",
    "from functools import lru_cache\n",
    "from pathlib import Path\n",
    "from urllib.parse import urlparse\n",
    "\n",
    "# exporti\n",
    "import requests"
   ]
  },
  {
   "cell_type": "code",
   "execution_count": 4,
   "id": "57334510-4bc1-4a2b-a085-e839f456a8a9",
   "metadata": {},
   "outputs": [],
   "source": [
    "# exporti\n",
    "@lru_cache(maxsize=None)\n",
    "def load_geofabrik_data():\n",
    "    return requests.get(\"https://download.geofabrik.de/index-v1-nogeom.json\").json()"
   ]
  },
  {
   "cell_type": "code",
   "execution_count": 5,
   "id": "84a30a6d-c28d-4be2-9325-ac7618d49a31",
   "metadata": {},
   "outputs": [],
   "source": [
    "# export\n",
    "def list_geofabrik_regions() -> dict:\n",
    "    \"\"\"Get list of regions from geofabrik index\"\"\"\n",
    "    geofrabik_data = load_geofabrik_data()\n",
    "    return {\n",
    "        k[\"properties\"][\"id\"]: k[\"properties\"][\"urls\"].get(\"shp\")\n",
    "        for k in geofrabik_data[\"features\"]\n",
    "        if k[\"properties\"][\"urls\"].get(\"shp\")\n",
    "    }"
   ]
  },
  {
   "cell_type": "code",
   "execution_count": 6,
   "id": "0fde158e-98ef-43a1-836b-fed81205d638",
   "metadata": {},
   "outputs": [],
   "source": [
    "# export\n",
    "def download_geofabrik_region(\n",
    "    region: str, directory: str = \"data/\", overwrite=False\n",
    ") -> Path:\n",
    "    \"\"\"Download geofabrik region to path\"\"\"\n",
    "    if not os.path.isdir(directory):\n",
    "        os.makedirs(directory)\n",
    "    geofabrik_info = list_geofabrik_regions()\n",
    "    if region not in geofabrik_info:\n",
    "        raise ValueError(\n",
    "            f\"{region} not found in geofabrik. Run list_geofabrik_regions() to learn more about available areas\"\n",
    "        )\n",
    "    url = geofabrik_info[region]\n",
    "    parsed_url = urlparse(url)\n",
    "    filename = Path(os.path.basename(parsed_url.path))\n",
    "    filepath = directory / filename\n",
    "    if not filepath.exists() or overwrite:\n",
    "        response = requests.get(url, stream=True)\n",
    "        with open(filepath, \"wb\") as out_file:\n",
    "            shutil.copyfileobj(response.raw, out_file)\n",
    "    return filepath"
   ]
  },
  {
   "cell_type": "code",
   "execution_count": 7,
   "id": "23d8b707-6b41-426b-9135-a422d5a2ad37",
   "metadata": {},
   "outputs": [
    {
     "name": "stdout",
     "output_type": "stream",
     "text": [
      "Converted 05_datasets_geofabrik.ipynb.\n"
     ]
    }
   ],
   "source": [
    "# hide# no_test\n",
    "from nbdev.export import notebook2script\n",
    "\n",
    "notebook2script(\"05_datasets_geofabrik.ipynb\")"
   ]
  }
 ],
 "metadata": {
  "kernelspec": {
   "display_name": "Python 3",
   "language": "python",
   "name": "python3"
  },
  "language_info": {
   "codemirror_mode": {
    "name": "ipython",
    "version": 3
   },
   "file_extension": ".py",
   "mimetype": "text/x-python",
   "name": "python",
   "nbconvert_exporter": "python",
   "pygments_lexer": "ipython3",
   "version": "3.9.13"
  },
  "vscode": {
   "interpreter": {
    "hash": "4a07a05096b6351e45107f092fcbc6d58e4d1183d490a1128ce24e8ca5af3ddc"
   }
  }
 },
 "nbformat": 4,
 "nbformat_minor": 5
}
