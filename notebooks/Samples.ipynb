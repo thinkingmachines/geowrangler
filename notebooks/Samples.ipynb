{
 "cells": [
  {
   "cell_type": "markdown",
   "id": "a0f8e522-4ce3-4d13-8150-2481ecb5ffb3",
   "metadata": {},
   "source": [
    "# Samples\n",
    "> Examples of geowrangler usage"
   ]
  },
  {
   "cell_type": "code",
   "execution_count": null,
   "id": "a8c60e2c-67e7-4b2e-825a-a3def03267ea",
   "metadata": {},
   "outputs": [],
   "source": [
    "# hide\n",
    "%reload_ext autoreload\n",
    "%reload_ext lab_black\n",
    "%autoreload 2"
   ]
  },
  {
   "cell_type": "markdown",
   "id": "ca0803d4-0e52-4782-81b7-0481acaa585e",
   "metadata": {},
   "source": [
    "## Utils module\n",
    "> note: utils is a pure python module"
   ]
  },
  {
   "cell_type": "code",
   "execution_count": null,
   "id": "ca78f460-0d51-42a8-bd62-35e9feaa7056",
   "metadata": {},
   "outputs": [],
   "source": [
    "from geowrangler import utils"
   ]
  },
  {
   "cell_type": "code",
   "execution_count": null,
   "id": "bb2b739a-4cb2-41e1-98b4-fc2d13a3c73a",
   "metadata": {},
   "outputs": [
    {
     "data": {
      "text/plain": [
       "3"
      ]
     },
     "execution_count": null,
     "metadata": {},
     "output_type": "execute_result"
    }
   ],
   "source": [
    "utils.add(1, 2)"
   ]
  },
  {
   "cell_type": "markdown",
   "id": "4f6c0ceb-4d8d-46f5-8aed-cc138debab81",
   "metadata": {},
   "source": [
    "show method signature"
   ]
  },
  {
   "cell_type": "code",
   "execution_count": null,
   "id": "75f2ceaa-fc2b-4d20-8930-6dd33bf59243",
   "metadata": {},
   "outputs": [
    {
     "data": {
      "text/plain": [
       "\u001b[0;31mSignature:\u001b[0m \u001b[0mutils\u001b[0m\u001b[0;34m.\u001b[0m\u001b[0madd\u001b[0m\u001b[0;34m(\u001b[0m\u001b[0mx\u001b[0m\u001b[0;34m,\u001b[0m \u001b[0my\u001b[0m\u001b[0;34m)\u001b[0m\u001b[0;34m\u001b[0m\u001b[0;34m\u001b[0m\u001b[0m\n",
       "\u001b[0;31mDocstring:\u001b[0m <no docstring>\n",
       "\u001b[0;31mFile:\u001b[0m      ~/work/ai4d/geowrangler/geowrangler/utils.py\n",
       "\u001b[0;31mType:\u001b[0m      function\n"
      ]
     },
     "metadata": {},
     "output_type": "display_data"
    }
   ],
   "source": [
    "utils.add?"
   ]
  },
  {
   "cell_type": "markdown",
   "id": "168a25c5-10ab-45b3-b2eb-c046ce54ef3d",
   "metadata": {},
   "source": [
    "show method source"
   ]
  },
  {
   "cell_type": "code",
   "execution_count": null,
   "id": "896c661a-a6d0-414c-87a8-7b1605d47c62",
   "metadata": {},
   "outputs": [
    {
     "data": {
      "text/plain": [
       "\u001b[0;31mSignature:\u001b[0m \u001b[0mutils\u001b[0m\u001b[0;34m.\u001b[0m\u001b[0madd\u001b[0m\u001b[0;34m(\u001b[0m\u001b[0mx\u001b[0m\u001b[0;34m,\u001b[0m \u001b[0my\u001b[0m\u001b[0;34m)\u001b[0m\u001b[0;34m\u001b[0m\u001b[0;34m\u001b[0m\u001b[0m\n",
       "\u001b[0;31mDocstring:\u001b[0m <no docstring>\n",
       "\u001b[0;31mSource:\u001b[0m   \n",
       "\u001b[0;32mdef\u001b[0m \u001b[0madd\u001b[0m\u001b[0;34m(\u001b[0m\u001b[0mx\u001b[0m\u001b[0;34m,\u001b[0m \u001b[0my\u001b[0m\u001b[0;34m)\u001b[0m\u001b[0;34m:\u001b[0m\u001b[0;34m\u001b[0m\n",
       "\u001b[0;34m\u001b[0m    \u001b[0;32mreturn\u001b[0m \u001b[0mx\u001b[0m \u001b[0;34m+\u001b[0m \u001b[0my\u001b[0m\u001b[0;34m\u001b[0m\u001b[0;34m\u001b[0m\u001b[0m\n",
       "\u001b[0;31mFile:\u001b[0m      ~/work/ai4d/geowrangler/geowrangler/utils.py\n",
       "\u001b[0;31mType:\u001b[0m      function\n"
      ]
     },
     "metadata": {},
     "output_type": "display_data"
    }
   ],
   "source": [
    "utils.add??"
   ]
  }
 ],
 "metadata": {
  "kernelspec": {
   "display_name": "Python 3",
   "language": "python",
   "name": "python3"
  }
 },
 "nbformat": 4,
 "nbformat_minor": 5
}
