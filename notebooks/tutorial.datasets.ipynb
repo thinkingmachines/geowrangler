{
 "cells": [
  {
   "cell_type": "code",
   "execution_count": 1,
   "id": "19d1c6bb-2f6e-4da8-a1d2-5da2ee4acb0f",
   "metadata": {
    "tags": []
   },
   "outputs": [],
   "source": [
    "# hide\n",
    "# all_slow"
   ]
  },
  {
   "cell_type": "code",
   "execution_count": 1,
   "id": "d3dbcf94-f89d-4ad0-b34a-8b33347e5c01",
   "metadata": {},
   "outputs": [],
   "source": [
    "# hide\n",
    "# no_test\n",
    "![ -e /content ] && pip install -Uqq git+https://github.com/thinkingmachines/geowrangler.git"
   ]
  },
  {
   "cell_type": "markdown",
   "id": "99624303-5fa5-44b9-bf08-2f9f3c054614",
   "metadata": {},
   "source": [
    "# Datasets Download\n",
    "> Basic introduction to downloading open geospatial data using geowrangler"
   ]
  },
  {
   "cell_type": "code",
   "execution_count": 2,
   "id": "2a80a52a-e47d-4b33-921c-b3ea241da823",
   "metadata": {},
   "outputs": [],
   "source": [
    "%reload_ext autoreload\n",
    "%autoreload 2"
   ]
  },
  {
   "cell_type": "markdown",
   "id": "0fc7fd97-7063-4205-9b23-0920cb26b4b5",
   "metadata": {},
   "source": [
    "## Downloading Geofabrik Data"
   ]
  },
  {
   "cell_type": "code",
   "execution_count": 3,
   "id": "98a64b09-7f4d-4d47-8ae6-25498a280c62",
   "metadata": {},
   "outputs": [],
   "source": [
    "import geopandas as gpd\n",
    "from geowrangler.datasets import geofabrik"
   ]
  },
  {
   "cell_type": "markdown",
   "id": "c2e93ffa-4b66-4e2d-8965-0f4c95250df4",
   "metadata": {},
   "source": [
    "### Listing down available regions"
   ]
  },
  {
   "cell_type": "code",
   "execution_count": 9,
   "id": "bf6d7a73-2ace-4d10-9e30-f119410240c9",
   "metadata": {},
   "outputs": [
    {
     "data": {
      "text/plain": [
       "{'afghanistan': 'https://download.geofabrik.de/asia/afghanistan-latest-free.shp.zip',\n",
       " 'armenia': 'https://download.geofabrik.de/asia/armenia-latest-free.shp.zip',\n",
       " 'azerbaijan': 'https://download.geofabrik.de/asia/azerbaijan-latest-free.shp.zip',\n",
       " 'bangladesh': 'https://download.geofabrik.de/asia/bangladesh-latest-free.shp.zip',\n",
       " 'bhutan': 'https://download.geofabrik.de/asia/bhutan-latest-free.shp.zip',\n",
       " 'cambodia': 'https://download.geofabrik.de/asia/cambodia-latest-free.shp.zip',\n",
       " 'central-zone': 'https://download.geofabrik.de/asia/india/central-zone-latest-free.shp.zip',\n",
       " 'china': 'https://download.geofabrik.de/asia/china-latest-free.shp.zip',\n",
       " 'chubu': 'https://download.geofabrik.de/asia/japan/chubu-latest-free.shp.zip',\n",
       " 'chugoku': 'https://download.geofabrik.de/asia/japan/chugoku-latest-free.shp.zip',\n",
       " 'east-timor': 'https://download.geofabrik.de/asia/east-timor-latest-free.shp.zip',\n",
       " 'eastern-zone': 'https://download.geofabrik.de/asia/india/eastern-zone-latest-free.shp.zip',\n",
       " 'gcc-states': 'https://download.geofabrik.de/asia/gcc-states-latest-free.shp.zip',\n",
       " 'hokkaido': 'https://download.geofabrik.de/asia/japan/hokkaido-latest-free.shp.zip',\n",
       " 'iran': 'https://download.geofabrik.de/asia/iran-latest-free.shp.zip',\n",
       " 'iraq': 'https://download.geofabrik.de/asia/iraq-latest-free.shp.zip',\n",
       " 'israel-and-palestine': 'https://download.geofabrik.de/asia/israel-and-palestine-latest-free.shp.zip',\n",
       " 'java': 'https://download.geofabrik.de/asia/indonesia/java-latest-free.shp.zip',\n",
       " 'jordan': 'https://download.geofabrik.de/asia/jordan-latest-free.shp.zip',\n",
       " 'kalimantan': 'https://download.geofabrik.de/asia/indonesia/kalimantan-latest-free.shp.zip',\n",
       " 'kansai': 'https://download.geofabrik.de/asia/japan/kansai-latest-free.shp.zip',\n",
       " 'kanto': 'https://download.geofabrik.de/asia/japan/kanto-latest-free.shp.zip',\n",
       " 'kazakhstan': 'https://download.geofabrik.de/asia/kazakhstan-latest-free.shp.zip',\n",
       " 'kyrgyzstan': 'https://download.geofabrik.de/asia/kyrgyzstan-latest-free.shp.zip',\n",
       " 'kyushu': 'https://download.geofabrik.de/asia/japan/kyushu-latest-free.shp.zip',\n",
       " 'laos': 'https://download.geofabrik.de/asia/laos-latest-free.shp.zip',\n",
       " 'lebanon': 'https://download.geofabrik.de/asia/lebanon-latest-free.shp.zip',\n",
       " 'malaysia-singapore-brunei': 'https://download.geofabrik.de/asia/malaysia-singapore-brunei-latest-free.shp.zip',\n",
       " 'maldives': 'https://download.geofabrik.de/asia/maldives-latest-free.shp.zip',\n",
       " 'maluku': 'https://download.geofabrik.de/asia/indonesia/maluku-latest-free.shp.zip',\n",
       " 'mongolia': 'https://download.geofabrik.de/asia/mongolia-latest-free.shp.zip',\n",
       " 'myanmar': 'https://download.geofabrik.de/asia/myanmar-latest-free.shp.zip',\n",
       " 'nepal': 'https://download.geofabrik.de/asia/nepal-latest-free.shp.zip',\n",
       " 'north-eastern-zone': 'https://download.geofabrik.de/asia/india/north-eastern-zone-latest-free.shp.zip',\n",
       " 'north-korea': 'https://download.geofabrik.de/asia/north-korea-latest-free.shp.zip',\n",
       " 'northern-zone': 'https://download.geofabrik.de/asia/india/northern-zone-latest-free.shp.zip',\n",
       " 'nusa-tenggara': 'https://download.geofabrik.de/asia/indonesia/nusa-tenggara-latest-free.shp.zip',\n",
       " 'pakistan': 'https://download.geofabrik.de/asia/pakistan-latest-free.shp.zip',\n",
       " 'papua': 'https://download.geofabrik.de/asia/indonesia/papua-latest-free.shp.zip',\n",
       " 'philippines': 'https://download.geofabrik.de/asia/philippines-latest-free.shp.zip',\n",
       " 'shikoku': 'https://download.geofabrik.de/asia/japan/shikoku-latest-free.shp.zip',\n",
       " 'south-korea': 'https://download.geofabrik.de/asia/south-korea-latest-free.shp.zip',\n",
       " 'southern-zone': 'https://download.geofabrik.de/asia/india/southern-zone-latest-free.shp.zip',\n",
       " 'sri-lanka': 'https://download.geofabrik.de/asia/sri-lanka-latest-free.shp.zip',\n",
       " 'sulawesi': 'https://download.geofabrik.de/asia/indonesia/sulawesi-latest-free.shp.zip',\n",
       " 'sumatra': 'https://download.geofabrik.de/asia/indonesia/sumatra-latest-free.shp.zip',\n",
       " 'syria': 'https://download.geofabrik.de/asia/syria-latest-free.shp.zip',\n",
       " 'taiwan': 'https://download.geofabrik.de/asia/taiwan-latest-free.shp.zip',\n",
       " 'tajikistan': 'https://download.geofabrik.de/asia/tajikistan-latest-free.shp.zip',\n",
       " 'thailand': 'https://download.geofabrik.de/asia/thailand-latest-free.shp.zip',\n",
       " 'tohoku': 'https://download.geofabrik.de/asia/japan/tohoku-latest-free.shp.zip',\n",
       " 'turkmenistan': 'https://download.geofabrik.de/asia/turkmenistan-latest-free.shp.zip',\n",
       " 'uzbekistan': 'https://download.geofabrik.de/asia/uzbekistan-latest-free.shp.zip',\n",
       " 'vietnam': 'https://download.geofabrik.de/asia/vietnam-latest-free.shp.zip',\n",
       " 'western-zone': 'https://download.geofabrik.de/asia/india/western-zone-latest-free.shp.zip',\n",
       " 'yemen': 'https://download.geofabrik.de/asia/yemen-latest-free.shp.zip'}"
      ]
     },
     "execution_count": 9,
     "metadata": {},
     "output_type": "execute_result"
    }
   ],
   "source": [
    "regions = geofabrik.list_geofabrik_regions()\n",
    "# list down regions in asia\n",
    "{k: v for k, v in regions.items() if \"asia\" in v}"
   ]
  },
  {
   "cell_type": "markdown",
   "id": "97dda8b8-2c21-4767-8241-c70d3502fae7",
   "metadata": {},
   "source": [
    "### Downloading a region file to a diretory\n"
   ]
  },
  {
   "cell_type": "code",
   "execution_count": 11,
   "id": "7505d085-363d-4f4b-acdc-4241011a6f36",
   "metadata": {},
   "outputs": [
    {
     "data": {
      "text/plain": [
       "PosixPath('../test_dir/laos-latest-free.shp.zip')"
      ]
     },
     "execution_count": 11,
     "metadata": {},
     "output_type": "execute_result"
    }
   ],
   "source": [
    "!mkdir -p ../test_dir\n",
    "downloaded_file = geofabrik.download_geofabrik_region(\"laos\", \"../test_dir\")\n",
    "downloaded_file"
   ]
  },
  {
   "cell_type": "markdown",
   "id": "98c6a10a-24c6-4762-925a-1a276f072bdb",
   "metadata": {},
   "source": [
    "### Loading downloaded files"
   ]
  },
  {
   "cell_type": "code",
   "execution_count": 12,
   "id": "27c87df0-faf4-47ed-8a15-656cfcd9d0c2",
   "metadata": {},
   "outputs": [
    {
     "data": {
      "text/html": [
       "<div>\n",
       "<style scoped>\n",
       "    .dataframe tbody tr th:only-of-type {\n",
       "        vertical-align: middle;\n",
       "    }\n",
       "\n",
       "    .dataframe tbody tr th {\n",
       "        vertical-align: top;\n",
       "    }\n",
       "\n",
       "    .dataframe thead th {\n",
       "        text-align: right;\n",
       "    }\n",
       "</style>\n",
       "<table border=\"1\" class=\"dataframe\">\n",
       "  <thead>\n",
       "    <tr style=\"text-align: right;\">\n",
       "      <th></th>\n",
       "      <th>osm_id</th>\n",
       "      <th>code</th>\n",
       "      <th>fclass</th>\n",
       "      <th>name</th>\n",
       "      <th>type</th>\n",
       "      <th>geometry</th>\n",
       "    </tr>\n",
       "  </thead>\n",
       "  <tbody>\n",
       "    <tr>\n",
       "      <th>0</th>\n",
       "      <td>36192811</td>\n",
       "      <td>1500</td>\n",
       "      <td>building</td>\n",
       "      <td>Don Chan Palace</td>\n",
       "      <td>None</td>\n",
       "      <td>POLYGON ((102.61392 17.95514, 102.61419 17.955...</td>\n",
       "    </tr>\n",
       "    <tr>\n",
       "      <th>1</th>\n",
       "      <td>36195671</td>\n",
       "      <td>1500</td>\n",
       "      <td>building</td>\n",
       "      <td>ຕະຫລາດເຊົ້າ. 早市塲</td>\n",
       "      <td>None</td>\n",
       "      <td>POLYGON ((102.61382 17.96520, 102.61393 17.965...</td>\n",
       "    </tr>\n",
       "    <tr>\n",
       "      <th>2</th>\n",
       "      <td>36195973</td>\n",
       "      <td>1500</td>\n",
       "      <td>building</td>\n",
       "      <td>Mercure Hotel Laotel</td>\n",
       "      <td>None</td>\n",
       "      <td>POLYGON ((102.59386 17.96890, 102.59432 17.968...</td>\n",
       "    </tr>\n",
       "    <tr>\n",
       "      <th>3</th>\n",
       "      <td>36784437</td>\n",
       "      <td>1500</td>\n",
       "      <td>building</td>\n",
       "      <td>None</td>\n",
       "      <td>None</td>\n",
       "      <td>POLYGON ((105.79786 15.11905, 105.79838 15.119...</td>\n",
       "    </tr>\n",
       "    <tr>\n",
       "      <th>4</th>\n",
       "      <td>37886432</td>\n",
       "      <td>1500</td>\n",
       "      <td>building</td>\n",
       "      <td>Presidential Palace</td>\n",
       "      <td>None</td>\n",
       "      <td>POLYGON ((102.60940 17.96246, 102.60951 17.962...</td>\n",
       "    </tr>\n",
       "  </tbody>\n",
       "</table>\n",
       "</div>"
      ],
      "text/plain": [
       "     osm_id  code    fclass                  name  type  \\\n",
       "0  36192811  1500  building       Don Chan Palace  None   \n",
       "1  36195671  1500  building      ຕະຫລາດເຊົ້າ. 早市塲  None   \n",
       "2  36195973  1500  building  Mercure Hotel Laotel  None   \n",
       "3  36784437  1500  building                  None  None   \n",
       "4  37886432  1500  building   Presidential Palace  None   \n",
       "\n",
       "                                            geometry  \n",
       "0  POLYGON ((102.61392 17.95514, 102.61419 17.955...  \n",
       "1  POLYGON ((102.61382 17.96520, 102.61393 17.965...  \n",
       "2  POLYGON ((102.59386 17.96890, 102.59432 17.968...  \n",
       "3  POLYGON ((105.79786 15.11905, 105.79838 15.119...  \n",
       "4  POLYGON ((102.60940 17.96246, 102.60951 17.962...  "
      ]
     },
     "execution_count": 12,
     "metadata": {},
     "output_type": "execute_result"
    }
   ],
   "source": [
    "gdf = gpd.read_file(downloaded_file)\n",
    "gdf.head()"
   ]
  }
 ],
 "metadata": {
  "kernelspec": {
   "display_name": "Python 3",
   "language": "python",
   "name": "python3"
  },
  "language_info": {
   "codemirror_mode": {
    "name": "ipython",
    "version": 3
   },
   "file_extension": ".py",
   "mimetype": "text/x-python",
   "name": "python",
   "nbconvert_exporter": "python",
   "pygments_lexer": "ipython3",
   "version": "3.7.12"
  },
  "vscode": {
   "interpreter": {
    "hash": "4a07a05096b6351e45107f092fcbc6d58e4d1183d490a1128ce24e8ca5af3ddc"
   }
  }
 },
 "nbformat": 4,
 "nbformat_minor": 5
}
