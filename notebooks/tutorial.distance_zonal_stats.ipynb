{
 "cells": [
  {
   "cell_type": "code",
   "execution_count": 1,
   "id": "94ace430-5262-4857-a172-a45e3592486a",
   "metadata": {},
   "outputs": [],
   "source": [
    "# hide\n",
    "# all_slow"
   ]
  },
  {
   "cell_type": "code",
   "execution_count": 2,
   "id": "967985e0-2191-4242-8e72-bce350848649",
   "metadata": {},
   "outputs": [],
   "source": [
    "# hide\n",
    "# no_test\n",
    "! [ -e /content ] && pip install -Uqq geowrangler"
   ]
  },
  {
   "cell_type": "code",
   "execution_count": 3,
   "id": "2075c820-ee0a-458a-a393-fc33520696de",
   "metadata": {},
   "outputs": [],
   "source": [
    "# hide\n",
    "# no_test\n",
    "!mkdir -p ../data\n",
    "![ -e /content ] && ln -s ../data ."
   ]
  },
  {
   "cell_type": "code",
   "execution_count": 4,
   "id": "464054e1-2f16-4a2a-a28a-e4ee100c9ed8",
   "metadata": {},
   "outputs": [],
   "source": [
    "# hide\n",
    "# no_test\n",
    "%reload_ext autoreload\n",
    "%autoreload 2\n",
    "%matplotlib inline"
   ]
  },
  {
   "cell_type": "markdown",
   "id": "7a96a8b8-919d-40b8-9bb5-dc6ba68e8043",
   "metadata": {
    "tags": []
   },
   "source": [
    "# Vector Distance Zonal Stats Tutorial"
   ]
  },
  {
   "cell_type": "markdown",
   "id": "4ed7ee05-1034-4cae-bc1a-d495a56483fa",
   "metadata": {},
   "source": [
    "> A basic introduction to Vector Distance Zonal Stats "
   ]
  },
  {
   "cell_type": "markdown",
   "id": "10b3ecdf-c899-40f4-a1b0-6452487b6015",
   "metadata": {
    "tags": []
   },
   "source": [
    "## Basic Usage\n",
    "\n",
    "Generate area zonal stats for a GeoDataframe containing areas of interest with a vector data source with the nearest distance.\n",
    "\n",
    "> Note: the data geometries can be points, lines or areas with distance computed from the closest points on both the aoi and the data source. Both the aoi and the data source must be projected using a \"planar\" CRS.\n"
   ]
  },
  {
   "cell_type": "code",
   "execution_count": 5,
   "id": "734e7ecf-bd00-4e0c-9b74-427043b0a9aa",
   "metadata": {},
   "outputs": [],
   "source": [
    "# hide\n",
    "import warnings\n",
    "\n",
    "warnings.filterwarnings(action=\"ignore\", category=UserWarning, module=\"geopandas\")"
   ]
  },
  {
   "cell_type": "code",
   "execution_count": 6,
   "id": "faa12fbe-b003-46b7-9140-e9ef7c2cfd3c",
   "metadata": {},
   "outputs": [],
   "source": [
    "import geopandas as gpd\n",
    "import matplotlib.pyplot as plt\n",
    "from shapely.geometry import Point\n",
    "\n",
    "import geowrangler.distance_zonal_stats as dzs"
   ]
  },
  {
   "cell_type": "code",
   "execution_count": 7,
   "id": "ff49b14b-dc83-408a-81cf-944211eb9b5b",
   "metadata": {},
   "outputs": [],
   "source": [
    "# hide\n",
    "# no_test\n",
    "!mkdir -p ../data\n",
    "# download sample geojson files from repo\n",
    "![ ! -e ../data/simple_planar_aoi.geojson ] && curl -s -o ../data/simple_planar_aoi.geojson https://raw.githubusercontent.com/thinkingmachines/geowrangler/master/data/simple_planar_aoi.geojson\n",
    "![ ! -e ../data/simple_planar_data.geojson ] && curl -s -o ../data/simple_planar_data.geojson https://raw.githubusercontent.com/thinkingmachines/geowrangler/master/data/simple_planar_data.geojson\n",
    "![ ! -e ../data/region3_admin_grids.geojson ] && curl -s -o ../data/region3_admin_grids.geojson https://raw.githubusercontent.com/thinkingmachines/geowrangler/master/data/region3_admin_grids.geojson\n",
    "![ ! -e ../data/region34ncr_osm_pois.geojson ] && curl -s -o ../data/region34ncr_osm_pois.geojson https://raw.githubusercontent.com/thinkingmachines/geowrangler/master/data/region34ncr_osm_pois.geojson"
   ]
  },
  {
   "cell_type": "markdown",
   "id": "f40375b5-05f1-4bf7-82f9-ea9e949ee8eb",
   "metadata": {},
   "source": [
    "### Simple Grid AOIs and Nearby POI/Area Data Example"
   ]
  },
  {
   "cell_type": "code",
   "execution_count": 8,
   "id": "f92381eb-da51-41e1-b6b0-4fe7480601d4",
   "metadata": {},
   "outputs": [],
   "source": [
    "# hide\n",
    "def make_point_df(\n",
    "    xsize,\n",
    "    ysize,\n",
    "    has_internet=True,\n",
    "    has_population=True,\n",
    "    size=1,\n",
    "    offset_x=0.25,\n",
    "    offset_y=0.0,\n",
    "    pop_x_factor=100,\n",
    "    pop_y_factor=0,\n",
    "    internet_base_speed=20.0,\n",
    "    internet_x_exp=2.0,\n",
    "    internet_y_factor=100,\n",
    "    crs=\"EPSG:3857\",\n",
    "):\n",
    "    d = dict(\n",
    "        geometry=[\n",
    "            Point(x + offset_x, y + offset_y)\n",
    "            for x in range(xsize)\n",
    "            for y in range(ysize)\n",
    "        ]\n",
    "    )\n",
    "    if has_population:\n",
    "        d[\"population\"] = [\n",
    "            pop_x_factor * (x + 1) + y * (pop_x_factor * ysize + pop_y_factor)\n",
    "            for x in range(xsize)\n",
    "            for y in range(ysize)\n",
    "        ]\n",
    "    if has_internet:\n",
    "        d[\"internet_speed\"] = [\n",
    "            internet_base_speed / (internet_x_exp**x) + internet_y_factor * y\n",
    "            for x in range(xsize)\n",
    "            for y in range(ysize)\n",
    "        ]\n",
    "    return gpd.GeoDataFrame(d, crs=crs)"
   ]
  },
  {
   "cell_type": "code",
   "execution_count": 9,
   "id": "b8a9584f-38b4-411b-8484-cf44aa1b908b",
   "metadata": {},
   "outputs": [],
   "source": [
    "simple_aoi = gpd.read_file(\"../data/simple_planar_aoi.geojson\")\n",
    "simple_data = gpd.read_file(\"../data/simple_planar_data.geojson\")"
   ]
  },
  {
   "cell_type": "code",
   "execution_count": 10,
   "id": "f69269ae-ce43-4871-b6f5-cd56d9385bc3",
   "metadata": {},
   "outputs": [],
   "source": [
    "simple_point_data = make_point_df(3, 5, offset_x=0.5, offset_y=3.0)"
   ]
  },
  {
   "cell_type": "markdown",
   "id": "4f9221aa-e87c-4e1c-8152-180e5f590c25",
   "metadata": {},
   "source": [
    "Given an aoi (`simple_aoi`), a sample area data source (`simple_data`), and a sample point data source"
   ]
  },
  {
   "cell_type": "code",
   "execution_count": 11,
   "id": "46bf2560-a49d-4ffa-a495-537482d3acaf",
   "metadata": {},
   "outputs": [
    {
     "data": {
      "text/html": [
       "<div>\n",
       "<style scoped>\n",
       "    .dataframe tbody tr th:only-of-type {\n",
       "        vertical-align: middle;\n",
       "    }\n",
       "\n",
       "    .dataframe tbody tr th {\n",
       "        vertical-align: top;\n",
       "    }\n",
       "\n",
       "    .dataframe thead th {\n",
       "        text-align: right;\n",
       "    }\n",
       "</style>\n",
       "<table border=\"1\" class=\"dataframe\">\n",
       "  <thead>\n",
       "    <tr style=\"text-align: right;\">\n",
       "      <th></th>\n",
       "      <th>geometry</th>\n",
       "    </tr>\n",
       "  </thead>\n",
       "  <tbody>\n",
       "    <tr>\n",
       "      <th>0</th>\n",
       "      <td>POLYGON ((0.000 0.000, 0.000 1.000, 1.000 1.00...</td>\n",
       "    </tr>\n",
       "    <tr>\n",
       "      <th>1</th>\n",
       "      <td>POLYGON ((1.000 0.000, 1.000 1.000, 2.000 1.00...</td>\n",
       "    </tr>\n",
       "    <tr>\n",
       "      <th>2</th>\n",
       "      <td>POLYGON ((2.000 0.000, 2.000 1.000, 3.000 1.00...</td>\n",
       "    </tr>\n",
       "  </tbody>\n",
       "</table>\n",
       "</div>"
      ],
      "text/plain": [
       "                                            geometry\n",
       "0  POLYGON ((0.000 0.000, 0.000 1.000, 1.000 1.00...\n",
       "1  POLYGON ((1.000 0.000, 1.000 1.000, 2.000 1.00...\n",
       "2  POLYGON ((2.000 0.000, 2.000 1.000, 3.000 1.00..."
      ]
     },
     "execution_count": 11,
     "metadata": {},
     "output_type": "execute_result"
    }
   ],
   "source": [
    "simple_aoi"
   ]
  },
  {
   "cell_type": "code",
   "execution_count": 12,
   "id": "8280befa-a5ad-457d-b660-130cda2bb3f0",
   "metadata": {},
   "outputs": [
    {
     "data": {
      "text/html": [
       "<div>\n",
       "<style scoped>\n",
       "    .dataframe tbody tr th:only-of-type {\n",
       "        vertical-align: middle;\n",
       "    }\n",
       "\n",
       "    .dataframe tbody tr th {\n",
       "        vertical-align: top;\n",
       "    }\n",
       "\n",
       "    .dataframe thead th {\n",
       "        text-align: right;\n",
       "    }\n",
       "</style>\n",
       "<table border=\"1\" class=\"dataframe\">\n",
       "  <thead>\n",
       "    <tr style=\"text-align: right;\">\n",
       "      <th></th>\n",
       "      <th>population</th>\n",
       "      <th>internet_speed</th>\n",
       "      <th>geometry</th>\n",
       "    </tr>\n",
       "  </thead>\n",
       "  <tbody>\n",
       "    <tr>\n",
       "      <th>0</th>\n",
       "      <td>100</td>\n",
       "      <td>20.0</td>\n",
       "      <td>POLYGON ((0.250 0.000, 0.250 1.000, 1.250 1.00...</td>\n",
       "    </tr>\n",
       "    <tr>\n",
       "      <th>1</th>\n",
       "      <td>200</td>\n",
       "      <td>10.0</td>\n",
       "      <td>POLYGON ((1.250 0.000, 1.250 1.000, 2.250 1.00...</td>\n",
       "    </tr>\n",
       "    <tr>\n",
       "      <th>2</th>\n",
       "      <td>300</td>\n",
       "      <td>5.0</td>\n",
       "      <td>POLYGON ((2.250 0.000, 2.250 1.000, 3.250 1.00...</td>\n",
       "    </tr>\n",
       "  </tbody>\n",
       "</table>\n",
       "</div>"
      ],
      "text/plain": [
       "   population  internet_speed  \\\n",
       "0         100            20.0   \n",
       "1         200            10.0   \n",
       "2         300             5.0   \n",
       "\n",
       "                                            geometry  \n",
       "0  POLYGON ((0.250 0.000, 0.250 1.000, 1.250 1.00...  \n",
       "1  POLYGON ((1.250 0.000, 1.250 1.000, 2.250 1.00...  \n",
       "2  POLYGON ((2.250 0.000, 2.250 1.000, 3.250 1.00...  "
      ]
     },
     "execution_count": 12,
     "metadata": {},
     "output_type": "execute_result"
    }
   ],
   "source": [
    "simple_data"
   ]
  },
  {
   "cell_type": "code",
   "execution_count": 13,
   "id": "e1e355cf-f4cb-4464-99f6-f6ecda87a41f",
   "metadata": {},
   "outputs": [
    {
     "data": {
      "text/html": [
       "<div>\n",
       "<style scoped>\n",
       "    .dataframe tbody tr th:only-of-type {\n",
       "        vertical-align: middle;\n",
       "    }\n",
       "\n",
       "    .dataframe tbody tr th {\n",
       "        vertical-align: top;\n",
       "    }\n",
       "\n",
       "    .dataframe thead th {\n",
       "        text-align: right;\n",
       "    }\n",
       "</style>\n",
       "<table border=\"1\" class=\"dataframe\">\n",
       "  <thead>\n",
       "    <tr style=\"text-align: right;\">\n",
       "      <th></th>\n",
       "      <th>geometry</th>\n",
       "      <th>population</th>\n",
       "      <th>internet_speed</th>\n",
       "    </tr>\n",
       "  </thead>\n",
       "  <tbody>\n",
       "    <tr>\n",
       "      <th>0</th>\n",
       "      <td>POINT (0.500 3.000)</td>\n",
       "      <td>100</td>\n",
       "      <td>20.0</td>\n",
       "    </tr>\n",
       "    <tr>\n",
       "      <th>1</th>\n",
       "      <td>POINT (0.500 4.000)</td>\n",
       "      <td>600</td>\n",
       "      <td>120.0</td>\n",
       "    </tr>\n",
       "    <tr>\n",
       "      <th>2</th>\n",
       "      <td>POINT (0.500 5.000)</td>\n",
       "      <td>1100</td>\n",
       "      <td>220.0</td>\n",
       "    </tr>\n",
       "    <tr>\n",
       "      <th>3</th>\n",
       "      <td>POINT (0.500 6.000)</td>\n",
       "      <td>1600</td>\n",
       "      <td>320.0</td>\n",
       "    </tr>\n",
       "    <tr>\n",
       "      <th>4</th>\n",
       "      <td>POINT (0.500 7.000)</td>\n",
       "      <td>2100</td>\n",
       "      <td>420.0</td>\n",
       "    </tr>\n",
       "    <tr>\n",
       "      <th>5</th>\n",
       "      <td>POINT (1.500 3.000)</td>\n",
       "      <td>200</td>\n",
       "      <td>10.0</td>\n",
       "    </tr>\n",
       "    <tr>\n",
       "      <th>6</th>\n",
       "      <td>POINT (1.500 4.000)</td>\n",
       "      <td>700</td>\n",
       "      <td>110.0</td>\n",
       "    </tr>\n",
       "    <tr>\n",
       "      <th>7</th>\n",
       "      <td>POINT (1.500 5.000)</td>\n",
       "      <td>1200</td>\n",
       "      <td>210.0</td>\n",
       "    </tr>\n",
       "    <tr>\n",
       "      <th>8</th>\n",
       "      <td>POINT (1.500 6.000)</td>\n",
       "      <td>1700</td>\n",
       "      <td>310.0</td>\n",
       "    </tr>\n",
       "    <tr>\n",
       "      <th>9</th>\n",
       "      <td>POINT (1.500 7.000)</td>\n",
       "      <td>2200</td>\n",
       "      <td>410.0</td>\n",
       "    </tr>\n",
       "    <tr>\n",
       "      <th>10</th>\n",
       "      <td>POINT (2.500 3.000)</td>\n",
       "      <td>300</td>\n",
       "      <td>5.0</td>\n",
       "    </tr>\n",
       "    <tr>\n",
       "      <th>11</th>\n",
       "      <td>POINT (2.500 4.000)</td>\n",
       "      <td>800</td>\n",
       "      <td>105.0</td>\n",
       "    </tr>\n",
       "    <tr>\n",
       "      <th>12</th>\n",
       "      <td>POINT (2.500 5.000)</td>\n",
       "      <td>1300</td>\n",
       "      <td>205.0</td>\n",
       "    </tr>\n",
       "    <tr>\n",
       "      <th>13</th>\n",
       "      <td>POINT (2.500 6.000)</td>\n",
       "      <td>1800</td>\n",
       "      <td>305.0</td>\n",
       "    </tr>\n",
       "    <tr>\n",
       "      <th>14</th>\n",
       "      <td>POINT (2.500 7.000)</td>\n",
       "      <td>2300</td>\n",
       "      <td>405.0</td>\n",
       "    </tr>\n",
       "  </tbody>\n",
       "</table>\n",
       "</div>"
      ],
      "text/plain": [
       "               geometry  population  internet_speed\n",
       "0   POINT (0.500 3.000)         100            20.0\n",
       "1   POINT (0.500 4.000)         600           120.0\n",
       "2   POINT (0.500 5.000)        1100           220.0\n",
       "3   POINT (0.500 6.000)        1600           320.0\n",
       "4   POINT (0.500 7.000)        2100           420.0\n",
       "5   POINT (1.500 3.000)         200            10.0\n",
       "6   POINT (1.500 4.000)         700           110.0\n",
       "7   POINT (1.500 5.000)        1200           210.0\n",
       "8   POINT (1.500 6.000)        1700           310.0\n",
       "9   POINT (1.500 7.000)        2200           410.0\n",
       "10  POINT (2.500 3.000)         300             5.0\n",
       "11  POINT (2.500 4.000)         800           105.0\n",
       "12  POINT (2.500 5.000)        1300           205.0\n",
       "13  POINT (2.500 6.000)        1800           305.0\n",
       "14  POINT (2.500 7.000)        2300           405.0"
      ]
     },
     "execution_count": 13,
     "metadata": {},
     "output_type": "execute_result"
    }
   ],
   "source": [
    "simple_point_data"
   ]
  },
  {
   "cell_type": "markdown",
   "id": "b91e2fb3-7883-473c-acf7-4489266147dc",
   "metadata": {},
   "source": [
    "In order correctly compute distances from the aoi to the data sources, we need to make sure that the aoi, data and point data geodataframes are using a `planar` CRS (i.e. `gdf.crs.is_geographic == False`)"
   ]
  },
  {
   "cell_type": "code",
   "execution_count": 14,
   "id": "f73a3e17-46c6-432c-8fe3-779844d2d0be",
   "metadata": {},
   "outputs": [
    {
     "data": {
      "text/plain": [
       "<Projected CRS: EPSG:3857>\n",
       "Name: WGS 84 / Pseudo-Mercator\n",
       "Axis Info [cartesian]:\n",
       "- X[east]: Easting (metre)\n",
       "- Y[north]: Northing (metre)\n",
       "Area of Use:\n",
       "- name: World between 85.06°S and 85.06°N.\n",
       "- bounds: (-180.0, -85.06, 180.0, 85.06)\n",
       "Coordinate Operation:\n",
       "- name: Popular Visualisation Pseudo-Mercator\n",
       "- method: Popular Visualisation Pseudo Mercator\n",
       "Datum: World Geodetic System 1984 ensemble\n",
       "- Ellipsoid: WGS 84\n",
       "- Prime Meridian: Greenwich"
      ]
     },
     "execution_count": 14,
     "metadata": {},
     "output_type": "execute_result"
    }
   ],
   "source": [
    "simple_aoi.crs"
   ]
  },
  {
   "cell_type": "code",
   "execution_count": 15,
   "id": "1ef94067-083f-45b2-b332-5d04a3eeac8f",
   "metadata": {},
   "outputs": [
    {
     "data": {
      "text/plain": [
       "<Projected CRS: EPSG:3857>\n",
       "Name: WGS 84 / Pseudo-Mercator\n",
       "Axis Info [cartesian]:\n",
       "- X[east]: Easting (metre)\n",
       "- Y[north]: Northing (metre)\n",
       "Area of Use:\n",
       "- name: World between 85.06°S and 85.06°N.\n",
       "- bounds: (-180.0, -85.06, 180.0, 85.06)\n",
       "Coordinate Operation:\n",
       "- name: Popular Visualisation Pseudo-Mercator\n",
       "- method: Popular Visualisation Pseudo Mercator\n",
       "Datum: World Geodetic System 1984 ensemble\n",
       "- Ellipsoid: WGS 84\n",
       "- Prime Meridian: Greenwich"
      ]
     },
     "execution_count": 15,
     "metadata": {},
     "output_type": "execute_result"
    }
   ],
   "source": [
    "simple_data.crs"
   ]
  },
  {
   "cell_type": "code",
   "execution_count": 16,
   "id": "25cccfad-9f76-4f70-9f34-6b8a59846c72",
   "metadata": {},
   "outputs": [
    {
     "data": {
      "text/plain": [
       "<Projected CRS: EPSG:3857>\n",
       "Name: WGS 84 / Pseudo-Mercator\n",
       "Axis Info [cartesian]:\n",
       "- X[east]: Easting (metre)\n",
       "- Y[north]: Northing (metre)\n",
       "Area of Use:\n",
       "- name: World between 85.06°S and 85.06°N.\n",
       "- bounds: (-180.0, -85.06, 180.0, 85.06)\n",
       "Coordinate Operation:\n",
       "- name: Popular Visualisation Pseudo-Mercator\n",
       "- method: Popular Visualisation Pseudo Mercator\n",
       "Datum: World Geodetic System 1984 ensemble\n",
       "- Ellipsoid: WGS 84\n",
       "- Prime Meridian: Greenwich"
      ]
     },
     "execution_count": 16,
     "metadata": {},
     "output_type": "execute_result"
    }
   ],
   "source": [
    "simple_point_data.crs"
   ]
  },
  {
   "cell_type": "markdown",
   "id": "5af042d9-73aa-4de6-8033-3407d992ad64",
   "metadata": {},
   "source": [
    "We have an aoi (`simple_aoi`) and geodataframe containing sample data (`simple_data`) that overlaps the aoi.\n",
    "We also have simple point data which do not intersect with our AOIs."
   ]
  },
  {
   "cell_type": "code",
   "execution_count": 17,
   "id": "f784528a-e90f-4544-9b8b-6d6720019b5e",
   "metadata": {},
   "outputs": [
    {
     "data": {
      "image/png": "[encoded data removed]",
      "text/plain": [
       "<Figure size 432x288 with 1 Axes>"
      ]
     },
     "metadata": {
      "needs_background": "light"
     },
     "output_type": "display_data"
    }
   ],
   "source": [
    "ax = plt.axes()\n",
    "ax = simple_data.plot(\n",
    "    ax=ax, color=[\"orange\", \"brown\", \"purple\"], edgecolor=\"yellow\", alpha=0.4\n",
    ")\n",
    "ax = simple_aoi.plot(ax=ax, facecolor=\"none\", edgecolor=[\"r\", \"g\", \"b\"])\n",
    "ax = simple_point_data.plot(ax=ax)"
   ]
  },
  {
   "cell_type": "markdown",
   "id": "8c52661a-e8ff-4dca-811d-ef3b0a68f3a1",
   "metadata": {
    "tags": []
   },
   "source": [
    "The red,green,blue outlines are the 3 regions of interest (aoi) while the orange,brown, purple areas are the data areas.The blue dots are data which do not intersect our AOIs. "
   ]
  },
  {
   "cell_type": "code",
   "execution_count": 18,
   "id": "b00ea090-f2a6-4da4-9317-34b5112a4f01",
   "metadata": {
    "tags": []
   },
   "outputs": [
    {
     "name": "stdout",
     "output_type": "stream",
     "text": [
      "CPU times: user 50.6 ms, sys: 0 ns, total: 50.6 ms\n",
      "Wall time: 47.8 ms\n"
     ]
    }
   ],
   "source": [
    "%%time\n",
    "results = dzs.create_distance_zonal_stats(\n",
    "    simple_aoi,\n",
    "    simple_point_data,\n",
    "    max_distance=7,\n",
    "    aggregations=[\n",
    "        dict(func=\"count\"),\n",
    "        dict(func=\"sum\", column=\"population\"),\n",
    "        dict(func=\"mean\", column=\"internet_speed\"),\n",
    "    ],\n",
    ")"
   ]
  },
  {
   "cell_type": "markdown",
   "id": "f060274e-49fc-4e74-93d3-49243857d399",
   "metadata": {
    "tags": []
   },
   "source": [
    "The zonal stats computed for the point data only includes those points nearest to each aoi. The data geometries within nearest distance (within `7.0` m) are the only ones considered.\n",
    "\n",
    "> Note: Setting the `max_distance` to `None` or a large value can cause a possible slowdown for large datasets. See this [Geopandas reference](https://geopandas.org/en/latest/docs/user_guide/mergingdata.html#nearest-joins) for more details."
   ]
  },
  {
   "cell_type": "code",
   "execution_count": 19,
   "id": "9045bac2-8114-4bde-a0a3-9a15e7f2cec8",
   "metadata": {},
   "outputs": [
    {
     "data": {
      "text/html": [
       "<div>\n",
       "<style scoped>\n",
       "    .dataframe tbody tr th:only-of-type {\n",
       "        vertical-align: middle;\n",
       "    }\n",
       "\n",
       "    .dataframe tbody tr th {\n",
       "        vertical-align: top;\n",
       "    }\n",
       "\n",
       "    .dataframe thead th {\n",
       "        text-align: right;\n",
       "    }\n",
       "</style>\n",
       "<table border=\"1\" class=\"dataframe\">\n",
       "  <thead>\n",
       "    <tr style=\"text-align: right;\">\n",
       "      <th></th>\n",
       "      <th>geometry</th>\n",
       "      <th>index_count</th>\n",
       "      <th>population_sum</th>\n",
       "      <th>internet_speed_mean</th>\n",
       "      <th>nearest</th>\n",
       "    </tr>\n",
       "  </thead>\n",
       "  <tbody>\n",
       "    <tr>\n",
       "      <th>0</th>\n",
       "      <td>POLYGON ((0.000 0.000, 0.000 1.000, 1.000 1.00...</td>\n",
       "      <td>1</td>\n",
       "      <td>100</td>\n",
       "      <td>20.0</td>\n",
       "      <td>2.0</td>\n",
       "    </tr>\n",
       "    <tr>\n",
       "      <th>1</th>\n",
       "      <td>POLYGON ((1.000 0.000, 1.000 1.000, 2.000 1.00...</td>\n",
       "      <td>1</td>\n",
       "      <td>200</td>\n",
       "      <td>10.0</td>\n",
       "      <td>2.0</td>\n",
       "    </tr>\n",
       "    <tr>\n",
       "      <th>2</th>\n",
       "      <td>POLYGON ((2.000 0.000, 2.000 1.000, 3.000 1.00...</td>\n",
       "      <td>1</td>\n",
       "      <td>300</td>\n",
       "      <td>5.0</td>\n",
       "      <td>2.0</td>\n",
       "    </tr>\n",
       "  </tbody>\n",
       "</table>\n",
       "</div>"
      ],
      "text/plain": [
       "                                            geometry  index_count  \\\n",
       "0  POLYGON ((0.000 0.000, 0.000 1.000, 1.000 1.00...            1   \n",
       "1  POLYGON ((1.000 0.000, 1.000 1.000, 2.000 1.00...            1   \n",
       "2  POLYGON ((2.000 0.000, 2.000 1.000, 3.000 1.00...            1   \n",
       "\n",
       "   population_sum  internet_speed_mean  nearest  \n",
       "0             100                 20.0      2.0  \n",
       "1             200                 10.0      2.0  \n",
       "2             300                  5.0      2.0  "
      ]
     },
     "execution_count": 19,
     "metadata": {},
     "output_type": "execute_result"
    }
   ],
   "source": [
    "results"
   ]
  },
  {
   "cell_type": "markdown",
   "id": "54e0b2bc-3c76-417e-9978-46c80fa3ddca",
   "metadata": {},
   "source": [
    "Data areas and geometries which overlap the aoi areas have a distance of `0.0`  and are always the nearest geometries."
   ]
  },
  {
   "cell_type": "code",
   "execution_count": 20,
   "id": "c777b2eb-f2ce-4496-9de9-6dcc7a21ae10",
   "metadata": {
    "tags": []
   },
   "outputs": [
    {
     "name": "stdout",
     "output_type": "stream",
     "text": [
      "CPU times: user 33.2 ms, sys: 1.29 ms, total: 34.5 ms\n",
      "Wall time: 29.5 ms\n"
     ]
    }
   ],
   "source": [
    "%%time\n",
    "results2 = dzs.create_distance_zonal_stats(\n",
    "    simple_aoi,\n",
    "    simple_data,\n",
    "    max_distance=1,\n",
    "    aggregations=[\n",
    "        dict(func=\"count\"),\n",
    "        dict(func=\"sum\", column=\"population\"),\n",
    "        dict(func=\"mean\", column=\"internet_speed\"),\n",
    "    ],\n",
    ")"
   ]
  },
  {
   "cell_type": "code",
   "execution_count": 21,
   "id": "e6d18a51-a7da-4359-a88c-3cb38cf18599",
   "metadata": {},
   "outputs": [
    {
     "data": {
      "text/html": [
       "<div>\n",
       "<style scoped>\n",
       "    .dataframe tbody tr th:only-of-type {\n",
       "        vertical-align: middle;\n",
       "    }\n",
       "\n",
       "    .dataframe tbody tr th {\n",
       "        vertical-align: top;\n",
       "    }\n",
       "\n",
       "    .dataframe thead th {\n",
       "        text-align: right;\n",
       "    }\n",
       "</style>\n",
       "<table border=\"1\" class=\"dataframe\">\n",
       "  <thead>\n",
       "    <tr style=\"text-align: right;\">\n",
       "      <th></th>\n",
       "      <th>geometry</th>\n",
       "      <th>index_count</th>\n",
       "      <th>population_sum</th>\n",
       "      <th>internet_speed_mean</th>\n",
       "      <th>nearest</th>\n",
       "    </tr>\n",
       "  </thead>\n",
       "  <tbody>\n",
       "    <tr>\n",
       "      <th>0</th>\n",
       "      <td>POLYGON ((0.000 0.000, 0.000 1.000, 1.000 1.00...</td>\n",
       "      <td>1</td>\n",
       "      <td>100</td>\n",
       "      <td>20.0</td>\n",
       "      <td>0.0</td>\n",
       "    </tr>\n",
       "    <tr>\n",
       "      <th>1</th>\n",
       "      <td>POLYGON ((1.000 0.000, 1.000 1.000, 2.000 1.00...</td>\n",
       "      <td>2</td>\n",
       "      <td>300</td>\n",
       "      <td>15.0</td>\n",
       "      <td>0.0</td>\n",
       "    </tr>\n",
       "    <tr>\n",
       "      <th>2</th>\n",
       "      <td>POLYGON ((2.000 0.000, 2.000 1.000, 3.000 1.00...</td>\n",
       "      <td>2</td>\n",
       "      <td>500</td>\n",
       "      <td>7.5</td>\n",
       "      <td>0.0</td>\n",
       "    </tr>\n",
       "  </tbody>\n",
       "</table>\n",
       "</div>"
      ],
      "text/plain": [
       "                                            geometry  index_count  \\\n",
       "0  POLYGON ((0.000 0.000, 0.000 1.000, 1.000 1.00...            1   \n",
       "1  POLYGON ((1.000 0.000, 1.000 1.000, 2.000 1.00...            2   \n",
       "2  POLYGON ((2.000 0.000, 2.000 1.000, 3.000 1.00...            2   \n",
       "\n",
       "   population_sum  internet_speed_mean  nearest  \n",
       "0             100                 20.0      0.0  \n",
       "1             300                 15.0      0.0  \n",
       "2             500                  7.5      0.0  "
      ]
     },
     "execution_count": 21,
     "metadata": {},
     "output_type": "execute_result"
    }
   ],
   "source": [
    "results2"
   ]
  },
  {
   "cell_type": "markdown",
   "id": "3dce82fd-0cbc-461a-ac68-02a474e67327",
   "metadata": {},
   "source": [
    "### Custom Grids and POIs Example"
   ]
  },
  {
   "cell_type": "code",
   "execution_count": 22,
   "id": "4ce2389c-2791-4805-ad95-e1142df4ccc0",
   "metadata": {
    "tags": []
   },
   "outputs": [
    {
     "name": "stdout",
     "output_type": "stream",
     "text": [
      "CPU times: user 97.8 ms, sys: 29.2 ms, total: 127 ms\n",
      "Wall time: 100 ms\n"
     ]
    }
   ],
   "source": [
    "%%time\n",
    "region3_admin_grids = gpd.read_file(\"../data/region3_admin_grids.geojson\")"
   ]
  },
  {
   "cell_type": "code",
   "execution_count": 23,
   "id": "b62b01e2-defe-4efa-9e77-ee1d437c9422",
   "metadata": {},
   "outputs": [
    {
     "name": "stdout",
     "output_type": "stream",
     "text": [
      "CPU times: user 115 ms, sys: 365 µs, total: 115 ms\n",
      "Wall time: 113 ms\n"
     ]
    }
   ],
   "source": [
    "%%time\n",
    "region34ncr_osm_pois = gpd.read_file(\"../data/region34ncr_osm_pois.geojson\")"
   ]
  },
  {
   "cell_type": "code",
   "execution_count": 24,
   "id": "3a8367cf-0a6d-4182-848a-7dea165c28dd",
   "metadata": {},
   "outputs": [
    {
     "data": {
      "image/png": "[encoded data removed]",
      "text/plain": [
       "<Figure size 432x288 with 1 Axes>"
      ]
     },
     "metadata": {
      "needs_background": "light"
     },
     "output_type": "display_data"
    }
   ],
   "source": [
    "ax = plt.axes()\n",
    "ax = region34ncr_osm_pois.plot(ax=ax)\n",
    "ax = region3_admin_grids.plot(ax=ax, facecolor=\"none\", edgecolor=\"blue\")"
   ]
  },
  {
   "cell_type": "code",
   "execution_count": 25,
   "id": "54cac7c7-6791-43fa-906c-faf5803e5a9e",
   "metadata": {},
   "outputs": [],
   "source": [
    "region3_admin_grids = region3_admin_grids.to_crs(\"EPSG:3857\")  # convert to planar\n",
    "region34ncr_osm_pois = region34ncr_osm_pois.to_crs(\"EPSG:3857\")"
   ]
  },
  {
   "cell_type": "code",
   "execution_count": 26,
   "id": "ad788399-65fe-4132-b8bf-db8579779ec7",
   "metadata": {},
   "outputs": [
    {
     "data": {
      "text/html": [
       "<div>\n",
       "<style scoped>\n",
       "    .dataframe tbody tr th:only-of-type {\n",
       "        vertical-align: middle;\n",
       "    }\n",
       "\n",
       "    .dataframe tbody tr th {\n",
       "        vertical-align: top;\n",
       "    }\n",
       "\n",
       "    .dataframe thead th {\n",
       "        text-align: right;\n",
       "    }\n",
       "</style>\n",
       "<table border=\"1\" class=\"dataframe\">\n",
       "  <thead>\n",
       "    <tr style=\"text-align: right;\">\n",
       "      <th></th>\n",
       "      <th>osm_id</th>\n",
       "      <th>code</th>\n",
       "      <th>fclass</th>\n",
       "      <th>name</th>\n",
       "      <th>BARANGAY_CODE</th>\n",
       "      <th>geometry</th>\n",
       "    </tr>\n",
       "  </thead>\n",
       "  <tbody>\n",
       "    <tr>\n",
       "      <th>0</th>\n",
       "      <td>311568428</td>\n",
       "      <td>2701</td>\n",
       "      <td>tourist_info</td>\n",
       "      <td>Manila American Cemetery and Memorial Visitor ...</td>\n",
       "      <td>137602022</td>\n",
       "      <td>POINT (13475059.129 1636701.151)</td>\n",
       "    </tr>\n",
       "    <tr>\n",
       "      <th>1</th>\n",
       "      <td>672565496</td>\n",
       "      <td>2701</td>\n",
       "      <td>tourist_info</td>\n",
       "      <td>ecopark paging and first aid station</td>\n",
       "      <td>137404141</td>\n",
       "      <td>POINT (13477983.748 1656000.058)</td>\n",
       "    </tr>\n",
       "    <tr>\n",
       "      <th>2</th>\n",
       "      <td>672565498</td>\n",
       "      <td>2701</td>\n",
       "      <td>tourist_info</td>\n",
       "      <td>Ecopark ticket counter</td>\n",
       "      <td>137404141</td>\n",
       "      <td>POINT (13477813.318 1656135.868)</td>\n",
       "    </tr>\n",
       "    <tr>\n",
       "      <th>3</th>\n",
       "      <td>1585389544</td>\n",
       "      <td>2701</td>\n",
       "      <td>tourist_info</td>\n",
       "      <td>Area Formerly Occupied by Fort Bonifacio Museum</td>\n",
       "      <td>137602021</td>\n",
       "      <td>POINT (13476156.594 1637474.593)</td>\n",
       "    </tr>\n",
       "    <tr>\n",
       "      <th>4</th>\n",
       "      <td>1834855424</td>\n",
       "      <td>2701</td>\n",
       "      <td>tourist_info</td>\n",
       "      <td>Lotto Booth</td>\n",
       "      <td>137601020</td>\n",
       "      <td>POINT (13468786.053 1622805.175)</td>\n",
       "    </tr>\n",
       "    <tr>\n",
       "      <th>...</th>\n",
       "      <td>...</td>\n",
       "      <td>...</td>\n",
       "      <td>...</td>\n",
       "      <td>...</td>\n",
       "      <td>...</td>\n",
       "      <td>...</td>\n",
       "    </tr>\n",
       "    <tr>\n",
       "      <th>2829</th>\n",
       "      <td>1282790636</td>\n",
       "      <td>2723</td>\n",
       "      <td>monument</td>\n",
       "      <td>Rizal Monument</td>\n",
       "      <td>030808004</td>\n",
       "      <td>POINT (13387876.843 1652143.344)</td>\n",
       "    </tr>\n",
       "    <tr>\n",
       "      <th>2830</th>\n",
       "      <td>1430752967</td>\n",
       "      <td>2723</td>\n",
       "      <td>monument</td>\n",
       "      <td>Rizal Monument</td>\n",
       "      <td>034903092</td>\n",
       "      <td>POINT (13464327.852 1743609.163)</td>\n",
       "    </tr>\n",
       "    <tr>\n",
       "      <th>2831</th>\n",
       "      <td>2280492117</td>\n",
       "      <td>2723</td>\n",
       "      <td>monument</td>\n",
       "      <td>Rizal Monument</td>\n",
       "      <td>031421037</td>\n",
       "      <td>POINT (13467118.142 1705384.453)</td>\n",
       "    </tr>\n",
       "    <tr>\n",
       "      <th>2832</th>\n",
       "      <td>4898774223</td>\n",
       "      <td>2723</td>\n",
       "      <td>monument</td>\n",
       "      <td>Rizal Monument</td>\n",
       "      <td>035414009</td>\n",
       "      <td>POINT (13434387.128 1685457.796)</td>\n",
       "    </tr>\n",
       "    <tr>\n",
       "      <th>2833</th>\n",
       "      <td>3087522557</td>\n",
       "      <td>2724</td>\n",
       "      <td>memorial</td>\n",
       "      <td>Rizal Monument</td>\n",
       "      <td>031410015</td>\n",
       "      <td>POINT (13448861.946 1672777.772)</td>\n",
       "    </tr>\n",
       "  </tbody>\n",
       "</table>\n",
       "<p>2834 rows × 6 columns</p>\n",
       "</div>"
      ],
      "text/plain": [
       "          osm_id  code        fclass  \\\n",
       "0      311568428  2701  tourist_info   \n",
       "1      672565496  2701  tourist_info   \n",
       "2      672565498  2701  tourist_info   \n",
       "3     1585389544  2701  tourist_info   \n",
       "4     1834855424  2701  tourist_info   \n",
       "...          ...   ...           ...   \n",
       "2829  1282790636  2723      monument   \n",
       "2830  1430752967  2723      monument   \n",
       "2831  2280492117  2723      monument   \n",
       "2832  4898774223  2723      monument   \n",
       "2833  3087522557  2724      memorial   \n",
       "\n",
       "                                                   name BARANGAY_CODE  \\\n",
       "0     Manila American Cemetery and Memorial Visitor ...     137602022   \n",
       "1                  ecopark paging and first aid station     137404141   \n",
       "2                                Ecopark ticket counter     137404141   \n",
       "3       Area Formerly Occupied by Fort Bonifacio Museum     137602021   \n",
       "4                                           Lotto Booth     137601020   \n",
       "...                                                 ...           ...   \n",
       "2829                                     Rizal Monument     030808004   \n",
       "2830                                     Rizal Monument     034903092   \n",
       "2831                                     Rizal Monument     031421037   \n",
       "2832                                     Rizal Monument     035414009   \n",
       "2833                                     Rizal Monument     031410015   \n",
       "\n",
       "                              geometry  \n",
       "0     POINT (13475059.129 1636701.151)  \n",
       "1     POINT (13477983.748 1656000.058)  \n",
       "2     POINT (13477813.318 1656135.868)  \n",
       "3     POINT (13476156.594 1637474.593)  \n",
       "4     POINT (13468786.053 1622805.175)  \n",
       "...                                ...  \n",
       "2829  POINT (13387876.843 1652143.344)  \n",
       "2830  POINT (13464327.852 1743609.163)  \n",
       "2831  POINT (13467118.142 1705384.453)  \n",
       "2832  POINT (13434387.128 1685457.796)  \n",
       "2833  POINT (13448861.946 1672777.772)  \n",
       "\n",
       "[2834 rows x 6 columns]"
      ]
     },
     "execution_count": 26,
     "metadata": {},
     "output_type": "execute_result"
    }
   ],
   "source": [
    "region34ncr_osm_pois"
   ]
  },
  {
   "cell_type": "code",
   "execution_count": 27,
   "id": "b2b3bb5a-f2fd-40f6-b0ce-f9d6f9dee9bb",
   "metadata": {
    "tags": []
   },
   "outputs": [
    {
     "name": "stdout",
     "output_type": "stream",
     "text": [
      "CPU times: user 64.3 ms, sys: 6.26 ms, total: 70.5 ms\n",
      "Wall time: 67.8 ms\n"
     ]
    }
   ],
   "source": [
    "%%time\n",
    "results3 = dzs.create_distance_zonal_stats(\n",
    "    region3_admin_grids,\n",
    "    region34ncr_osm_pois,\n",
    "    max_distance=10_000,  # within 10km\n",
    "    aggregations=[dict(func=\"count\", output=\"pois_count\", fillna=[True])],\n",
    ")"
   ]
  },
  {
   "cell_type": "code",
   "execution_count": 28,
   "id": "3ea5ff55-e847-4d29-bd07-da6fb88258c4",
   "metadata": {},
   "outputs": [
    {
     "data": {
      "text/plain": [
       "165"
      ]
     },
     "execution_count": 28,
     "metadata": {},
     "output_type": "execute_result"
    }
   ],
   "source": [
    "len(results3[results3.pois_count == 0.0])"
   ]
  },
  {
   "cell_type": "code",
   "execution_count": 29,
   "id": "49cee5c4-7177-4e99-b37c-015f5bca7b93",
   "metadata": {},
   "outputs": [
    {
     "data": {
      "text/html": [
       "<div>\n",
       "<style scoped>\n",
       "    .dataframe tbody tr th:only-of-type {\n",
       "        vertical-align: middle;\n",
       "    }\n",
       "\n",
       "    .dataframe tbody tr th {\n",
       "        vertical-align: top;\n",
       "    }\n",
       "\n",
       "    .dataframe thead th {\n",
       "        text-align: right;\n",
       "    }\n",
       "</style>\n",
       "<table border=\"1\" class=\"dataframe\">\n",
       "  <thead>\n",
       "    <tr style=\"text-align: right;\">\n",
       "      <th></th>\n",
       "      <th>x</th>\n",
       "      <th>y</th>\n",
       "      <th>geometry</th>\n",
       "      <th>pois_count</th>\n",
       "      <th>nearest</th>\n",
       "    </tr>\n",
       "  </thead>\n",
       "  <tbody>\n",
       "    <tr>\n",
       "      <th>0</th>\n",
       "      <td>0</td>\n",
       "      <td>30</td>\n",
       "      <td>POLYGON ((13334497.956 1771012.807, 13339497.9...</td>\n",
       "      <td>1.0</td>\n",
       "      <td>8849.591855</td>\n",
       "    </tr>\n",
       "    <tr>\n",
       "      <th>1</th>\n",
       "      <td>0</td>\n",
       "      <td>31</td>\n",
       "      <td>POLYGON ((13334497.956 1776012.807, 13339497.9...</td>\n",
       "      <td>1.0</td>\n",
       "      <td>8844.448848</td>\n",
       "    </tr>\n",
       "    <tr>\n",
       "      <th>2</th>\n",
       "      <td>0</td>\n",
       "      <td>32</td>\n",
       "      <td>POLYGON ((13334497.956 1781012.807, 13339497.9...</td>\n",
       "      <td>0.0</td>\n",
       "      <td>NaN</td>\n",
       "    </tr>\n",
       "    <tr>\n",
       "      <th>3</th>\n",
       "      <td>1</td>\n",
       "      <td>30</td>\n",
       "      <td>POLYGON ((13339497.956 1771012.807, 13344497.9...</td>\n",
       "      <td>1.0</td>\n",
       "      <td>3856.266007</td>\n",
       "    </tr>\n",
       "    <tr>\n",
       "      <th>4</th>\n",
       "      <td>1</td>\n",
       "      <td>32</td>\n",
       "      <td>POLYGON ((13339497.956 1781012.807, 13344497.9...</td>\n",
       "      <td>1.0</td>\n",
       "      <td>6070.762498</td>\n",
       "    </tr>\n",
       "    <tr>\n",
       "      <th>...</th>\n",
       "      <td>...</td>\n",
       "      <td>...</td>\n",
       "      <td>...</td>\n",
       "      <td>...</td>\n",
       "      <td>...</td>\n",
       "    </tr>\n",
       "    <tr>\n",
       "      <th>1069</th>\n",
       "      <td>54</td>\n",
       "      <td>44</td>\n",
       "      <td>POLYGON ((13604497.956 1841012.807, 13609497.9...</td>\n",
       "      <td>1.0</td>\n",
       "      <td>674.134053</td>\n",
       "    </tr>\n",
       "    <tr>\n",
       "      <th>1070</th>\n",
       "      <td>54</td>\n",
       "      <td>45</td>\n",
       "      <td>POLYGON ((13604497.956 1846012.807, 13609497.9...</td>\n",
       "      <td>2.0</td>\n",
       "      <td>0.000000</td>\n",
       "    </tr>\n",
       "    <tr>\n",
       "      <th>1071</th>\n",
       "      <td>54</td>\n",
       "      <td>46</td>\n",
       "      <td>POLYGON ((13604497.956 1851012.807, 13609497.9...</td>\n",
       "      <td>1.0</td>\n",
       "      <td>4237.158313</td>\n",
       "    </tr>\n",
       "    <tr>\n",
       "      <th>1072</th>\n",
       "      <td>54</td>\n",
       "      <td>47</td>\n",
       "      <td>POLYGON ((13604497.956 1856012.807, 13609497.9...</td>\n",
       "      <td>1.0</td>\n",
       "      <td>9237.158313</td>\n",
       "    </tr>\n",
       "    <tr>\n",
       "      <th>1073</th>\n",
       "      <td>54</td>\n",
       "      <td>48</td>\n",
       "      <td>POLYGON ((13604497.956 1861012.807, 13609497.9...</td>\n",
       "      <td>0.0</td>\n",
       "      <td>NaN</td>\n",
       "    </tr>\n",
       "  </tbody>\n",
       "</table>\n",
       "<p>1074 rows × 5 columns</p>\n",
       "</div>"
      ],
      "text/plain": [
       "       x   y                                           geometry  pois_count  \\\n",
       "0      0  30  POLYGON ((13334497.956 1771012.807, 13339497.9...         1.0   \n",
       "1      0  31  POLYGON ((13334497.956 1776012.807, 13339497.9...         1.0   \n",
       "2      0  32  POLYGON ((13334497.956 1781012.807, 13339497.9...         0.0   \n",
       "3      1  30  POLYGON ((13339497.956 1771012.807, 13344497.9...         1.0   \n",
       "4      1  32  POLYGON ((13339497.956 1781012.807, 13344497.9...         1.0   \n",
       "...   ..  ..                                                ...         ...   \n",
       "1069  54  44  POLYGON ((13604497.956 1841012.807, 13609497.9...         1.0   \n",
       "1070  54  45  POLYGON ((13604497.956 1846012.807, 13609497.9...         2.0   \n",
       "1071  54  46  POLYGON ((13604497.956 1851012.807, 13609497.9...         1.0   \n",
       "1072  54  47  POLYGON ((13604497.956 1856012.807, 13609497.9...         1.0   \n",
       "1073  54  48  POLYGON ((13604497.956 1861012.807, 13609497.9...         0.0   \n",
       "\n",
       "          nearest  \n",
       "0     8849.591855  \n",
       "1     8844.448848  \n",
       "2             NaN  \n",
       "3     3856.266007  \n",
       "4     6070.762498  \n",
       "...           ...  \n",
       "1069   674.134053  \n",
       "1070     0.000000  \n",
       "1071  4237.158313  \n",
       "1072  9237.158313  \n",
       "1073          NaN  \n",
       "\n",
       "[1074 rows x 5 columns]"
      ]
     },
     "execution_count": 29,
     "metadata": {},
     "output_type": "execute_result"
    }
   ],
   "source": [
    "results3"
   ]
  }
 ],
 "metadata": {
  "kernelspec": {
   "display_name": "Python 3",
   "language": "python",
   "name": "python3"
  },
  "language_info": {
   "codemirror_mode": {
    "name": "ipython",
    "version": 3
   },
   "file_extension": ".py",
   "mimetype": "text/x-python",
   "name": "python",
   "nbconvert_exporter": "python",
   "pygments_lexer": "ipython3",
   "version": "3.7.12"
  }
 },
 "nbformat": 4,
 "nbformat_minor": 5
}
