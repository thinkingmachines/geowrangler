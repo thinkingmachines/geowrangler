{
 "cells": [
  {
   "cell_type": "code",
   "execution_count": 1,
   "id": "1a12bdc5-566a-409c-ae39-3636f131c65d",
   "metadata": {
    "id": "1a12bdc5-566a-409c-ae39-3636f131c65d"
   },
   "outputs": [],
   "source": [
    "# hide\n",
    "# all_slow"
   ]
  },
  {
   "cell_type": "code",
   "execution_count": 2,
   "id": "4832ee28-c56f-454b-ac7d-eb35158220c8",
   "metadata": {
    "id": "4832ee28-c56f-454b-ac7d-eb35158220c8"
   },
   "outputs": [],
   "source": [
    "# hide\n",
    "# no_test\n",
    "! [ -e /content ] && pip install -Uqq pyarrow fastparquet\n",
    "! [ -e /content ] && pip install -Uqq folium mapclassify\n",
    "! [ -e /content ] && pip install -Uqq geowrangler"
   ]
  },
  {
   "cell_type": "code",
   "execution_count": 3,
   "id": "8dadc39a-8b5f-41fc-9e78-e62f710ae0bb",
   "metadata": {
    "id": "8dadc39a-8b5f-41fc-9e78-e62f710ae0bb"
   },
   "outputs": [],
   "source": [
    "# hide\n",
    "# no_test\n",
    "!mkdir -p ../data\n",
    "![ -e /content ] && ln -s ../data ."
   ]
  },
  {
   "cell_type": "code",
   "execution_count": 4,
   "id": "f59a0b84-0de7-414a-be2e-3e5d3b94b000",
   "metadata": {
    "id": "f59a0b84-0de7-414a-be2e-3e5d3b94b000"
   },
   "outputs": [],
   "source": [
    "# hide\n",
    "# no_test\n",
    "%reload_ext autoreload\n",
    "%autoreload 2\n",
    "%matplotlib inline"
   ]
  },
  {
   "cell_type": "markdown",
   "id": "c0338fb8-6b7f-451d-9af2-cb45778b1038",
   "metadata": {
    "id": "c0338fb8-6b7f-451d-9af2-cb45778b1038",
    "tags": []
   },
   "source": [
    "# Exploring Internet Speeds with Ookla  "
   ]
  },
  {
   "cell_type": "markdown",
   "id": "39db2a30-2b96-4ef1-bae0-1499a79dab2f",
   "metadata": {
    "id": "39db2a30-2b96-4ef1-bae0-1499a79dab2f"
   },
   "source": [
    "> A simple use case demo for using geowrangler modules to find the Philippine provinces/towns with the slowest/fastest internet speeds.  "
   ]
  },
  {
   "cell_type": "markdown",
   "id": "zhqGVIF5uOmX",
   "metadata": {
    "id": "zhqGVIF5uOmX"
   },
   "source": [
    "## Summary\n",
    "\n",
    "This **Use Case Demo** shows how to use the [_geowrangler.datasets.ookla_](./datasets_ookla.html) and the [*geowrangler.area_zonal_stats*](./area_zonal_stats.html) modules to find the slowest/fastest internet speeds within an area or region of interest.\n"
   ]
  },
  {
   "cell_type": "markdown",
   "id": "a35ac6cb-a246-42ca-bd3e-730d941a2485",
   "metadata": {
    "id": "26a4ef83-0f9b-43be-b2cc-e292c7ea4ca1",
    "tags": []
   },
   "source": [
    "### How geowrangler can make this process easier\n",
    "\n",
    "Geowrangler can:\n",
    "\n",
    "* Validate your geodataframes\n",
    "* Help you download Ookla data (internet speed)\n",
    "* Generate zonal stats for your province/town"
   ]
  },
  {
   "cell_type": "markdown",
   "id": "5c5d1045-d556-4c29-8d60-05708fd86f22",
   "metadata": {
    "id": "26a4ef83-0f9b-43be-b2cc-e292c7ea4ca1",
    "tags": []
   },
   "source": [
    "### What you need to do\n",
    "\n",
    "* Get your AOIs (areas of interest) - get the boundaries of your administrative regions\n",
    "* Download ookla data\n",
    "* Validate AOIs and ookla data\n",
    "* Generate zonal Stats\n",
    "* Analyze and find fastest/slowest internet speeds"
   ]
  },
  {
   "cell_type": "code",
   "execution_count": 5,
   "id": "25607301-578f-488d-92bd-a2d8b91f1b2f",
   "metadata": {
    "id": "25607301-578f-488d-92bd-a2d8b91f1b2f"
   },
   "outputs": [],
   "source": [
    "# hide\n",
    "import warnings\n",
    "\n",
    "warnings.filterwarnings(action=\"ignore\", category=UserWarning, module=\"geopandas\")"
   ]
  },
  {
   "cell_type": "markdown",
   "id": "0G_7-gWfuXS7",
   "metadata": {
    "id": "0G_7-gWfuXS7"
   },
   "source": [
    "## Tutorial "
   ]
  },
  {
   "cell_type": "markdown",
   "id": "51f2d0d2-560b-4658-9482-0cbdef28adbd",
   "metadata": {},
   "source": [
    "\n",
    "### Import libraries\n",
    "\n",
    "Lets start by importing the required libraries"
   ]
  },
  {
   "cell_type": "code",
   "execution_count": 6,
   "id": "cc74ec47-221e-4fab-92ad-996dc9834061",
   "metadata": {},
   "outputs": [],
   "source": [
    "import geopandas as gpd\n",
    "import matplotlib.pyplot as plt\n",
    "import pandas as pd\n",
    "\n",
    "import geowrangler.area_zonal_stats as azs"
   ]
  },
  {
   "cell_type": "code",
   "execution_count": 7,
   "id": "c21bd544-9329-46a4-a779-dc88007218a0",
   "metadata": {},
   "outputs": [],
   "source": [
    "# hide\n",
    "pd.set_option(\"display.max_columns\", 500)\n",
    "pd.set_option(\"display.width\", 1000)"
   ]
  },
  {
   "cell_type": "code",
   "execution_count": 8,
   "id": "e0a7872a-e5be-4b3f-a7ae-f9d77c36f4f6",
   "metadata": {
    "id": "e0a7872a-e5be-4b3f-a7ae-f9d77c36f4f6"
   },
   "outputs": [],
   "source": [
    "# hide\n",
    "# no_test\n",
    "!mkdir -p ../data"
   ]
  },
  {
   "cell_type": "markdown",
   "id": "agheFrwBubQx",
   "metadata": {
    "id": "agheFrwBubQx"
   },
   "source": [
    "### Download Admin Areas\n",
    "\n",
    "Next, we get the administrative boundaries geodataset using [data from Humanitarian Data Exchange](https://data.humdata.org/dataset/cod-ab-phl)  "
   ]
  },
  {
   "cell_type": "markdown",
   "id": "0e29c3d3-61ed-448a-bbe6-ef1dff404a85",
   "metadata": {},
   "source": [
    "#### Set Region Filter\n",
    "> Important: setting the region filter to `None` will compute the zonal stats for the whole Philippines and can take a lot longer than for a region\n",
    "\n",
    "Set the **REGION_FILTER** to your Region (or `None` for the whole Philippines)"
   ]
  },
  {
   "cell_type": "code",
   "execution_count": 9,
   "id": "15d927a7-5137-46bf-8dca-81c4abf77b5b",
   "metadata": {},
   "outputs": [],
   "source": [
    "# REGION_FILTER = None  # All regions\n",
    "REGION_FILTER = \"National Capital Region\"  # limit to 1 to speed up processing"
   ]
  },
  {
   "cell_type": "markdown",
   "id": "e3311c7c-cd87-4ab0-a210-dd49c3c31705",
   "metadata": {
    "tags": []
   },
   "source": [
    "Download the geodataset containing the admin areas of your country.\n",
    "\n",
    "Here we are using the data for the Philippines."
   ]
  },
  {
   "cell_type": "code",
   "execution_count": 10,
   "id": "2f1f58e5-f202-43a9-807a-25958dc15b56",
   "metadata": {},
   "outputs": [],
   "source": [
    "phl_admin3_file = \"phl_adminboundaries_candidate_adm3\"\n",
    "phl_admin3_zip = f\"{phl_admin3_file}.zip\"\n",
    "# shapefiles\n",
    "phl_admin3_link = f\"https://data.humdata.org/dataset/caf116df-f984-4deb-85ca-41b349d3f313/resource/12457689-6a86-4474-8032-5ca9464d38a8/download/{phl_admin3_zip}\""
   ]
  },
  {
   "cell_type": "markdown",
   "id": "27b5a30e-ab0a-4224-9009-f562e6ac56b8",
   "metadata": {},
   "source": [
    "Download the zipped file. Depending on your internet connection, it can take several minutes."
   ]
  },
  {
   "cell_type": "code",
   "execution_count": 11,
   "id": "7c0dab3f-9f36-4eac-9e15-ed42c39a824b",
   "metadata": {},
   "outputs": [
    {
     "name": "stdout",
     "output_type": "stream",
     "text": [
      "CPU times: user 3.9 ms, sys: 12.6 ms, total: 16.5 ms\n",
      "Wall time: 123 ms\n"
     ]
    }
   ],
   "source": [
    "%%time\n",
    "![ ! -e ../data/{phl_admin3_zip} ] && curl -L -o ../data/{phl_admin3_zip} {phl_admin3_link}"
   ]
  },
  {
   "cell_type": "code",
   "execution_count": 12,
   "id": "c1ef633d-e4be-4eab-bbae-d16f052c38f5",
   "metadata": {},
   "outputs": [],
   "source": [
    "!mkdir -p ../data/{phl_admin3_file}"
   ]
  },
  {
   "cell_type": "code",
   "execution_count": 13,
   "id": "c3fac509-20ce-40a5-8bea-97775a4393f7",
   "metadata": {},
   "outputs": [],
   "source": [
    "main_file = \"phl_admbnda_adm3_psa_namria_20200529\"\n",
    "phl_admin3_shp = f\"../data/{phl_admin3_file}/{main_file}.shp\""
   ]
  },
  {
   "cell_type": "code",
   "execution_count": 14,
   "id": "a7db3cef-6123-4d52-af11-3f0f70eb14aa",
   "metadata": {},
   "outputs": [
    {
     "name": "stdout",
     "output_type": "stream",
     "text": [
      "CPU times: user 5.08 ms, sys: 3.09 ms, total: 8.17 ms\n",
      "Wall time: 112 ms\n"
     ]
    }
   ],
   "source": [
    "%%time\n",
    "![ ! -e {phl_admin3_shp} ] && unzip -d ../data/{phl_admin3_file} ../data/{phl_admin3_zip}"
   ]
  },
  {
   "cell_type": "markdown",
   "id": "8c480eb0-a0cf-4962-be92-b3522dd3017d",
   "metadata": {},
   "source": [
    "Load the admin area geo dataset. \n",
    "\n",
    "In our example we are loading the `.shp` or shape file as a geopandas dataframe."
   ]
  },
  {
   "cell_type": "code",
   "execution_count": 15,
   "id": "1d66af46-02d8-496a-9fd7-fe597cb927ac",
   "metadata": {},
   "outputs": [
    {
     "name": "stdout",
     "output_type": "stream",
     "text": [
      "loading ../data/phl_adminboundaries_candidate_adm3/phl_admbnda_adm3_psa_namria_20200529.shp\n",
      "CPU times: user 4.4 s, sys: 4.54 s, total: 8.93 s\n",
      "Wall time: 9.1 s\n"
     ]
    }
   ],
   "source": [
    "%%time\n",
    "print(f\"loading {phl_admin3_shp}\")\n",
    "admin3 = gpd.read_file(phl_admin3_shp)"
   ]
  },
  {
   "cell_type": "code",
   "execution_count": 16,
   "id": "41e18049-3aba-4b81-a2a3-e0948eb11927",
   "metadata": {},
   "outputs": [
    {
     "data": {
      "text/html": [
       "<div>\n",
       "<style scoped>\n",
       "    .dataframe tbody tr th:only-of-type {\n",
       "        vertical-align: middle;\n",
       "    }\n",
       "\n",
       "    .dataframe tbody tr th {\n",
       "        vertical-align: top;\n",
       "    }\n",
       "\n",
       "    .dataframe thead th {\n",
       "        text-align: right;\n",
       "    }\n",
       "</style>\n",
       "<table border=\"1\" class=\"dataframe\">\n",
       "  <thead>\n",
       "    <tr style=\"text-align: right;\">\n",
       "      <th></th>\n",
       "      <th>Shape_Leng</th>\n",
       "      <th>Shape_Area</th>\n",
       "      <th>ADM3_EN</th>\n",
       "      <th>ADM3_PCODE</th>\n",
       "      <th>ADM3_REF</th>\n",
       "      <th>ADM3ALT1EN</th>\n",
       "      <th>ADM3ALT2EN</th>\n",
       "      <th>ADM2_EN</th>\n",
       "      <th>ADM2_PCODE</th>\n",
       "      <th>ADM1_EN</th>\n",
       "      <th>ADM1_PCODE</th>\n",
       "      <th>ADM0_EN</th>\n",
       "      <th>ADM0_PCODE</th>\n",
       "      <th>date</th>\n",
       "      <th>validOn</th>\n",
       "      <th>validTo</th>\n",
       "      <th>geometry</th>\n",
       "    </tr>\n",
       "  </thead>\n",
       "  <tbody>\n",
       "    <tr>\n",
       "      <th>0</th>\n",
       "      <td>1.601219</td>\n",
       "      <td>0.063496</td>\n",
       "      <td>Aborlan</td>\n",
       "      <td>PH175301000</td>\n",
       "      <td>None</td>\n",
       "      <td>None</td>\n",
       "      <td>None</td>\n",
       "      <td>Palawan</td>\n",
       "      <td>PH175300000</td>\n",
       "      <td>Region IV-B</td>\n",
       "      <td>PH170000000</td>\n",
       "      <td>Philippines (the)</td>\n",
       "      <td>PH</td>\n",
       "      <td>2016-06-30</td>\n",
       "      <td>2020-05-29</td>\n",
       "      <td>None</td>\n",
       "      <td>MULTIPOLYGON (((118.58350 9.37700, 118.58398 9...</td>\n",
       "    </tr>\n",
       "    <tr>\n",
       "      <th>1</th>\n",
       "      <td>1.078749</td>\n",
       "      <td>0.050232</td>\n",
       "      <td>Abra de Ilog</td>\n",
       "      <td>PH175101000</td>\n",
       "      <td>None</td>\n",
       "      <td>None</td>\n",
       "      <td>None</td>\n",
       "      <td>Occidental Mindoro</td>\n",
       "      <td>PH175100000</td>\n",
       "      <td>Region IV-B</td>\n",
       "      <td>PH170000000</td>\n",
       "      <td>Philippines (the)</td>\n",
       "      <td>PH</td>\n",
       "      <td>2016-06-30</td>\n",
       "      <td>2020-05-29</td>\n",
       "      <td>None</td>\n",
       "      <td>POLYGON ((120.58412 13.50198, 120.58420 13.501...</td>\n",
       "    </tr>\n",
       "    <tr>\n",
       "      <th>2</th>\n",
       "      <td>0.424301</td>\n",
       "      <td>0.006453</td>\n",
       "      <td>Abucay</td>\n",
       "      <td>PH030801000</td>\n",
       "      <td>None</td>\n",
       "      <td>None</td>\n",
       "      <td>None</td>\n",
       "      <td>Bataan</td>\n",
       "      <td>PH030800000</td>\n",
       "      <td>Region III</td>\n",
       "      <td>PH030000000</td>\n",
       "      <td>Philippines (the)</td>\n",
       "      <td>PH</td>\n",
       "      <td>2016-06-30</td>\n",
       "      <td>2020-05-29</td>\n",
       "      <td>None</td>\n",
       "      <td>POLYGON ((120.49873 14.75614, 120.49891 14.755...</td>\n",
       "    </tr>\n",
       "    <tr>\n",
       "      <th>3</th>\n",
       "      <td>0.566053</td>\n",
       "      <td>0.011343</td>\n",
       "      <td>Abulug</td>\n",
       "      <td>PH021501000</td>\n",
       "      <td>None</td>\n",
       "      <td>None</td>\n",
       "      <td>None</td>\n",
       "      <td>Cagayan</td>\n",
       "      <td>PH021500000</td>\n",
       "      <td>Region II</td>\n",
       "      <td>PH020000000</td>\n",
       "      <td>Philippines (the)</td>\n",
       "      <td>PH</td>\n",
       "      <td>2016-06-30</td>\n",
       "      <td>2020-05-29</td>\n",
       "      <td>None</td>\n",
       "      <td>POLYGON ((121.43455 18.46651, 121.43502 18.466...</td>\n",
       "    </tr>\n",
       "    <tr>\n",
       "      <th>4</th>\n",
       "      <td>1.013649</td>\n",
       "      <td>0.026124</td>\n",
       "      <td>Abuyog</td>\n",
       "      <td>PH083701000</td>\n",
       "      <td>None</td>\n",
       "      <td>None</td>\n",
       "      <td>None</td>\n",
       "      <td>Leyte</td>\n",
       "      <td>PH083700000</td>\n",
       "      <td>Region VIII</td>\n",
       "      <td>PH080000000</td>\n",
       "      <td>Philippines (the)</td>\n",
       "      <td>PH</td>\n",
       "      <td>2016-06-30</td>\n",
       "      <td>2020-05-29</td>\n",
       "      <td>None</td>\n",
       "      <td>MULTIPOLYGON (((125.02684 10.73500, 125.02683 ...</td>\n",
       "    </tr>\n",
       "  </tbody>\n",
       "</table>\n",
       "</div>"
      ],
      "text/plain": [
       "   Shape_Leng  Shape_Area       ADM3_EN   ADM3_PCODE ADM3_REF ADM3ALT1EN ADM3ALT2EN             ADM2_EN   ADM2_PCODE      ADM1_EN   ADM1_PCODE            ADM0_EN ADM0_PCODE        date     validOn validTo                                           geometry\n",
       "0    1.601219    0.063496       Aborlan  PH175301000     None       None       None             Palawan  PH175300000  Region IV-B  PH170000000  Philippines (the)         PH  2016-06-30  2020-05-29    None  MULTIPOLYGON (((118.58350 9.37700, 118.58398 9...\n",
       "1    1.078749    0.050232  Abra de Ilog  PH175101000     None       None       None  Occidental Mindoro  PH175100000  Region IV-B  PH170000000  Philippines (the)         PH  2016-06-30  2020-05-29    None  POLYGON ((120.58412 13.50198, 120.58420 13.501...\n",
       "2    0.424301    0.006453        Abucay  PH030801000     None       None       None              Bataan  PH030800000   Region III  PH030000000  Philippines (the)         PH  2016-06-30  2020-05-29    None  POLYGON ((120.49873 14.75614, 120.49891 14.755...\n",
       "3    0.566053    0.011343        Abulug  PH021501000     None       None       None             Cagayan  PH021500000    Region II  PH020000000  Philippines (the)         PH  2016-06-30  2020-05-29    None  POLYGON ((121.43455 18.46651, 121.43502 18.466...\n",
       "4    1.013649    0.026124        Abuyog  PH083701000     None       None       None               Leyte  PH083700000  Region VIII  PH080000000  Philippines (the)         PH  2016-06-30  2020-05-29    None  MULTIPOLYGON (((125.02684 10.73500, 125.02683 ..."
      ]
     },
     "execution_count": 16,
     "metadata": {},
     "output_type": "execute_result"
    }
   ],
   "source": [
    "admin3.head()"
   ]
  },
  {
   "cell_type": "code",
   "execution_count": 17,
   "id": "cfdb6f7f-fa54-47bc-8f8d-cb2544963d5d",
   "metadata": {
    "tags": []
   },
   "outputs": [
    {
     "data": {
      "text/plain": [
       "['Shape_Leng',\n",
       " 'Shape_Area',\n",
       " 'ADM3_EN',\n",
       " 'ADM3_PCODE',\n",
       " 'ADM3_REF',\n",
       " 'ADM3ALT1EN',\n",
       " 'ADM3ALT2EN',\n",
       " 'ADM2_EN',\n",
       " 'ADM2_PCODE',\n",
       " 'ADM1_EN',\n",
       " 'ADM1_PCODE',\n",
       " 'ADM0_EN',\n",
       " 'ADM0_PCODE',\n",
       " 'date',\n",
       " 'validOn',\n",
       " 'validTo',\n",
       " 'geometry']"
      ]
     },
     "execution_count": 17,
     "metadata": {},
     "output_type": "execute_result"
    }
   ],
   "source": [
    "list(admin3.columns.values)"
   ]
  },
  {
   "cell_type": "code",
   "execution_count": 18,
   "id": "9f08fb29-2e3b-4ccb-a5b6-36394e79fe22",
   "metadata": {},
   "outputs": [
    {
     "data": {
      "text/plain": [
       "array(['Region IV-B', 'Region III', 'Region II', 'Region VIII',\n",
       "       'Region I', 'Region IV-A', 'Cordillera Administrative Region',\n",
       "       'Region VI', 'Autonomous Region in Muslim Mindanao', 'Region XII',\n",
       "       'Region VII', 'Region XIII', 'Region IX', 'Region X', 'Region V',\n",
       "       'Region XI', 'National Capital Region'], dtype=object)"
      ]
     },
     "execution_count": 18,
     "metadata": {},
     "output_type": "execute_result"
    }
   ],
   "source": [
    "admin3.ADM1_EN.unique()"
   ]
  },
  {
   "cell_type": "markdown",
   "id": "1200f2ed-cece-454d-9dbc-69d5c492d56a",
   "metadata": {},
   "source": [
    "Limit the admin regions to only 1 in order to make the process run faster. \n",
    "\n",
    "The **REGION FILTER** is set in the [Set Region Filter Section](#Set-Region-Filter)"
   ]
  },
  {
   "cell_type": "code",
   "execution_count": 19,
   "id": "27290d99-847d-4696-a081-601562a26ced",
   "metadata": {},
   "outputs": [],
   "source": [
    "if REGION_FILTER:\n",
    "    admin3 = admin3[admin3.ADM1_EN == REGION_FILTER]"
   ]
  },
  {
   "cell_type": "code",
   "execution_count": 20,
   "id": "bdf663f2-b0db-47b6-846f-03370d832d67",
   "metadata": {},
   "outputs": [],
   "source": [
    "import matplotlib.pyplot as plt"
   ]
  },
  {
   "cell_type": "code",
   "execution_count": 21,
   "id": "e7b2e213-83a1-4682-98ac-389e0b05c0d6",
   "metadata": {},
   "outputs": [
    {
     "data": {
      "image/png": "[encoded data removed]",
      "text/plain": [
       "<Figure size 432x288 with 1 Axes>"
      ]
     },
     "metadata": {
      "needs_background": "light"
     },
     "output_type": "display_data"
    }
   ],
   "source": [
    "ax = plt.axes()\n",
    "ax = admin3.plot(ax=ax, facecolor=\"none\", edgecolor=\"blue\")"
   ]
  },
  {
   "cell_type": "markdown",
   "id": "80237cf9-2ff7-4298-914b-96a460ef4b22",
   "metadata": {},
   "source": [
    "![Admin 3 Levels for NCR](images/admin3-ncr.png)"
   ]
  },
  {
   "cell_type": "code",
   "execution_count": 22,
   "id": "a37aa20a-82b1-43af-944c-bb77d18eb8e1",
   "metadata": {},
   "outputs": [],
   "source": [
    "# hide\n",
    "# uncomment the statement below to show an interactive map\n",
    "# admin3.explore(tooltip='ADM3_EN')"
   ]
  },
  {
   "cell_type": "code",
   "execution_count": 23,
   "id": "91a038e7-1305-4046-a616-0227422fd927",
   "metadata": {},
   "outputs": [
    {
     "name": "stdout",
     "output_type": "stream",
     "text": [
      "CPU times: user 115 ms, sys: 92.5 ms, total: 207 ms\n",
      "Wall time: 105 ms\n"
     ]
    },
    {
     "data": {
      "image/png": "[encoded data removed]",
      "text/plain": [
       "<Figure size 432x288 with 1 Axes>"
      ]
     },
     "metadata": {
      "needs_background": "light"
     },
     "output_type": "display_data"
    }
   ],
   "source": [
    "%%time\n",
    "ax = plt.axes()\n",
    "ax = admin3[admin3.ADM3_EN == \"Pateros\"].plot(ax=ax, facecolor=\"none\", edgecolor=\"blue\")"
   ]
  },
  {
   "cell_type": "code",
   "execution_count": 24,
   "id": "21841988-833f-4ce9-8bc9-fdb1d46274f9",
   "metadata": {},
   "outputs": [
    {
     "data": {
      "text/plain": [
       "<Geographic 2D CRS: EPSG:4326>\n",
       "Name: WGS 84\n",
       "Axis Info [ellipsoidal]:\n",
       "- Lat[north]: Geodetic latitude (degree)\n",
       "- Lon[east]: Geodetic longitude (degree)\n",
       "Area of Use:\n",
       "- name: World.\n",
       "- bounds: (-180.0, -90.0, 180.0, 90.0)\n",
       "Datum: World Geodetic System 1984 ensemble\n",
       "- Ellipsoid: WGS 84\n",
       "- Prime Meridian: Greenwich"
      ]
     },
     "execution_count": 24,
     "metadata": {},
     "output_type": "execute_result"
    }
   ],
   "source": [
    "admin3.crs"
   ]
  },
  {
   "cell_type": "code",
   "execution_count": 25,
   "id": "4d177300-62d1-475e-bd63-1ab9005bb366",
   "metadata": {},
   "outputs": [
    {
     "data": {
      "text/plain": [
       "array([120.90639543,  14.35172957, 121.13503641,  14.78529173])"
      ]
     },
     "execution_count": 25,
     "metadata": {},
     "output_type": "execute_result"
    }
   ],
   "source": [
    "admin3.total_bounds"
   ]
  },
  {
   "cell_type": "code",
   "execution_count": 26,
   "id": "f84652a6-2edc-4815-a398-1f84d7e47fae",
   "metadata": {},
   "outputs": [
    {
     "data": {
      "text/plain": [
       "30"
      ]
     },
     "execution_count": 26,
     "metadata": {},
     "output_type": "execute_result"
    }
   ],
   "source": [
    "len(admin3)"
   ]
  },
  {
   "cell_type": "markdown",
   "id": "TVghj-icvEFT",
   "metadata": {
    "id": "TVghj-icvEFT"
   },
   "source": [
    "### Download Ookla data\n",
    "\n",
    "Use the `geowrangler.datasets.ookla` module to explore and download ookla (internet speed) data"
   ]
  },
  {
   "cell_type": "code",
   "execution_count": 27,
   "id": "6f4e629a-6189-4020-af5d-8c794a26306e",
   "metadata": {},
   "outputs": [],
   "source": [
    "from geowrangler.datasets import ookla"
   ]
  },
  {
   "cell_type": "markdown",
   "id": "870f6687-f320-4073-a8fe-2b436e082f14",
   "metadata": {},
   "source": [
    "List the publically available ookla datasets"
   ]
  },
  {
   "cell_type": "code",
   "execution_count": 28,
   "id": "0c0791a1-5002-471e-99c6-aef6c378a519",
   "metadata": {
    "tags": []
   },
   "outputs": [
    {
     "name": "stdout",
     "output_type": "stream",
     "text": [
      "CPU times: user 76.1 ms, sys: 14.5 ms, total: 90.5 ms\n",
      "Wall time: 1.13 s\n"
     ]
    },
    {
     "data": {
      "text/plain": [
       "{OoklaQuarter(type='fixed', year='2019', quarter='1'): '2019-01-01_performance_fixed_tiles.parquet',\n",
       " OoklaQuarter(type='fixed', year='2019', quarter='2'): '2019-04-01_performance_fixed_tiles.parquet',\n",
       " OoklaQuarter(type='fixed', year='2019', quarter='3'): '2019-07-01_performance_fixed_tiles.parquet',\n",
       " OoklaQuarter(type='fixed', year='2019', quarter='4'): '2019-10-01_performance_fixed_tiles.parquet',\n",
       " OoklaQuarter(type='fixed', year='2020', quarter='1'): '2020-01-01_performance_fixed_tiles.parquet',\n",
       " OoklaQuarter(type='fixed', year='2020', quarter='2'): '2020-04-01_performance_fixed_tiles.parquet',\n",
       " OoklaQuarter(type='fixed', year='2020', quarter='3'): '2020-07-01_performance_fixed_tiles.parquet',\n",
       " OoklaQuarter(type='fixed', year='2020', quarter='4'): '2020-10-01_performance_fixed_tiles.parquet',\n",
       " OoklaQuarter(type='fixed', year='2021', quarter='1'): '2021-01-01_performance_fixed_tiles.parquet',\n",
       " OoklaQuarter(type='fixed', year='2021', quarter='2'): '2021-04-01_performance_fixed_tiles.parquet',\n",
       " OoklaQuarter(type='fixed', year='2021', quarter='3'): '2021-07-01_performance_fixed_tiles.parquet',\n",
       " OoklaQuarter(type='fixed', year='2021', quarter='4'): '2021-10-01_performance_fixed_tiles.parquet',\n",
       " OoklaQuarter(type='fixed', year='2022', quarter='1'): '2022-01-01_performance_fixed_tiles.parquet',\n",
       " OoklaQuarter(type='fixed', year='2022', quarter='2'): '2022-04-01_performance_fixed_tiles.parquet',\n",
       " OoklaQuarter(type='mobile', year='2019', quarter='1'): '2019-01-01_performance_mobile_tiles.parquet',\n",
       " OoklaQuarter(type='mobile', year='2019', quarter='2'): '2019-04-01_performance_mobile_tiles.parquet',\n",
       " OoklaQuarter(type='mobile', year='2019', quarter='3'): '2019-07-01_performance_mobile_tiles.parquet',\n",
       " OoklaQuarter(type='mobile', year='2019', quarter='4'): '2019-10-01_performance_mobile_tiles.parquet',\n",
       " OoklaQuarter(type='mobile', year='2020', quarter='1'): '2020-01-01_performance_mobile_tiles.parquet',\n",
       " OoklaQuarter(type='mobile', year='2020', quarter='2'): '2020-04-01_performance_mobile_tiles.parquet',\n",
       " OoklaQuarter(type='mobile', year='2020', quarter='3'): '2020-07-01_performance_mobile_tiles.parquet',\n",
       " OoklaQuarter(type='mobile', year='2020', quarter='4'): '2020-10-01_performance_mobile_tiles.parquet',\n",
       " OoklaQuarter(type='mobile', year='2021', quarter='1'): '2021-01-01_performance_mobile_tiles.parquet',\n",
       " OoklaQuarter(type='mobile', year='2021', quarter='2'): '2021-04-01_performance_mobile_tiles.parquet',\n",
       " OoklaQuarter(type='mobile', year='2021', quarter='3'): '2021-07-01_performance_mobile_tiles.parquet',\n",
       " OoklaQuarter(type='mobile', year='2021', quarter='4'): '2021-10-01_performance_mobile_tiles.parquet',\n",
       " OoklaQuarter(type='mobile', year='2022', quarter='1'): '2022-01-01_performance_mobile_tiles.parquet',\n",
       " OoklaQuarter(type='mobile', year='2022', quarter='2'): '2022-04-01_performance_mobile_tiles.parquet'}"
      ]
     },
     "execution_count": 28,
     "metadata": {},
     "output_type": "execute_result"
    }
   ],
   "source": [
    "%%time\n",
    "ookla_dsets = ookla.list_ookla_files()\n",
    "ookla_dsets"
   ]
  },
  {
   "cell_type": "markdown",
   "id": "41ca630b-afc9-4d26-be6e-93945c933598",
   "metadata": {
    "tags": []
   },
   "source": [
    "Download the latest data (as of the time of writing this)"
   ]
  },
  {
   "cell_type": "code",
   "execution_count": 29,
   "id": "7b88c6b6-9144-41be-8cfd-bb7082da0786",
   "metadata": {},
   "outputs": [],
   "source": [
    "ookla_params = dict(year=\"2022\", quarter=\"2\", directory=\"../data\")"
   ]
  },
  {
   "cell_type": "code",
   "execution_count": 30,
   "id": "df724ed7-64f7-45d5-bc7c-6a0d51d1f95f",
   "metadata": {},
   "outputs": [
    {
     "name": "stdout",
     "output_type": "stream",
     "text": [
      "CPU times: user 143 µs, sys: 118 µs, total: 261 µs\n",
      "Wall time: 182 µs\n"
     ]
    }
   ],
   "source": [
    "%%time\n",
    "ookla_fixed = ookla.download_ookla_file(type_=\"fixed\", **ookla_params)"
   ]
  },
  {
   "cell_type": "code",
   "execution_count": 31,
   "id": "6a86f9a6-bd8d-451c-8ba1-7482df06eedc",
   "metadata": {
    "tags": []
   },
   "outputs": [
    {
     "data": {
      "text/plain": [
       "PosixPath('../data/2022-04-01_performance_fixed_tiles.parquet')"
      ]
     },
     "execution_count": 31,
     "metadata": {},
     "output_type": "execute_result"
    }
   ],
   "source": [
    "ookla_fixed"
   ]
  },
  {
   "cell_type": "markdown",
   "id": "bf06d637-fd1e-42d2-96d8-930801a9f237",
   "metadata": {
    "tags": []
   },
   "source": [
    "### Convert ookla data into a GeoDataFrame\n",
    "\n",
    "The downloaded file from ookla is not yet a geodataset, so we will h\n",
    "have to convert it into a `GeoDataFrame` suitable for use in geowrangler."
   ]
  },
  {
   "cell_type": "code",
   "execution_count": 32,
   "id": "46303e4e-9dcd-4331-a4b6-f60c112a95d2",
   "metadata": {},
   "outputs": [],
   "source": [
    "import pandas as pd"
   ]
  },
  {
   "cell_type": "markdown",
   "id": "6f31d92d-b347-4150-912f-63066bde9c8c",
   "metadata": {},
   "source": [
    "The downloaded ookla data contains the internet speed data for the whole world and can take a minute or two to load.\n",
    "\n",
    "Later, we will show how to filter the data to only include the data relevant to our AOI."
   ]
  },
  {
   "cell_type": "code",
   "execution_count": 33,
   "id": "752dee1f-08d6-4082-9ae6-6a59e76f9e70",
   "metadata": {},
   "outputs": [
    {
     "name": "stdout",
     "output_type": "stream",
     "text": [
      "CPU times: user 7.72 s, sys: 14.2 s, total: 21.9 s\n",
      "Wall time: 19.2 s\n"
     ]
    }
   ],
   "source": [
    "%%time\n",
    "fixed = pd.read_parquet(ookla_fixed)"
   ]
  },
  {
   "cell_type": "code",
   "execution_count": 34,
   "id": "2c990ddb-065c-4bcf-a9ac-ea5a2b52f9b2",
   "metadata": {},
   "outputs": [
    {
     "data": {
      "text/plain": [
       "6581735"
      ]
     },
     "execution_count": 34,
     "metadata": {},
     "output_type": "execute_result"
    }
   ],
   "source": [
    "len(fixed)"
   ]
  },
  {
   "cell_type": "code",
   "execution_count": 35,
   "id": "fc1a6b26-2954-42f1-b439-1d599ad49ce2",
   "metadata": {},
   "outputs": [
    {
     "data": {
      "text/html": [
       "<div>\n",
       "<style scoped>\n",
       "    .dataframe tbody tr th:only-of-type {\n",
       "        vertical-align: middle;\n",
       "    }\n",
       "\n",
       "    .dataframe tbody tr th {\n",
       "        vertical-align: top;\n",
       "    }\n",
       "\n",
       "    .dataframe thead th {\n",
       "        text-align: right;\n",
       "    }\n",
       "</style>\n",
       "<table border=\"1\" class=\"dataframe\">\n",
       "  <thead>\n",
       "    <tr style=\"text-align: right;\">\n",
       "      <th></th>\n",
       "      <th>quadkey</th>\n",
       "      <th>tile</th>\n",
       "      <th>avg_d_kbps</th>\n",
       "      <th>avg_u_kbps</th>\n",
       "      <th>avg_lat_ms</th>\n",
       "      <th>tests</th>\n",
       "      <th>devices</th>\n",
       "    </tr>\n",
       "  </thead>\n",
       "  <tbody>\n",
       "    <tr>\n",
       "      <th>0</th>\n",
       "      <td>0000122200000000</td>\n",
       "      <td>POLYGON((-168.75 84.1249731939109, -168.744506...</td>\n",
       "      <td>97075</td>\n",
       "      <td>42458</td>\n",
       "      <td>65</td>\n",
       "      <td>7</td>\n",
       "      <td>1</td>\n",
       "    </tr>\n",
       "    <tr>\n",
       "      <th>1</th>\n",
       "      <td>0022133222312322</td>\n",
       "      <td>POLYGON((-160.02685546875 70.6435894914449, -1...</td>\n",
       "      <td>8324</td>\n",
       "      <td>3798</td>\n",
       "      <td>91</td>\n",
       "      <td>2</td>\n",
       "      <td>1</td>\n",
       "    </tr>\n",
       "    <tr>\n",
       "      <th>2</th>\n",
       "      <td>0022133222330100</td>\n",
       "      <td>POLYGON((-160.02685546875 70.6417687358462, -1...</td>\n",
       "      <td>14972</td>\n",
       "      <td>4461</td>\n",
       "      <td>94</td>\n",
       "      <td>29</td>\n",
       "      <td>2</td>\n",
       "    </tr>\n",
       "    <tr>\n",
       "      <th>3</th>\n",
       "      <td>0022133222330201</td>\n",
       "      <td>POLYGON((-160.043334960938 70.6344840663086, -...</td>\n",
       "      <td>6253</td>\n",
       "      <td>2818</td>\n",
       "      <td>91</td>\n",
       "      <td>1</td>\n",
       "      <td>1</td>\n",
       "    </tr>\n",
       "    <tr>\n",
       "      <th>4</th>\n",
       "      <td>0022202203233313</td>\n",
       "      <td>POLYGON((-179.478149414062 68.9169336615194, -...</td>\n",
       "      <td>700</td>\n",
       "      <td>126</td>\n",
       "      <td>1090</td>\n",
       "      <td>1</td>\n",
       "      <td>1</td>\n",
       "    </tr>\n",
       "  </tbody>\n",
       "</table>\n",
       "</div>"
      ],
      "text/plain": [
       "            quadkey                                               tile  avg_d_kbps  avg_u_kbps  avg_lat_ms  tests  devices\n",
       "0  0000122200000000  POLYGON((-168.75 84.1249731939109, -168.744506...       97075       42458          65      7        1\n",
       "1  0022133222312322  POLYGON((-160.02685546875 70.6435894914449, -1...        8324        3798          91      2        1\n",
       "2  0022133222330100  POLYGON((-160.02685546875 70.6417687358462, -1...       14972        4461          94     29        2\n",
       "3  0022133222330201  POLYGON((-160.043334960938 70.6344840663086, -...        6253        2818          91      1        1\n",
       "4  0022202203233313  POLYGON((-179.478149414062 68.9169336615194, -...         700         126        1090      1        1"
      ]
     },
     "execution_count": 35,
     "metadata": {},
     "output_type": "execute_result"
    }
   ],
   "source": [
    "fixed.head()"
   ]
  },
  {
   "cell_type": "code",
   "execution_count": 36,
   "id": "374be97f-f3fc-4348-97ad-2d668a659395",
   "metadata": {},
   "outputs": [
    {
     "data": {
      "text/plain": [
       "quadkey       object\n",
       "tile          object\n",
       "avg_d_kbps     int64\n",
       "avg_u_kbps     int64\n",
       "avg_lat_ms     int64\n",
       "tests          int64\n",
       "devices        int64\n",
       "dtype: object"
      ]
     },
     "execution_count": 36,
     "metadata": {},
     "output_type": "execute_result"
    }
   ],
   "source": [
    "fixed.dtypes"
   ]
  },
  {
   "cell_type": "markdown",
   "id": "01c7b194-89e0-4e71-b18f-330f28a04c09",
   "metadata": {},
   "source": [
    "The data is now a Pandas `DataFrame` but this needs to be converted to a `GeoDataFrame` by converting the `tile` column into a `geometry` with a `crs` (Coordinate Reference System).\n",
    "\n",
    "See [EPSG:4326](https://epsg.io/4326) for more details about the CRS.\n",
    "\n",
    "Converting the data can also take a minute or two."
   ]
  },
  {
   "cell_type": "code",
   "execution_count": 37,
   "id": "9254e1e5-2e95-4b82-92f3-83a96c9785e8",
   "metadata": {},
   "outputs": [
    {
     "name": "stdout",
     "output_type": "stream",
     "text": [
      "CPU times: user 30.1 s, sys: 1.55 s, total: 31.6 s\n",
      "Wall time: 31.3 s\n"
     ]
    }
   ],
   "source": [
    "%%time\n",
    "fixed[\"geometry\"] = gpd.GeoSeries.from_wkt(fixed.tile, crs=\"EPSG:4326\")"
   ]
  },
  {
   "cell_type": "code",
   "execution_count": 38,
   "id": "dab820d6-a7a3-458d-aa9d-88d9b57de79b",
   "metadata": {},
   "outputs": [
    {
     "data": {
      "text/html": [
       "<div>\n",
       "<style scoped>\n",
       "    .dataframe tbody tr th:only-of-type {\n",
       "        vertical-align: middle;\n",
       "    }\n",
       "\n",
       "    .dataframe tbody tr th {\n",
       "        vertical-align: top;\n",
       "    }\n",
       "\n",
       "    .dataframe thead th {\n",
       "        text-align: right;\n",
       "    }\n",
       "</style>\n",
       "<table border=\"1\" class=\"dataframe\">\n",
       "  <thead>\n",
       "    <tr style=\"text-align: right;\">\n",
       "      <th></th>\n",
       "      <th>quadkey</th>\n",
       "      <th>tile</th>\n",
       "      <th>avg_d_kbps</th>\n",
       "      <th>avg_u_kbps</th>\n",
       "      <th>avg_lat_ms</th>\n",
       "      <th>tests</th>\n",
       "      <th>devices</th>\n",
       "      <th>geometry</th>\n",
       "    </tr>\n",
       "  </thead>\n",
       "  <tbody>\n",
       "    <tr>\n",
       "      <th>0</th>\n",
       "      <td>0000122200000000</td>\n",
       "      <td>POLYGON((-168.75 84.1249731939109, -168.744506...</td>\n",
       "      <td>97075</td>\n",
       "      <td>42458</td>\n",
       "      <td>65</td>\n",
       "      <td>7</td>\n",
       "      <td>1</td>\n",
       "      <td>POLYGON ((-168.75000 84.12497, -168.74451 84.1...</td>\n",
       "    </tr>\n",
       "    <tr>\n",
       "      <th>1</th>\n",
       "      <td>0022133222312322</td>\n",
       "      <td>POLYGON((-160.02685546875 70.6435894914449, -1...</td>\n",
       "      <td>8324</td>\n",
       "      <td>3798</td>\n",
       "      <td>91</td>\n",
       "      <td>2</td>\n",
       "      <td>1</td>\n",
       "      <td>POLYGON ((-160.02686 70.64359, -160.02136 70.6...</td>\n",
       "    </tr>\n",
       "    <tr>\n",
       "      <th>2</th>\n",
       "      <td>0022133222330100</td>\n",
       "      <td>POLYGON((-160.02685546875 70.6417687358462, -1...</td>\n",
       "      <td>14972</td>\n",
       "      <td>4461</td>\n",
       "      <td>94</td>\n",
       "      <td>29</td>\n",
       "      <td>2</td>\n",
       "      <td>POLYGON ((-160.02686 70.64177, -160.02136 70.6...</td>\n",
       "    </tr>\n",
       "    <tr>\n",
       "      <th>3</th>\n",
       "      <td>0022133222330201</td>\n",
       "      <td>POLYGON((-160.043334960938 70.6344840663086, -...</td>\n",
       "      <td>6253</td>\n",
       "      <td>2818</td>\n",
       "      <td>91</td>\n",
       "      <td>1</td>\n",
       "      <td>1</td>\n",
       "      <td>POLYGON ((-160.04333 70.63448, -160.03784 70.6...</td>\n",
       "    </tr>\n",
       "    <tr>\n",
       "      <th>4</th>\n",
       "      <td>0022202203233313</td>\n",
       "      <td>POLYGON((-179.478149414062 68.9169336615194, -...</td>\n",
       "      <td>700</td>\n",
       "      <td>126</td>\n",
       "      <td>1090</td>\n",
       "      <td>1</td>\n",
       "      <td>1</td>\n",
       "      <td>POLYGON ((-179.47815 68.91693, -179.47266 68.9...</td>\n",
       "    </tr>\n",
       "  </tbody>\n",
       "</table>\n",
       "</div>"
      ],
      "text/plain": [
       "            quadkey                                               tile  avg_d_kbps  avg_u_kbps  avg_lat_ms  tests  devices                                           geometry\n",
       "0  0000122200000000  POLYGON((-168.75 84.1249731939109, -168.744506...       97075       42458          65      7        1  POLYGON ((-168.75000 84.12497, -168.74451 84.1...\n",
       "1  0022133222312322  POLYGON((-160.02685546875 70.6435894914449, -1...        8324        3798          91      2        1  POLYGON ((-160.02686 70.64359, -160.02136 70.6...\n",
       "2  0022133222330100  POLYGON((-160.02685546875 70.6417687358462, -1...       14972        4461          94     29        2  POLYGON ((-160.02686 70.64177, -160.02136 70.6...\n",
       "3  0022133222330201  POLYGON((-160.043334960938 70.6344840663086, -...        6253        2818          91      1        1  POLYGON ((-160.04333 70.63448, -160.03784 70.6...\n",
       "4  0022202203233313  POLYGON((-179.478149414062 68.9169336615194, -...         700         126        1090      1        1  POLYGON ((-179.47815 68.91693, -179.47266 68.9..."
      ]
     },
     "execution_count": 38,
     "metadata": {},
     "output_type": "execute_result"
    }
   ],
   "source": [
    "fixed.head()"
   ]
  },
  {
   "cell_type": "code",
   "execution_count": 39,
   "id": "b8164e99-2363-46b8-8a49-de1e3e882a6e",
   "metadata": {},
   "outputs": [
    {
     "name": "stdout",
     "output_type": "stream",
     "text": [
      "CPU times: user 515 ms, sys: 95.8 ms, total: 610 ms\n",
      "Wall time: 606 ms\n"
     ]
    }
   ],
   "source": [
    "%%time\n",
    "fixed.drop(columns=[\"tile\"], inplace=True)"
   ]
  },
  {
   "cell_type": "code",
   "execution_count": 40,
   "id": "004e4c2e-9e6e-4bd3-81f5-2887e989255e",
   "metadata": {},
   "outputs": [
    {
     "name": "stdout",
     "output_type": "stream",
     "text": [
      "CPU times: user 71.8 ms, sys: 61.1 ms, total: 133 ms\n",
      "Wall time: 131 ms\n"
     ]
    }
   ],
   "source": [
    "%%time\n",
    "fixed = gpd.GeoDataFrame(fixed, geometry=\"geometry\", crs=\"EPSG:4326\")"
   ]
  },
  {
   "cell_type": "markdown",
   "id": "35ff62dc-5deb-4ad1-9d61-e547cdc5ea54",
   "metadata": {},
   "source": [
    "### Validate AOI and Data Geometries\n",
    "\n",
    "In order to prevent more headaches as we process and analyze geospatial datasets down the line, it is prudent to check \n",
    "that our datasets have valid geometries.\n",
    "\n",
    "We can use the `geowrangler.validation` module to check as well fix these problems."
   ]
  },
  {
   "cell_type": "code",
   "execution_count": 41,
   "id": "b115aba3-8b60-41fa-b6f8-5c46bf09fc85",
   "metadata": {},
   "outputs": [],
   "source": [
    "from geowrangler.validation import GeometryValidation"
   ]
  },
  {
   "cell_type": "markdown",
   "id": "d022088a-d672-4ac4-9ad7-cc305f6f3b3c",
   "metadata": {},
   "source": [
    "#### Validate AOI"
   ]
  },
  {
   "cell_type": "code",
   "execution_count": 42,
   "id": "c53ec61f-46eb-4ff9-950e-7f4800077b75",
   "metadata": {},
   "outputs": [],
   "source": [
    "admin3_gvm = GeometryValidation(admin3)"
   ]
  },
  {
   "cell_type": "code",
   "execution_count": 43,
   "id": "44700266-63e5-4850-8081-b3f1358f7e51",
   "metadata": {},
   "outputs": [
    {
     "name": "stdout",
     "output_type": "stream",
     "text": [
      "CPU times: user 306 ms, sys: 1.56 ms, total: 308 ms\n",
      "Wall time: 306 ms\n"
     ]
    }
   ],
   "source": [
    "%%time\n",
    "valid_admin3 = admin3_gvm.validate_all()"
   ]
  },
  {
   "cell_type": "code",
   "execution_count": 44,
   "id": "4bf71c9f-daac-47b6-91f0-0e661dedd7c7",
   "metadata": {},
   "outputs": [
    {
     "data": {
      "text/html": [
       "<div>\n",
       "<style scoped>\n",
       "    .dataframe tbody tr th:only-of-type {\n",
       "        vertical-align: middle;\n",
       "    }\n",
       "\n",
       "    .dataframe tbody tr th {\n",
       "        vertical-align: top;\n",
       "    }\n",
       "\n",
       "    .dataframe thead th {\n",
       "        text-align: right;\n",
       "    }\n",
       "</style>\n",
       "<table border=\"1\" class=\"dataframe\">\n",
       "  <thead>\n",
       "    <tr style=\"text-align: right;\">\n",
       "      <th></th>\n",
       "      <th>Shape_Leng</th>\n",
       "      <th>Shape_Area</th>\n",
       "      <th>ADM3_EN</th>\n",
       "      <th>ADM3_PCODE</th>\n",
       "      <th>ADM3_REF</th>\n",
       "      <th>ADM3ALT1EN</th>\n",
       "      <th>ADM3ALT2EN</th>\n",
       "      <th>ADM2_EN</th>\n",
       "      <th>ADM2_PCODE</th>\n",
       "      <th>ADM1_EN</th>\n",
       "      <th>ADM1_PCODE</th>\n",
       "      <th>ADM0_EN</th>\n",
       "      <th>ADM0_PCODE</th>\n",
       "      <th>date</th>\n",
       "      <th>validOn</th>\n",
       "      <th>validTo</th>\n",
       "      <th>geometry</th>\n",
       "      <th>is_not_null</th>\n",
       "      <th>is_not_self_intersecting</th>\n",
       "      <th>is_oriented_properly</th>\n",
       "      <th>is_within_crs_bounds</th>\n",
       "      <th>area_is_not_zero</th>\n",
       "    </tr>\n",
       "  </thead>\n",
       "  <tbody>\n",
       "    <tr>\n",
       "      <th>211</th>\n",
       "      <td>0.037803</td>\n",
       "      <td>0.000056</td>\n",
       "      <td>Binondo</td>\n",
       "      <td>PH133902000</td>\n",
       "      <td>None</td>\n",
       "      <td>None</td>\n",
       "      <td>None</td>\n",
       "      <td>NCR, City of Manila, First District</td>\n",
       "      <td>PH133900000</td>\n",
       "      <td>National Capital Region</td>\n",
       "      <td>PH130000000</td>\n",
       "      <td>Philippines (the)</td>\n",
       "      <td>PH</td>\n",
       "      <td>2016-06-30</td>\n",
       "      <td>2020-05-29</td>\n",
       "      <td>None</td>\n",
       "      <td>POLYGON ((120.97738 14.60226, 120.97765 14.602...</td>\n",
       "      <td>True</td>\n",
       "      <td>True</td>\n",
       "      <td>False</td>\n",
       "      <td>True</td>\n",
       "      <td>True</td>\n",
       "    </tr>\n",
       "    <tr>\n",
       "      <th>308</th>\n",
       "      <td>0.692758</td>\n",
       "      <td>0.004468</td>\n",
       "      <td>Caloocan City</td>\n",
       "      <td>PH137501000</td>\n",
       "      <td>None</td>\n",
       "      <td>None</td>\n",
       "      <td>None</td>\n",
       "      <td>NCR, Third District</td>\n",
       "      <td>PH137500000</td>\n",
       "      <td>National Capital Region</td>\n",
       "      <td>PH130000000</td>\n",
       "      <td>Philippines (the)</td>\n",
       "      <td>PH</td>\n",
       "      <td>2016-06-30</td>\n",
       "      <td>2020-05-29</td>\n",
       "      <td>None</td>\n",
       "      <td>MULTIPOLYGON (((121.01856 14.69176, 121.01846 ...</td>\n",
       "      <td>True</td>\n",
       "      <td>True</td>\n",
       "      <td>False</td>\n",
       "      <td>True</td>\n",
       "      <td>True</td>\n",
       "    </tr>\n",
       "    <tr>\n",
       "      <th>395</th>\n",
       "      <td>0.362306</td>\n",
       "      <td>0.002745</td>\n",
       "      <td>City of Las Piñas</td>\n",
       "      <td>PH137601000</td>\n",
       "      <td>City of Las Pinas</td>\n",
       "      <td>None</td>\n",
       "      <td>None</td>\n",
       "      <td>NCR, Fourth District</td>\n",
       "      <td>PH137600000</td>\n",
       "      <td>National Capital Region</td>\n",
       "      <td>PH130000000</td>\n",
       "      <td>Philippines (the)</td>\n",
       "      <td>PH</td>\n",
       "      <td>2016-06-30</td>\n",
       "      <td>2020-05-29</td>\n",
       "      <td>None</td>\n",
       "      <td>MULTIPOLYGON (((120.98122 14.48720, 120.98077 ...</td>\n",
       "      <td>True</td>\n",
       "      <td>True</td>\n",
       "      <td>False</td>\n",
       "      <td>True</td>\n",
       "      <td>True</td>\n",
       "    </tr>\n",
       "    <tr>\n",
       "      <th>398</th>\n",
       "      <td>0.260317</td>\n",
       "      <td>0.002094</td>\n",
       "      <td>City of Makati</td>\n",
       "      <td>PH137602000</td>\n",
       "      <td>None</td>\n",
       "      <td>None</td>\n",
       "      <td>None</td>\n",
       "      <td>NCR, Fourth District</td>\n",
       "      <td>PH137600000</td>\n",
       "      <td>National Capital Region</td>\n",
       "      <td>PH130000000</td>\n",
       "      <td>Philippines (the)</td>\n",
       "      <td>PH</td>\n",
       "      <td>2016-06-30</td>\n",
       "      <td>2020-05-29</td>\n",
       "      <td>None</td>\n",
       "      <td>POLYGON ((121.03468 14.56725, 121.03416 14.567...</td>\n",
       "      <td>True</td>\n",
       "      <td>True</td>\n",
       "      <td>False</td>\n",
       "      <td>True</td>\n",
       "      <td>True</td>\n",
       "    </tr>\n",
       "    <tr>\n",
       "      <th>399</th>\n",
       "      <td>0.262034</td>\n",
       "      <td>0.001323</td>\n",
       "      <td>City of Malabon</td>\n",
       "      <td>PH137502000</td>\n",
       "      <td>None</td>\n",
       "      <td>None</td>\n",
       "      <td>None</td>\n",
       "      <td>NCR, Third District</td>\n",
       "      <td>PH137500000</td>\n",
       "      <td>National Capital Region</td>\n",
       "      <td>PH130000000</td>\n",
       "      <td>Philippines (the)</td>\n",
       "      <td>PH</td>\n",
       "      <td>2016-06-30</td>\n",
       "      <td>2020-05-29</td>\n",
       "      <td>None</td>\n",
       "      <td>POLYGON ((120.92733 14.70265, 120.92690 14.702...</td>\n",
       "      <td>True</td>\n",
       "      <td>True</td>\n",
       "      <td>False</td>\n",
       "      <td>True</td>\n",
       "      <td>True</td>\n",
       "    </tr>\n",
       "  </tbody>\n",
       "</table>\n",
       "</div>"
      ],
      "text/plain": [
       "     Shape_Leng  Shape_Area            ADM3_EN   ADM3_PCODE           ADM3_REF ADM3ALT1EN ADM3ALT2EN                              ADM2_EN   ADM2_PCODE                  ADM1_EN   ADM1_PCODE            ADM0_EN ADM0_PCODE        date     validOn validTo                                           geometry  is_not_null  is_not_self_intersecting  is_oriented_properly  is_within_crs_bounds  area_is_not_zero\n",
       "211    0.037803    0.000056            Binondo  PH133902000               None       None       None  NCR, City of Manila, First District  PH133900000  National Capital Region  PH130000000  Philippines (the)         PH  2016-06-30  2020-05-29    None  POLYGON ((120.97738 14.60226, 120.97765 14.602...         True                      True                 False                  True              True\n",
       "308    0.692758    0.004468      Caloocan City  PH137501000               None       None       None                  NCR, Third District  PH137500000  National Capital Region  PH130000000  Philippines (the)         PH  2016-06-30  2020-05-29    None  MULTIPOLYGON (((121.01856 14.69176, 121.01846 ...         True                      True                 False                  True              True\n",
       "395    0.362306    0.002745  City of Las Piñas  PH137601000  City of Las Pinas       None       None                 NCR, Fourth District  PH137600000  National Capital Region  PH130000000  Philippines (the)         PH  2016-06-30  2020-05-29    None  MULTIPOLYGON (((120.98122 14.48720, 120.98077 ...         True                      True                 False                  True              True\n",
       "398    0.260317    0.002094     City of Makati  PH137602000               None       None       None                 NCR, Fourth District  PH137600000  National Capital Region  PH130000000  Philippines (the)         PH  2016-06-30  2020-05-29    None  POLYGON ((121.03468 14.56725, 121.03416 14.567...         True                      True                 False                  True              True\n",
       "399    0.262034    0.001323    City of Malabon  PH137502000               None       None       None                  NCR, Third District  PH137500000  National Capital Region  PH130000000  Philippines (the)         PH  2016-06-30  2020-05-29    None  POLYGON ((120.92733 14.70265, 120.92690 14.702...         True                      True                 False                  True              True"
      ]
     },
     "execution_count": 44,
     "metadata": {},
     "output_type": "execute_result"
    }
   ],
   "source": [
    "valid_admin3.head()"
   ]
  },
  {
   "cell_type": "code",
   "execution_count": 45,
   "id": "68d77869-6013-45a4-babb-ba7c8f7f7dd7",
   "metadata": {
    "tags": []
   },
   "outputs": [],
   "source": [
    "valid_cols = [\n",
    "    \"is_oriented_properly\",\n",
    "    \"is_not_null\",\n",
    "    \"is_not_self_intersecting\",\n",
    "    \"is_within_crs_bounds\",\n",
    "    \"area_is_not_zero\",\n",
    "]"
   ]
  },
  {
   "cell_type": "code",
   "execution_count": 46,
   "id": "2df9d710-0de7-4904-aa1c-446430585905",
   "metadata": {},
   "outputs": [
    {
     "data": {
      "text/plain": [
       "[False    30\n",
       " Name: is_oriented_properly, dtype: int64,\n",
       " True    30\n",
       " Name: is_not_null, dtype: int64,\n",
       " True    30\n",
       " Name: is_not_self_intersecting, dtype: int64,\n",
       " True    30\n",
       " Name: is_within_crs_bounds, dtype: int64,\n",
       " True    30\n",
       " Name: area_is_not_zero, dtype: int64]"
      ]
     },
     "execution_count": 46,
     "metadata": {},
     "output_type": "execute_result"
    }
   ],
   "source": [
    "[valid_admin3[col].value_counts() for col in valid_cols]"
   ]
  },
  {
   "cell_type": "markdown",
   "id": "42ff040b-ae69-42aa-99bc-4c286453a16e",
   "metadata": {
    "tags": []
   },
   "source": [
    "So the admin areas have their geometry _improperly oriented_ (i.e. layed out in a counter clockwise direction instead of clockwise direction) and\n",
    "this has been fixed, but passes all the other default validations."
   ]
  },
  {
   "cell_type": "code",
   "execution_count": 47,
   "id": "4c70a12b-1f9b-4b4e-bd23-de32923d9ee3",
   "metadata": {},
   "outputs": [],
   "source": [
    "valid_admin3.drop(\n",
    "    columns=valid_cols,\n",
    "    inplace=True,\n",
    ")"
   ]
  },
  {
   "cell_type": "markdown",
   "id": "6fa0cd36-7465-471e-a356-36e4c6200b63",
   "metadata": {
    "tags": []
   },
   "source": [
    "#### Validate Data Geometries\n",
    "\n",
    "Before validating, let's filter the data to only those intersecting our AOI because we don't need to check all the data from around the world\n",
    "when we're only interested in our AOI.\n",
    "\n",
    "Before we validate, we need to create the spatial indexes for both the AOI and data geometries. Generating the spatial \n",
    "indexes of the data geometries can take a minute or two due to the size of the data and their geometries."
   ]
  },
  {
   "cell_type": "code",
   "execution_count": 48,
   "id": "46ecadee-805a-4aa4-a7a9-e544b1f6c071",
   "metadata": {},
   "outputs": [
    {
     "name": "stdout",
     "output_type": "stream",
     "text": [
      "CPU times: user 1.12 ms, sys: 541 µs, total: 1.66 ms\n",
      "Wall time: 1.61 ms\n"
     ]
    },
    {
     "data": {
      "text/plain": [
       "<geopandas.sindex.PyGEOSSTRTreeIndex at 0x7f6e434b17f0>"
      ]
     },
     "execution_count": 48,
     "metadata": {},
     "output_type": "execute_result"
    }
   ],
   "source": [
    "%%time\n",
    "valid_admin3.geometry.sindex"
   ]
  },
  {
   "cell_type": "code",
   "execution_count": 49,
   "id": "7e9b73fc-6bf4-475a-af1a-be417f15c28b",
   "metadata": {},
   "outputs": [
    {
     "name": "stdout",
     "output_type": "stream",
     "text": [
      "CPU times: user 6.12 s, sys: 4.01 s, total: 10.1 s\n",
      "Wall time: 10.1 s\n"
     ]
    },
    {
     "data": {
      "text/plain": [
       "<geopandas.sindex.PyGEOSSTRTreeIndex at 0x7f6e434b1880>"
      ]
     },
     "execution_count": 49,
     "metadata": {},
     "output_type": "execute_result"
    }
   ],
   "source": [
    "%%time\n",
    "fixed.geometry.sindex"
   ]
  },
  {
   "cell_type": "markdown",
   "id": "096d88fe-aee7-4707-9bfd-ee2be87b6a14",
   "metadata": {},
   "source": [
    "Lets now filter the data (`filtered_fixed`). \n",
    "\n",
    "Filtering the data using a spatial join can also take a minute or two."
   ]
  },
  {
   "cell_type": "code",
   "execution_count": 50,
   "id": "cea62825-b28e-4392-86b5-fe7423b78edf",
   "metadata": {},
   "outputs": [
    {
     "name": "stdout",
     "output_type": "stream",
     "text": [
      "CPU times: user 1.97 s, sys: 688 ms, total: 2.66 s\n",
      "Wall time: 2.67 s\n"
     ]
    }
   ],
   "source": [
    "%%time\n",
    "filtered_fixed = fixed.sjoin(\n",
    "    valid_admin3[[\"geometry\"]], how=\"inner\", predicate=\"intersects\"\n",
    ")"
   ]
  },
  {
   "cell_type": "code",
   "execution_count": 51,
   "id": "86780b3e-62c8-4df1-ab9c-fbd85a255b3c",
   "metadata": {},
   "outputs": [],
   "source": [
    "filtered_fixed.drop(columns=[\"index_right\"], inplace=True)"
   ]
  },
  {
   "cell_type": "code",
   "execution_count": 52,
   "id": "04acfb15-d0b6-4474-ae31-a12c6ae1c502",
   "metadata": {},
   "outputs": [],
   "source": [
    "fixed_gvm = GeometryValidation(filtered_fixed)"
   ]
  },
  {
   "cell_type": "code",
   "execution_count": 53,
   "id": "cf4b88b8-6620-419c-a12f-8b150aea3ae5",
   "metadata": {},
   "outputs": [
    {
     "name": "stdout",
     "output_type": "stream",
     "text": [
      "CPU times: user 676 ms, sys: 0 ns, total: 676 ms\n",
      "Wall time: 673 ms\n"
     ]
    }
   ],
   "source": [
    "%%time\n",
    "valid_fixed = fixed_gvm.validate_all()"
   ]
  },
  {
   "cell_type": "code",
   "execution_count": 54,
   "id": "7b64a35b-57ca-4851-b20f-dfe74993d231",
   "metadata": {},
   "outputs": [
    {
     "name": "stdout",
     "output_type": "stream",
     "text": [
      "CPU times: user 1.96 ms, sys: 961 µs, total: 2.92 ms\n",
      "Wall time: 2.28 ms\n"
     ]
    },
    {
     "data": {
      "text/plain": [
       "[False    2300\n",
       " Name: is_oriented_properly, dtype: int64,\n",
       " True    2300\n",
       " Name: is_not_null, dtype: int64,\n",
       " True    2300\n",
       " Name: is_not_self_intersecting, dtype: int64,\n",
       " True    2300\n",
       " Name: is_within_crs_bounds, dtype: int64,\n",
       " True    2300\n",
       " Name: area_is_not_zero, dtype: int64]"
      ]
     },
     "execution_count": 54,
     "metadata": {},
     "output_type": "execute_result"
    }
   ],
   "source": [
    "%%time\n",
    "[valid_fixed[col].value_counts() for col in valid_cols]"
   ]
  },
  {
   "cell_type": "markdown",
   "id": "10965d71-d154-42eb-9f24-61cdda57d1a3",
   "metadata": {},
   "source": [
    "Again the data geometries have an improperly oriented geometry and have been fixed by the validator"
   ]
  },
  {
   "cell_type": "code",
   "execution_count": 55,
   "id": "85508f64-1665-4e36-b009-edc673dbbd68",
   "metadata": {},
   "outputs": [],
   "source": [
    "valid_fixed.drop(columns=valid_cols, inplace=True)\n",
    "filtered_fixed = valid_fixed"
   ]
  },
  {
   "cell_type": "markdown",
   "id": "99561576-51a9-4212-8809-5faea6fa8c75",
   "metadata": {},
   "source": [
    "![filtered fixed ookla data](images/fixed-ookla-admin3-ncr-2020q2.png)"
   ]
  },
  {
   "cell_type": "code",
   "execution_count": 56,
   "id": "840d9ff1-d470-4848-8374-fcb368b9dad8",
   "metadata": {},
   "outputs": [],
   "source": [
    "# hide\n",
    "# uncomment the statement below to show an interactive map\n",
    "# filtered_fixed.explore(column='avg_d_kbps', cmap='viridis', tooltip='avg_d_kbps')"
   ]
  },
  {
   "cell_type": "markdown",
   "id": "zsrOIkCtvGWV",
   "metadata": {
    "id": "zsrOIkCtvGWV"
   },
   "source": [
    "\n",
    "### Generate Zonal Stats\n"
   ]
  },
  {
   "cell_type": "markdown",
   "id": "ede1073e-5d4a-4513-8ee1-ebff62d5353e",
   "metadata": {},
   "source": [
    "Lets now generate the zonal stats -- the statistics of the data we are interested in."
   ]
  },
  {
   "cell_type": "code",
   "execution_count": 57,
   "id": "055c2c87-728a-4659-be9a-d39dc39e0a2c",
   "metadata": {},
   "outputs": [
    {
     "data": {
      "text/html": [
       "<div>\n",
       "<style scoped>\n",
       "    .dataframe tbody tr th:only-of-type {\n",
       "        vertical-align: middle;\n",
       "    }\n",
       "\n",
       "    .dataframe tbody tr th {\n",
       "        vertical-align: top;\n",
       "    }\n",
       "\n",
       "    .dataframe thead th {\n",
       "        text-align: right;\n",
       "    }\n",
       "</style>\n",
       "<table border=\"1\" class=\"dataframe\">\n",
       "  <thead>\n",
       "    <tr style=\"text-align: right;\">\n",
       "      <th></th>\n",
       "      <th>quadkey</th>\n",
       "      <th>avg_d_kbps</th>\n",
       "      <th>avg_u_kbps</th>\n",
       "      <th>avg_lat_ms</th>\n",
       "      <th>tests</th>\n",
       "      <th>devices</th>\n",
       "      <th>geometry</th>\n",
       "    </tr>\n",
       "  </thead>\n",
       "  <tbody>\n",
       "    <tr>\n",
       "      <th>5646006</th>\n",
       "      <td>1323030313311323</td>\n",
       "      <td>43565</td>\n",
       "      <td>47889</td>\n",
       "      <td>8</td>\n",
       "      <td>93</td>\n",
       "      <td>23</td>\n",
       "      <td>POLYGON ((120.92102 14.73770, 120.92102 14.732...</td>\n",
       "    </tr>\n",
       "    <tr>\n",
       "      <th>5646008</th>\n",
       "      <td>1323030313311332</td>\n",
       "      <td>72579</td>\n",
       "      <td>91717</td>\n",
       "      <td>11</td>\n",
       "      <td>149</td>\n",
       "      <td>36</td>\n",
       "      <td>POLYGON ((120.92651 14.73770, 120.92651 14.732...</td>\n",
       "    </tr>\n",
       "    <tr>\n",
       "      <th>5646009</th>\n",
       "      <td>1323030313311333</td>\n",
       "      <td>52572</td>\n",
       "      <td>67337</td>\n",
       "      <td>3</td>\n",
       "      <td>1</td>\n",
       "      <td>1</td>\n",
       "      <td>POLYGON ((120.93201 14.73770, 120.93201 14.732...</td>\n",
       "    </tr>\n",
       "    <tr>\n",
       "      <th>5646018</th>\n",
       "      <td>1323030313313110</td>\n",
       "      <td>63548</td>\n",
       "      <td>77538</td>\n",
       "      <td>14</td>\n",
       "      <td>601</td>\n",
       "      <td>69</td>\n",
       "      <td>POLYGON ((120.92651 14.73239, 120.92651 14.727...</td>\n",
       "    </tr>\n",
       "    <tr>\n",
       "      <th>5646019</th>\n",
       "      <td>1323030313313111</td>\n",
       "      <td>105903</td>\n",
       "      <td>103874</td>\n",
       "      <td>13</td>\n",
       "      <td>115</td>\n",
       "      <td>22</td>\n",
       "      <td>POLYGON ((120.93201 14.73239, 120.93201 14.727...</td>\n",
       "    </tr>\n",
       "  </tbody>\n",
       "</table>\n",
       "</div>"
      ],
      "text/plain": [
       "                  quadkey  avg_d_kbps  avg_u_kbps  avg_lat_ms  tests  devices                                           geometry\n",
       "5646006  1323030313311323       43565       47889           8     93       23  POLYGON ((120.92102 14.73770, 120.92102 14.732...\n",
       "5646008  1323030313311332       72579       91717          11    149       36  POLYGON ((120.92651 14.73770, 120.92651 14.732...\n",
       "5646009  1323030313311333       52572       67337           3      1        1  POLYGON ((120.93201 14.73770, 120.93201 14.732...\n",
       "5646018  1323030313313110       63548       77538          14    601       69  POLYGON ((120.92651 14.73239, 120.92651 14.727...\n",
       "5646019  1323030313313111      105903      103874          13    115       22  POLYGON ((120.93201 14.73239, 120.93201 14.727..."
      ]
     },
     "execution_count": 57,
     "metadata": {},
     "output_type": "execute_result"
    }
   ],
   "source": [
    "filtered_fixed.head()"
   ]
  },
  {
   "cell_type": "code",
   "execution_count": 58,
   "id": "43cc6792-18db-494d-ae1e-dfdafec36f96",
   "metadata": {},
   "outputs": [
    {
     "data": {
      "text/plain": [
       "['quadkey',\n",
       " 'avg_d_kbps',\n",
       " 'avg_u_kbps',\n",
       " 'avg_lat_ms',\n",
       " 'tests',\n",
       " 'devices',\n",
       " 'geometry']"
      ]
     },
     "execution_count": 58,
     "metadata": {},
     "output_type": "execute_result"
    }
   ],
   "source": [
    "list(filtered_fixed.columns.values)"
   ]
  },
  {
   "cell_type": "code",
   "execution_count": 59,
   "id": "3fab265e-908c-4a69-9da3-94204a8c16b8",
   "metadata": {},
   "outputs": [
    {
     "data": {
      "text/plain": [
       "2300"
      ]
     },
     "execution_count": 59,
     "metadata": {},
     "output_type": "execute_result"
    }
   ],
   "source": [
    "len(filtered_fixed)"
   ]
  },
  {
   "cell_type": "markdown",
   "id": "05a94f80-c021-4ab0-ba0e-0bdaaf514752",
   "metadata": {
    "tags": []
   },
   "source": [
    "Convert to planar CRS (since we are computing areas)"
   ]
  },
  {
   "cell_type": "code",
   "execution_count": 60,
   "id": "0a8e14d2-4113-4387-937e-b9f5129c9557",
   "metadata": {},
   "outputs": [
    {
     "name": "stdout",
     "output_type": "stream",
     "text": [
      "CPU times: user 38.6 ms, sys: 0 ns, total: 38.6 ms\n",
      "Wall time: 37.2 ms\n"
     ]
    }
   ],
   "source": [
    "%%time\n",
    "valid_admin3 = valid_admin3.to_crs(\"EPSG:3857\")"
   ]
  },
  {
   "cell_type": "code",
   "execution_count": 61,
   "id": "e8e2ff47-bba6-4a6c-9436-5988c9feeec3",
   "metadata": {},
   "outputs": [
    {
     "name": "stdout",
     "output_type": "stream",
     "text": [
      "CPU times: user 23.3 ms, sys: 1.52 ms, total: 24.8 ms\n",
      "Wall time: 23.4 ms\n"
     ]
    }
   ],
   "source": [
    "%%time\n",
    "filtered_fixed = filtered_fixed.to_crs(\"EPSG:3857\")"
   ]
  },
  {
   "cell_type": "markdown",
   "id": "64bc80d0-9639-4f88-bd8e-55dd4bee11c7",
   "metadata": {},
   "source": [
    "Lets save the files so we can retrieve them as necessary without having to reprocess them again."
   ]
  },
  {
   "cell_type": "code",
   "execution_count": 62,
   "id": "93ea17d1-532b-40b7-a17a-c67d6eb27dec",
   "metadata": {},
   "outputs": [
    {
     "name": "stdout",
     "output_type": "stream",
     "text": [
      "CPU times: user 539 ms, sys: 37.6 ms, total: 577 ms\n",
      "Wall time: 574 ms\n"
     ]
    }
   ],
   "source": [
    "%%time\n",
    "valid_admin3.to_file(\"../data/valid_admin3.geojson\", driver=\"GeoJSON\")"
   ]
  },
  {
   "cell_type": "code",
   "execution_count": 63,
   "id": "e7ee9053-5726-456d-a941-293db991c3d6",
   "metadata": {},
   "outputs": [
    {
     "name": "stdout",
     "output_type": "stream",
     "text": [
      "CPU times: user 583 ms, sys: 38.6 ms, total: 622 ms\n",
      "Wall time: 620 ms\n"
     ]
    }
   ],
   "source": [
    "%%time\n",
    "filtered_fixed.to_file(\"../data/filtered_fixed.geojson\", driver=\"GeoJSON\")"
   ]
  },
  {
   "cell_type": "code",
   "execution_count": 64,
   "id": "d5f76eab-e106-4f26-8c1e-5ccb62d9144b",
   "metadata": {},
   "outputs": [],
   "source": [
    "# %%time\n",
    "# valid_admin3 = gpd.read_file(\"../data/valid_admin3.geojson\")"
   ]
  },
  {
   "cell_type": "code",
   "execution_count": 65,
   "id": "029d9c9e-d502-499c-ab91-4cdd9ab75089",
   "metadata": {},
   "outputs": [],
   "source": [
    "# %%time\n",
    "# filtered_fixed = gpd.read_file(\"../data/filtered_fixed.geojson\")"
   ]
  },
  {
   "cell_type": "markdown",
   "id": "18564198-65c3-4218-8168-34a53265e63c",
   "metadata": {},
   "source": [
    "We want the following statistics - `mean` (aka average), `min` (minimum), `max` (maximum) and the standard deviation (`std`)\n",
    "for the 3 data columns that ookla provides - average download speed (`avg_d_kbps`), average upload speed (`avg_u_kbps`) and average latency in milliseconds (`avg_lat_ms`)"
   ]
  },
  {
   "cell_type": "code",
   "execution_count": 66,
   "id": "aa1b3b4a-0ab7-4431-91d3-d2a001ac8c27",
   "metadata": {},
   "outputs": [],
   "source": [
    "funcs = [\"mean\", \"min\", \"max\", \"std\"]\n",
    "columns = [\"avg_d_kbps\", \"avg_u_kbps\", \"avg_lat_ms\"]"
   ]
  },
  {
   "cell_type": "code",
   "execution_count": 67,
   "id": "9c659af8-48fb-4621-b42f-5c97622ef54c",
   "metadata": {},
   "outputs": [],
   "source": [
    "aggregations = [dict(func=funcs, column=c) for c in columns]"
   ]
  },
  {
   "cell_type": "markdown",
   "id": "d069555b-09c0-455c-baec-3afb9fe4cb6b",
   "metadata": {},
   "source": [
    "These are the aggregations to be performed for each data column"
   ]
  },
  {
   "cell_type": "code",
   "execution_count": 68,
   "id": "c069d560-8c21-4c75-a0ea-5ac1e1171ee7",
   "metadata": {},
   "outputs": [
    {
     "data": {
      "text/plain": [
       "[{'func': ['mean', 'min', 'max', 'std'], 'column': 'avg_d_kbps'},\n",
       " {'func': ['mean', 'min', 'max', 'std'], 'column': 'avg_u_kbps'},\n",
       " {'func': ['mean', 'min', 'max', 'std'], 'column': 'avg_lat_ms'}]"
      ]
     },
     "execution_count": 68,
     "metadata": {},
     "output_type": "execute_result"
    }
   ],
   "source": [
    "aggregations"
   ]
  },
  {
   "cell_type": "markdown",
   "id": "eb5af0bb-1da0-4f4a-b3c0-2db0dc498cf8",
   "metadata": {},
   "source": [
    "The output columns use the default `{column}_{func}` format if not explicitly specified."
   ]
  },
  {
   "cell_type": "code",
   "execution_count": 69,
   "id": "00af125d-e5b2-4a7c-bdde-09dbbc73c845",
   "metadata": {},
   "outputs": [
    {
     "name": "stdout",
     "output_type": "stream",
     "text": [
      "CPU times: user 3.74 s, sys: 0 ns, total: 3.74 s\n",
      "Wall time: 3.73 s\n"
     ]
    }
   ],
   "source": [
    "%%time\n",
    "aoi = azs.create_area_zonal_stats(\n",
    "    valid_admin3, filtered_fixed, aggregations=aggregations\n",
    ")"
   ]
  },
  {
   "cell_type": "markdown",
   "id": "jaQ-k7BlvI2W",
   "metadata": {
    "id": "jaQ-k7BlvI2W",
    "tags": []
   },
   "source": [
    "\n",
    "### Analyze Zonal Stats\n"
   ]
  },
  {
   "cell_type": "markdown",
   "id": "afb22a09-a64b-4a94-823a-0e4d37dadd09",
   "metadata": {
    "tags": []
   },
   "source": [
    "These are the results - the same dataframe as the original, with the addition of zonal statistics we specified as the aggregations."
   ]
  },
  {
   "cell_type": "code",
   "execution_count": 70,
   "id": "44b4c4f4-1641-4f5a-8d37-bffbef2ae6dd",
   "metadata": {
    "tags": []
   },
   "outputs": [
    {
     "data": {
      "text/html": [
       "<div>\n",
       "<style scoped>\n",
       "    .dataframe tbody tr th:only-of-type {\n",
       "        vertical-align: middle;\n",
       "    }\n",
       "\n",
       "    .dataframe tbody tr th {\n",
       "        vertical-align: top;\n",
       "    }\n",
       "\n",
       "    .dataframe thead th {\n",
       "        text-align: right;\n",
       "    }\n",
       "</style>\n",
       "<table border=\"1\" class=\"dataframe\">\n",
       "  <thead>\n",
       "    <tr style=\"text-align: right;\">\n",
       "      <th></th>\n",
       "      <th>Shape_Leng</th>\n",
       "      <th>Shape_Area</th>\n",
       "      <th>ADM3_EN</th>\n",
       "      <th>ADM3_PCODE</th>\n",
       "      <th>ADM3_REF</th>\n",
       "      <th>ADM3ALT1EN</th>\n",
       "      <th>ADM3ALT2EN</th>\n",
       "      <th>ADM2_EN</th>\n",
       "      <th>ADM2_PCODE</th>\n",
       "      <th>ADM1_EN</th>\n",
       "      <th>ADM1_PCODE</th>\n",
       "      <th>ADM0_EN</th>\n",
       "      <th>ADM0_PCODE</th>\n",
       "      <th>date</th>\n",
       "      <th>validOn</th>\n",
       "      <th>validTo</th>\n",
       "      <th>geometry</th>\n",
       "      <th>intersect_area_sum</th>\n",
       "      <th>avg_d_kbps_mean</th>\n",
       "      <th>avg_d_kbps_min</th>\n",
       "      <th>avg_d_kbps_max</th>\n",
       "      <th>avg_d_kbps_std</th>\n",
       "      <th>avg_u_kbps_mean</th>\n",
       "      <th>avg_u_kbps_min</th>\n",
       "      <th>avg_u_kbps_max</th>\n",
       "      <th>avg_u_kbps_std</th>\n",
       "      <th>avg_lat_ms_mean</th>\n",
       "      <th>avg_lat_ms_min</th>\n",
       "      <th>avg_lat_ms_max</th>\n",
       "      <th>avg_lat_ms_std</th>\n",
       "    </tr>\n",
       "  </thead>\n",
       "  <tbody>\n",
       "    <tr>\n",
       "      <th>211</th>\n",
       "      <td>0.037803</td>\n",
       "      <td>0.000056</td>\n",
       "      <td>Binondo</td>\n",
       "      <td>PH133902000</td>\n",
       "      <td>None</td>\n",
       "      <td>None</td>\n",
       "      <td>None</td>\n",
       "      <td>NCR, City of Manila, First District</td>\n",
       "      <td>PH133900000</td>\n",
       "      <td>National Capital Region</td>\n",
       "      <td>PH130000000</td>\n",
       "      <td>Philippines (the)</td>\n",
       "      <td>PH</td>\n",
       "      <td>2016-06-30</td>\n",
       "      <td>2020-05-29</td>\n",
       "      <td>None</td>\n",
       "      <td>POLYGON ((13467140.279 1643403.808, 13467170.0...</td>\n",
       "      <td>2.330890e+06</td>\n",
       "      <td>15125.377199</td>\n",
       "      <td>0.0</td>\n",
       "      <td>97827</td>\n",
       "      <td>4141.081774</td>\n",
       "      <td>12152.916247</td>\n",
       "      <td>0.0</td>\n",
       "      <td>80923</td>\n",
       "      <td>5625.791089</td>\n",
       "      <td>1.228832</td>\n",
       "      <td>0.0</td>\n",
       "      <td>8</td>\n",
       "      <td>0.923381</td>\n",
       "    </tr>\n",
       "    <tr>\n",
       "      <th>308</th>\n",
       "      <td>0.692758</td>\n",
       "      <td>0.004468</td>\n",
       "      <td>Caloocan City</td>\n",
       "      <td>PH137501000</td>\n",
       "      <td>None</td>\n",
       "      <td>None</td>\n",
       "      <td>None</td>\n",
       "      <td>NCR, Third District</td>\n",
       "      <td>PH137500000</td>\n",
       "      <td>National Capital Region</td>\n",
       "      <td>PH130000000</td>\n",
       "      <td>Philippines (the)</td>\n",
       "      <td>PH</td>\n",
       "      <td>2016-06-30</td>\n",
       "      <td>2020-05-29</td>\n",
       "      <td>None</td>\n",
       "      <td>MULTIPOLYGON (((13471724.654 1653701.565, 1347...</td>\n",
       "      <td>7.425998e+07</td>\n",
       "      <td>309.956521</td>\n",
       "      <td>0.0</td>\n",
       "      <td>123236</td>\n",
       "      <td>15346.775252</td>\n",
       "      <td>307.716950</td>\n",
       "      <td>0.0</td>\n",
       "      <td>117885</td>\n",
       "      <td>15118.576034</td>\n",
       "      <td>0.035243</td>\n",
       "      <td>0.0</td>\n",
       "      <td>59</td>\n",
       "      <td>6.147227</td>\n",
       "    </tr>\n",
       "    <tr>\n",
       "      <th>395</th>\n",
       "      <td>0.362306</td>\n",
       "      <td>0.002745</td>\n",
       "      <td>City of Las Piñas</td>\n",
       "      <td>PH137601000</td>\n",
       "      <td>City of Las Pinas</td>\n",
       "      <td>None</td>\n",
       "      <td>None</td>\n",
       "      <td>NCR, Fourth District</td>\n",
       "      <td>PH137600000</td>\n",
       "      <td>National Capital Region</td>\n",
       "      <td>PH130000000</td>\n",
       "      <td>Philippines (the)</td>\n",
       "      <td>PH</td>\n",
       "      <td>2016-06-30</td>\n",
       "      <td>2020-05-29</td>\n",
       "      <td>None</td>\n",
       "      <td>MULTIPOLYGON (((13467568.063 1630171.435, 1346...</td>\n",
       "      <td>4.080667e+07</td>\n",
       "      <td>649.603501</td>\n",
       "      <td>0.0</td>\n",
       "      <td>175810</td>\n",
       "      <td>22328.120899</td>\n",
       "      <td>555.324817</td>\n",
       "      <td>0.0</td>\n",
       "      <td>136167</td>\n",
       "      <td>19944.226971</td>\n",
       "      <td>0.045298</td>\n",
       "      <td>0.0</td>\n",
       "      <td>146</td>\n",
       "      <td>11.110505</td>\n",
       "    </tr>\n",
       "    <tr>\n",
       "      <th>398</th>\n",
       "      <td>0.260317</td>\n",
       "      <td>0.002094</td>\n",
       "      <td>City of Makati</td>\n",
       "      <td>PH137602000</td>\n",
       "      <td>None</td>\n",
       "      <td>None</td>\n",
       "      <td>None</td>\n",
       "      <td>NCR, Fourth District</td>\n",
       "      <td>PH137600000</td>\n",
       "      <td>National Capital Region</td>\n",
       "      <td>PH130000000</td>\n",
       "      <td>Philippines (the)</td>\n",
       "      <td>PH</td>\n",
       "      <td>2016-06-30</td>\n",
       "      <td>2020-05-29</td>\n",
       "      <td>None</td>\n",
       "      <td>POLYGON ((13473518.917 1639376.906, 13473461.1...</td>\n",
       "      <td>3.840895e+07</td>\n",
       "      <td>765.462383</td>\n",
       "      <td>0.0</td>\n",
       "      <td>159496</td>\n",
       "      <td>16771.721664</td>\n",
       "      <td>663.200995</td>\n",
       "      <td>0.0</td>\n",
       "      <td>144939</td>\n",
       "      <td>17818.361374</td>\n",
       "      <td>0.091436</td>\n",
       "      <td>0.0</td>\n",
       "      <td>25</td>\n",
       "      <td>5.288884</td>\n",
       "    </tr>\n",
       "    <tr>\n",
       "      <th>399</th>\n",
       "      <td>0.262034</td>\n",
       "      <td>0.001323</td>\n",
       "      <td>City of Malabon</td>\n",
       "      <td>PH137502000</td>\n",
       "      <td>None</td>\n",
       "      <td>None</td>\n",
       "      <td>None</td>\n",
       "      <td>NCR, Third District</td>\n",
       "      <td>PH137500000</td>\n",
       "      <td>National Capital Region</td>\n",
       "      <td>PH130000000</td>\n",
       "      <td>Philippines (the)</td>\n",
       "      <td>PH</td>\n",
       "      <td>2016-06-30</td>\n",
       "      <td>2020-05-29</td>\n",
       "      <td>None</td>\n",
       "      <td>POLYGON ((13461569.031 1654955.161, 13461520.7...</td>\n",
       "      <td>2.583556e+07</td>\n",
       "      <td>1006.838781</td>\n",
       "      <td>0.0</td>\n",
       "      <td>119622</td>\n",
       "      <td>13444.542392</td>\n",
       "      <td>933.345049</td>\n",
       "      <td>0.0</td>\n",
       "      <td>130002</td>\n",
       "      <td>14309.585589</td>\n",
       "      <td>0.096779</td>\n",
       "      <td>0.0</td>\n",
       "      <td>17</td>\n",
       "      <td>2.893162</td>\n",
       "    </tr>\n",
       "  </tbody>\n",
       "</table>\n",
       "</div>"
      ],
      "text/plain": [
       "     Shape_Leng  Shape_Area            ADM3_EN   ADM3_PCODE           ADM3_REF ADM3ALT1EN ADM3ALT2EN                              ADM2_EN   ADM2_PCODE                  ADM1_EN   ADM1_PCODE            ADM0_EN ADM0_PCODE        date     validOn validTo                                           geometry  intersect_area_sum  avg_d_kbps_mean  avg_d_kbps_min  avg_d_kbps_max  avg_d_kbps_std  avg_u_kbps_mean  avg_u_kbps_min  avg_u_kbps_max  avg_u_kbps_std  avg_lat_ms_mean  avg_lat_ms_min  avg_lat_ms_max  avg_lat_ms_std\n",
       "211    0.037803    0.000056            Binondo  PH133902000               None       None       None  NCR, City of Manila, First District  PH133900000  National Capital Region  PH130000000  Philippines (the)         PH  2016-06-30  2020-05-29    None  POLYGON ((13467140.279 1643403.808, 13467170.0...        2.330890e+06     15125.377199             0.0           97827     4141.081774     12152.916247             0.0           80923     5625.791089         1.228832             0.0               8        0.923381\n",
       "308    0.692758    0.004468      Caloocan City  PH137501000               None       None       None                  NCR, Third District  PH137500000  National Capital Region  PH130000000  Philippines (the)         PH  2016-06-30  2020-05-29    None  MULTIPOLYGON (((13471724.654 1653701.565, 1347...        7.425998e+07       309.956521             0.0          123236    15346.775252       307.716950             0.0          117885    15118.576034         0.035243             0.0              59        6.147227\n",
       "395    0.362306    0.002745  City of Las Piñas  PH137601000  City of Las Pinas       None       None                 NCR, Fourth District  PH137600000  National Capital Region  PH130000000  Philippines (the)         PH  2016-06-30  2020-05-29    None  MULTIPOLYGON (((13467568.063 1630171.435, 1346...        4.080667e+07       649.603501             0.0          175810    22328.120899       555.324817             0.0          136167    19944.226971         0.045298             0.0             146       11.110505\n",
       "398    0.260317    0.002094     City of Makati  PH137602000               None       None       None                 NCR, Fourth District  PH137600000  National Capital Region  PH130000000  Philippines (the)         PH  2016-06-30  2020-05-29    None  POLYGON ((13473518.917 1639376.906, 13473461.1...        3.840895e+07       765.462383             0.0          159496    16771.721664       663.200995             0.0          144939    17818.361374         0.091436             0.0              25        5.288884\n",
       "399    0.262034    0.001323    City of Malabon  PH137502000               None       None       None                  NCR, Third District  PH137500000  National Capital Region  PH130000000  Philippines (the)         PH  2016-06-30  2020-05-29    None  POLYGON ((13461569.031 1654955.161, 13461520.7...        2.583556e+07      1006.838781             0.0          119622    13444.542392       933.345049             0.0          130002    14309.585589         0.096779             0.0              17        2.893162"
      ]
     },
     "execution_count": 70,
     "metadata": {},
     "output_type": "execute_result"
    }
   ],
   "source": [
    "aoi.head()"
   ]
  },
  {
   "cell_type": "markdown",
   "id": "5dfab782-0707-4fea-9bc2-aae3b5e42aca",
   "metadata": {},
   "source": [
    "Lets save the results "
   ]
  },
  {
   "cell_type": "code",
   "execution_count": 71,
   "id": "f303907c-62e6-40d5-9fd5-4c99ea39860a",
   "metadata": {
    "tags": []
   },
   "outputs": [
    {
     "name": "stdout",
     "output_type": "stream",
     "text": [
      "CPU times: user 415 ms, sys: 12.3 ms, total: 428 ms\n",
      "Wall time: 424 ms\n"
     ]
    }
   ],
   "source": [
    "%%time\n",
    "aoi.to_file(\"../data/admin3_internet_aoi.geojson\", driver=\"GeoJSON\")"
   ]
  },
  {
   "cell_type": "code",
   "execution_count": 72,
   "id": "f928d3af-9f82-4812-807d-a073d01e66b6",
   "metadata": {},
   "outputs": [
    {
     "data": {
      "text/plain": [
       "['Shape_Leng',\n",
       " 'Shape_Area',\n",
       " 'ADM3_EN',\n",
       " 'ADM3_PCODE',\n",
       " 'ADM3_REF',\n",
       " 'ADM3ALT1EN',\n",
       " 'ADM3ALT2EN',\n",
       " 'ADM2_EN',\n",
       " 'ADM2_PCODE',\n",
       " 'ADM1_EN',\n",
       " 'ADM1_PCODE',\n",
       " 'ADM0_EN',\n",
       " 'ADM0_PCODE',\n",
       " 'date',\n",
       " 'validOn',\n",
       " 'validTo',\n",
       " 'geometry',\n",
       " 'intersect_area_sum',\n",
       " 'avg_d_kbps_mean',\n",
       " 'avg_d_kbps_min',\n",
       " 'avg_d_kbps_max',\n",
       " 'avg_d_kbps_std',\n",
       " 'avg_u_kbps_mean',\n",
       " 'avg_u_kbps_min',\n",
       " 'avg_u_kbps_max',\n",
       " 'avg_u_kbps_std',\n",
       " 'avg_lat_ms_mean',\n",
       " 'avg_lat_ms_min',\n",
       " 'avg_lat_ms_max',\n",
       " 'avg_lat_ms_std']"
      ]
     },
     "execution_count": 72,
     "metadata": {},
     "output_type": "execute_result"
    }
   ],
   "source": [
    "list(aoi.columns.values)"
   ]
  },
  {
   "cell_type": "markdown",
   "id": "7123cca8-7d36-4fe9-ad5d-1892892e2c48",
   "metadata": {},
   "source": [
    "Let's sort the different admin level 3 areas (cities/municipalities/district) by average download speed (`avg_d_kbps_mean`)  in descending order"
   ]
  },
  {
   "cell_type": "code",
   "execution_count": 73,
   "id": "97099816-94c5-426b-9ce0-a94d1823e12d",
   "metadata": {},
   "outputs": [
    {
     "name": "stdout",
     "output_type": "stream",
     "text": [
      "CPU times: user 3.72 ms, sys: 0 ns, total: 3.72 ms\n",
      "Wall time: 3.16 ms\n"
     ]
    }
   ],
   "source": [
    "%%time\n",
    "fastest_mean_download = aoi.sort_values(\"avg_d_kbps_mean\", ascending=False)"
   ]
  },
  {
   "cell_type": "code",
   "execution_count": 74,
   "id": "b79ed5ca-35fd-4486-aff8-bb6e2b3a667c",
   "metadata": {},
   "outputs": [
    {
     "data": {
      "text/plain": [
       "30"
      ]
     },
     "execution_count": 74,
     "metadata": {},
     "output_type": "execute_result"
    }
   ],
   "source": [
    "len(fastest_mean_download)"
   ]
  },
  {
   "cell_type": "markdown",
   "id": "bf2ff63d-a765-4e98-b329-a9164d393de4",
   "metadata": {},
   "source": [
    "So according the latest ookla data (as of this writing) the district/town/province within the NCR Region with the fastest average download speed is **Binondo**!! :)"
   ]
  },
  {
   "cell_type": "code",
   "execution_count": 75,
   "id": "f97ca617-a2fe-4891-ad0d-3de47b7ea3a8",
   "metadata": {},
   "outputs": [
    {
     "data": {
      "text/plain": [
       "Shape_Leng                                                     0.037803\n",
       "Shape_Area                                                     0.000056\n",
       "ADM3_EN                                                         Binondo\n",
       "ADM3_PCODE                                                  PH133902000\n",
       "ADM3_REF                                                           None\n",
       "ADM3ALT1EN                                                         None\n",
       "ADM3ALT2EN                                                         None\n",
       "ADM2_EN                             NCR, City of Manila, First District\n",
       "ADM2_PCODE                                                  PH133900000\n",
       "ADM1_EN                                         National Capital Region\n",
       "ADM1_PCODE                                                  PH130000000\n",
       "ADM0_EN                                               Philippines (the)\n",
       "ADM0_PCODE                                                           PH\n",
       "date                                                         2016-06-30\n",
       "validOn                                                      2020-05-29\n",
       "validTo                                                            None\n",
       "geometry              POLYGON ((13467140.2793258 1643403.80801774, 1...\n",
       "intersect_area_sum                                       2330890.174196\n",
       "avg_d_kbps_mean                                            15125.377199\n",
       "avg_d_kbps_min                                                      0.0\n",
       "avg_d_kbps_max                                                    97827\n",
       "avg_d_kbps_std                                              4141.081774\n",
       "avg_u_kbps_mean                                            12152.916247\n",
       "avg_u_kbps_min                                                      0.0\n",
       "avg_u_kbps_max                                                    80923\n",
       "avg_u_kbps_std                                              5625.791089\n",
       "avg_lat_ms_mean                                                1.228832\n",
       "avg_lat_ms_min                                                      0.0\n",
       "avg_lat_ms_max                                                        8\n",
       "avg_lat_ms_std                                                 0.923381\n",
       "Name: 211, dtype: object"
      ]
     },
     "execution_count": 75,
     "metadata": {},
     "output_type": "execute_result"
    }
   ],
   "source": [
    "fastest_mean_download.iloc[0]"
   ]
  },
  {
   "cell_type": "markdown",
   "id": "3446ab5f-0331-46ed-88b6-544f184835b9",
   "metadata": {},
   "source": [
    "While the district/city/municipality within the NCR Regions with the slowest average download speed is **Quezon City**!!! "
   ]
  },
  {
   "cell_type": "code",
   "execution_count": 76,
   "id": "7af62fe8-19a3-40fd-b4d0-2f40aeb20fdb",
   "metadata": {},
   "outputs": [
    {
     "data": {
      "text/plain": [
       "Shape_Leng                                                     0.773902\n",
       "Shape_Area                                                      0.01363\n",
       "ADM3_EN                                                     Quezon City\n",
       "ADM3_PCODE                                                  PH137404000\n",
       "ADM3_REF                                                           None\n",
       "ADM3ALT1EN                                                         None\n",
       "ADM3ALT2EN                                                         None\n",
       "ADM2_EN                                            NCR, Second District\n",
       "ADM2_PCODE                                                  PH137400000\n",
       "ADM1_EN                                         National Capital Region\n",
       "ADM1_PCODE                                                  PH130000000\n",
       "ADM0_EN                                               Philippines (the)\n",
       "ADM0_PCODE                                                           PH\n",
       "date                                                         2016-06-30\n",
       "validOn                                                      2020-05-29\n",
       "validTo                                                            None\n",
       "geometry              POLYGON ((13484683.37714301 1663482.482347114,...\n",
       "intersect_area_sum                                      174544789.29521\n",
       "avg_d_kbps_mean                                              145.111131\n",
       "avg_d_kbps_min                                                      0.0\n",
       "avg_d_kbps_max                                                   269544\n",
       "avg_d_kbps_std                                             20232.269854\n",
       "avg_u_kbps_mean                                              133.033955\n",
       "avg_u_kbps_min                                                      0.0\n",
       "avg_u_kbps_max                                                   260425\n",
       "avg_u_kbps_std                                             20141.871761\n",
       "avg_lat_ms_mean                                                0.011798\n",
       "avg_lat_ms_min                                                      0.0\n",
       "avg_lat_ms_max                                                       29\n",
       "avg_lat_ms_std                                                  2.90016\n",
       "Name: 1191, dtype: object"
      ]
     },
     "execution_count": 76,
     "metadata": {},
     "output_type": "execute_result"
    }
   ],
   "source": [
    "fastest_mean_download.iloc[-1]"
   ]
  },
  {
   "cell_type": "markdown",
   "id": "7f57df1e-4c60-4e0f-a764-6ba57bec28b4",
   "metadata": {},
   "source": [
    "The top 5 fastest areas are"
   ]
  },
  {
   "cell_type": "code",
   "execution_count": 77,
   "id": "aadf0459-e05c-495e-855e-4d8cf9d60a5c",
   "metadata": {},
   "outputs": [
    {
     "data": {
      "text/html": [
       "<div>\n",
       "<style scoped>\n",
       "    .dataframe tbody tr th:only-of-type {\n",
       "        vertical-align: middle;\n",
       "    }\n",
       "\n",
       "    .dataframe tbody tr th {\n",
       "        vertical-align: top;\n",
       "    }\n",
       "\n",
       "    .dataframe thead th {\n",
       "        text-align: right;\n",
       "    }\n",
       "</style>\n",
       "<table border=\"1\" class=\"dataframe\">\n",
       "  <thead>\n",
       "    <tr style=\"text-align: right;\">\n",
       "      <th></th>\n",
       "      <th>ADM3_EN</th>\n",
       "      <th>ADM2_EN</th>\n",
       "      <th>avg_d_kbps_mean</th>\n",
       "    </tr>\n",
       "  </thead>\n",
       "  <tbody>\n",
       "    <tr>\n",
       "      <th>211</th>\n",
       "      <td>Binondo</td>\n",
       "      <td>NCR, City of Manila, First District</td>\n",
       "      <td>15125.377199</td>\n",
       "    </tr>\n",
       "    <tr>\n",
       "      <th>1343</th>\n",
       "      <td>San Nicolas</td>\n",
       "      <td>NCR, City of Manila, First District</td>\n",
       "      <td>10897.783018</td>\n",
       "    </tr>\n",
       "    <tr>\n",
       "      <th>1192</th>\n",
       "      <td>Quiapo</td>\n",
       "      <td>NCR, City of Manila, First District</td>\n",
       "      <td>9799.121085</td>\n",
       "    </tr>\n",
       "    <tr>\n",
       "      <th>1336</th>\n",
       "      <td>San Miguel</td>\n",
       "      <td>NCR, City of Manila, First District</td>\n",
       "      <td>8708.791412</td>\n",
       "    </tr>\n",
       "    <tr>\n",
       "      <th>1112</th>\n",
       "      <td>Pateros</td>\n",
       "      <td>NCR, Fourth District</td>\n",
       "      <td>7581.975774</td>\n",
       "    </tr>\n",
       "  </tbody>\n",
       "</table>\n",
       "</div>"
      ],
      "text/plain": [
       "          ADM3_EN                              ADM2_EN  avg_d_kbps_mean\n",
       "211       Binondo  NCR, City of Manila, First District     15125.377199\n",
       "1343  San Nicolas  NCR, City of Manila, First District     10897.783018\n",
       "1192       Quiapo  NCR, City of Manila, First District      9799.121085\n",
       "1336   San Miguel  NCR, City of Manila, First District      8708.791412\n",
       "1112      Pateros                 NCR, Fourth District      7581.975774"
      ]
     },
     "execution_count": 77,
     "metadata": {},
     "output_type": "execute_result"
    }
   ],
   "source": [
    "fastest_mean_download[[\"ADM3_EN\", \"ADM2_EN\", \"avg_d_kbps_mean\"]].head()"
   ]
  },
  {
   "cell_type": "markdown",
   "id": "806ccd10-c322-4887-91f7-cedccc97a6fd",
   "metadata": {},
   "source": [
    "The top 5 slowest areas are"
   ]
  },
  {
   "cell_type": "code",
   "execution_count": 78,
   "id": "175d329b-c7dc-4e0e-b2b8-4f37fd48b88c",
   "metadata": {},
   "outputs": [
    {
     "data": {
      "text/html": [
       "<div>\n",
       "<style scoped>\n",
       "    .dataframe tbody tr th:only-of-type {\n",
       "        vertical-align: middle;\n",
       "    }\n",
       "\n",
       "    .dataframe tbody tr th {\n",
       "        vertical-align: top;\n",
       "    }\n",
       "\n",
       "    .dataframe thead th {\n",
       "        text-align: right;\n",
       "    }\n",
       "</style>\n",
       "<table border=\"1\" class=\"dataframe\">\n",
       "  <thead>\n",
       "    <tr style=\"text-align: right;\">\n",
       "      <th></th>\n",
       "      <th>ADM3_EN</th>\n",
       "      <th>ADM2_EN</th>\n",
       "      <th>avg_d_kbps_mean</th>\n",
       "    </tr>\n",
       "  </thead>\n",
       "  <tbody>\n",
       "    <tr>\n",
       "      <th>1521</th>\n",
       "      <td>Taguig City</td>\n",
       "      <td>NCR, Fourth District</td>\n",
       "      <td>531.559943</td>\n",
       "    </tr>\n",
       "    <tr>\n",
       "      <th>411</th>\n",
       "      <td>City of Parañaque</td>\n",
       "      <td>NCR, Fourth District</td>\n",
       "      <td>470.491966</td>\n",
       "    </tr>\n",
       "    <tr>\n",
       "      <th>436</th>\n",
       "      <td>City of Valenzuela</td>\n",
       "      <td>NCR, Third District</td>\n",
       "      <td>420.083766</td>\n",
       "    </tr>\n",
       "    <tr>\n",
       "      <th>308</th>\n",
       "      <td>Caloocan City</td>\n",
       "      <td>NCR, Third District</td>\n",
       "      <td>309.956521</td>\n",
       "    </tr>\n",
       "    <tr>\n",
       "      <th>1191</th>\n",
       "      <td>Quezon City</td>\n",
       "      <td>NCR, Second District</td>\n",
       "      <td>145.111131</td>\n",
       "    </tr>\n",
       "  </tbody>\n",
       "</table>\n",
       "</div>"
      ],
      "text/plain": [
       "                 ADM3_EN               ADM2_EN  avg_d_kbps_mean\n",
       "1521         Taguig City  NCR, Fourth District       531.559943\n",
       "411    City of Parañaque  NCR, Fourth District       470.491966\n",
       "436   City of Valenzuela   NCR, Third District       420.083766\n",
       "308        Caloocan City   NCR, Third District       309.956521\n",
       "1191         Quezon City  NCR, Second District       145.111131"
      ]
     },
     "execution_count": 78,
     "metadata": {},
     "output_type": "execute_result"
    }
   ],
   "source": [
    "fastest_mean_download[[\"ADM3_EN\", \"ADM2_EN\", \"avg_d_kbps_mean\"]].tail()"
   ]
  },
  {
   "cell_type": "code",
   "execution_count": 79,
   "id": "64712071-46f8-47d4-8676-b3901771c7fd",
   "metadata": {},
   "outputs": [
    {
     "data": {
      "image/png": "[encoded data removed]",
      "text/plain": [
       "<Figure size 432x288 with 1 Axes>"
      ]
     },
     "metadata": {
      "needs_background": "light"
     },
     "output_type": "display_data"
    }
   ],
   "source": [
    "ax = plt.axes()\n",
    "ax = fastest_mean_download.plot(ax=ax, facecolor=\"none\", edgecolor=\"blue\")\n",
    "ax = fastest_mean_download.iloc[:1].plot(ax=ax, facecolor=\"red\", edgecolor=\"red\")\n",
    "ax = fastest_mean_download.iloc[29:].plot(ax=ax, facecolor=\"green\", edgecolor=\"green\")\n",
    "ax = fastest_mean_download.plot(ax=ax, column=\"avg_d_kbps_mean\", alpha=0.8)"
   ]
  },
  {
   "cell_type": "markdown",
   "id": "97306eb0-1077-412e-9567-11775ea874f0",
   "metadata": {},
   "source": [
    "![fastest fixed ookla by adm3](images/fastest-fixed-ookla-by-adm3.png)"
   ]
  },
  {
   "cell_type": "code",
   "execution_count": 80,
   "id": "a2e3ca71-d2ed-4927-ac43-483282bdf633",
   "metadata": {},
   "outputs": [],
   "source": [
    "# hide\n",
    "# uncomment the statement below to show an interactive map\n",
    "# fastest_mean_download.explore(column='avg_d_kbps_mean',cmap='viridis', tooltip='avg_d_kbps_mean')"
   ]
  },
  {
   "cell_type": "markdown",
   "id": "1b6ab38b-db24-4a3c-8ffd-be841e83db7d",
   "metadata": {},
   "source": [
    "So now, we've answered the question of where the fastest/slowest internet speeds are for the National Capital Region (NCR)"
   ]
  },
  {
   "cell_type": "markdown",
   "id": "88f66142-537f-40cb-a928-47d0e5c9e40d",
   "metadata": {
    "id": "88f66142-537f-40cb-a928-47d0e5c9e40d"
   },
   "source": [
    "### Additional Exercises\n",
    "\n",
    "You can further experiment and try out other exercises to explore ookla data, or even try it out using\n",
    "a different country using a different geodataset from the Humanitarian Data Exchange site. \n",
    "\n",
    "The following are more exercises you can try:\n",
    "\n",
    "* Repeat the same process to find the fastest and slowest **mobile** internet speeds\n",
    "* Repeat the same process for a different REGION_FILTER\n",
    "* Aggregate by adm2 level instead of adm3\n"
   ]
  }
 ],
 "metadata": {
  "colab": {
   "name": "geowrangler-quick-overview.ipynb",
   "provenance": [
    {
     "file_id": "https://github.com/thinkingmachines/geowrangler/blob/master/notebooks/tutorial.area_zonal_stats.ipynb",
     "timestamp": 1661157253550
    }
   ]
  },
  "kernelspec": {
   "display_name": "Python 3",
   "language": "python",
   "name": "python3"
  },
  "language_info": {
   "codemirror_mode": {
    "name": "ipython",
    "version": 3
   },
   "file_extension": ".py",
   "mimetype": "text/x-python",
   "name": "python",
   "nbconvert_exporter": "python",
   "pygments_lexer": "ipython3",
   "version": "3.9.13"
  }
 },
 "nbformat": 4,
 "nbformat_minor": 5
}
