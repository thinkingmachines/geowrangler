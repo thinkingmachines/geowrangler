{
 "cells": [
  {
   "cell_type": "code",
   "execution_count": 1,
   "id": "1a12bdc5-566a-409c-ae39-3636f131c65d",
   "metadata": {
    "id": "1a12bdc5-566a-409c-ae39-3636f131c65d"
   },
   "outputs": [],
   "source": [
    "# hide\n",
    "# all_slow"
   ]
  },
  {
   "cell_type": "code",
   "execution_count": 2,
   "id": "4832ee28-c56f-454b-ac7d-eb35158220c8",
   "metadata": {
    "id": "4832ee28-c56f-454b-ac7d-eb35158220c8"
   },
   "outputs": [],
   "source": [
    "# hide\n",
    "# no_test\n",
    "! [ -e /content ] && pip install -Uqq git+https://github.com/thinkingmachines/geowrangler.git"
   ]
  },
  {
   "cell_type": "code",
   "execution_count": 3,
   "id": "8dadc39a-8b5f-41fc-9e78-e62f710ae0bb",
   "metadata": {
    "id": "8dadc39a-8b5f-41fc-9e78-e62f710ae0bb"
   },
   "outputs": [],
   "source": [
    "# hide\n",
    "# no_test\n",
    "!mkdir -p ../data\n",
    "![ -e /content ] && ln -s ../data ."
   ]
  },
  {
   "cell_type": "code",
   "execution_count": 1,
   "id": "f59a0b84-0de7-414a-be2e-3e5d3b94b000",
   "metadata": {
    "id": "f59a0b84-0de7-414a-be2e-3e5d3b94b000"
   },
   "outputs": [],
   "source": [
    "# hide\n",
    "# no_test\n",
    "%reload_ext autoreload\n",
    "%autoreload 2\n",
    "%matplotlib inline"
   ]
  },
  {
   "cell_type": "markdown",
   "id": "c0338fb8-6b7f-451d-9af2-cb45778b1038",
   "metadata": {
    "id": "c0338fb8-6b7f-451d-9af2-cb45778b1038",
    "tags": []
   },
   "source": [
    "# Geowrangler Overview - Ookla Demo"
   ]
  },
  {
   "cell_type": "markdown",
   "id": "39db2a30-2b96-4ef1-bae0-1499a79dab2f",
   "metadata": {
    "id": "39db2a30-2b96-4ef1-bae0-1499a79dab2f"
   },
   "source": [
    "> Sample demo for using geowrangler to find the Philippine provinces/towns with the slowest/fastest internet speeds.  "
   ]
  },
  {
   "cell_type": "markdown",
   "id": "zhqGVIF5uOmX",
   "metadata": {
    "id": "zhqGVIF5uOmX"
   },
   "source": [
    "## Summary"
   ]
  },
  {
   "cell_type": "markdown",
   "id": "26a4ef83-0f9b-43be-b2cc-e292c7ea4ca1",
   "metadata": {
    "id": "26a4ef83-0f9b-43be-b2cc-e292c7ea4ca1",
    "tags": []
   },
   "source": [
    "### How geowrangler can make this process easier\n",
    "* Help you download Ookla data (internet speed)\n",
    "* Generate zonal stats for your province/town\n",
    "\n",
    "### What you need to do\n",
    "\n",
    "* Get AOIs - get the boundaries of your admin regions\n"
   ]
  },
  {
   "cell_type": "code",
   "execution_count": 2,
   "id": "25607301-578f-488d-92bd-a2d8b91f1b2f",
   "metadata": {
    "id": "25607301-578f-488d-92bd-a2d8b91f1b2f"
   },
   "outputs": [],
   "source": [
    "# hide\n",
    "import warnings\n",
    "\n",
    "warnings.filterwarnings(action=\"ignore\", category=UserWarning, module=\"geopandas\")"
   ]
  },
  {
   "cell_type": "code",
   "execution_count": 3,
   "id": "82012947-cc3e-4b8b-850e-dcd565ad160d",
   "metadata": {
    "id": "82012947-cc3e-4b8b-850e-dcd565ad160d"
   },
   "outputs": [],
   "source": [
    "import geopandas as gpd\n",
    "import matplotlib.pyplot as plt\n",
    "import geowrangler.area_zonal_stats as azs"
   ]
  },
  {
   "cell_type": "code",
   "execution_count": 27,
   "id": "4e88f0e6-d03c-4f14-83da-4b3c13970f06",
   "metadata": {},
   "outputs": [],
   "source": [
    "import pandas as pd\n",
    "\n",
    "pd.set_option(\"display.max_columns\", 500)\n",
    "pd.set_option(\"display.width\", 1000)"
   ]
  },
  {
   "cell_type": "code",
   "execution_count": 4,
   "id": "e0a7872a-e5be-4b3f-a7ae-f9d77c36f4f6",
   "metadata": {
    "id": "e0a7872a-e5be-4b3f-a7ae-f9d77c36f4f6"
   },
   "outputs": [],
   "source": [
    "# hide\n",
    "# no_test\n",
    "!mkdir -p ../data\n",
    "# download sample geojson files from repo\n",
    "# ![ ! -e ../data/region3_population_bgy_level.geojson ] && curl -s -o ../data/region3_population_bgy_level.geojson https://raw.githubusercontent.com/thinkingmachines/geowrangler/master/data/region3_population_bgy_level.geojson"
   ]
  },
  {
   "cell_type": "markdown",
   "id": "0G_7-gWfuXS7",
   "metadata": {
    "id": "0G_7-gWfuXS7"
   },
   "source": [
    "## Tutorial "
   ]
  },
  {
   "cell_type": "markdown",
   "id": "agheFrwBubQx",
   "metadata": {
    "id": "agheFrwBubQx"
   },
   "source": [
    "### Download Admin Areas\n",
    "\n",
    "* Get [data from Humanitarian Data Exchange](https://data.humdata.org/dataset/cod-ab-phl)  "
   ]
  },
  {
   "cell_type": "code",
   "execution_count": 5,
   "id": "2f1f58e5-f202-43a9-807a-25958dc15b56",
   "metadata": {},
   "outputs": [],
   "source": [
    "phl_admin3_file = \"phl_adminboundaries_candidate_adm3\"\n",
    "phl_admin3_zip = f\"{phl_admin3_file}.zip\"\n",
    "# shapefiles\n",
    "phl_admin3_link = f\"https://data.humdata.org/dataset/caf116df-f984-4deb-85ca-41b349d3f313/resource/12457689-6a86-4474-8032-5ca9464d38a8/download/{phl_admin3_zip}\""
   ]
  },
  {
   "cell_type": "code",
   "execution_count": 9,
   "id": "7c0dab3f-9f36-4eac-9e15-ed42c39a824b",
   "metadata": {},
   "outputs": [
    {
     "name": "stdout",
     "output_type": "stream",
     "text": [
      "zsh:[:1: ']' expected\n",
      "CPU times: user 8.34 ms, sys: 0 ns, total: 8.34 ms\n",
      "Wall time: 111 ms\n"
     ]
    }
   ],
   "source": [
    "%%time\n",
    "![ ! -e ../data/{phl_admin3_zip}] && -curl -L -o ../data/{phl_admin3_zip} {phl_admin3_link}"
   ]
  },
  {
   "cell_type": "code",
   "execution_count": 10,
   "id": "c1ef633d-e4be-4eab-bbae-d16f052c38f5",
   "metadata": {},
   "outputs": [],
   "source": [
    "!mkdir -p ../data/{phl_admin3_file}"
   ]
  },
  {
   "cell_type": "code",
   "execution_count": 11,
   "id": "c3fac509-20ce-40a5-8bea-97775a4393f7",
   "metadata": {},
   "outputs": [],
   "source": [
    "main_file = \"phl_admbnda_adm3_psa_namria_20200529\"\n",
    "phl_admin3_shp = f\"../data/{phl_admin3_file}/{main_file}.shp\""
   ]
  },
  {
   "cell_type": "code",
   "execution_count": 12,
   "id": "a7db3cef-6123-4d52-af11-3f0f70eb14aa",
   "metadata": {},
   "outputs": [
    {
     "name": "stdout",
     "output_type": "stream",
     "text": [
      "CPU times: user 6.88 ms, sys: 788 µs, total: 7.66 ms\n",
      "Wall time: 111 ms\n"
     ]
    }
   ],
   "source": [
    "%%time\n",
    "![ ! -e {phl_admin3_shp} ] && unzip -d ../data/{phl_admin3_file} ../data/{phl_admin3_zip}"
   ]
  },
  {
   "cell_type": "code",
   "execution_count": 13,
   "id": "1d66af46-02d8-496a-9fd7-fe597cb927ac",
   "metadata": {},
   "outputs": [
    {
     "name": "stdout",
     "output_type": "stream",
     "text": [
      "CPU times: user 3.54 s, sys: 277 ms, total: 3.82 s\n",
      "Wall time: 4 s\n"
     ]
    }
   ],
   "source": [
    "%%time\n",
    "admin3 = gpd.read_file(phl_admin3_shp)"
   ]
  },
  {
   "cell_type": "code",
   "execution_count": 14,
   "id": "41e18049-3aba-4b81-a2a3-e0948eb11927",
   "metadata": {},
   "outputs": [
    {
     "data": {
      "text/html": [
       "<div>\n",
       "<style scoped>\n",
       "    .dataframe tbody tr th:only-of-type {\n",
       "        vertical-align: middle;\n",
       "    }\n",
       "\n",
       "    .dataframe tbody tr th {\n",
       "        vertical-align: top;\n",
       "    }\n",
       "\n",
       "    .dataframe thead th {\n",
       "        text-align: right;\n",
       "    }\n",
       "</style>\n",
       "<table border=\"1\" class=\"dataframe\">\n",
       "  <thead>\n",
       "    <tr style=\"text-align: right;\">\n",
       "      <th></th>\n",
       "      <th>Shape_Leng</th>\n",
       "      <th>Shape_Area</th>\n",
       "      <th>ADM3_EN</th>\n",
       "      <th>ADM3_PCODE</th>\n",
       "      <th>ADM3_REF</th>\n",
       "      <th>ADM3ALT1EN</th>\n",
       "      <th>ADM3ALT2EN</th>\n",
       "      <th>ADM2_EN</th>\n",
       "      <th>ADM2_PCODE</th>\n",
       "      <th>ADM1_EN</th>\n",
       "      <th>ADM1_PCODE</th>\n",
       "      <th>ADM0_EN</th>\n",
       "      <th>ADM0_PCODE</th>\n",
       "      <th>date</th>\n",
       "      <th>validOn</th>\n",
       "      <th>validTo</th>\n",
       "      <th>geometry</th>\n",
       "    </tr>\n",
       "  </thead>\n",
       "  <tbody>\n",
       "    <tr>\n",
       "      <th>0</th>\n",
       "      <td>1.601219</td>\n",
       "      <td>0.063496</td>\n",
       "      <td>Aborlan</td>\n",
       "      <td>PH175301000</td>\n",
       "      <td>None</td>\n",
       "      <td>None</td>\n",
       "      <td>None</td>\n",
       "      <td>Palawan</td>\n",
       "      <td>PH175300000</td>\n",
       "      <td>Region IV-B</td>\n",
       "      <td>PH170000000</td>\n",
       "      <td>Philippines (the)</td>\n",
       "      <td>PH</td>\n",
       "      <td>2016-06-30</td>\n",
       "      <td>2020-05-29</td>\n",
       "      <td>None</td>\n",
       "      <td>MULTIPOLYGON (((118.58350 9.37700, 118.58398 9...</td>\n",
       "    </tr>\n",
       "    <tr>\n",
       "      <th>1</th>\n",
       "      <td>1.078749</td>\n",
       "      <td>0.050232</td>\n",
       "      <td>Abra de Ilog</td>\n",
       "      <td>PH175101000</td>\n",
       "      <td>None</td>\n",
       "      <td>None</td>\n",
       "      <td>None</td>\n",
       "      <td>Occidental Mindoro</td>\n",
       "      <td>PH175100000</td>\n",
       "      <td>Region IV-B</td>\n",
       "      <td>PH170000000</td>\n",
       "      <td>Philippines (the)</td>\n",
       "      <td>PH</td>\n",
       "      <td>2016-06-30</td>\n",
       "      <td>2020-05-29</td>\n",
       "      <td>None</td>\n",
       "      <td>POLYGON ((120.58412 13.50198, 120.58420 13.501...</td>\n",
       "    </tr>\n",
       "    <tr>\n",
       "      <th>2</th>\n",
       "      <td>0.424301</td>\n",
       "      <td>0.006453</td>\n",
       "      <td>Abucay</td>\n",
       "      <td>PH030801000</td>\n",
       "      <td>None</td>\n",
       "      <td>None</td>\n",
       "      <td>None</td>\n",
       "      <td>Bataan</td>\n",
       "      <td>PH030800000</td>\n",
       "      <td>Region III</td>\n",
       "      <td>PH030000000</td>\n",
       "      <td>Philippines (the)</td>\n",
       "      <td>PH</td>\n",
       "      <td>2016-06-30</td>\n",
       "      <td>2020-05-29</td>\n",
       "      <td>None</td>\n",
       "      <td>POLYGON ((120.49873 14.75614, 120.49891 14.755...</td>\n",
       "    </tr>\n",
       "    <tr>\n",
       "      <th>3</th>\n",
       "      <td>0.566053</td>\n",
       "      <td>0.011343</td>\n",
       "      <td>Abulug</td>\n",
       "      <td>PH021501000</td>\n",
       "      <td>None</td>\n",
       "      <td>None</td>\n",
       "      <td>None</td>\n",
       "      <td>Cagayan</td>\n",
       "      <td>PH021500000</td>\n",
       "      <td>Region II</td>\n",
       "      <td>PH020000000</td>\n",
       "      <td>Philippines (the)</td>\n",
       "      <td>PH</td>\n",
       "      <td>2016-06-30</td>\n",
       "      <td>2020-05-29</td>\n",
       "      <td>None</td>\n",
       "      <td>POLYGON ((121.43455 18.46651, 121.43502 18.466...</td>\n",
       "    </tr>\n",
       "    <tr>\n",
       "      <th>4</th>\n",
       "      <td>1.013649</td>\n",
       "      <td>0.026124</td>\n",
       "      <td>Abuyog</td>\n",
       "      <td>PH083701000</td>\n",
       "      <td>None</td>\n",
       "      <td>None</td>\n",
       "      <td>None</td>\n",
       "      <td>Leyte</td>\n",
       "      <td>PH083700000</td>\n",
       "      <td>Region VIII</td>\n",
       "      <td>PH080000000</td>\n",
       "      <td>Philippines (the)</td>\n",
       "      <td>PH</td>\n",
       "      <td>2016-06-30</td>\n",
       "      <td>2020-05-29</td>\n",
       "      <td>None</td>\n",
       "      <td>MULTIPOLYGON (((125.02684 10.73500, 125.02683 ...</td>\n",
       "    </tr>\n",
       "  </tbody>\n",
       "</table>\n",
       "</div>"
      ],
      "text/plain": [
       "   Shape_Leng  Shape_Area       ADM3_EN   ADM3_PCODE ADM3_REF ADM3ALT1EN  \\\n",
       "0    1.601219    0.063496       Aborlan  PH175301000     None       None   \n",
       "1    1.078749    0.050232  Abra de Ilog  PH175101000     None       None   \n",
       "2    0.424301    0.006453        Abucay  PH030801000     None       None   \n",
       "3    0.566053    0.011343        Abulug  PH021501000     None       None   \n",
       "4    1.013649    0.026124        Abuyog  PH083701000     None       None   \n",
       "\n",
       "  ADM3ALT2EN             ADM2_EN   ADM2_PCODE      ADM1_EN   ADM1_PCODE  \\\n",
       "0       None             Palawan  PH175300000  Region IV-B  PH170000000   \n",
       "1       None  Occidental Mindoro  PH175100000  Region IV-B  PH170000000   \n",
       "2       None              Bataan  PH030800000   Region III  PH030000000   \n",
       "3       None             Cagayan  PH021500000    Region II  PH020000000   \n",
       "4       None               Leyte  PH083700000  Region VIII  PH080000000   \n",
       "\n",
       "             ADM0_EN ADM0_PCODE        date     validOn validTo  \\\n",
       "0  Philippines (the)         PH  2016-06-30  2020-05-29    None   \n",
       "1  Philippines (the)         PH  2016-06-30  2020-05-29    None   \n",
       "2  Philippines (the)         PH  2016-06-30  2020-05-29    None   \n",
       "3  Philippines (the)         PH  2016-06-30  2020-05-29    None   \n",
       "4  Philippines (the)         PH  2016-06-30  2020-05-29    None   \n",
       "\n",
       "                                            geometry  \n",
       "0  MULTIPOLYGON (((118.58350 9.37700, 118.58398 9...  \n",
       "1  POLYGON ((120.58412 13.50198, 120.58420 13.501...  \n",
       "2  POLYGON ((120.49873 14.75614, 120.49891 14.755...  \n",
       "3  POLYGON ((121.43455 18.46651, 121.43502 18.466...  \n",
       "4  MULTIPOLYGON (((125.02684 10.73500, 125.02683 ...  "
      ]
     },
     "execution_count": 14,
     "metadata": {},
     "output_type": "execute_result"
    }
   ],
   "source": [
    "admin3.head()"
   ]
  },
  {
   "cell_type": "code",
   "execution_count": 15,
   "id": "cfdb6f7f-fa54-47bc-8f8d-cb2544963d5d",
   "metadata": {},
   "outputs": [
    {
     "data": {
      "text/plain": [
       "['Shape_Leng',\n",
       " 'Shape_Area',\n",
       " 'ADM3_EN',\n",
       " 'ADM3_PCODE',\n",
       " 'ADM3_REF',\n",
       " 'ADM3ALT1EN',\n",
       " 'ADM3ALT2EN',\n",
       " 'ADM2_EN',\n",
       " 'ADM2_PCODE',\n",
       " 'ADM1_EN',\n",
       " 'ADM1_PCODE',\n",
       " 'ADM0_EN',\n",
       " 'ADM0_PCODE',\n",
       " 'date',\n",
       " 'validOn',\n",
       " 'validTo',\n",
       " 'geometry']"
      ]
     },
     "execution_count": 15,
     "metadata": {},
     "output_type": "execute_result"
    }
   ],
   "source": [
    "list(admin3.columns.values)"
   ]
  },
  {
   "cell_type": "code",
   "execution_count": 16,
   "id": "bdf663f2-b0db-47b6-846f-03370d832d67",
   "metadata": {},
   "outputs": [],
   "source": [
    "import matplotlib.pyplot as plt"
   ]
  },
  {
   "cell_type": "code",
   "execution_count": 17,
   "id": "e7b2e213-83a1-4682-98ac-389e0b05c0d6",
   "metadata": {},
   "outputs": [
    {
     "name": "stdout",
     "output_type": "stream",
     "text": [
      "CPU times: user 5.91 s, sys: 342 ms, total: 6.26 s\n",
      "Wall time: 6 s\n"
     ]
    },
    {
     "data": {
      "image/png": "[encoded data removed]",
      "text/plain": [
       "<Figure size 432x288 with 1 Axes>"
      ]
     },
     "metadata": {
      "needs_background": "light"
     },
     "output_type": "display_data"
    }
   ],
   "source": [
    "%%time\n",
    "ax = plt.axes()\n",
    "ax = admin3.plot(ax=ax, facecolor=\"none\", edgecolor=\"blue\")"
   ]
  },
  {
   "cell_type": "code",
   "execution_count": 18,
   "id": "91a038e7-1305-4046-a616-0227422fd927",
   "metadata": {},
   "outputs": [
    {
     "name": "stdout",
     "output_type": "stream",
     "text": [
      "CPU times: user 109 ms, sys: 32.5 ms, total: 142 ms\n",
      "Wall time: 69.2 ms\n"
     ]
    },
    {
     "data": {
      "image/png": "[encoded data removed]",
      "text/plain": [
       "<Figure size 432x288 with 1 Axes>"
      ]
     },
     "metadata": {
      "needs_background": "light"
     },
     "output_type": "display_data"
    }
   ],
   "source": [
    "%%time\n",
    "ax = plt.axes()\n",
    "ax = admin3[admin3.ADM3_EN == \"Abra de Ilog\"].plot(\n",
    "    ax=ax, facecolor=\"none\", edgecolor=\"blue\"\n",
    ")"
   ]
  },
  {
   "cell_type": "code",
   "execution_count": 19,
   "id": "21841988-833f-4ce9-8bc9-fdb1d46274f9",
   "metadata": {},
   "outputs": [
    {
     "data": {
      "text/plain": [
       "<Geographic 2D CRS: EPSG:4326>\n",
       "Name: WGS 84\n",
       "Axis Info [ellipsoidal]:\n",
       "- Lat[north]: Geodetic latitude (degree)\n",
       "- Lon[east]: Geodetic longitude (degree)\n",
       "Area of Use:\n",
       "- name: World.\n",
       "- bounds: (-180.0, -90.0, 180.0, 90.0)\n",
       "Datum: World Geodetic System 1984 ensemble\n",
       "- Ellipsoid: WGS 84\n",
       "- Prime Meridian: Greenwich"
      ]
     },
     "execution_count": 19,
     "metadata": {},
     "output_type": "execute_result"
    }
   ],
   "source": [
    "admin3.crs"
   ]
  },
  {
   "cell_type": "code",
   "execution_count": 20,
   "id": "4d177300-62d1-475e-bd63-1ab9005bb366",
   "metadata": {},
   "outputs": [
    {
     "data": {
      "text/plain": [
       "array([114.27789225,   4.5872945 , 126.6049656 ,  21.12188548])"
      ]
     },
     "execution_count": 20,
     "metadata": {},
     "output_type": "execute_result"
    }
   ],
   "source": [
    "admin3.total_bounds"
   ]
  },
  {
   "cell_type": "code",
   "execution_count": 21,
   "id": "f84652a6-2edc-4815-a398-1f84d7e47fae",
   "metadata": {},
   "outputs": [
    {
     "data": {
      "text/plain": [
       "1647"
      ]
     },
     "execution_count": 21,
     "metadata": {},
     "output_type": "execute_result"
    }
   ],
   "source": [
    "len(admin3)"
   ]
  },
  {
   "cell_type": "markdown",
   "id": "TVghj-icvEFT",
   "metadata": {
    "id": "TVghj-icvEFT"
   },
   "source": [
    "### Download Ookla data"
   ]
  },
  {
   "cell_type": "code",
   "execution_count": 22,
   "id": "6f4e629a-6189-4020-af5d-8c794a26306e",
   "metadata": {},
   "outputs": [],
   "source": [
    "from geowrangler.datasets import ookla"
   ]
  },
  {
   "cell_type": "code",
   "execution_count": 23,
   "id": "0c0791a1-5002-471e-99c6-aef6c378a519",
   "metadata": {},
   "outputs": [
    {
     "name": "stdout",
     "output_type": "stream",
     "text": [
      "CPU times: user 45.6 ms, sys: 0 ns, total: 45.6 ms\n",
      "Wall time: 1.13 s\n"
     ]
    },
    {
     "data": {
      "text/plain": [
       "{OoklaQuarter(type='fixed', year='2019', quarter='1'): '2019-01-01_performance_fixed_tiles.parquet',\n",
       " OoklaQuarter(type='fixed', year='2019', quarter='2'): '2019-04-01_performance_fixed_tiles.parquet',\n",
       " OoklaQuarter(type='fixed', year='2019', quarter='3'): '2019-07-01_performance_fixed_tiles.parquet',\n",
       " OoklaQuarter(type='fixed', year='2019', quarter='4'): '2019-10-01_performance_fixed_tiles.parquet',\n",
       " OoklaQuarter(type='fixed', year='2020', quarter='1'): '2020-01-01_performance_fixed_tiles.parquet',\n",
       " OoklaQuarter(type='fixed', year='2020', quarter='2'): '2020-04-01_performance_fixed_tiles.parquet',\n",
       " OoklaQuarter(type='fixed', year='2020', quarter='3'): '2020-07-01_performance_fixed_tiles.parquet',\n",
       " OoklaQuarter(type='fixed', year='2020', quarter='4'): '2020-10-01_performance_fixed_tiles.parquet',\n",
       " OoklaQuarter(type='fixed', year='2021', quarter='1'): '2021-01-01_performance_fixed_tiles.parquet',\n",
       " OoklaQuarter(type='fixed', year='2021', quarter='2'): '2021-04-01_performance_fixed_tiles.parquet',\n",
       " OoklaQuarter(type='fixed', year='2021', quarter='3'): '2021-07-01_performance_fixed_tiles.parquet',\n",
       " OoklaQuarter(type='fixed', year='2021', quarter='4'): '2021-10-01_performance_fixed_tiles.parquet',\n",
       " OoklaQuarter(type='fixed', year='2022', quarter='1'): '2022-01-01_performance_fixed_tiles.parquet',\n",
       " OoklaQuarter(type='fixed', year='2022', quarter='2'): '2022-04-01_performance_fixed_tiles.parquet',\n",
       " OoklaQuarter(type='mobile', year='2019', quarter='1'): '2019-01-01_performance_mobile_tiles.parquet',\n",
       " OoklaQuarter(type='mobile', year='2019', quarter='2'): '2019-04-01_performance_mobile_tiles.parquet',\n",
       " OoklaQuarter(type='mobile', year='2019', quarter='3'): '2019-07-01_performance_mobile_tiles.parquet',\n",
       " OoklaQuarter(type='mobile', year='2019', quarter='4'): '2019-10-01_performance_mobile_tiles.parquet',\n",
       " OoklaQuarter(type='mobile', year='2020', quarter='1'): '2020-01-01_performance_mobile_tiles.parquet',\n",
       " OoklaQuarter(type='mobile', year='2020', quarter='2'): '2020-04-01_performance_mobile_tiles.parquet',\n",
       " OoklaQuarter(type='mobile', year='2020', quarter='3'): '2020-07-01_performance_mobile_tiles.parquet',\n",
       " OoklaQuarter(type='mobile', year='2020', quarter='4'): '2020-10-01_performance_mobile_tiles.parquet',\n",
       " OoklaQuarter(type='mobile', year='2021', quarter='1'): '2021-01-01_performance_mobile_tiles.parquet',\n",
       " OoklaQuarter(type='mobile', year='2021', quarter='2'): '2021-04-01_performance_mobile_tiles.parquet',\n",
       " OoklaQuarter(type='mobile', year='2021', quarter='3'): '2021-07-01_performance_mobile_tiles.parquet',\n",
       " OoklaQuarter(type='mobile', year='2021', quarter='4'): '2021-10-01_performance_mobile_tiles.parquet',\n",
       " OoklaQuarter(type='mobile', year='2022', quarter='1'): '2022-01-01_performance_mobile_tiles.parquet',\n",
       " OoklaQuarter(type='mobile', year='2022', quarter='2'): '2022-04-01_performance_mobile_tiles.parquet'}"
      ]
     },
     "execution_count": 23,
     "metadata": {},
     "output_type": "execute_result"
    }
   ],
   "source": [
    "%%time\n",
    "ookla_dsets = ookla.list_ookla_files()\n",
    "ookla_dsets"
   ]
  },
  {
   "cell_type": "code",
   "execution_count": 24,
   "id": "7b88c6b6-9144-41be-8cfd-bb7082da0786",
   "metadata": {},
   "outputs": [],
   "source": [
    "ookla_params = dict(year=\"2022\", quarter=\"2\", directory=\"../data\")"
   ]
  },
  {
   "cell_type": "code",
   "execution_count": 25,
   "id": "df724ed7-64f7-45d5-bc7c-6a0d51d1f95f",
   "metadata": {},
   "outputs": [
    {
     "name": "stdout",
     "output_type": "stream",
     "text": [
      "CPU times: user 301 µs, sys: 37 µs, total: 338 µs\n",
      "Wall time: 247 µs\n"
     ]
    }
   ],
   "source": [
    "%%time\n",
    "ookla_fixed = ookla.download_ookla_file(type_=\"fixed\", **ookla_params)"
   ]
  },
  {
   "cell_type": "code",
   "execution_count": 26,
   "id": "ac5328f4-8b4c-493a-89a8-6ef6fb1d02c1",
   "metadata": {},
   "outputs": [
    {
     "name": "stdout",
     "output_type": "stream",
     "text": [
      "CPU times: user 255 µs, sys: 31 µs, total: 286 µs\n",
      "Wall time: 236 µs\n"
     ]
    }
   ],
   "source": [
    "%%time\n",
    "ookla_mobile = ookla.download_ookla_file(type_=\"mobile\", **ookla_params)"
   ]
  },
  {
   "cell_type": "code",
   "execution_count": 27,
   "id": "6a86f9a6-bd8d-451c-8ba1-7482df06eedc",
   "metadata": {
    "tags": []
   },
   "outputs": [
    {
     "data": {
      "text/plain": [
       "PosixPath('../data/2022-04-01_performance_fixed_tiles.parquet')"
      ]
     },
     "execution_count": 27,
     "metadata": {},
     "output_type": "execute_result"
    }
   ],
   "source": [
    "ookla_fixed"
   ]
  },
  {
   "cell_type": "code",
   "execution_count": 28,
   "id": "46303e4e-9dcd-4331-a4b6-f60c112a95d2",
   "metadata": {},
   "outputs": [],
   "source": [
    "import pandas as pd"
   ]
  },
  {
   "cell_type": "code",
   "execution_count": 29,
   "id": "752dee1f-08d6-4082-9ae6-6a59e76f9e70",
   "metadata": {},
   "outputs": [
    {
     "name": "stdout",
     "output_type": "stream",
     "text": [
      "CPU times: user 11.6 s, sys: 3.97 s, total: 15.6 s\n",
      "Wall time: 7.49 s\n"
     ]
    }
   ],
   "source": [
    "%%time\n",
    "fixed = pd.read_parquet(ookla_fixed)"
   ]
  },
  {
   "cell_type": "code",
   "execution_count": 30,
   "id": "2c990ddb-065c-4bcf-a9ac-ea5a2b52f9b2",
   "metadata": {},
   "outputs": [
    {
     "data": {
      "text/plain": [
       "6581735"
      ]
     },
     "execution_count": 30,
     "metadata": {},
     "output_type": "execute_result"
    }
   ],
   "source": [
    "len(fixed)"
   ]
  },
  {
   "cell_type": "code",
   "execution_count": 31,
   "id": "fc1a6b26-2954-42f1-b439-1d599ad49ce2",
   "metadata": {},
   "outputs": [
    {
     "data": {
      "text/html": [
       "<div>\n",
       "<style scoped>\n",
       "    .dataframe tbody tr th:only-of-type {\n",
       "        vertical-align: middle;\n",
       "    }\n",
       "\n",
       "    .dataframe tbody tr th {\n",
       "        vertical-align: top;\n",
       "    }\n",
       "\n",
       "    .dataframe thead th {\n",
       "        text-align: right;\n",
       "    }\n",
       "</style>\n",
       "<table border=\"1\" class=\"dataframe\">\n",
       "  <thead>\n",
       "    <tr style=\"text-align: right;\">\n",
       "      <th></th>\n",
       "      <th>quadkey</th>\n",
       "      <th>tile</th>\n",
       "      <th>avg_d_kbps</th>\n",
       "      <th>avg_u_kbps</th>\n",
       "      <th>avg_lat_ms</th>\n",
       "      <th>tests</th>\n",
       "      <th>devices</th>\n",
       "    </tr>\n",
       "  </thead>\n",
       "  <tbody>\n",
       "    <tr>\n",
       "      <th>0</th>\n",
       "      <td>2103111033100303</td>\n",
       "      <td>POLYGON((-46.5545654296875 -22.9432183426273, ...</td>\n",
       "      <td>141501</td>\n",
       "      <td>51102</td>\n",
       "      <td>12</td>\n",
       "      <td>330</td>\n",
       "      <td>50</td>\n",
       "    </tr>\n",
       "    <tr>\n",
       "      <th>1</th>\n",
       "      <td>1321222320312200</td>\n",
       "      <td>POLYGON((114.169921875 22.37039634432, 114.175...</td>\n",
       "      <td>228064</td>\n",
       "      <td>180981</td>\n",
       "      <td>5</td>\n",
       "      <td>915</td>\n",
       "      <td>191</td>\n",
       "    </tr>\n",
       "    <tr>\n",
       "      <th>2</th>\n",
       "      <td>1202033220030032</td>\n",
       "      <td>POLYGON((8.536376953125 49.3143800480069, 8.54...</td>\n",
       "      <td>166267</td>\n",
       "      <td>17752</td>\n",
       "      <td>15</td>\n",
       "      <td>57</td>\n",
       "      <td>13</td>\n",
       "    </tr>\n",
       "    <tr>\n",
       "      <th>3</th>\n",
       "      <td>1231300223313122</td>\n",
       "      <td>POLYGON((79.43115234375 29.6355459144667, 79.4...</td>\n",
       "      <td>42442</td>\n",
       "      <td>102038</td>\n",
       "      <td>16</td>\n",
       "      <td>14</td>\n",
       "      <td>7</td>\n",
       "    </tr>\n",
       "    <tr>\n",
       "      <th>4</th>\n",
       "      <td>2110000232002202</td>\n",
       "      <td>POLYGON((-44.296875 -2.53152456690541, -44.291...</td>\n",
       "      <td>144393</td>\n",
       "      <td>52963</td>\n",
       "      <td>12</td>\n",
       "      <td>99</td>\n",
       "      <td>43</td>\n",
       "    </tr>\n",
       "  </tbody>\n",
       "</table>\n",
       "</div>"
      ],
      "text/plain": [
       "            quadkey                                               tile  \\\n",
       "0  2103111033100303  POLYGON((-46.5545654296875 -22.9432183426273, ...   \n",
       "1  1321222320312200  POLYGON((114.169921875 22.37039634432, 114.175...   \n",
       "2  1202033220030032  POLYGON((8.536376953125 49.3143800480069, 8.54...   \n",
       "3  1231300223313122  POLYGON((79.43115234375 29.6355459144667, 79.4...   \n",
       "4  2110000232002202  POLYGON((-44.296875 -2.53152456690541, -44.291...   \n",
       "\n",
       "   avg_d_kbps  avg_u_kbps  avg_lat_ms  tests  devices  \n",
       "0      141501       51102          12    330       50  \n",
       "1      228064      180981           5    915      191  \n",
       "2      166267       17752          15     57       13  \n",
       "3       42442      102038          16     14        7  \n",
       "4      144393       52963          12     99       43  "
      ]
     },
     "execution_count": 31,
     "metadata": {},
     "output_type": "execute_result"
    }
   ],
   "source": [
    "fixed.head()"
   ]
  },
  {
   "cell_type": "code",
   "execution_count": 32,
   "id": "374be97f-f3fc-4348-97ad-2d668a659395",
   "metadata": {},
   "outputs": [
    {
     "data": {
      "text/plain": [
       "quadkey       object\n",
       "tile          object\n",
       "avg_d_kbps     int64\n",
       "avg_u_kbps     int64\n",
       "avg_lat_ms     int64\n",
       "tests          int64\n",
       "devices        int64\n",
       "dtype: object"
      ]
     },
     "execution_count": 32,
     "metadata": {},
     "output_type": "execute_result"
    }
   ],
   "source": [
    "fixed.dtypes"
   ]
  },
  {
   "cell_type": "code",
   "execution_count": 33,
   "id": "9254e1e5-2e95-4b82-92f3-83a96c9785e8",
   "metadata": {},
   "outputs": [
    {
     "name": "stdout",
     "output_type": "stream",
     "text": [
      "CPU times: user 30.5 s, sys: 1.78 s, total: 32.3 s\n",
      "Wall time: 32.1 s\n"
     ]
    }
   ],
   "source": [
    "%%time\n",
    "fixed[\"geometry\"] = gpd.GeoSeries.from_wkt(fixed.tile, crs=\"EPSG:4326\")"
   ]
  },
  {
   "cell_type": "code",
   "execution_count": 34,
   "id": "dab820d6-a7a3-458d-aa9d-88d9b57de79b",
   "metadata": {},
   "outputs": [
    {
     "data": {
      "text/html": [
       "<div>\n",
       "<style scoped>\n",
       "    .dataframe tbody tr th:only-of-type {\n",
       "        vertical-align: middle;\n",
       "    }\n",
       "\n",
       "    .dataframe tbody tr th {\n",
       "        vertical-align: top;\n",
       "    }\n",
       "\n",
       "    .dataframe thead th {\n",
       "        text-align: right;\n",
       "    }\n",
       "</style>\n",
       "<table border=\"1\" class=\"dataframe\">\n",
       "  <thead>\n",
       "    <tr style=\"text-align: right;\">\n",
       "      <th></th>\n",
       "      <th>quadkey</th>\n",
       "      <th>tile</th>\n",
       "      <th>avg_d_kbps</th>\n",
       "      <th>avg_u_kbps</th>\n",
       "      <th>avg_lat_ms</th>\n",
       "      <th>tests</th>\n",
       "      <th>devices</th>\n",
       "      <th>geometry</th>\n",
       "    </tr>\n",
       "  </thead>\n",
       "  <tbody>\n",
       "    <tr>\n",
       "      <th>0</th>\n",
       "      <td>2103111033100303</td>\n",
       "      <td>POLYGON((-46.5545654296875 -22.9432183426273, ...</td>\n",
       "      <td>141501</td>\n",
       "      <td>51102</td>\n",
       "      <td>12</td>\n",
       "      <td>330</td>\n",
       "      <td>50</td>\n",
       "      <td>POLYGON ((-46.55457 -22.94322, -46.54907 -22.9...</td>\n",
       "    </tr>\n",
       "    <tr>\n",
       "      <th>1</th>\n",
       "      <td>1321222320312200</td>\n",
       "      <td>POLYGON((114.169921875 22.37039634432, 114.175...</td>\n",
       "      <td>228064</td>\n",
       "      <td>180981</td>\n",
       "      <td>5</td>\n",
       "      <td>915</td>\n",
       "      <td>191</td>\n",
       "      <td>POLYGON ((114.16992 22.37040, 114.17542 22.370...</td>\n",
       "    </tr>\n",
       "    <tr>\n",
       "      <th>2</th>\n",
       "      <td>1202033220030032</td>\n",
       "      <td>POLYGON((8.536376953125 49.3143800480069, 8.54...</td>\n",
       "      <td>166267</td>\n",
       "      <td>17752</td>\n",
       "      <td>15</td>\n",
       "      <td>57</td>\n",
       "      <td>13</td>\n",
       "      <td>POLYGON ((8.53638 49.31438, 8.54187 49.31438, ...</td>\n",
       "    </tr>\n",
       "    <tr>\n",
       "      <th>3</th>\n",
       "      <td>1231300223313122</td>\n",
       "      <td>POLYGON((79.43115234375 29.6355459144667, 79.4...</td>\n",
       "      <td>42442</td>\n",
       "      <td>102038</td>\n",
       "      <td>16</td>\n",
       "      <td>14</td>\n",
       "      <td>7</td>\n",
       "      <td>POLYGON ((79.43115 29.63555, 79.43665 29.63555...</td>\n",
       "    </tr>\n",
       "    <tr>\n",
       "      <th>4</th>\n",
       "      <td>2110000232002202</td>\n",
       "      <td>POLYGON((-44.296875 -2.53152456690541, -44.291...</td>\n",
       "      <td>144393</td>\n",
       "      <td>52963</td>\n",
       "      <td>12</td>\n",
       "      <td>99</td>\n",
       "      <td>43</td>\n",
       "      <td>POLYGON ((-44.29688 -2.53152, -44.29138 -2.531...</td>\n",
       "    </tr>\n",
       "  </tbody>\n",
       "</table>\n",
       "</div>"
      ],
      "text/plain": [
       "            quadkey                                               tile  \\\n",
       "0  2103111033100303  POLYGON((-46.5545654296875 -22.9432183426273, ...   \n",
       "1  1321222320312200  POLYGON((114.169921875 22.37039634432, 114.175...   \n",
       "2  1202033220030032  POLYGON((8.536376953125 49.3143800480069, 8.54...   \n",
       "3  1231300223313122  POLYGON((79.43115234375 29.6355459144667, 79.4...   \n",
       "4  2110000232002202  POLYGON((-44.296875 -2.53152456690541, -44.291...   \n",
       "\n",
       "   avg_d_kbps  avg_u_kbps  avg_lat_ms  tests  devices  \\\n",
       "0      141501       51102          12    330       50   \n",
       "1      228064      180981           5    915      191   \n",
       "2      166267       17752          15     57       13   \n",
       "3       42442      102038          16     14        7   \n",
       "4      144393       52963          12     99       43   \n",
       "\n",
       "                                            geometry  \n",
       "0  POLYGON ((-46.55457 -22.94322, -46.54907 -22.9...  \n",
       "1  POLYGON ((114.16992 22.37040, 114.17542 22.370...  \n",
       "2  POLYGON ((8.53638 49.31438, 8.54187 49.31438, ...  \n",
       "3  POLYGON ((79.43115 29.63555, 79.43665 29.63555...  \n",
       "4  POLYGON ((-44.29688 -2.53152, -44.29138 -2.531...  "
      ]
     },
     "execution_count": 34,
     "metadata": {},
     "output_type": "execute_result"
    }
   ],
   "source": [
    "fixed.head()"
   ]
  },
  {
   "cell_type": "code",
   "execution_count": 35,
   "id": "b8164e99-2363-46b8-8a49-de1e3e882a6e",
   "metadata": {},
   "outputs": [
    {
     "name": "stdout",
     "output_type": "stream",
     "text": [
      "CPU times: user 184 ms, sys: 101 ms, total: 286 ms\n",
      "Wall time: 284 ms\n"
     ]
    }
   ],
   "source": [
    "%%time\n",
    "fixed.drop(columns=[\"tile\"], inplace=True)"
   ]
  },
  {
   "cell_type": "code",
   "execution_count": 36,
   "id": "004e4c2e-9e6e-4bd3-81f5-2887e989255e",
   "metadata": {},
   "outputs": [
    {
     "name": "stdout",
     "output_type": "stream",
     "text": [
      "CPU times: user 98 ms, sys: 50.2 ms, total: 148 ms\n",
      "Wall time: 146 ms\n"
     ]
    }
   ],
   "source": [
    "%%time\n",
    "fixed = gpd.GeoDataFrame(fixed, geometry=\"geometry\", crs=\"EPSG:4326\")"
   ]
  },
  {
   "cell_type": "markdown",
   "id": "35ff62dc-5deb-4ad1-9d61-e547cdc5ea54",
   "metadata": {},
   "source": [
    "### Validate AOI and Data Geoms"
   ]
  },
  {
   "cell_type": "code",
   "execution_count": 37,
   "id": "b115aba3-8b60-41fa-b6f8-5c46bf09fc85",
   "metadata": {},
   "outputs": [],
   "source": [
    "from geowrangler.validation import GeometryValidation"
   ]
  },
  {
   "cell_type": "markdown",
   "id": "d022088a-d672-4ac4-9ad7-cc305f6f3b3c",
   "metadata": {},
   "source": [
    "#### Validate AOI"
   ]
  },
  {
   "cell_type": "code",
   "execution_count": 38,
   "id": "c53ec61f-46eb-4ff9-950e-7f4800077b75",
   "metadata": {},
   "outputs": [],
   "source": [
    "admin3_gvm = GeometryValidation(admin3)"
   ]
  },
  {
   "cell_type": "code",
   "execution_count": 39,
   "id": "44700266-63e5-4850-8081-b3f1358f7e51",
   "metadata": {},
   "outputs": [
    {
     "name": "stdout",
     "output_type": "stream",
     "text": [
      "CPU times: user 1min 34s, sys: 604 ms, total: 1min 35s\n",
      "Wall time: 1min 35s\n"
     ]
    }
   ],
   "source": [
    "%%time\n",
    "valid_admin3 = admin3_gvm.validate_all()"
   ]
  },
  {
   "cell_type": "code",
   "execution_count": 40,
   "id": "0c3fdbfc-ceca-4aff-be27-4737114d0adf",
   "metadata": {},
   "outputs": [
    {
     "data": {
      "text/plain": [
       "1647"
      ]
     },
     "execution_count": 40,
     "metadata": {},
     "output_type": "execute_result"
    }
   ],
   "source": [
    "(~valid_admin3.is_oriented_properly).sum(axis=None)"
   ]
  },
  {
   "cell_type": "code",
   "execution_count": 41,
   "id": "50a87ae9-6a42-45d2-b57a-84765be6cdbe",
   "metadata": {},
   "outputs": [
    {
     "data": {
      "text/plain": [
       "0"
      ]
     },
     "execution_count": 41,
     "metadata": {},
     "output_type": "execute_result"
    }
   ],
   "source": [
    "(~valid_admin3.is_not_null).sum(axis=None)"
   ]
  },
  {
   "cell_type": "code",
   "execution_count": 42,
   "id": "db4415d2-7722-4c2b-863e-09df54aa9f77",
   "metadata": {},
   "outputs": [
    {
     "data": {
      "text/plain": [
       "1"
      ]
     },
     "execution_count": 42,
     "metadata": {},
     "output_type": "execute_result"
    }
   ],
   "source": [
    "(~valid_admin3.is_not_self_intersecting).sum(axis=None)"
   ]
  },
  {
   "cell_type": "code",
   "execution_count": 43,
   "id": "1fe43fb4-4464-41da-be97-028b2adfd83f",
   "metadata": {},
   "outputs": [
    {
     "data": {
      "text/plain": [
       "0"
      ]
     },
     "execution_count": 43,
     "metadata": {},
     "output_type": "execute_result"
    }
   ],
   "source": [
    "(~valid_admin3.is_within_crs_bounds).sum(axis=None)"
   ]
  },
  {
   "cell_type": "code",
   "execution_count": 44,
   "id": "aa93627a-491b-4866-86f5-f56c52793e98",
   "metadata": {},
   "outputs": [
    {
     "data": {
      "text/plain": [
       "0"
      ]
     },
     "execution_count": 44,
     "metadata": {},
     "output_type": "execute_result"
    }
   ],
   "source": [
    "(~valid_admin3.area_is_not_zero).sum(axis=None)"
   ]
  },
  {
   "cell_type": "code",
   "execution_count": 45,
   "id": "4c70a12b-1f9b-4b4e-bd23-de32923d9ee3",
   "metadata": {},
   "outputs": [],
   "source": [
    "valid_admin3.drop(\n",
    "    columns=[\n",
    "        \"is_not_null\",\n",
    "        \"is_not_self_intersecting\",\n",
    "        \"is_oriented_properly\",\n",
    "        \"is_within_crs_bounds\",\n",
    "        \"area_is_not_zero\",\n",
    "    ],\n",
    "    inplace=True,\n",
    ")"
   ]
  },
  {
   "cell_type": "markdown",
   "id": "6fa0cd36-7465-471e-a356-36e4c6200b63",
   "metadata": {},
   "source": [
    "#### Validate Data"
   ]
  },
  {
   "cell_type": "code",
   "execution_count": 46,
   "id": "46ecadee-805a-4aa4-a7a9-e544b1f6c071",
   "metadata": {},
   "outputs": [
    {
     "name": "stdout",
     "output_type": "stream",
     "text": [
      "CPU times: user 96.2 ms, sys: 0 ns, total: 96.2 ms\n",
      "Wall time: 94.8 ms\n"
     ]
    },
    {
     "data": {
      "text/plain": [
       "<geopandas.sindex.PyGEOSSTRTreeIndex at 0x7ffa5a0054d0>"
      ]
     },
     "execution_count": 46,
     "metadata": {},
     "output_type": "execute_result"
    }
   ],
   "source": [
    "%%time\n",
    "valid_admin3.geometry.sindex"
   ]
  },
  {
   "cell_type": "code",
   "execution_count": 47,
   "id": "7e9b73fc-6bf4-475a-af1a-be417f15c28b",
   "metadata": {},
   "outputs": [
    {
     "name": "stdout",
     "output_type": "stream",
     "text": [
      "CPU times: user 17.5 s, sys: 240 ms, total: 17.8 s\n",
      "Wall time: 17.7 s\n"
     ]
    },
    {
     "data": {
      "text/plain": [
       "<geopandas.sindex.PyGEOSSTRTreeIndex at 0x7ffa5a005bd0>"
      ]
     },
     "execution_count": 47,
     "metadata": {},
     "output_type": "execute_result"
    }
   ],
   "source": [
    "%%time\n",
    "fixed.geometry.sindex"
   ]
  },
  {
   "cell_type": "code",
   "execution_count": 48,
   "id": "cea62825-b28e-4392-86b5-fe7423b78edf",
   "metadata": {},
   "outputs": [
    {
     "name": "stdout",
     "output_type": "stream",
     "text": [
      "CPU times: user 31.8 s, sys: 585 ms, total: 32.4 s\n",
      "Wall time: 32.5 s\n"
     ]
    }
   ],
   "source": [
    "%%time\n",
    "filtered_fixed = fixed.sjoin(\n",
    "    valid_admin3[[\"geometry\"]], how=\"inner\", predicate=\"intersects\"\n",
    ")"
   ]
  },
  {
   "cell_type": "code",
   "execution_count": null,
   "id": "04acfb15-d0b6-4474-ae31-a12c6ae1c502",
   "metadata": {},
   "outputs": [],
   "source": [
    "# fixed_gvm = GeometryValidation(filtered_fixed)"
   ]
  },
  {
   "cell_type": "code",
   "execution_count": null,
   "id": "cf4b88b8-6620-419c-a12f-8b150aea3ae5",
   "metadata": {},
   "outputs": [],
   "source": [
    "# %%time\n",
    "# valid_fixed = fixed_gvm.validate_all()"
   ]
  },
  {
   "cell_type": "code",
   "execution_count": null,
   "id": "d020977d-18f2-4d8d-b7d7-4d23f438d9fd",
   "metadata": {},
   "outputs": [],
   "source": [
    "# %%time\n",
    "# (~valid_fixed.is_oriented_properly).sum(axis=None)"
   ]
  },
  {
   "cell_type": "code",
   "execution_count": null,
   "id": "2232c2f5-f0f0-41ba-9f5c-ace4f54869d0",
   "metadata": {},
   "outputs": [],
   "source": [
    "# (~valid_fixed.is_not_null).sum(axis=None)"
   ]
  },
  {
   "cell_type": "code",
   "execution_count": null,
   "id": "cd1b11cf-6585-4eaf-902d-fca63c832f19",
   "metadata": {},
   "outputs": [],
   "source": [
    "# (~valid_fixed.is_not_self_intersecting).sum(axis=None)"
   ]
  },
  {
   "cell_type": "code",
   "execution_count": null,
   "id": "cbbf32f1-6678-4ea6-925c-90aa1aff407e",
   "metadata": {},
   "outputs": [],
   "source": [
    "# (~valid_fixed.is_within_crs_bounds).sum(axis=None)"
   ]
  },
  {
   "cell_type": "code",
   "execution_count": null,
   "id": "8eaf890b-3489-48a8-b4a2-3b53c10e6cdc",
   "metadata": {},
   "outputs": [],
   "source": [
    "# (~valid_fixed.area_is_not_zero).sum(axis=None)"
   ]
  },
  {
   "cell_type": "markdown",
   "id": "zsrOIkCtvGWV",
   "metadata": {
    "id": "zsrOIkCtvGWV"
   },
   "source": [
    "\n",
    "### Generate Zonal Stats\n"
   ]
  },
  {
   "cell_type": "code",
   "execution_count": 49,
   "id": "055c2c87-728a-4659-be9a-d39dc39e0a2c",
   "metadata": {},
   "outputs": [
    {
     "data": {
      "text/html": [
       "<div>\n",
       "<style scoped>\n",
       "    .dataframe tbody tr th:only-of-type {\n",
       "        vertical-align: middle;\n",
       "    }\n",
       "\n",
       "    .dataframe tbody tr th {\n",
       "        vertical-align: top;\n",
       "    }\n",
       "\n",
       "    .dataframe thead th {\n",
       "        text-align: right;\n",
       "    }\n",
       "</style>\n",
       "<table border=\"1\" class=\"dataframe\">\n",
       "  <thead>\n",
       "    <tr style=\"text-align: right;\">\n",
       "      <th></th>\n",
       "      <th>quadkey</th>\n",
       "      <th>avg_d_kbps</th>\n",
       "      <th>avg_u_kbps</th>\n",
       "      <th>avg_lat_ms</th>\n",
       "      <th>tests</th>\n",
       "      <th>devices</th>\n",
       "      <th>geometry</th>\n",
       "      <th>index_right</th>\n",
       "    </tr>\n",
       "  </thead>\n",
       "  <tbody>\n",
       "    <tr>\n",
       "      <th>7</th>\n",
       "      <td>1323211310233201</td>\n",
       "      <td>113896</td>\n",
       "      <td>90254</td>\n",
       "      <td>22</td>\n",
       "      <td>24</td>\n",
       "      <td>7</td>\n",
       "      <td>POLYGON ((123.18420 9.47074, 123.18970 9.47074...</td>\n",
       "      <td>52</td>\n",
       "    </tr>\n",
       "    <tr>\n",
       "      <th>110472</th>\n",
       "      <td>1323211310233020</td>\n",
       "      <td>49521</td>\n",
       "      <td>64266</td>\n",
       "      <td>7</td>\n",
       "      <td>14</td>\n",
       "      <td>7</td>\n",
       "      <td>POLYGON ((123.17871 9.48157, 123.18420 9.48157...</td>\n",
       "      <td>52</td>\n",
       "    </tr>\n",
       "    <tr>\n",
       "      <th>166998</th>\n",
       "      <td>1323211310322232</td>\n",
       "      <td>95983</td>\n",
       "      <td>87376</td>\n",
       "      <td>10</td>\n",
       "      <td>29</td>\n",
       "      <td>7</td>\n",
       "      <td>POLYGON ((123.23364 9.45448, 123.23914 9.45448...</td>\n",
       "      <td>52</td>\n",
       "    </tr>\n",
       "    <tr>\n",
       "      <th>307826</th>\n",
       "      <td>1323211310322202</td>\n",
       "      <td>70576</td>\n",
       "      <td>70898</td>\n",
       "      <td>13</td>\n",
       "      <td>32</td>\n",
       "      <td>14</td>\n",
       "      <td>POLYGON ((123.22266 9.46532, 123.22815 9.46532...</td>\n",
       "      <td>52</td>\n",
       "    </tr>\n",
       "    <tr>\n",
       "      <th>329130</th>\n",
       "      <td>1323211310233322</td>\n",
       "      <td>20358</td>\n",
       "      <td>13538</td>\n",
       "      <td>8</td>\n",
       "      <td>49</td>\n",
       "      <td>8</td>\n",
       "      <td>POLYGON ((123.20068 9.45448, 123.20618 9.45448...</td>\n",
       "      <td>52</td>\n",
       "    </tr>\n",
       "  </tbody>\n",
       "</table>\n",
       "</div>"
      ],
      "text/plain": [
       "                 quadkey  avg_d_kbps  avg_u_kbps  avg_lat_ms  tests  devices  \\\n",
       "7       1323211310233201      113896       90254          22     24        7   \n",
       "110472  1323211310233020       49521       64266           7     14        7   \n",
       "166998  1323211310322232       95983       87376          10     29        7   \n",
       "307826  1323211310322202       70576       70898          13     32       14   \n",
       "329130  1323211310233322       20358       13538           8     49        8   \n",
       "\n",
       "                                                 geometry  index_right  \n",
       "7       POLYGON ((123.18420 9.47074, 123.18970 9.47074...           52  \n",
       "110472  POLYGON ((123.17871 9.48157, 123.18420 9.48157...           52  \n",
       "166998  POLYGON ((123.23364 9.45448, 123.23914 9.45448...           52  \n",
       "307826  POLYGON ((123.22266 9.46532, 123.22815 9.46532...           52  \n",
       "329130  POLYGON ((123.20068 9.45448, 123.20618 9.45448...           52  "
      ]
     },
     "execution_count": 49,
     "metadata": {},
     "output_type": "execute_result"
    }
   ],
   "source": [
    "filtered_fixed.head()"
   ]
  },
  {
   "cell_type": "code",
   "execution_count": 50,
   "id": "43cc6792-18db-494d-ae1e-dfdafec36f96",
   "metadata": {},
   "outputs": [
    {
     "data": {
      "text/plain": [
       "['quadkey',\n",
       " 'avg_d_kbps',\n",
       " 'avg_u_kbps',\n",
       " 'avg_lat_ms',\n",
       " 'tests',\n",
       " 'devices',\n",
       " 'geometry',\n",
       " 'index_right']"
      ]
     },
     "execution_count": 50,
     "metadata": {},
     "output_type": "execute_result"
    }
   ],
   "source": [
    "list(filtered_fixed.columns.values)"
   ]
  },
  {
   "cell_type": "code",
   "execution_count": 51,
   "id": "d03ca455-ed60-49e1-b448-f0f58ec291f2",
   "metadata": {},
   "outputs": [],
   "source": [
    "filtered_fixed.drop(columns=[\"index_right\"], inplace=True)"
   ]
  },
  {
   "cell_type": "code",
   "execution_count": 52,
   "id": "3fab265e-908c-4a69-9da3-94204a8c16b8",
   "metadata": {},
   "outputs": [
    {
     "data": {
      "text/plain": [
       "112010"
      ]
     },
     "execution_count": 52,
     "metadata": {},
     "output_type": "execute_result"
    }
   ],
   "source": [
    "len(filtered_fixed)"
   ]
  },
  {
   "cell_type": "code",
   "execution_count": 54,
   "id": "0a8e14d2-4113-4387-937e-b9f5129c9557",
   "metadata": {},
   "outputs": [
    {
     "name": "stdout",
     "output_type": "stream",
     "text": [
      "CPU times: user 4.22 s, sys: 220 ms, total: 4.44 s\n",
      "Wall time: 4.44 s\n"
     ]
    }
   ],
   "source": [
    "%%time\n",
    "valid_admin3 = valid_admin3.to_crs(\"EPSG:3857\")"
   ]
  },
  {
   "cell_type": "code",
   "execution_count": 55,
   "id": "e8e2ff47-bba6-4a6c-9436-5988c9feeec3",
   "metadata": {},
   "outputs": [
    {
     "name": "stdout",
     "output_type": "stream",
     "text": [
      "CPU times: user 580 ms, sys: 30 ms, total: 610 ms\n",
      "Wall time: 608 ms\n"
     ]
    }
   ],
   "source": [
    "%%time\n",
    "filtered_fixed = filtered_fixed.to_crs(\"EPSG:3857\")"
   ]
  },
  {
   "cell_type": "code",
   "execution_count": 58,
   "id": "93ea17d1-532b-40b7-a17a-c67d6eb27dec",
   "metadata": {},
   "outputs": [
    {
     "name": "stdout",
     "output_type": "stream",
     "text": [
      "CPU times: user 2min 14s, sys: 1.27 s, total: 2min 16s\n",
      "Wall time: 2min 16s\n"
     ]
    }
   ],
   "source": [
    "%%time\n",
    "valid_admin3.to_file(\"../data/valid_admin3.geojson\", driver=\"GeoJSON\")"
   ]
  },
  {
   "cell_type": "code",
   "execution_count": 59,
   "id": "e7ee9053-5726-456d-a941-293db991c3d6",
   "metadata": {},
   "outputs": [
    {
     "name": "stdout",
     "output_type": "stream",
     "text": [
      "CPU times: user 22.2 s, sys: 219 ms, total: 22.4 s\n",
      "Wall time: 22.4 s\n"
     ]
    }
   ],
   "source": [
    "%%time\n",
    "filtered_fixed.to_file(\"../data/filtered_fixed.geojson\", driver=\"GeoJSON\")"
   ]
  },
  {
   "cell_type": "code",
   "execution_count": 5,
   "id": "d5f76eab-e106-4f26-8c1e-5ccb62d9144b",
   "metadata": {},
   "outputs": [
    {
     "name": "stdout",
     "output_type": "stream",
     "text": [
      "CPU times: user 50.7 s, sys: 451 ms, total: 51.2 s\n",
      "Wall time: 51.1 s\n"
     ]
    }
   ],
   "source": [
    "%%time\n",
    "valid_admin3 = gpd.read_file(\"../data/valid_admin3.geojson\")"
   ]
  },
  {
   "cell_type": "code",
   "execution_count": 6,
   "id": "029d9c9e-d502-499c-ab91-4cdd9ab75089",
   "metadata": {},
   "outputs": [
    {
     "name": "stdout",
     "output_type": "stream",
     "text": [
      "CPU times: user 7.53 s, sys: 90.1 ms, total: 7.62 s\n",
      "Wall time: 7.6 s\n"
     ]
    }
   ],
   "source": [
    "%%time\n",
    "filtered_fixed = gpd.read_file(\"../data/filtered_fixed.geojson\")"
   ]
  },
  {
   "cell_type": "code",
   "execution_count": 7,
   "id": "aa1b3b4a-0ab7-4431-91d3-d2a001ac8c27",
   "metadata": {},
   "outputs": [],
   "source": [
    "funcs = [\"mean\", \"min\", \"max\", \"std\"]\n",
    "columns = [\"avg_d_kbps\", \"avg_u_kbps\", \"avg_lat_ms\"]"
   ]
  },
  {
   "cell_type": "code",
   "execution_count": 8,
   "id": "9c659af8-48fb-4621-b42f-5c97622ef54c",
   "metadata": {},
   "outputs": [],
   "source": [
    "aggregations = [dict(func=funcs, column=c) for c in columns]"
   ]
  },
  {
   "cell_type": "code",
   "execution_count": 9,
   "id": "c069d560-8c21-4c75-a0ea-5ac1e1171ee7",
   "metadata": {},
   "outputs": [
    {
     "data": {
      "text/plain": [
       "[{'func': ['mean', 'min', 'max', 'std'], 'column': 'avg_d_kbps'},\n",
       " {'func': ['mean', 'min', 'max', 'std'], 'column': 'avg_u_kbps'},\n",
       " {'func': ['mean', 'min', 'max', 'std'], 'column': 'avg_lat_ms'}]"
      ]
     },
     "execution_count": 9,
     "metadata": {},
     "output_type": "execute_result"
    }
   ],
   "source": [
    "aggregations"
   ]
  },
  {
   "cell_type": "code",
   "execution_count": 10,
   "id": "00af125d-e5b2-4a7c-bdde-09dbbc73c845",
   "metadata": {},
   "outputs": [
    {
     "name": "stdout",
     "output_type": "stream",
     "text": [
      "CPU times: user 8min 37s, sys: 15.9 ms, total: 8min 38s\n",
      "Wall time: 8min 38s\n"
     ]
    }
   ],
   "source": [
    "%%time\n",
    "aoi = azs.create_area_zonal_stats(\n",
    "    valid_admin3, filtered_fixed, aggregations=aggregations\n",
    ")"
   ]
  },
  {
   "cell_type": "markdown",
   "id": "jaQ-k7BlvI2W",
   "metadata": {
    "id": "jaQ-k7BlvI2W",
    "tags": []
   },
   "source": [
    "\n",
    "### Analyze Zonal Stats\n"
   ]
  },
  {
   "cell_type": "code",
   "execution_count": 26,
   "id": "44b4c4f4-1641-4f5a-8d37-bffbef2ae6dd",
   "metadata": {},
   "outputs": [
    {
     "data": {
      "text/html": [
       "<div>\n",
       "<style scoped>\n",
       "    .dataframe tbody tr th:only-of-type {\n",
       "        vertical-align: middle;\n",
       "    }\n",
       "\n",
       "    .dataframe tbody tr th {\n",
       "        vertical-align: top;\n",
       "    }\n",
       "\n",
       "    .dataframe thead th {\n",
       "        text-align: right;\n",
       "    }\n",
       "</style>\n",
       "<table border=\"1\" class=\"dataframe\">\n",
       "  <thead>\n",
       "    <tr style=\"text-align: right;\">\n",
       "      <th></th>\n",
       "      <th>Shape_Leng</th>\n",
       "      <th>Shape_Area</th>\n",
       "      <th>ADM3_EN</th>\n",
       "      <th>ADM3_PCODE</th>\n",
       "      <th>ADM3_REF</th>\n",
       "      <th>ADM3ALT1EN</th>\n",
       "      <th>ADM3ALT2EN</th>\n",
       "      <th>ADM2_EN</th>\n",
       "      <th>ADM2_PCODE</th>\n",
       "      <th>ADM1_EN</th>\n",
       "      <th>ADM1_PCODE</th>\n",
       "      <th>ADM0_EN</th>\n",
       "      <th>ADM0_PCODE</th>\n",
       "      <th>date</th>\n",
       "      <th>validOn</th>\n",
       "      <th>validTo</th>\n",
       "      <th>geometry</th>\n",
       "      <th>intersect_area_sum</th>\n",
       "      <th>avg_d_kbps_mean</th>\n",
       "      <th>avg_d_kbps_min</th>\n",
       "      <th>avg_d_kbps_max</th>\n",
       "      <th>avg_d_kbps_std</th>\n",
       "      <th>avg_u_kbps_mean</th>\n",
       "      <th>avg_u_kbps_min</th>\n",
       "      <th>avg_u_kbps_max</th>\n",
       "      <th>avg_u_kbps_std</th>\n",
       "      <th>avg_lat_ms_mean</th>\n",
       "      <th>avg_lat_ms_min</th>\n",
       "      <th>avg_lat_ms_max</th>\n",
       "      <th>avg_lat_ms_std</th>\n",
       "    </tr>\n",
       "  </thead>\n",
       "  <tbody>\n",
       "    <tr>\n",
       "      <th>0</th>\n",
       "      <td>1.601219</td>\n",
       "      <td>0.063496</td>\n",
       "      <td>Aborlan</td>\n",
       "      <td>PH175301000</td>\n",
       "      <td>None</td>\n",
       "      <td>None</td>\n",
       "      <td>None</td>\n",
       "      <td>Palawan</td>\n",
       "      <td>PH175300000</td>\n",
       "      <td>Region IV-B</td>\n",
       "      <td>PH170000000</td>\n",
       "      <td>Philippines (the)</td>\n",
       "      <td>PH</td>\n",
       "      <td>2016-06-30</td>\n",
       "      <td>2020-05-29</td>\n",
       "      <td>None</td>\n",
       "      <td>MULTIPOLYGON (((13200654.486 1048534.319, 1320...</td>\n",
       "      <td>9.854986e+06</td>\n",
       "      <td>23.046103</td>\n",
       "      <td>0.0</td>\n",
       "      <td>203322.0</td>\n",
       "      <td>55245.906786</td>\n",
       "      <td>27.819618</td>\n",
       "      <td>0.0</td>\n",
       "      <td>358739.0</td>\n",
       "      <td>82672.053338</td>\n",
       "      <td>0.018618</td>\n",
       "      <td>0.0</td>\n",
       "      <td>85.0</td>\n",
       "      <td>16.834093</td>\n",
       "    </tr>\n",
       "    <tr>\n",
       "      <th>1</th>\n",
       "      <td>1.078749</td>\n",
       "      <td>0.050232</td>\n",
       "      <td>Abra de Ilog</td>\n",
       "      <td>PH175101000</td>\n",
       "      <td>None</td>\n",
       "      <td>None</td>\n",
       "      <td>None</td>\n",
       "      <td>Occidental Mindoro</td>\n",
       "      <td>PH175100000</td>\n",
       "      <td>Region IV-B</td>\n",
       "      <td>PH170000000</td>\n",
       "      <td>Philippines (the)</td>\n",
       "      <td>PH</td>\n",
       "      <td>2016-06-30</td>\n",
       "      <td>2020-05-29</td>\n",
       "      <td>None</td>\n",
       "      <td>POLYGON ((13423362.388 1517141.304, 13423357.8...</td>\n",
       "      <td>4.936853e+06</td>\n",
       "      <td>2.860318</td>\n",
       "      <td>0.0</td>\n",
       "      <td>45646.0</td>\n",
       "      <td>14268.619735</td>\n",
       "      <td>3.903081</td>\n",
       "      <td>0.0</td>\n",
       "      <td>45887.0</td>\n",
       "      <td>13957.743767</td>\n",
       "      <td>0.010536</td>\n",
       "      <td>0.0</td>\n",
       "      <td>50.0</td>\n",
       "      <td>12.637906</td>\n",
       "    </tr>\n",
       "    <tr>\n",
       "      <th>2</th>\n",
       "      <td>0.424301</td>\n",
       "      <td>0.006453</td>\n",
       "      <td>Abucay</td>\n",
       "      <td>PH030801000</td>\n",
       "      <td>None</td>\n",
       "      <td>None</td>\n",
       "      <td>None</td>\n",
       "      <td>Bataan</td>\n",
       "      <td>PH030800000</td>\n",
       "      <td>Region III</td>\n",
       "      <td>PH030000000</td>\n",
       "      <td>Philippines (the)</td>\n",
       "      <td>PH</td>\n",
       "      <td>2016-06-30</td>\n",
       "      <td>2020-05-29</td>\n",
       "      <td>None</td>\n",
       "      <td>POLYGON ((13413856.918 1661111.879, 13413828.5...</td>\n",
       "      <td>2.623661e+07</td>\n",
       "      <td>185.766109</td>\n",
       "      <td>0.0</td>\n",
       "      <td>173083.0</td>\n",
       "      <td>38251.942012</td>\n",
       "      <td>159.495345</td>\n",
       "      <td>0.0</td>\n",
       "      <td>124838.0</td>\n",
       "      <td>29400.199469</td>\n",
       "      <td>0.041733</td>\n",
       "      <td>0.0</td>\n",
       "      <td>100.0</td>\n",
       "      <td>16.147136</td>\n",
       "    </tr>\n",
       "    <tr>\n",
       "      <th>3</th>\n",
       "      <td>0.566053</td>\n",
       "      <td>0.011343</td>\n",
       "      <td>Abulug</td>\n",
       "      <td>PH021501000</td>\n",
       "      <td>None</td>\n",
       "      <td>None</td>\n",
       "      <td>None</td>\n",
       "      <td>Cagayan</td>\n",
       "      <td>PH021500000</td>\n",
       "      <td>Region II</td>\n",
       "      <td>PH020000000</td>\n",
       "      <td>Philippines (the)</td>\n",
       "      <td>PH</td>\n",
       "      <td>2016-06-30</td>\n",
       "      <td>2020-05-29</td>\n",
       "      <td>None</td>\n",
       "      <td>POLYGON ((13518031.782 2092225.344, 13517997.6...</td>\n",
       "      <td>2.918788e+07</td>\n",
       "      <td>109.308588</td>\n",
       "      <td>0.0</td>\n",
       "      <td>196266.0</td>\n",
       "      <td>47442.968071</td>\n",
       "      <td>120.987768</td>\n",
       "      <td>0.0</td>\n",
       "      <td>185160.0</td>\n",
       "      <td>49287.434137</td>\n",
       "      <td>0.076236</td>\n",
       "      <td>0.0</td>\n",
       "      <td>397.0</td>\n",
       "      <td>46.589298</td>\n",
       "    </tr>\n",
       "    <tr>\n",
       "      <th>4</th>\n",
       "      <td>1.013649</td>\n",
       "      <td>0.026124</td>\n",
       "      <td>Abuyog</td>\n",
       "      <td>PH083701000</td>\n",
       "      <td>None</td>\n",
       "      <td>None</td>\n",
       "      <td>None</td>\n",
       "      <td>Leyte</td>\n",
       "      <td>PH083700000</td>\n",
       "      <td>Region VIII</td>\n",
       "      <td>PH080000000</td>\n",
       "      <td>Philippines (the)</td>\n",
       "      <td>PH</td>\n",
       "      <td>2016-06-30</td>\n",
       "      <td>2020-05-29</td>\n",
       "      <td>None</td>\n",
       "      <td>MULTIPOLYGON (((13917924.351 1202068.549, 1391...</td>\n",
       "      <td>2.717855e+07</td>\n",
       "      <td>26.219262</td>\n",
       "      <td>0.0</td>\n",
       "      <td>312344.0</td>\n",
       "      <td>46020.941506</td>\n",
       "      <td>19.246952</td>\n",
       "      <td>0.0</td>\n",
       "      <td>236599.0</td>\n",
       "      <td>35943.301522</td>\n",
       "      <td>0.038354</td>\n",
       "      <td>0.0</td>\n",
       "      <td>171.0</td>\n",
       "      <td>35.779096</td>\n",
       "    </tr>\n",
       "  </tbody>\n",
       "</table>\n",
       "</div>"
      ],
      "text/plain": [
       "   Shape_Leng  Shape_Area       ADM3_EN   ADM3_PCODE ADM3_REF ADM3ALT1EN ADM3ALT2EN             ADM2_EN   ADM2_PCODE      ADM1_EN   ADM1_PCODE            ADM0_EN ADM0_PCODE        date     validOn validTo                                           geometry  intersect_area_sum  avg_d_kbps_mean  avg_d_kbps_min  avg_d_kbps_max  avg_d_kbps_std  avg_u_kbps_mean  avg_u_kbps_min  avg_u_kbps_max  avg_u_kbps_std  avg_lat_ms_mean  avg_lat_ms_min  avg_lat_ms_max  avg_lat_ms_std\n",
       "0    1.601219    0.063496       Aborlan  PH175301000     None       None       None             Palawan  PH175300000  Region IV-B  PH170000000  Philippines (the)         PH  2016-06-30  2020-05-29    None  MULTIPOLYGON (((13200654.486 1048534.319, 1320...        9.854986e+06        23.046103             0.0        203322.0    55245.906786        27.819618             0.0        358739.0    82672.053338         0.018618             0.0            85.0       16.834093\n",
       "1    1.078749    0.050232  Abra de Ilog  PH175101000     None       None       None  Occidental Mindoro  PH175100000  Region IV-B  PH170000000  Philippines (the)         PH  2016-06-30  2020-05-29    None  POLYGON ((13423362.388 1517141.304, 13423357.8...        4.936853e+06         2.860318             0.0         45646.0    14268.619735         3.903081             0.0         45887.0    13957.743767         0.010536             0.0            50.0       12.637906\n",
       "2    0.424301    0.006453        Abucay  PH030801000     None       None       None              Bataan  PH030800000   Region III  PH030000000  Philippines (the)         PH  2016-06-30  2020-05-29    None  POLYGON ((13413856.918 1661111.879, 13413828.5...        2.623661e+07       185.766109             0.0        173083.0    38251.942012       159.495345             0.0        124838.0    29400.199469         0.041733             0.0           100.0       16.147136\n",
       "3    0.566053    0.011343        Abulug  PH021501000     None       None       None             Cagayan  PH021500000    Region II  PH020000000  Philippines (the)         PH  2016-06-30  2020-05-29    None  POLYGON ((13518031.782 2092225.344, 13517997.6...        2.918788e+07       109.308588             0.0        196266.0    47442.968071       120.987768             0.0        185160.0    49287.434137         0.076236             0.0           397.0       46.589298\n",
       "4    1.013649    0.026124        Abuyog  PH083701000     None       None       None               Leyte  PH083700000  Region VIII  PH080000000  Philippines (the)         PH  2016-06-30  2020-05-29    None  MULTIPOLYGON (((13917924.351 1202068.549, 1391...        2.717855e+07        26.219262             0.0        312344.0    46020.941506        19.246952             0.0        236599.0    35943.301522         0.038354             0.0           171.0       35.779096"
      ]
     },
     "execution_count": 26,
     "metadata": {},
     "output_type": "execute_result"
    }
   ],
   "source": [
    "aoi.head()"
   ]
  },
  {
   "cell_type": "code",
   "execution_count": 12,
   "id": "f303907c-62e6-40d5-9fd5-4c99ea39860a",
   "metadata": {
    "tags": []
   },
   "outputs": [
    {
     "name": "stdout",
     "output_type": "stream",
     "text": [
      "CPU times: user 2min 9s, sys: 560 ms, total: 2min 9s\n",
      "Wall time: 2min 9s\n"
     ]
    }
   ],
   "source": [
    "%%time\n",
    "aoi.to_file(\"../data/admin3_internet_aoi.geojson\", driver=\"GeoJSON\")"
   ]
  },
  {
   "cell_type": "code",
   "execution_count": 13,
   "id": "f928d3af-9f82-4812-807d-a073d01e66b6",
   "metadata": {},
   "outputs": [
    {
     "data": {
      "text/plain": [
       "['Shape_Leng',\n",
       " 'Shape_Area',\n",
       " 'ADM3_EN',\n",
       " 'ADM3_PCODE',\n",
       " 'ADM3_REF',\n",
       " 'ADM3ALT1EN',\n",
       " 'ADM3ALT2EN',\n",
       " 'ADM2_EN',\n",
       " 'ADM2_PCODE',\n",
       " 'ADM1_EN',\n",
       " 'ADM1_PCODE',\n",
       " 'ADM0_EN',\n",
       " 'ADM0_PCODE',\n",
       " 'date',\n",
       " 'validOn',\n",
       " 'validTo',\n",
       " 'geometry',\n",
       " 'intersect_area_sum',\n",
       " 'avg_d_kbps_mean',\n",
       " 'avg_d_kbps_min',\n",
       " 'avg_d_kbps_max',\n",
       " 'avg_d_kbps_std',\n",
       " 'avg_u_kbps_mean',\n",
       " 'avg_u_kbps_min',\n",
       " 'avg_u_kbps_max',\n",
       " 'avg_u_kbps_std',\n",
       " 'avg_lat_ms_mean',\n",
       " 'avg_lat_ms_min',\n",
       " 'avg_lat_ms_max',\n",
       " 'avg_lat_ms_std']"
      ]
     },
     "execution_count": 13,
     "metadata": {},
     "output_type": "execute_result"
    }
   ],
   "source": [
    "list(aoi.columns.values)"
   ]
  },
  {
   "cell_type": "code",
   "execution_count": 14,
   "id": "97099816-94c5-426b-9ce0-a94d1823e12d",
   "metadata": {},
   "outputs": [
    {
     "name": "stdout",
     "output_type": "stream",
     "text": [
      "CPU times: user 3.71 ms, sys: 17 µs, total: 3.73 ms\n",
      "Wall time: 3.23 ms\n"
     ]
    }
   ],
   "source": [
    "%%time\n",
    "fastest_mean_download = aoi.sort_values(\"avg_d_kbps_mean\", ascending=False)"
   ]
  },
  {
   "cell_type": "code",
   "execution_count": 16,
   "id": "946cc904-1300-4a8f-b3ef-970677a0eb48",
   "metadata": {},
   "outputs": [
    {
     "data": {
      "text/plain": [
       "1647"
      ]
     },
     "execution_count": 16,
     "metadata": {},
     "output_type": "execute_result"
    }
   ],
   "source": [
    "len(fastest_mean_download)"
   ]
  },
  {
   "cell_type": "code",
   "execution_count": 15,
   "id": "f97ca617-a2fe-4891-ad0d-3de47b7ea3a8",
   "metadata": {},
   "outputs": [
    {
     "data": {
      "text/plain": [
       "Shape_Leng                                                     0.037803\n",
       "Shape_Area                                                     0.000056\n",
       "ADM3_EN                                                         Binondo\n",
       "ADM3_PCODE                                                  PH133902000\n",
       "ADM3_REF                                                           None\n",
       "ADM3ALT1EN                                                         None\n",
       "ADM3ALT2EN                                                         None\n",
       "ADM2_EN                             NCR, City of Manila, First District\n",
       "ADM2_PCODE                                                  PH133900000\n",
       "ADM1_EN                                         National Capital Region\n",
       "ADM1_PCODE                                                  PH130000000\n",
       "ADM0_EN                                               Philippines (the)\n",
       "ADM0_PCODE                                                           PH\n",
       "date                                                         2016-06-30\n",
       "validOn                                                      2020-05-29\n",
       "validTo                                                            None\n",
       "geometry              POLYGON ((13467140.2793258 1643403.80801774, 1...\n",
       "intersect_area_sum                                       2330890.174196\n",
       "avg_d_kbps_mean                                            15125.377199\n",
       "avg_d_kbps_min                                                      0.0\n",
       "avg_d_kbps_max                                                  97827.0\n",
       "avg_d_kbps_std                                              4141.081774\n",
       "avg_u_kbps_mean                                            12152.916247\n",
       "avg_u_kbps_min                                                      0.0\n",
       "avg_u_kbps_max                                                  80923.0\n",
       "avg_u_kbps_std                                              5625.791089\n",
       "avg_lat_ms_mean                                                1.228832\n",
       "avg_lat_ms_min                                                      0.0\n",
       "avg_lat_ms_max                                                      8.0\n",
       "avg_lat_ms_std                                                 0.923381\n",
       "Name: 211, dtype: object"
      ]
     },
     "execution_count": 15,
     "metadata": {},
     "output_type": "execute_result"
    }
   ],
   "source": [
    "fastest_mean_download.iloc[0]"
   ]
  },
  {
   "cell_type": "code",
   "execution_count": 17,
   "id": "aadf0459-e05c-495e-855e-4d8cf9d60a5c",
   "metadata": {},
   "outputs": [
    {
     "data": {
      "text/html": [
       "<div>\n",
       "<style scoped>\n",
       "    .dataframe tbody tr th:only-of-type {\n",
       "        vertical-align: middle;\n",
       "    }\n",
       "\n",
       "    .dataframe tbody tr th {\n",
       "        vertical-align: top;\n",
       "    }\n",
       "\n",
       "    .dataframe thead th {\n",
       "        text-align: right;\n",
       "    }\n",
       "</style>\n",
       "<table border=\"1\" class=\"dataframe\">\n",
       "  <thead>\n",
       "    <tr style=\"text-align: right;\">\n",
       "      <th></th>\n",
       "      <th>Shape_Leng</th>\n",
       "      <th>Shape_Area</th>\n",
       "      <th>ADM3_EN</th>\n",
       "      <th>ADM3_PCODE</th>\n",
       "      <th>ADM3_REF</th>\n",
       "      <th>ADM3ALT1EN</th>\n",
       "      <th>ADM3ALT2EN</th>\n",
       "      <th>ADM2_EN</th>\n",
       "      <th>ADM2_PCODE</th>\n",
       "      <th>ADM1_EN</th>\n",
       "      <th>...</th>\n",
       "      <th>avg_d_kbps_max</th>\n",
       "      <th>avg_d_kbps_std</th>\n",
       "      <th>avg_u_kbps_mean</th>\n",
       "      <th>avg_u_kbps_min</th>\n",
       "      <th>avg_u_kbps_max</th>\n",
       "      <th>avg_u_kbps_std</th>\n",
       "      <th>avg_lat_ms_mean</th>\n",
       "      <th>avg_lat_ms_min</th>\n",
       "      <th>avg_lat_ms_max</th>\n",
       "      <th>avg_lat_ms_std</th>\n",
       "    </tr>\n",
       "  </thead>\n",
       "  <tbody>\n",
       "    <tr>\n",
       "      <th>211</th>\n",
       "      <td>0.037803</td>\n",
       "      <td>0.000056</td>\n",
       "      <td>Binondo</td>\n",
       "      <td>PH133902000</td>\n",
       "      <td>None</td>\n",
       "      <td>None</td>\n",
       "      <td>None</td>\n",
       "      <td>NCR, City of Manila, First District</td>\n",
       "      <td>PH133900000</td>\n",
       "      <td>National Capital Region</td>\n",
       "      <td>...</td>\n",
       "      <td>97827.0</td>\n",
       "      <td>4141.081774</td>\n",
       "      <td>12152.916247</td>\n",
       "      <td>0.0</td>\n",
       "      <td>80923.0</td>\n",
       "      <td>5625.791089</td>\n",
       "      <td>1.228832</td>\n",
       "      <td>0.0</td>\n",
       "      <td>8.0</td>\n",
       "      <td>0.923381</td>\n",
       "    </tr>\n",
       "    <tr>\n",
       "      <th>1343</th>\n",
       "      <td>0.053487</td>\n",
       "      <td>0.000078</td>\n",
       "      <td>San Nicolas</td>\n",
       "      <td>PH133904000</td>\n",
       "      <td>None</td>\n",
       "      <td>None</td>\n",
       "      <td>None</td>\n",
       "      <td>NCR, City of Manila, First District</td>\n",
       "      <td>PH133900000</td>\n",
       "      <td>National Capital Region</td>\n",
       "      <td>...</td>\n",
       "      <td>102244.0</td>\n",
       "      <td>7120.360056</td>\n",
       "      <td>9006.193022</td>\n",
       "      <td>0.0</td>\n",
       "      <td>86747.0</td>\n",
       "      <td>7700.042780</td>\n",
       "      <td>0.704346</td>\n",
       "      <td>0.0</td>\n",
       "      <td>8.0</td>\n",
       "      <td>1.506245</td>\n",
       "    </tr>\n",
       "    <tr>\n",
       "      <th>1192</th>\n",
       "      <td>0.037150</td>\n",
       "      <td>0.000074</td>\n",
       "      <td>Quiapo</td>\n",
       "      <td>PH133903000</td>\n",
       "      <td>None</td>\n",
       "      <td>None</td>\n",
       "      <td>None</td>\n",
       "      <td>NCR, City of Manila, First District</td>\n",
       "      <td>PH133900000</td>\n",
       "      <td>National Capital Region</td>\n",
       "      <td>...</td>\n",
       "      <td>98873.0</td>\n",
       "      <td>10795.824603</td>\n",
       "      <td>8118.883151</td>\n",
       "      <td>0.0</td>\n",
       "      <td>80923.0</td>\n",
       "      <td>6614.199092</td>\n",
       "      <td>0.918342</td>\n",
       "      <td>0.0</td>\n",
       "      <td>9.0</td>\n",
       "      <td>0.907896</td>\n",
       "    </tr>\n",
       "    <tr>\n",
       "      <th>1336</th>\n",
       "      <td>0.048487</td>\n",
       "      <td>0.000076</td>\n",
       "      <td>San Miguel</td>\n",
       "      <td>PH133907000</td>\n",
       "      <td>None</td>\n",
       "      <td>None</td>\n",
       "      <td>None</td>\n",
       "      <td>NCR, City of Manila, First District</td>\n",
       "      <td>PH133900000</td>\n",
       "      <td>National Capital Region</td>\n",
       "      <td>...</td>\n",
       "      <td>98873.0</td>\n",
       "      <td>9888.900686</td>\n",
       "      <td>6668.758487</td>\n",
       "      <td>0.0</td>\n",
       "      <td>80182.0</td>\n",
       "      <td>7787.458224</td>\n",
       "      <td>0.768447</td>\n",
       "      <td>0.0</td>\n",
       "      <td>11.0</td>\n",
       "      <td>1.742236</td>\n",
       "    </tr>\n",
       "    <tr>\n",
       "      <th>1112</th>\n",
       "      <td>0.068193</td>\n",
       "      <td>0.000135</td>\n",
       "      <td>Pateros</td>\n",
       "      <td>PH137606000</td>\n",
       "      <td>None</td>\n",
       "      <td>None</td>\n",
       "      <td>None</td>\n",
       "      <td>NCR, Fourth District</td>\n",
       "      <td>PH137600000</td>\n",
       "      <td>National Capital Region</td>\n",
       "      <td>...</td>\n",
       "      <td>111250.0</td>\n",
       "      <td>14222.228691</td>\n",
       "      <td>7589.466134</td>\n",
       "      <td>0.0</td>\n",
       "      <td>111699.0</td>\n",
       "      <td>16454.487517</td>\n",
       "      <td>0.653218</td>\n",
       "      <td>0.0</td>\n",
       "      <td>22.0</td>\n",
       "      <td>6.301402</td>\n",
       "    </tr>\n",
       "  </tbody>\n",
       "</table>\n",
       "<p>5 rows × 30 columns</p>\n",
       "</div>"
      ],
      "text/plain": [
       "      Shape_Leng  Shape_Area      ADM3_EN   ADM3_PCODE ADM3_REF ADM3ALT1EN  \\\n",
       "211     0.037803    0.000056      Binondo  PH133902000     None       None   \n",
       "1343    0.053487    0.000078  San Nicolas  PH133904000     None       None   \n",
       "1192    0.037150    0.000074       Quiapo  PH133903000     None       None   \n",
       "1336    0.048487    0.000076   San Miguel  PH133907000     None       None   \n",
       "1112    0.068193    0.000135      Pateros  PH137606000     None       None   \n",
       "\n",
       "     ADM3ALT2EN                              ADM2_EN   ADM2_PCODE  \\\n",
       "211        None  NCR, City of Manila, First District  PH133900000   \n",
       "1343       None  NCR, City of Manila, First District  PH133900000   \n",
       "1192       None  NCR, City of Manila, First District  PH133900000   \n",
       "1336       None  NCR, City of Manila, First District  PH133900000   \n",
       "1112       None                 NCR, Fourth District  PH137600000   \n",
       "\n",
       "                      ADM1_EN  ... avg_d_kbps_max avg_d_kbps_std  \\\n",
       "211   National Capital Region  ...        97827.0    4141.081774   \n",
       "1343  National Capital Region  ...       102244.0    7120.360056   \n",
       "1192  National Capital Region  ...        98873.0   10795.824603   \n",
       "1336  National Capital Region  ...        98873.0    9888.900686   \n",
       "1112  National Capital Region  ...       111250.0   14222.228691   \n",
       "\n",
       "     avg_u_kbps_mean avg_u_kbps_min avg_u_kbps_max avg_u_kbps_std  \\\n",
       "211     12152.916247            0.0        80923.0    5625.791089   \n",
       "1343     9006.193022            0.0        86747.0    7700.042780   \n",
       "1192     8118.883151            0.0        80923.0    6614.199092   \n",
       "1336     6668.758487            0.0        80182.0    7787.458224   \n",
       "1112     7589.466134            0.0       111699.0   16454.487517   \n",
       "\n",
       "     avg_lat_ms_mean  avg_lat_ms_min  avg_lat_ms_max  avg_lat_ms_std  \n",
       "211         1.228832             0.0             8.0        0.923381  \n",
       "1343        0.704346             0.0             8.0        1.506245  \n",
       "1192        0.918342             0.0             9.0        0.907896  \n",
       "1336        0.768447             0.0            11.0        1.742236  \n",
       "1112        0.653218             0.0            22.0        6.301402  \n",
       "\n",
       "[5 rows x 30 columns]"
      ]
     },
     "execution_count": 17,
     "metadata": {},
     "output_type": "execute_result"
    }
   ],
   "source": [
    "fastest_mean_download.head()"
   ]
  },
  {
   "cell_type": "code",
   "execution_count": 24,
   "id": "b22a8c7a-fd59-40ab-ac20-7039601d4c10",
   "metadata": {},
   "outputs": [
    {
     "data": {
      "text/html": [
       "<div>\n",
       "<style scoped>\n",
       "    .dataframe tbody tr th:only-of-type {\n",
       "        vertical-align: middle;\n",
       "    }\n",
       "\n",
       "    .dataframe tbody tr th {\n",
       "        vertical-align: top;\n",
       "    }\n",
       "\n",
       "    .dataframe thead th {\n",
       "        text-align: right;\n",
       "    }\n",
       "</style>\n",
       "<table border=\"1\" class=\"dataframe\">\n",
       "  <thead>\n",
       "    <tr style=\"text-align: right;\">\n",
       "      <th></th>\n",
       "      <th>Shape_Leng</th>\n",
       "      <th>Shape_Area</th>\n",
       "      <th>ADM3_EN</th>\n",
       "      <th>ADM3_PCODE</th>\n",
       "      <th>ADM3_REF</th>\n",
       "      <th>ADM3ALT1EN</th>\n",
       "      <th>ADM3ALT2EN</th>\n",
       "      <th>ADM2_EN</th>\n",
       "      <th>ADM2_PCODE</th>\n",
       "      <th>ADM1_EN</th>\n",
       "      <th>ADM1_PCODE</th>\n",
       "      <th>ADM0_EN</th>\n",
       "      <th>ADM0_PCODE</th>\n",
       "      <th>date</th>\n",
       "      <th>validOn</th>\n",
       "      <th>validTo</th>\n",
       "      <th>geometry</th>\n",
       "      <th>intersect_area_sum</th>\n",
       "      <th>avg_d_kbps_mean</th>\n",
       "      <th>avg_d_kbps_min</th>\n",
       "      <th>avg_d_kbps_max</th>\n",
       "      <th>avg_d_kbps_std</th>\n",
       "      <th>avg_u_kbps_mean</th>\n",
       "      <th>avg_u_kbps_min</th>\n",
       "      <th>avg_u_kbps_max</th>\n",
       "      <th>avg_u_kbps_std</th>\n",
       "      <th>avg_lat_ms_mean</th>\n",
       "      <th>avg_lat_ms_min</th>\n",
       "      <th>avg_lat_ms_max</th>\n",
       "      <th>avg_lat_ms_std</th>\n",
       "    </tr>\n",
       "  </thead>\n",
       "  <tbody>\n",
       "    <tr>\n",
       "      <th>1519</th>\n",
       "      <td>0.621201</td>\n",
       "      <td>0.014129</td>\n",
       "      <td>Tagoloan II</td>\n",
       "      <td>PH153638000</td>\n",
       "      <td>None</td>\n",
       "      <td>None</td>\n",
       "      <td>None</td>\n",
       "      <td>Lanao del Sur</td>\n",
       "      <td>PH153600000</td>\n",
       "      <td>Autonomous Region in Muslim Mindanao</td>\n",
       "      <td>PH150000000</td>\n",
       "      <td>Philippines (the)</td>\n",
       "      <td>PH</td>\n",
       "      <td>2016-06-30</td>\n",
       "      <td>2020-05-29</td>\n",
       "      <td>None</td>\n",
       "      <td>POLYGON ((13857518.824 911259.513, 13857500.76...</td>\n",
       "      <td>NaN</td>\n",
       "      <td>NaN</td>\n",
       "      <td>0.0</td>\n",
       "      <td>NaN</td>\n",
       "      <td>NaN</td>\n",
       "      <td>NaN</td>\n",
       "      <td>0.0</td>\n",
       "      <td>NaN</td>\n",
       "      <td>NaN</td>\n",
       "      <td>NaN</td>\n",
       "      <td>0.0</td>\n",
       "      <td>NaN</td>\n",
       "      <td>NaN</td>\n",
       "    </tr>\n",
       "    <tr>\n",
       "      <th>1547</th>\n",
       "      <td>0.905010</td>\n",
       "      <td>0.028804</td>\n",
       "      <td>Tanudan</td>\n",
       "      <td>PH143214000</td>\n",
       "      <td>None</td>\n",
       "      <td>None</td>\n",
       "      <td>None</td>\n",
       "      <td>Kalinga</td>\n",
       "      <td>PH143200000</td>\n",
       "      <td>Cordillera Administrative Region</td>\n",
       "      <td>PH140000000</td>\n",
       "      <td>Philippines (the)</td>\n",
       "      <td>PH</td>\n",
       "      <td>2016-06-30</td>\n",
       "      <td>2020-05-29</td>\n",
       "      <td>None</td>\n",
       "      <td>POLYGON ((13498714.679 1965318.258, 13498503.1...</td>\n",
       "      <td>NaN</td>\n",
       "      <td>NaN</td>\n",
       "      <td>0.0</td>\n",
       "      <td>NaN</td>\n",
       "      <td>NaN</td>\n",
       "      <td>NaN</td>\n",
       "      <td>0.0</td>\n",
       "      <td>NaN</td>\n",
       "      <td>NaN</td>\n",
       "      <td>NaN</td>\n",
       "      <td>0.0</td>\n",
       "      <td>NaN</td>\n",
       "      <td>NaN</td>\n",
       "    </tr>\n",
       "    <tr>\n",
       "      <th>1550</th>\n",
       "      <td>1.006230</td>\n",
       "      <td>0.004595</td>\n",
       "      <td>Tapul</td>\n",
       "      <td>PH156614000</td>\n",
       "      <td>None</td>\n",
       "      <td>None</td>\n",
       "      <td>None</td>\n",
       "      <td>Sulu</td>\n",
       "      <td>PH156600000</td>\n",
       "      <td>Autonomous Region in Muslim Mindanao</td>\n",
       "      <td>PH150000000</td>\n",
       "      <td>Philippines (the)</td>\n",
       "      <td>PH</td>\n",
       "      <td>2016-06-30</td>\n",
       "      <td>2020-05-29</td>\n",
       "      <td>None</td>\n",
       "      <td>MULTIPOLYGON (((13471082.025 633930.674, 13471...</td>\n",
       "      <td>NaN</td>\n",
       "      <td>NaN</td>\n",
       "      <td>0.0</td>\n",
       "      <td>NaN</td>\n",
       "      <td>NaN</td>\n",
       "      <td>NaN</td>\n",
       "      <td>0.0</td>\n",
       "      <td>NaN</td>\n",
       "      <td>NaN</td>\n",
       "      <td>NaN</td>\n",
       "      <td>0.0</td>\n",
       "      <td>NaN</td>\n",
       "      <td>NaN</td>\n",
       "    </tr>\n",
       "    <tr>\n",
       "      <th>1590</th>\n",
       "      <td>0.351303</td>\n",
       "      <td>0.003688</td>\n",
       "      <td>Tubaran</td>\n",
       "      <td>PH153628000</td>\n",
       "      <td>None</td>\n",
       "      <td>None</td>\n",
       "      <td>None</td>\n",
       "      <td>Lanao del Sur</td>\n",
       "      <td>PH153600000</td>\n",
       "      <td>Autonomous Region in Muslim Mindanao</td>\n",
       "      <td>PH150000000</td>\n",
       "      <td>Philippines (the)</td>\n",
       "      <td>PH</td>\n",
       "      <td>2016-06-30</td>\n",
       "      <td>2020-05-29</td>\n",
       "      <td>None</td>\n",
       "      <td>POLYGON ((13821976.978 867596.319, 13821917.49...</td>\n",
       "      <td>NaN</td>\n",
       "      <td>NaN</td>\n",
       "      <td>0.0</td>\n",
       "      <td>NaN</td>\n",
       "      <td>NaN</td>\n",
       "      <td>NaN</td>\n",
       "      <td>0.0</td>\n",
       "      <td>NaN</td>\n",
       "      <td>NaN</td>\n",
       "      <td>NaN</td>\n",
       "      <td>0.0</td>\n",
       "      <td>NaN</td>\n",
       "      <td>NaN</td>\n",
       "    </tr>\n",
       "    <tr>\n",
       "      <th>1610</th>\n",
       "      <td>0.184227</td>\n",
       "      <td>0.000283</td>\n",
       "      <td>Turtle Islands</td>\n",
       "      <td>PH157008000</td>\n",
       "      <td>None</td>\n",
       "      <td>None</td>\n",
       "      <td>None</td>\n",
       "      <td>Tawi-Tawi</td>\n",
       "      <td>PH157000000</td>\n",
       "      <td>Autonomous Region in Muslim Mindanao</td>\n",
       "      <td>PH150000000</td>\n",
       "      <td>Philippines (the)</td>\n",
       "      <td>PH</td>\n",
       "      <td>2016-06-30</td>\n",
       "      <td>2020-05-29</td>\n",
       "      <td>None</td>\n",
       "      <td>MULTIPOLYGON (((13171068.340 678847.566, 13171...</td>\n",
       "      <td>NaN</td>\n",
       "      <td>NaN</td>\n",
       "      <td>0.0</td>\n",
       "      <td>NaN</td>\n",
       "      <td>NaN</td>\n",
       "      <td>NaN</td>\n",
       "      <td>0.0</td>\n",
       "      <td>NaN</td>\n",
       "      <td>NaN</td>\n",
       "      <td>NaN</td>\n",
       "      <td>0.0</td>\n",
       "      <td>NaN</td>\n",
       "      <td>NaN</td>\n",
       "    </tr>\n",
       "  </tbody>\n",
       "</table>\n",
       "</div>"
      ],
      "text/plain": [
       "      Shape_Leng  Shape_Area         ADM3_EN   ADM3_PCODE ADM3_REF ADM3ALT1EN ADM3ALT2EN        ADM2_EN   ADM2_PCODE                               ADM1_EN   ADM1_PCODE            ADM0_EN ADM0_PCODE        date     validOn validTo                                           geometry  intersect_area_sum  avg_d_kbps_mean  avg_d_kbps_min  avg_d_kbps_max  avg_d_kbps_std  avg_u_kbps_mean  avg_u_kbps_min  avg_u_kbps_max  avg_u_kbps_std  avg_lat_ms_mean  avg_lat_ms_min  avg_lat_ms_max  avg_lat_ms_std\n",
       "1519    0.621201    0.014129     Tagoloan II  PH153638000     None       None       None  Lanao del Sur  PH153600000  Autonomous Region in Muslim Mindanao  PH150000000  Philippines (the)         PH  2016-06-30  2020-05-29    None  POLYGON ((13857518.824 911259.513, 13857500.76...                 NaN              NaN             0.0             NaN             NaN              NaN             0.0             NaN             NaN              NaN             0.0             NaN             NaN\n",
       "1547    0.905010    0.028804         Tanudan  PH143214000     None       None       None        Kalinga  PH143200000      Cordillera Administrative Region  PH140000000  Philippines (the)         PH  2016-06-30  2020-05-29    None  POLYGON ((13498714.679 1965318.258, 13498503.1...                 NaN              NaN             0.0             NaN             NaN              NaN             0.0             NaN             NaN              NaN             0.0             NaN             NaN\n",
       "1550    1.006230    0.004595           Tapul  PH156614000     None       None       None           Sulu  PH156600000  Autonomous Region in Muslim Mindanao  PH150000000  Philippines (the)         PH  2016-06-30  2020-05-29    None  MULTIPOLYGON (((13471082.025 633930.674, 13471...                 NaN              NaN             0.0             NaN             NaN              NaN             0.0             NaN             NaN              NaN             0.0             NaN             NaN\n",
       "1590    0.351303    0.003688         Tubaran  PH153628000     None       None       None  Lanao del Sur  PH153600000  Autonomous Region in Muslim Mindanao  PH150000000  Philippines (the)         PH  2016-06-30  2020-05-29    None  POLYGON ((13821976.978 867596.319, 13821917.49...                 NaN              NaN             0.0             NaN             NaN              NaN             0.0             NaN             NaN              NaN             0.0             NaN             NaN\n",
       "1610    0.184227    0.000283  Turtle Islands  PH157008000     None       None       None      Tawi-Tawi  PH157000000  Autonomous Region in Muslim Mindanao  PH150000000  Philippines (the)         PH  2016-06-30  2020-05-29    None  MULTIPOLYGON (((13171068.340 678847.566, 13171...                 NaN              NaN             0.0             NaN             NaN              NaN             0.0             NaN             NaN              NaN             0.0             NaN             NaN"
      ]
     },
     "execution_count": 24,
     "metadata": {},
     "output_type": "execute_result"
    }
   ],
   "source": [
    "fastest_mean_download.tail()"
   ]
  },
  {
   "cell_type": "code",
   "execution_count": 25,
   "id": "4ff1350b-b827-4b8f-8729-0ce9c0931b87",
   "metadata": {},
   "outputs": [
    {
     "data": {
      "text/html": [
       "<div>\n",
       "<style scoped>\n",
       "    .dataframe tbody tr th:only-of-type {\n",
       "        vertical-align: middle;\n",
       "    }\n",
       "\n",
       "    .dataframe tbody tr th {\n",
       "        vertical-align: top;\n",
       "    }\n",
       "\n",
       "    .dataframe thead th {\n",
       "        text-align: right;\n",
       "    }\n",
       "</style>\n",
       "<table border=\"1\" class=\"dataframe\">\n",
       "  <thead>\n",
       "    <tr style=\"text-align: right;\">\n",
       "      <th></th>\n",
       "      <th>Shape_Leng</th>\n",
       "      <th>Shape_Area</th>\n",
       "      <th>ADM3_EN</th>\n",
       "      <th>ADM3_PCODE</th>\n",
       "      <th>ADM3_REF</th>\n",
       "      <th>ADM3ALT1EN</th>\n",
       "      <th>ADM3ALT2EN</th>\n",
       "      <th>ADM2_EN</th>\n",
       "      <th>ADM2_PCODE</th>\n",
       "      <th>ADM1_EN</th>\n",
       "      <th>ADM1_PCODE</th>\n",
       "      <th>ADM0_EN</th>\n",
       "      <th>ADM0_PCODE</th>\n",
       "      <th>date</th>\n",
       "      <th>validOn</th>\n",
       "      <th>validTo</th>\n",
       "      <th>geometry</th>\n",
       "      <th>intersect_area_sum</th>\n",
       "      <th>avg_d_kbps_mean</th>\n",
       "      <th>avg_d_kbps_min</th>\n",
       "      <th>avg_d_kbps_max</th>\n",
       "      <th>avg_d_kbps_std</th>\n",
       "      <th>avg_u_kbps_mean</th>\n",
       "      <th>avg_u_kbps_min</th>\n",
       "      <th>avg_u_kbps_max</th>\n",
       "      <th>avg_u_kbps_std</th>\n",
       "      <th>avg_lat_ms_mean</th>\n",
       "      <th>avg_lat_ms_min</th>\n",
       "      <th>avg_lat_ms_max</th>\n",
       "      <th>avg_lat_ms_std</th>\n",
       "    </tr>\n",
       "  </thead>\n",
       "  <tbody>\n",
       "    <tr>\n",
       "      <th>956</th>\n",
       "      <td>0.817275</td>\n",
       "      <td>0.031173</td>\n",
       "      <td>Matuguinao</td>\n",
       "      <td>PH086011000</td>\n",
       "      <td>None</td>\n",
       "      <td>None</td>\n",
       "      <td>None</td>\n",
       "      <td>Samar</td>\n",
       "      <td>PH086000000</td>\n",
       "      <td>Region VIII</td>\n",
       "      <td>PH080000000</td>\n",
       "      <td>Philippines (the)</td>\n",
       "      <td>PH</td>\n",
       "      <td>2016-06-30</td>\n",
       "      <td>2020-05-29</td>\n",
       "      <td>None</td>\n",
       "      <td>POLYGON ((13931722.896 1378185.002, 13931222.5...</td>\n",
       "      <td>3.739276e+05</td>\n",
       "      <td>1.013307</td>\n",
       "      <td>0.0</td>\n",
       "      <td>1071.0</td>\n",
       "      <td>NaN</td>\n",
       "      <td>1.216725</td>\n",
       "      <td>0.0</td>\n",
       "      <td>1286.0</td>\n",
       "      <td>NaN</td>\n",
       "      <td>0.966000</td>\n",
       "      <td>0.0</td>\n",
       "      <td>1021.0</td>\n",
       "      <td>NaN</td>\n",
       "    </tr>\n",
       "    <tr>\n",
       "      <th>852</th>\n",
       "      <td>1.082705</td>\n",
       "      <td>0.039482</td>\n",
       "      <td>Maconacon</td>\n",
       "      <td>PH023117000</td>\n",
       "      <td>None</td>\n",
       "      <td>None</td>\n",
       "      <td>None</td>\n",
       "      <td>Isabela</td>\n",
       "      <td>PH023100000</td>\n",
       "      <td>Region II</td>\n",
       "      <td>PH020000000</td>\n",
       "      <td>Philippines (the)</td>\n",
       "      <td>PH</td>\n",
       "      <td>2016-06-30</td>\n",
       "      <td>2020-05-29</td>\n",
       "      <td>None</td>\n",
       "      <td>POLYGON ((13598700.671 1989130.951, 13597718.7...</td>\n",
       "      <td>7.478553e+05</td>\n",
       "      <td>0.918390</td>\n",
       "      <td>0.0</td>\n",
       "      <td>1475.0</td>\n",
       "      <td>304.763023</td>\n",
       "      <td>1.488602</td>\n",
       "      <td>0.0</td>\n",
       "      <td>2263.0</td>\n",
       "      <td>313.248304</td>\n",
       "      <td>0.456825</td>\n",
       "      <td>0.0</td>\n",
       "      <td>644.0</td>\n",
       "      <td>24.748737</td>\n",
       "    </tr>\n",
       "    <tr>\n",
       "      <th>267</th>\n",
       "      <td>0.806511</td>\n",
       "      <td>0.038541</td>\n",
       "      <td>Butig</td>\n",
       "      <td>PH153607000</td>\n",
       "      <td>None</td>\n",
       "      <td>None</td>\n",
       "      <td>None</td>\n",
       "      <td>Lanao del Sur</td>\n",
       "      <td>PH153600000</td>\n",
       "      <td>Autonomous Region in Muslim Mindanao</td>\n",
       "      <td>PH150000000</td>\n",
       "      <td>Philippines (the)</td>\n",
       "      <td>PH</td>\n",
       "      <td>2016-06-30</td>\n",
       "      <td>2020-05-29</td>\n",
       "      <td>None</td>\n",
       "      <td>POLYGON ((13839648.414 869312.150, 13839602.78...</td>\n",
       "      <td>1.121783e+06</td>\n",
       "      <td>0.677109</td>\n",
       "      <td>0.0</td>\n",
       "      <td>1206.0</td>\n",
       "      <td>357.567243</td>\n",
       "      <td>0.383298</td>\n",
       "      <td>0.0</td>\n",
       "      <td>1036.0</td>\n",
       "      <td>469.539136</td>\n",
       "      <td>0.123628</td>\n",
       "      <td>0.0</td>\n",
       "      <td>243.0</td>\n",
       "      <td>72.459184</td>\n",
       "    </tr>\n",
       "    <tr>\n",
       "      <th>1568</th>\n",
       "      <td>1.218906</td>\n",
       "      <td>0.063444</td>\n",
       "      <td>Tineg</td>\n",
       "      <td>PH140125000</td>\n",
       "      <td>None</td>\n",
       "      <td>None</td>\n",
       "      <td>None</td>\n",
       "      <td>Abra</td>\n",
       "      <td>PH140100000</td>\n",
       "      <td>Cordillera Administrative Region</td>\n",
       "      <td>PH140000000</td>\n",
       "      <td>Philippines (the)</td>\n",
       "      <td>PH</td>\n",
       "      <td>2016-06-30</td>\n",
       "      <td>2020-05-29</td>\n",
       "      <td>None</td>\n",
       "      <td>POLYGON ((13465327.328 2032103.818, 13464797.0...</td>\n",
       "      <td>3.739276e+05</td>\n",
       "      <td>0.134018</td>\n",
       "      <td>0.0</td>\n",
       "      <td>296.0</td>\n",
       "      <td>NaN</td>\n",
       "      <td>1.649418</td>\n",
       "      <td>0.0</td>\n",
       "      <td>3643.0</td>\n",
       "      <td>NaN</td>\n",
       "      <td>0.307879</td>\n",
       "      <td>0.0</td>\n",
       "      <td>680.0</td>\n",
       "      <td>NaN</td>\n",
       "    </tr>\n",
       "    <tr>\n",
       "      <th>823</th>\n",
       "      <td>0.778690</td>\n",
       "      <td>0.021027</td>\n",
       "      <td>Lumba-Bayabao</td>\n",
       "      <td>PH153611000</td>\n",
       "      <td>None</td>\n",
       "      <td>None</td>\n",
       "      <td>None</td>\n",
       "      <td>Lanao del Sur</td>\n",
       "      <td>PH153600000</td>\n",
       "      <td>Autonomous Region in Muslim Mindanao</td>\n",
       "      <td>PH150000000</td>\n",
       "      <td>Philippines (the)</td>\n",
       "      <td>PH</td>\n",
       "      <td>2016-06-30</td>\n",
       "      <td>2020-05-29</td>\n",
       "      <td>None</td>\n",
       "      <td>MULTIPOLYGON (((13849062.033 879842.145, 13849...</td>\n",
       "      <td>1.054767e+04</td>\n",
       "      <td>0.069545</td>\n",
       "      <td>0.0</td>\n",
       "      <td>5202.0</td>\n",
       "      <td>0.000000</td>\n",
       "      <td>0.085080</td>\n",
       "      <td>0.0</td>\n",
       "      <td>6364.0</td>\n",
       "      <td>0.000000</td>\n",
       "      <td>0.000642</td>\n",
       "      <td>0.0</td>\n",
       "      <td>48.0</td>\n",
       "      <td>0.000000</td>\n",
       "    </tr>\n",
       "  </tbody>\n",
       "</table>\n",
       "</div>"
      ],
      "text/plain": [
       "      Shape_Leng  Shape_Area        ADM3_EN   ADM3_PCODE ADM3_REF ADM3ALT1EN ADM3ALT2EN        ADM2_EN   ADM2_PCODE                               ADM1_EN   ADM1_PCODE            ADM0_EN ADM0_PCODE        date     validOn validTo                                           geometry  intersect_area_sum  avg_d_kbps_mean  avg_d_kbps_min  avg_d_kbps_max  avg_d_kbps_std  avg_u_kbps_mean  avg_u_kbps_min  avg_u_kbps_max  avg_u_kbps_std  avg_lat_ms_mean  avg_lat_ms_min  avg_lat_ms_max  avg_lat_ms_std\n",
       "956     0.817275    0.031173     Matuguinao  PH086011000     None       None       None          Samar  PH086000000                           Region VIII  PH080000000  Philippines (the)         PH  2016-06-30  2020-05-29    None  POLYGON ((13931722.896 1378185.002, 13931222.5...        3.739276e+05         1.013307             0.0          1071.0             NaN         1.216725             0.0          1286.0             NaN         0.966000             0.0          1021.0             NaN\n",
       "852     1.082705    0.039482      Maconacon  PH023117000     None       None       None        Isabela  PH023100000                             Region II  PH020000000  Philippines (the)         PH  2016-06-30  2020-05-29    None  POLYGON ((13598700.671 1989130.951, 13597718.7...        7.478553e+05         0.918390             0.0          1475.0      304.763023         1.488602             0.0          2263.0      313.248304         0.456825             0.0           644.0       24.748737\n",
       "267     0.806511    0.038541          Butig  PH153607000     None       None       None  Lanao del Sur  PH153600000  Autonomous Region in Muslim Mindanao  PH150000000  Philippines (the)         PH  2016-06-30  2020-05-29    None  POLYGON ((13839648.414 869312.150, 13839602.78...        1.121783e+06         0.677109             0.0          1206.0      357.567243         0.383298             0.0          1036.0      469.539136         0.123628             0.0           243.0       72.459184\n",
       "1568    1.218906    0.063444          Tineg  PH140125000     None       None       None           Abra  PH140100000      Cordillera Administrative Region  PH140000000  Philippines (the)         PH  2016-06-30  2020-05-29    None  POLYGON ((13465327.328 2032103.818, 13464797.0...        3.739276e+05         0.134018             0.0           296.0             NaN         1.649418             0.0          3643.0             NaN         0.307879             0.0           680.0             NaN\n",
       "823     0.778690    0.021027  Lumba-Bayabao  PH153611000     None       None       None  Lanao del Sur  PH153600000  Autonomous Region in Muslim Mindanao  PH150000000  Philippines (the)         PH  2016-06-30  2020-05-29    None  MULTIPOLYGON (((13849062.033 879842.145, 13849...        1.054767e+04         0.069545             0.0          5202.0        0.000000         0.085080             0.0          6364.0        0.000000         0.000642             0.0            48.0        0.000000"
      ]
     },
     "execution_count": 25,
     "metadata": {},
     "output_type": "execute_result"
    }
   ],
   "source": [
    "fastest_mean_download[fastest_mean_download.avg_d_kbps_mean.notna()].tail()"
   ]
  },
  {
   "cell_type": "markdown",
   "id": "88f66142-537f-40cb-a928-47d0e5c9e40d",
   "metadata": {
    "id": "88f66142-537f-40cb-a928-47d0e5c9e40d"
   },
   "source": [
    "### Additional Exercises\n",
    "\n",
    "* Repeat the same process to find the fastest and slowest **mobile** internet speeds\n",
    "* Aggregate by adm2 level instead of adm3\n"
   ]
  },
  {
   "cell_type": "code",
   "execution_count": null,
   "id": "064d7b99-b594-44ec-9c5b-9983362a33e0",
   "metadata": {},
   "outputs": [],
   "source": []
  }
 ],
 "metadata": {
  "colab": {
   "name": "geowrangler-quick-overview.ipynb",
   "provenance": [
    {
     "file_id": "https://github.com/thinkingmachines/geowrangler/blob/master/notebooks/tutorial.area_zonal_stats.ipynb",
     "timestamp": 1661157253550
    }
   ]
  },
  "kernelspec": {
   "display_name": "Python 3",
   "language": "python",
   "name": "python3"
  },
  "language_info": {
   "codemirror_mode": {
    "name": "ipython",
    "version": 3
   },
   "file_extension": ".py",
   "mimetype": "text/x-python",
   "name": "python",
   "nbconvert_exporter": "python",
   "pygments_lexer": "ipython3",
   "version": "3.7.12"
  }
 },
 "nbformat": 4,
 "nbformat_minor": 5
}
