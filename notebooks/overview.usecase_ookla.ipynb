{
 "cells": [
  {
   "cell_type": "code",
   "execution_count": 84,
   "id": "1a12bdc5-566a-409c-ae39-3636f131c65d",
   "metadata": {
    "id": "1a12bdc5-566a-409c-ae39-3636f131c65d"
   },
   "outputs": [],
   "source": [
    "# hide\n",
    "# all_slow"
   ]
  },
  {
   "cell_type": "code",
   "execution_count": 85,
   "id": "4832ee28-c56f-454b-ac7d-eb35158220c8",
   "metadata": {
    "id": "4832ee28-c56f-454b-ac7d-eb35158220c8"
   },
   "outputs": [],
   "source": [
    "# hide\n",
    "# no_test\n",
    "! [ -e /content ] && pip install -Uqq git+https://github.com/thinkingmachines/geowrangler.git"
   ]
  },
  {
   "cell_type": "code",
   "execution_count": 86,
   "id": "8dadc39a-8b5f-41fc-9e78-e62f710ae0bb",
   "metadata": {
    "id": "8dadc39a-8b5f-41fc-9e78-e62f710ae0bb"
   },
   "outputs": [],
   "source": [
    "# hide\n",
    "# no_test\n",
    "!mkdir -p ../data\n",
    "![ -e /content ] && ln -s ../data ."
   ]
  },
  {
   "cell_type": "code",
   "execution_count": 87,
   "id": "f59a0b84-0de7-414a-be2e-3e5d3b94b000",
   "metadata": {
    "id": "f59a0b84-0de7-414a-be2e-3e5d3b94b000"
   },
   "outputs": [],
   "source": [
    "# hide\n",
    "# no_test\n",
    "%reload_ext autoreload\n",
    "%autoreload 2\n",
    "%matplotlib inline"
   ]
  },
  {
   "cell_type": "markdown",
   "id": "c0338fb8-6b7f-451d-9af2-cb45778b1038",
   "metadata": {
    "id": "c0338fb8-6b7f-451d-9af2-cb45778b1038",
    "tags": []
   },
   "source": [
    "# Geowrangler Overview - Ookla Demo"
   ]
  },
  {
   "cell_type": "markdown",
   "id": "39db2a30-2b96-4ef1-bae0-1499a79dab2f",
   "metadata": {
    "id": "39db2a30-2b96-4ef1-bae0-1499a79dab2f"
   },
   "source": [
    "> Sample demo for using geowrangler to find the Philippine provinces/towns with the slowest/fastest internet speeds.  "
   ]
  },
  {
   "cell_type": "markdown",
   "id": "zhqGVIF5uOmX",
   "metadata": {
    "id": "zhqGVIF5uOmX"
   },
   "source": [
    "## Summary"
   ]
  },
  {
   "cell_type": "markdown",
   "id": "a35ac6cb-a246-42ca-bd3e-730d941a2485",
   "metadata": {
    "id": "26a4ef83-0f9b-43be-b2cc-e292c7ea4ca1",
    "tags": []
   },
   "source": [
    "### How geowrangler can make this process easier\n",
    "* Validate your geodataframes\n",
    "* Help you download Ookla data (internet speed)\n",
    "* Generate zonal stats for your province/town"
   ]
  },
  {
   "cell_type": "markdown",
   "id": "5c5d1045-d556-4c29-8d60-05708fd86f22",
   "metadata": {
    "id": "26a4ef83-0f9b-43be-b2cc-e292c7ea4ca1",
    "tags": []
   },
   "source": [
    "### What you need to do\n",
    "\n",
    "* Get AOIs - get the boundaries of your admin regions\n",
    "* Download ookla data\n",
    "* Validate AOIs and ookla data\n",
    "* Generate zonal Stats\n",
    "* Analyze and find fastest/slowest internet speeds"
   ]
  },
  {
   "cell_type": "code",
   "execution_count": 88,
   "id": "25607301-578f-488d-92bd-a2d8b91f1b2f",
   "metadata": {
    "id": "25607301-578f-488d-92bd-a2d8b91f1b2f"
   },
   "outputs": [],
   "source": [
    "# hide\n",
    "import warnings\n",
    "\n",
    "warnings.filterwarnings(action=\"ignore\", category=UserWarning, module=\"geopandas\")"
   ]
  },
  {
   "cell_type": "code",
   "execution_count": 89,
   "id": "82012947-cc3e-4b8b-850e-dcd565ad160d",
   "metadata": {
    "id": "82012947-cc3e-4b8b-850e-dcd565ad160d"
   },
   "outputs": [],
   "source": [
    "import geopandas as gpd\n",
    "import matplotlib.pyplot as plt\n",
    "import geowrangler.area_zonal_stats as azs"
   ]
  },
  {
   "cell_type": "code",
   "execution_count": 90,
   "id": "4e88f0e6-d03c-4f14-83da-4b3c13970f06",
   "metadata": {},
   "outputs": [],
   "source": [
    "import pandas as pd\n",
    "\n",
    "pd.set_option(\"display.max_columns\", 500)\n",
    "pd.set_option(\"display.width\", 1000)"
   ]
  },
  {
   "cell_type": "code",
   "execution_count": 91,
   "id": "e0a7872a-e5be-4b3f-a7ae-f9d77c36f4f6",
   "metadata": {
    "id": "e0a7872a-e5be-4b3f-a7ae-f9d77c36f4f6"
   },
   "outputs": [],
   "source": [
    "# hide\n",
    "# no_test\n",
    "!mkdir -p ../data\n",
    "# download sample geojson files from repo\n",
    "# ![ ! -e ../data/region3_population_bgy_level.geojson ] && curl -s -o ../data/region3_population_bgy_level.geojson https://raw.githubusercontent.com/thinkingmachines/geowrangler/master/data/region3_population_bgy_level.geojson"
   ]
  },
  {
   "cell_type": "markdown",
   "id": "0G_7-gWfuXS7",
   "metadata": {
    "id": "0G_7-gWfuXS7"
   },
   "source": [
    "## Tutorial "
   ]
  },
  {
   "cell_type": "markdown",
   "id": "agheFrwBubQx",
   "metadata": {
    "id": "agheFrwBubQx"
   },
   "source": [
    "### Download Admin Areas\n",
    "\n",
    "* Get [data from Humanitarian Data Exchange](https://data.humdata.org/dataset/cod-ab-phl)  "
   ]
  },
  {
   "cell_type": "code",
   "execution_count": 92,
   "id": "15d927a7-5137-46bf-8dca-81c4abf77b5b",
   "metadata": {},
   "outputs": [],
   "source": [
    "# REGION_FILTER = None  # All regions\n",
    "REGION_FILTER = \"National Capital Region\"  # limit to 1 to speed up processing"
   ]
  },
  {
   "cell_type": "code",
   "execution_count": 93,
   "id": "2f1f58e5-f202-43a9-807a-25958dc15b56",
   "metadata": {},
   "outputs": [],
   "source": [
    "phl_admin3_file = \"phl_adminboundaries_candidate_adm3\"\n",
    "phl_admin3_zip = f\"{phl_admin3_file}.zip\"\n",
    "# shapefiles\n",
    "phl_admin3_link = f\"https://data.humdata.org/dataset/caf116df-f984-4deb-85ca-41b349d3f313/resource/12457689-6a86-4474-8032-5ca9464d38a8/download/{phl_admin3_zip}\""
   ]
  },
  {
   "cell_type": "code",
   "execution_count": 94,
   "id": "7c0dab3f-9f36-4eac-9e15-ed42c39a824b",
   "metadata": {},
   "outputs": [
    {
     "name": "stdout",
     "output_type": "stream",
     "text": [
      "CPU times: user 0 ns, sys: 49.4 ms, total: 49.4 ms\n",
      "Wall time: 213 ms\n"
     ]
    }
   ],
   "source": [
    "%%time\n",
    "![ ! -e ../data/{phl_admin3_zip} ] && -curl -L -o ../data/{phl_admin3_zip} {phl_admin3_link}"
   ]
  },
  {
   "cell_type": "code",
   "execution_count": 95,
   "id": "c1ef633d-e4be-4eab-bbae-d16f052c38f5",
   "metadata": {},
   "outputs": [],
   "source": [
    "!mkdir -p ../data/{phl_admin3_file}"
   ]
  },
  {
   "cell_type": "code",
   "execution_count": 96,
   "id": "c3fac509-20ce-40a5-8bea-97775a4393f7",
   "metadata": {},
   "outputs": [],
   "source": [
    "main_file = \"phl_admbnda_adm3_psa_namria_20200529\"\n",
    "phl_admin3_shp = f\"../data/{phl_admin3_file}/{main_file}.shp\""
   ]
  },
  {
   "cell_type": "code",
   "execution_count": 97,
   "id": "a7db3cef-6123-4d52-af11-3f0f70eb14aa",
   "metadata": {},
   "outputs": [
    {
     "name": "stdout",
     "output_type": "stream",
     "text": [
      "CPU times: user 0 ns, sys: 59.8 ms, total: 59.8 ms\n",
      "Wall time: 221 ms\n"
     ]
    }
   ],
   "source": [
    "%%time\n",
    "![ ! -e {phl_admin3_shp} ] && unzip -d ../data/{phl_admin3_file} ../data/{phl_admin3_zip}"
   ]
  },
  {
   "cell_type": "code",
   "execution_count": 98,
   "id": "1d66af46-02d8-496a-9fd7-fe597cb927ac",
   "metadata": {},
   "outputs": [
    {
     "name": "stdout",
     "output_type": "stream",
     "text": [
      "CPU times: user 2.92 s, sys: 632 ms, total: 3.56 s\n",
      "Wall time: 3.55 s\n"
     ]
    }
   ],
   "source": [
    "%%time\n",
    "admin3 = gpd.read_file(phl_admin3_shp)"
   ]
  },
  {
   "cell_type": "code",
   "execution_count": 99,
   "id": "41e18049-3aba-4b81-a2a3-e0948eb11927",
   "metadata": {},
   "outputs": [
    {
     "data": {
      "text/html": [
       "<div>\n",
       "<style scoped>\n",
       "    .dataframe tbody tr th:only-of-type {\n",
       "        vertical-align: middle;\n",
       "    }\n",
       "\n",
       "    .dataframe tbody tr th {\n",
       "        vertical-align: top;\n",
       "    }\n",
       "\n",
       "    .dataframe thead th {\n",
       "        text-align: right;\n",
       "    }\n",
       "</style>\n",
       "<table border=\"1\" class=\"dataframe\">\n",
       "  <thead>\n",
       "    <tr style=\"text-align: right;\">\n",
       "      <th></th>\n",
       "      <th>Shape_Leng</th>\n",
       "      <th>Shape_Area</th>\n",
       "      <th>ADM3_EN</th>\n",
       "      <th>ADM3_PCODE</th>\n",
       "      <th>ADM3_REF</th>\n",
       "      <th>ADM3ALT1EN</th>\n",
       "      <th>ADM3ALT2EN</th>\n",
       "      <th>ADM2_EN</th>\n",
       "      <th>ADM2_PCODE</th>\n",
       "      <th>ADM1_EN</th>\n",
       "      <th>ADM1_PCODE</th>\n",
       "      <th>ADM0_EN</th>\n",
       "      <th>ADM0_PCODE</th>\n",
       "      <th>date</th>\n",
       "      <th>validOn</th>\n",
       "      <th>validTo</th>\n",
       "      <th>geometry</th>\n",
       "    </tr>\n",
       "  </thead>\n",
       "  <tbody>\n",
       "    <tr>\n",
       "      <th>0</th>\n",
       "      <td>1.601219</td>\n",
       "      <td>0.063496</td>\n",
       "      <td>Aborlan</td>\n",
       "      <td>PH175301000</td>\n",
       "      <td>None</td>\n",
       "      <td>None</td>\n",
       "      <td>None</td>\n",
       "      <td>Palawan</td>\n",
       "      <td>PH175300000</td>\n",
       "      <td>Region IV-B</td>\n",
       "      <td>PH170000000</td>\n",
       "      <td>Philippines (the)</td>\n",
       "      <td>PH</td>\n",
       "      <td>2016-06-30</td>\n",
       "      <td>2020-05-29</td>\n",
       "      <td>None</td>\n",
       "      <td>MULTIPOLYGON (((118.58350 9.37700, 118.58398 9...</td>\n",
       "    </tr>\n",
       "    <tr>\n",
       "      <th>1</th>\n",
       "      <td>1.078749</td>\n",
       "      <td>0.050232</td>\n",
       "      <td>Abra de Ilog</td>\n",
       "      <td>PH175101000</td>\n",
       "      <td>None</td>\n",
       "      <td>None</td>\n",
       "      <td>None</td>\n",
       "      <td>Occidental Mindoro</td>\n",
       "      <td>PH175100000</td>\n",
       "      <td>Region IV-B</td>\n",
       "      <td>PH170000000</td>\n",
       "      <td>Philippines (the)</td>\n",
       "      <td>PH</td>\n",
       "      <td>2016-06-30</td>\n",
       "      <td>2020-05-29</td>\n",
       "      <td>None</td>\n",
       "      <td>POLYGON ((120.58412 13.50198, 120.58420 13.501...</td>\n",
       "    </tr>\n",
       "    <tr>\n",
       "      <th>2</th>\n",
       "      <td>0.424301</td>\n",
       "      <td>0.006453</td>\n",
       "      <td>Abucay</td>\n",
       "      <td>PH030801000</td>\n",
       "      <td>None</td>\n",
       "      <td>None</td>\n",
       "      <td>None</td>\n",
       "      <td>Bataan</td>\n",
       "      <td>PH030800000</td>\n",
       "      <td>Region III</td>\n",
       "      <td>PH030000000</td>\n",
       "      <td>Philippines (the)</td>\n",
       "      <td>PH</td>\n",
       "      <td>2016-06-30</td>\n",
       "      <td>2020-05-29</td>\n",
       "      <td>None</td>\n",
       "      <td>POLYGON ((120.49873 14.75614, 120.49891 14.755...</td>\n",
       "    </tr>\n",
       "    <tr>\n",
       "      <th>3</th>\n",
       "      <td>0.566053</td>\n",
       "      <td>0.011343</td>\n",
       "      <td>Abulug</td>\n",
       "      <td>PH021501000</td>\n",
       "      <td>None</td>\n",
       "      <td>None</td>\n",
       "      <td>None</td>\n",
       "      <td>Cagayan</td>\n",
       "      <td>PH021500000</td>\n",
       "      <td>Region II</td>\n",
       "      <td>PH020000000</td>\n",
       "      <td>Philippines (the)</td>\n",
       "      <td>PH</td>\n",
       "      <td>2016-06-30</td>\n",
       "      <td>2020-05-29</td>\n",
       "      <td>None</td>\n",
       "      <td>POLYGON ((121.43455 18.46651, 121.43502 18.466...</td>\n",
       "    </tr>\n",
       "    <tr>\n",
       "      <th>4</th>\n",
       "      <td>1.013649</td>\n",
       "      <td>0.026124</td>\n",
       "      <td>Abuyog</td>\n",
       "      <td>PH083701000</td>\n",
       "      <td>None</td>\n",
       "      <td>None</td>\n",
       "      <td>None</td>\n",
       "      <td>Leyte</td>\n",
       "      <td>PH083700000</td>\n",
       "      <td>Region VIII</td>\n",
       "      <td>PH080000000</td>\n",
       "      <td>Philippines (the)</td>\n",
       "      <td>PH</td>\n",
       "      <td>2016-06-30</td>\n",
       "      <td>2020-05-29</td>\n",
       "      <td>None</td>\n",
       "      <td>MULTIPOLYGON (((125.02684 10.73500, 125.02683 ...</td>\n",
       "    </tr>\n",
       "  </tbody>\n",
       "</table>\n",
       "</div>"
      ],
      "text/plain": [
       "   Shape_Leng  Shape_Area       ADM3_EN   ADM3_PCODE ADM3_REF ADM3ALT1EN ADM3ALT2EN             ADM2_EN   ADM2_PCODE      ADM1_EN   ADM1_PCODE            ADM0_EN ADM0_PCODE        date     validOn validTo                                           geometry\n",
       "0    1.601219    0.063496       Aborlan  PH175301000     None       None       None             Palawan  PH175300000  Region IV-B  PH170000000  Philippines (the)         PH  2016-06-30  2020-05-29    None  MULTIPOLYGON (((118.58350 9.37700, 118.58398 9...\n",
       "1    1.078749    0.050232  Abra de Ilog  PH175101000     None       None       None  Occidental Mindoro  PH175100000  Region IV-B  PH170000000  Philippines (the)         PH  2016-06-30  2020-05-29    None  POLYGON ((120.58412 13.50198, 120.58420 13.501...\n",
       "2    0.424301    0.006453        Abucay  PH030801000     None       None       None              Bataan  PH030800000   Region III  PH030000000  Philippines (the)         PH  2016-06-30  2020-05-29    None  POLYGON ((120.49873 14.75614, 120.49891 14.755...\n",
       "3    0.566053    0.011343        Abulug  PH021501000     None       None       None             Cagayan  PH021500000    Region II  PH020000000  Philippines (the)         PH  2016-06-30  2020-05-29    None  POLYGON ((121.43455 18.46651, 121.43502 18.466...\n",
       "4    1.013649    0.026124        Abuyog  PH083701000     None       None       None               Leyte  PH083700000  Region VIII  PH080000000  Philippines (the)         PH  2016-06-30  2020-05-29    None  MULTIPOLYGON (((125.02684 10.73500, 125.02683 ..."
      ]
     },
     "execution_count": 99,
     "metadata": {},
     "output_type": "execute_result"
    }
   ],
   "source": [
    "admin3.head()"
   ]
  },
  {
   "cell_type": "code",
   "execution_count": 100,
   "id": "cfdb6f7f-fa54-47bc-8f8d-cb2544963d5d",
   "metadata": {
    "tags": []
   },
   "outputs": [
    {
     "data": {
      "text/plain": [
       "['Shape_Leng',\n",
       " 'Shape_Area',\n",
       " 'ADM3_EN',\n",
       " 'ADM3_PCODE',\n",
       " 'ADM3_REF',\n",
       " 'ADM3ALT1EN',\n",
       " 'ADM3ALT2EN',\n",
       " 'ADM2_EN',\n",
       " 'ADM2_PCODE',\n",
       " 'ADM1_EN',\n",
       " 'ADM1_PCODE',\n",
       " 'ADM0_EN',\n",
       " 'ADM0_PCODE',\n",
       " 'date',\n",
       " 'validOn',\n",
       " 'validTo',\n",
       " 'geometry']"
      ]
     },
     "execution_count": 100,
     "metadata": {},
     "output_type": "execute_result"
    }
   ],
   "source": [
    "list(admin3.columns.values)"
   ]
  },
  {
   "cell_type": "code",
   "execution_count": 101,
   "id": "9f08fb29-2e3b-4ccb-a5b6-36394e79fe22",
   "metadata": {},
   "outputs": [
    {
     "data": {
      "text/plain": [
       "array(['Region IV-B', 'Region III', 'Region II', 'Region VIII',\n",
       "       'Region I', 'Region IV-A', 'Cordillera Administrative Region',\n",
       "       'Region VI', 'Autonomous Region in Muslim Mindanao', 'Region XII',\n",
       "       'Region VII', 'Region XIII', 'Region IX', 'Region X', 'Region V',\n",
       "       'Region XI', 'National Capital Region'], dtype=object)"
      ]
     },
     "execution_count": 101,
     "metadata": {},
     "output_type": "execute_result"
    }
   ],
   "source": [
    "admin3.ADM1_EN.unique()"
   ]
  },
  {
   "cell_type": "code",
   "execution_count": 102,
   "id": "27290d99-847d-4696-a081-601562a26ced",
   "metadata": {},
   "outputs": [],
   "source": [
    "if REGION_FILTER:\n",
    "    admin3 = admin3[admin3.ADM1_EN == REGION_FILTER]"
   ]
  },
  {
   "cell_type": "code",
   "execution_count": 103,
   "id": "bdf663f2-b0db-47b6-846f-03370d832d67",
   "metadata": {},
   "outputs": [],
   "source": [
    "import matplotlib.pyplot as plt"
   ]
  },
  {
   "cell_type": "code",
   "execution_count": 104,
   "id": "e7b2e213-83a1-4682-98ac-389e0b05c0d6",
   "metadata": {},
   "outputs": [
    {
     "name": "stdout",
     "output_type": "stream",
     "text": [
      "CPU times: user 123 ms, sys: 115 ms, total: 238 ms\n",
      "Wall time: 76.4 ms\n"
     ]
    },
    {
     "data": {
      "image/png": "[encoded data removed]",
      "text/plain": [
       "<Figure size 432x288 with 1 Axes>"
      ]
     },
     "metadata": {
      "needs_background": "light"
     },
     "output_type": "display_data"
    }
   ],
   "source": [
    "%%time\n",
    "ax = plt.axes()\n",
    "ax = admin3.plot(ax=ax, facecolor=\"none\", edgecolor=\"blue\")"
   ]
  },
  {
   "cell_type": "code",
   "execution_count": 105,
   "id": "91a038e7-1305-4046-a616-0227422fd927",
   "metadata": {},
   "outputs": [
    {
     "name": "stdout",
     "output_type": "stream",
     "text": [
      "CPU times: user 96.9 ms, sys: 61.6 ms, total: 159 ms\n",
      "Wall time: 72.6 ms\n"
     ]
    },
    {
     "data": {
      "image/png": "[encoded data removed]",
      "text/plain": [
       "<Figure size 432x288 with 1 Axes>"
      ]
     },
     "metadata": {
      "needs_background": "light"
     },
     "output_type": "display_data"
    }
   ],
   "source": [
    "%%time\n",
    "ax = plt.axes()\n",
    "ax = admin3[admin3.ADM3_EN == \"Pateros\"].plot(ax=ax, facecolor=\"none\", edgecolor=\"blue\")"
   ]
  },
  {
   "cell_type": "code",
   "execution_count": 106,
   "id": "21841988-833f-4ce9-8bc9-fdb1d46274f9",
   "metadata": {},
   "outputs": [
    {
     "data": {
      "text/plain": [
       "<Geographic 2D CRS: EPSG:4326>\n",
       "Name: WGS 84\n",
       "Axis Info [ellipsoidal]:\n",
       "- Lat[north]: Geodetic latitude (degree)\n",
       "- Lon[east]: Geodetic longitude (degree)\n",
       "Area of Use:\n",
       "- name: World.\n",
       "- bounds: (-180.0, -90.0, 180.0, 90.0)\n",
       "Datum: World Geodetic System 1984 ensemble\n",
       "- Ellipsoid: WGS 84\n",
       "- Prime Meridian: Greenwich"
      ]
     },
     "execution_count": 106,
     "metadata": {},
     "output_type": "execute_result"
    }
   ],
   "source": [
    "admin3.crs"
   ]
  },
  {
   "cell_type": "code",
   "execution_count": 107,
   "id": "4d177300-62d1-475e-bd63-1ab9005bb366",
   "metadata": {},
   "outputs": [
    {
     "data": {
      "text/plain": [
       "array([120.90639543,  14.35172957, 121.13503641,  14.78529173])"
      ]
     },
     "execution_count": 107,
     "metadata": {},
     "output_type": "execute_result"
    }
   ],
   "source": [
    "admin3.total_bounds"
   ]
  },
  {
   "cell_type": "code",
   "execution_count": 108,
   "id": "f84652a6-2edc-4815-a398-1f84d7e47fae",
   "metadata": {},
   "outputs": [
    {
     "data": {
      "text/plain": [
       "30"
      ]
     },
     "execution_count": 108,
     "metadata": {},
     "output_type": "execute_result"
    }
   ],
   "source": [
    "len(admin3)"
   ]
  },
  {
   "cell_type": "markdown",
   "id": "TVghj-icvEFT",
   "metadata": {
    "id": "TVghj-icvEFT"
   },
   "source": [
    "### Download Ookla data"
   ]
  },
  {
   "cell_type": "code",
   "execution_count": 109,
   "id": "6f4e629a-6189-4020-af5d-8c794a26306e",
   "metadata": {},
   "outputs": [],
   "source": [
    "from geowrangler.datasets import ookla"
   ]
  },
  {
   "cell_type": "code",
   "execution_count": 110,
   "id": "0c0791a1-5002-471e-99c6-aef6c378a519",
   "metadata": {},
   "outputs": [
    {
     "name": "stdout",
     "output_type": "stream",
     "text": [
      "CPU times: user 13 µs, sys: 2 µs, total: 15 µs\n",
      "Wall time: 18.6 µs\n"
     ]
    },
    {
     "data": {
      "text/plain": [
       "{OoklaQuarter(type='fixed', year='2019', quarter='1'): '2019-01-01_performance_fixed_tiles.parquet',\n",
       " OoklaQuarter(type='fixed', year='2019', quarter='2'): '2019-04-01_performance_fixed_tiles.parquet',\n",
       " OoklaQuarter(type='fixed', year='2019', quarter='3'): '2019-07-01_performance_fixed_tiles.parquet',\n",
       " OoklaQuarter(type='fixed', year='2019', quarter='4'): '2019-10-01_performance_fixed_tiles.parquet',\n",
       " OoklaQuarter(type='fixed', year='2020', quarter='1'): '2020-01-01_performance_fixed_tiles.parquet',\n",
       " OoklaQuarter(type='fixed', year='2020', quarter='2'): '2020-04-01_performance_fixed_tiles.parquet',\n",
       " OoklaQuarter(type='fixed', year='2020', quarter='3'): '2020-07-01_performance_fixed_tiles.parquet',\n",
       " OoklaQuarter(type='fixed', year='2020', quarter='4'): '2020-10-01_performance_fixed_tiles.parquet',\n",
       " OoklaQuarter(type='fixed', year='2021', quarter='1'): '2021-01-01_performance_fixed_tiles.parquet',\n",
       " OoklaQuarter(type='fixed', year='2021', quarter='2'): '2021-04-01_performance_fixed_tiles.parquet',\n",
       " OoklaQuarter(type='fixed', year='2021', quarter='3'): '2021-07-01_performance_fixed_tiles.parquet',\n",
       " OoklaQuarter(type='fixed', year='2021', quarter='4'): '2021-10-01_performance_fixed_tiles.parquet',\n",
       " OoklaQuarter(type='fixed', year='2022', quarter='1'): '2022-01-01_performance_fixed_tiles.parquet',\n",
       " OoklaQuarter(type='fixed', year='2022', quarter='2'): '2022-04-01_performance_fixed_tiles.parquet',\n",
       " OoklaQuarter(type='mobile', year='2019', quarter='1'): '2019-01-01_performance_mobile_tiles.parquet',\n",
       " OoklaQuarter(type='mobile', year='2019', quarter='2'): '2019-04-01_performance_mobile_tiles.parquet',\n",
       " OoklaQuarter(type='mobile', year='2019', quarter='3'): '2019-07-01_performance_mobile_tiles.parquet',\n",
       " OoklaQuarter(type='mobile', year='2019', quarter='4'): '2019-10-01_performance_mobile_tiles.parquet',\n",
       " OoklaQuarter(type='mobile', year='2020', quarter='1'): '2020-01-01_performance_mobile_tiles.parquet',\n",
       " OoklaQuarter(type='mobile', year='2020', quarter='2'): '2020-04-01_performance_mobile_tiles.parquet',\n",
       " OoklaQuarter(type='mobile', year='2020', quarter='3'): '2020-07-01_performance_mobile_tiles.parquet',\n",
       " OoklaQuarter(type='mobile', year='2020', quarter='4'): '2020-10-01_performance_mobile_tiles.parquet',\n",
       " OoklaQuarter(type='mobile', year='2021', quarter='1'): '2021-01-01_performance_mobile_tiles.parquet',\n",
       " OoklaQuarter(type='mobile', year='2021', quarter='2'): '2021-04-01_performance_mobile_tiles.parquet',\n",
       " OoklaQuarter(type='mobile', year='2021', quarter='3'): '2021-07-01_performance_mobile_tiles.parquet',\n",
       " OoklaQuarter(type='mobile', year='2021', quarter='4'): '2021-10-01_performance_mobile_tiles.parquet',\n",
       " OoklaQuarter(type='mobile', year='2022', quarter='1'): '2022-01-01_performance_mobile_tiles.parquet',\n",
       " OoklaQuarter(type='mobile', year='2022', quarter='2'): '2022-04-01_performance_mobile_tiles.parquet'}"
      ]
     },
     "execution_count": 110,
     "metadata": {},
     "output_type": "execute_result"
    }
   ],
   "source": [
    "%%time\n",
    "ookla_dsets = ookla.list_ookla_files()\n",
    "ookla_dsets"
   ]
  },
  {
   "cell_type": "code",
   "execution_count": 111,
   "id": "7b88c6b6-9144-41be-8cfd-bb7082da0786",
   "metadata": {},
   "outputs": [],
   "source": [
    "ookla_params = dict(year=\"2022\", quarter=\"2\", directory=\"../data\")"
   ]
  },
  {
   "cell_type": "code",
   "execution_count": 112,
   "id": "df724ed7-64f7-45d5-bc7c-6a0d51d1f95f",
   "metadata": {},
   "outputs": [
    {
     "name": "stdout",
     "output_type": "stream",
     "text": [
      "CPU times: user 167 µs, sys: 31 µs, total: 198 µs\n",
      "Wall time: 165 µs\n"
     ]
    }
   ],
   "source": [
    "%%time\n",
    "ookla_fixed = ookla.download_ookla_file(type_=\"fixed\", **ookla_params)"
   ]
  },
  {
   "cell_type": "code",
   "execution_count": 113,
   "id": "ac5328f4-8b4c-493a-89a8-6ef6fb1d02c1",
   "metadata": {},
   "outputs": [
    {
     "name": "stdout",
     "output_type": "stream",
     "text": [
      "CPU times: user 383 µs, sys: 70 µs, total: 453 µs\n",
      "Wall time: 372 µs\n"
     ]
    }
   ],
   "source": [
    "%%time\n",
    "ookla_mobile = ookla.download_ookla_file(type_=\"mobile\", **ookla_params)"
   ]
  },
  {
   "cell_type": "code",
   "execution_count": 114,
   "id": "6a86f9a6-bd8d-451c-8ba1-7482df06eedc",
   "metadata": {
    "tags": []
   },
   "outputs": [
    {
     "data": {
      "text/plain": [
       "PosixPath('../data/2022-04-01_performance_fixed_tiles.parquet')"
      ]
     },
     "execution_count": 114,
     "metadata": {},
     "output_type": "execute_result"
    }
   ],
   "source": [
    "ookla_fixed"
   ]
  },
  {
   "cell_type": "code",
   "execution_count": 115,
   "id": "46303e4e-9dcd-4331-a4b6-f60c112a95d2",
   "metadata": {},
   "outputs": [],
   "source": [
    "import pandas as pd"
   ]
  },
  {
   "cell_type": "code",
   "execution_count": 116,
   "id": "752dee1f-08d6-4082-9ae6-6a59e76f9e70",
   "metadata": {},
   "outputs": [
    {
     "name": "stdout",
     "output_type": "stream",
     "text": [
      "CPU times: user 13.1 s, sys: 37.9 s, total: 51 s\n",
      "Wall time: 30.3 s\n"
     ]
    }
   ],
   "source": [
    "%%time\n",
    "fixed = pd.read_parquet(ookla_fixed)"
   ]
  },
  {
   "cell_type": "code",
   "execution_count": 117,
   "id": "2c990ddb-065c-4bcf-a9ac-ea5a2b52f9b2",
   "metadata": {},
   "outputs": [
    {
     "data": {
      "text/plain": [
       "6581735"
      ]
     },
     "execution_count": 117,
     "metadata": {},
     "output_type": "execute_result"
    }
   ],
   "source": [
    "len(fixed)"
   ]
  },
  {
   "cell_type": "code",
   "execution_count": 118,
   "id": "fc1a6b26-2954-42f1-b439-1d599ad49ce2",
   "metadata": {},
   "outputs": [
    {
     "data": {
      "text/html": [
       "<div>\n",
       "<style scoped>\n",
       "    .dataframe tbody tr th:only-of-type {\n",
       "        vertical-align: middle;\n",
       "    }\n",
       "\n",
       "    .dataframe tbody tr th {\n",
       "        vertical-align: top;\n",
       "    }\n",
       "\n",
       "    .dataframe thead th {\n",
       "        text-align: right;\n",
       "    }\n",
       "</style>\n",
       "<table border=\"1\" class=\"dataframe\">\n",
       "  <thead>\n",
       "    <tr style=\"text-align: right;\">\n",
       "      <th></th>\n",
       "      <th>quadkey</th>\n",
       "      <th>tile</th>\n",
       "      <th>avg_d_kbps</th>\n",
       "      <th>avg_u_kbps</th>\n",
       "      <th>avg_lat_ms</th>\n",
       "      <th>tests</th>\n",
       "      <th>devices</th>\n",
       "    </tr>\n",
       "  </thead>\n",
       "  <tbody>\n",
       "    <tr>\n",
       "      <th>0</th>\n",
       "      <td>2103111033100303</td>\n",
       "      <td>POLYGON((-46.5545654296875 -22.9432183426273, ...</td>\n",
       "      <td>141501</td>\n",
       "      <td>51102</td>\n",
       "      <td>12</td>\n",
       "      <td>330</td>\n",
       "      <td>50</td>\n",
       "    </tr>\n",
       "    <tr>\n",
       "      <th>1</th>\n",
       "      <td>1321222320312200</td>\n",
       "      <td>POLYGON((114.169921875 22.37039634432, 114.175...</td>\n",
       "      <td>228064</td>\n",
       "      <td>180981</td>\n",
       "      <td>5</td>\n",
       "      <td>915</td>\n",
       "      <td>191</td>\n",
       "    </tr>\n",
       "    <tr>\n",
       "      <th>2</th>\n",
       "      <td>1202033220030032</td>\n",
       "      <td>POLYGON((8.536376953125 49.3143800480069, 8.54...</td>\n",
       "      <td>166267</td>\n",
       "      <td>17752</td>\n",
       "      <td>15</td>\n",
       "      <td>57</td>\n",
       "      <td>13</td>\n",
       "    </tr>\n",
       "    <tr>\n",
       "      <th>3</th>\n",
       "      <td>1231300223313122</td>\n",
       "      <td>POLYGON((79.43115234375 29.6355459144667, 79.4...</td>\n",
       "      <td>42442</td>\n",
       "      <td>102038</td>\n",
       "      <td>16</td>\n",
       "      <td>14</td>\n",
       "      <td>7</td>\n",
       "    </tr>\n",
       "    <tr>\n",
       "      <th>4</th>\n",
       "      <td>2110000232002202</td>\n",
       "      <td>POLYGON((-44.296875 -2.53152456690541, -44.291...</td>\n",
       "      <td>144393</td>\n",
       "      <td>52963</td>\n",
       "      <td>12</td>\n",
       "      <td>99</td>\n",
       "      <td>43</td>\n",
       "    </tr>\n",
       "  </tbody>\n",
       "</table>\n",
       "</div>"
      ],
      "text/plain": [
       "            quadkey                                               tile  avg_d_kbps  avg_u_kbps  avg_lat_ms  tests  devices\n",
       "0  2103111033100303  POLYGON((-46.5545654296875 -22.9432183426273, ...      141501       51102          12    330       50\n",
       "1  1321222320312200  POLYGON((114.169921875 22.37039634432, 114.175...      228064      180981           5    915      191\n",
       "2  1202033220030032  POLYGON((8.536376953125 49.3143800480069, 8.54...      166267       17752          15     57       13\n",
       "3  1231300223313122  POLYGON((79.43115234375 29.6355459144667, 79.4...       42442      102038          16     14        7\n",
       "4  2110000232002202  POLYGON((-44.296875 -2.53152456690541, -44.291...      144393       52963          12     99       43"
      ]
     },
     "execution_count": 118,
     "metadata": {},
     "output_type": "execute_result"
    }
   ],
   "source": [
    "fixed.head()"
   ]
  },
  {
   "cell_type": "code",
   "execution_count": 119,
   "id": "374be97f-f3fc-4348-97ad-2d668a659395",
   "metadata": {},
   "outputs": [
    {
     "data": {
      "text/plain": [
       "quadkey       object\n",
       "tile          object\n",
       "avg_d_kbps     int64\n",
       "avg_u_kbps     int64\n",
       "avg_lat_ms     int64\n",
       "tests          int64\n",
       "devices        int64\n",
       "dtype: object"
      ]
     },
     "execution_count": 119,
     "metadata": {},
     "output_type": "execute_result"
    }
   ],
   "source": [
    "fixed.dtypes"
   ]
  },
  {
   "cell_type": "code",
   "execution_count": 120,
   "id": "9254e1e5-2e95-4b82-92f3-83a96c9785e8",
   "metadata": {},
   "outputs": [
    {
     "name": "stdout",
     "output_type": "stream",
     "text": [
      "CPU times: user 32.3 s, sys: 831 ms, total: 33.1 s\n",
      "Wall time: 33.1 s\n"
     ]
    }
   ],
   "source": [
    "%%time\n",
    "fixed[\"geometry\"] = gpd.GeoSeries.from_wkt(fixed.tile, crs=\"EPSG:4326\")"
   ]
  },
  {
   "cell_type": "code",
   "execution_count": 121,
   "id": "dab820d6-a7a3-458d-aa9d-88d9b57de79b",
   "metadata": {},
   "outputs": [
    {
     "data": {
      "text/html": [
       "<div>\n",
       "<style scoped>\n",
       "    .dataframe tbody tr th:only-of-type {\n",
       "        vertical-align: middle;\n",
       "    }\n",
       "\n",
       "    .dataframe tbody tr th {\n",
       "        vertical-align: top;\n",
       "    }\n",
       "\n",
       "    .dataframe thead th {\n",
       "        text-align: right;\n",
       "    }\n",
       "</style>\n",
       "<table border=\"1\" class=\"dataframe\">\n",
       "  <thead>\n",
       "    <tr style=\"text-align: right;\">\n",
       "      <th></th>\n",
       "      <th>quadkey</th>\n",
       "      <th>tile</th>\n",
       "      <th>avg_d_kbps</th>\n",
       "      <th>avg_u_kbps</th>\n",
       "      <th>avg_lat_ms</th>\n",
       "      <th>tests</th>\n",
       "      <th>devices</th>\n",
       "      <th>geometry</th>\n",
       "    </tr>\n",
       "  </thead>\n",
       "  <tbody>\n",
       "    <tr>\n",
       "      <th>0</th>\n",
       "      <td>2103111033100303</td>\n",
       "      <td>POLYGON((-46.5545654296875 -22.9432183426273, ...</td>\n",
       "      <td>141501</td>\n",
       "      <td>51102</td>\n",
       "      <td>12</td>\n",
       "      <td>330</td>\n",
       "      <td>50</td>\n",
       "      <td>POLYGON ((-46.55457 -22.94322, -46.54907 -22.9...</td>\n",
       "    </tr>\n",
       "    <tr>\n",
       "      <th>1</th>\n",
       "      <td>1321222320312200</td>\n",
       "      <td>POLYGON((114.169921875 22.37039634432, 114.175...</td>\n",
       "      <td>228064</td>\n",
       "      <td>180981</td>\n",
       "      <td>5</td>\n",
       "      <td>915</td>\n",
       "      <td>191</td>\n",
       "      <td>POLYGON ((114.16992 22.37040, 114.17542 22.370...</td>\n",
       "    </tr>\n",
       "    <tr>\n",
       "      <th>2</th>\n",
       "      <td>1202033220030032</td>\n",
       "      <td>POLYGON((8.536376953125 49.3143800480069, 8.54...</td>\n",
       "      <td>166267</td>\n",
       "      <td>17752</td>\n",
       "      <td>15</td>\n",
       "      <td>57</td>\n",
       "      <td>13</td>\n",
       "      <td>POLYGON ((8.53638 49.31438, 8.54187 49.31438, ...</td>\n",
       "    </tr>\n",
       "    <tr>\n",
       "      <th>3</th>\n",
       "      <td>1231300223313122</td>\n",
       "      <td>POLYGON((79.43115234375 29.6355459144667, 79.4...</td>\n",
       "      <td>42442</td>\n",
       "      <td>102038</td>\n",
       "      <td>16</td>\n",
       "      <td>14</td>\n",
       "      <td>7</td>\n",
       "      <td>POLYGON ((79.43115 29.63555, 79.43665 29.63555...</td>\n",
       "    </tr>\n",
       "    <tr>\n",
       "      <th>4</th>\n",
       "      <td>2110000232002202</td>\n",
       "      <td>POLYGON((-44.296875 -2.53152456690541, -44.291...</td>\n",
       "      <td>144393</td>\n",
       "      <td>52963</td>\n",
       "      <td>12</td>\n",
       "      <td>99</td>\n",
       "      <td>43</td>\n",
       "      <td>POLYGON ((-44.29688 -2.53152, -44.29138 -2.531...</td>\n",
       "    </tr>\n",
       "  </tbody>\n",
       "</table>\n",
       "</div>"
      ],
      "text/plain": [
       "            quadkey                                               tile  avg_d_kbps  avg_u_kbps  avg_lat_ms  tests  devices                                           geometry\n",
       "0  2103111033100303  POLYGON((-46.5545654296875 -22.9432183426273, ...      141501       51102          12    330       50  POLYGON ((-46.55457 -22.94322, -46.54907 -22.9...\n",
       "1  1321222320312200  POLYGON((114.169921875 22.37039634432, 114.175...      228064      180981           5    915      191  POLYGON ((114.16992 22.37040, 114.17542 22.370...\n",
       "2  1202033220030032  POLYGON((8.536376953125 49.3143800480069, 8.54...      166267       17752          15     57       13  POLYGON ((8.53638 49.31438, 8.54187 49.31438, ...\n",
       "3  1231300223313122  POLYGON((79.43115234375 29.6355459144667, 79.4...       42442      102038          16     14        7  POLYGON ((79.43115 29.63555, 79.43665 29.63555...\n",
       "4  2110000232002202  POLYGON((-44.296875 -2.53152456690541, -44.291...      144393       52963          12     99       43  POLYGON ((-44.29688 -2.53152, -44.29138 -2.531..."
      ]
     },
     "execution_count": 121,
     "metadata": {},
     "output_type": "execute_result"
    }
   ],
   "source": [
    "fixed.head()"
   ]
  },
  {
   "cell_type": "code",
   "execution_count": 122,
   "id": "b8164e99-2363-46b8-8a49-de1e3e882a6e",
   "metadata": {},
   "outputs": [
    {
     "name": "stdout",
     "output_type": "stream",
     "text": [
      "CPU times: user 296 ms, sys: 118 ms, total: 414 ms\n",
      "Wall time: 439 ms\n"
     ]
    }
   ],
   "source": [
    "%%time\n",
    "fixed.drop(columns=[\"tile\"], inplace=True)"
   ]
  },
  {
   "cell_type": "code",
   "execution_count": 123,
   "id": "004e4c2e-9e6e-4bd3-81f5-2887e989255e",
   "metadata": {},
   "outputs": [
    {
     "name": "stdout",
     "output_type": "stream",
     "text": [
      "CPU times: user 63.8 ms, sys: 42 ms, total: 106 ms\n",
      "Wall time: 113 ms\n"
     ]
    }
   ],
   "source": [
    "%%time\n",
    "fixed = gpd.GeoDataFrame(fixed, geometry=\"geometry\", crs=\"EPSG:4326\")"
   ]
  },
  {
   "cell_type": "markdown",
   "id": "35ff62dc-5deb-4ad1-9d61-e547cdc5ea54",
   "metadata": {},
   "source": [
    "### Validate AOI and Data Geoms"
   ]
  },
  {
   "cell_type": "code",
   "execution_count": 124,
   "id": "b115aba3-8b60-41fa-b6f8-5c46bf09fc85",
   "metadata": {},
   "outputs": [],
   "source": [
    "from geowrangler.validation import GeometryValidation"
   ]
  },
  {
   "cell_type": "markdown",
   "id": "d022088a-d672-4ac4-9ad7-cc305f6f3b3c",
   "metadata": {},
   "source": [
    "#### Validate AOI"
   ]
  },
  {
   "cell_type": "code",
   "execution_count": 125,
   "id": "c53ec61f-46eb-4ff9-950e-7f4800077b75",
   "metadata": {},
   "outputs": [],
   "source": [
    "admin3_gvm = GeometryValidation(admin3)"
   ]
  },
  {
   "cell_type": "code",
   "execution_count": 126,
   "id": "44700266-63e5-4850-8081-b3f1358f7e51",
   "metadata": {},
   "outputs": [
    {
     "name": "stdout",
     "output_type": "stream",
     "text": [
      "CPU times: user 407 ms, sys: 17.4 ms, total: 424 ms\n",
      "Wall time: 489 ms\n"
     ]
    }
   ],
   "source": [
    "%%time\n",
    "valid_admin3 = admin3_gvm.validate_all()"
   ]
  },
  {
   "cell_type": "code",
   "execution_count": 127,
   "id": "0c3fdbfc-ceca-4aff-be27-4737114d0adf",
   "metadata": {},
   "outputs": [
    {
     "data": {
      "text/plain": [
       "30"
      ]
     },
     "execution_count": 127,
     "metadata": {},
     "output_type": "execute_result"
    }
   ],
   "source": [
    "(~valid_admin3.is_oriented_properly).sum(axis=None)"
   ]
  },
  {
   "cell_type": "code",
   "execution_count": 128,
   "id": "50a87ae9-6a42-45d2-b57a-84765be6cdbe",
   "metadata": {},
   "outputs": [
    {
     "data": {
      "text/plain": [
       "0"
      ]
     },
     "execution_count": 128,
     "metadata": {},
     "output_type": "execute_result"
    }
   ],
   "source": [
    "(~valid_admin3.is_not_null).sum(axis=None)"
   ]
  },
  {
   "cell_type": "code",
   "execution_count": 129,
   "id": "db4415d2-7722-4c2b-863e-09df54aa9f77",
   "metadata": {},
   "outputs": [
    {
     "data": {
      "text/plain": [
       "0"
      ]
     },
     "execution_count": 129,
     "metadata": {},
     "output_type": "execute_result"
    }
   ],
   "source": [
    "(~valid_admin3.is_not_self_intersecting).sum(axis=None)"
   ]
  },
  {
   "cell_type": "code",
   "execution_count": 130,
   "id": "1fe43fb4-4464-41da-be97-028b2adfd83f",
   "metadata": {},
   "outputs": [
    {
     "data": {
      "text/plain": [
       "0"
      ]
     },
     "execution_count": 130,
     "metadata": {},
     "output_type": "execute_result"
    }
   ],
   "source": [
    "(~valid_admin3.is_within_crs_bounds).sum(axis=None)"
   ]
  },
  {
   "cell_type": "code",
   "execution_count": 131,
   "id": "aa93627a-491b-4866-86f5-f56c52793e98",
   "metadata": {},
   "outputs": [
    {
     "data": {
      "text/plain": [
       "0"
      ]
     },
     "execution_count": 131,
     "metadata": {},
     "output_type": "execute_result"
    }
   ],
   "source": [
    "(~valid_admin3.area_is_not_zero).sum(axis=None)"
   ]
  },
  {
   "cell_type": "code",
   "execution_count": 132,
   "id": "4c70a12b-1f9b-4b4e-bd23-de32923d9ee3",
   "metadata": {},
   "outputs": [],
   "source": [
    "valid_admin3.drop(\n",
    "    columns=[\n",
    "        \"is_not_null\",\n",
    "        \"is_not_self_intersecting\",\n",
    "        \"is_oriented_properly\",\n",
    "        \"is_within_crs_bounds\",\n",
    "        \"area_is_not_zero\",\n",
    "    ],\n",
    "    inplace=True,\n",
    ")"
   ]
  },
  {
   "cell_type": "markdown",
   "id": "6fa0cd36-7465-471e-a356-36e4c6200b63",
   "metadata": {},
   "source": [
    "#### Validate Data"
   ]
  },
  {
   "cell_type": "code",
   "execution_count": 133,
   "id": "46ecadee-805a-4aa4-a7a9-e544b1f6c071",
   "metadata": {},
   "outputs": [
    {
     "name": "stdout",
     "output_type": "stream",
     "text": [
      "CPU times: user 1.51 ms, sys: 647 µs, total: 2.15 ms\n",
      "Wall time: 4.64 ms\n"
     ]
    },
    {
     "data": {
      "text/plain": [
       "<geopandas.sindex.PyGEOSSTRTreeIndex at 0x7f04854e1650>"
      ]
     },
     "execution_count": 133,
     "metadata": {},
     "output_type": "execute_result"
    }
   ],
   "source": [
    "%%time\n",
    "valid_admin3.geometry.sindex"
   ]
  },
  {
   "cell_type": "code",
   "execution_count": 134,
   "id": "7e9b73fc-6bf4-475a-af1a-be417f15c28b",
   "metadata": {},
   "outputs": [
    {
     "name": "stdout",
     "output_type": "stream",
     "text": [
      "CPU times: user 13.2 s, sys: 2.15 s, total: 15.3 s\n",
      "Wall time: 15.9 s\n"
     ]
    },
    {
     "data": {
      "text/plain": [
       "<geopandas.sindex.PyGEOSSTRTreeIndex at 0x7f0484d7f990>"
      ]
     },
     "execution_count": 134,
     "metadata": {},
     "output_type": "execute_result"
    }
   ],
   "source": [
    "%%time\n",
    "fixed.geometry.sindex"
   ]
  },
  {
   "cell_type": "code",
   "execution_count": 135,
   "id": "cea62825-b28e-4392-86b5-fe7423b78edf",
   "metadata": {},
   "outputs": [
    {
     "name": "stdout",
     "output_type": "stream",
     "text": [
      "CPU times: user 1.56 s, sys: 1.35 s, total: 2.91 s\n",
      "Wall time: 2.96 s\n"
     ]
    }
   ],
   "source": [
    "%%time\n",
    "filtered_fixed = fixed.sjoin(\n",
    "    valid_admin3[[\"geometry\"]], how=\"inner\", predicate=\"intersects\"\n",
    ")"
   ]
  },
  {
   "cell_type": "code",
   "execution_count": 136,
   "id": "86780b3e-62c8-4df1-ab9c-fbd85a255b3c",
   "metadata": {},
   "outputs": [],
   "source": [
    "filtered_fixed.drop(columns=[\"index_right\"], inplace=True)"
   ]
  },
  {
   "cell_type": "code",
   "execution_count": 137,
   "id": "04acfb15-d0b6-4474-ae31-a12c6ae1c502",
   "metadata": {},
   "outputs": [],
   "source": [
    "fixed_gvm = GeometryValidation(filtered_fixed)"
   ]
  },
  {
   "cell_type": "code",
   "execution_count": 138,
   "id": "cf4b88b8-6620-419c-a12f-8b150aea3ae5",
   "metadata": {},
   "outputs": [
    {
     "name": "stdout",
     "output_type": "stream",
     "text": [
      "CPU times: user 577 ms, sys: 15.9 ms, total: 593 ms\n",
      "Wall time: 620 ms\n"
     ]
    }
   ],
   "source": [
    "%%time\n",
    "valid_fixed = fixed_gvm.validate_all()"
   ]
  },
  {
   "cell_type": "code",
   "execution_count": 139,
   "id": "d020977d-18f2-4d8d-b7d7-4d23f438d9fd",
   "metadata": {},
   "outputs": [
    {
     "name": "stdout",
     "output_type": "stream",
     "text": [
      "CPU times: user 555 µs, sys: 0 ns, total: 555 µs\n",
      "Wall time: 487 µs\n"
     ]
    },
    {
     "data": {
      "text/plain": [
       "2300"
      ]
     },
     "execution_count": 139,
     "metadata": {},
     "output_type": "execute_result"
    }
   ],
   "source": [
    "%%time\n",
    "(~valid_fixed.is_oriented_properly).sum(axis=None)"
   ]
  },
  {
   "cell_type": "code",
   "execution_count": 140,
   "id": "2232c2f5-f0f0-41ba-9f5c-ace4f54869d0",
   "metadata": {},
   "outputs": [
    {
     "data": {
      "text/plain": [
       "0"
      ]
     },
     "execution_count": 140,
     "metadata": {},
     "output_type": "execute_result"
    }
   ],
   "source": [
    "(~valid_fixed.is_not_null).sum(axis=None)"
   ]
  },
  {
   "cell_type": "code",
   "execution_count": 141,
   "id": "cd1b11cf-6585-4eaf-902d-fca63c832f19",
   "metadata": {},
   "outputs": [
    {
     "data": {
      "text/plain": [
       "0"
      ]
     },
     "execution_count": 141,
     "metadata": {},
     "output_type": "execute_result"
    }
   ],
   "source": [
    "(~valid_fixed.is_not_self_intersecting).sum(axis=None)"
   ]
  },
  {
   "cell_type": "code",
   "execution_count": 142,
   "id": "cbbf32f1-6678-4ea6-925c-90aa1aff407e",
   "metadata": {},
   "outputs": [
    {
     "data": {
      "text/plain": [
       "0"
      ]
     },
     "execution_count": 142,
     "metadata": {},
     "output_type": "execute_result"
    }
   ],
   "source": [
    "(~valid_fixed.is_within_crs_bounds).sum(axis=None)"
   ]
  },
  {
   "cell_type": "code",
   "execution_count": 143,
   "id": "8eaf890b-3489-48a8-b4a2-3b53c10e6cdc",
   "metadata": {},
   "outputs": [
    {
     "data": {
      "text/plain": [
       "0"
      ]
     },
     "execution_count": 143,
     "metadata": {},
     "output_type": "execute_result"
    }
   ],
   "source": [
    "(~valid_fixed.area_is_not_zero).sum(axis=None)"
   ]
  },
  {
   "cell_type": "markdown",
   "id": "zsrOIkCtvGWV",
   "metadata": {
    "id": "zsrOIkCtvGWV"
   },
   "source": [
    "\n",
    "### Generate Zonal Stats\n"
   ]
  },
  {
   "cell_type": "code",
   "execution_count": 144,
   "id": "055c2c87-728a-4659-be9a-d39dc39e0a2c",
   "metadata": {},
   "outputs": [
    {
     "data": {
      "text/html": [
       "<div>\n",
       "<style scoped>\n",
       "    .dataframe tbody tr th:only-of-type {\n",
       "        vertical-align: middle;\n",
       "    }\n",
       "\n",
       "    .dataframe tbody tr th {\n",
       "        vertical-align: top;\n",
       "    }\n",
       "\n",
       "    .dataframe thead th {\n",
       "        text-align: right;\n",
       "    }\n",
       "</style>\n",
       "<table border=\"1\" class=\"dataframe\">\n",
       "  <thead>\n",
       "    <tr style=\"text-align: right;\">\n",
       "      <th></th>\n",
       "      <th>quadkey</th>\n",
       "      <th>avg_d_kbps</th>\n",
       "      <th>avg_u_kbps</th>\n",
       "      <th>avg_lat_ms</th>\n",
       "      <th>tests</th>\n",
       "      <th>devices</th>\n",
       "      <th>geometry</th>\n",
       "    </tr>\n",
       "  </thead>\n",
       "  <tbody>\n",
       "    <tr>\n",
       "      <th>32</th>\n",
       "      <td>1323031202232110</td>\n",
       "      <td>91002</td>\n",
       "      <td>90240</td>\n",
       "      <td>5</td>\n",
       "      <td>2473</td>\n",
       "      <td>562</td>\n",
       "      <td>POLYGON ((121.05835 14.64737, 121.06384 14.647...</td>\n",
       "    </tr>\n",
       "    <tr>\n",
       "      <th>1136</th>\n",
       "      <td>1323031202223301</td>\n",
       "      <td>86466</td>\n",
       "      <td>74067</td>\n",
       "      <td>6</td>\n",
       "      <td>1941</td>\n",
       "      <td>514</td>\n",
       "      <td>POLYGON ((121.00891 14.62611, 121.01440 14.626...</td>\n",
       "    </tr>\n",
       "    <tr>\n",
       "      <th>1258</th>\n",
       "      <td>1323031202232221</td>\n",
       "      <td>88322</td>\n",
       "      <td>71391</td>\n",
       "      <td>9</td>\n",
       "      <td>2106</td>\n",
       "      <td>551</td>\n",
       "      <td>POLYGON ((121.03088 14.61548, 121.03638 14.615...</td>\n",
       "    </tr>\n",
       "    <tr>\n",
       "      <th>1687</th>\n",
       "      <td>1323031202232300</td>\n",
       "      <td>70744</td>\n",
       "      <td>64286</td>\n",
       "      <td>6</td>\n",
       "      <td>1318</td>\n",
       "      <td>415</td>\n",
       "      <td>POLYGON ((121.04736 14.62611, 121.05286 14.626...</td>\n",
       "    </tr>\n",
       "    <tr>\n",
       "      <th>1865</th>\n",
       "      <td>1323031202221332</td>\n",
       "      <td>94282</td>\n",
       "      <td>86438</td>\n",
       "      <td>7</td>\n",
       "      <td>1466</td>\n",
       "      <td>329</td>\n",
       "      <td>POLYGON ((121.01440 14.65268, 121.01990 14.652...</td>\n",
       "    </tr>\n",
       "  </tbody>\n",
       "</table>\n",
       "</div>"
      ],
      "text/plain": [
       "               quadkey  avg_d_kbps  avg_u_kbps  avg_lat_ms  tests  devices                                           geometry\n",
       "32    1323031202232110       91002       90240           5   2473      562  POLYGON ((121.05835 14.64737, 121.06384 14.647...\n",
       "1136  1323031202223301       86466       74067           6   1941      514  POLYGON ((121.00891 14.62611, 121.01440 14.626...\n",
       "1258  1323031202232221       88322       71391           9   2106      551  POLYGON ((121.03088 14.61548, 121.03638 14.615...\n",
       "1687  1323031202232300       70744       64286           6   1318      415  POLYGON ((121.04736 14.62611, 121.05286 14.626...\n",
       "1865  1323031202221332       94282       86438           7   1466      329  POLYGON ((121.01440 14.65268, 121.01990 14.652..."
      ]
     },
     "execution_count": 144,
     "metadata": {},
     "output_type": "execute_result"
    }
   ],
   "source": [
    "filtered_fixed.head()"
   ]
  },
  {
   "cell_type": "code",
   "execution_count": 145,
   "id": "43cc6792-18db-494d-ae1e-dfdafec36f96",
   "metadata": {},
   "outputs": [
    {
     "data": {
      "text/plain": [
       "['quadkey',\n",
       " 'avg_d_kbps',\n",
       " 'avg_u_kbps',\n",
       " 'avg_lat_ms',\n",
       " 'tests',\n",
       " 'devices',\n",
       " 'geometry']"
      ]
     },
     "execution_count": 145,
     "metadata": {},
     "output_type": "execute_result"
    }
   ],
   "source": [
    "list(filtered_fixed.columns.values)"
   ]
  },
  {
   "cell_type": "code",
   "execution_count": 146,
   "id": "3fab265e-908c-4a69-9da3-94204a8c16b8",
   "metadata": {},
   "outputs": [
    {
     "data": {
      "text/plain": [
       "2300"
      ]
     },
     "execution_count": 146,
     "metadata": {},
     "output_type": "execute_result"
    }
   ],
   "source": [
    "len(filtered_fixed)"
   ]
  },
  {
   "cell_type": "code",
   "execution_count": 147,
   "id": "0a8e14d2-4113-4387-937e-b9f5129c9557",
   "metadata": {},
   "outputs": [
    {
     "name": "stdout",
     "output_type": "stream",
     "text": [
      "CPU times: user 28.8 ms, sys: 0 ns, total: 28.8 ms\n",
      "Wall time: 41.7 ms\n"
     ]
    }
   ],
   "source": [
    "%%time\n",
    "valid_admin3 = valid_admin3.to_crs(\"EPSG:3857\")"
   ]
  },
  {
   "cell_type": "code",
   "execution_count": 148,
   "id": "e8e2ff47-bba6-4a6c-9436-5988c9feeec3",
   "metadata": {},
   "outputs": [
    {
     "name": "stdout",
     "output_type": "stream",
     "text": [
      "CPU times: user 17.4 ms, sys: 0 ns, total: 17.4 ms\n",
      "Wall time: 16.4 ms\n"
     ]
    }
   ],
   "source": [
    "%%time\n",
    "filtered_fixed = filtered_fixed.to_crs(\"EPSG:3857\")"
   ]
  },
  {
   "cell_type": "code",
   "execution_count": 149,
   "id": "93ea17d1-532b-40b7-a17a-c67d6eb27dec",
   "metadata": {},
   "outputs": [
    {
     "name": "stdout",
     "output_type": "stream",
     "text": [
      "CPU times: user 296 ms, sys: 9.8 ms, total: 306 ms\n",
      "Wall time: 376 ms\n"
     ]
    }
   ],
   "source": [
    "%%time\n",
    "valid_admin3.to_file(\"../data/valid_admin3.geojson\", driver=\"GeoJSON\")"
   ]
  },
  {
   "cell_type": "code",
   "execution_count": 150,
   "id": "e7ee9053-5726-456d-a941-293db991c3d6",
   "metadata": {},
   "outputs": [
    {
     "name": "stdout",
     "output_type": "stream",
     "text": [
      "CPU times: user 618 ms, sys: 3.2 ms, total: 621 ms\n",
      "Wall time: 619 ms\n"
     ]
    }
   ],
   "source": [
    "%%time\n",
    "filtered_fixed.to_file(\"../data/filtered_fixed.geojson\", driver=\"GeoJSON\")"
   ]
  },
  {
   "cell_type": "code",
   "execution_count": 151,
   "id": "d5f76eab-e106-4f26-8c1e-5ccb62d9144b",
   "metadata": {},
   "outputs": [],
   "source": [
    "# %%time\n",
    "# valid_admin3 = gpd.read_file(\"../data/valid_admin3.geojson\")"
   ]
  },
  {
   "cell_type": "code",
   "execution_count": 152,
   "id": "029d9c9e-d502-499c-ab91-4cdd9ab75089",
   "metadata": {},
   "outputs": [],
   "source": [
    "# %%time\n",
    "# filtered_fixed = gpd.read_file(\"../data/filtered_fixed.geojson\")"
   ]
  },
  {
   "cell_type": "code",
   "execution_count": 153,
   "id": "aa1b3b4a-0ab7-4431-91d3-d2a001ac8c27",
   "metadata": {},
   "outputs": [],
   "source": [
    "funcs = [\"mean\", \"min\", \"max\", \"std\"]\n",
    "columns = [\"avg_d_kbps\", \"avg_u_kbps\", \"avg_lat_ms\"]"
   ]
  },
  {
   "cell_type": "code",
   "execution_count": 154,
   "id": "9c659af8-48fb-4621-b42f-5c97622ef54c",
   "metadata": {},
   "outputs": [],
   "source": [
    "aggregations = [dict(func=funcs, column=c) for c in columns]"
   ]
  },
  {
   "cell_type": "code",
   "execution_count": 155,
   "id": "c069d560-8c21-4c75-a0ea-5ac1e1171ee7",
   "metadata": {},
   "outputs": [
    {
     "data": {
      "text/plain": [
       "[{'func': ['mean', 'min', 'max', 'std'], 'column': 'avg_d_kbps'},\n",
       " {'func': ['mean', 'min', 'max', 'std'], 'column': 'avg_u_kbps'},\n",
       " {'func': ['mean', 'min', 'max', 'std'], 'column': 'avg_lat_ms'}]"
      ]
     },
     "execution_count": 155,
     "metadata": {},
     "output_type": "execute_result"
    }
   ],
   "source": [
    "aggregations"
   ]
  },
  {
   "cell_type": "code",
   "execution_count": 156,
   "id": "00af125d-e5b2-4a7c-bdde-09dbbc73c845",
   "metadata": {},
   "outputs": [
    {
     "name": "stdout",
     "output_type": "stream",
     "text": [
      "CPU times: user 5.32 s, sys: 0 ns, total: 5.32 s\n",
      "Wall time: 5.39 s\n"
     ]
    }
   ],
   "source": [
    "%%time\n",
    "aoi = azs.create_area_zonal_stats(\n",
    "    valid_admin3, filtered_fixed, aggregations=aggregations\n",
    ")"
   ]
  },
  {
   "cell_type": "markdown",
   "id": "jaQ-k7BlvI2W",
   "metadata": {
    "id": "jaQ-k7BlvI2W",
    "tags": []
   },
   "source": [
    "\n",
    "### Analyze Zonal Stats\n"
   ]
  },
  {
   "cell_type": "code",
   "execution_count": 157,
   "id": "44b4c4f4-1641-4f5a-8d37-bffbef2ae6dd",
   "metadata": {},
   "outputs": [
    {
     "data": {
      "text/html": [
       "<div>\n",
       "<style scoped>\n",
       "    .dataframe tbody tr th:only-of-type {\n",
       "        vertical-align: middle;\n",
       "    }\n",
       "\n",
       "    .dataframe tbody tr th {\n",
       "        vertical-align: top;\n",
       "    }\n",
       "\n",
       "    .dataframe thead th {\n",
       "        text-align: right;\n",
       "    }\n",
       "</style>\n",
       "<table border=\"1\" class=\"dataframe\">\n",
       "  <thead>\n",
       "    <tr style=\"text-align: right;\">\n",
       "      <th></th>\n",
       "      <th>Shape_Leng</th>\n",
       "      <th>Shape_Area</th>\n",
       "      <th>ADM3_EN</th>\n",
       "      <th>ADM3_PCODE</th>\n",
       "      <th>ADM3_REF</th>\n",
       "      <th>ADM3ALT1EN</th>\n",
       "      <th>ADM3ALT2EN</th>\n",
       "      <th>ADM2_EN</th>\n",
       "      <th>ADM2_PCODE</th>\n",
       "      <th>ADM1_EN</th>\n",
       "      <th>ADM1_PCODE</th>\n",
       "      <th>ADM0_EN</th>\n",
       "      <th>ADM0_PCODE</th>\n",
       "      <th>date</th>\n",
       "      <th>validOn</th>\n",
       "      <th>validTo</th>\n",
       "      <th>geometry</th>\n",
       "      <th>intersect_area_sum</th>\n",
       "      <th>avg_d_kbps_mean</th>\n",
       "      <th>avg_d_kbps_min</th>\n",
       "      <th>avg_d_kbps_max</th>\n",
       "      <th>avg_d_kbps_std</th>\n",
       "      <th>avg_u_kbps_mean</th>\n",
       "      <th>avg_u_kbps_min</th>\n",
       "      <th>avg_u_kbps_max</th>\n",
       "      <th>avg_u_kbps_std</th>\n",
       "      <th>avg_lat_ms_mean</th>\n",
       "      <th>avg_lat_ms_min</th>\n",
       "      <th>avg_lat_ms_max</th>\n",
       "      <th>avg_lat_ms_std</th>\n",
       "    </tr>\n",
       "  </thead>\n",
       "  <tbody>\n",
       "    <tr>\n",
       "      <th>211</th>\n",
       "      <td>0.037803</td>\n",
       "      <td>0.000056</td>\n",
       "      <td>Binondo</td>\n",
       "      <td>PH133902000</td>\n",
       "      <td>None</td>\n",
       "      <td>None</td>\n",
       "      <td>None</td>\n",
       "      <td>NCR, City of Manila, First District</td>\n",
       "      <td>PH133900000</td>\n",
       "      <td>National Capital Region</td>\n",
       "      <td>PH130000000</td>\n",
       "      <td>Philippines (the)</td>\n",
       "      <td>PH</td>\n",
       "      <td>2016-06-30</td>\n",
       "      <td>2020-05-29</td>\n",
       "      <td>None</td>\n",
       "      <td>POLYGON ((13467140.279 1643403.808, 13467170.0...</td>\n",
       "      <td>2.330890e+06</td>\n",
       "      <td>15125.377199</td>\n",
       "      <td>0.0</td>\n",
       "      <td>97827</td>\n",
       "      <td>4141.081774</td>\n",
       "      <td>12152.916247</td>\n",
       "      <td>0.0</td>\n",
       "      <td>80923</td>\n",
       "      <td>5625.791089</td>\n",
       "      <td>1.228832</td>\n",
       "      <td>0.0</td>\n",
       "      <td>8</td>\n",
       "      <td>0.923381</td>\n",
       "    </tr>\n",
       "    <tr>\n",
       "      <th>308</th>\n",
       "      <td>0.692758</td>\n",
       "      <td>0.004468</td>\n",
       "      <td>Caloocan City</td>\n",
       "      <td>PH137501000</td>\n",
       "      <td>None</td>\n",
       "      <td>None</td>\n",
       "      <td>None</td>\n",
       "      <td>NCR, Third District</td>\n",
       "      <td>PH137500000</td>\n",
       "      <td>National Capital Region</td>\n",
       "      <td>PH130000000</td>\n",
       "      <td>Philippines (the)</td>\n",
       "      <td>PH</td>\n",
       "      <td>2016-06-30</td>\n",
       "      <td>2020-05-29</td>\n",
       "      <td>None</td>\n",
       "      <td>MULTIPOLYGON (((13471724.654 1653701.565, 1347...</td>\n",
       "      <td>7.425998e+07</td>\n",
       "      <td>309.956521</td>\n",
       "      <td>0.0</td>\n",
       "      <td>123236</td>\n",
       "      <td>15346.775252</td>\n",
       "      <td>307.716950</td>\n",
       "      <td>0.0</td>\n",
       "      <td>117885</td>\n",
       "      <td>15118.576034</td>\n",
       "      <td>0.035243</td>\n",
       "      <td>0.0</td>\n",
       "      <td>59</td>\n",
       "      <td>6.147227</td>\n",
       "    </tr>\n",
       "    <tr>\n",
       "      <th>395</th>\n",
       "      <td>0.362306</td>\n",
       "      <td>0.002745</td>\n",
       "      <td>City of Las Piñas</td>\n",
       "      <td>PH137601000</td>\n",
       "      <td>City of Las Pinas</td>\n",
       "      <td>None</td>\n",
       "      <td>None</td>\n",
       "      <td>NCR, Fourth District</td>\n",
       "      <td>PH137600000</td>\n",
       "      <td>National Capital Region</td>\n",
       "      <td>PH130000000</td>\n",
       "      <td>Philippines (the)</td>\n",
       "      <td>PH</td>\n",
       "      <td>2016-06-30</td>\n",
       "      <td>2020-05-29</td>\n",
       "      <td>None</td>\n",
       "      <td>MULTIPOLYGON (((13467568.063 1630171.435, 1346...</td>\n",
       "      <td>4.080667e+07</td>\n",
       "      <td>649.603501</td>\n",
       "      <td>0.0</td>\n",
       "      <td>175810</td>\n",
       "      <td>22328.120899</td>\n",
       "      <td>555.324817</td>\n",
       "      <td>0.0</td>\n",
       "      <td>136167</td>\n",
       "      <td>19944.226971</td>\n",
       "      <td>0.045298</td>\n",
       "      <td>0.0</td>\n",
       "      <td>146</td>\n",
       "      <td>11.110505</td>\n",
       "    </tr>\n",
       "    <tr>\n",
       "      <th>398</th>\n",
       "      <td>0.260317</td>\n",
       "      <td>0.002094</td>\n",
       "      <td>City of Makati</td>\n",
       "      <td>PH137602000</td>\n",
       "      <td>None</td>\n",
       "      <td>None</td>\n",
       "      <td>None</td>\n",
       "      <td>NCR, Fourth District</td>\n",
       "      <td>PH137600000</td>\n",
       "      <td>National Capital Region</td>\n",
       "      <td>PH130000000</td>\n",
       "      <td>Philippines (the)</td>\n",
       "      <td>PH</td>\n",
       "      <td>2016-06-30</td>\n",
       "      <td>2020-05-29</td>\n",
       "      <td>None</td>\n",
       "      <td>POLYGON ((13473518.917 1639376.906, 13473461.1...</td>\n",
       "      <td>3.840895e+07</td>\n",
       "      <td>765.462383</td>\n",
       "      <td>0.0</td>\n",
       "      <td>159496</td>\n",
       "      <td>16771.721664</td>\n",
       "      <td>663.200995</td>\n",
       "      <td>0.0</td>\n",
       "      <td>144939</td>\n",
       "      <td>17818.361374</td>\n",
       "      <td>0.091436</td>\n",
       "      <td>0.0</td>\n",
       "      <td>25</td>\n",
       "      <td>5.288884</td>\n",
       "    </tr>\n",
       "    <tr>\n",
       "      <th>399</th>\n",
       "      <td>0.262034</td>\n",
       "      <td>0.001323</td>\n",
       "      <td>City of Malabon</td>\n",
       "      <td>PH137502000</td>\n",
       "      <td>None</td>\n",
       "      <td>None</td>\n",
       "      <td>None</td>\n",
       "      <td>NCR, Third District</td>\n",
       "      <td>PH137500000</td>\n",
       "      <td>National Capital Region</td>\n",
       "      <td>PH130000000</td>\n",
       "      <td>Philippines (the)</td>\n",
       "      <td>PH</td>\n",
       "      <td>2016-06-30</td>\n",
       "      <td>2020-05-29</td>\n",
       "      <td>None</td>\n",
       "      <td>POLYGON ((13461569.031 1654955.161, 13461520.7...</td>\n",
       "      <td>2.583556e+07</td>\n",
       "      <td>1006.838781</td>\n",
       "      <td>0.0</td>\n",
       "      <td>119622</td>\n",
       "      <td>13444.542392</td>\n",
       "      <td>933.345049</td>\n",
       "      <td>0.0</td>\n",
       "      <td>130002</td>\n",
       "      <td>14309.585589</td>\n",
       "      <td>0.096779</td>\n",
       "      <td>0.0</td>\n",
       "      <td>17</td>\n",
       "      <td>2.893162</td>\n",
       "    </tr>\n",
       "  </tbody>\n",
       "</table>\n",
       "</div>"
      ],
      "text/plain": [
       "     Shape_Leng  Shape_Area            ADM3_EN   ADM3_PCODE           ADM3_REF ADM3ALT1EN ADM3ALT2EN                              ADM2_EN   ADM2_PCODE                  ADM1_EN   ADM1_PCODE            ADM0_EN ADM0_PCODE        date     validOn validTo                                           geometry  intersect_area_sum  avg_d_kbps_mean  avg_d_kbps_min  avg_d_kbps_max  avg_d_kbps_std  avg_u_kbps_mean  avg_u_kbps_min  avg_u_kbps_max  avg_u_kbps_std  avg_lat_ms_mean  avg_lat_ms_min  avg_lat_ms_max  avg_lat_ms_std\n",
       "211    0.037803    0.000056            Binondo  PH133902000               None       None       None  NCR, City of Manila, First District  PH133900000  National Capital Region  PH130000000  Philippines (the)         PH  2016-06-30  2020-05-29    None  POLYGON ((13467140.279 1643403.808, 13467170.0...        2.330890e+06     15125.377199             0.0           97827     4141.081774     12152.916247             0.0           80923     5625.791089         1.228832             0.0               8        0.923381\n",
       "308    0.692758    0.004468      Caloocan City  PH137501000               None       None       None                  NCR, Third District  PH137500000  National Capital Region  PH130000000  Philippines (the)         PH  2016-06-30  2020-05-29    None  MULTIPOLYGON (((13471724.654 1653701.565, 1347...        7.425998e+07       309.956521             0.0          123236    15346.775252       307.716950             0.0          117885    15118.576034         0.035243             0.0              59        6.147227\n",
       "395    0.362306    0.002745  City of Las Piñas  PH137601000  City of Las Pinas       None       None                 NCR, Fourth District  PH137600000  National Capital Region  PH130000000  Philippines (the)         PH  2016-06-30  2020-05-29    None  MULTIPOLYGON (((13467568.063 1630171.435, 1346...        4.080667e+07       649.603501             0.0          175810    22328.120899       555.324817             0.0          136167    19944.226971         0.045298             0.0             146       11.110505\n",
       "398    0.260317    0.002094     City of Makati  PH137602000               None       None       None                 NCR, Fourth District  PH137600000  National Capital Region  PH130000000  Philippines (the)         PH  2016-06-30  2020-05-29    None  POLYGON ((13473518.917 1639376.906, 13473461.1...        3.840895e+07       765.462383             0.0          159496    16771.721664       663.200995             0.0          144939    17818.361374         0.091436             0.0              25        5.288884\n",
       "399    0.262034    0.001323    City of Malabon  PH137502000               None       None       None                  NCR, Third District  PH137500000  National Capital Region  PH130000000  Philippines (the)         PH  2016-06-30  2020-05-29    None  POLYGON ((13461569.031 1654955.161, 13461520.7...        2.583556e+07      1006.838781             0.0          119622    13444.542392       933.345049             0.0          130002    14309.585589         0.096779             0.0              17        2.893162"
      ]
     },
     "execution_count": 157,
     "metadata": {},
     "output_type": "execute_result"
    }
   ],
   "source": [
    "aoi.head()"
   ]
  },
  {
   "cell_type": "code",
   "execution_count": 158,
   "id": "f303907c-62e6-40d5-9fd5-4c99ea39860a",
   "metadata": {
    "tags": []
   },
   "outputs": [
    {
     "name": "stdout",
     "output_type": "stream",
     "text": [
      "CPU times: user 554 ms, sys: 0 ns, total: 554 ms\n",
      "Wall time: 554 ms\n"
     ]
    }
   ],
   "source": [
    "%%time\n",
    "aoi.to_file(\"../data/admin3_internet_aoi.geojson\", driver=\"GeoJSON\")"
   ]
  },
  {
   "cell_type": "code",
   "execution_count": 159,
   "id": "f928d3af-9f82-4812-807d-a073d01e66b6",
   "metadata": {},
   "outputs": [
    {
     "data": {
      "text/plain": [
       "['Shape_Leng',\n",
       " 'Shape_Area',\n",
       " 'ADM3_EN',\n",
       " 'ADM3_PCODE',\n",
       " 'ADM3_REF',\n",
       " 'ADM3ALT1EN',\n",
       " 'ADM3ALT2EN',\n",
       " 'ADM2_EN',\n",
       " 'ADM2_PCODE',\n",
       " 'ADM1_EN',\n",
       " 'ADM1_PCODE',\n",
       " 'ADM0_EN',\n",
       " 'ADM0_PCODE',\n",
       " 'date',\n",
       " 'validOn',\n",
       " 'validTo',\n",
       " 'geometry',\n",
       " 'intersect_area_sum',\n",
       " 'avg_d_kbps_mean',\n",
       " 'avg_d_kbps_min',\n",
       " 'avg_d_kbps_max',\n",
       " 'avg_d_kbps_std',\n",
       " 'avg_u_kbps_mean',\n",
       " 'avg_u_kbps_min',\n",
       " 'avg_u_kbps_max',\n",
       " 'avg_u_kbps_std',\n",
       " 'avg_lat_ms_mean',\n",
       " 'avg_lat_ms_min',\n",
       " 'avg_lat_ms_max',\n",
       " 'avg_lat_ms_std']"
      ]
     },
     "execution_count": 159,
     "metadata": {},
     "output_type": "execute_result"
    }
   ],
   "source": [
    "list(aoi.columns.values)"
   ]
  },
  {
   "cell_type": "code",
   "execution_count": 160,
   "id": "97099816-94c5-426b-9ce0-a94d1823e12d",
   "metadata": {},
   "outputs": [
    {
     "name": "stdout",
     "output_type": "stream",
     "text": [
      "CPU times: user 4.05 ms, sys: 1.57 ms, total: 5.63 ms\n",
      "Wall time: 7.33 ms\n"
     ]
    }
   ],
   "source": [
    "%%time\n",
    "fastest_mean_download = aoi.sort_values(\"avg_d_kbps_mean\", ascending=False)"
   ]
  },
  {
   "cell_type": "code",
   "execution_count": 161,
   "id": "b79ed5ca-35fd-4486-aff8-bb6e2b3a667c",
   "metadata": {},
   "outputs": [
    {
     "data": {
      "text/plain": [
       "30"
      ]
     },
     "execution_count": 161,
     "metadata": {},
     "output_type": "execute_result"
    }
   ],
   "source": [
    "len(fastest_mean_download)"
   ]
  },
  {
   "cell_type": "code",
   "execution_count": 162,
   "id": "f97ca617-a2fe-4891-ad0d-3de47b7ea3a8",
   "metadata": {},
   "outputs": [
    {
     "data": {
      "text/plain": [
       "Shape_Leng                                                     0.037803\n",
       "Shape_Area                                                     0.000056\n",
       "ADM3_EN                                                         Binondo\n",
       "ADM3_PCODE                                                  PH133902000\n",
       "ADM3_REF                                                           None\n",
       "ADM3ALT1EN                                                         None\n",
       "ADM3ALT2EN                                                         None\n",
       "ADM2_EN                             NCR, City of Manila, First District\n",
       "ADM2_PCODE                                                  PH133900000\n",
       "ADM1_EN                                         National Capital Region\n",
       "ADM1_PCODE                                                  PH130000000\n",
       "ADM0_EN                                               Philippines (the)\n",
       "ADM0_PCODE                                                           PH\n",
       "date                                                         2016-06-30\n",
       "validOn                                                      2020-05-29\n",
       "validTo                                                            None\n",
       "geometry              POLYGON ((13467140.2793258 1643403.80801774, 1...\n",
       "intersect_area_sum                                       2330890.174196\n",
       "avg_d_kbps_mean                                            15125.377199\n",
       "avg_d_kbps_min                                                      0.0\n",
       "avg_d_kbps_max                                                    97827\n",
       "avg_d_kbps_std                                              4141.081774\n",
       "avg_u_kbps_mean                                            12152.916247\n",
       "avg_u_kbps_min                                                      0.0\n",
       "avg_u_kbps_max                                                    80923\n",
       "avg_u_kbps_std                                              5625.791089\n",
       "avg_lat_ms_mean                                                1.228832\n",
       "avg_lat_ms_min                                                      0.0\n",
       "avg_lat_ms_max                                                        8\n",
       "avg_lat_ms_std                                                 0.923381\n",
       "Name: 211, dtype: object"
      ]
     },
     "execution_count": 162,
     "metadata": {},
     "output_type": "execute_result"
    }
   ],
   "source": [
    "fastest_mean_download.iloc[0]"
   ]
  },
  {
   "cell_type": "code",
   "execution_count": 163,
   "id": "7af62fe8-19a3-40fd-b4d0-2f40aeb20fdb",
   "metadata": {},
   "outputs": [
    {
     "data": {
      "text/plain": [
       "Shape_Leng                                                     0.773902\n",
       "Shape_Area                                                      0.01363\n",
       "ADM3_EN                                                     Quezon City\n",
       "ADM3_PCODE                                                  PH137404000\n",
       "ADM3_REF                                                           None\n",
       "ADM3ALT1EN                                                         None\n",
       "ADM3ALT2EN                                                         None\n",
       "ADM2_EN                                            NCR, Second District\n",
       "ADM2_PCODE                                                  PH137400000\n",
       "ADM1_EN                                         National Capital Region\n",
       "ADM1_PCODE                                                  PH130000000\n",
       "ADM0_EN                                               Philippines (the)\n",
       "ADM0_PCODE                                                           PH\n",
       "date                                                         2016-06-30\n",
       "validOn                                                      2020-05-29\n",
       "validTo                                                            None\n",
       "geometry              POLYGON ((13484683.37714301 1663482.482347114,...\n",
       "intersect_area_sum                                      174544789.29521\n",
       "avg_d_kbps_mean                                              145.111131\n",
       "avg_d_kbps_min                                                      0.0\n",
       "avg_d_kbps_max                                                   269544\n",
       "avg_d_kbps_std                                             20232.269854\n",
       "avg_u_kbps_mean                                              133.033955\n",
       "avg_u_kbps_min                                                      0.0\n",
       "avg_u_kbps_max                                                   260425\n",
       "avg_u_kbps_std                                             20141.871761\n",
       "avg_lat_ms_mean                                                0.011798\n",
       "avg_lat_ms_min                                                      0.0\n",
       "avg_lat_ms_max                                                       29\n",
       "avg_lat_ms_std                                                  2.90016\n",
       "Name: 1191, dtype: object"
      ]
     },
     "execution_count": 163,
     "metadata": {},
     "output_type": "execute_result"
    }
   ],
   "source": [
    "fastest_mean_download.iloc[29]"
   ]
  },
  {
   "cell_type": "code",
   "execution_count": 164,
   "id": "aadf0459-e05c-495e-855e-4d8cf9d60a5c",
   "metadata": {},
   "outputs": [
    {
     "data": {
      "text/html": [
       "<div>\n",
       "<style scoped>\n",
       "    .dataframe tbody tr th:only-of-type {\n",
       "        vertical-align: middle;\n",
       "    }\n",
       "\n",
       "    .dataframe tbody tr th {\n",
       "        vertical-align: top;\n",
       "    }\n",
       "\n",
       "    .dataframe thead th {\n",
       "        text-align: right;\n",
       "    }\n",
       "</style>\n",
       "<table border=\"1\" class=\"dataframe\">\n",
       "  <thead>\n",
       "    <tr style=\"text-align: right;\">\n",
       "      <th></th>\n",
       "      <th>Shape_Leng</th>\n",
       "      <th>Shape_Area</th>\n",
       "      <th>ADM3_EN</th>\n",
       "      <th>ADM3_PCODE</th>\n",
       "      <th>ADM3_REF</th>\n",
       "      <th>ADM3ALT1EN</th>\n",
       "      <th>ADM3ALT2EN</th>\n",
       "      <th>ADM2_EN</th>\n",
       "      <th>ADM2_PCODE</th>\n",
       "      <th>ADM1_EN</th>\n",
       "      <th>ADM1_PCODE</th>\n",
       "      <th>ADM0_EN</th>\n",
       "      <th>ADM0_PCODE</th>\n",
       "      <th>date</th>\n",
       "      <th>validOn</th>\n",
       "      <th>validTo</th>\n",
       "      <th>geometry</th>\n",
       "      <th>intersect_area_sum</th>\n",
       "      <th>avg_d_kbps_mean</th>\n",
       "      <th>avg_d_kbps_min</th>\n",
       "      <th>avg_d_kbps_max</th>\n",
       "      <th>avg_d_kbps_std</th>\n",
       "      <th>avg_u_kbps_mean</th>\n",
       "      <th>avg_u_kbps_min</th>\n",
       "      <th>avg_u_kbps_max</th>\n",
       "      <th>avg_u_kbps_std</th>\n",
       "      <th>avg_lat_ms_mean</th>\n",
       "      <th>avg_lat_ms_min</th>\n",
       "      <th>avg_lat_ms_max</th>\n",
       "      <th>avg_lat_ms_std</th>\n",
       "    </tr>\n",
       "  </thead>\n",
       "  <tbody>\n",
       "    <tr>\n",
       "      <th>211</th>\n",
       "      <td>0.037803</td>\n",
       "      <td>0.000056</td>\n",
       "      <td>Binondo</td>\n",
       "      <td>PH133902000</td>\n",
       "      <td>None</td>\n",
       "      <td>None</td>\n",
       "      <td>None</td>\n",
       "      <td>NCR, City of Manila, First District</td>\n",
       "      <td>PH133900000</td>\n",
       "      <td>National Capital Region</td>\n",
       "      <td>PH130000000</td>\n",
       "      <td>Philippines (the)</td>\n",
       "      <td>PH</td>\n",
       "      <td>2016-06-30</td>\n",
       "      <td>2020-05-29</td>\n",
       "      <td>None</td>\n",
       "      <td>POLYGON ((13467140.279 1643403.808, 13467170.0...</td>\n",
       "      <td>2.330890e+06</td>\n",
       "      <td>15125.377199</td>\n",
       "      <td>0.0</td>\n",
       "      <td>97827</td>\n",
       "      <td>4141.081774</td>\n",
       "      <td>12152.916247</td>\n",
       "      <td>0.0</td>\n",
       "      <td>80923</td>\n",
       "      <td>5625.791089</td>\n",
       "      <td>1.228832</td>\n",
       "      <td>0.0</td>\n",
       "      <td>8</td>\n",
       "      <td>0.923381</td>\n",
       "    </tr>\n",
       "    <tr>\n",
       "      <th>1343</th>\n",
       "      <td>0.053487</td>\n",
       "      <td>0.000078</td>\n",
       "      <td>San Nicolas</td>\n",
       "      <td>PH133904000</td>\n",
       "      <td>None</td>\n",
       "      <td>None</td>\n",
       "      <td>None</td>\n",
       "      <td>NCR, City of Manila, First District</td>\n",
       "      <td>PH133900000</td>\n",
       "      <td>National Capital Region</td>\n",
       "      <td>PH130000000</td>\n",
       "      <td>Philippines (the)</td>\n",
       "      <td>PH</td>\n",
       "      <td>2016-06-30</td>\n",
       "      <td>2020-05-29</td>\n",
       "      <td>None</td>\n",
       "      <td>POLYGON ((13466744.672 1642984.779, 13466729.4...</td>\n",
       "      <td>2.664462e+06</td>\n",
       "      <td>10897.783018</td>\n",
       "      <td>0.0</td>\n",
       "      <td>102244</td>\n",
       "      <td>7120.360056</td>\n",
       "      <td>9006.193022</td>\n",
       "      <td>0.0</td>\n",
       "      <td>86747</td>\n",
       "      <td>7700.042780</td>\n",
       "      <td>0.704346</td>\n",
       "      <td>0.0</td>\n",
       "      <td>8</td>\n",
       "      <td>1.506245</td>\n",
       "    </tr>\n",
       "    <tr>\n",
       "      <th>1192</th>\n",
       "      <td>0.037150</td>\n",
       "      <td>0.000074</td>\n",
       "      <td>Quiapo</td>\n",
       "      <td>PH133903000</td>\n",
       "      <td>None</td>\n",
       "      <td>None</td>\n",
       "      <td>None</td>\n",
       "      <td>NCR, City of Manila, First District</td>\n",
       "      <td>PH133900000</td>\n",
       "      <td>National Capital Region</td>\n",
       "      <td>PH130000000</td>\n",
       "      <td>Philippines (the)</td>\n",
       "      <td>PH</td>\n",
       "      <td>2016-06-30</td>\n",
       "      <td>2020-05-29</td>\n",
       "      <td>None</td>\n",
       "      <td>POLYGON ((13468655.228 1642642.753, 13468654.8...</td>\n",
       "      <td>2.662329e+06</td>\n",
       "      <td>9799.121085</td>\n",
       "      <td>0.0</td>\n",
       "      <td>98873</td>\n",
       "      <td>10795.824603</td>\n",
       "      <td>8118.883151</td>\n",
       "      <td>0.0</td>\n",
       "      <td>80923</td>\n",
       "      <td>6614.199092</td>\n",
       "      <td>0.918342</td>\n",
       "      <td>0.0</td>\n",
       "      <td>9</td>\n",
       "      <td>0.907896</td>\n",
       "    </tr>\n",
       "    <tr>\n",
       "      <th>1336</th>\n",
       "      <td>0.048487</td>\n",
       "      <td>0.000076</td>\n",
       "      <td>San Miguel</td>\n",
       "      <td>PH133907000</td>\n",
       "      <td>None</td>\n",
       "      <td>None</td>\n",
       "      <td>None</td>\n",
       "      <td>NCR, City of Manila, First District</td>\n",
       "      <td>PH133900000</td>\n",
       "      <td>National Capital Region</td>\n",
       "      <td>PH130000000</td>\n",
       "      <td>Philippines (the)</td>\n",
       "      <td>PH</td>\n",
       "      <td>2016-06-30</td>\n",
       "      <td>2020-05-29</td>\n",
       "      <td>None</td>\n",
       "      <td>POLYGON ((13468957.316 1643213.115, 13468945.4...</td>\n",
       "      <td>2.487809e+06</td>\n",
       "      <td>8708.791412</td>\n",
       "      <td>0.0</td>\n",
       "      <td>98873</td>\n",
       "      <td>9888.900686</td>\n",
       "      <td>6668.758487</td>\n",
       "      <td>0.0</td>\n",
       "      <td>80182</td>\n",
       "      <td>7787.458224</td>\n",
       "      <td>0.768447</td>\n",
       "      <td>0.0</td>\n",
       "      <td>11</td>\n",
       "      <td>1.742236</td>\n",
       "    </tr>\n",
       "    <tr>\n",
       "      <th>1112</th>\n",
       "      <td>0.068193</td>\n",
       "      <td>0.000135</td>\n",
       "      <td>Pateros</td>\n",
       "      <td>PH137606000</td>\n",
       "      <td>None</td>\n",
       "      <td>None</td>\n",
       "      <td>None</td>\n",
       "      <td>NCR, Fourth District</td>\n",
       "      <td>PH137600000</td>\n",
       "      <td>National Capital Region</td>\n",
       "      <td>PH130000000</td>\n",
       "      <td>Philippines (the)</td>\n",
       "      <td>PH</td>\n",
       "      <td>2016-06-30</td>\n",
       "      <td>2020-05-29</td>\n",
       "      <td>None</td>\n",
       "      <td>POLYGON ((13477449.820 1637654.605, 13477440.2...</td>\n",
       "      <td>3.712584e+06</td>\n",
       "      <td>7581.975774</td>\n",
       "      <td>0.0</td>\n",
       "      <td>111250</td>\n",
       "      <td>14222.228691</td>\n",
       "      <td>7589.466134</td>\n",
       "      <td>0.0</td>\n",
       "      <td>111699</td>\n",
       "      <td>16454.487517</td>\n",
       "      <td>0.653218</td>\n",
       "      <td>0.0</td>\n",
       "      <td>22</td>\n",
       "      <td>6.301402</td>\n",
       "    </tr>\n",
       "  </tbody>\n",
       "</table>\n",
       "</div>"
      ],
      "text/plain": [
       "      Shape_Leng  Shape_Area      ADM3_EN   ADM3_PCODE ADM3_REF ADM3ALT1EN ADM3ALT2EN                              ADM2_EN   ADM2_PCODE                  ADM1_EN   ADM1_PCODE            ADM0_EN ADM0_PCODE        date     validOn validTo                                           geometry  intersect_area_sum  avg_d_kbps_mean  avg_d_kbps_min  avg_d_kbps_max  avg_d_kbps_std  avg_u_kbps_mean  avg_u_kbps_min  avg_u_kbps_max  avg_u_kbps_std  avg_lat_ms_mean  avg_lat_ms_min  avg_lat_ms_max  avg_lat_ms_std\n",
       "211     0.037803    0.000056      Binondo  PH133902000     None       None       None  NCR, City of Manila, First District  PH133900000  National Capital Region  PH130000000  Philippines (the)         PH  2016-06-30  2020-05-29    None  POLYGON ((13467140.279 1643403.808, 13467170.0...        2.330890e+06     15125.377199             0.0           97827     4141.081774     12152.916247             0.0           80923     5625.791089         1.228832             0.0               8        0.923381\n",
       "1343    0.053487    0.000078  San Nicolas  PH133904000     None       None       None  NCR, City of Manila, First District  PH133900000  National Capital Region  PH130000000  Philippines (the)         PH  2016-06-30  2020-05-29    None  POLYGON ((13466744.672 1642984.779, 13466729.4...        2.664462e+06     10897.783018             0.0          102244     7120.360056      9006.193022             0.0           86747     7700.042780         0.704346             0.0               8        1.506245\n",
       "1192    0.037150    0.000074       Quiapo  PH133903000     None       None       None  NCR, City of Manila, First District  PH133900000  National Capital Region  PH130000000  Philippines (the)         PH  2016-06-30  2020-05-29    None  POLYGON ((13468655.228 1642642.753, 13468654.8...        2.662329e+06      9799.121085             0.0           98873    10795.824603      8118.883151             0.0           80923     6614.199092         0.918342             0.0               9        0.907896\n",
       "1336    0.048487    0.000076   San Miguel  PH133907000     None       None       None  NCR, City of Manila, First District  PH133900000  National Capital Region  PH130000000  Philippines (the)         PH  2016-06-30  2020-05-29    None  POLYGON ((13468957.316 1643213.115, 13468945.4...        2.487809e+06      8708.791412             0.0           98873     9888.900686      6668.758487             0.0           80182     7787.458224         0.768447             0.0              11        1.742236\n",
       "1112    0.068193    0.000135      Pateros  PH137606000     None       None       None                 NCR, Fourth District  PH137600000  National Capital Region  PH130000000  Philippines (the)         PH  2016-06-30  2020-05-29    None  POLYGON ((13477449.820 1637654.605, 13477440.2...        3.712584e+06      7581.975774             0.0          111250    14222.228691      7589.466134             0.0          111699    16454.487517         0.653218             0.0              22        6.301402"
      ]
     },
     "execution_count": 164,
     "metadata": {},
     "output_type": "execute_result"
    }
   ],
   "source": [
    "fastest_mean_download.head()"
   ]
  },
  {
   "cell_type": "code",
   "execution_count": 165,
   "id": "b22a8c7a-fd59-40ab-ac20-7039601d4c10",
   "metadata": {},
   "outputs": [
    {
     "data": {
      "text/html": [
       "<div>\n",
       "<style scoped>\n",
       "    .dataframe tbody tr th:only-of-type {\n",
       "        vertical-align: middle;\n",
       "    }\n",
       "\n",
       "    .dataframe tbody tr th {\n",
       "        vertical-align: top;\n",
       "    }\n",
       "\n",
       "    .dataframe thead th {\n",
       "        text-align: right;\n",
       "    }\n",
       "</style>\n",
       "<table border=\"1\" class=\"dataframe\">\n",
       "  <thead>\n",
       "    <tr style=\"text-align: right;\">\n",
       "      <th></th>\n",
       "      <th>Shape_Leng</th>\n",
       "      <th>Shape_Area</th>\n",
       "      <th>ADM3_EN</th>\n",
       "      <th>ADM3_PCODE</th>\n",
       "      <th>ADM3_REF</th>\n",
       "      <th>ADM3ALT1EN</th>\n",
       "      <th>ADM3ALT2EN</th>\n",
       "      <th>ADM2_EN</th>\n",
       "      <th>ADM2_PCODE</th>\n",
       "      <th>ADM1_EN</th>\n",
       "      <th>ADM1_PCODE</th>\n",
       "      <th>ADM0_EN</th>\n",
       "      <th>ADM0_PCODE</th>\n",
       "      <th>date</th>\n",
       "      <th>validOn</th>\n",
       "      <th>validTo</th>\n",
       "      <th>geometry</th>\n",
       "      <th>intersect_area_sum</th>\n",
       "      <th>avg_d_kbps_mean</th>\n",
       "      <th>avg_d_kbps_min</th>\n",
       "      <th>avg_d_kbps_max</th>\n",
       "      <th>avg_d_kbps_std</th>\n",
       "      <th>avg_u_kbps_mean</th>\n",
       "      <th>avg_u_kbps_min</th>\n",
       "      <th>avg_u_kbps_max</th>\n",
       "      <th>avg_u_kbps_std</th>\n",
       "      <th>avg_lat_ms_mean</th>\n",
       "      <th>avg_lat_ms_min</th>\n",
       "      <th>avg_lat_ms_max</th>\n",
       "      <th>avg_lat_ms_std</th>\n",
       "    </tr>\n",
       "  </thead>\n",
       "  <tbody>\n",
       "    <tr>\n",
       "      <th>1521</th>\n",
       "      <td>0.358176</td>\n",
       "      <td>0.002988</td>\n",
       "      <td>Taguig City</td>\n",
       "      <td>PH137607000</td>\n",
       "      <td>None</td>\n",
       "      <td>None</td>\n",
       "      <td>None</td>\n",
       "      <td>NCR, Fourth District</td>\n",
       "      <td>PH137600000</td>\n",
       "      <td>National Capital Region</td>\n",
       "      <td>PH130000000</td>\n",
       "      <td>Philippines (the)</td>\n",
       "      <td>PH</td>\n",
       "      <td>2016-06-30</td>\n",
       "      <td>2020-05-29</td>\n",
       "      <td>None</td>\n",
       "      <td>POLYGON ((13478681.270 1637104.712, 13478678.4...</td>\n",
       "      <td>4.580863e+07</td>\n",
       "      <td>531.559943</td>\n",
       "      <td>0.0</td>\n",
       "      <td>269126</td>\n",
       "      <td>22554.675088</td>\n",
       "      <td>533.756924</td>\n",
       "      <td>0.0</td>\n",
       "      <td>338848</td>\n",
       "      <td>26592.431370</td>\n",
       "      <td>0.049094</td>\n",
       "      <td>0.0</td>\n",
       "      <td>52</td>\n",
       "      <td>4.886918</td>\n",
       "    </tr>\n",
       "    <tr>\n",
       "      <th>411</th>\n",
       "      <td>0.431594</td>\n",
       "      <td>0.003758</td>\n",
       "      <td>City of Parañaque</td>\n",
       "      <td>PH137604000</td>\n",
       "      <td>City of Paranaque</td>\n",
       "      <td>None</td>\n",
       "      <td>None</td>\n",
       "      <td>NCR, Fourth District</td>\n",
       "      <td>PH137600000</td>\n",
       "      <td>National Capital Region</td>\n",
       "      <td>PH130000000</td>\n",
       "      <td>Philippines (the)</td>\n",
       "      <td>PH</td>\n",
       "      <td>2016-06-30</td>\n",
       "      <td>2020-05-29</td>\n",
       "      <td>None</td>\n",
       "      <td>POLYGON ((13469451.308 1635447.373, 13469437.9...</td>\n",
       "      <td>6.008058e+07</td>\n",
       "      <td>470.491966</td>\n",
       "      <td>0.0</td>\n",
       "      <td>211977</td>\n",
       "      <td>26102.256841</td>\n",
       "      <td>410.888659</td>\n",
       "      <td>0.0</td>\n",
       "      <td>322898</td>\n",
       "      <td>27586.935324</td>\n",
       "      <td>0.043364</td>\n",
       "      <td>0.0</td>\n",
       "      <td>21</td>\n",
       "      <td>3.096822</td>\n",
       "    </tr>\n",
       "    <tr>\n",
       "      <th>436</th>\n",
       "      <td>0.413528</td>\n",
       "      <td>0.003907</td>\n",
       "      <td>City of Valenzuela</td>\n",
       "      <td>PH137504000</td>\n",
       "      <td>None</td>\n",
       "      <td>None</td>\n",
       "      <td>None</td>\n",
       "      <td>NCR, Third District</td>\n",
       "      <td>PH137500000</td>\n",
       "      <td>National Capital Region</td>\n",
       "      <td>PH130000000</td>\n",
       "      <td>Philippines (the)</td>\n",
       "      <td>PH</td>\n",
       "      <td>2016-06-30</td>\n",
       "      <td>2020-05-29</td>\n",
       "      <td>None</td>\n",
       "      <td>POLYGON ((13469429.055 1661215.289, 13469428.0...</td>\n",
       "      <td>5.944822e+07</td>\n",
       "      <td>420.083766</td>\n",
       "      <td>0.0</td>\n",
       "      <td>109511</td>\n",
       "      <td>14291.380211</td>\n",
       "      <td>413.566102</td>\n",
       "      <td>0.0</td>\n",
       "      <td>113195</td>\n",
       "      <td>14141.939429</td>\n",
       "      <td>0.054408</td>\n",
       "      <td>0.0</td>\n",
       "      <td>148</td>\n",
       "      <td>15.991979</td>\n",
       "    </tr>\n",
       "    <tr>\n",
       "      <th>308</th>\n",
       "      <td>0.692758</td>\n",
       "      <td>0.004468</td>\n",
       "      <td>Caloocan City</td>\n",
       "      <td>PH137501000</td>\n",
       "      <td>None</td>\n",
       "      <td>None</td>\n",
       "      <td>None</td>\n",
       "      <td>NCR, Third District</td>\n",
       "      <td>PH137500000</td>\n",
       "      <td>National Capital Region</td>\n",
       "      <td>PH130000000</td>\n",
       "      <td>Philippines (the)</td>\n",
       "      <td>PH</td>\n",
       "      <td>2016-06-30</td>\n",
       "      <td>2020-05-29</td>\n",
       "      <td>None</td>\n",
       "      <td>MULTIPOLYGON (((13471724.654 1653701.565, 1347...</td>\n",
       "      <td>7.425998e+07</td>\n",
       "      <td>309.956521</td>\n",
       "      <td>0.0</td>\n",
       "      <td>123236</td>\n",
       "      <td>15346.775252</td>\n",
       "      <td>307.716950</td>\n",
       "      <td>0.0</td>\n",
       "      <td>117885</td>\n",
       "      <td>15118.576034</td>\n",
       "      <td>0.035243</td>\n",
       "      <td>0.0</td>\n",
       "      <td>59</td>\n",
       "      <td>6.147227</td>\n",
       "    </tr>\n",
       "    <tr>\n",
       "      <th>1191</th>\n",
       "      <td>0.773902</td>\n",
       "      <td>0.013630</td>\n",
       "      <td>Quezon City</td>\n",
       "      <td>PH137404000</td>\n",
       "      <td>None</td>\n",
       "      <td>None</td>\n",
       "      <td>None</td>\n",
       "      <td>NCR, Second District</td>\n",
       "      <td>PH137400000</td>\n",
       "      <td>National Capital Region</td>\n",
       "      <td>PH130000000</td>\n",
       "      <td>Philippines (the)</td>\n",
       "      <td>PH</td>\n",
       "      <td>2016-06-30</td>\n",
       "      <td>2020-05-29</td>\n",
       "      <td>None</td>\n",
       "      <td>POLYGON ((13484683.377 1663482.482, 13484658.7...</td>\n",
       "      <td>1.745448e+08</td>\n",
       "      <td>145.111131</td>\n",
       "      <td>0.0</td>\n",
       "      <td>269544</td>\n",
       "      <td>20232.269854</td>\n",
       "      <td>133.033955</td>\n",
       "      <td>0.0</td>\n",
       "      <td>260425</td>\n",
       "      <td>20141.871761</td>\n",
       "      <td>0.011798</td>\n",
       "      <td>0.0</td>\n",
       "      <td>29</td>\n",
       "      <td>2.900160</td>\n",
       "    </tr>\n",
       "  </tbody>\n",
       "</table>\n",
       "</div>"
      ],
      "text/plain": [
       "      Shape_Leng  Shape_Area             ADM3_EN   ADM3_PCODE           ADM3_REF ADM3ALT1EN ADM3ALT2EN               ADM2_EN   ADM2_PCODE                  ADM1_EN   ADM1_PCODE            ADM0_EN ADM0_PCODE        date     validOn validTo                                           geometry  intersect_area_sum  avg_d_kbps_mean  avg_d_kbps_min  avg_d_kbps_max  avg_d_kbps_std  avg_u_kbps_mean  avg_u_kbps_min  avg_u_kbps_max  avg_u_kbps_std  avg_lat_ms_mean  avg_lat_ms_min  avg_lat_ms_max  avg_lat_ms_std\n",
       "1521    0.358176    0.002988         Taguig City  PH137607000               None       None       None  NCR, Fourth District  PH137600000  National Capital Region  PH130000000  Philippines (the)         PH  2016-06-30  2020-05-29    None  POLYGON ((13478681.270 1637104.712, 13478678.4...        4.580863e+07       531.559943             0.0          269126    22554.675088       533.756924             0.0          338848    26592.431370         0.049094             0.0              52        4.886918\n",
       "411     0.431594    0.003758   City of Parañaque  PH137604000  City of Paranaque       None       None  NCR, Fourth District  PH137600000  National Capital Region  PH130000000  Philippines (the)         PH  2016-06-30  2020-05-29    None  POLYGON ((13469451.308 1635447.373, 13469437.9...        6.008058e+07       470.491966             0.0          211977    26102.256841       410.888659             0.0          322898    27586.935324         0.043364             0.0              21        3.096822\n",
       "436     0.413528    0.003907  City of Valenzuela  PH137504000               None       None       None   NCR, Third District  PH137500000  National Capital Region  PH130000000  Philippines (the)         PH  2016-06-30  2020-05-29    None  POLYGON ((13469429.055 1661215.289, 13469428.0...        5.944822e+07       420.083766             0.0          109511    14291.380211       413.566102             0.0          113195    14141.939429         0.054408             0.0             148       15.991979\n",
       "308     0.692758    0.004468       Caloocan City  PH137501000               None       None       None   NCR, Third District  PH137500000  National Capital Region  PH130000000  Philippines (the)         PH  2016-06-30  2020-05-29    None  MULTIPOLYGON (((13471724.654 1653701.565, 1347...        7.425998e+07       309.956521             0.0          123236    15346.775252       307.716950             0.0          117885    15118.576034         0.035243             0.0              59        6.147227\n",
       "1191    0.773902    0.013630         Quezon City  PH137404000               None       None       None  NCR, Second District  PH137400000  National Capital Region  PH130000000  Philippines (the)         PH  2016-06-30  2020-05-29    None  POLYGON ((13484683.377 1663482.482, 13484658.7...        1.745448e+08       145.111131             0.0          269544    20232.269854       133.033955             0.0          260425    20141.871761         0.011798             0.0              29        2.900160"
      ]
     },
     "execution_count": 165,
     "metadata": {},
     "output_type": "execute_result"
    }
   ],
   "source": [
    "fastest_mean_download.tail()"
   ]
  },
  {
   "cell_type": "code",
   "execution_count": 166,
   "id": "4ff1350b-b827-4b8f-8729-0ce9c0931b87",
   "metadata": {},
   "outputs": [
    {
     "data": {
      "text/html": [
       "<div>\n",
       "<style scoped>\n",
       "    .dataframe tbody tr th:only-of-type {\n",
       "        vertical-align: middle;\n",
       "    }\n",
       "\n",
       "    .dataframe tbody tr th {\n",
       "        vertical-align: top;\n",
       "    }\n",
       "\n",
       "    .dataframe thead th {\n",
       "        text-align: right;\n",
       "    }\n",
       "</style>\n",
       "<table border=\"1\" class=\"dataframe\">\n",
       "  <thead>\n",
       "    <tr style=\"text-align: right;\">\n",
       "      <th></th>\n",
       "      <th>Shape_Leng</th>\n",
       "      <th>Shape_Area</th>\n",
       "      <th>ADM3_EN</th>\n",
       "      <th>ADM3_PCODE</th>\n",
       "      <th>ADM3_REF</th>\n",
       "      <th>ADM3ALT1EN</th>\n",
       "      <th>ADM3ALT2EN</th>\n",
       "      <th>ADM2_EN</th>\n",
       "      <th>ADM2_PCODE</th>\n",
       "      <th>ADM1_EN</th>\n",
       "      <th>ADM1_PCODE</th>\n",
       "      <th>ADM0_EN</th>\n",
       "      <th>ADM0_PCODE</th>\n",
       "      <th>date</th>\n",
       "      <th>validOn</th>\n",
       "      <th>validTo</th>\n",
       "      <th>geometry</th>\n",
       "      <th>intersect_area_sum</th>\n",
       "      <th>avg_d_kbps_mean</th>\n",
       "      <th>avg_d_kbps_min</th>\n",
       "      <th>avg_d_kbps_max</th>\n",
       "      <th>avg_d_kbps_std</th>\n",
       "      <th>avg_u_kbps_mean</th>\n",
       "      <th>avg_u_kbps_min</th>\n",
       "      <th>avg_u_kbps_max</th>\n",
       "      <th>avg_u_kbps_std</th>\n",
       "      <th>avg_lat_ms_mean</th>\n",
       "      <th>avg_lat_ms_min</th>\n",
       "      <th>avg_lat_ms_max</th>\n",
       "      <th>avg_lat_ms_std</th>\n",
       "    </tr>\n",
       "  </thead>\n",
       "  <tbody>\n",
       "    <tr>\n",
       "      <th>1521</th>\n",
       "      <td>0.358176</td>\n",
       "      <td>0.002988</td>\n",
       "      <td>Taguig City</td>\n",
       "      <td>PH137607000</td>\n",
       "      <td>None</td>\n",
       "      <td>None</td>\n",
       "      <td>None</td>\n",
       "      <td>NCR, Fourth District</td>\n",
       "      <td>PH137600000</td>\n",
       "      <td>National Capital Region</td>\n",
       "      <td>PH130000000</td>\n",
       "      <td>Philippines (the)</td>\n",
       "      <td>PH</td>\n",
       "      <td>2016-06-30</td>\n",
       "      <td>2020-05-29</td>\n",
       "      <td>None</td>\n",
       "      <td>POLYGON ((13478681.270 1637104.712, 13478678.4...</td>\n",
       "      <td>4.580863e+07</td>\n",
       "      <td>531.559943</td>\n",
       "      <td>0.0</td>\n",
       "      <td>269126</td>\n",
       "      <td>22554.675088</td>\n",
       "      <td>533.756924</td>\n",
       "      <td>0.0</td>\n",
       "      <td>338848</td>\n",
       "      <td>26592.431370</td>\n",
       "      <td>0.049094</td>\n",
       "      <td>0.0</td>\n",
       "      <td>52</td>\n",
       "      <td>4.886918</td>\n",
       "    </tr>\n",
       "    <tr>\n",
       "      <th>411</th>\n",
       "      <td>0.431594</td>\n",
       "      <td>0.003758</td>\n",
       "      <td>City of Parañaque</td>\n",
       "      <td>PH137604000</td>\n",
       "      <td>City of Paranaque</td>\n",
       "      <td>None</td>\n",
       "      <td>None</td>\n",
       "      <td>NCR, Fourth District</td>\n",
       "      <td>PH137600000</td>\n",
       "      <td>National Capital Region</td>\n",
       "      <td>PH130000000</td>\n",
       "      <td>Philippines (the)</td>\n",
       "      <td>PH</td>\n",
       "      <td>2016-06-30</td>\n",
       "      <td>2020-05-29</td>\n",
       "      <td>None</td>\n",
       "      <td>POLYGON ((13469451.308 1635447.373, 13469437.9...</td>\n",
       "      <td>6.008058e+07</td>\n",
       "      <td>470.491966</td>\n",
       "      <td>0.0</td>\n",
       "      <td>211977</td>\n",
       "      <td>26102.256841</td>\n",
       "      <td>410.888659</td>\n",
       "      <td>0.0</td>\n",
       "      <td>322898</td>\n",
       "      <td>27586.935324</td>\n",
       "      <td>0.043364</td>\n",
       "      <td>0.0</td>\n",
       "      <td>21</td>\n",
       "      <td>3.096822</td>\n",
       "    </tr>\n",
       "    <tr>\n",
       "      <th>436</th>\n",
       "      <td>0.413528</td>\n",
       "      <td>0.003907</td>\n",
       "      <td>City of Valenzuela</td>\n",
       "      <td>PH137504000</td>\n",
       "      <td>None</td>\n",
       "      <td>None</td>\n",
       "      <td>None</td>\n",
       "      <td>NCR, Third District</td>\n",
       "      <td>PH137500000</td>\n",
       "      <td>National Capital Region</td>\n",
       "      <td>PH130000000</td>\n",
       "      <td>Philippines (the)</td>\n",
       "      <td>PH</td>\n",
       "      <td>2016-06-30</td>\n",
       "      <td>2020-05-29</td>\n",
       "      <td>None</td>\n",
       "      <td>POLYGON ((13469429.055 1661215.289, 13469428.0...</td>\n",
       "      <td>5.944822e+07</td>\n",
       "      <td>420.083766</td>\n",
       "      <td>0.0</td>\n",
       "      <td>109511</td>\n",
       "      <td>14291.380211</td>\n",
       "      <td>413.566102</td>\n",
       "      <td>0.0</td>\n",
       "      <td>113195</td>\n",
       "      <td>14141.939429</td>\n",
       "      <td>0.054408</td>\n",
       "      <td>0.0</td>\n",
       "      <td>148</td>\n",
       "      <td>15.991979</td>\n",
       "    </tr>\n",
       "    <tr>\n",
       "      <th>308</th>\n",
       "      <td>0.692758</td>\n",
       "      <td>0.004468</td>\n",
       "      <td>Caloocan City</td>\n",
       "      <td>PH137501000</td>\n",
       "      <td>None</td>\n",
       "      <td>None</td>\n",
       "      <td>None</td>\n",
       "      <td>NCR, Third District</td>\n",
       "      <td>PH137500000</td>\n",
       "      <td>National Capital Region</td>\n",
       "      <td>PH130000000</td>\n",
       "      <td>Philippines (the)</td>\n",
       "      <td>PH</td>\n",
       "      <td>2016-06-30</td>\n",
       "      <td>2020-05-29</td>\n",
       "      <td>None</td>\n",
       "      <td>MULTIPOLYGON (((13471724.654 1653701.565, 1347...</td>\n",
       "      <td>7.425998e+07</td>\n",
       "      <td>309.956521</td>\n",
       "      <td>0.0</td>\n",
       "      <td>123236</td>\n",
       "      <td>15346.775252</td>\n",
       "      <td>307.716950</td>\n",
       "      <td>0.0</td>\n",
       "      <td>117885</td>\n",
       "      <td>15118.576034</td>\n",
       "      <td>0.035243</td>\n",
       "      <td>0.0</td>\n",
       "      <td>59</td>\n",
       "      <td>6.147227</td>\n",
       "    </tr>\n",
       "    <tr>\n",
       "      <th>1191</th>\n",
       "      <td>0.773902</td>\n",
       "      <td>0.013630</td>\n",
       "      <td>Quezon City</td>\n",
       "      <td>PH137404000</td>\n",
       "      <td>None</td>\n",
       "      <td>None</td>\n",
       "      <td>None</td>\n",
       "      <td>NCR, Second District</td>\n",
       "      <td>PH137400000</td>\n",
       "      <td>National Capital Region</td>\n",
       "      <td>PH130000000</td>\n",
       "      <td>Philippines (the)</td>\n",
       "      <td>PH</td>\n",
       "      <td>2016-06-30</td>\n",
       "      <td>2020-05-29</td>\n",
       "      <td>None</td>\n",
       "      <td>POLYGON ((13484683.377 1663482.482, 13484658.7...</td>\n",
       "      <td>1.745448e+08</td>\n",
       "      <td>145.111131</td>\n",
       "      <td>0.0</td>\n",
       "      <td>269544</td>\n",
       "      <td>20232.269854</td>\n",
       "      <td>133.033955</td>\n",
       "      <td>0.0</td>\n",
       "      <td>260425</td>\n",
       "      <td>20141.871761</td>\n",
       "      <td>0.011798</td>\n",
       "      <td>0.0</td>\n",
       "      <td>29</td>\n",
       "      <td>2.900160</td>\n",
       "    </tr>\n",
       "  </tbody>\n",
       "</table>\n",
       "</div>"
      ],
      "text/plain": [
       "      Shape_Leng  Shape_Area             ADM3_EN   ADM3_PCODE           ADM3_REF ADM3ALT1EN ADM3ALT2EN               ADM2_EN   ADM2_PCODE                  ADM1_EN   ADM1_PCODE            ADM0_EN ADM0_PCODE        date     validOn validTo                                           geometry  intersect_area_sum  avg_d_kbps_mean  avg_d_kbps_min  avg_d_kbps_max  avg_d_kbps_std  avg_u_kbps_mean  avg_u_kbps_min  avg_u_kbps_max  avg_u_kbps_std  avg_lat_ms_mean  avg_lat_ms_min  avg_lat_ms_max  avg_lat_ms_std\n",
       "1521    0.358176    0.002988         Taguig City  PH137607000               None       None       None  NCR, Fourth District  PH137600000  National Capital Region  PH130000000  Philippines (the)         PH  2016-06-30  2020-05-29    None  POLYGON ((13478681.270 1637104.712, 13478678.4...        4.580863e+07       531.559943             0.0          269126    22554.675088       533.756924             0.0          338848    26592.431370         0.049094             0.0              52        4.886918\n",
       "411     0.431594    0.003758   City of Parañaque  PH137604000  City of Paranaque       None       None  NCR, Fourth District  PH137600000  National Capital Region  PH130000000  Philippines (the)         PH  2016-06-30  2020-05-29    None  POLYGON ((13469451.308 1635447.373, 13469437.9...        6.008058e+07       470.491966             0.0          211977    26102.256841       410.888659             0.0          322898    27586.935324         0.043364             0.0              21        3.096822\n",
       "436     0.413528    0.003907  City of Valenzuela  PH137504000               None       None       None   NCR, Third District  PH137500000  National Capital Region  PH130000000  Philippines (the)         PH  2016-06-30  2020-05-29    None  POLYGON ((13469429.055 1661215.289, 13469428.0...        5.944822e+07       420.083766             0.0          109511    14291.380211       413.566102             0.0          113195    14141.939429         0.054408             0.0             148       15.991979\n",
       "308     0.692758    0.004468       Caloocan City  PH137501000               None       None       None   NCR, Third District  PH137500000  National Capital Region  PH130000000  Philippines (the)         PH  2016-06-30  2020-05-29    None  MULTIPOLYGON (((13471724.654 1653701.565, 1347...        7.425998e+07       309.956521             0.0          123236    15346.775252       307.716950             0.0          117885    15118.576034         0.035243             0.0              59        6.147227\n",
       "1191    0.773902    0.013630         Quezon City  PH137404000               None       None       None  NCR, Second District  PH137400000  National Capital Region  PH130000000  Philippines (the)         PH  2016-06-30  2020-05-29    None  POLYGON ((13484683.377 1663482.482, 13484658.7...        1.745448e+08       145.111131             0.0          269544    20232.269854       133.033955             0.0          260425    20141.871761         0.011798             0.0              29        2.900160"
      ]
     },
     "execution_count": 166,
     "metadata": {},
     "output_type": "execute_result"
    }
   ],
   "source": [
    "fastest_mean_download[fastest_mean_download.avg_d_kbps_mean.notna()].tail()"
   ]
  },
  {
   "cell_type": "markdown",
   "id": "88f66142-537f-40cb-a928-47d0e5c9e40d",
   "metadata": {
    "id": "88f66142-537f-40cb-a928-47d0e5c9e40d"
   },
   "source": [
    "### Additional Exercises\n",
    "\n",
    "* Repeat the same process to find the fastest and slowest **mobile** internet speeds\n",
    "* Repeat the same process for a different REGION_FILTER\n",
    "* Aggregate by adm2 level instead of adm3\n"
   ]
  },
  {
   "cell_type": "code",
   "execution_count": null,
   "id": "064d7b99-b594-44ec-9c5b-9983362a33e0",
   "metadata": {},
   "outputs": [],
   "source": []
  }
 ],
 "metadata": {
  "colab": {
   "name": "geowrangler-quick-overview.ipynb",
   "provenance": [
    {
     "file_id": "https://github.com/thinkingmachines/geowrangler/blob/master/notebooks/tutorial.area_zonal_stats.ipynb",
     "timestamp": 1661157253550
    }
   ]
  },
  "kernelspec": {
   "display_name": "Python 3",
   "language": "python",
   "name": "python3"
  },
  "language_info": {
   "codemirror_mode": {
    "name": "ipython",
    "version": 3
   },
   "file_extension": ".py",
   "mimetype": "text/x-python",
   "name": "python",
   "nbconvert_exporter": "python",
   "pygments_lexer": "ipython3",
   "version": "3.7.12"
  }
 },
 "nbformat": 4,
 "nbformat_minor": 5
}
