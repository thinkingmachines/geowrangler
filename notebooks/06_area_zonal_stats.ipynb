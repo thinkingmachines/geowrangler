{
 "cells": [
  {
   "cell_type": "code",
   "execution_count": 1,
   "id": "5a2921e4-4985-4fb3-aa08-c80cb0663a4a",
   "metadata": {
    "tags": []
   },
   "outputs": [],
   "source": [
    "# default_exp area_zonal_stats"
   ]
  },
  {
   "cell_type": "code",
   "execution_count": 2,
   "id": "0bd903f7-54e4-44be-af97-ded1447563a6",
   "metadata": {},
   "outputs": [],
   "source": [
    "# hide\n",
    "# no_test\n",
    "! [ -e /content ] && pip install -Uqq geowrangler"
   ]
  },
  {
   "cell_type": "code",
   "execution_count": 3,
   "id": "4193ede1-b155-40b0-b90a-1e619fa91fef",
   "metadata": {},
   "outputs": [],
   "source": [
    "# hide\n",
    "# no_test\n",
    "!mkdir -p ../data\n",
    "![ -e /content ] && ln -s ../data ."
   ]
  },
  {
   "cell_type": "code",
   "execution_count": 4,
   "id": "83e17627-2953-424b-add4-1070099a3c64",
   "metadata": {},
   "outputs": [],
   "source": [
    "# hide\n",
    "# no_test\n",
    "!mkdir -p ../data\n",
    "# download sample geojson files from repo"
   ]
  },
  {
   "cell_type": "code",
   "execution_count": 5,
   "id": "8daa0f3a-d80c-4030-bce8-d437cdb313ea",
   "metadata": {},
   "outputs": [],
   "source": [
    "# hide\n",
    "# no_test\n",
    "%reload_ext autoreload\n",
    "%autoreload 2\n",
    "%matplotlib inline"
   ]
  },
  {
   "cell_type": "code",
   "execution_count": 6,
   "id": "aaa54b7c-4f2a-4a1b-b46c-3f0e20cd1676",
   "metadata": {},
   "outputs": [],
   "source": [
    "# hide\n",
    "import warnings\n",
    "\n",
    "from shapely.errors import ShapelyDeprecationWarning\n",
    "\n",
    "warnings.filterwarnings(action=\"ignore\", category=UserWarning, module=\"geopandas\")\n",
    "warnings.filterwarnings(\n",
    "    action=\"ignore\", category=ShapelyDeprecationWarning, module=\"pandas\"\n",
    ")"
   ]
  },
  {
   "cell_type": "markdown",
   "id": "1a9b26a4-d7a7-4c1e-ac32-436a5708553a",
   "metadata": {},
   "source": [
    "# Area Zonal Stats\n",
    "\n",
    "> generate vector zonal stat features for area data"
   ]
  },
  {
   "cell_type": "code",
   "execution_count": 7,
   "id": "f438213c-41dc-432f-a54a-48dda949f2ca",
   "metadata": {},
   "outputs": [],
   "source": [
    "# export\n",
    "from typing import Any, Dict, List\n",
    "\n",
    "import geopandas as gpd\n",
    "import numpy as np\n",
    "import geowrangler.vector_zonal_stats as vzs\n",
    "from geowrangler.vector_zonal_stats import GEO_INDEX_NAME"
   ]
  },
  {
   "cell_type": "code",
   "execution_count": 8,
   "id": "aabdc447-d2ef-45f0-bd1b-a7a0fbd90a14",
   "metadata": {},
   "outputs": [],
   "source": [
    "# hide\n",
    "import matplotlib.pyplot as plt\n",
    "from shapely.geometry import Polygon"
   ]
  },
  {
   "cell_type": "code",
   "execution_count": 9,
   "id": "92393f48-ca70-47c2-8523-e0313cadcc21",
   "metadata": {},
   "outputs": [],
   "source": [
    "# exporti\n",
    "def extract_func(func):\n",
    "    # extra by default is none\n",
    "    extra = []\n",
    "    # extra can contain either raw, data or aoi\n",
    "    if func.__contains__(\"raw_\"):\n",
    "        extra += [\"raw\"]\n",
    "        func = func.replace(\"raw_\", \"\")\n",
    "    elif func.__contains__(\"data_\"):\n",
    "        extra += [\"data\"]\n",
    "        func = func.replace(\"data_\", \"\")\n",
    "    elif func.__contains__(\"aoi_\"):\n",
    "        extra += [\"aoi\"]\n",
    "        func = func.replace(\"aoi_\", \"\")\n",
    "    # extra can have imputed\n",
    "    if func.__contains__(\"imputed_\"):\n",
    "        extra += [\"imputed\"]\n",
    "        func = func.replace(\"imputed_\", \"\")\n",
    "\n",
    "    return func, extra"
   ]
  },
  {
   "cell_type": "code",
   "execution_count": 10,
   "id": "bd781f8d-cac1-4f54-9b8b-a0cdb5877868",
   "metadata": {},
   "outputs": [],
   "source": [
    "# hide\n",
    "assert extract_func(\"count\") == (\"count\", [])\n",
    "assert extract_func(\"raw_count\") == (\"count\", [\"raw\"])\n",
    "assert extract_func(\"imputed_count\") == (\"count\", [\"imputed\"])\n",
    "assert extract_func(\"raw_imputed_count\") == (\"count\", [\"raw\", \"imputed\"])\n",
    "assert extract_func(\"aoi_count\") == (\"count\", [\"aoi\"])\n",
    "assert extract_func(\"aoi_imputed_count\") == (\"count\", [\"aoi\", \"imputed\"])\n",
    "assert extract_func(\"data_count\") == (\"count\", [\"data\"])\n",
    "assert extract_func(\"data_imputed_count\") == (\"count\", [\"data\", \"imputed\"])"
   ]
  },
  {
   "cell_type": "code",
   "execution_count": 11,
   "id": "d9157709-2ad5-4848-8cab-05aef5f56e8c",
   "metadata": {},
   "outputs": [],
   "source": [
    "# exporti\n",
    "\n",
    "\n",
    "def fix_area_agg(agg):\n",
    "    if \"func\" not in agg:\n",
    "        return agg  # skip fix as agg spec is invalid\n",
    "\n",
    "    if type(agg[\"func\"]) == str:\n",
    "        agg[\"func\"] = [agg[\"func\"]]\n",
    "\n",
    "    real_funcs = []\n",
    "    func_extras = []\n",
    "    for func in agg[\"func\"]:\n",
    "        real_func, extra = extract_func(func)\n",
    "        real_funcs += [real_func]\n",
    "        func_extras += [extra]\n",
    "    agg[\"func\"] = real_funcs\n",
    "    agg[\"extras\"] = func_extras\n",
    "\n",
    "    agg = vzs._fix_agg(agg)\n",
    "\n",
    "    return agg"
   ]
  },
  {
   "cell_type": "code",
   "execution_count": 12,
   "id": "dcb73c31-627a-47e4-b034-65a5dfc4c9de",
   "metadata": {
    "tags": []
   },
   "outputs": [],
   "source": [
    "# hide\n",
    "assert fix_area_agg(dict(func=\"count\")) == dict(\n",
    "    func=[\"count\"],\n",
    "    column=GEO_INDEX_NAME,\n",
    "    output=[\"index_count\"],\n",
    "    fillna=[False],\n",
    "    extras=[[]],\n",
    ")"
   ]
  },
  {
   "cell_type": "code",
   "execution_count": 13,
   "id": "3f17dc1b-2f50-455f-bebd-7fc4d2728b32",
   "metadata": {
    "tags": []
   },
   "outputs": [],
   "source": [
    "# hide\n",
    "assert fix_area_agg(\n",
    "    dict(\n",
    "        func=[\"count\", \"sum\"],\n",
    "        column=\"population\",\n",
    "        output=[\"samples\", \"population\"],\n",
    "        fillna=[True, True],\n",
    "    )\n",
    ") == dict(\n",
    "    func=[\"count\", \"sum\"],\n",
    "    column=\"population\",\n",
    "    output=[\"samples\", \"population\"],\n",
    "    fillna=[True, True],\n",
    "    extras=[[], []],\n",
    ")"
   ]
  },
  {
   "cell_type": "code",
   "execution_count": 14,
   "id": "8d922a97-28d3-4531-8e29-47a19317eafb",
   "metadata": {},
   "outputs": [],
   "source": [
    "# exporti\n",
    "\n",
    "\n",
    "def get_source_column(agg):\n",
    "\n",
    "    if \"raw\" in agg[\"extras\"]:\n",
    "        return agg[\"column\"]  # dont use intersect column\n",
    "\n",
    "    intersect_data_column = f\"intersect_data_{agg['column']}\"\n",
    "    intersect_aoi_column = f\"intersect_aoi_{agg['column']}\"\n",
    "\n",
    "    if \"data\" in agg[\"extras\"]:\n",
    "        return intersect_data_column\n",
    "\n",
    "    if \"aoi\" in agg[\"extras\"]:\n",
    "        return intersect_aoi_column\n",
    "    # defaults if not overridden by extra modifier\n",
    "    if agg[\"func\"] == \"sum\":  # sum apportions data area\n",
    "        return intersect_data_column\n",
    "    if agg[\"func\"] == \"mean\":  # mean apportions on aoi area\n",
    "        return intersect_aoi_column\n",
    "    return agg[\"column\"]  # everything else based on raw column"
   ]
  },
  {
   "cell_type": "code",
   "execution_count": 15,
   "id": "e3794179-b501-4b22-97d0-9712c0ddd65f",
   "metadata": {},
   "outputs": [],
   "source": [
    "# hide\n",
    "assert (\n",
    "    get_source_column(dict(func=\"count\", column=\"population\", extras=[]))\n",
    "    == \"population\"\n",
    ")\n",
    "assert (\n",
    "    get_source_column(dict(func=\"count\", column=\"population\", extras=[\"raw\"]))\n",
    "    == \"population\"\n",
    ")\n",
    "assert (\n",
    "    get_source_column(dict(func=\"sum\", column=\"population\", extras=[]))\n",
    "    == \"intersect_data_population\"\n",
    ")\n",
    "assert (\n",
    "    get_source_column(dict(func=\"mean\", column=\"internet_speed\", extras=[]))\n",
    "    == \"intersect_aoi_internet_speed\"\n",
    ")\n",
    "assert (\n",
    "    get_source_column(dict(func=\"mean\", column=\"population\", extras=[\"raw\"]))\n",
    "    == \"population\"\n",
    ")"
   ]
  },
  {
   "cell_type": "code",
   "execution_count": 16,
   "id": "be1a5cc1-5dc8-493a-8565-14e12d86c15f",
   "metadata": {},
   "outputs": [],
   "source": [
    "# exporti\n",
    "INTERSECT_AREA_AGG = {\n",
    "    \"column\": \"intersect_area\",\n",
    "    \"func\": \"sum\",\n",
    "    \"output\": \"intersect_area_sum\",\n",
    "    \"extras\": \"raw\",\n",
    "}"
   ]
  },
  {
   "cell_type": "code",
   "execution_count": 17,
   "id": "90563600-4892-4741-9039-c4e894f97387",
   "metadata": {},
   "outputs": [],
   "source": [
    "# exporti\n",
    "def build_agg_area_dicts(aggs):\n",
    "    aggs = [INTERSECT_AREA_AGG, *aggs]\n",
    "    agg_dicts = {agg[\"output\"]: (get_source_column(agg), agg[\"func\"]) for agg in aggs}\n",
    "    return agg_dicts"
   ]
  },
  {
   "cell_type": "code",
   "execution_count": 18,
   "id": "84b59f42-55c2-4089-9b63-36f8a638da85",
   "metadata": {},
   "outputs": [],
   "source": [
    "# hide\n",
    "input_aggs = [\n",
    "    {\n",
    "        \"column\": GEO_INDEX_NAME,\n",
    "        \"func\": \"count\",\n",
    "        \"output\": f\"{GEO_INDEX_NAME}_count\",\n",
    "        \"extras\": [\"raw\"],\n",
    "    },\n",
    "    {\"column\": \"population\", \"func\": \"sum\", \"output\": \"population_sum\", \"extras\": []},\n",
    "    {\n",
    "        \"column\": \"internet_speed\",\n",
    "        \"func\": \"mean\",\n",
    "        \"output\": \"internet_speed_mean\",\n",
    "        \"extras\": [],\n",
    "    },\n",
    "    {\n",
    "        \"column\": \"internet_speed\",\n",
    "        \"func\": \"mean\",\n",
    "        \"output\": \"internet_speed_imputed_mean\",\n",
    "        \"extras\": [\n",
    "            \"imputed\",\n",
    "        ],\n",
    "    },\n",
    "]"
   ]
  },
  {
   "cell_type": "code",
   "execution_count": 19,
   "id": "87ce2b7e-6ff3-4300-b049-ae765575cb2b",
   "metadata": {},
   "outputs": [],
   "source": [
    "# hide\n",
    "assert build_agg_area_dicts(input_aggs) == {\n",
    "    f\"{GEO_INDEX_NAME}_count\": (f\"{GEO_INDEX_NAME}\", \"count\"),\n",
    "    \"intersect_area_sum\": (\"intersect_area\", \"sum\"),\n",
    "    \"population_sum\": (\"intersect_data_population\", \"sum\"),\n",
    "    \"internet_speed_mean\": (\"intersect_aoi_internet_speed\", \"mean\"),\n",
    "    \"internet_speed_imputed_mean\": (\"intersect_aoi_internet_speed\", \"mean\"),\n",
    "}"
   ]
  },
  {
   "cell_type": "code",
   "execution_count": 20,
   "id": "4abbdefc-babb-4636-a940-58369f2af16b",
   "metadata": {},
   "outputs": [],
   "source": [
    "# exporti\n",
    "\n",
    "\n",
    "def validate_area_aoi(aoi):\n",
    "    if aoi.crs.is_geographic:\n",
    "        raise ValueError(\n",
    "            f\"aoi has geographic crs: {aoi.crs}, areas maybe incorrectly computed\"\n",
    "        )"
   ]
  },
  {
   "cell_type": "code",
   "execution_count": 21,
   "id": "c02967d1-bc9c-40d0-bac7-7d23c300a0be",
   "metadata": {},
   "outputs": [],
   "source": [
    "# exporti\n",
    "\n",
    "\n",
    "def validate_area_data(data):\n",
    "    if data.crs.is_geographic:\n",
    "        raise ValueError(\n",
    "            f\"data has geographic crs: {data.crs}, areas maybe incorrectly computed\"\n",
    "        )"
   ]
  },
  {
   "cell_type": "code",
   "execution_count": 22,
   "id": "8f16849a-d829-4f95-99dc-7acd08a8f525",
   "metadata": {},
   "outputs": [],
   "source": [
    "# exporti\n",
    "\n",
    "\n",
    "def expand_area_aggs(aggs):\n",
    "    expanded_aggs = []\n",
    "    for agg in aggs:\n",
    "        for i, func in enumerate(agg[\"func\"]):\n",
    "            expanded_agg = {\n",
    "                \"func\": func,\n",
    "                \"column\": agg[\"column\"],\n",
    "                \"output\": agg[\"output\"][i],\n",
    "                \"fillna\": agg[\"fillna\"][i],\n",
    "                \"extras\": agg[\"extras\"][i],\n",
    "            }\n",
    "            expanded_aggs += [expanded_agg]\n",
    "    return expanded_aggs"
   ]
  },
  {
   "cell_type": "code",
   "execution_count": 23,
   "id": "aa4121ff-1043-41ed-b7f7-733158ab2e31",
   "metadata": {},
   "outputs": [],
   "source": [
    "# exporti\n",
    "def compute_intersect_stats(intersect, expanded_aggs):\n",
    "    # optimization - use df.apply to create all new columns simultaneously\n",
    "    for agg in expanded_aggs:\n",
    "        if \"raw\" in agg[\"extras\"]:\n",
    "            continue  # skip intersect stat\n",
    "        intersect_data_column = f\"intersect_data_{agg['column']}\"\n",
    "        intersect_aoi_column = f\"intersect_aoi_{agg['column']}\"\n",
    "        if intersect_data_column not in intersect.columns.values:\n",
    "            intersect[intersect_data_column] = (\n",
    "                intersect[\"pct_data\"] * intersect[agg[\"column\"]]\n",
    "            )\n",
    "        if intersect_aoi_column not in intersect.columns.values:\n",
    "            intersect[intersect_aoi_column] = (\n",
    "                intersect[\"pct_aoi\"] * intersect[agg[\"column\"]]\n",
    "            )\n",
    "    return intersect"
   ]
  },
  {
   "cell_type": "code",
   "execution_count": 24,
   "id": "c07e694c-f3d6-4678-936e-e41017bad2f2",
   "metadata": {},
   "outputs": [],
   "source": [
    "# exporti\n",
    "def compute_imputed_stats(results, expanded_aggs):\n",
    "    # optimize with df.apply\n",
    "    # handle when intersect_area_sum is np.nan\n",
    "    for agg in expanded_aggs:\n",
    "        if \"imputed\" in agg[\"extras\"]:\n",
    "            results[agg[\"output\"]] = (\n",
    "                results[agg[\"output\"]] * results[\"aoi_area\"]\n",
    "            ) / results[INTERSECT_AREA_AGG[\"output\"]]\n",
    "\n",
    "    return results"
   ]
  },
  {
   "cell_type": "code",
   "execution_count": 25,
   "id": "d228a69b-05fb-4dda-a27c-2bd09742414a",
   "metadata": {},
   "outputs": [],
   "source": [
    "# export\n",
    "def create_area_zonal_stats(\n",
    "    aoi: gpd.GeoDataFrame,  # Area of interest for which zonal stats are to be computed for\n",
    "    data: gpd.GeoDataFrame,  # Source gdf of region/areas containing data to compute zonal stats from\n",
    "    aggregations: List[  # List of agg specs, with each agg spec applied to a data column\n",
    "        Dict[str, Any]\n",
    "    ] = [],\n",
    "    include_intersect=True,  # Add column 'intersect_area_sum' w/ch computes total area of data areas intersecting aoi\n",
    "    fix_min=True,  # Set min to zero if there are areas in aoi w/ch do not containing any intersecting area from the data.\n",
    "):\n",
    "\n",
    "    validate_area_aoi(aoi)\n",
    "    validate_area_data(data)\n",
    "\n",
    "    fixed_aggs = [fix_area_agg(agg) for agg in aggregations]\n",
    "\n",
    "    # validate_area_aggs(fixed_aggs,data)\n",
    "    vzs._validate_aggs(fixed_aggs, data)\n",
    "\n",
    "    # reindex aoi\n",
    "    aoi_index_name = aoi.index.name\n",
    "    aoi = vzs._prep_aoi(aoi)\n",
    "    data = data.copy()\n",
    "\n",
    "    if not data.crs.equals(aoi.crs):\n",
    "        data = data.to_crs(aoi.crs)\n",
    "\n",
    "    # compute aoi and data areas\n",
    "    aoi[\"aoi_area\"] = aoi.geometry.area\n",
    "    data[\"data_area\"] = data.geometry.area\n",
    "\n",
    "    # add spatial indexes\n",
    "    aoi.geometry.sindex\n",
    "    data.geometry.sindex\n",
    "\n",
    "    intersect = aoi.overlay(data, keep_geom_type=True)\n",
    "\n",
    "    # compute intersect area and percentages\n",
    "    intersect[\"intersect_area\"] = intersect.geometry.area\n",
    "    intersect[\"pct_data\"] = intersect[\"intersect_area\"] / intersect[\"data_area\"]\n",
    "    intersect[\"pct_aoi\"] = intersect[\"intersect_area\"] / intersect[\"aoi_area\"]\n",
    "\n",
    "    expanded_aggs = expand_area_aggs(fixed_aggs)\n",
    "    intersect = compute_intersect_stats(intersect, expanded_aggs)\n",
    "\n",
    "    groups = intersect.groupby(GEO_INDEX_NAME)\n",
    "\n",
    "    agg_area_dicts = build_agg_area_dicts(expanded_aggs)\n",
    "\n",
    "    aggregates = groups.agg(**agg_area_dicts)\n",
    "    results = aoi.merge(\n",
    "        aggregates, how=\"left\", on=GEO_INDEX_NAME, suffixes=(None, \"_y\")\n",
    "    )\n",
    "\n",
    "    results[INTERSECT_AREA_AGG[\"output\"]].fillna(value=0.0, inplace=True)\n",
    "    # set min to zero if intersect area is not filled.\n",
    "    if fix_min:\n",
    "        for col, val in agg_area_dicts.items():\n",
    "            if val[1] == \"min\":\n",
    "                results[col] = results.apply(\n",
    "                    lambda x, c: x[c]\n",
    "                    if np.isclose(x[\"aoi_area\"], x[INTERSECT_AREA_AGG[\"output\"]])\n",
    "                    else 0.0,\n",
    "                    axis=1,\n",
    "                    c=col,  # kwarg to pass to lambda\n",
    "                )\n",
    "    results = compute_imputed_stats(results, expanded_aggs)\n",
    "    vzs._fillnas(expanded_aggs, results, aoi)\n",
    "    drop_labels = [\"aoi_area\"]\n",
    "    if not include_intersect:\n",
    "        drop_labels += [INTERSECT_AREA_AGG[\"output\"]]\n",
    "    results.drop(labels=drop_labels, inplace=True, axis=1)\n",
    "\n",
    "    results.set_index(GEO_INDEX_NAME, inplace=True)\n",
    "    results.index.name = aoi_index_name\n",
    "    return results"
   ]
  },
  {
   "cell_type": "markdown",
   "id": "fc7eb32f-136b-44a1-810e-e52eef535852",
   "metadata": {},
   "source": [
    "## Test data"
   ]
  },
  {
   "cell_type": "markdown",
   "id": "190370e2-f39f-4f9f-b945-cad745c3df1e",
   "metadata": {},
   "source": [
    "### Simple squares"
   ]
  },
  {
   "cell_type": "code",
   "execution_count": 26,
   "id": "29c6aed0-9482-4364-8494-fd4b11c0c689",
   "metadata": {
    "tags": []
   },
   "outputs": [],
   "source": [
    "# hide\n",
    "def square(x, y, size=1):\n",
    "    return Polygon([(x, y), (x, size + y), (size + x, size + y), (size + x, y)])"
   ]
  },
  {
   "cell_type": "code",
   "execution_count": 27,
   "id": "a2ad38f2-ef5f-4f2b-b681-8872346a65e8",
   "metadata": {},
   "outputs": [],
   "source": [
    "# hide\n",
    "def make_df(\n",
    "    xsize,\n",
    "    ysize,\n",
    "    has_internet=True,\n",
    "    has_population=True,\n",
    "    size=1,\n",
    "    offset_x=0.25,\n",
    "    offset_y=0.0,\n",
    "    pop_x_factor=100,\n",
    "    pop_y_factor=0,\n",
    "    internet_base_speed=20.0,\n",
    "    internet_x_exp=2.0,\n",
    "    internet_y_factor=100,\n",
    "    crs=\"EPSG:3857\",\n",
    "):\n",
    "    d = dict(\n",
    "        geometry=[\n",
    "            square(x + offset_x, y + offset_y)\n",
    "            for x in range(xsize)\n",
    "            for y in range(ysize)\n",
    "        ]\n",
    "    )\n",
    "    if has_population:\n",
    "        d[\"population\"] = [\n",
    "            pop_x_factor * (x + 1) + y * (pop_x_factor * ysize + pop_y_factor)\n",
    "            for x in range(xsize)\n",
    "            for y in range(ysize)\n",
    "        ]\n",
    "    if has_internet:\n",
    "        d[\"internet_speed\"] = [\n",
    "            internet_base_speed / (internet_x_exp**x) + internet_y_factor * y\n",
    "            for x in range(xsize)\n",
    "            for y in range(ysize)\n",
    "        ]\n",
    "    return gpd.GeoDataFrame(d, crs=crs)"
   ]
  },
  {
   "cell_type": "code",
   "execution_count": 28,
   "id": "b3153f1e-c2e4-4633-a7ab-4df9cf58cb38",
   "metadata": {},
   "outputs": [],
   "source": [
    "# hide\n",
    "simple_aoi = make_df(5, 1, has_internet=False, has_population=False, offset_x=0.0)\n",
    "simple_data = make_df(3, 1)"
   ]
  },
  {
   "cell_type": "markdown",
   "id": "4e29f388-b5e2-48ac-bec7-00febb252c78",
   "metadata": {},
   "source": [
    "Given an aoi (`simple_aoi`) and geodataframe containing sample data (`simple_data`)"
   ]
  },
  {
   "cell_type": "code",
   "execution_count": 29,
   "id": "6bf3038c-01db-4a23-be8a-966f995f7941",
   "metadata": {},
   "outputs": [
    {
     "data": {
      "text/html": [
       "<div>\n",
       "<style scoped>\n",
       "    .dataframe tbody tr th:only-of-type {\n",
       "        vertical-align: middle;\n",
       "    }\n",
       "\n",
       "    .dataframe tbody tr th {\n",
       "        vertical-align: top;\n",
       "    }\n",
       "\n",
       "    .dataframe thead th {\n",
       "        text-align: right;\n",
       "    }\n",
       "</style>\n",
       "<table border=\"1\" class=\"dataframe\">\n",
       "  <thead>\n",
       "    <tr style=\"text-align: right;\">\n",
       "      <th></th>\n",
       "      <th>geometry</th>\n",
       "    </tr>\n",
       "  </thead>\n",
       "  <tbody>\n",
       "    <tr>\n",
       "      <th>0</th>\n",
       "      <td>POLYGON ((0.000 0.000, 0.000 1.000, 1.000 1.00...</td>\n",
       "    </tr>\n",
       "    <tr>\n",
       "      <th>1</th>\n",
       "      <td>POLYGON ((1.000 0.000, 1.000 1.000, 2.000 1.00...</td>\n",
       "    </tr>\n",
       "    <tr>\n",
       "      <th>2</th>\n",
       "      <td>POLYGON ((2.000 0.000, 2.000 1.000, 3.000 1.00...</td>\n",
       "    </tr>\n",
       "    <tr>\n",
       "      <th>3</th>\n",
       "      <td>POLYGON ((3.000 0.000, 3.000 1.000, 4.000 1.00...</td>\n",
       "    </tr>\n",
       "    <tr>\n",
       "      <th>4</th>\n",
       "      <td>POLYGON ((4.000 0.000, 4.000 1.000, 5.000 1.00...</td>\n",
       "    </tr>\n",
       "  </tbody>\n",
       "</table>\n",
       "</div>"
      ],
      "text/plain": [
       "                                            geometry\n",
       "0  POLYGON ((0.000 0.000, 0.000 1.000, 1.000 1.00...\n",
       "1  POLYGON ((1.000 0.000, 1.000 1.000, 2.000 1.00...\n",
       "2  POLYGON ((2.000 0.000, 2.000 1.000, 3.000 1.00...\n",
       "3  POLYGON ((3.000 0.000, 3.000 1.000, 4.000 1.00...\n",
       "4  POLYGON ((4.000 0.000, 4.000 1.000, 5.000 1.00..."
      ]
     },
     "execution_count": 29,
     "metadata": {},
     "output_type": "execute_result"
    }
   ],
   "source": [
    "simple_aoi"
   ]
  },
  {
   "cell_type": "code",
   "execution_count": 30,
   "id": "c42f2dec-891a-44e5-a8e4-baed7b19e287",
   "metadata": {},
   "outputs": [
    {
     "data": {
      "text/html": [
       "<div>\n",
       "<style scoped>\n",
       "    .dataframe tbody tr th:only-of-type {\n",
       "        vertical-align: middle;\n",
       "    }\n",
       "\n",
       "    .dataframe tbody tr th {\n",
       "        vertical-align: top;\n",
       "    }\n",
       "\n",
       "    .dataframe thead th {\n",
       "        text-align: right;\n",
       "    }\n",
       "</style>\n",
       "<table border=\"1\" class=\"dataframe\">\n",
       "  <thead>\n",
       "    <tr style=\"text-align: right;\">\n",
       "      <th></th>\n",
       "      <th>geometry</th>\n",
       "      <th>population</th>\n",
       "      <th>internet_speed</th>\n",
       "    </tr>\n",
       "  </thead>\n",
       "  <tbody>\n",
       "    <tr>\n",
       "      <th>0</th>\n",
       "      <td>POLYGON ((0.250 0.000, 0.250 1.000, 1.250 1.00...</td>\n",
       "      <td>100</td>\n",
       "      <td>20.0</td>\n",
       "    </tr>\n",
       "    <tr>\n",
       "      <th>1</th>\n",
       "      <td>POLYGON ((1.250 0.000, 1.250 1.000, 2.250 1.00...</td>\n",
       "      <td>200</td>\n",
       "      <td>10.0</td>\n",
       "    </tr>\n",
       "    <tr>\n",
       "      <th>2</th>\n",
       "      <td>POLYGON ((2.250 0.000, 2.250 1.000, 3.250 1.00...</td>\n",
       "      <td>300</td>\n",
       "      <td>5.0</td>\n",
       "    </tr>\n",
       "  </tbody>\n",
       "</table>\n",
       "</div>"
      ],
      "text/plain": [
       "                                            geometry  population  \\\n",
       "0  POLYGON ((0.250 0.000, 0.250 1.000, 1.250 1.00...         100   \n",
       "1  POLYGON ((1.250 0.000, 1.250 1.000, 2.250 1.00...         200   \n",
       "2  POLYGON ((2.250 0.000, 2.250 1.000, 3.250 1.00...         300   \n",
       "\n",
       "   internet_speed  \n",
       "0            20.0  \n",
       "1            10.0  \n",
       "2             5.0  "
      ]
     },
     "execution_count": 30,
     "metadata": {},
     "output_type": "execute_result"
    }
   ],
   "source": [
    "simple_data"
   ]
  },
  {
   "cell_type": "code",
   "execution_count": 32,
   "id": "f784528a-e90f-4544-9b8b-6d6720019b5e",
   "metadata": {},
   "outputs": [
    {
     "data": {
      "image/png": "[encoded data removed]",
      "text/plain": [
       "<Figure size 432x288 with 1 Axes>"
      ]
     },
     "metadata": {
      "needs_background": "light"
     },
     "output_type": "display_data"
    }
   ],
   "source": [
    "ax = plt.axes()\n",
    "ax = simple_data.plot(\n",
    "    ax=ax, color=[\"orange\", \"brown\", \"purple\"], edgecolor=\"yellow\", alpha=0.4\n",
    ")\n",
    "ax = simple_aoi.plot(\n",
    "    ax=ax, facecolor=\"none\", edgecolor=[\"r\", \"g\", \"b\", \"orange\", \"purple\"]\n",
    ")"
   ]
  },
  {
   "cell_type": "markdown",
   "id": "4a54a8c3-0cac-4059-a5e7-da3659e0b0df",
   "metadata": {
    "tags": []
   },
   "source": [
    "The red,green,blue, orange and purple outlines are the 5 regions of interest (aoi) while the orange,brown, purple areas are the data areas. "
   ]
  },
  {
   "cell_type": "code",
   "execution_count": 33,
   "id": "b3e55428-a926-4afb-8be5-bdd3bcfe909b",
   "metadata": {},
   "outputs": [],
   "source": [
    "empty_aoi_results = create_area_zonal_stats(simple_aoi, simple_data)"
   ]
  },
  {
   "cell_type": "code",
   "execution_count": 34,
   "id": "122711f0-677c-437f-85aa-652e3f096d60",
   "metadata": {},
   "outputs": [
    {
     "data": {
      "text/html": [
       "<div>\n",
       "<style scoped>\n",
       "    .dataframe tbody tr th:only-of-type {\n",
       "        vertical-align: middle;\n",
       "    }\n",
       "\n",
       "    .dataframe tbody tr th {\n",
       "        vertical-align: top;\n",
       "    }\n",
       "\n",
       "    .dataframe thead th {\n",
       "        text-align: right;\n",
       "    }\n",
       "</style>\n",
       "<table border=\"1\" class=\"dataframe\">\n",
       "  <thead>\n",
       "    <tr style=\"text-align: right;\">\n",
       "      <th></th>\n",
       "      <th>geometry</th>\n",
       "      <th>intersect_area_sum</th>\n",
       "    </tr>\n",
       "  </thead>\n",
       "  <tbody>\n",
       "    <tr>\n",
       "      <th>0</th>\n",
       "      <td>POLYGON ((0.000 0.000, 0.000 1.000, 1.000 1.00...</td>\n",
       "      <td>0.75</td>\n",
       "    </tr>\n",
       "    <tr>\n",
       "      <th>1</th>\n",
       "      <td>POLYGON ((1.000 0.000, 1.000 1.000, 2.000 1.00...</td>\n",
       "      <td>1.00</td>\n",
       "    </tr>\n",
       "    <tr>\n",
       "      <th>2</th>\n",
       "      <td>POLYGON ((2.000 0.000, 2.000 1.000, 3.000 1.00...</td>\n",
       "      <td>1.00</td>\n",
       "    </tr>\n",
       "    <tr>\n",
       "      <th>3</th>\n",
       "      <td>POLYGON ((3.000 0.000, 3.000 1.000, 4.000 1.00...</td>\n",
       "      <td>0.25</td>\n",
       "    </tr>\n",
       "    <tr>\n",
       "      <th>4</th>\n",
       "      <td>POLYGON ((4.000 0.000, 4.000 1.000, 5.000 1.00...</td>\n",
       "      <td>0.00</td>\n",
       "    </tr>\n",
       "  </tbody>\n",
       "</table>\n",
       "</div>"
      ],
      "text/plain": [
       "                                            geometry  intersect_area_sum\n",
       "0  POLYGON ((0.000 0.000, 0.000 1.000, 1.000 1.00...                0.75\n",
       "1  POLYGON ((1.000 0.000, 1.000 1.000, 2.000 1.00...                1.00\n",
       "2  POLYGON ((2.000 0.000, 2.000 1.000, 3.000 1.00...                1.00\n",
       "3  POLYGON ((3.000 0.000, 3.000 1.000, 4.000 1.00...                0.25\n",
       "4  POLYGON ((4.000 0.000, 4.000 1.000, 5.000 1.00...                0.00"
      ]
     },
     "execution_count": 34,
     "metadata": {},
     "output_type": "execute_result"
    }
   ],
   "source": [
    "empty_aoi_results"
   ]
  },
  {
   "cell_type": "code",
   "execution_count": 40,
   "id": "b00ea090-f2a6-4da4-9317-34b5112a4f01",
   "metadata": {
    "tags": []
   },
   "outputs": [
    {
     "name": "stdout",
     "output_type": "stream",
     "text": [
      "CPU times: user 61.4 ms, sys: 0 ns, total: 61.4 ms\n",
      "Wall time: 58.1 ms\n"
     ]
    }
   ],
   "source": [
    "%%time\n",
    "simple_aoi_results = create_area_zonal_stats(\n",
    "    simple_aoi,\n",
    "    simple_data,\n",
    "    [\n",
    "        dict(func=\"count\", output=\"sample_count\"),\n",
    "        dict(func=[\"sum\", \"count\"], column=\"population\"),\n",
    "        dict(func=[\"mean\", \"max\", \"min\", \"std\"], column=\"internet_speed\"),\n",
    "    ],\n",
    ")"
   ]
  },
  {
   "cell_type": "code",
   "execution_count": 41,
   "id": "9045bac2-8114-4bde-a0a3-9a15e7f2cec8",
   "metadata": {},
   "outputs": [
    {
     "data": {
      "text/html": [
       "<div>\n",
       "<style scoped>\n",
       "    .dataframe tbody tr th:only-of-type {\n",
       "        vertical-align: middle;\n",
       "    }\n",
       "\n",
       "    .dataframe tbody tr th {\n",
       "        vertical-align: top;\n",
       "    }\n",
       "\n",
       "    .dataframe thead th {\n",
       "        text-align: right;\n",
       "    }\n",
       "</style>\n",
       "<table border=\"1\" class=\"dataframe\">\n",
       "  <thead>\n",
       "    <tr style=\"text-align: right;\">\n",
       "      <th></th>\n",
       "      <th>geometry</th>\n",
       "      <th>intersect_area_sum</th>\n",
       "      <th>sample_count</th>\n",
       "      <th>population_sum</th>\n",
       "      <th>population_count</th>\n",
       "      <th>internet_speed_mean</th>\n",
       "      <th>internet_speed_max</th>\n",
       "      <th>internet_speed_min</th>\n",
       "      <th>internet_speed_std</th>\n",
       "    </tr>\n",
       "  </thead>\n",
       "  <tbody>\n",
       "    <tr>\n",
       "      <th>0</th>\n",
       "      <td>POLYGON ((0.000 0.000, 0.000 1.000, 1.000 1.00...</td>\n",
       "      <td>0.75</td>\n",
       "      <td>1.0</td>\n",
       "      <td>75.0</td>\n",
       "      <td>1.0</td>\n",
       "      <td>15.000</td>\n",
       "      <td>20.0</td>\n",
       "      <td>0.0</td>\n",
       "      <td>NaN</td>\n",
       "    </tr>\n",
       "    <tr>\n",
       "      <th>1</th>\n",
       "      <td>POLYGON ((1.000 0.000, 1.000 1.000, 2.000 1.00...</td>\n",
       "      <td>1.00</td>\n",
       "      <td>2.0</td>\n",
       "      <td>175.0</td>\n",
       "      <td>2.0</td>\n",
       "      <td>6.250</td>\n",
       "      <td>20.0</td>\n",
       "      <td>10.0</td>\n",
       "      <td>7.071068</td>\n",
       "    </tr>\n",
       "    <tr>\n",
       "      <th>2</th>\n",
       "      <td>POLYGON ((2.000 0.000, 2.000 1.000, 3.000 1.00...</td>\n",
       "      <td>1.00</td>\n",
       "      <td>2.0</td>\n",
       "      <td>275.0</td>\n",
       "      <td>2.0</td>\n",
       "      <td>3.125</td>\n",
       "      <td>10.0</td>\n",
       "      <td>5.0</td>\n",
       "      <td>3.535534</td>\n",
       "    </tr>\n",
       "    <tr>\n",
       "      <th>3</th>\n",
       "      <td>POLYGON ((3.000 0.000, 3.000 1.000, 4.000 1.00...</td>\n",
       "      <td>0.25</td>\n",
       "      <td>1.0</td>\n",
       "      <td>75.0</td>\n",
       "      <td>1.0</td>\n",
       "      <td>1.250</td>\n",
       "      <td>5.0</td>\n",
       "      <td>0.0</td>\n",
       "      <td>NaN</td>\n",
       "    </tr>\n",
       "    <tr>\n",
       "      <th>4</th>\n",
       "      <td>POLYGON ((4.000 0.000, 4.000 1.000, 5.000 1.00...</td>\n",
       "      <td>0.00</td>\n",
       "      <td>NaN</td>\n",
       "      <td>NaN</td>\n",
       "      <td>NaN</td>\n",
       "      <td>NaN</td>\n",
       "      <td>NaN</td>\n",
       "      <td>0.0</td>\n",
       "      <td>NaN</td>\n",
       "    </tr>\n",
       "  </tbody>\n",
       "</table>\n",
       "</div>"
      ],
      "text/plain": [
       "                                            geometry  intersect_area_sum  \\\n",
       "0  POLYGON ((0.000 0.000, 0.000 1.000, 1.000 1.00...                0.75   \n",
       "1  POLYGON ((1.000 0.000, 1.000 1.000, 2.000 1.00...                1.00   \n",
       "2  POLYGON ((2.000 0.000, 2.000 1.000, 3.000 1.00...                1.00   \n",
       "3  POLYGON ((3.000 0.000, 3.000 1.000, 4.000 1.00...                0.25   \n",
       "4  POLYGON ((4.000 0.000, 4.000 1.000, 5.000 1.00...                0.00   \n",
       "\n",
       "   sample_count  population_sum  population_count  internet_speed_mean  \\\n",
       "0           1.0            75.0               1.0               15.000   \n",
       "1           2.0           175.0               2.0                6.250   \n",
       "2           2.0           275.0               2.0                3.125   \n",
       "3           1.0            75.0               1.0                1.250   \n",
       "4           NaN             NaN               NaN                  NaN   \n",
       "\n",
       "   internet_speed_max  internet_speed_min  internet_speed_std  \n",
       "0                20.0                 0.0                 NaN  \n",
       "1                20.0                10.0            7.071068  \n",
       "2                10.0                 5.0            3.535534  \n",
       "3                 5.0                 0.0                 NaN  \n",
       "4                 NaN                 0.0                 NaN  "
      ]
     },
     "execution_count": 41,
     "metadata": {},
     "output_type": "execute_result"
    }
   ],
   "source": [
    "simple_aoi_results"
   ]
  },
  {
   "cell_type": "code",
   "execution_count": 37,
   "id": "5a5eb087-1714-422d-955e-55095e33cf7b",
   "metadata": {},
   "outputs": [
    {
     "data": {
      "text/plain": [
       "600.0"
      ]
     },
     "execution_count": 37,
     "metadata": {},
     "output_type": "execute_result"
    }
   ],
   "source": [
    "simple_aoi_results.population_sum.sum(axis=None)"
   ]
  },
  {
   "cell_type": "code",
   "execution_count": 38,
   "id": "bc041841-ab3b-45a2-be5f-14b2b3910a8b",
   "metadata": {
    "tags": []
   },
   "outputs": [
    {
     "name": "stdout",
     "output_type": "stream",
     "text": [
      "CPU times: user 53.9 ms, sys: 956 µs, total: 54.9 ms\n",
      "Wall time: 50.1 ms\n"
     ]
    }
   ],
   "source": [
    "%%time\n",
    "corrected_aoi_results = create_area_zonal_stats(\n",
    "    simple_aoi,\n",
    "    simple_data,\n",
    "    [\n",
    "        dict(func=[\"sum\", \"count\"], column=\"population\"),\n",
    "        dict(\n",
    "            func=[\"mean\", \"imputed_mean\", \"raw_max\", \"raw_min\", \"raw_std\"],\n",
    "            column=\"internet_speed\",\n",
    "            output=[\n",
    "                \"internet_speed_mean\",\n",
    "                \"internet_speed_imputed_mean\",\n",
    "                \"internet_speed_max\",\n",
    "                \"internet_speed_min\",\n",
    "                \"internet_speed_std\",\n",
    "            ],\n",
    "        ),\n",
    "    ],\n",
    "    fix_min=False,\n",
    ")"
   ]
  },
  {
   "cell_type": "code",
   "execution_count": 39,
   "id": "b51156d3-1c18-4e3c-be4e-1c26ee41c603",
   "metadata": {},
   "outputs": [
    {
     "data": {
      "text/html": [
       "<div>\n",
       "<style scoped>\n",
       "    .dataframe tbody tr th:only-of-type {\n",
       "        vertical-align: middle;\n",
       "    }\n",
       "\n",
       "    .dataframe tbody tr th {\n",
       "        vertical-align: top;\n",
       "    }\n",
       "\n",
       "    .dataframe thead th {\n",
       "        text-align: right;\n",
       "    }\n",
       "</style>\n",
       "<table border=\"1\" class=\"dataframe\">\n",
       "  <thead>\n",
       "    <tr style=\"text-align: right;\">\n",
       "      <th></th>\n",
       "      <th>geometry</th>\n",
       "      <th>intersect_area_sum</th>\n",
       "      <th>population_sum</th>\n",
       "      <th>population_count</th>\n",
       "      <th>internet_speed_mean</th>\n",
       "      <th>internet_speed_imputed_mean</th>\n",
       "      <th>internet_speed_max</th>\n",
       "      <th>internet_speed_min</th>\n",
       "      <th>internet_speed_std</th>\n",
       "    </tr>\n",
       "  </thead>\n",
       "  <tbody>\n",
       "    <tr>\n",
       "      <th>0</th>\n",
       "      <td>POLYGON ((0.000 0.000, 0.000 1.000, 1.000 1.00...</td>\n",
       "      <td>0.75</td>\n",
       "      <td>75.0</td>\n",
       "      <td>1.0</td>\n",
       "      <td>15.000</td>\n",
       "      <td>20.000</td>\n",
       "      <td>20.0</td>\n",
       "      <td>20.0</td>\n",
       "      <td>NaN</td>\n",
       "    </tr>\n",
       "    <tr>\n",
       "      <th>1</th>\n",
       "      <td>POLYGON ((1.000 0.000, 1.000 1.000, 2.000 1.00...</td>\n",
       "      <td>1.00</td>\n",
       "      <td>175.0</td>\n",
       "      <td>2.0</td>\n",
       "      <td>6.250</td>\n",
       "      <td>6.250</td>\n",
       "      <td>20.0</td>\n",
       "      <td>10.0</td>\n",
       "      <td>7.071068</td>\n",
       "    </tr>\n",
       "    <tr>\n",
       "      <th>2</th>\n",
       "      <td>POLYGON ((2.000 0.000, 2.000 1.000, 3.000 1.00...</td>\n",
       "      <td>1.00</td>\n",
       "      <td>275.0</td>\n",
       "      <td>2.0</td>\n",
       "      <td>3.125</td>\n",
       "      <td>3.125</td>\n",
       "      <td>10.0</td>\n",
       "      <td>5.0</td>\n",
       "      <td>3.535534</td>\n",
       "    </tr>\n",
       "    <tr>\n",
       "      <th>3</th>\n",
       "      <td>POLYGON ((3.000 0.000, 3.000 1.000, 4.000 1.00...</td>\n",
       "      <td>0.25</td>\n",
       "      <td>75.0</td>\n",
       "      <td>1.0</td>\n",
       "      <td>1.250</td>\n",
       "      <td>5.000</td>\n",
       "      <td>5.0</td>\n",
       "      <td>5.0</td>\n",
       "      <td>NaN</td>\n",
       "    </tr>\n",
       "    <tr>\n",
       "      <th>4</th>\n",
       "      <td>POLYGON ((4.000 0.000, 4.000 1.000, 5.000 1.00...</td>\n",
       "      <td>0.00</td>\n",
       "      <td>NaN</td>\n",
       "      <td>NaN</td>\n",
       "      <td>NaN</td>\n",
       "      <td>NaN</td>\n",
       "      <td>NaN</td>\n",
       "      <td>NaN</td>\n",
       "      <td>NaN</td>\n",
       "    </tr>\n",
       "  </tbody>\n",
       "</table>\n",
       "</div>"
      ],
      "text/plain": [
       "                                            geometry  intersect_area_sum  \\\n",
       "0  POLYGON ((0.000 0.000, 0.000 1.000, 1.000 1.00...                0.75   \n",
       "1  POLYGON ((1.000 0.000, 1.000 1.000, 2.000 1.00...                1.00   \n",
       "2  POLYGON ((2.000 0.000, 2.000 1.000, 3.000 1.00...                1.00   \n",
       "3  POLYGON ((3.000 0.000, 3.000 1.000, 4.000 1.00...                0.25   \n",
       "4  POLYGON ((4.000 0.000, 4.000 1.000, 5.000 1.00...                0.00   \n",
       "\n",
       "   population_sum  population_count  internet_speed_mean  \\\n",
       "0            75.0               1.0               15.000   \n",
       "1           175.0               2.0                6.250   \n",
       "2           275.0               2.0                3.125   \n",
       "3            75.0               1.0                1.250   \n",
       "4             NaN               NaN                  NaN   \n",
       "\n",
       "   internet_speed_imputed_mean  internet_speed_max  internet_speed_min  \\\n",
       "0                       20.000                20.0                20.0   \n",
       "1                        6.250                20.0                10.0   \n",
       "2                        3.125                10.0                 5.0   \n",
       "3                        5.000                 5.0                 5.0   \n",
       "4                          NaN                 NaN                 NaN   \n",
       "\n",
       "   internet_speed_std  \n",
       "0                 NaN  \n",
       "1            7.071068  \n",
       "2            3.535534  \n",
       "3                 NaN  \n",
       "4                 NaN  "
      ]
     },
     "execution_count": 39,
     "metadata": {},
     "output_type": "execute_result"
    }
   ],
   "source": [
    "corrected_aoi_results"
   ]
  },
  {
   "cell_type": "code",
   "execution_count": 43,
   "id": "80fab959-823a-408a-86f2-3397a96fba7a",
   "metadata": {
    "tags": []
   },
   "outputs": [
    {
     "name": "stdout",
     "output_type": "stream",
     "text": [
      "CPU times: user 34 ms, sys: 12.1 ms, total: 46 ms\n",
      "Wall time: 42.6 ms\n"
     ]
    }
   ],
   "source": [
    "%%time\n",
    "aois_no_nas = create_area_zonal_stats(\n",
    "    simple_aoi,\n",
    "    simple_data,\n",
    "    [\n",
    "        dict(func=[\"sum\", \"count\"], column=\"population\", fillna=[True, True]),\n",
    "        dict(\n",
    "            func=[\"mean\", \"imputed_mean\", \"raw_max\", \"raw_min\", \"raw_std\"],\n",
    "            column=\"internet_speed\",\n",
    "            output=[\n",
    "                \"internet_speed_mean\",\n",
    "                \"internet_speed_imputed_mean\",\n",
    "                \"internet_speed_max\",\n",
    "                \"internet_speed_min\",\n",
    "                \"internet_speed_std\",\n",
    "            ],\n",
    "            fillna=[True, True, True, True, True],\n",
    "        ),\n",
    "    ],\n",
    "    fix_min=False,\n",
    ")"
   ]
  },
  {
   "cell_type": "code",
   "execution_count": 45,
   "id": "f447f55a-2a31-41ba-a3a3-614365daa3ce",
   "metadata": {},
   "outputs": [
    {
     "data": {
      "text/html": [
       "<div>\n",
       "<style scoped>\n",
       "    .dataframe tbody tr th:only-of-type {\n",
       "        vertical-align: middle;\n",
       "    }\n",
       "\n",
       "    .dataframe tbody tr th {\n",
       "        vertical-align: top;\n",
       "    }\n",
       "\n",
       "    .dataframe thead th {\n",
       "        text-align: right;\n",
       "    }\n",
       "</style>\n",
       "<table border=\"1\" class=\"dataframe\">\n",
       "  <thead>\n",
       "    <tr style=\"text-align: right;\">\n",
       "      <th></th>\n",
       "      <th>geometry</th>\n",
       "      <th>intersect_area_sum</th>\n",
       "      <th>population_sum</th>\n",
       "      <th>population_count</th>\n",
       "      <th>internet_speed_mean</th>\n",
       "      <th>internet_speed_imputed_mean</th>\n",
       "      <th>internet_speed_max</th>\n",
       "      <th>internet_speed_min</th>\n",
       "      <th>internet_speed_std</th>\n",
       "    </tr>\n",
       "  </thead>\n",
       "  <tbody>\n",
       "    <tr>\n",
       "      <th>0</th>\n",
       "      <td>POLYGON ((0.000 0.000, 0.000 1.000, 1.000 1.00...</td>\n",
       "      <td>0.75</td>\n",
       "      <td>75.0</td>\n",
       "      <td>1.0</td>\n",
       "      <td>15.000</td>\n",
       "      <td>20.000</td>\n",
       "      <td>20.0</td>\n",
       "      <td>20.0</td>\n",
       "      <td>0.000000</td>\n",
       "    </tr>\n",
       "    <tr>\n",
       "      <th>1</th>\n",
       "      <td>POLYGON ((1.000 0.000, 1.000 1.000, 2.000 1.00...</td>\n",
       "      <td>1.00</td>\n",
       "      <td>175.0</td>\n",
       "      <td>2.0</td>\n",
       "      <td>6.250</td>\n",
       "      <td>6.250</td>\n",
       "      <td>20.0</td>\n",
       "      <td>10.0</td>\n",
       "      <td>7.071068</td>\n",
       "    </tr>\n",
       "    <tr>\n",
       "      <th>2</th>\n",
       "      <td>POLYGON ((2.000 0.000, 2.000 1.000, 3.000 1.00...</td>\n",
       "      <td>1.00</td>\n",
       "      <td>275.0</td>\n",
       "      <td>2.0</td>\n",
       "      <td>3.125</td>\n",
       "      <td>3.125</td>\n",
       "      <td>10.0</td>\n",
       "      <td>5.0</td>\n",
       "      <td>3.535534</td>\n",
       "    </tr>\n",
       "    <tr>\n",
       "      <th>3</th>\n",
       "      <td>POLYGON ((3.000 0.000, 3.000 1.000, 4.000 1.00...</td>\n",
       "      <td>0.25</td>\n",
       "      <td>75.0</td>\n",
       "      <td>1.0</td>\n",
       "      <td>1.250</td>\n",
       "      <td>5.000</td>\n",
       "      <td>5.0</td>\n",
       "      <td>5.0</td>\n",
       "      <td>0.000000</td>\n",
       "    </tr>\n",
       "    <tr>\n",
       "      <th>4</th>\n",
       "      <td>POLYGON ((4.000 0.000, 4.000 1.000, 5.000 1.00...</td>\n",
       "      <td>0.00</td>\n",
       "      <td>0.0</td>\n",
       "      <td>0.0</td>\n",
       "      <td>0.000</td>\n",
       "      <td>0.000</td>\n",
       "      <td>0.0</td>\n",
       "      <td>0.0</td>\n",
       "      <td>0.000000</td>\n",
       "    </tr>\n",
       "  </tbody>\n",
       "</table>\n",
       "</div>"
      ],
      "text/plain": [
       "                                            geometry  intersect_area_sum  \\\n",
       "0  POLYGON ((0.000 0.000, 0.000 1.000, 1.000 1.00...                0.75   \n",
       "1  POLYGON ((1.000 0.000, 1.000 1.000, 2.000 1.00...                1.00   \n",
       "2  POLYGON ((2.000 0.000, 2.000 1.000, 3.000 1.00...                1.00   \n",
       "3  POLYGON ((3.000 0.000, 3.000 1.000, 4.000 1.00...                0.25   \n",
       "4  POLYGON ((4.000 0.000, 4.000 1.000, 5.000 1.00...                0.00   \n",
       "\n",
       "   population_sum  population_count  internet_speed_mean  \\\n",
       "0            75.0               1.0               15.000   \n",
       "1           175.0               2.0                6.250   \n",
       "2           275.0               2.0                3.125   \n",
       "3            75.0               1.0                1.250   \n",
       "4             0.0               0.0                0.000   \n",
       "\n",
       "   internet_speed_imputed_mean  internet_speed_max  internet_speed_min  \\\n",
       "0                       20.000                20.0                20.0   \n",
       "1                        6.250                20.0                10.0   \n",
       "2                        3.125                10.0                 5.0   \n",
       "3                        5.000                 5.0                 5.0   \n",
       "4                        0.000                 0.0                 0.0   \n",
       "\n",
       "   internet_speed_std  \n",
       "0            0.000000  \n",
       "1            7.071068  \n",
       "2            3.535534  \n",
       "3            0.000000  \n",
       "4            0.000000  "
      ]
     },
     "execution_count": 45,
     "metadata": {},
     "output_type": "execute_result"
    }
   ],
   "source": [
    "aois_no_nas"
   ]
  },
  {
   "cell_type": "code",
   "execution_count": null,
   "id": "b62640e6-8fb1-4837-bacd-77e313096883",
   "metadata": {},
   "outputs": [],
   "source": []
  }
 ],
 "metadata": {
  "kernelspec": {
   "display_name": "Python 3",
   "language": "python",
   "name": "python3"
  },
  "language_info": {
   "codemirror_mode": {
    "name": "ipython",
    "version": 3
   },
   "file_extension": ".py",
   "mimetype": "text/x-python",
   "name": "python",
   "nbconvert_exporter": "python",
   "pygments_lexer": "ipython3",
   "version": "3.9.13"
  },
  "vscode": {
   "interpreter": {
    "hash": "398fbd09e458dc8b61f6e927a8e04aab08f58486847b488d8069abb9bc707681"
   }
  }
 },
 "nbformat": 4,
 "nbformat_minor": 5
}
