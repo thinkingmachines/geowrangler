{
 "cells": [
  {
   "cell_type": "code",
   "execution_count": 1,
   "id": "5a2921e4-4985-4fb3-aa08-c80cb0663a4a",
   "metadata": {
    "tags": []
   },
   "outputs": [],
   "source": [
    "# default_exp distance_zonal_stats"
   ]
  },
  {
   "cell_type": "code",
   "execution_count": 2,
   "id": "0bd903f7-54e4-44be-af97-ded1447563a6",
   "metadata": {},
   "outputs": [],
   "source": [
    "# hide\n",
    "# no_test\n",
    "! [ -e /content ] && pip install -Uqq git+https://github.com/thinkingmachines/geowrangler.git"
   ]
  },
  {
   "cell_type": "code",
   "execution_count": 3,
   "id": "4193ede1-b155-40b0-b90a-1e619fa91fef",
   "metadata": {},
   "outputs": [],
   "source": [
    "# hide\n",
    "# no_test\n",
    "!mkdir -p ../data\n",
    "![ -e /content ] && ln -s ../data ."
   ]
  },
  {
   "cell_type": "code",
   "execution_count": 4,
   "id": "83e17627-2953-424b-add4-1070099a3c64",
   "metadata": {},
   "outputs": [],
   "source": [
    "# hide\n",
    "# no_test\n",
    "!mkdir -p ../data\n",
    "# download sample geojson files from repo"
   ]
  },
  {
   "cell_type": "code",
   "execution_count": 5,
   "id": "8daa0f3a-d80c-4030-bce8-d437cdb313ea",
   "metadata": {},
   "outputs": [],
   "source": [
    "# hide\n",
    "# no_test\n",
    "%reload_ext autoreload\n",
    "%autoreload 2\n",
    "%matplotlib inline"
   ]
  },
  {
   "cell_type": "code",
   "execution_count": 6,
   "id": "aaa54b7c-4f2a-4a1b-b46c-3f0e20cd1676",
   "metadata": {},
   "outputs": [],
   "source": [
    "# hide\n",
    "import warnings\n",
    "\n",
    "from shapely.errors import ShapelyDeprecationWarning\n",
    "\n",
    "warnings.filterwarnings(action=\"ignore\", category=UserWarning, module=\"geopandas\")\n",
    "warnings.filterwarnings(\n",
    "    action=\"ignore\", category=ShapelyDeprecationWarning, module=\"pandas\"\n",
    ")"
   ]
  },
  {
   "cell_type": "markdown",
   "id": "1a9b26a4-d7a7-4c1e-ac32-436a5708553a",
   "metadata": {},
   "source": [
    "# Distance Zonal Stats\n",
    "\n",
    "> generate vector zonal stat features for distances to features"
   ]
  },
  {
   "cell_type": "code",
   "execution_count": 7,
   "id": "f438213c-41dc-432f-a54a-48dda949f2ca",
   "metadata": {},
   "outputs": [],
   "source": [
    "# export\n",
    "from typing import Any, Dict, List\n",
    "\n",
    "import geopandas as gpd\n",
    "\n",
    "import geowrangler.area_zonal_stats as azs\n",
    "import geowrangler.vector_zonal_stats as vzs\n",
    "from geowrangler.vector_zonal_stats import GEO_INDEX_NAME"
   ]
  },
  {
   "cell_type": "code",
   "execution_count": 8,
   "id": "aabdc447-d2ef-45f0-bd1b-a7a0fbd90a14",
   "metadata": {},
   "outputs": [],
   "source": [
    "# hide\n",
    "import matplotlib.pyplot as plt\n",
    "from shapely.geometry import Point, Polygon"
   ]
  },
  {
   "cell_type": "code",
   "execution_count": 9,
   "id": "8921f67a-31a5-4b59-ac50-2966b8760a6c",
   "metadata": {},
   "outputs": [],
   "source": [
    "# exporti\n",
    "INTERNAL_DISTANCE_COL = \"__Geowrangleer_nearest_distance\"\n",
    "\n",
    "\n",
    "def build_agg_distance_dicts(expanded_aggs, distance_col):\n",
    "    agg_dicts = vzs._build_agg_args(expanded_aggs)\n",
    "    if distance_col is not None:\n",
    "        agg_dicts[distance_col] = (INTERNAL_DISTANCE_COL, \"mean\")\n",
    "    return agg_dicts"
   ]
  },
  {
   "cell_type": "code",
   "execution_count": 10,
   "id": "d228a69b-05fb-4dda-a27c-2bd09742414a",
   "metadata": {},
   "outputs": [],
   "source": [
    "# export\n",
    "def create_distance_zonal_stats(\n",
    "    aoi: gpd.GeoDataFrame,  # Area of interest for which zonal stats are to be computed for\n",
    "    data: gpd.GeoDataFrame,  # Source gdf of region/areas containing data to compute zonal stats from\n",
    "    max_distance: float,  # max distance to compute distance for (the larger the slower the join), set to None for no limit\n",
    "    aggregations: List[Dict[str, Any]],  # aggregations\n",
    "    distance_col: str = \"nearest\",  # column name of the distance column, set to None if not wanted in results\n",
    "):\n",
    "    \"\"\"Computes zonal stats based on nearest matching data geometry within `max_distance`.\n",
    "    Note that setting a too high max_distance (or None) will incur a performance cost.\n",
    "    \"\"\"\n",
    "    # aoi/data crs should be planar\n",
    "    azs.validate_area_aoi(aoi)\n",
    "    azs.validate_area_data(data)\n",
    "\n",
    "    fixed_aggs = [vzs._fix_agg(agg) for agg in aggregations]\n",
    "\n",
    "    vzs._validate_aggs(fixed_aggs, data)\n",
    "\n",
    "    # reindex aoi\n",
    "    aoi_index_name = aoi.index.name\n",
    "    aoi = vzs._prep_aoi(aoi)\n",
    "\n",
    "    # sync aoi/data crs\n",
    "    if not data.crs.equals(aoi.crs):\n",
    "        data = data.to_crs(aoi.crs)\n",
    "\n",
    "    # add spatial indexes\n",
    "    aoi.geometry.sindex\n",
    "    data.geometry.sindex\n",
    "\n",
    "    # nearest\n",
    "    nearest = gpd.sjoin_nearest(\n",
    "        aoi[[GEO_INDEX_NAME, \"geometry\"]],\n",
    "        data,\n",
    "        how=\"inner\",\n",
    "        max_distance=max_distance,\n",
    "        distance_col=INTERNAL_DISTANCE_COL,\n",
    "    )\n",
    "\n",
    "    groups = nearest.groupby(GEO_INDEX_NAME)\n",
    "\n",
    "    expanded_aggs = vzs._expand_aggs(fixed_aggs)\n",
    "    agg_distance_dicts = build_agg_distance_dicts(expanded_aggs, distance_col)\n",
    "\n",
    "    aggregates = groups.agg(**agg_distance_dicts)\n",
    "\n",
    "    results = aoi.merge(\n",
    "        aggregates, how=\"left\", on=GEO_INDEX_NAME, suffixes=(None, \"_y\")\n",
    "    )\n",
    "    vzs._fillnas(expanded_aggs, results, aoi)\n",
    "\n",
    "    results.set_index(GEO_INDEX_NAME, inplace=True)\n",
    "    results.index.name = aoi_index_name\n",
    "    return results"
   ]
  },
  {
   "cell_type": "markdown",
   "id": "fc7eb32f-136b-44a1-810e-e52eef535852",
   "metadata": {},
   "source": [
    "## Test data"
   ]
  },
  {
   "cell_type": "markdown",
   "id": "190370e2-f39f-4f9f-b945-cad745c3df1e",
   "metadata": {},
   "source": [
    "### Simple squares"
   ]
  },
  {
   "cell_type": "code",
   "execution_count": 11,
   "id": "f92381eb-da51-41e1-b6b0-4fe7480601d4",
   "metadata": {},
   "outputs": [],
   "source": [
    "def make_point_df(\n",
    "    xsize,\n",
    "    ysize,\n",
    "    has_internet=True,\n",
    "    has_population=True,\n",
    "    size=1,\n",
    "    offset_x=0.25,\n",
    "    offset_y=0.0,\n",
    "    pop_x_factor=100,\n",
    "    pop_y_factor=0,\n",
    "    internet_base_speed=20.0,\n",
    "    internet_x_exp=2.0,\n",
    "    internet_y_factor=100,\n",
    "    crs=\"EPSG:3857\",\n",
    "):\n",
    "    d = dict(\n",
    "        geometry=[\n",
    "            Point(x + offset_x, y + offset_y)\n",
    "            for x in range(xsize)\n",
    "            for y in range(ysize)\n",
    "        ]\n",
    "    )\n",
    "    if has_population:\n",
    "        d[\"population\"] = [\n",
    "            pop_x_factor * (x + 1) + y * (pop_x_factor * ysize + pop_y_factor)\n",
    "            for x in range(xsize)\n",
    "            for y in range(ysize)\n",
    "        ]\n",
    "    if has_internet:\n",
    "        d[\"internet_speed\"] = [\n",
    "            internet_base_speed / (internet_x_exp**x) + internet_y_factor * y\n",
    "            for x in range(xsize)\n",
    "            for y in range(ysize)\n",
    "        ]\n",
    "    return gpd.GeoDataFrame(d, crs=crs)"
   ]
  },
  {
   "cell_type": "code",
   "execution_count": 12,
   "id": "29c6aed0-9482-4364-8494-fd4b11c0c689",
   "metadata": {
    "tags": []
   },
   "outputs": [],
   "source": [
    "# hide\n",
    "def square(x, y, size=1):\n",
    "    return Polygon([(x, y), (x, size + y), (size + x, size + y), (size + x, y)])"
   ]
  },
  {
   "cell_type": "code",
   "execution_count": 13,
   "id": "a2ad38f2-ef5f-4f2b-b681-8872346a65e8",
   "metadata": {},
   "outputs": [],
   "source": [
    "# hide\n",
    "def make_df(\n",
    "    xsize,\n",
    "    ysize,\n",
    "    has_internet=True,\n",
    "    has_population=True,\n",
    "    size=1,\n",
    "    offset_x=0.25,\n",
    "    offset_y=0.0,\n",
    "    pop_x_factor=100,\n",
    "    pop_y_factor=0,\n",
    "    internet_base_speed=20.0,\n",
    "    internet_x_exp=2.0,\n",
    "    internet_y_factor=100,\n",
    "    crs=\"EPSG:3857\",\n",
    "):\n",
    "    d = dict(\n",
    "        geometry=[\n",
    "            square(x + offset_x, y + offset_y)\n",
    "            for x in range(xsize)\n",
    "            for y in range(ysize)\n",
    "        ]\n",
    "    )\n",
    "    if has_population:\n",
    "        d[\"population\"] = [\n",
    "            pop_x_factor * (x + 1) + y * (pop_x_factor * ysize + pop_y_factor)\n",
    "            for x in range(xsize)\n",
    "            for y in range(ysize)\n",
    "        ]\n",
    "    if has_internet:\n",
    "        d[\"internet_speed\"] = [\n",
    "            internet_base_speed / (internet_x_exp**x) + internet_y_factor * y\n",
    "            for x in range(xsize)\n",
    "            for y in range(ysize)\n",
    "        ]\n",
    "    return gpd.GeoDataFrame(d, crs=crs)"
   ]
  },
  {
   "cell_type": "code",
   "execution_count": 14,
   "id": "b3153f1e-c2e4-4633-a7ab-4df9cf58cb38",
   "metadata": {},
   "outputs": [],
   "source": [
    "# hide\n",
    "simple_aoi = make_df(3, 1, has_internet=False, has_population=False, offset_x=0.0)\n",
    "simple_data = make_df(3, 1)"
   ]
  },
  {
   "cell_type": "code",
   "execution_count": 15,
   "id": "f69269ae-ce43-4871-b6f5-cd56d9385bc3",
   "metadata": {},
   "outputs": [],
   "source": [
    "simple_point_data = make_point_df(3, 5, offset_x=0.5, offset_y=3.0)"
   ]
  },
  {
   "cell_type": "markdown",
   "id": "4e29f388-b5e2-48ac-bec7-00febb252c78",
   "metadata": {},
   "source": [
    "Given an aoi (`simple_aoi`) and geodataframe containing sample data (`simple_data`)"
   ]
  },
  {
   "cell_type": "code",
   "execution_count": 16,
   "id": "6bf3038c-01db-4a23-be8a-966f995f7941",
   "metadata": {},
   "outputs": [
    {
     "data": {
      "text/html": [
       "<div>\n",
       "<style scoped>\n",
       "    .dataframe tbody tr th:only-of-type {\n",
       "        vertical-align: middle;\n",
       "    }\n",
       "\n",
       "    .dataframe tbody tr th {\n",
       "        vertical-align: top;\n",
       "    }\n",
       "\n",
       "    .dataframe thead th {\n",
       "        text-align: right;\n",
       "    }\n",
       "</style>\n",
       "<table border=\"1\" class=\"dataframe\">\n",
       "  <thead>\n",
       "    <tr style=\"text-align: right;\">\n",
       "      <th></th>\n",
       "      <th>geometry</th>\n",
       "    </tr>\n",
       "  </thead>\n",
       "  <tbody>\n",
       "    <tr>\n",
       "      <th>0</th>\n",
       "      <td>POLYGON ((0.000 0.000, 0.000 1.000, 1.000 1.00...</td>\n",
       "    </tr>\n",
       "    <tr>\n",
       "      <th>1</th>\n",
       "      <td>POLYGON ((1.000 0.000, 1.000 1.000, 2.000 1.00...</td>\n",
       "    </tr>\n",
       "    <tr>\n",
       "      <th>2</th>\n",
       "      <td>POLYGON ((2.000 0.000, 2.000 1.000, 3.000 1.00...</td>\n",
       "    </tr>\n",
       "  </tbody>\n",
       "</table>\n",
       "</div>"
      ],
      "text/plain": [
       "                                            geometry\n",
       "0  POLYGON ((0.000 0.000, 0.000 1.000, 1.000 1.00...\n",
       "1  POLYGON ((1.000 0.000, 1.000 1.000, 2.000 1.00...\n",
       "2  POLYGON ((2.000 0.000, 2.000 1.000, 3.000 1.00..."
      ]
     },
     "execution_count": 16,
     "metadata": {},
     "output_type": "execute_result"
    }
   ],
   "source": [
    "simple_aoi"
   ]
  },
  {
   "cell_type": "code",
   "execution_count": 17,
   "id": "c42f2dec-891a-44e5-a8e4-baed7b19e287",
   "metadata": {},
   "outputs": [
    {
     "data": {
      "text/html": [
       "<div>\n",
       "<style scoped>\n",
       "    .dataframe tbody tr th:only-of-type {\n",
       "        vertical-align: middle;\n",
       "    }\n",
       "\n",
       "    .dataframe tbody tr th {\n",
       "        vertical-align: top;\n",
       "    }\n",
       "\n",
       "    .dataframe thead th {\n",
       "        text-align: right;\n",
       "    }\n",
       "</style>\n",
       "<table border=\"1\" class=\"dataframe\">\n",
       "  <thead>\n",
       "    <tr style=\"text-align: right;\">\n",
       "      <th></th>\n",
       "      <th>geometry</th>\n",
       "      <th>population</th>\n",
       "      <th>internet_speed</th>\n",
       "    </tr>\n",
       "  </thead>\n",
       "  <tbody>\n",
       "    <tr>\n",
       "      <th>0</th>\n",
       "      <td>POLYGON ((0.250 0.000, 0.250 1.000, 1.250 1.00...</td>\n",
       "      <td>100</td>\n",
       "      <td>20.0</td>\n",
       "    </tr>\n",
       "    <tr>\n",
       "      <th>1</th>\n",
       "      <td>POLYGON ((1.250 0.000, 1.250 1.000, 2.250 1.00...</td>\n",
       "      <td>200</td>\n",
       "      <td>10.0</td>\n",
       "    </tr>\n",
       "    <tr>\n",
       "      <th>2</th>\n",
       "      <td>POLYGON ((2.250 0.000, 2.250 1.000, 3.250 1.00...</td>\n",
       "      <td>300</td>\n",
       "      <td>5.0</td>\n",
       "    </tr>\n",
       "  </tbody>\n",
       "</table>\n",
       "</div>"
      ],
      "text/plain": [
       "                                            geometry  population  \\\n",
       "0  POLYGON ((0.250 0.000, 0.250 1.000, 1.250 1.00...         100   \n",
       "1  POLYGON ((1.250 0.000, 1.250 1.000, 2.250 1.00...         200   \n",
       "2  POLYGON ((2.250 0.000, 2.250 1.000, 3.250 1.00...         300   \n",
       "\n",
       "   internet_speed  \n",
       "0            20.0  \n",
       "1            10.0  \n",
       "2             5.0  "
      ]
     },
     "execution_count": 17,
     "metadata": {},
     "output_type": "execute_result"
    }
   ],
   "source": [
    "simple_data"
   ]
  },
  {
   "cell_type": "code",
   "execution_count": 18,
   "id": "e1e355cf-f4cb-4464-99f6-f6ecda87a41f",
   "metadata": {},
   "outputs": [
    {
     "data": {
      "text/html": [
       "<div>\n",
       "<style scoped>\n",
       "    .dataframe tbody tr th:only-of-type {\n",
       "        vertical-align: middle;\n",
       "    }\n",
       "\n",
       "    .dataframe tbody tr th {\n",
       "        vertical-align: top;\n",
       "    }\n",
       "\n",
       "    .dataframe thead th {\n",
       "        text-align: right;\n",
       "    }\n",
       "</style>\n",
       "<table border=\"1\" class=\"dataframe\">\n",
       "  <thead>\n",
       "    <tr style=\"text-align: right;\">\n",
       "      <th></th>\n",
       "      <th>geometry</th>\n",
       "      <th>population</th>\n",
       "      <th>internet_speed</th>\n",
       "    </tr>\n",
       "  </thead>\n",
       "  <tbody>\n",
       "    <tr>\n",
       "      <th>0</th>\n",
       "      <td>POINT (0.500 3.000)</td>\n",
       "      <td>100</td>\n",
       "      <td>20.0</td>\n",
       "    </tr>\n",
       "    <tr>\n",
       "      <th>1</th>\n",
       "      <td>POINT (0.500 4.000)</td>\n",
       "      <td>600</td>\n",
       "      <td>120.0</td>\n",
       "    </tr>\n",
       "    <tr>\n",
       "      <th>2</th>\n",
       "      <td>POINT (0.500 5.000)</td>\n",
       "      <td>1100</td>\n",
       "      <td>220.0</td>\n",
       "    </tr>\n",
       "    <tr>\n",
       "      <th>3</th>\n",
       "      <td>POINT (0.500 6.000)</td>\n",
       "      <td>1600</td>\n",
       "      <td>320.0</td>\n",
       "    </tr>\n",
       "    <tr>\n",
       "      <th>4</th>\n",
       "      <td>POINT (0.500 7.000)</td>\n",
       "      <td>2100</td>\n",
       "      <td>420.0</td>\n",
       "    </tr>\n",
       "    <tr>\n",
       "      <th>5</th>\n",
       "      <td>POINT (1.500 3.000)</td>\n",
       "      <td>200</td>\n",
       "      <td>10.0</td>\n",
       "    </tr>\n",
       "    <tr>\n",
       "      <th>6</th>\n",
       "      <td>POINT (1.500 4.000)</td>\n",
       "      <td>700</td>\n",
       "      <td>110.0</td>\n",
       "    </tr>\n",
       "    <tr>\n",
       "      <th>7</th>\n",
       "      <td>POINT (1.500 5.000)</td>\n",
       "      <td>1200</td>\n",
       "      <td>210.0</td>\n",
       "    </tr>\n",
       "    <tr>\n",
       "      <th>8</th>\n",
       "      <td>POINT (1.500 6.000)</td>\n",
       "      <td>1700</td>\n",
       "      <td>310.0</td>\n",
       "    </tr>\n",
       "    <tr>\n",
       "      <th>9</th>\n",
       "      <td>POINT (1.500 7.000)</td>\n",
       "      <td>2200</td>\n",
       "      <td>410.0</td>\n",
       "    </tr>\n",
       "    <tr>\n",
       "      <th>10</th>\n",
       "      <td>POINT (2.500 3.000)</td>\n",
       "      <td>300</td>\n",
       "      <td>5.0</td>\n",
       "    </tr>\n",
       "    <tr>\n",
       "      <th>11</th>\n",
       "      <td>POINT (2.500 4.000)</td>\n",
       "      <td>800</td>\n",
       "      <td>105.0</td>\n",
       "    </tr>\n",
       "    <tr>\n",
       "      <th>12</th>\n",
       "      <td>POINT (2.500 5.000)</td>\n",
       "      <td>1300</td>\n",
       "      <td>205.0</td>\n",
       "    </tr>\n",
       "    <tr>\n",
       "      <th>13</th>\n",
       "      <td>POINT (2.500 6.000)</td>\n",
       "      <td>1800</td>\n",
       "      <td>305.0</td>\n",
       "    </tr>\n",
       "    <tr>\n",
       "      <th>14</th>\n",
       "      <td>POINT (2.500 7.000)</td>\n",
       "      <td>2300</td>\n",
       "      <td>405.0</td>\n",
       "    </tr>\n",
       "  </tbody>\n",
       "</table>\n",
       "</div>"
      ],
      "text/plain": [
       "               geometry  population  internet_speed\n",
       "0   POINT (0.500 3.000)         100            20.0\n",
       "1   POINT (0.500 4.000)         600           120.0\n",
       "2   POINT (0.500 5.000)        1100           220.0\n",
       "3   POINT (0.500 6.000)        1600           320.0\n",
       "4   POINT (0.500 7.000)        2100           420.0\n",
       "5   POINT (1.500 3.000)         200            10.0\n",
       "6   POINT (1.500 4.000)         700           110.0\n",
       "7   POINT (1.500 5.000)        1200           210.0\n",
       "8   POINT (1.500 6.000)        1700           310.0\n",
       "9   POINT (1.500 7.000)        2200           410.0\n",
       "10  POINT (2.500 3.000)         300             5.0\n",
       "11  POINT (2.500 4.000)         800           105.0\n",
       "12  POINT (2.500 5.000)        1300           205.0\n",
       "13  POINT (2.500 6.000)        1800           305.0\n",
       "14  POINT (2.500 7.000)        2300           405.0"
      ]
     },
     "execution_count": 18,
     "metadata": {},
     "output_type": "execute_result"
    }
   ],
   "source": [
    "simple_point_data"
   ]
  },
  {
   "cell_type": "code",
   "execution_count": 19,
   "id": "f784528a-e90f-4544-9b8b-6d6720019b5e",
   "metadata": {},
   "outputs": [
    {
     "data": {
      "image/png": "[encoded data removed]",
      "text/plain": [
       "<Figure size 432x288 with 1 Axes>"
      ]
     },
     "metadata": {
      "needs_background": "light"
     },
     "output_type": "display_data"
    }
   ],
   "source": [
    "ax = plt.axes()\n",
    "ax = simple_data.plot(\n",
    "    ax=ax, color=[\"orange\", \"brown\", \"purple\"], edgecolor=\"yellow\", alpha=0.4\n",
    ")\n",
    "ax = simple_aoi.plot(ax=ax, facecolor=\"none\", edgecolor=[\"r\", \"g\", \"b\"])\n",
    "ax = simple_point_data.plot(ax=ax)"
   ]
  },
  {
   "cell_type": "markdown",
   "id": "4a54a8c3-0cac-4059-a5e7-da3659e0b0df",
   "metadata": {
    "tags": []
   },
   "source": [
    "The red,green,blue outlines are the 3 regions of interest (aoi) while the orange,brown, purple areas are the data areas. "
   ]
  },
  {
   "cell_type": "code",
   "execution_count": 20,
   "id": "b00ea090-f2a6-4da4-9317-34b5112a4f01",
   "metadata": {
    "tags": []
   },
   "outputs": [
    {
     "name": "stdout",
     "output_type": "stream",
     "text": [
      "CPU times: user 36 ms, sys: 3.39 ms, total: 39.4 ms\n",
      "Wall time: 33.5 ms\n"
     ]
    }
   ],
   "source": [
    "%%time\n",
    "results = create_distance_zonal_stats(\n",
    "    simple_aoi,\n",
    "    simple_point_data,\n",
    "    max_distance=7,\n",
    "    aggregations=[\n",
    "        dict(func=\"count\"),\n",
    "        dict(func=\"sum\", column=\"population\"),\n",
    "        dict(func=\"mean\", column=\"internet_speed\"),\n",
    "    ],\n",
    ")"
   ]
  },
  {
   "cell_type": "code",
   "execution_count": 21,
   "id": "9045bac2-8114-4bde-a0a3-9a15e7f2cec8",
   "metadata": {},
   "outputs": [
    {
     "data": {
      "text/html": [
       "<div>\n",
       "<style scoped>\n",
       "    .dataframe tbody tr th:only-of-type {\n",
       "        vertical-align: middle;\n",
       "    }\n",
       "\n",
       "    .dataframe tbody tr th {\n",
       "        vertical-align: top;\n",
       "    }\n",
       "\n",
       "    .dataframe thead th {\n",
       "        text-align: right;\n",
       "    }\n",
       "</style>\n",
       "<table border=\"1\" class=\"dataframe\">\n",
       "  <thead>\n",
       "    <tr style=\"text-align: right;\">\n",
       "      <th></th>\n",
       "      <th>geometry</th>\n",
       "      <th>index_count</th>\n",
       "      <th>population_sum</th>\n",
       "      <th>internet_speed_mean</th>\n",
       "      <th>nearest</th>\n",
       "    </tr>\n",
       "  </thead>\n",
       "  <tbody>\n",
       "    <tr>\n",
       "      <th>0</th>\n",
       "      <td>POLYGON ((0.000 0.000, 0.000 1.000, 1.000 1.00...</td>\n",
       "      <td>1</td>\n",
       "      <td>100</td>\n",
       "      <td>20.0</td>\n",
       "      <td>2.0</td>\n",
       "    </tr>\n",
       "    <tr>\n",
       "      <th>1</th>\n",
       "      <td>POLYGON ((1.000 0.000, 1.000 1.000, 2.000 1.00...</td>\n",
       "      <td>1</td>\n",
       "      <td>200</td>\n",
       "      <td>10.0</td>\n",
       "      <td>2.0</td>\n",
       "    </tr>\n",
       "    <tr>\n",
       "      <th>2</th>\n",
       "      <td>POLYGON ((2.000 0.000, 2.000 1.000, 3.000 1.00...</td>\n",
       "      <td>1</td>\n",
       "      <td>300</td>\n",
       "      <td>5.0</td>\n",
       "      <td>2.0</td>\n",
       "    </tr>\n",
       "  </tbody>\n",
       "</table>\n",
       "</div>"
      ],
      "text/plain": [
       "                                            geometry  index_count  \\\n",
       "0  POLYGON ((0.000 0.000, 0.000 1.000, 1.000 1.00...            1   \n",
       "1  POLYGON ((1.000 0.000, 1.000 1.000, 2.000 1.00...            1   \n",
       "2  POLYGON ((2.000 0.000, 2.000 1.000, 3.000 1.00...            1   \n",
       "\n",
       "   population_sum  internet_speed_mean  nearest  \n",
       "0             100                 20.0      2.0  \n",
       "1             200                 10.0      2.0  \n",
       "2             300                  5.0      2.0  "
      ]
     },
     "execution_count": 21,
     "metadata": {},
     "output_type": "execute_result"
    }
   ],
   "source": [
    "results"
   ]
  },
  {
   "cell_type": "code",
   "execution_count": 22,
   "id": "c777b2eb-f2ce-4496-9de9-6dcc7a21ae10",
   "metadata": {
    "tags": []
   },
   "outputs": [
    {
     "name": "stdout",
     "output_type": "stream",
     "text": [
      "CPU times: user 30.2 ms, sys: 9.79 ms, total: 40 ms\n",
      "Wall time: 34.4 ms\n"
     ]
    }
   ],
   "source": [
    "%%time\n",
    "results2 = create_distance_zonal_stats(\n",
    "    simple_aoi,\n",
    "    simple_data,\n",
    "    max_distance=1,\n",
    "    aggregations=[\n",
    "        dict(func=\"count\"),\n",
    "        dict(func=\"sum\", column=\"population\"),\n",
    "        dict(func=\"mean\", column=\"internet_speed\"),\n",
    "    ],\n",
    ")"
   ]
  },
  {
   "cell_type": "code",
   "execution_count": 23,
   "id": "e6d18a51-a7da-4359-a88c-3cb38cf18599",
   "metadata": {},
   "outputs": [
    {
     "data": {
      "text/html": [
       "<div>\n",
       "<style scoped>\n",
       "    .dataframe tbody tr th:only-of-type {\n",
       "        vertical-align: middle;\n",
       "    }\n",
       "\n",
       "    .dataframe tbody tr th {\n",
       "        vertical-align: top;\n",
       "    }\n",
       "\n",
       "    .dataframe thead th {\n",
       "        text-align: right;\n",
       "    }\n",
       "</style>\n",
       "<table border=\"1\" class=\"dataframe\">\n",
       "  <thead>\n",
       "    <tr style=\"text-align: right;\">\n",
       "      <th></th>\n",
       "      <th>geometry</th>\n",
       "      <th>index_count</th>\n",
       "      <th>population_sum</th>\n",
       "      <th>internet_speed_mean</th>\n",
       "      <th>nearest</th>\n",
       "    </tr>\n",
       "  </thead>\n",
       "  <tbody>\n",
       "    <tr>\n",
       "      <th>0</th>\n",
       "      <td>POLYGON ((0.000 0.000, 0.000 1.000, 1.000 1.00...</td>\n",
       "      <td>1</td>\n",
       "      <td>100</td>\n",
       "      <td>20.0</td>\n",
       "      <td>0.0</td>\n",
       "    </tr>\n",
       "    <tr>\n",
       "      <th>1</th>\n",
       "      <td>POLYGON ((1.000 0.000, 1.000 1.000, 2.000 1.00...</td>\n",
       "      <td>2</td>\n",
       "      <td>300</td>\n",
       "      <td>15.0</td>\n",
       "      <td>0.0</td>\n",
       "    </tr>\n",
       "    <tr>\n",
       "      <th>2</th>\n",
       "      <td>POLYGON ((2.000 0.000, 2.000 1.000, 3.000 1.00...</td>\n",
       "      <td>2</td>\n",
       "      <td>500</td>\n",
       "      <td>7.5</td>\n",
       "      <td>0.0</td>\n",
       "    </tr>\n",
       "  </tbody>\n",
       "</table>\n",
       "</div>"
      ],
      "text/plain": [
       "                                            geometry  index_count  \\\n",
       "0  POLYGON ((0.000 0.000, 0.000 1.000, 1.000 1.00...            1   \n",
       "1  POLYGON ((1.000 0.000, 1.000 1.000, 2.000 1.00...            2   \n",
       "2  POLYGON ((2.000 0.000, 2.000 1.000, 3.000 1.00...            2   \n",
       "\n",
       "   population_sum  internet_speed_mean  nearest  \n",
       "0             100                 20.0      0.0  \n",
       "1             300                 15.0      0.0  \n",
       "2             500                  7.5      0.0  "
      ]
     },
     "execution_count": 23,
     "metadata": {},
     "output_type": "execute_result"
    }
   ],
   "source": [
    "results2"
   ]
  },
  {
   "cell_type": "markdown",
   "id": "3dc02fb8-1e21-4527-98dd-899e5a9868c2",
   "metadata": {},
   "source": [
    "### Test on custom admin grids"
   ]
  },
  {
   "cell_type": "code",
   "execution_count": 24,
   "id": "f80a8ed4-fb0f-4234-a49a-1208beb3691a",
   "metadata": {
    "tags": []
   },
   "outputs": [
    {
     "name": "stdout",
     "output_type": "stream",
     "text": [
      "CPU times: user 68.8 ms, sys: 45.9 ms, total: 115 ms\n",
      "Wall time: 102 ms\n"
     ]
    }
   ],
   "source": [
    "%%time\n",
    "region3_admin_grids = gpd.read_file(\"../data/region3_admin_grids.geojson\")\n",
    "region3_admin_grids = region3_admin_grids.to_crs(\"EPSG:3857\")  # convert to planar"
   ]
  },
  {
   "cell_type": "code",
   "execution_count": 25,
   "id": "57f7c8bd-e3be-4724-8d26-d782641c40fd",
   "metadata": {},
   "outputs": [
    {
     "name": "stdout",
     "output_type": "stream",
     "text": [
      "CPU times: user 111 ms, sys: 0 ns, total: 111 ms\n",
      "Wall time: 110 ms\n"
     ]
    }
   ],
   "source": [
    "%%time\n",
    "region34ncr_osm_pois = gpd.read_file(\"../data/region34ncr_osm_pois.geojson\")\n",
    "region34ncr_osm_pois = region34ncr_osm_pois.to_crs(\"EPSG:3857\")"
   ]
  },
  {
   "cell_type": "code",
   "execution_count": 26,
   "id": "ad788399-65fe-4132-b8bf-db8579779ec7",
   "metadata": {},
   "outputs": [
    {
     "data": {
      "text/html": [
       "<div>\n",
       "<style scoped>\n",
       "    .dataframe tbody tr th:only-of-type {\n",
       "        vertical-align: middle;\n",
       "    }\n",
       "\n",
       "    .dataframe tbody tr th {\n",
       "        vertical-align: top;\n",
       "    }\n",
       "\n",
       "    .dataframe thead th {\n",
       "        text-align: right;\n",
       "    }\n",
       "</style>\n",
       "<table border=\"1\" class=\"dataframe\">\n",
       "  <thead>\n",
       "    <tr style=\"text-align: right;\">\n",
       "      <th></th>\n",
       "      <th>osm_id</th>\n",
       "      <th>code</th>\n",
       "      <th>fclass</th>\n",
       "      <th>name</th>\n",
       "      <th>BARANGAY_CODE</th>\n",
       "      <th>geometry</th>\n",
       "    </tr>\n",
       "  </thead>\n",
       "  <tbody>\n",
       "    <tr>\n",
       "      <th>0</th>\n",
       "      <td>311568428</td>\n",
       "      <td>2701</td>\n",
       "      <td>tourist_info</td>\n",
       "      <td>Manila American Cemetery and Memorial Visitor ...</td>\n",
       "      <td>137602022</td>\n",
       "      <td>POINT (13475059.129 1636701.151)</td>\n",
       "    </tr>\n",
       "    <tr>\n",
       "      <th>1</th>\n",
       "      <td>672565496</td>\n",
       "      <td>2701</td>\n",
       "      <td>tourist_info</td>\n",
       "      <td>ecopark paging and first aid station</td>\n",
       "      <td>137404141</td>\n",
       "      <td>POINT (13477983.748 1656000.058)</td>\n",
       "    </tr>\n",
       "    <tr>\n",
       "      <th>2</th>\n",
       "      <td>672565498</td>\n",
       "      <td>2701</td>\n",
       "      <td>tourist_info</td>\n",
       "      <td>Ecopark ticket counter</td>\n",
       "      <td>137404141</td>\n",
       "      <td>POINT (13477813.318 1656135.868)</td>\n",
       "    </tr>\n",
       "    <tr>\n",
       "      <th>3</th>\n",
       "      <td>1585389544</td>\n",
       "      <td>2701</td>\n",
       "      <td>tourist_info</td>\n",
       "      <td>Area Formerly Occupied by Fort Bonifacio Museum</td>\n",
       "      <td>137602021</td>\n",
       "      <td>POINT (13476156.594 1637474.593)</td>\n",
       "    </tr>\n",
       "    <tr>\n",
       "      <th>4</th>\n",
       "      <td>1834855424</td>\n",
       "      <td>2701</td>\n",
       "      <td>tourist_info</td>\n",
       "      <td>Lotto Booth</td>\n",
       "      <td>137601020</td>\n",
       "      <td>POINT (13468786.053 1622805.175)</td>\n",
       "    </tr>\n",
       "    <tr>\n",
       "      <th>...</th>\n",
       "      <td>...</td>\n",
       "      <td>...</td>\n",
       "      <td>...</td>\n",
       "      <td>...</td>\n",
       "      <td>...</td>\n",
       "      <td>...</td>\n",
       "    </tr>\n",
       "    <tr>\n",
       "      <th>2829</th>\n",
       "      <td>1282790636</td>\n",
       "      <td>2723</td>\n",
       "      <td>monument</td>\n",
       "      <td>Rizal Monument</td>\n",
       "      <td>030808004</td>\n",
       "      <td>POINT (13387876.843 1652143.344)</td>\n",
       "    </tr>\n",
       "    <tr>\n",
       "      <th>2830</th>\n",
       "      <td>1430752967</td>\n",
       "      <td>2723</td>\n",
       "      <td>monument</td>\n",
       "      <td>Rizal Monument</td>\n",
       "      <td>034903092</td>\n",
       "      <td>POINT (13464327.852 1743609.163)</td>\n",
       "    </tr>\n",
       "    <tr>\n",
       "      <th>2831</th>\n",
       "      <td>2280492117</td>\n",
       "      <td>2723</td>\n",
       "      <td>monument</td>\n",
       "      <td>Rizal Monument</td>\n",
       "      <td>031421037</td>\n",
       "      <td>POINT (13467118.142 1705384.453)</td>\n",
       "    </tr>\n",
       "    <tr>\n",
       "      <th>2832</th>\n",
       "      <td>4898774223</td>\n",
       "      <td>2723</td>\n",
       "      <td>monument</td>\n",
       "      <td>Rizal Monument</td>\n",
       "      <td>035414009</td>\n",
       "      <td>POINT (13434387.128 1685457.796)</td>\n",
       "    </tr>\n",
       "    <tr>\n",
       "      <th>2833</th>\n",
       "      <td>3087522557</td>\n",
       "      <td>2724</td>\n",
       "      <td>memorial</td>\n",
       "      <td>Rizal Monument</td>\n",
       "      <td>031410015</td>\n",
       "      <td>POINT (13448861.946 1672777.772)</td>\n",
       "    </tr>\n",
       "  </tbody>\n",
       "</table>\n",
       "<p>2834 rows × 6 columns</p>\n",
       "</div>"
      ],
      "text/plain": [
       "          osm_id  code        fclass  \\\n",
       "0      311568428  2701  tourist_info   \n",
       "1      672565496  2701  tourist_info   \n",
       "2      672565498  2701  tourist_info   \n",
       "3     1585389544  2701  tourist_info   \n",
       "4     1834855424  2701  tourist_info   \n",
       "...          ...   ...           ...   \n",
       "2829  1282790636  2723      monument   \n",
       "2830  1430752967  2723      monument   \n",
       "2831  2280492117  2723      monument   \n",
       "2832  4898774223  2723      monument   \n",
       "2833  3087522557  2724      memorial   \n",
       "\n",
       "                                                   name BARANGAY_CODE  \\\n",
       "0     Manila American Cemetery and Memorial Visitor ...     137602022   \n",
       "1                  ecopark paging and first aid station     137404141   \n",
       "2                                Ecopark ticket counter     137404141   \n",
       "3       Area Formerly Occupied by Fort Bonifacio Museum     137602021   \n",
       "4                                           Lotto Booth     137601020   \n",
       "...                                                 ...           ...   \n",
       "2829                                     Rizal Monument     030808004   \n",
       "2830                                     Rizal Monument     034903092   \n",
       "2831                                     Rizal Monument     031421037   \n",
       "2832                                     Rizal Monument     035414009   \n",
       "2833                                     Rizal Monument     031410015   \n",
       "\n",
       "                              geometry  \n",
       "0     POINT (13475059.129 1636701.151)  \n",
       "1     POINT (13477983.748 1656000.058)  \n",
       "2     POINT (13477813.318 1656135.868)  \n",
       "3     POINT (13476156.594 1637474.593)  \n",
       "4     POINT (13468786.053 1622805.175)  \n",
       "...                                ...  \n",
       "2829  POINT (13387876.843 1652143.344)  \n",
       "2830  POINT (13464327.852 1743609.163)  \n",
       "2831  POINT (13467118.142 1705384.453)  \n",
       "2832  POINT (13434387.128 1685457.796)  \n",
       "2833  POINT (13448861.946 1672777.772)  \n",
       "\n",
       "[2834 rows x 6 columns]"
      ]
     },
     "execution_count": 26,
     "metadata": {},
     "output_type": "execute_result"
    }
   ],
   "source": [
    "region34ncr_osm_pois"
   ]
  },
  {
   "cell_type": "code",
   "execution_count": 27,
   "id": "b2b3bb5a-f2fd-40f6-b0ce-f9d6f9dee9bb",
   "metadata": {
    "tags": []
   },
   "outputs": [
    {
     "name": "stdout",
     "output_type": "stream",
     "text": [
      "CPU times: user 59.7 ms, sys: 0 ns, total: 59.7 ms\n",
      "Wall time: 57.5 ms\n"
     ]
    }
   ],
   "source": [
    "%%time\n",
    "results3 = create_distance_zonal_stats(\n",
    "    region3_admin_grids,\n",
    "    region34ncr_osm_pois,\n",
    "    max_distance=10_000,\n",
    "    aggregations=[dict(func=\"count\", output=\"pois_count\", fillna=[True])],\n",
    ")"
   ]
  },
  {
   "cell_type": "code",
   "execution_count": 28,
   "id": "3ea5ff55-e847-4d29-bd07-da6fb88258c4",
   "metadata": {},
   "outputs": [
    {
     "data": {
      "text/plain": [
       "165"
      ]
     },
     "execution_count": 28,
     "metadata": {},
     "output_type": "execute_result"
    }
   ],
   "source": [
    "len(results3[results3.pois_count == 0.0])"
   ]
  },
  {
   "cell_type": "code",
   "execution_count": 29,
   "id": "49cee5c4-7177-4e99-b37c-015f5bca7b93",
   "metadata": {},
   "outputs": [
    {
     "data": {
      "text/html": [
       "<div>\n",
       "<style scoped>\n",
       "    .dataframe tbody tr th:only-of-type {\n",
       "        vertical-align: middle;\n",
       "    }\n",
       "\n",
       "    .dataframe tbody tr th {\n",
       "        vertical-align: top;\n",
       "    }\n",
       "\n",
       "    .dataframe thead th {\n",
       "        text-align: right;\n",
       "    }\n",
       "</style>\n",
       "<table border=\"1\" class=\"dataframe\">\n",
       "  <thead>\n",
       "    <tr style=\"text-align: right;\">\n",
       "      <th></th>\n",
       "      <th>x</th>\n",
       "      <th>y</th>\n",
       "      <th>geometry</th>\n",
       "      <th>pois_count</th>\n",
       "      <th>nearest</th>\n",
       "    </tr>\n",
       "  </thead>\n",
       "  <tbody>\n",
       "    <tr>\n",
       "      <th>0</th>\n",
       "      <td>0</td>\n",
       "      <td>30</td>\n",
       "      <td>POLYGON ((13334497.956 1771012.807, 13339497.9...</td>\n",
       "      <td>1.0</td>\n",
       "      <td>8849.591855</td>\n",
       "    </tr>\n",
       "    <tr>\n",
       "      <th>1</th>\n",
       "      <td>0</td>\n",
       "      <td>31</td>\n",
       "      <td>POLYGON ((13334497.956 1776012.807, 13339497.9...</td>\n",
       "      <td>1.0</td>\n",
       "      <td>8844.448848</td>\n",
       "    </tr>\n",
       "    <tr>\n",
       "      <th>2</th>\n",
       "      <td>0</td>\n",
       "      <td>32</td>\n",
       "      <td>POLYGON ((13334497.956 1781012.807, 13339497.9...</td>\n",
       "      <td>0.0</td>\n",
       "      <td>NaN</td>\n",
       "    </tr>\n",
       "    <tr>\n",
       "      <th>3</th>\n",
       "      <td>1</td>\n",
       "      <td>30</td>\n",
       "      <td>POLYGON ((13339497.956 1771012.807, 13344497.9...</td>\n",
       "      <td>1.0</td>\n",
       "      <td>3856.266007</td>\n",
       "    </tr>\n",
       "    <tr>\n",
       "      <th>4</th>\n",
       "      <td>1</td>\n",
       "      <td>32</td>\n",
       "      <td>POLYGON ((13339497.956 1781012.807, 13344497.9...</td>\n",
       "      <td>1.0</td>\n",
       "      <td>6070.762498</td>\n",
       "    </tr>\n",
       "    <tr>\n",
       "      <th>...</th>\n",
       "      <td>...</td>\n",
       "      <td>...</td>\n",
       "      <td>...</td>\n",
       "      <td>...</td>\n",
       "      <td>...</td>\n",
       "    </tr>\n",
       "    <tr>\n",
       "      <th>1069</th>\n",
       "      <td>54</td>\n",
       "      <td>44</td>\n",
       "      <td>POLYGON ((13604497.956 1841012.807, 13609497.9...</td>\n",
       "      <td>1.0</td>\n",
       "      <td>674.134053</td>\n",
       "    </tr>\n",
       "    <tr>\n",
       "      <th>1070</th>\n",
       "      <td>54</td>\n",
       "      <td>45</td>\n",
       "      <td>POLYGON ((13604497.956 1846012.807, 13609497.9...</td>\n",
       "      <td>2.0</td>\n",
       "      <td>0.000000</td>\n",
       "    </tr>\n",
       "    <tr>\n",
       "      <th>1071</th>\n",
       "      <td>54</td>\n",
       "      <td>46</td>\n",
       "      <td>POLYGON ((13604497.956 1851012.807, 13609497.9...</td>\n",
       "      <td>1.0</td>\n",
       "      <td>4237.158313</td>\n",
       "    </tr>\n",
       "    <tr>\n",
       "      <th>1072</th>\n",
       "      <td>54</td>\n",
       "      <td>47</td>\n",
       "      <td>POLYGON ((13604497.956 1856012.807, 13609497.9...</td>\n",
       "      <td>1.0</td>\n",
       "      <td>9237.158313</td>\n",
       "    </tr>\n",
       "    <tr>\n",
       "      <th>1073</th>\n",
       "      <td>54</td>\n",
       "      <td>48</td>\n",
       "      <td>POLYGON ((13604497.956 1861012.807, 13609497.9...</td>\n",
       "      <td>0.0</td>\n",
       "      <td>NaN</td>\n",
       "    </tr>\n",
       "  </tbody>\n",
       "</table>\n",
       "<p>1074 rows × 5 columns</p>\n",
       "</div>"
      ],
      "text/plain": [
       "       x   y                                           geometry  pois_count  \\\n",
       "0      0  30  POLYGON ((13334497.956 1771012.807, 13339497.9...         1.0   \n",
       "1      0  31  POLYGON ((13334497.956 1776012.807, 13339497.9...         1.0   \n",
       "2      0  32  POLYGON ((13334497.956 1781012.807, 13339497.9...         0.0   \n",
       "3      1  30  POLYGON ((13339497.956 1771012.807, 13344497.9...         1.0   \n",
       "4      1  32  POLYGON ((13339497.956 1781012.807, 13344497.9...         1.0   \n",
       "...   ..  ..                                                ...         ...   \n",
       "1069  54  44  POLYGON ((13604497.956 1841012.807, 13609497.9...         1.0   \n",
       "1070  54  45  POLYGON ((13604497.956 1846012.807, 13609497.9...         2.0   \n",
       "1071  54  46  POLYGON ((13604497.956 1851012.807, 13609497.9...         1.0   \n",
       "1072  54  47  POLYGON ((13604497.956 1856012.807, 13609497.9...         1.0   \n",
       "1073  54  48  POLYGON ((13604497.956 1861012.807, 13609497.9...         0.0   \n",
       "\n",
       "          nearest  \n",
       "0     8849.591855  \n",
       "1     8844.448848  \n",
       "2             NaN  \n",
       "3     3856.266007  \n",
       "4     6070.762498  \n",
       "...           ...  \n",
       "1069   674.134053  \n",
       "1070     0.000000  \n",
       "1071  4237.158313  \n",
       "1072  9237.158313  \n",
       "1073          NaN  \n",
       "\n",
       "[1074 rows x 5 columns]"
      ]
     },
     "execution_count": 29,
     "metadata": {},
     "output_type": "execute_result"
    }
   ],
   "source": [
    "results3"
   ]
  }
 ],
 "metadata": {
  "kernelspec": {
   "display_name": "Python 3",
   "language": "python",
   "name": "python3"
  },
  "language_info": {
   "codemirror_mode": {
    "name": "ipython",
    "version": 3
   },
   "file_extension": ".py",
   "mimetype": "text/x-python",
   "name": "python",
   "nbconvert_exporter": "python",
   "pygments_lexer": "ipython3",
   "version": "3.9.13"
  }
 },
 "nbformat": 4,
 "nbformat_minor": 5
}
