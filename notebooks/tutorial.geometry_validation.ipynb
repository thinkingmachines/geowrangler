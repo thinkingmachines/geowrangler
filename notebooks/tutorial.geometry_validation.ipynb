{
 "cells": [
  {
   "cell_type": "markdown",
   "metadata": {},
   "source": [
    "# Geometry Validation Tutorial"
   ]
  },
  {
   "cell_type": "markdown",
   "metadata": {},
   "source": [
    "> A basic introduction to using geometry validation"
   ]
  },
  {
   "cell_type": "markdown",
   "metadata": {},
   "source": [
    "[![Open in Colab](https://colab.research.google.com/assets/colab-badge.svg)](https://colab.research.google.com/github/thinkingmachines/geowrangler/blob/master/notebooks/tutorials.geometry_validation.ipynb)\n"
   ]
  },
  {
   "cell_type": "markdown",
   "metadata": {},
   "source": [
    "## Basic Usage\n",
    "Loading a geojson with invalid geometries"
   ]
  },
  {
   "cell_type": "code",
   "execution_count": 1,
   "metadata": {},
   "outputs": [
    {
     "data": {
      "text/html": [
       "<div>\n",
       "<style scoped>\n",
       "    .dataframe tbody tr th:only-of-type {\n",
       "        vertical-align: middle;\n",
       "    }\n",
       "\n",
       "    .dataframe tbody tr th {\n",
       "        vertical-align: top;\n",
       "    }\n",
       "\n",
       "    .dataframe thead th {\n",
       "        text-align: right;\n",
       "    }\n",
       "</style>\n",
       "<table border=\"1\" class=\"dataframe\">\n",
       "  <thead>\n",
       "    <tr style=\"text-align: right;\">\n",
       "      <th></th>\n",
       "      <th>id</th>\n",
       "      <th>geometry</th>\n",
       "    </tr>\n",
       "  </thead>\n",
       "  <tbody>\n",
       "    <tr>\n",
       "      <th>0</th>\n",
       "      <td>valid</td>\n",
       "      <td>POLYGON ((0.00000 0.00000, 1.00000 0.00000, 0....</td>\n",
       "    </tr>\n",
       "    <tr>\n",
       "      <th>1</th>\n",
       "      <td>out_of_crs_bounds</td>\n",
       "      <td>POLYGON ((200.00000 0.00000, 1.00000 0.00000, ...</td>\n",
       "    </tr>\n",
       "    <tr>\n",
       "      <th>2</th>\n",
       "      <td>misoriented</td>\n",
       "      <td>POLYGON ((0.00000 0.00000, 0.00000 1.00000, 1....</td>\n",
       "    </tr>\n",
       "    <tr>\n",
       "      <th>3</th>\n",
       "      <td>self_intersecting</td>\n",
       "      <td>POLYGON ((0.00000 0.00000, 0.00000 2.00000, 1....</td>\n",
       "    </tr>\n",
       "  </tbody>\n",
       "</table>\n",
       "</div>"
      ],
      "text/plain": [
       "                  id                                           geometry\n",
       "0              valid  POLYGON ((0.00000 0.00000, 1.00000 0.00000, 0....\n",
       "1  out_of_crs_bounds  POLYGON ((200.00000 0.00000, 1.00000 0.00000, ...\n",
       "2        misoriented  POLYGON ((0.00000 0.00000, 0.00000 1.00000, 1....\n",
       "3  self_intersecting  POLYGON ((0.00000 0.00000, 0.00000 2.00000, 1...."
      ]
     },
     "execution_count": 1,
     "metadata": {},
     "output_type": "execute_result"
    }
   ],
   "source": [
    "import geopandas as gpd\n",
    "\n",
    "gdf = gpd.read_file(\"../data/broken.geojson\")\n",
    "gdf"
   ]
  },
  {
   "cell_type": "markdown",
   "metadata": {},
   "source": [
    "We then run Geometry Validation. By default, these append a new column if the validation fails, applies a fix if possible, and raises a warning if no fix is available. "
   ]
  },
  {
   "cell_type": "code",
   "execution_count": 2,
   "metadata": {},
   "outputs": [
    {
     "ename": "TypeError",
     "evalue": "issubclass() arg 1 must be a class",
     "output_type": "error",
     "traceback": [
      "\u001b[0;31m---------------------------------------------------------------------------\u001b[0m",
      "\u001b[0;31mTypeError\u001b[0m                                 Traceback (most recent call last)",
      "Input \u001b[0;32mIn [2]\u001b[0m, in \u001b[0;36m<cell line: 5>\u001b[0;34m()\u001b[0m\n\u001b[1;32m      1\u001b[0m \u001b[38;5;28;01mfrom\u001b[39;00m \u001b[38;5;21;01mgeowrangler\u001b[39;00m\u001b[38;5;21;01m.\u001b[39;00m\u001b[38;5;21;01mvalidation\u001b[39;00m \u001b[38;5;28;01mimport\u001b[39;00m GeometryValidation\n\u001b[1;32m      3\u001b[0m GeometryValidation(gdf)\n\u001b[0;32m----> 5\u001b[0m validated_gdf \u001b[38;5;241m=\u001b[39m \u001b[43mGeometryValidation\u001b[49m\u001b[43m(\u001b[49m\u001b[43mgdf\u001b[49m\u001b[43m)\u001b[49m\u001b[38;5;241;43m.\u001b[39;49m\u001b[43mvalidate_all\u001b[49m\u001b[43m(\u001b[49m\u001b[43m)\u001b[49m\n\u001b[1;32m      6\u001b[0m validated_gdf\n",
      "File \u001b[0;32m~/work/ai4d/geowrangler/geowrangler/validation.py:246\u001b[0m, in \u001b[0;36mvalidate_all\u001b[0;34m(self)\u001b[0m\n\u001b[1;32m    243\u001b[0m \u001b[38;5;129m@patch\u001b[39m\n\u001b[1;32m    244\u001b[0m \u001b[38;5;28;01mdef\u001b[39;00m \u001b[38;5;21mvalidate_all\u001b[39m(\u001b[38;5;28mself\u001b[39m: GeometryValidation) \u001b[38;5;241m-\u001b[39m\u001b[38;5;241m>\u001b[39m gpd\u001b[38;5;241m.\u001b[39mGeoDataFrame:\n\u001b[1;32m    245\u001b[0m     \u001b[38;5;124;03m\"\"\"Sequentially run validators\"\"\"\u001b[39;00m\n\u001b[0;32m--> 246\u001b[0m     validators \u001b[38;5;241m=\u001b[39m \u001b[38;5;28;43mself\u001b[39;49m\u001b[38;5;241;43m.\u001b[39;49m\u001b[43m_get_validators\u001b[49m\u001b[43m(\u001b[49m\u001b[43m)\u001b[49m\n\u001b[1;32m    247\u001b[0m     gdf \u001b[38;5;241m=\u001b[39m \u001b[38;5;28mself\u001b[39m\u001b[38;5;241m.\u001b[39mgdf\n\u001b[1;32m    248\u001b[0m     \u001b[38;5;28;01mfor\u001b[39;00m validator \u001b[38;5;129;01min\u001b[39;00m validators:\n",
      "File \u001b[0;32m~/work/ai4d/geowrangler/geowrangler/validation.py:236\u001b[0m, in \u001b[0;36mGeometryValidation._get_validators\u001b[0;34m(self)\u001b[0m\n\u001b[1;32m    234\u001b[0m \u001b[38;5;28;01melif\u001b[39;00m \u001b[38;5;28missubclass\u001b[39m(validator, BaseValidator):\n\u001b[1;32m    235\u001b[0m     validators_classes\u001b[38;5;241m.\u001b[39mappend(validator)\n\u001b[0;32m--> 236\u001b[0m \u001b[38;5;28;01mif\u001b[39;00m \u001b[38;5;28;43missubclass\u001b[39;49m\u001b[43m(\u001b[49m\u001b[43mvalidator\u001b[49m\u001b[43m,\u001b[49m\u001b[43m \u001b[49m\u001b[43mBaseValidator\u001b[49m\u001b[43m)\u001b[49m:\n\u001b[1;32m    237\u001b[0m     validators_classes\u001b[38;5;241m.\u001b[39mappend(validator)\n\u001b[1;32m    238\u001b[0m \u001b[38;5;28;01melse\u001b[39;00m:\n",
      "File \u001b[0;32m/usr/lib/python3.9/abc.py:123\u001b[0m, in \u001b[0;36mABCMeta.__subclasscheck__\u001b[0;34m(cls, subclass)\u001b[0m\n\u001b[1;32m    121\u001b[0m \u001b[38;5;28;01mdef\u001b[39;00m \u001b[38;5;21m__subclasscheck__\u001b[39m(\u001b[38;5;28mcls\u001b[39m, subclass):\n\u001b[1;32m    122\u001b[0m     \u001b[38;5;124;03m\"\"\"Override for issubclass(subclass, cls).\"\"\"\u001b[39;00m\n\u001b[0;32m--> 123\u001b[0m     \u001b[38;5;28;01mreturn\u001b[39;00m \u001b[43m_abc_subclasscheck\u001b[49m\u001b[43m(\u001b[49m\u001b[38;5;28;43mcls\u001b[39;49m\u001b[43m,\u001b[49m\u001b[43m \u001b[49m\u001b[43msubclass\u001b[49m\u001b[43m)\u001b[49m\n",
      "\u001b[0;31mTypeError\u001b[0m: issubclass() arg 1 must be a class"
     ]
    }
   ],
   "source": [
    "from geowrangler.validation import GeometryValidation\n",
    "\n",
    "GeometryValidation(gdf)\n",
    "\n",
    "validated_gdf = GeometryValidation(gdf).validate_all()\n",
    "validated_gdf"
   ]
  },
  {
   "cell_type": "markdown",
   "metadata": {},
   "source": [
    "Running the validation again shows that validation applies some fixes"
   ]
  },
  {
   "cell_type": "code",
   "execution_count": null,
   "metadata": {},
   "outputs": [],
   "source": [
    "GeometryValidation(validated_gdf[[\"id\", \"geometry\"]]).validate_all()"
   ]
  },
  {
   "cell_type": "markdown",
   "metadata": {},
   "source": [
    "## Passing Validators\n",
    "You can pass a list of Validators to selective run validators, the default uses the following\n",
    "`[\"null\", \"self_intersecting\", \"orientation\", \"crs_bounds\",]` "
   ]
  },
  {
   "cell_type": "code",
   "execution_count": null,
   "metadata": {},
   "outputs": [],
   "source": [
    "from geowrangler.validation import NullValidator, SelfIntersectingValidator\n",
    "\n",
    "validated_gdf = GeometryValidation(\n",
    "    gdf, validators=[NullValidator, SelfIntersectingValidator]\n",
    ").validate_all()\n",
    "validated_gdf"
   ]
  },
  {
   "cell_type": "markdown",
   "metadata": {},
   "source": [
    "You can also use a single validator at a time"
   ]
  },
  {
   "cell_type": "code",
   "execution_count": null,
   "metadata": {},
   "outputs": [],
   "source": [
    "SelfIntersectingValidator().validate(gdf)"
   ]
  },
  {
   "cell_type": "markdown",
   "metadata": {},
   "source": [
    "## Building your own validator\n",
    "Let's build a validator that check if the is point below 0 in the x axis, if that is the case we set it to 0"
   ]
  },
  {
   "cell_type": "code",
   "execution_count": null,
   "metadata": {},
   "outputs": [],
   "source": [
    "from shapely.geometry.point import Point\n",
    "from shapely.geometry.polygon import Polygon\n",
    "\n",
    "from geowrangler.validation import BaseValidator\n",
    "\n",
    "\n",
    "class PointValidator(BaseValidator):\n",
    "    validator_column_name = \"is_not_point\"\n",
    "    geometry_types = [\"Point\"]  # What kind of geometies to validate and fix\n",
    "\n",
    "    def check(self, geometry):\n",
    "        return geometry.x > 0\n",
    "\n",
    "    def fix(self, geometry):\n",
    "        return Point(0, geometry.y)\n",
    "\n",
    "\n",
    "gdf = gpd.GeoDataFrame(\n",
    "    geometry=[Point(-0.1, 0), Polygon([(-0.1, 0.1), (-0.1, 1), (1, 1)])]\n",
    ")\n",
    "validated_gdf = PointValidator().validate(gdf)\n",
    "gdf.plot()\n",
    "validated_gdf.plot()"
   ]
  },
  {
   "cell_type": "markdown",
   "metadata": {},
   "source": [
    "There are several cases where no fix is available or you want to fix them manualy, we can create a validator that warns the users. "
   ]
  },
  {
   "cell_type": "code",
   "execution_count": null,
   "metadata": {},
   "outputs": [],
   "source": [
    "from shapely.geometry.point import Point\n",
    "from shapely.geometry.polygon import Polygon\n",
    "\n",
    "from geowrangler.validation import BaseValidator\n",
    "\n",
    "\n",
    "class PointValidator(BaseValidator):\n",
    "    validator_column_name = \"is_not_point\"\n",
    "    fix_available = False  # Telling the validator that there is no available fixes\n",
    "    warning_message = \"Found geometries that are points below 0\"  # warning message\n",
    "    geometry_types = [\"Point\"]  # What kind of geometies to validate and fix\n",
    "\n",
    "    def check(self, geometry):\n",
    "        return geometry.x > 0\n",
    "\n",
    "\n",
    "gdf = gpd.GeoDataFrame(geometry=[Point(-0.1, 0), Polygon([(0, 0.0), (0, 1), (1, 1)])])\n",
    "validated_gdf = PointValidator().validate(gdf)\n",
    "validated_gdf"
   ]
  },
  {
   "cell_type": "code",
   "execution_count": null,
   "metadata": {},
   "outputs": [],
   "source": []
  }
 ],
 "metadata": {
  "kernelspec": {
   "display_name": "Python 3",
   "language": "python",
   "name": "python3"
  },
  "language_info": {
   "codemirror_mode": {
    "name": "ipython",
    "version": 3
   },
   "file_extension": ".py",
   "mimetype": "text/x-python",
   "name": "python",
   "nbconvert_exporter": "python",
   "pygments_lexer": "ipython3",
   "version": "3.9.12"
  }
 },
 "nbformat": 4,
 "nbformat_minor": 4
}
