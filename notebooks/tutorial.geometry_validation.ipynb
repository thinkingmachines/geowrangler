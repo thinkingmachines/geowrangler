{
 "cells": [
  {
   "cell_type": "markdown",
   "metadata": {},
   "source": [
    "# Geometry Validation Tutorial"
   ]
  },
  {
   "cell_type": "markdown",
   "metadata": {},
   "source": [
    "> A basic introduction to using geometry validation"
   ]
  },
  {
   "cell_type": "markdown",
   "metadata": {},
   "source": [
    "## Basic Usage\n",
    "Loading a geojson with invalid geometries"
   ]
  },
  {
   "cell_type": "code",
   "execution_count": 1,
   "metadata": {},
   "outputs": [
    {
     "data": {
      "text/html": [
       "<div>\n",
       "<style scoped>\n",
       "    .dataframe tbody tr th:only-of-type {\n",
       "        vertical-align: middle;\n",
       "    }\n",
       "\n",
       "    .dataframe tbody tr th {\n",
       "        vertical-align: top;\n",
       "    }\n",
       "\n",
       "    .dataframe thead th {\n",
       "        text-align: right;\n",
       "    }\n",
       "</style>\n",
       "<table border=\"1\" class=\"dataframe\">\n",
       "  <thead>\n",
       "    <tr style=\"text-align: right;\">\n",
       "      <th></th>\n",
       "      <th>id</th>\n",
       "      <th>geometry</th>\n",
       "    </tr>\n",
       "  </thead>\n",
       "  <tbody>\n",
       "    <tr>\n",
       "      <th>0</th>\n",
       "      <td>valid</td>\n",
       "      <td>POLYGON ((0.00000 0.00000, 1.00000 0.00000, 0....</td>\n",
       "    </tr>\n",
       "    <tr>\n",
       "      <th>1</th>\n",
       "      <td>out_of_crs_bounds</td>\n",
       "      <td>POLYGON ((200.00000 0.00000, 1.00000 0.00000, ...</td>\n",
       "    </tr>\n",
       "    <tr>\n",
       "      <th>2</th>\n",
       "      <td>misoriented</td>\n",
       "      <td>POLYGON ((0.00000 0.00000, 0.00000 1.00000, 1....</td>\n",
       "    </tr>\n",
       "    <tr>\n",
       "      <th>3</th>\n",
       "      <td>self_intersecting</td>\n",
       "      <td>POLYGON ((0.00000 0.00000, 0.00000 2.00000, 1....</td>\n",
       "    </tr>\n",
       "  </tbody>\n",
       "</table>\n",
       "</div>"
      ],
      "text/plain": [
       "                  id                                           geometry\n",
       "0              valid  POLYGON ((0.00000 0.00000, 1.00000 0.00000, 0....\n",
       "1  out_of_crs_bounds  POLYGON ((200.00000 0.00000, 1.00000 0.00000, ...\n",
       "2        misoriented  POLYGON ((0.00000 0.00000, 0.00000 1.00000, 1....\n",
       "3  self_intersecting  POLYGON ((0.00000 0.00000, 0.00000 2.00000, 1...."
      ]
     },
     "execution_count": 1,
     "metadata": {},
     "output_type": "execute_result"
    }
   ],
   "source": [
    "import geopandas as gpd\n",
    "\n",
    "gdf = gpd.read_file(\"../data/broken.geojson\")\n",
    "gdf"
   ]
  },
  {
   "cell_type": "markdown",
   "metadata": {},
   "source": [
    "We then run Geometry Validation. By default, these append a new column if the validation failsm, applies a fix if possible, and raises a warning if no fix is available. "
   ]
  },
  {
   "cell_type": "code",
   "execution_count": 2,
   "metadata": {},
   "outputs": [
    {
     "name": "stderr",
     "output_type": "stream",
     "text": [
      "/home/jt/repos/geowrangler/geowrangler/validation.py:81: UserWarning: Found geometries out of bounds from crs\n",
      "  warnings.warn(self.warning_message)\n",
      "/home/jt/repos/geowrangler/geowrangler/validation.py:81: UserWarning: Found geometries out of bounds from crs\n",
      "  warnings.warn(self.warning_message)\n"
     ]
    },
    {
     "data": {
      "text/html": [
       "<div>\n",
       "<style scoped>\n",
       "    .dataframe tbody tr th:only-of-type {\n",
       "        vertical-align: middle;\n",
       "    }\n",
       "\n",
       "    .dataframe tbody tr th {\n",
       "        vertical-align: top;\n",
       "    }\n",
       "\n",
       "    .dataframe thead th {\n",
       "        text-align: right;\n",
       "    }\n",
       "</style>\n",
       "<table border=\"1\" class=\"dataframe\">\n",
       "  <thead>\n",
       "    <tr style=\"text-align: right;\">\n",
       "      <th></th>\n",
       "      <th>id</th>\n",
       "      <th>geometry</th>\n",
       "      <th>is_not_null</th>\n",
       "      <th>is_not_self_intersecting</th>\n",
       "      <th>is_oriented_properly</th>\n",
       "      <th>is_within_crs_bounds</th>\n",
       "    </tr>\n",
       "  </thead>\n",
       "  <tbody>\n",
       "    <tr>\n",
       "      <th>0</th>\n",
       "      <td>valid</td>\n",
       "      <td>POLYGON ((0.00000 0.00000, 1.00000 0.00000, 0....</td>\n",
       "      <td>True</td>\n",
       "      <td>True</td>\n",
       "      <td>True</td>\n",
       "      <td>True</td>\n",
       "    </tr>\n",
       "    <tr>\n",
       "      <th>1</th>\n",
       "      <td>out_of_crs_bounds</td>\n",
       "      <td>POLYGON ((200.00000 0.00000, 0.00000 1.00000, ...</td>\n",
       "      <td>True</td>\n",
       "      <td>True</td>\n",
       "      <td>True</td>\n",
       "      <td>False</td>\n",
       "    </tr>\n",
       "    <tr>\n",
       "      <th>2</th>\n",
       "      <td>misoriented</td>\n",
       "      <td>POLYGON ((0.00000 0.00000, 1.00000 0.00000, 1....</td>\n",
       "      <td>True</td>\n",
       "      <td>True</td>\n",
       "      <td>True</td>\n",
       "      <td>True</td>\n",
       "    </tr>\n",
       "    <tr>\n",
       "      <th>3</th>\n",
       "      <td>self_intersecting</td>\n",
       "      <td>MULTIPOLYGON (((1.00000 1.00000, 0.00000 2.000...</td>\n",
       "      <td>True</td>\n",
       "      <td>True</td>\n",
       "      <td>True</td>\n",
       "      <td>True</td>\n",
       "    </tr>\n",
       "  </tbody>\n",
       "</table>\n",
       "</div>"
      ],
      "text/plain": [
       "                  id                                           geometry  \\\n",
       "0              valid  POLYGON ((0.00000 0.00000, 1.00000 0.00000, 0....   \n",
       "1  out_of_crs_bounds  POLYGON ((200.00000 0.00000, 0.00000 1.00000, ...   \n",
       "2        misoriented  POLYGON ((0.00000 0.00000, 1.00000 0.00000, 1....   \n",
       "3  self_intersecting  MULTIPOLYGON (((1.00000 1.00000, 0.00000 2.000...   \n",
       "\n",
       "   is_not_null  is_not_self_intersecting  is_oriented_properly  \\\n",
       "0         True                      True                  True   \n",
       "1         True                      True                  True   \n",
       "2         True                      True                  True   \n",
       "3         True                      True                  True   \n",
       "\n",
       "   is_within_crs_bounds  \n",
       "0                  True  \n",
       "1                 False  \n",
       "2                  True  \n",
       "3                  True  "
      ]
     },
     "execution_count": 2,
     "metadata": {},
     "output_type": "execute_result"
    }
   ],
   "source": [
    "from geowrangler.validation import GeometryValidation\n",
    "\n",
    "validated_gdf = GeometryValidation(gdf).validate_all()\n",
    "validated_gdf"
   ]
  },
  {
   "cell_type": "markdown",
   "metadata": {},
   "source": [
    "Running the validation again shows that validation applies some fixes"
   ]
  },
  {
   "cell_type": "code",
   "execution_count": 3,
   "metadata": {},
   "outputs": [
    {
     "name": "stderr",
     "output_type": "stream",
     "text": [
      "/home/jt/repos/geowrangler/geowrangler/validation.py:81: UserWarning: Found geometries out of bounds from crs\n",
      "  warnings.warn(self.warning_message)\n",
      "/home/jt/repos/geowrangler/geowrangler/validation.py:81: UserWarning: Found geometries out of bounds from crs\n",
      "  warnings.warn(self.warning_message)\n"
     ]
    },
    {
     "data": {
      "text/html": [
       "<div>\n",
       "<style scoped>\n",
       "    .dataframe tbody tr th:only-of-type {\n",
       "        vertical-align: middle;\n",
       "    }\n",
       "\n",
       "    .dataframe tbody tr th {\n",
       "        vertical-align: top;\n",
       "    }\n",
       "\n",
       "    .dataframe thead th {\n",
       "        text-align: right;\n",
       "    }\n",
       "</style>\n",
       "<table border=\"1\" class=\"dataframe\">\n",
       "  <thead>\n",
       "    <tr style=\"text-align: right;\">\n",
       "      <th></th>\n",
       "      <th>id</th>\n",
       "      <th>geometry</th>\n",
       "      <th>is_not_null</th>\n",
       "      <th>is_not_self_intersecting</th>\n",
       "      <th>is_oriented_properly</th>\n",
       "      <th>is_within_crs_bounds</th>\n",
       "    </tr>\n",
       "  </thead>\n",
       "  <tbody>\n",
       "    <tr>\n",
       "      <th>0</th>\n",
       "      <td>valid</td>\n",
       "      <td>POLYGON ((0.00000 0.00000, 1.00000 0.00000, 0....</td>\n",
       "      <td>True</td>\n",
       "      <td>True</td>\n",
       "      <td>True</td>\n",
       "      <td>True</td>\n",
       "    </tr>\n",
       "    <tr>\n",
       "      <th>1</th>\n",
       "      <td>out_of_crs_bounds</td>\n",
       "      <td>POLYGON ((200.00000 0.00000, 0.00000 1.00000, ...</td>\n",
       "      <td>True</td>\n",
       "      <td>True</td>\n",
       "      <td>True</td>\n",
       "      <td>False</td>\n",
       "    </tr>\n",
       "    <tr>\n",
       "      <th>2</th>\n",
       "      <td>misoriented</td>\n",
       "      <td>POLYGON ((0.00000 0.00000, 1.00000 0.00000, 1....</td>\n",
       "      <td>True</td>\n",
       "      <td>True</td>\n",
       "      <td>True</td>\n",
       "      <td>True</td>\n",
       "    </tr>\n",
       "    <tr>\n",
       "      <th>3</th>\n",
       "      <td>self_intersecting</td>\n",
       "      <td>MULTIPOLYGON (((1.00000 1.00000, 0.00000 2.000...</td>\n",
       "      <td>True</td>\n",
       "      <td>True</td>\n",
       "      <td>True</td>\n",
       "      <td>True</td>\n",
       "    </tr>\n",
       "  </tbody>\n",
       "</table>\n",
       "</div>"
      ],
      "text/plain": [
       "                  id                                           geometry  \\\n",
       "0              valid  POLYGON ((0.00000 0.00000, 1.00000 0.00000, 0....   \n",
       "1  out_of_crs_bounds  POLYGON ((200.00000 0.00000, 0.00000 1.00000, ...   \n",
       "2        misoriented  POLYGON ((0.00000 0.00000, 1.00000 0.00000, 1....   \n",
       "3  self_intersecting  MULTIPOLYGON (((1.00000 1.00000, 0.00000 2.000...   \n",
       "\n",
       "   is_not_null  is_not_self_intersecting  is_oriented_properly  \\\n",
       "0         True                      True                  True   \n",
       "1         True                      True                  True   \n",
       "2         True                      True                  True   \n",
       "3         True                      True                  True   \n",
       "\n",
       "   is_within_crs_bounds  \n",
       "0                  True  \n",
       "1                 False  \n",
       "2                  True  \n",
       "3                  True  "
      ]
     },
     "execution_count": 3,
     "metadata": {},
     "output_type": "execute_result"
    }
   ],
   "source": [
    "GeometryValidation(validated_gdf[[\"id\", \"geometry\"]]).validate_all()"
   ]
  },
  {
   "cell_type": "markdown",
   "metadata": {},
   "source": [
    "## Passing Validators\n",
    "You can pass a list of Validators to selective run validators, the default uses the following\n",
    "`[\"null\", \"self_intersecting\", \"orientation\", \"crs_bounds\",]` "
   ]
  },
  {
   "cell_type": "code",
   "execution_count": 4,
   "metadata": {},
   "outputs": [
    {
     "data": {
      "text/html": [
       "<div>\n",
       "<style scoped>\n",
       "    .dataframe tbody tr th:only-of-type {\n",
       "        vertical-align: middle;\n",
       "    }\n",
       "\n",
       "    .dataframe tbody tr th {\n",
       "        vertical-align: top;\n",
       "    }\n",
       "\n",
       "    .dataframe thead th {\n",
       "        text-align: right;\n",
       "    }\n",
       "</style>\n",
       "<table border=\"1\" class=\"dataframe\">\n",
       "  <thead>\n",
       "    <tr style=\"text-align: right;\">\n",
       "      <th></th>\n",
       "      <th>id</th>\n",
       "      <th>geometry</th>\n",
       "      <th>is_not_null</th>\n",
       "      <th>is_not_self_intersecting</th>\n",
       "    </tr>\n",
       "  </thead>\n",
       "  <tbody>\n",
       "    <tr>\n",
       "      <th>0</th>\n",
       "      <td>valid</td>\n",
       "      <td>POLYGON ((0.00000 0.00000, 1.00000 0.00000, 0....</td>\n",
       "      <td>True</td>\n",
       "      <td>True</td>\n",
       "    </tr>\n",
       "    <tr>\n",
       "      <th>1</th>\n",
       "      <td>out_of_crs_bounds</td>\n",
       "      <td>POLYGON ((200.00000 0.00000, 1.00000 0.00000, ...</td>\n",
       "      <td>True</td>\n",
       "      <td>True</td>\n",
       "    </tr>\n",
       "    <tr>\n",
       "      <th>2</th>\n",
       "      <td>misoriented</td>\n",
       "      <td>POLYGON ((0.00000 0.00000, 0.00000 1.00000, 1....</td>\n",
       "      <td>True</td>\n",
       "      <td>True</td>\n",
       "    </tr>\n",
       "    <tr>\n",
       "      <th>3</th>\n",
       "      <td>self_intersecting</td>\n",
       "      <td>MULTIPOLYGON (((1.00000 1.00000, 0.00000 0.000...</td>\n",
       "      <td>True</td>\n",
       "      <td>False</td>\n",
       "    </tr>\n",
       "  </tbody>\n",
       "</table>\n",
       "</div>"
      ],
      "text/plain": [
       "                  id                                           geometry  \\\n",
       "0              valid  POLYGON ((0.00000 0.00000, 1.00000 0.00000, 0....   \n",
       "1  out_of_crs_bounds  POLYGON ((200.00000 0.00000, 1.00000 0.00000, ...   \n",
       "2        misoriented  POLYGON ((0.00000 0.00000, 0.00000 1.00000, 1....   \n",
       "3  self_intersecting  MULTIPOLYGON (((1.00000 1.00000, 0.00000 0.000...   \n",
       "\n",
       "   is_not_null  is_not_self_intersecting  \n",
       "0         True                      True  \n",
       "1         True                      True  \n",
       "2         True                      True  \n",
       "3         True                     False  "
      ]
     },
     "execution_count": 4,
     "metadata": {},
     "output_type": "execute_result"
    }
   ],
   "source": [
    "from geowrangler.validation import NullValidator, SelfIntersectingValidator\n",
    "\n",
    "validated_gdf = GeometryValidation(\n",
    "    gdf, validators=[NullValidator, SelfIntersectingValidator]\n",
    ").validate_all()\n",
    "validated_gdf"
   ]
  },
  {
   "cell_type": "markdown",
   "metadata": {},
   "source": [
    "You can also use a single validator at a time"
   ]
  },
  {
   "cell_type": "code",
   "execution_count": 5,
   "metadata": {},
   "outputs": [
    {
     "data": {
      "text/html": [
       "<div>\n",
       "<style scoped>\n",
       "    .dataframe tbody tr th:only-of-type {\n",
       "        vertical-align: middle;\n",
       "    }\n",
       "\n",
       "    .dataframe tbody tr th {\n",
       "        vertical-align: top;\n",
       "    }\n",
       "\n",
       "    .dataframe thead th {\n",
       "        text-align: right;\n",
       "    }\n",
       "</style>\n",
       "<table border=\"1\" class=\"dataframe\">\n",
       "  <thead>\n",
       "    <tr style=\"text-align: right;\">\n",
       "      <th></th>\n",
       "      <th>id</th>\n",
       "      <th>geometry</th>\n",
       "      <th>is_not_self_intersecting</th>\n",
       "    </tr>\n",
       "  </thead>\n",
       "  <tbody>\n",
       "    <tr>\n",
       "      <th>0</th>\n",
       "      <td>valid</td>\n",
       "      <td>POLYGON ((0.00000 0.00000, 1.00000 0.00000, 0....</td>\n",
       "      <td>True</td>\n",
       "    </tr>\n",
       "    <tr>\n",
       "      <th>1</th>\n",
       "      <td>out_of_crs_bounds</td>\n",
       "      <td>POLYGON ((200.00000 0.00000, 1.00000 0.00000, ...</td>\n",
       "      <td>True</td>\n",
       "    </tr>\n",
       "    <tr>\n",
       "      <th>2</th>\n",
       "      <td>misoriented</td>\n",
       "      <td>POLYGON ((0.00000 0.00000, 0.00000 1.00000, 1....</td>\n",
       "      <td>True</td>\n",
       "    </tr>\n",
       "    <tr>\n",
       "      <th>3</th>\n",
       "      <td>self_intersecting</td>\n",
       "      <td>MULTIPOLYGON (((1.00000 1.00000, 0.00000 0.000...</td>\n",
       "      <td>False</td>\n",
       "    </tr>\n",
       "  </tbody>\n",
       "</table>\n",
       "</div>"
      ],
      "text/plain": [
       "                  id                                           geometry  \\\n",
       "0              valid  POLYGON ((0.00000 0.00000, 1.00000 0.00000, 0....   \n",
       "1  out_of_crs_bounds  POLYGON ((200.00000 0.00000, 1.00000 0.00000, ...   \n",
       "2        misoriented  POLYGON ((0.00000 0.00000, 0.00000 1.00000, 1....   \n",
       "3  self_intersecting  MULTIPOLYGON (((1.00000 1.00000, 0.00000 0.000...   \n",
       "\n",
       "   is_not_self_intersecting  \n",
       "0                      True  \n",
       "1                      True  \n",
       "2                      True  \n",
       "3                     False  "
      ]
     },
     "execution_count": 5,
     "metadata": {},
     "output_type": "execute_result"
    }
   ],
   "source": [
    "SelfIntersectingValidator().validate(gdf)"
   ]
  },
  {
   "cell_type": "markdown",
   "metadata": {},
   "source": [
    "## Building your own validator\n",
    "Let's build a validator that check if the geometry is a point and adds as a buffer of 1 if it is a point"
   ]
  },
  {
   "cell_type": "code",
   "execution_count": 6,
   "metadata": {},
   "outputs": [
    {
     "data": {
      "text/html": [
       "<div>\n",
       "<style scoped>\n",
       "    .dataframe tbody tr th:only-of-type {\n",
       "        vertical-align: middle;\n",
       "    }\n",
       "\n",
       "    .dataframe tbody tr th {\n",
       "        vertical-align: top;\n",
       "    }\n",
       "\n",
       "    .dataframe thead th {\n",
       "        text-align: right;\n",
       "    }\n",
       "</style>\n",
       "<table border=\"1\" class=\"dataframe\">\n",
       "  <thead>\n",
       "    <tr style=\"text-align: right;\">\n",
       "      <th></th>\n",
       "      <th>geometry</th>\n",
       "      <th>is_not_point</th>\n",
       "    </tr>\n",
       "  </thead>\n",
       "  <tbody>\n",
       "    <tr>\n",
       "      <th>0</th>\n",
       "      <td>POLYGON ((1.00000 0.00000, 0.99518 -0.09802, 0...</td>\n",
       "      <td>False</td>\n",
       "    </tr>\n",
       "  </tbody>\n",
       "</table>\n",
       "</div>"
      ],
      "text/plain": [
       "                                            geometry  is_not_point\n",
       "0  POLYGON ((1.00000 0.00000, 0.99518 -0.09802, 0...         False"
      ]
     },
     "execution_count": 6,
     "metadata": {},
     "output_type": "execute_result"
    }
   ],
   "source": [
    "from shapely.geometry.point import Point\n",
    "\n",
    "from geowrangler.validation import BaseValidator\n",
    "\n",
    "\n",
    "class PointValidator(BaseValidator):\n",
    "    validator_column_name = \"is_not_point\"\n",
    "\n",
    "    def check(self, geometry):\n",
    "        return geometry.geom_type != \"Point\"\n",
    "\n",
    "    def fix(self, geometry):\n",
    "        return geometry.buffer(1)\n",
    "\n",
    "\n",
    "gdf = gpd.GeoDataFrame(geometry=[Point(0, 0)])\n",
    "PointValidator().validate(gdf)"
   ]
  },
  {
   "cell_type": "markdown",
   "metadata": {},
   "source": [
    "There are several cases where no fix is available, we can add a validator without a fix but warns the users. "
   ]
  },
  {
   "cell_type": "code",
   "execution_count": 8,
   "metadata": {},
   "outputs": [
    {
     "name": "stderr",
     "output_type": "stream",
     "text": [
      "/home/jt/repos/geowrangler/geowrangler/validation.py:81: UserWarning: Found geometries that are points\n",
      "  warnings.warn(self.warning_message)\n"
     ]
    },
    {
     "data": {
      "text/html": [
       "<div>\n",
       "<style scoped>\n",
       "    .dataframe tbody tr th:only-of-type {\n",
       "        vertical-align: middle;\n",
       "    }\n",
       "\n",
       "    .dataframe tbody tr th {\n",
       "        vertical-align: top;\n",
       "    }\n",
       "\n",
       "    .dataframe thead th {\n",
       "        text-align: right;\n",
       "    }\n",
       "</style>\n",
       "<table border=\"1\" class=\"dataframe\">\n",
       "  <thead>\n",
       "    <tr style=\"text-align: right;\">\n",
       "      <th></th>\n",
       "      <th>geometry</th>\n",
       "      <th>is_not_point</th>\n",
       "    </tr>\n",
       "  </thead>\n",
       "  <tbody>\n",
       "    <tr>\n",
       "      <th>0</th>\n",
       "      <td>POINT (0.00000 0.00000)</td>\n",
       "      <td>False</td>\n",
       "    </tr>\n",
       "  </tbody>\n",
       "</table>\n",
       "</div>"
      ],
      "text/plain": [
       "                  geometry  is_not_point\n",
       "0  POINT (0.00000 0.00000)         False"
      ]
     },
     "execution_count": 8,
     "metadata": {},
     "output_type": "execute_result"
    }
   ],
   "source": [
    "from shapely.geometry.point import Point\n",
    "\n",
    "from geowrangler.validation import BaseValidator\n",
    "\n",
    "\n",
    "class PointWarningValidator(BaseValidator):\n",
    "    validator_column_name = \"is_not_point\"\n",
    "    fix_available = False\n",
    "    warning_message = \"Found geometries that are points\"\n",
    "\n",
    "    def check(self, geometry):\n",
    "        return geometry.geom_type != \"Point\"\n",
    "\n",
    "\n",
    "gdf = gpd.GeoDataFrame(geometry=[Point(0, 0)])\n",
    "PointWarningValidator().validate(gdf)"
   ]
  }
 ],
 "metadata": {
  "kernelspec": {
   "display_name": "Python 3 (ipykernel)",
   "language": "python",
   "name": "python3"
  },
  "language_info": {
   "codemirror_mode": {
    "name": "ipython",
    "version": 3
   },
   "file_extension": ".py",
   "mimetype": "text/x-python",
   "name": "python",
   "nbconvert_exporter": "python",
   "pygments_lexer": "ipython3",
   "version": "3.9.1"
  }
 },
 "nbformat": 4,
 "nbformat_minor": 4
}
