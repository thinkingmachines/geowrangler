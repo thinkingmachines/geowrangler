{
 "cells": [
  {
   "cell_type": "code",
   "execution_count": 1,
   "id": "d633cc6b-605d-4445-95e1-181f0f1ed397",
   "metadata": {},
   "outputs": [],
   "source": [
    "# hide\n",
    "# all_slow"
   ]
  },
  {
   "cell_type": "code",
   "execution_count": 2,
   "id": "10388945-6ff2-4265-9e4d-6ccf11c1b881",
   "metadata": {},
   "outputs": [],
   "source": [
    "# hide\n",
    "# no_test\n",
    "! [ -e /content ] && pip install -Uqq geowrangler"
   ]
  },
  {
   "cell_type": "code",
   "execution_count": 3,
   "id": "06dee4aa-e751-4a7f-a74d-f448f7c68dc6",
   "metadata": {},
   "outputs": [],
   "source": [
    "# hide\n",
    "# no_test\n",
    "!mkdir -p ../data\n",
    "![ -e /content ] && ln -s ../data ."
   ]
  },
  {
   "cell_type": "code",
   "execution_count": 4,
   "id": "7949bc12-4dc7-404f-910a-2d9d21197d05",
   "metadata": {},
   "outputs": [],
   "source": [
    "# hide\n",
    "# no_test\n",
    "%reload_ext autoreload\n",
    "%autoreload 2\n",
    "%matplotlib inline"
   ]
  },
  {
   "cell_type": "markdown",
   "id": "b770643a-c9f9-4351-b3e9-0d046a1f57e6",
   "metadata": {
    "tags": []
   },
   "source": [
    "# Raster Zonal Stats Tutorial"
   ]
  },
  {
   "cell_type": "markdown",
   "id": "8b13efab-f667-4d3e-9df3-c6042288653c",
   "metadata": {},
   "source": [
    "> A basic introduction to Raster Zonal Stats "
   ]
  },
  {
   "cell_type": "markdown",
   "id": "7b30bce6-fca1-4fce-af54-d32793f5377f",
   "metadata": {
    "tags": []
   },
   "source": [
    "## Basic Usage\n",
    "\n",
    "Generate zonal stats for a GeoDataframe containing areas of interest using raster data\n",
    "\n",
    "Terms:\n",
    "\n",
    "* **aoi** - (area of interest) a geodataframe which we are interested in generating zonal statistics for\n",
    "* **raster data** - the source raster containing the features which we are interested in collecting zonal stats for our aoi.\n"
   ]
  },
  {
   "cell_type": "code",
   "execution_count": 5,
   "id": "7d420843-28d8-405a-ae0b-42137e6f04fe",
   "metadata": {},
   "outputs": [],
   "source": [
    "# hide\n",
    "# no_test\n",
    "!mkdir -p ../data\n",
    "# download sample geojson files from repo\n",
    "![ ! -e ../data/region34ncr_admin.geojson ] && curl -s -o ../data/region34ncr_admin.geojson https://raw.githubusercontent.com/thinkingmachines/geowrangler/master/data/region34ncr_admin.geojson\n",
    "![ ! -e ../data/region3_admin_grids.geojson ] && curl -s -o ../data/region3_admin_grids.geojson https://raw.githubusercontent.com/thinkingmachines/geowrangler/master/data/region3_admin_grids.geojson\n",
    "![ ! -e ../data/region3_bingtile_grid13.geojson ] && curl -s -o ../data/region3_bingtile_grid13.geojson https://raw.githubusercontent.com/thinkingmachines/geowrangler/master/data/region3_bingtile_grid13.geojson"
   ]
  },
  {
   "cell_type": "code",
   "execution_count": 6,
   "id": "25607301-578f-488d-92bd-a2d8b91f1b2f",
   "metadata": {},
   "outputs": [],
   "source": [
    "# hide\n",
    "import warnings\n",
    "\n",
    "warnings.filterwarnings(action=\"ignore\", category=UserWarning, module=\"geopandas\")"
   ]
  },
  {
   "cell_type": "code",
   "execution_count": 7,
   "id": "82012947-cc3e-4b8b-850e-dcd565ad160d",
   "metadata": {},
   "outputs": [],
   "source": [
    "import geopandas as gpd\n",
    "import matplotlib.pyplot as plt\n",
    "import geowrangler.raster_zonal_stats as rzs"
   ]
  },
  {
   "cell_type": "markdown",
   "id": "4534edb3-8b15-4811-9584-b26efa6f0ba0",
   "metadata": {},
   "source": [
    "### Load AOI\n",
    "\n",
    "Our areas of interest (AOI)  are three (3)  Level 1 administration regions (ADM1) of the Philippines located in the island of Luzon."
   ]
  },
  {
   "cell_type": "code",
   "execution_count": 8,
   "id": "4ff9f2cc-397e-44cc-938c-fa8525ef8aeb",
   "metadata": {
    "tags": []
   },
   "outputs": [
    {
     "name": "stdout",
     "output_type": "stream",
     "text": [
      "CPU times: user 3.26 s, sys: 195 ms, total: 3.45 s\n",
      "Wall time: 3.44 s\n"
     ]
    }
   ],
   "source": [
    "%%time\n",
    "# area multipolygons for regions 3,4,ncr of the philippines\n",
    "aoi = gpd.read_file(\"../data/region34ncr_admin.geojson\")"
   ]
  },
  {
   "cell_type": "code",
   "execution_count": 9,
   "id": "0e362332-71a6-4be2-b9f8-3c4964d9258c",
   "metadata": {},
   "outputs": [
    {
     "data": {
      "image/png": "[encoded data removed]",
      "text/plain": [
       "<Figure size 432x288 with 1 Axes>"
      ]
     },
     "metadata": {
      "needs_background": "light"
     },
     "output_type": "display_data"
    }
   ],
   "source": [
    "# no_test\n",
    "ax = aoi.plot(\n",
    "    ax=plt.axes(),\n",
    "    facecolor=\"none\",\n",
    "    edgecolor=[\n",
    "        \"#C62828\",\n",
    "        \"#283593\",\n",
    "        \"#FF9800\",\n",
    "    ],\n",
    ")"
   ]
  },
  {
   "cell_type": "code",
   "execution_count": 10,
   "id": "b8b0b302-5f49-421d-ad0e-f11c935bf724",
   "metadata": {},
   "outputs": [
    {
     "data": {
      "text/html": [
       "<div>\n",
       "<style scoped>\n",
       "    .dataframe tbody tr th:only-of-type {\n",
       "        vertical-align: middle;\n",
       "    }\n",
       "\n",
       "    .dataframe tbody tr th {\n",
       "        vertical-align: top;\n",
       "    }\n",
       "\n",
       "    .dataframe thead th {\n",
       "        text-align: right;\n",
       "    }\n",
       "</style>\n",
       "<table border=\"1\" class=\"dataframe\">\n",
       "  <thead>\n",
       "    <tr style=\"text-align: right;\">\n",
       "      <th></th>\n",
       "      <th>Reg_Code</th>\n",
       "      <th>Reg_Name</th>\n",
       "      <th>Reg_Alt_Name</th>\n",
       "      <th>geometry</th>\n",
       "    </tr>\n",
       "  </thead>\n",
       "  <tbody>\n",
       "    <tr>\n",
       "      <th>0</th>\n",
       "      <td>130000000</td>\n",
       "      <td>National Capital Region</td>\n",
       "      <td>NCR</td>\n",
       "      <td>MULTIPOLYGON (((121.03842 14.78525, 121.03815 ...</td>\n",
       "    </tr>\n",
       "    <tr>\n",
       "      <th>1</th>\n",
       "      <td>030000000</td>\n",
       "      <td>Region III</td>\n",
       "      <td>Central Luzon</td>\n",
       "      <td>MULTIPOLYGON (((120.11687 14.76309, 120.11684 ...</td>\n",
       "    </tr>\n",
       "    <tr>\n",
       "      <th>2</th>\n",
       "      <td>040000000</td>\n",
       "      <td>Region IV-A</td>\n",
       "      <td>Calabarzon</td>\n",
       "      <td>MULTIPOLYGON (((122.72165 13.36485, 122.72143 ...</td>\n",
       "    </tr>\n",
       "  </tbody>\n",
       "</table>\n",
       "</div>"
      ],
      "text/plain": [
       "    Reg_Code                 Reg_Name   Reg_Alt_Name  \\\n",
       "0  130000000  National Capital Region            NCR   \n",
       "1  030000000               Region III  Central Luzon   \n",
       "2  040000000              Region IV-A     Calabarzon   \n",
       "\n",
       "                                            geometry  \n",
       "0  MULTIPOLYGON (((121.03842 14.78525, 121.03815 ...  \n",
       "1  MULTIPOLYGON (((120.11687 14.76309, 120.11684 ...  \n",
       "2  MULTIPOLYGON (((122.72165 13.36485, 122.72143 ...  "
      ]
     },
     "execution_count": 10,
     "metadata": {},
     "output_type": "execute_result"
    }
   ],
   "source": [
    "# no_test\n",
    "aoi"
   ]
  },
  {
   "cell_type": "markdown",
   "id": "073d88ba-ef90-4bcd-9201-d92503e45d14",
   "metadata": {},
   "source": [
    "### Download Philippine Population Data\n",
    "> see the [Humanitarian Data Exchange World Population Counts - Philippines](https://data.humdata.org/dataset/worldpop-population-counts-for-philippines)"
   ]
  },
  {
   "cell_type": "markdown",
   "id": "d0776e10-ce12-4f17-bfa2-ad7a335316f9",
   "metadata": {},
   "source": [
    "We download our raster Data as GeoTiff files from the Humanitarian Data Exchange site."
   ]
  },
  {
   "cell_type": "markdown",
   "id": "6226ddc1-bc4d-4121-af4e-465f2e2437af",
   "metadata": {},
   "source": [
    "> Note: This maybe slow as the file is about 180 Mb and depending on your internet download speed may take more than 5 minutes"
   ]
  },
  {
   "cell_type": "code",
   "execution_count": 11,
   "id": "ec56b48e-1938-4500-8437-f2569a5902ad",
   "metadata": {},
   "outputs": [],
   "source": [
    "# PHL population HDX links\n",
    "phil_pop_link = \"https://data.worldpop.org/GIS/Population/Global_2000_2020/2020/PHL/phl_ppp_2020.tif\"\n",
    "phil_pop_dset = \"phl_pop_2020.tif\""
   ]
  },
  {
   "cell_type": "code",
   "execution_count": 12,
   "id": "815b64bc-d836-4193-80bf-214b1bd96dba",
   "metadata": {},
   "outputs": [
    {
     "name": "stdout",
     "output_type": "stream",
     "text": [
      "  % Total    % Received % Xferd  Average Speed   Time    Time     Time  Current\n",
      "                                 Dload  Upload   Total   Spent    Left  Speed\n",
      "100  180M  100  180M    0     0   576k      0  0:05:19  0:05:19 --:--:--  430k\n",
      "CPU times: user 12 s, sys: 3.57 s, total: 15.6 s\n",
      "Wall time: 5min 19s\n"
     ]
    }
   ],
   "source": [
    "%%time\n",
    "\n",
    "![ ! -e ../data/{phil_pop_dset} ] && curl -o ../data/{phil_pop_dset} {phil_pop_link}"
   ]
  },
  {
   "cell_type": "markdown",
   "id": "be7baaf0-b06f-4d87-ac4c-34576c510a21",
   "metadata": {},
   "source": [
    "To create our raster zonal stats, we just need to \n",
    "set the aggregations, as well as some extra arguments,\n",
    "such as the `nodata` value in the raster."
   ]
  },
  {
   "cell_type": "code",
   "execution_count": 13,
   "id": "165bcc06-a884-461c-ac4f-4fc7819ceb49",
   "metadata": {},
   "outputs": [
    {
     "name": "stdout",
     "output_type": "stream",
     "text": [
      "CPU times: user 4.22 s, sys: 128 ms, total: 4.35 s\n",
      "Wall time: 4.34 s\n"
     ]
    }
   ],
   "source": [
    "%%time\n",
    "results = rzs.create_raster_zonal_stats(\n",
    "    aoi,\n",
    "    f\"../data/{phil_pop_dset}\",\n",
    "    aggregation=dict(\n",
    "        func=[\"sum\", \"count\"],\n",
    "        column=\"population\",\n",
    "        output=[\"population_count\", \"samples\"],\n",
    "    ),\n",
    "    extra_args=dict(nodata=-99999),  # nodata value is -99999\n",
    ")"
   ]
  },
  {
   "cell_type": "code",
   "execution_count": 14,
   "id": "130133bf-c84d-401c-b5ff-b9bb6acfe9c4",
   "metadata": {},
   "outputs": [
    {
     "data": {
      "text/html": [
       "<div>\n",
       "<style scoped>\n",
       "    .dataframe tbody tr th:only-of-type {\n",
       "        vertical-align: middle;\n",
       "    }\n",
       "\n",
       "    .dataframe tbody tr th {\n",
       "        vertical-align: top;\n",
       "    }\n",
       "\n",
       "    .dataframe thead th {\n",
       "        text-align: right;\n",
       "    }\n",
       "</style>\n",
       "<table border=\"1\" class=\"dataframe\">\n",
       "  <thead>\n",
       "    <tr style=\"text-align: right;\">\n",
       "      <th></th>\n",
       "      <th>Reg_Code</th>\n",
       "      <th>Reg_Name</th>\n",
       "      <th>Reg_Alt_Name</th>\n",
       "      <th>geometry</th>\n",
       "      <th>samples</th>\n",
       "      <th>population_count</th>\n",
       "    </tr>\n",
       "  </thead>\n",
       "  <tbody>\n",
       "    <tr>\n",
       "      <th>0</th>\n",
       "      <td>130000000</td>\n",
       "      <td>National Capital Region</td>\n",
       "      <td>NCR</td>\n",
       "      <td>MULTIPOLYGON (((121.03842 14.78525, 121.03815 ...</td>\n",
       "      <td>70786</td>\n",
       "      <td>13165866.0</td>\n",
       "    </tr>\n",
       "    <tr>\n",
       "      <th>1</th>\n",
       "      <td>030000000</td>\n",
       "      <td>Region III</td>\n",
       "      <td>Central Luzon</td>\n",
       "      <td>MULTIPOLYGON (((120.11687 14.76309, 120.11684 ...</td>\n",
       "      <td>2558377</td>\n",
       "      <td>11493727.0</td>\n",
       "    </tr>\n",
       "    <tr>\n",
       "      <th>2</th>\n",
       "      <td>040000000</td>\n",
       "      <td>Region IV-A</td>\n",
       "      <td>Calabarzon</td>\n",
       "      <td>MULTIPOLYGON (((122.72165 13.36485, 122.72143 ...</td>\n",
       "      <td>1876244</td>\n",
       "      <td>15952383.0</td>\n",
       "    </tr>\n",
       "  </tbody>\n",
       "</table>\n",
       "</div>"
      ],
      "text/plain": [
       "    Reg_Code                 Reg_Name   Reg_Alt_Name  \\\n",
       "0  130000000  National Capital Region            NCR   \n",
       "1  030000000               Region III  Central Luzon   \n",
       "2  040000000              Region IV-A     Calabarzon   \n",
       "\n",
       "                                            geometry  samples  \\\n",
       "0  MULTIPOLYGON (((121.03842 14.78525, 121.03815 ...    70786   \n",
       "1  MULTIPOLYGON (((120.11687 14.76309, 120.11684 ...  2558377   \n",
       "2  MULTIPOLYGON (((122.72165 13.36485, 122.72143 ...  1876244   \n",
       "\n",
       "   population_count  \n",
       "0        13165866.0  \n",
       "1        11493727.0  \n",
       "2        15952383.0  "
      ]
     },
     "execution_count": 14,
     "metadata": {},
     "output_type": "execute_result"
    }
   ],
   "source": [
    "results"
   ]
  },
  {
   "cell_type": "markdown",
   "id": "b97554e6-c11d-419d-b4a4-6eab7defd1a7",
   "metadata": {},
   "source": [
    "### Using Grid Tile AOIs\n",
    "\n",
    "We can also use tile grids as our AOIs.\n"
   ]
  },
  {
   "cell_type": "code",
   "execution_count": 15,
   "id": "676487db-5a59-424c-bcdb-612ed0a09a1a",
   "metadata": {},
   "outputs": [],
   "source": [
    "# note that you don't need to load the aoi first\n",
    "grid_aoi_file = \"../data/region3_admin_grids.geojson\""
   ]
  },
  {
   "cell_type": "code",
   "execution_count": 16,
   "id": "c0604f18-7541-448b-bf00-47959bf5378b",
   "metadata": {
    "tags": []
   },
   "outputs": [
    {
     "name": "stdout",
     "output_type": "stream",
     "text": [
      "CPU times: user 8.57 s, sys: 12.2 ms, total: 8.59 s\n",
      "Wall time: 8.58 s\n"
     ]
    }
   ],
   "source": [
    "%%time\n",
    "grid_aoi_results = rzs.create_raster_zonal_stats(\n",
    "    grid_aoi_file,\n",
    "    f\"../data/{phil_pop_dset}\",\n",
    "    aggregation=dict(\n",
    "        func=[\"sum\", \"count\"],\n",
    "        column=\"population\",\n",
    "        output=[\"population_count\", \"samples\"],\n",
    "        fillna=[True, True],\n",
    "    ),\n",
    "    extra_args=dict(nodata=-99999),  # nodata value is -99999\n",
    ")"
   ]
  },
  {
   "cell_type": "code",
   "execution_count": 17,
   "id": "c4dd4b52-0a7b-4d6a-b6aa-68e80d02ce2c",
   "metadata": {},
   "outputs": [
    {
     "data": {
      "text/html": [
       "<div>\n",
       "<style scoped>\n",
       "    .dataframe tbody tr th:only-of-type {\n",
       "        vertical-align: middle;\n",
       "    }\n",
       "\n",
       "    .dataframe tbody tr th {\n",
       "        vertical-align: top;\n",
       "    }\n",
       "\n",
       "    .dataframe thead th {\n",
       "        text-align: right;\n",
       "    }\n",
       "</style>\n",
       "<table border=\"1\" class=\"dataframe\">\n",
       "  <thead>\n",
       "    <tr style=\"text-align: right;\">\n",
       "      <th></th>\n",
       "      <th>x</th>\n",
       "      <th>y</th>\n",
       "      <th>geometry</th>\n",
       "      <th>samples</th>\n",
       "      <th>population_count</th>\n",
       "    </tr>\n",
       "  </thead>\n",
       "  <tbody>\n",
       "    <tr>\n",
       "      <th>0</th>\n",
       "      <td>0</td>\n",
       "      <td>30</td>\n",
       "      <td>POLYGON ((119.78583 15.70870, 119.83075 15.708...</td>\n",
       "      <td>171</td>\n",
       "      <td>1171.764038</td>\n",
       "    </tr>\n",
       "    <tr>\n",
       "      <th>1</th>\n",
       "      <td>0</td>\n",
       "      <td>31</td>\n",
       "      <td>POLYGON ((119.78583 15.75193, 119.83075 15.751...</td>\n",
       "      <td>329</td>\n",
       "      <td>278.567200</td>\n",
       "    </tr>\n",
       "    <tr>\n",
       "      <th>2</th>\n",
       "      <td>0</td>\n",
       "      <td>32</td>\n",
       "      <td>POLYGON ((119.78583 15.79516, 119.83075 15.795...</td>\n",
       "      <td>345</td>\n",
       "      <td>279.140198</td>\n",
       "    </tr>\n",
       "    <tr>\n",
       "      <th>3</th>\n",
       "      <td>1</td>\n",
       "      <td>30</td>\n",
       "      <td>POLYGON ((119.83075 15.70870, 119.87566 15.708...</td>\n",
       "      <td>158</td>\n",
       "      <td>808.681152</td>\n",
       "    </tr>\n",
       "    <tr>\n",
       "      <th>4</th>\n",
       "      <td>1</td>\n",
       "      <td>32</td>\n",
       "      <td>POLYGON ((119.83075 15.79516, 119.87566 15.795...</td>\n",
       "      <td>20</td>\n",
       "      <td>0.000000</td>\n",
       "    </tr>\n",
       "  </tbody>\n",
       "</table>\n",
       "</div>"
      ],
      "text/plain": [
       "   x   y                                           geometry  samples  \\\n",
       "0  0  30  POLYGON ((119.78583 15.70870, 119.83075 15.708...      171   \n",
       "1  0  31  POLYGON ((119.78583 15.75193, 119.83075 15.751...      329   \n",
       "2  0  32  POLYGON ((119.78583 15.79516, 119.83075 15.795...      345   \n",
       "3  1  30  POLYGON ((119.83075 15.70870, 119.87566 15.708...      158   \n",
       "4  1  32  POLYGON ((119.83075 15.79516, 119.87566 15.795...       20   \n",
       "\n",
       "   population_count  \n",
       "0       1171.764038  \n",
       "1        278.567200  \n",
       "2        279.140198  \n",
       "3        808.681152  \n",
       "4          0.000000  "
      ]
     },
     "execution_count": 17,
     "metadata": {},
     "output_type": "execute_result"
    }
   ],
   "source": [
    "grid_aoi_results.head()"
   ]
  },
  {
   "cell_type": "code",
   "execution_count": 18,
   "id": "d1de6e04-3657-455e-8b83-646c8d4479bf",
   "metadata": {},
   "outputs": [
    {
     "data": {
      "image/png": "[encoded data removed]",
      "text/plain": [
       "<Figure size 432x288 with 1 Axes>"
      ]
     },
     "metadata": {
      "needs_background": "light"
     },
     "output_type": "display_data"
    }
   ],
   "source": [
    "# no_test\n",
    "ax = aoi[aoi.Reg_Name == \"Region III\"].plot(\n",
    "    ax=plt.axes(), facecolor=\"none\", edgecolor=\"black\"\n",
    ")\n",
    "ax = grid_aoi_results.plot(\n",
    "    ax=ax, column=\"population_count\", edgecolor=\"blue\", alpha=0.5\n",
    ")"
   ]
  },
  {
   "cell_type": "markdown",
   "id": "50845302-5bd3-4091-932d-1f953c2afd10",
   "metadata": {},
   "source": [
    "### Using Bing Tile Grid Tile AOIs\n",
    "\n",
    "We can also use pre-existing Bing tile grids as our AOIs.\n"
   ]
  },
  {
   "cell_type": "code",
   "execution_count": 19,
   "id": "5654528f-3503-4346-9974-fd5a2be3e7b8",
   "metadata": {},
   "outputs": [],
   "source": [
    "# note that you don't need to load the aoi first\n",
    "bingtile_grid_aoi_file = \"../data/region3_bingtile_grid13.geojson\""
   ]
  },
  {
   "cell_type": "code",
   "execution_count": 20,
   "id": "f7dff6ef-545e-483f-a27c-fbbe7fe0950a",
   "metadata": {
    "tags": []
   },
   "outputs": [
    {
     "name": "stdout",
     "output_type": "stream",
     "text": [
      "CPU times: user 10.6 s, sys: 124 ms, total: 10.7 s\n",
      "Wall time: 10.7 s\n"
     ]
    }
   ],
   "source": [
    "%%time\n",
    "bingtile_grid_aoi_results = rzs.create_raster_zonal_stats(\n",
    "    bingtile_grid_aoi_file,\n",
    "    f\"../data/{phil_pop_dset}\",\n",
    "    aggregation=dict(\n",
    "        func=[\"sum\", \"count\"],\n",
    "        column=\"population\",\n",
    "        output=[\"population_count\", \"samples\"],\n",
    "        fillna=[True, True],\n",
    "    ),\n",
    "    extra_args=dict(nodata=-99999),  # nodata value is -99999\n",
    ")"
   ]
  },
  {
   "cell_type": "code",
   "execution_count": 21,
   "id": "669fbb44-0888-4d65-9a46-0a678043838c",
   "metadata": {},
   "outputs": [
    {
     "data": {
      "text/html": [
       "<div>\n",
       "<style scoped>\n",
       "    .dataframe tbody tr th:only-of-type {\n",
       "        vertical-align: middle;\n",
       "    }\n",
       "\n",
       "    .dataframe tbody tr th {\n",
       "        vertical-align: top;\n",
       "    }\n",
       "\n",
       "    .dataframe thead th {\n",
       "        text-align: right;\n",
       "    }\n",
       "</style>\n",
       "<table border=\"1\" class=\"dataframe\">\n",
       "  <thead>\n",
       "    <tr style=\"text-align: right;\">\n",
       "      <th></th>\n",
       "      <th>quadkey</th>\n",
       "      <th>geometry</th>\n",
       "      <th>samples</th>\n",
       "      <th>population_count</th>\n",
       "    </tr>\n",
       "  </thead>\n",
       "  <tbody>\n",
       "    <tr>\n",
       "      <th>0</th>\n",
       "      <td>1323030303301</td>\n",
       "      <td>POLYGON ((120.10254 14.73239, 120.10254 14.774...</td>\n",
       "      <td>737</td>\n",
       "      <td>196.756744</td>\n",
       "    </tr>\n",
       "    <tr>\n",
       "      <th>1</th>\n",
       "      <td>1323030303300</td>\n",
       "      <td>POLYGON ((120.05859 14.73239, 120.05859 14.774...</td>\n",
       "      <td>50</td>\n",
       "      <td>35.732861</td>\n",
       "    </tr>\n",
       "    <tr>\n",
       "      <th>2</th>\n",
       "      <td>1323030303311</td>\n",
       "      <td>POLYGON ((120.19043 14.73239, 120.19043 14.774...</td>\n",
       "      <td>248</td>\n",
       "      <td>383.338013</td>\n",
       "    </tr>\n",
       "    <tr>\n",
       "      <th>3</th>\n",
       "      <td>1323030303133</td>\n",
       "      <td>POLYGON ((120.19043 14.77488, 120.19043 14.817...</td>\n",
       "      <td>901</td>\n",
       "      <td>5621.879395</td>\n",
       "    </tr>\n",
       "    <tr>\n",
       "      <th>4</th>\n",
       "      <td>1323030303131</td>\n",
       "      <td>POLYGON ((120.19043 14.81737, 120.19043 14.859...</td>\n",
       "      <td>1328</td>\n",
       "      <td>6584.988770</td>\n",
       "    </tr>\n",
       "  </tbody>\n",
       "</table>\n",
       "</div>"
      ],
      "text/plain": [
       "         quadkey                                           geometry  samples  \\\n",
       "0  1323030303301  POLYGON ((120.10254 14.73239, 120.10254 14.774...      737   \n",
       "1  1323030303300  POLYGON ((120.05859 14.73239, 120.05859 14.774...       50   \n",
       "2  1323030303311  POLYGON ((120.19043 14.73239, 120.19043 14.774...      248   \n",
       "3  1323030303133  POLYGON ((120.19043 14.77488, 120.19043 14.817...      901   \n",
       "4  1323030303131  POLYGON ((120.19043 14.81737, 120.19043 14.859...     1328   \n",
       "\n",
       "   population_count  \n",
       "0        196.756744  \n",
       "1         35.732861  \n",
       "2        383.338013  \n",
       "3       5621.879395  \n",
       "4       6584.988770  "
      ]
     },
     "execution_count": 21,
     "metadata": {},
     "output_type": "execute_result"
    }
   ],
   "source": [
    "bingtile_grid_aoi_results.head()"
   ]
  },
  {
   "cell_type": "code",
   "execution_count": 22,
   "id": "f3372847-4041-49b6-995d-2e4ec612ef7c",
   "metadata": {},
   "outputs": [
    {
     "data": {
      "image/png": "[encoded data removed]",
      "text/plain": [
       "<Figure size 432x288 with 1 Axes>"
      ]
     },
     "metadata": {
      "needs_background": "light"
     },
     "output_type": "display_data"
    }
   ],
   "source": [
    "# no_test\n",
    "ax = aoi[aoi.Reg_Name == \"Region III\"].plot(\n",
    "    ax=plt.axes(), facecolor=\"none\", edgecolor=\"black\"\n",
    ")\n",
    "ax = bingtile_grid_aoi_results.plot(\n",
    "    ax=ax, column=\"population_count\", edgecolor=\"blue\", alpha=0.5\n",
    ")"
   ]
  }
 ],
 "metadata": {
  "kernelspec": {
   "display_name": "Python 3",
   "language": "python",
   "name": "python3"
  },
  "language_info": {
   "codemirror_mode": {
    "name": "ipython",
    "version": 3
   },
   "file_extension": ".py",
   "mimetype": "text/x-python",
   "name": "python",
   "nbconvert_exporter": "python",
   "pygments_lexer": "ipython3",
   "version": "3.9.13"
  }
 },
 "nbformat": 4,
 "nbformat_minor": 5
}
