{
 "cells": [
  {
   "cell_type": "code",
   "execution_count": null,
   "metadata": {},
   "outputs": [],
   "source": [
    "#hide\n",
    "from geowrangler.core import *"
   ]
  },
  {
   "cell_type": "markdown",
   "metadata": {},
   "source": [
    "# Geowrangler\n",
    "> Tools for dealing with geospatial data"
   ]
  },
  {
   "cell_type": "markdown",
   "metadata": {},
   "source": [
    "\n",
    "## Usage\n",
    "\n",
    "### Installation\n",
    "\n",
    "```\n",
    "git clone git@github.com:thinkingmachines/geowrangler.git\n",
    "pip install -e geowrangler\n",
    "```\n",
    "\n",
    "### Usage\n",
    "\n",
    "Generate square grids\n",
    "\n",
    "```python\n",
    "import geopandas as gpd\n",
    "from geowrangler import grids\n",
    "\n",
    "gdf = gpd.read_file(\"../admin.geojson\")\n",
    "grid_generator = grids.GridGenerator(gdf, 100)\n",
    "grids_gdf = grid_generator.generate_grids()\n",
    "grids_gdf.to_file(\"../grids.geojson\", drivers=\"GeoJSON\")\n",
    "```\n",
    "\n",
    "## Development\n",
    "\n",
    "Please read [CONTRIBUTING.md](/CONTRIBUTING.md) and [CODE_OF_CONDUCT.md](/CODE_OF_CONDUCT.md) before anything\n",
    "\n",
    "### Setting up\n",
    "\n",
    "Please ensure you are using python `3.9` or higher\n",
    "\n",
    "```\n",
    "pip install pre-commit poery\n",
    "pre-commit install\n",
    "poetry install\n",
    "```\n",
    "\n",
    "### Running tests\n",
    "\n",
    "We are using `pytest` as our test framework. To run all tests and generate a generate a coverage report, run the following.\n",
    "\n",
    "```\n",
    "poetry run pytest --cov . -n auto\n",
    "```\n",
    "\n",
    "To run a single test or test file\n",
    "\n",
    "```\n",
    "# for a single test function\n",
    "poetry run pytest tests/test_grids.py::test_create_grids\n",
    "# for a single test file\n",
    "poetry run pytest tests/test_grids.py\n",
    "```\n"
   ]
  }
 ],
 "metadata": {
  "kernelspec": {
   "display_name": "Python 3",
   "language": "python",
   "name": "python3"
  }
 },
 "nbformat": 4,
 "nbformat_minor": 4
}
