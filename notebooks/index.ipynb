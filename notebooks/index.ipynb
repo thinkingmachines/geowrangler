{
 "cells": [
  {
   "cell_type": "markdown",
   "metadata": {
    "tags": []
   },
   "source": [
    "# Geowrangler\n",
    "> Tools for wrangling with geospatial data"
   ]
  },
  {
   "cell_type": "markdown",
   "metadata": {
    "tags": []
   },
   "source": [
    "## Overview\n",
    "\n",
    "**Geowrangler** is a geospatial python package that aims to shorten the workflows in geodata wrangling. Its goal is to solve the problem of having to build time-consuming data transformation workflows with no out-of-the-box solutions from other libraries.\n",
    "\n",
    "Our immediate audience is the AI4D poverty mapping team, with the primary audience being the researchers and engineers delivering geospatial projects as well as other GIS data analysts. \n",
    "\n",
    "We have surveyed insights from past projects and have a pipeline of ongoing and upcoming geospatial projects that require these data transformations and we saw the need to create **Geowrangler** to be able to extract and reuse these solutions we keep encountering in our work."
   ]
  },
  {
   "cell_type": "markdown",
   "metadata": {
    "tags": []
   },
   "source": [
    "### Modules\n",
    "\n",
    "* Grid Tile Generation\n",
    "* Geometry Validation \n",
    "* Vector Zonal Stats \n",
    "* Raster Zonal Stats (_planned_)\n",
    "* Geometry Simplification (_planned_)\n",
    "* Grid Tile Spatial Imputation (_planned_)\n",
    "\n",
    "## Installation\n",
    "\n",
    "```\n",
    "pip install git+https://github.com/thinkingmachines/geowrangler.git\n",
    "```\n"
   ]
  },
  {
   "cell_type": "markdown",
   "metadata": {
    "tags": []
   },
   "source": [
    "## Exploring the Documentation\n",
    "\n",
    "We have sought to make the package usable by focusing on developing the modules along side its documentation. \n",
    "\n",
    "#### Tutorials\n",
    "\n",
    "* [Grids Generation](tutorial.grids.html)\n",
    "* [Geometry Validation](tutorial.geometry_validation.html)\n",
    "\n",
    "#### Reference\n",
    "\n",
    "* [Grids Generation](grids.html)\n",
    "* [Geometry Validation](validation.html)\n",
    "\n",
    "> Note: all the documentation pages (including the references) are executable Jupyter notebooks. \n",
    "\n",
    "Our goal is to make it easy for geospatial researchers and analysts to use Geowrangler's modules by exploring them via Jupyter notebooks.\n"
   ]
  }
 ],
 "metadata": {
  "kernelspec": {
   "display_name": "Python 3",
   "language": "python",
   "name": "python3"
  },
  "language_info": {
   "codemirror_mode": {
    "name": "ipython",
    "version": 3
   },
   "file_extension": ".py",
   "mimetype": "text/x-python",
   "name": "python",
   "nbconvert_exporter": "python",
   "pygments_lexer": "ipython3",
   "version": "3.9.12"
  }
 },
 "nbformat": 4,
 "nbformat_minor": 4
}
