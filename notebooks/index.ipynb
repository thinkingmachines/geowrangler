{
 "cells": [
  {
   "cell_type": "markdown",
   "metadata": {
    "tags": []
   },
   "source": [
    "# Geowrangler\n",
    "> Tools for wrangling with geospatial data\n"
   ]
  },
  {
   "cell_type": "markdown",
   "metadata": {
    "tags": []
   },
   "source": [
    "## Overview\n",
    "\n",
    "**Geowrangler** is a python package for geodata wrangling. It helps you build data transformation workflows that have no out-of-the-box solutions from other geospatial libraries.\n",
    "\n",
    "We surveyed our past geospatial projects to extract these solutions for our work and hope that these will be useful for others as well.\n",
    "\n",
    "Our audience are researchers, analysts and engineers delivering geospatial projects. \n",
    "\n",
    "We [welcome your comments, suggestions, bug reports and code contributions](https://github.com/thinkingmachines/geowrangler/discussions) to make **Geowrangler** better. "
   ]
  },
  {
   "cell_type": "markdown",
   "metadata": {
    "tags": []
   },
   "source": [
    "### Modules\n",
    "\n",
    "* Grid Tile Generation\n",
    "* Geometry Validation \n",
    "* Vector Zonal Stats \n",
    "* Raster Zonal Stats \n",
    "* Area Zonal Stats \n",
    "* Distance Zonal Stats \n",
    "* Demographic and Health Survey (DHS) Processing Utils \n",
    "* Geofabrik (OSM) Data Download\n",
    "* Ookla Data Download\n",
    "\n",
    "_Check [this page for more details about our Roadmap](https://github.com/orgs/thinkingmachines/projects/17)_\n",
    "\n",
    "## Installation\n",
    "\n",
    "```\n",
    "pip install geowrangler\n",
    "```\n"
   ]
  },
  {
   "cell_type": "markdown",
   "metadata": {
    "tags": []
   },
   "source": [
    "## Exploring the Documentation\n",
    "\n",
    "We develop the package modules alongside their documentation. \n",
    "Each page comes with an _Open in Colab_ button that will open\n",
    "the jupyter notebook in Colab for exploration."
   ]
  },
  {
   "cell_type": "code",
   "execution_count": 1,
   "metadata": {},
   "outputs": [],
   "source": [
    "# hide\n",
    "# no_test\n",
    "# run this cell in Colab to install the package\n",
    "! [ -e /content ] && pip install -Uqq geowrangler"
   ]
  },
  {
   "cell_type": "code",
   "execution_count": 2,
   "metadata": {},
   "outputs": [],
   "source": [
    "# hide\n",
    "# no_test\n",
    "%reload_ext autoreload\n",
    "%autoreload 2\n",
    "%matplotlib inline"
   ]
  },
  {
   "cell_type": "code",
   "execution_count": 3,
   "metadata": {},
   "outputs": [
    {
     "data": {
      "text/plain": [
       "\u001b[0;31mType:\u001b[0m        SquareGridGenerator\n",
       "\u001b[0;31mString form:\u001b[0m <geowrangler.grids.SquareGridGenerator object at 0x7fc284380880>\n",
       "\u001b[0;31mFile:\u001b[0m        ~/work/unicef-ai4d/geowrangler-1/geowrangler/grids.py\n",
       "\u001b[0;31mSource:\u001b[0m     \n",
       "\u001b[0;32mclass\u001b[0m \u001b[0mSquareGridGenerator\u001b[0m\u001b[0;34m:\u001b[0m\u001b[0;34m\u001b[0m\n",
       "\u001b[0;34m\u001b[0m    \u001b[0;32mdef\u001b[0m \u001b[0m__init__\u001b[0m\u001b[0;34m(\u001b[0m\u001b[0;34m\u001b[0m\n",
       "\u001b[0;34m\u001b[0m        \u001b[0mself\u001b[0m\u001b[0;34m,\u001b[0m\u001b[0;34m\u001b[0m\n",
       "\u001b[0;34m\u001b[0m        \u001b[0mcell_size\u001b[0m\u001b[0;34m:\u001b[0m \u001b[0mfloat\u001b[0m\u001b[0;34m,\u001b[0m  \u001b[0;31m# height and width of a square cell in meters\u001b[0m\u001b[0;34m\u001b[0m\n",
       "\u001b[0;34m\u001b[0m        \u001b[0mgrid_projection\u001b[0m\u001b[0;34m:\u001b[0m \u001b[0mstr\u001b[0m \u001b[0;34m=\u001b[0m \u001b[0;34m\"EPSG:3857\"\u001b[0m\u001b[0;34m,\u001b[0m  \u001b[0;31m# projection of grid output\u001b[0m\u001b[0;34m\u001b[0m\n",
       "\u001b[0;34m\u001b[0m        \u001b[0mboundary\u001b[0m\u001b[0;34m:\u001b[0m \u001b[0mUnion\u001b[0m\u001b[0;34m[\u001b[0m\u001b[0mSquareGridBoundary\u001b[0m\u001b[0;34m,\u001b[0m \u001b[0mList\u001b[0m\u001b[0;34m[\u001b[0m\u001b[0mfloat\u001b[0m\u001b[0;34m]\u001b[0m\u001b[0;34m]\u001b[0m \u001b[0;34m=\u001b[0m \u001b[0;32mNone\u001b[0m\u001b[0;34m,\u001b[0m  \u001b[0;31m# original boundary\u001b[0m\u001b[0;34m\u001b[0m\n",
       "\u001b[0;34m\u001b[0m    \u001b[0;34m)\u001b[0m\u001b[0;34m:\u001b[0m\u001b[0;34m\u001b[0m\n",
       "\u001b[0;34m\u001b[0m        \u001b[0mself\u001b[0m\u001b[0;34m.\u001b[0m\u001b[0mcell_size\u001b[0m \u001b[0;34m=\u001b[0m \u001b[0mcell_size\u001b[0m\u001b[0;34m\u001b[0m\n",
       "\u001b[0;34m\u001b[0m        \u001b[0mself\u001b[0m\u001b[0;34m.\u001b[0m\u001b[0mgrid_projection\u001b[0m \u001b[0;34m=\u001b[0m \u001b[0mgrid_projection\u001b[0m\u001b[0;34m\u001b[0m\n",
       "\u001b[0;34m\u001b[0m        \u001b[0mself\u001b[0m\u001b[0;34m.\u001b[0m\u001b[0mboundary\u001b[0m \u001b[0;34m=\u001b[0m \u001b[0mboundary\u001b[0m\u001b[0;34m\u001b[0m\u001b[0;34m\u001b[0m\u001b[0m\n"
      ]
     },
     "metadata": {},
     "output_type": "display_data"
    }
   ],
   "source": [
    "# hide\n",
    "# no_test\n",
    "import geopandas as gpd\n",
    "\n",
    "import geowrangler.grids\n",
    "\n",
    "# view the source of a grid component\n",
    "gdf = gpd.GeoDataFrame()\n",
    "grid = geowrangler.grids.SquareGridGenerator(gdf, 1)\n",
    "grid??"
   ]
  },
  {
   "cell_type": "markdown",
   "metadata": {
    "tags": []
   },
   "source": [
    "#### Tutorials\n",
    "\n",
    "* [Grids Generation](tutorial.grids.html)\n",
    "* [Geometry Validation](tutorial.geometry_validation.html)\n",
    "* [Vector Zonal Stats](tutorial.vector_zonal_stats.html)\n",
    "* [Raster Zonal Stats](tutorial.raster_zonal_stats.html)\n",
    "* [Area Zonal Stats](tutorial.area_zonal_stats.html)\n",
    "* [Distance Zonal Stats](tutorial.distance_zonal_stats.html)\n",
    "* [DHS Processing Utils](tutorial.dhs.html)\n",
    "* [Dataset Downloads](tutorial.datasets.html)\n",
    "\n",
    "#### Reference\n",
    "\n",
    "* [Grids Generation](grids.html)\n",
    "* [Geometry Validation](validation.html)\n",
    "* [Vector Zonal Stats](vector_zonal_stats.html)\n",
    "* [Raster Zonal Stats](raster_zonal_stats.html)\n",
    "* [Area Zonal Stats](area_zonal_stats.html)\n",
    "* [Distance Zonal Stats](distance_zonal_stats.html)\n",
    "* [DHS Processing Utils](dhs.html)\n",
    "* [Dataset Geofabrik (OSM)](datasets_geofabrik.html)\n",
    "* [Dataset Ookla](datasets_ookla.html)\n",
    "\n",
    "\n",
    "\n",
    "> Note: all the documentation pages (including the references) are executable Jupyter notebooks. \n"
   ]
  }
 ],
 "metadata": {
  "kernelspec": {
   "display_name": "Python 3",
   "language": "python",
   "name": "python3"
  },
  "language_info": {
   "codemirror_mode": {
    "name": "ipython",
    "version": 3
   },
   "file_extension": ".py",
   "mimetype": "text/x-python",
   "name": "python",
   "nbconvert_exporter": "python",
   "pygments_lexer": "ipython3",
   "version": "3.9.13"
  },
  "vscode": {
   "interpreter": {
    "hash": "398fbd09e458dc8b61f6e927a8e04aab08f58486847b488d8069abb9bc707681"
   }
  }
 },
 "nbformat": 4,
 "nbformat_minor": 4
}
