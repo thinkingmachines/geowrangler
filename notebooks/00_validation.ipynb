{
 "cells": [
  {
   "cell_type": "code",
   "execution_count": 33,
   "metadata": {},
   "outputs": [],
   "source": [
    "# default_exp validation"
   ]
  },
  {
   "cell_type": "code",
   "execution_count": 46,
   "metadata": {},
   "outputs": [],
   "source": [
    "# hide\n",
    "%reload_ext lab_black"
   ]
  },
  {
   "cell_type": "markdown",
   "metadata": {},
   "source": [
    "# Geometry Validation\n",
    "\n",
    "> geometry validations"
   ]
  },
  {
   "cell_type": "code",
   "execution_count": 35,
   "metadata": {},
   "outputs": [],
   "source": [
    "# exporti\n",
    "import logging\n",
    "import warnings\n",
    "from abc import ABC, abstractmethod\n",
    "from typing import Sequence, Union\n",
    "\n",
    "import geopandas as gpd\n",
    "from fastcore.basics import patch\n",
    "from shapely.algorithms.cga import signed_area\n",
    "from shapely.geometry.base import BaseGeometry\n",
    "from shapely.geometry.polygon import orient\n",
    "\n",
    "logger = logging.getLogger(__name__)"
   ]
  },
  {
   "cell_type": "code",
   "execution_count": 41,
   "metadata": {},
   "outputs": [],
   "source": [
    "# export\n",
    "class ValidationError(Exception):\n",
    "    pass"
   ]
  },
  {
   "cell_type": "code",
   "execution_count": 42,
   "metadata": {},
   "outputs": [],
   "source": [
    "# export\n",
    "class Validator(ABC):\n",
    "    \"\"\"Abstract Base Class for single validator\"\"\"\n",
    "\n",
    "    def __init__(\n",
    "        self,\n",
    "        add_new_column: bool = True,\n",
    "        apply_fix: bool = True,\n",
    "    ):\n",
    "        self.add_new_column = add_new_column\n",
    "        self.apply_fix = apply_fix\n",
    "\n",
    "    @property\n",
    "    @abstractmethod\n",
    "    def validator_column_name(self):  # pragma: no cover\n",
    "        pass\n",
    "\n",
    "    def check(\n",
    "        self, geometry: BaseGeometry, gdf: gpd.GeoDataFrame\n",
    "    ) -> bool:  # pragma: no cover\n",
    "        pass\n",
    "\n",
    "    def fix(self, geometry: BaseGeometry):  # pragma: no cover\n",
    "        pass\n",
    "\n",
    "\n",
    "@patch\n",
    "def validate(self: Validator, gdf: gpd.GeoDataFrame, clone=True) -> gpd.GeoDataFrame:\n",
    "    \"\"\"Method that checks the validity of a each geometry and applies a fix to these geometry\"\"\"\n",
    "    if clone:\n",
    "        gdf = gdf.copy()\n",
    "    is_valid = gdf.geometry.apply(self.check)\n",
    "    if self.add_new_column:\n",
    "        gdf[self.validator_column_name] = is_valid\n",
    "    if self.apply_fix:\n",
    "        gdf.loc[~is_valid, \"geometry\"] = gdf[~is_valid].geometry.apply(self.fix)\n",
    "    return gdf"
   ]
  },
  {
   "cell_type": "code",
   "execution_count": 43,
   "metadata": {},
   "outputs": [],
   "source": [
    "# export\n",
    "\n",
    "\n",
    "class OrientationValidator(Validator):\n",
    "    \"\"\"Checks and fixes Orienation of the geometry to ensure it works for multiple system\"\"\"\n",
    "\n",
    "    validator_column_name = \"is_oriented_properly\"\n",
    "\n",
    "\n",
    "@patch\n",
    "def check(self: OrientationValidator, geometry: BaseGeometry) -> bool:\n",
    "    \"\"\"Checks if orientation is counter clockwise\"\"\"\n",
    "    return signed_area(geometry.exterior) >= 0\n",
    "\n",
    "\n",
    "@patch\n",
    "def fix(self: OrientationValidator, geometry: BaseGeometry) -> BaseGeometry:\n",
    "    \"\"\"Fixes orientation if orientation is clockwise\"\"\"\n",
    "    return orient(geometry)"
   ]
  },
  {
   "cell_type": "code",
   "execution_count": null,
   "metadata": {},
   "outputs": [],
   "source": [
    "# export\n",
    "\n",
    "\n",
    "class CrsBoundsValidator(Validator):\n",
    "    \"\"\"Checks bounds of the geometry to ensure it is within bounds or crs\"\"\"\n",
    "\n",
    "    validator_column_name = \"is_oriented_properly\"\n",
    "\n",
    "\n",
    "@patch\n",
    "def check(\n",
    "    self: CrsBoundsValidator, geometry: BaseGeometry, gdf: gpd.GeoDataFrame\n",
    ") -> bool:\n",
    "    \"\"\"Checks if polygon is within bounds of crs\"\"\"\n",
    "    xmin, ymin, xmax, ymax = gdf.crs.area_of_use.bounds\n",
    "    b_xmin, b_ymin, b_xmax, b_ymax = geometry.bounds\n",
    "    return (\n",
    "        (b_xmin >= xmin) and (b_ymin >= ymin) and (b_xmax <= xmax) and (b_ymax <= ymax)\n",
    "    )\n",
    "\n",
    "\n",
    "@patch\n",
    "def fix(self: CrsBoundsValidator, geometry: BaseGeometry) -> BaseGeometry:\n",
    "    \"\"\"No fix available for CRS Bounds\"\"\"\n",
    "    return geometry\n",
    "\n",
    "\n",
    "@patch\n",
    "def validate(\n",
    "    self: CrsBoundsValidator, gdf: gpd.GeoDataFrame, clone=True\n",
    ") -> gpd.GeoDataFrame:\n",
    "    \"\"\"Method that checks the validity of a each geometry and applies a fix to these geometry\"\"\"\n",
    "    if clone:\n",
    "        gdf = gdf.copy()\n",
    "    is_valid = gdf.geometry.apply(self.check, gdf=gdf)\n",
    "    if self.add_new_column:\n",
    "        gdf[self.validator_column_name] = is_valid\n",
    "    if self.apply_fix and ~is_valid.all():\n",
    "        warnings.warn(\"Found geometries out of bounds from crs\")\n",
    "    return gdf"
   ]
  },
  {
   "cell_type": "code",
   "execution_count": 44,
   "metadata": {},
   "outputs": [],
   "source": [
    "# export\n",
    "\n",
    "\n",
    "class GeometryValidation:\n",
    "    \"\"\"Applies a list of validation checks and tries to fix them\"\"\"\n",
    "\n",
    "    validators_map = {\n",
    "        \"orientation\": OrientationValidator,\n",
    "        \"crs_bounds\": CrsBoundsValidator,\n",
    "    }\n",
    "\n",
    "    def __init__(\n",
    "        self,\n",
    "        gdf: gpd.GeoDataFrame,\n",
    "        validators: Sequence[Union[str, Validator]] = (\"orientation\", \"crs_bounds\"),\n",
    "        add_validation_columns: bool = True,\n",
    "        apply_fixes: bool = True,\n",
    "    ) -> gpd.GeoDataFrame:\n",
    "        self.gdf = gdf\n",
    "        self.validators = validators\n",
    "        self.add_validation_columns = add_validation_columns\n",
    "        self.apply_fixes = apply_fixes\n",
    "\n",
    "    def _get_validators(self) -> Sequence[Validator]:\n",
    "        \"\"\"Gets a list of Validator Classes based on string\"\"\"\n",
    "        validators_classes = []\n",
    "        for validator in self.validators:\n",
    "            if isinstance(validator, str):\n",
    "                if validator not in self.validators_map:\n",
    "                    raise ValidationError(\"Invalid validator.\")\n",
    "                validator = self.validators_map[validator]\n",
    "                validators_classes.append(validator)\n",
    "            else:\n",
    "                raise ValidationError(\"Invalid validator.\")\n",
    "        return validators_classes\n",
    "\n",
    "\n",
    "@patch\n",
    "def validate_all(self: GeometryValidation) -> gpd.GeoDataFrame:\n",
    "    \"\"\"Sequentially run validators\"\"\"\n",
    "    validators = self._get_validators()\n",
    "    gdf = self.gdf\n",
    "    for validator in validators:\n",
    "        gdf = validator(\n",
    "            add_new_column=self.add_validation_columns,\n",
    "            apply_fix=self.apply_fixes,\n",
    "        ).validate(gdf)\n",
    "    return gdf"
   ]
  },
  {
   "cell_type": "code",
   "execution_count": 51,
   "metadata": {},
   "outputs": [
    {
     "name": "stdout",
     "output_type": "stream",
     "text": [
      "Converted 00_validation.ipynb.\n"
     ]
    }
   ],
   "source": [
    "# hide\n",
    "from nbdev.export import notebook2script\n",
    "\n",
    "notebook2script(\"00_validation.ipynb\")"
   ]
  }
 ],
 "metadata": {
  "kernelspec": {
   "display_name": "Python 3 (ipykernel)",
   "language": "python",
   "name": "python3"
  },
  "language_info": {
   "codemirror_mode": {
    "name": "ipython",
    "version": 3
   },
   "file_extension": ".py",
   "mimetype": "text/x-python",
   "name": "python",
   "nbconvert_exporter": "python",
   "pygments_lexer": "ipython3",
   "version": "3.9.1"
  }
 },
 "nbformat": 4,
 "nbformat_minor": 4
}
