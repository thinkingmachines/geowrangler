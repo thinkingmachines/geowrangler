{
 "cells": [
  {
   "cell_type": "code",
   "execution_count": 16,
   "metadata": {},
   "outputs": [],
   "source": [
    "# default_exp validation"
   ]
  },
  {
   "cell_type": "code",
   "execution_count": 17,
   "metadata": {},
   "outputs": [],
   "source": [
    "# hide\n",
    "%reload_ext lab_black"
   ]
  },
  {
   "cell_type": "markdown",
   "metadata": {},
   "source": [
    "# Geometry Validation\n",
    "\n",
    "> geometry validations"
   ]
  },
  {
   "cell_type": "code",
   "execution_count": 18,
   "metadata": {},
   "outputs": [],
   "source": [
    "# exporti\n",
    "import logging\n",
    "from abc import ABC, abstractmethod\n",
    "from typing import Sequence, Union\n",
    "\n",
    "import geopandas as gpd\n",
    "from shapely.algorithms.cga import signed_area\n",
    "from shapely.geometry.polygon import orient\n",
    "\n",
    "logger = logging.getLogger(__name__)"
   ]
  },
  {
   "cell_type": "code",
   "execution_count": 19,
   "metadata": {},
   "outputs": [],
   "source": [
    "# export\n",
    "\n",
    "\n",
    "class Validator(ABC):\n",
    "    def __init__(\n",
    "        self, gdf: gpd.GeoDataFrame, add_new_column: bool = True, apply_fix: bool = True\n",
    "    ):\n",
    "        self.gdf = gdf\n",
    "        self.add_new_column = add_new_column\n",
    "        self.apply_fix = apply_fix\n",
    "\n",
    "    @property\n",
    "    @abstractmethod\n",
    "    def validator_column_name(self):\n",
    "        pass\n",
    "\n",
    "    @abstractmethod\n",
    "    def check(self, geometry):\n",
    "        pass\n",
    "\n",
    "    @abstractmethod\n",
    "    def fix(self, geometry):\n",
    "        pass\n",
    "\n",
    "    def validate(self):\n",
    "        gdf = self.gdf.copy()\n",
    "        is_valid = gdf.geometry.apply(self.check)\n",
    "        if self.add_new_column:\n",
    "            gdf[self.validator_column_name] = is_valid\n",
    "        if self.apply_fix:\n",
    "            gdf.loc[~is_valid, \"geometry\"] = gdf[~is_valid].geometry.apply(self.fix)\n",
    "        return gdf"
   ]
  },
  {
   "cell_type": "code",
   "execution_count": 20,
   "metadata": {},
   "outputs": [],
   "source": [
    "# export\n",
    "class OrientationValidator(Validator):\n",
    "    validator_column_name = \"is_oriented_properly\"\n",
    "\n",
    "    def check(self, geometry):\n",
    "        return signed_area(geometry.exterior) >= 0\n",
    "\n",
    "    def fix(self, geometry):\n",
    "        return orient(geometry)"
   ]
  },
  {
   "cell_type": "code",
   "execution_count": 21,
   "metadata": {},
   "outputs": [],
   "source": [
    "# export\n",
    "class GeometryValidation:\n",
    "\n",
    "    validators_map = {\"orientation\": OrientationValidator}\n",
    "\n",
    "    def __init__(\n",
    "        self,\n",
    "        gdf: gpd.GeoDataFrame,\n",
    "        validators: Sequence[Union[str, Validator]] = (\"orientation\",),\n",
    "        add_validation_columns: bool = True,\n",
    "        apply_fixes: bool = True,\n",
    "    ) -> gpd.GeoDataFrame:\n",
    "        self.gdf = gdf\n",
    "        self.validators = validators\n",
    "        self.add_validation_columns = add_validation_columns\n",
    "        self.apply_fixes = apply_fixes\n",
    "\n",
    "    def _get_validators(self):\n",
    "        validators_classes = []\n",
    "        for validator in self.validators:\n",
    "            if isinstance(validator, str):\n",
    "                if validator not in self.validators_map:\n",
    "                    raise Exception(\"Invalid validator.\")\n",
    "                validator = self.validators_map[validator]\n",
    "                validators_classes.append(validator)\n",
    "            elif isinstance(validator, Validator):\n",
    "                validators_classes.append(validator)\n",
    "            else:\n",
    "                raise Exception(\"Invalid validator.\")\n",
    "        return validators_classes\n",
    "\n",
    "    def validate(self):\n",
    "        validators = self._get_validators()\n",
    "        gdf = self.gdf\n",
    "        for validator in validators:\n",
    "            gdf = validator(\n",
    "                gdf,\n",
    "                add_new_column=self.add_validation_columns,\n",
    "                apply_fix=self.apply_fixes,\n",
    "            ).validate()\n",
    "        return gdf"
   ]
  },
  {
   "cell_type": "code",
   "execution_count": 22,
   "metadata": {},
   "outputs": [
    {
     "name": "stdout",
     "output_type": "stream",
     "text": [
      "Converted 00_validation.ipynb.\n"
     ]
    }
   ],
   "source": [
    "# hide\n",
    "from nbdev.export import notebook2script\n",
    "\n",
    "notebook2script(\"00_validation.ipynb\")"
   ]
  }
 ],
 "metadata": {
  "kernelspec": {
   "display_name": "Python 3",
   "language": "python",
   "name": "python3"
  },
  "language_info": {
   "codemirror_mode": {
    "name": "ipython",
    "version": 3
   },
   "file_extension": ".py",
   "mimetype": "text/x-python",
   "name": "python",
   "nbconvert_exporter": "python",
   "pygments_lexer": "ipython3",
   "version": "3.9.1"
  }
 },
 "nbformat": 4,
 "nbformat_minor": 4
}
