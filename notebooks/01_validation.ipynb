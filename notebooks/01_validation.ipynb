{
 "cells": [
  {
   "cell_type": "code",
   "execution_count": 27,
   "metadata": {},
   "outputs": [],
   "source": [
    "# default_exp validation"
   ]
  },
  {
   "cell_type": "code",
   "execution_count": 28,
   "metadata": {},
   "outputs": [],
   "source": [
    "# hide\n",
    "# no_test\n",
    "! [ -e /content ] && pip install -Uqq geowrangler"
   ]
  },
  {
   "cell_type": "code",
   "execution_count": 29,
   "metadata": {},
   "outputs": [],
   "source": [
    "# hide\n",
    "# no_test\n",
    "%reload_ext autoreload\n",
    "%autoreload 2\n",
    "%matplotlib inline"
   ]
  },
  {
   "cell_type": "markdown",
   "metadata": {
    "tags": []
   },
   "source": [
    "# Geometry Validation"
   ]
  },
  {
   "cell_type": "markdown",
   "metadata": {
    "tags": []
   },
   "source": [
    "> geometry validations"
   ]
  },
  {
   "cell_type": "code",
   "execution_count": 30,
   "metadata": {},
   "outputs": [],
   "source": [
    "# exporti\n",
    "import logging\n",
    "import warnings\n",
    "from abc import ABC, abstractmethod\n",
    "from typing import Sequence, Union\n",
    "\n",
    "import geopandas as gpd\n",
    "import pandas as pd\n",
    "from fastcore.basics import patch\n",
    "from shapely import validation as shapely_validation\n",
    "from shapely.algorithms.cga import signed_area\n",
    "from shapely.geometry.base import BaseGeometry\n",
    "from shapely.geometry.multipolygon import MultiPolygon\n",
    "from shapely.geometry.polygon import orient\n",
    "\n",
    "logger = logging.getLogger(__name__)"
   ]
  },
  {
   "cell_type": "code",
   "execution_count": 31,
   "metadata": {},
   "outputs": [],
   "source": [
    "# export\n",
    "class ValidationError(Exception):\n",
    "    pass"
   ]
  },
  {
   "cell_type": "code",
   "execution_count": 32,
   "metadata": {},
   "outputs": [],
   "source": [
    "# export\n",
    "class BaseValidator(ABC):\n",
    "    \"\"\"Abstract Base Class for single validator\"\"\"\n",
    "\n",
    "    fix_available = True\n",
    "    warning_message = \"Geometry errors found\"\n",
    "    geometry_types = None\n",
    "\n",
    "    def __init__(\n",
    "        self,\n",
    "        add_new_column: bool = True,  # Add new column to show errors\n",
    "        apply_fix: bool = True,  # Update geometry\n",
    "    ):\n",
    "        self.add_new_column = add_new_column\n",
    "        self.apply_fix = apply_fix\n",
    "\n",
    "    @property\n",
    "    @abstractmethod\n",
    "    def validator_column_name(self):  # pragma: no cover\n",
    "        pass\n",
    "\n",
    "    def get_check_arguments(\n",
    "        self, gdf: gpd.GeoDataFrame  # GeoDataFrame to check\n",
    "    ) -> dict:\n",
    "        return {}\n",
    "\n",
    "    def check(\n",
    "        self,\n",
    "        geometry: BaseGeometry,  # Geometry to check\n",
    "        gdf: gpd.GeoDataFrame,  # GeoDataFrame to check\n",
    "    ) -> bool:  # pragma: no cover\n",
    "        pass\n",
    "\n",
    "    def fix(self, geometry: BaseGeometry):  # pragma: no cover\n",
    "        pass\n",
    "\n",
    "    def skip(self, geometry: BaseGeometry):\n",
    "        \"\"\"Checks whether to skip the check. Used for skipping check that only works for certain types.\"\"\"\n",
    "        # Skip everything not geometry\n",
    "        if not isinstance(geometry, BaseGeometry):\n",
    "            return True\n",
    "        # If nothing is specified always, run validator for all types\n",
    "        elif self.geometry_types is None:\n",
    "            return False\n",
    "        elif geometry.geom_type in self.geometry_types:\n",
    "            return False\n",
    "        else:\n",
    "            return True"
   ]
  },
  {
   "cell_type": "code",
   "execution_count": 33,
   "metadata": {},
   "outputs": [],
   "source": [
    "# export\n",
    "\n",
    "\n",
    "@patch\n",
    "def validate(\n",
    "    self: BaseValidator,\n",
    "    gdf: gpd.GeoDataFrame,  # GeoDataFrame to validate\n",
    "    clone=True,  # Apply validation to copy\n",
    ") -> gpd.GeoDataFrame:\n",
    "    \"\"\"Method that checks the validity of a each geometry and applies a fix to these geometries or raise a warning\"\"\"\n",
    "    if clone:\n",
    "        gdf = gdf.copy()\n",
    "    check_arguments = self.get_check_arguments(gdf)\n",
    "    is_valid = gdf.geometry.apply(\n",
    "        lambda g: self.skip(g) or self.check(g, **check_arguments),\n",
    "    )\n",
    "    if self.add_new_column:\n",
    "        gdf[self.validator_column_name] = is_valid\n",
    "\n",
    "    # For cases where no fix is available, run warning instead of applying fixes\n",
    "    if (not self.fix_available) and (~is_valid.all()):\n",
    "        warnings.warn(self.warning_message)\n",
    "    # Fix geometries\n",
    "    elif self.apply_fix:\n",
    "        gdf.loc[~is_valid, \"geometry\"] = gdf[~is_valid].geometry.apply(self.fix)\n",
    "    return gdf"
   ]
  },
  {
   "cell_type": "code",
   "execution_count": 34,
   "metadata": {
    "tags": []
   },
   "outputs": [],
   "source": [
    "# export\n",
    "\n",
    "\n",
    "class OrientationValidator(BaseValidator):\n",
    "    \"\"\"Checks and fixes Orientation of the geometry to ensure it follows a counter-clockwise orientation\"\"\"\n",
    "\n",
    "    validator_column_name = \"is_oriented_properly\"\n",
    "    geometry_types = [\"MultiPolygon\", \"Polygon\"]"
   ]
  },
  {
   "cell_type": "code",
   "execution_count": 35,
   "metadata": {},
   "outputs": [],
   "source": [
    "# export\n",
    "@patch\n",
    "def check(\n",
    "    self: OrientationValidator, geometry: BaseGeometry  # Geometry to validate\n",
    ") -> bool:\n",
    "    \"\"\"Checks if orientation is counter clockwise\"\"\"\n",
    "    if geometry.geom_type == \"Polygon\":\n",
    "        return signed_area(geometry.exterior) >= 0\n",
    "    elif geometry.geom_type == \"MultiPolygon\":\n",
    "        return all([signed_area(g.exterior) >= 0 for g in geometry.geoms])"
   ]
  },
  {
   "cell_type": "code",
   "execution_count": 36,
   "metadata": {},
   "outputs": [],
   "source": [
    "# export\n",
    "@patch\n",
    "def fix(\n",
    "    self: OrientationValidator, geometry: BaseGeometry  # Geometry to fix\n",
    ") -> BaseGeometry:\n",
    "    \"\"\"Fixes orientation if orientation is clockwise\"\"\"\n",
    "    if geometry.geom_type == \"Polygon\":\n",
    "        return orient(geometry)\n",
    "    elif geometry.geom_type == \"MultiPolygon\":\n",
    "        return MultiPolygon([orient(g) for g in geometry.geoms])"
   ]
  },
  {
   "cell_type": "code",
   "execution_count": 37,
   "metadata": {},
   "outputs": [],
   "source": [
    "# export\n",
    "\n",
    "\n",
    "class CrsBoundsValidator(BaseValidator):\n",
    "    \"\"\"Checks bounds of the geometry to ensure it is within bounds of the crs\"\"\"\n",
    "\n",
    "    validator_column_name = \"is_within_crs_bounds\"\n",
    "    fix_available = False\n",
    "    warning_message = \"Found geometries out of bounds from crs\""
   ]
  },
  {
   "cell_type": "code",
   "execution_count": 38,
   "metadata": {
    "tags": []
   },
   "outputs": [],
   "source": [
    "# export\n",
    "\n",
    "\n",
    "@patch\n",
    "def get_check_arguments(\n",
    "    self: CrsBoundsValidator, gdf: gpd.GeoDataFrame  # GeoDataFrame to check\n",
    ") -> dict:\n",
    "    \"\"\"Return check arguments\"\"\"\n",
    "    return {\"gdf\": gdf}"
   ]
  },
  {
   "cell_type": "code",
   "execution_count": 39,
   "metadata": {},
   "outputs": [],
   "source": [
    "# export\n",
    "\n",
    "\n",
    "@patch\n",
    "def check(\n",
    "    self: CrsBoundsValidator,\n",
    "    geometry: BaseGeometry,  # Geometry to validate\n",
    "    gdf: gpd.GeoDataFrame,  # GeoDataframe to check\n",
    ") -> bool:\n",
    "    \"\"\"Checks if polygon is within bounds of crs.\"\"\"\n",
    "    # If area of use or crs is not defined, mark check as failed\n",
    "    if gdf.crs is None or gdf.crs.area_of_use is None:\n",
    "        return False\n",
    "    xmin, ymin, xmax, ymax = gdf.crs.area_of_use.bounds\n",
    "    b_xmin, b_ymin, b_xmax, b_ymax = geometry.bounds\n",
    "    return (\n",
    "        (b_xmin >= xmin) and (b_ymin >= ymin) and (b_xmax <= xmax) and (b_ymax <= ymax)\n",
    "    )"
   ]
  },
  {
   "cell_type": "code",
   "execution_count": 40,
   "metadata": {},
   "outputs": [],
   "source": [
    "# export\n",
    "@patch\n",
    "def fix(\n",
    "    self: CrsBoundsValidator, geometry: BaseGeometry  # Geometry to fix\n",
    ") -> BaseGeometry:  # pragma: no cover\n",
    "    \"\"\"No fix available\"\"\"\n",
    "    return geometry"
   ]
  },
  {
   "cell_type": "code",
   "execution_count": 41,
   "metadata": {},
   "outputs": [],
   "source": [
    "# export\n",
    "\n",
    "\n",
    "class SelfIntersectingValidator(BaseValidator):\n",
    "    \"\"\"Checks bounds of the geometry to ensure it is within bounds or crs\"\"\"\n",
    "\n",
    "    validator_column_name = \"is_not_self_intersecting\""
   ]
  },
  {
   "cell_type": "code",
   "execution_count": 42,
   "metadata": {},
   "outputs": [],
   "source": [
    "# export\n",
    "@patch\n",
    "def check(\n",
    "    self: SelfIntersectingValidator, geometry: BaseGeometry  # Geometry to check\n",
    ") -> bool:\n",
    "    explanation = shapely_validation.explain_validity(geometry)\n",
    "    return \"Self-intersection\" not in explanation"
   ]
  },
  {
   "cell_type": "code",
   "execution_count": 43,
   "metadata": {},
   "outputs": [],
   "source": [
    "# export\n",
    "@patch\n",
    "def fix(self: SelfIntersectingValidator, geometry: BaseGeometry) -> BaseGeometry:\n",
    "    \"\"\"Fix intersection geometry by applying shapely.validation.make_valid\"\"\"\n",
    "    return shapely_validation.make_valid(geometry)"
   ]
  },
  {
   "cell_type": "code",
   "execution_count": 44,
   "metadata": {},
   "outputs": [],
   "source": [
    "# export\n",
    "\n",
    "\n",
    "class NullValidator(BaseValidator):\n",
    "    \"\"\"Checks bounds of the geometry to ensure it is within bounds or crs\"\"\"\n",
    "\n",
    "    validator_column_name = \"is_not_null\"\n",
    "    fix_available = False\n",
    "    warning_message = \"Found null geometries\"\n",
    "    geometry_types = [None]\n",
    "\n",
    "    # special case where we want to run the validator on non geometries\n",
    "    def skip(self, geometry: BaseGeometry):\n",
    "        return False"
   ]
  },
  {
   "cell_type": "code",
   "execution_count": 45,
   "metadata": {},
   "outputs": [],
   "source": [
    "# export\n",
    "@patch\n",
    "def check(self: NullValidator, geometry: BaseGeometry) -> bool:  # Geometry to check\n",
    "    \"\"\"Checks if polygon is null\"\"\"\n",
    "    return not pd.isnull(geometry)"
   ]
  },
  {
   "cell_type": "code",
   "execution_count": 46,
   "metadata": {},
   "outputs": [],
   "source": [
    "# export\n",
    "@patch\n",
    "def fix(\n",
    "    self: NullValidator, geometry: BaseGeometry  # Geometry to fix\n",
    ") -> BaseGeometry:  # pragma: no cover\n",
    "    \"\"\"No fix available\"\"\"\n",
    "    return geometry"
   ]
  },
  {
   "cell_type": "code",
   "execution_count": 47,
   "metadata": {},
   "outputs": [],
   "source": [
    "# export\n",
    "class AreaValidator(BaseValidator):\n",
    "    \"\"\"Checks area of the geometry to ensure it greater than 0\"\"\"\n",
    "\n",
    "    validator_column_name = \"area_is_not_zero\"\n",
    "    fix_available = False\n",
    "    warning_message = \"Found geometries with area equals or less than zero\"\n",
    "    geometry_types = [\"MultiPolygon\", \"Polygon\"]"
   ]
  },
  {
   "cell_type": "code",
   "execution_count": 48,
   "metadata": {},
   "outputs": [],
   "source": [
    "# export\n",
    "@patch\n",
    "def check(self: AreaValidator, geometry: BaseGeometry) -> bool:\n",
    "    \"\"\"Checks if area is greater than 0\"\"\"\n",
    "    return geometry.area > 0"
   ]
  },
  {
   "cell_type": "code",
   "execution_count": 49,
   "metadata": {},
   "outputs": [],
   "source": [
    "# export\n",
    "@patch\n",
    "def fix(\n",
    "    self: AreaValidator, geometry: BaseGeometry  # Geometry to fix\n",
    ") -> BaseGeometry:  # pragma: no cover\n",
    "    \"\"\"No fix available\"\"\"\n",
    "    return geometry"
   ]
  },
  {
   "cell_type": "code",
   "execution_count": 50,
   "metadata": {},
   "outputs": [],
   "source": [
    "# export\n",
    "\n",
    "\n",
    "class GeometryValidation:\n",
    "    \"\"\"Applies a list of validation checks and tries to fix them\"\"\"\n",
    "\n",
    "    validators_map = {\n",
    "        \"orientation\": OrientationValidator,\n",
    "        \"crs_bounds\": CrsBoundsValidator,\n",
    "        \"self_intersecting\": SelfIntersectingValidator,\n",
    "        \"null\": NullValidator,\n",
    "        \"area\": AreaValidator,\n",
    "    }\n",
    "\n",
    "    def __init__(\n",
    "        self,\n",
    "        gdf: gpd.GeoDataFrame,  # GeoDataFrame to validate\n",
    "        validators: Sequence[Union[str, BaseValidator]] = (  # Validators to apply\n",
    "            \"null\",\n",
    "            \"self_intersecting\",\n",
    "            \"orientation\",\n",
    "            \"crs_bounds\",\n",
    "            \"area\",\n",
    "        ),\n",
    "        add_validation_columns: bool = True,  # Add column to show errors\n",
    "        apply_fixes: bool = True,  # Update geometry\n",
    "    ) -> gpd.GeoDataFrame:\n",
    "        self.gdf = gdf\n",
    "        self.validators = validators\n",
    "        self.add_validation_columns = add_validation_columns\n",
    "        self.apply_fixes = apply_fixes\n",
    "\n",
    "    def _get_validators(self) -> Sequence[BaseValidator]:\n",
    "        \"\"\"Gets a list of Validator Classes based on string\"\"\"\n",
    "        validators_classes = []\n",
    "        for validator in self.validators:\n",
    "            if isinstance(validator, str):\n",
    "                if validator not in self.validators_map:\n",
    "                    raise ValidationError(\"Invalid validator.\")\n",
    "                validators_classes.append(self.validators_map[validator])\n",
    "            elif issubclass(validator, BaseValidator):\n",
    "                validators_classes.append(validator)\n",
    "            else:\n",
    "                raise ValidationError(\"Invalid validator.\")\n",
    "        return validators_classes"
   ]
  },
  {
   "cell_type": "code",
   "execution_count": 51,
   "metadata": {},
   "outputs": [],
   "source": [
    "# export\n",
    "\n",
    "\n",
    "@patch\n",
    "def validate_all(self: GeometryValidation) -> gpd.GeoDataFrame:\n",
    "    \"\"\"Sequentially run validators\"\"\"\n",
    "    validators = self._get_validators()\n",
    "    gdf = self.gdf\n",
    "    for validator in validators:\n",
    "        gdf = validator(\n",
    "            add_new_column=self.add_validation_columns,\n",
    "            apply_fix=self.apply_fixes,\n",
    "        ).validate(gdf)\n",
    "    return gdf"
   ]
  },
  {
   "cell_type": "code",
   "execution_count": 52,
   "metadata": {},
   "outputs": [],
   "source": [
    "# hide\n",
    "# no_test\n",
    "from nbdev.export import notebook2script\n",
    "\n",
    "notebook2script(\"00_validation.ipynb\")"
   ]
  }
 ],
 "metadata": {
  "kernelspec": {
   "display_name": "Python 3",
   "language": "python",
   "name": "python3"
  },
  "language_info": {
   "codemirror_mode": {
    "name": "ipython",
    "version": 3
   },
   "file_extension": ".py",
   "mimetype": "text/x-python",
   "name": "python",
   "nbconvert_exporter": "python",
   "pygments_lexer": "ipython3",
   "version": "3.9.13"
  },
  "vscode": {
   "interpreter": {
    "hash": "96504261293d914944b76c862bc572bac83368dd32313a7543258cc152adf9e9"
   }
  }
 },
 "nbformat": 4,
 "nbformat_minor": 4
}
