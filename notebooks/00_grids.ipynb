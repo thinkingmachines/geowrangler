{
 "cells": [
  {
   "cell_type": "code",
   "execution_count": null,
   "metadata": {},
   "outputs": [],
   "source": [
    "# default_exp grids"
   ]
  },
  {
   "cell_type": "code",
   "execution_count": null,
   "metadata": {},
   "outputs": [],
   "source": [
    "# hide\n",
    "%reload_ext lab_black"
   ]
  },
  {
   "cell_type": "markdown",
   "metadata": {},
   "source": [
    "# Grids\n",
    "\n",
    "> grid generators"
   ]
  },
  {
   "cell_type": "code",
   "execution_count": null,
   "metadata": {},
   "outputs": [],
   "source": [
    "# hide\n",
    "from nbdev.showdoc import *"
   ]
  },
  {
   "cell_type": "code",
   "execution_count": null,
   "metadata": {},
   "outputs": [],
   "source": [
    "# export\n",
    "import logging\n",
    "\n",
    "import numpy as np\n",
    "from geopandas import GeoDataFrame\n",
    "from shapely.geometry import Polygon\n",
    "\n",
    "logger = logging.getLogger(__name__)\n",
    "\n",
    "\n",
    "class GridGenerator:\n",
    "    def __init__(\n",
    "        self,\n",
    "        gdf: GeoDataFrame,\n",
    "        grid_size: float,\n",
    "        grid_projection: str = \"EPSG:3857\",\n",
    "    ):\n",
    "        self.gdf = gdf\n",
    "        self.grid_size = grid_size\n",
    "        self.grid_projection = grid_projection\n",
    "\n",
    "    def get_ranges(self):\n",
    "        \"\"\"Get ranges of the top and left corners of grid\"\"\"\n",
    "        reprojected_gdf = self.gdf.to_crs(self.grid_projection)\n",
    "        minx, miny, maxx, maxy = reprojected_gdf.total_bounds\n",
    "        xrange = np.arange(minx, maxx, self.grid_size)\n",
    "        yrange = np.arange(miny, maxy, self.grid_size)\n",
    "        return xrange, yrange\n",
    "\n",
    "    def create_grid(self, x: float, y: float) -> Polygon:\n",
    "        \"\"\"Create a grid based on the top left coordinates and grid_size\"\"\"\n",
    "        return Polygon(\n",
    "            [\n",
    "                (x, y),\n",
    "                (x + self.grid_size, y),\n",
    "                (x + self.grid_size, y + self.grid_size),\n",
    "                (x, y + self.grid_size),\n",
    "            ]\n",
    "        )\n",
    "\n",
    "    def generate_grids(self) -> GeoDataFrame:\n",
    "        xrange, yrange = self.get_ranges()\n",
    "        polygons = []\n",
    "        for x_idx, x in enumerate(xrange):\n",
    "            for y_idx, y in enumerate(yrange):\n",
    "                polygons.append(\n",
    "                    {\"x\": x_idx, \"y\": y_idx, \"geometry\": self.create_grid(x, y)}\n",
    "                )\n",
    "        dest = GeoDataFrame(polygons, geometry=\"geometry\", crs=self.grid_projection)\n",
    "        dest_reproject = dest.to_crs(self.gdf.crs)\n",
    "        final = dest_reproject[dest_reproject.intersects(self.gdf.unary_union)]\n",
    "        return final"
   ]
  },
  {
   "cell_type": "code",
   "execution_count": null,
   "metadata": {},
   "outputs": [
    {
     "name": "stdout",
     "output_type": "stream",
     "text": [
      "Converted 00_grids.ipynb.\n"
     ]
    }
   ],
   "source": [
    "# hide\n",
    "from nbdev.export import notebook2script\n",
    "\n",
    "notebook2script(\"00_grids.ipynb\")"
   ]
  }
 ],
 "metadata": {
  "kernelspec": {
   "display_name": "Python 3",
   "language": "python",
   "name": "python3"
  }
 },
 "nbformat": 4,
 "nbformat_minor": 4
}
