{
 "cells": [
  {
   "cell_type": "code",
   "execution_count": 1,
   "metadata": {},
   "outputs": [],
   "source": [
    "# default_exp grids"
   ]
  },
  {
   "cell_type": "code",
   "execution_count": 2,
   "metadata": {},
   "outputs": [],
   "source": [
    "# hide\n",
    "# no_test\n",
    "! [ -e /content ] && pip install -Uqq geowrangler"
   ]
  },
  {
   "cell_type": "code",
   "execution_count": 3,
   "metadata": {},
   "outputs": [],
   "source": [
    "# hide\n",
    "# no_test\n",
    "%reload_ext autoreload\n",
    "%autoreload 2\n",
    "%matplotlib inline"
   ]
  },
  {
   "cell_type": "markdown",
   "metadata": {},
   "source": [
    "# Grids\n",
    "\n",
    "> grid generators"
   ]
  },
  {
   "cell_type": "code",
   "execution_count": 4,
   "metadata": {},
   "outputs": [
    {
     "name": "stderr",
     "output_type": "stream",
     "text": [
      "/home/jt/.cache/pypoetry/virtualenvs/geowrangler-U9oiUrW5-py3.9/lib/python3.9/site-packages/geopandas/_compat.py:111: UserWarning: The Shapely GEOS version (3.10.2-CAPI-1.16.0) is incompatible with the GEOS version PyGEOS was compiled with (3.10.1-CAPI-1.16.0). Conversions between both will be slow.\n",
      "  warnings.warn(\n"
     ]
    }
   ],
   "source": [
    "# exporti\n",
    "import logging\n",
    "from typing import List, Tuple, Union\n",
    "\n",
    "import h3\n",
    "import morecantile\n",
    "import numpy as np\n",
    "from fastcore.basics import patch\n",
    "from geopandas import GeoDataFrame\n",
    "from pandas import DataFrame\n",
    "from pyproj import Transformer\n",
    "from shapely.geometry import Polygon, shape\n",
    "from shapely.prepared import prep\n",
    "\n",
    "logger = logging.getLogger(__name__)"
   ]
  },
  {
   "cell_type": "code",
   "execution_count": 5,
   "metadata": {},
   "outputs": [],
   "source": [
    "# export\n",
    "\n",
    "\n",
    "class SquareGridBoundary:\n",
    "    \"\"\"Reusing Boundary. x_min, y_min, x_max, and y_max are in the the target crs\"\"\"\n",
    "\n",
    "    def __init__(self, x_min: float, y_min: float, x_max: float, y_max: float):\n",
    "        self.x_min = x_min\n",
    "        self.y_min = y_min\n",
    "        self.x_max = x_max\n",
    "        self.y_max = y_max\n",
    "\n",
    "    def get_range_subset(\n",
    "        self, x_min: float, y_min: float, x_max: float, y_max: float, cell_size: float\n",
    "    ) -> Tuple[float, List[float], float, List[float]]:\n",
    "        \"\"\"Returns a subset of grids from the orginal boundary based on the boundary and a grid size\"\"\"\n",
    "        xrange = np.arange(self.x_min, self.x_max, cell_size)\n",
    "        yrange = np.arange(self.y_min, self.y_max, cell_size)\n",
    "        # Add cell_size buffer to catch cases where the bounds of the polygon are slightly outside\n",
    "        # the bounds. This might happen to do floating point after reprojection/unary_union\n",
    "        x_mask = (xrange >= (x_min - cell_size)) & (xrange <= (x_max + cell_size))\n",
    "        y_mask = (yrange >= (y_min - cell_size)) & (yrange <= (y_max + cell_size))\n",
    "        x_idx = np.flatnonzero(x_mask)\n",
    "        x_idx_offset = None if len(x_idx) == 0 else x_idx[0]\n",
    "        y_idx = np.flatnonzero(y_mask)\n",
    "        y_idx_offset = None if len(y_idx) == 0 else y_idx[0]\n",
    "        return (\n",
    "            x_idx_offset,\n",
    "            xrange[x_mask],\n",
    "            y_idx_offset,\n",
    "            yrange[y_mask],\n",
    "        )"
   ]
  },
  {
   "cell_type": "code",
   "execution_count": 6,
   "metadata": {},
   "outputs": [],
   "source": [
    "# export\n",
    "\n",
    "\n",
    "class SquareGridGenerator:\n",
    "    def __init__(\n",
    "        self,\n",
    "        cell_size: float,  # height and width of a square cell in meters\n",
    "        grid_projection: str = \"EPSG:3857\",  # projection of grid output\n",
    "        boundary: Union[SquareGridBoundary, List[float]] = None,  # original boundary\n",
    "    ):\n",
    "        self.cell_size = cell_size\n",
    "        self.grid_projection = grid_projection\n",
    "        self.boundary = boundary"
   ]
  },
  {
   "cell_type": "code",
   "execution_count": 7,
   "metadata": {},
   "outputs": [],
   "source": [
    "# export\n",
    "\n",
    "\n",
    "@patch\n",
    "def create_cell(\n",
    "    self: SquareGridGenerator,\n",
    "    x: float,  # x coord of top left\n",
    "    y: float,  # y coord of top left\n",
    ") -> Polygon:\n",
    "    \"\"\"Create a square cell based on the top left coordinates and cell_size\"\"\"\n",
    "    return Polygon(\n",
    "        [\n",
    "            (x, y),\n",
    "            (x + self.cell_size, y),\n",
    "            (x + self.cell_size, y + self.cell_size),\n",
    "            (x, y + self.cell_size),\n",
    "        ]\n",
    "    )"
   ]
  },
  {
   "cell_type": "code",
   "execution_count": 8,
   "metadata": {},
   "outputs": [],
   "source": [
    "# export\n",
    "@patch\n",
    "def create_grid_for_polygon(self: SquareGridGenerator, boundary, geometry):\n",
    "    x_idx_offset, xrange, y_idx_offset, yrange = boundary.get_range_subset(\n",
    "        *geometry.bounds, cell_size=self.cell_size\n",
    "    )\n",
    "    cells = {}\n",
    "    prepared_geometry = prep(geometry)\n",
    "    for x_idx, x in enumerate(xrange):\n",
    "        for y_idx, y in enumerate(yrange):\n",
    "            x_col = x_idx + x_idx_offset\n",
    "            y_col = y_idx + y_idx_offset\n",
    "            cell = self.create_cell(x, y)\n",
    "            if prepared_geometry.intersects(cell):\n",
    "                cells.update(\n",
    "                    {(x_col, y_col): {\"x\": x_col, \"y\": y_col, \"geometry\": cell}}\n",
    "                )\n",
    "    return cells"
   ]
  },
  {
   "cell_type": "code",
   "execution_count": 9,
   "metadata": {},
   "outputs": [],
   "source": [
    "# export\n",
    "\n",
    "\n",
    "@patch\n",
    "def generate_grid(self: SquareGridGenerator, gdf: GeoDataFrame) -> GeoDataFrame:\n",
    "    reprojected_gdf = gdf.to_crs(self.grid_projection)\n",
    "    if self.boundary is None:\n",
    "        boundary = SquareGridBoundary(*reprojected_gdf.total_bounds)\n",
    "    elif isinstance(self.boundary, SquareGridBoundary):\n",
    "        boundary = self.boundary\n",
    "    else:\n",
    "        transformer = Transformer.from_crs(gdf.crs, reprojected_gdf.crs, always_xy=True)\n",
    "        x_min, y_min = transformer.transform(self.boundary[0], self.boundary[1])\n",
    "        x_max, y_max = transformer.transform(self.boundary[2], self.boundary[3])\n",
    "        boundary = SquareGridBoundary(x_min, y_min, x_max, y_max)\n",
    "\n",
    "    polygons = {}\n",
    "    unary_union = reprojected_gdf.unary_union\n",
    "    if isinstance(unary_union, Polygon):\n",
    "        polygons.update(self.create_grid_for_polygon(boundary, unary_union))\n",
    "    else:\n",
    "        for geom in unary_union.geoms:\n",
    "            polygons.update(self.create_grid_for_polygon(boundary, geom))\n",
    "    if polygons:\n",
    "        dest = GeoDataFrame(\n",
    "            list(polygons.values()), geometry=\"geometry\", crs=self.grid_projection\n",
    "        )\n",
    "        dest.to_crs(gdf.crs, inplace=True)\n",
    "        return dest\n",
    "    else:\n",
    "        return GeoDataFrame(\n",
    "            {\"x\": [], \"y\": [], \"geometry\": []}, geometry=\"geometry\", crs=gdf.crs\n",
    "        )"
   ]
  },
  {
   "cell_type": "code",
   "execution_count": 10,
   "metadata": {},
   "outputs": [],
   "source": [
    "# export\n",
    "class H3GridGenerator:\n",
    "    def __init__(\n",
    "        self,\n",
    "        resolution: int,  # Resolution of hexagon. See: https://h3geo.org/docs/core-library/restable/ for more info\n",
    "        return_geometry: bool = True,  # If geometry should be returned. Setting this to false will only return hex_ids\n",
    "    ):\n",
    "        self.resolution = resolution\n",
    "        self.return_geometry = return_geometry"
   ]
  },
  {
   "cell_type": "code",
   "execution_count": 11,
   "metadata": {},
   "outputs": [],
   "source": [
    "# export\n",
    "@patch\n",
    "def get_hexes_for_polygon(self: H3GridGenerator, poly: Polygon):\n",
    "    return h3.polyfill(\n",
    "        poly.__geo_interface__,\n",
    "        self.resolution,\n",
    "        geo_json_conformant=True,\n",
    "    )"
   ]
  },
  {
   "cell_type": "code",
   "execution_count": 12,
   "metadata": {},
   "outputs": [],
   "source": [
    "# export\n",
    "@patch\n",
    "def generate_grid(self: H3GridGenerator, gdf: GeoDataFrame) -> DataFrame:\n",
    "    reprojected_gdf = gdf.to_crs(\"epsg:4326\")  # h3 hexes are in epsg:4326 CRS\n",
    "    hex_ids = set()\n",
    "    unary_union = reprojected_gdf.unary_union\n",
    "    if isinstance(unary_union, Polygon):\n",
    "        hex_ids.update(self.get_hexes_for_polygon(unary_union))\n",
    "    else:\n",
    "        for geom in reprojected_gdf.unary_union.geoms:\n",
    "            _hexes = self.get_hexes_for_polygon(geom)\n",
    "            hex_ids.update(_hexes)\n",
    "    df = DataFrame({\"hex_id\": list(hex_ids)})\n",
    "    if self.return_geometry is False:\n",
    "        return df\n",
    "    hexes = df.hex_id.apply(\n",
    "        lambda id: Polygon(h3.h3_to_geo_boundary(id, geo_json=True))\n",
    "    )\n",
    "    h3_gdf = GeoDataFrame(\n",
    "        df,\n",
    "        geometry=hexes,\n",
    "        crs=\"epsg:4326\",\n",
    "    )\n",
    "    return h3_gdf.to_crs(gdf.crs)"
   ]
  },
  {
   "cell_type": "code",
   "execution_count": 13,
   "metadata": {},
   "outputs": [],
   "source": [
    "# export\n",
    "class BingTileGridGenerator:\n",
    "    def __init__(\n",
    "        self,\n",
    "        zoom_level: int,  # Zoom level of tile. See: https://docs.microsoft.com/en-us/bingmaps/articles/bing-maps-tile-system for more info\n",
    "        return_geometry: bool = True,  # If geometry should be returned. Setting this to false will only return quadkeys\n",
    "    ):\n",
    "        self.zoom_level = zoom_level\n",
    "        self.return_geometry = return_geometry\n",
    "        self.tms = morecantile.tms.get(\"WebMercatorQuad\")\n",
    "\n",
    "    def tile_to_polygon(self, tile: morecantile.Tile):\n",
    "        \"\"\"Concerts a tile to geometry\"\"\"\n",
    "        return shape(self.tms.feature(tile)[\"geometry\"])\n",
    "\n",
    "    def get_tiles_for_polygon(\n",
    "        self,\n",
    "        polygon: Polygon,\n",
    "        filter: bool = True,\n",
    "    ):\n",
    "        \"\"\"Get the interseting tiles with polygon for a zoom level. Polygon should be in EPSG:4326\"\"\"\n",
    "        x_min, y_min, x_max, y_max = polygon.bounds\n",
    "        tiles = (\n",
    "            (self.tms.quadkey(tile), self.tile_to_polygon(tile))\n",
    "            for tile in self.tms.tiles(x_min, y_min, x_max, y_max, self.zoom_level)\n",
    "        )\n",
    "        # Return dict to make it easier to deduplicate\n",
    "        if filter:\n",
    "            tiles = {qk: geom for qk, geom in tiles if polygon.intersects(geom)}\n",
    "        else:\n",
    "            tiles = {qk: geom for qk, geom in tiles}\n",
    "        return tiles"
   ]
  },
  {
   "cell_type": "code",
   "execution_count": 14,
   "metadata": {},
   "outputs": [],
   "source": [
    "# export\n",
    "@patch\n",
    "def generate_grid(self: BingTileGridGenerator, gdf: GeoDataFrame) -> DataFrame:\n",
    "    reprojected_gdf = gdf.to_crs(\"epsg:4326\")  # quadkeys hexes are in epsg:4326 CRS\n",
    "    tiles = {}\n",
    "    unary_union = reprojected_gdf.unary_union\n",
    "    if isinstance(unary_union, Polygon):\n",
    "        tiles.update(self.get_tiles_for_polygon(unary_union))\n",
    "    else:\n",
    "        for geom in reprojected_gdf.unary_union.geoms:\n",
    "            _tiles = self.get_tiles_for_polygon(geom)\n",
    "            tiles.update(_tiles)\n",
    "    quadkey, geom = zip(*((k, v) for k, v in tiles.items()))\n",
    "\n",
    "    if self.return_geometry is False:\n",
    "        df = DataFrame({\"quadkey\": list(quadkey)})\n",
    "        return df\n",
    "\n",
    "    tiles_gdf = GeoDataFrame(\n",
    "        {\"quadkey\": list(quadkey)},\n",
    "        geometry=list(geom),\n",
    "        crs=\"epsg:4326\",\n",
    "    )\n",
    "    return tiles_gdf.to_crs(gdf.crs)"
   ]
  },
  {
   "cell_type": "code",
   "execution_count": 15,
   "metadata": {},
   "outputs": [
    {
     "name": "stdout",
     "output_type": "stream",
     "text": [
      "Converted 00_grids.ipynb.\n"
     ]
    }
   ],
   "source": [
    "# hide\n",
    "# no_test\n",
    "from nbdev.export import notebook2script\n",
    "\n",
    "notebook2script(\"00_grids.ipynb\")"
   ]
  }
 ],
 "metadata": {
  "kernelspec": {
   "display_name": "Python 3 (ipykernel)",
   "language": "python",
   "name": "python3"
  },
  "language_info": {
   "codemirror_mode": {
    "name": "ipython",
    "version": 3
   },
   "file_extension": ".py",
   "mimetype": "text/x-python",
   "name": "python",
   "nbconvert_exporter": "python",
   "pygments_lexer": "ipython3",
   "version": "3.9.1"
  }
 },
 "nbformat": 4,
 "nbformat_minor": 4
}
