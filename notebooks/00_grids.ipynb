{
 "cells": [
  {
   "cell_type": "code",
   "execution_count": 1,
   "metadata": {},
   "outputs": [],
   "source": [
    "# default_exp grids"
   ]
  },
  {
   "cell_type": "code",
   "execution_count": 2,
   "metadata": {},
   "outputs": [],
   "source": [
    "# hide\n",
    "# no_test\n",
    "! [ -e /content ] && pip install -Uqq git+https://github.com/thinkingmachines/geowrangler.git"
   ]
  },
  {
   "cell_type": "code",
   "execution_count": 3,
   "metadata": {},
   "outputs": [],
   "source": [
    "# hide\n",
    "# no_test\n",
    "%reload_ext autoreload\n",
    "%autoreload 2\n",
    "%matplotlib inline"
   ]
  },
  {
   "cell_type": "code",
   "execution_count": 1,
   "metadata": {},
   "outputs": [],
   "source": [
    "# hide\n",
    "# no_test\n",
    "# conditionally load nb_black cell magic\n",
    "import sys\n",
    "\n",
    "if \"google.colab\" not in sys.modules:\n",
    "    from IPython import get_ipython\n",
    "\n",
    "    ipython = get_ipython()\n",
    "    ipython.magic(\"reload_ext lab_black\")"
   ]
  },
  {
   "cell_type": "markdown",
   "metadata": {},
   "source": [
    "# Grids\n",
    "\n",
    "> grid generators"
   ]
  },
  {
   "cell_type": "code",
   "execution_count": 25,
   "metadata": {},
   "outputs": [],
   "source": [
    "# exporti\n",
    "import logging\n",
    "from typing import List, Tuple, Union\n",
    "\n",
    "import numpy as np\n",
    "from fastcore.basics import patch\n",
    "from geopandas import GeoDataFrame\n",
    "from pyproj import Transformer\n",
    "from shapely.geometry import Polygon\n",
    "\n",
    "logger = logging.getLogger(__name__)"
   ]
  },
  {
   "cell_type": "code",
   "execution_count": 26,
   "metadata": {},
   "outputs": [],
   "source": [
    "# export\n",
    "\n",
    "\n",
    "class SquareGridBoundary:\n",
    "    \"\"\"Reusing Boundary. x_min, y_min, x_max, and y_max are in the the target crs\"\"\"\n",
    "\n",
    "    def __init__(self, x_min: float, y_min: float, x_max: float, y_max: float):\n",
    "        self.x_min = x_min\n",
    "        self.y_min = y_min\n",
    "        self.x_max = x_max\n",
    "        self.y_max = y_max\n",
    "\n",
    "    def get_range_subset(\n",
    "        self, x_min: float, y_min: float, x_max: float, y_max: float, cell_size: float\n",
    "    ) -> Tuple[float, List[float], float, List[float]]:\n",
    "        \"\"\"Returns a subset of grids from the orginal boundary based on the boundary and a grid size\"\"\"\n",
    "        xrange = np.arange(self.x_min, self.x_max, cell_size)\n",
    "        yrange = np.arange(self.y_min, self.y_max, cell_size)\n",
    "        x_mask = (xrange >= x_min) & (xrange <= x_max + cell_size)\n",
    "        y_mask = (yrange >= y_min) & (yrange <= y_max + cell_size)\n",
    "        x_idx = np.flatnonzero(x_mask)\n",
    "        x_idx_offset = None if len(x_idx) == 0 else x_idx[0]\n",
    "        y_idx = np.flatnonzero(y_mask)\n",
    "        y_idx_offset = None if len(y_idx) == 0 else y_idx[0]\n",
    "        return (\n",
    "            x_idx_offset,\n",
    "            xrange[x_mask],\n",
    "            y_idx_offset,\n",
    "            yrange[y_mask],\n",
    "        )"
   ]
  },
  {
   "cell_type": "code",
   "execution_count": 13,
   "metadata": {},
   "outputs": [],
   "source": [
    "# export\n",
    "\n",
    "\n",
    "class SquareGridGenerator:\n",
    "    def __init__(\n",
    "        self,\n",
    "        gdf: GeoDataFrame,  # a geodataframe to create grids from\n",
    "        cell_size: float,  # height and width of a square cell in meters\n",
    "        grid_projection: str = \"EPSG:3857\",  # projection of grid output\n",
    "        boundary: Union[SquareGridBoundary, List[float]] = None,  # original boundary\n",
    "    ):\n",
    "        self.gdf = gdf\n",
    "        self.cell_size = cell_size\n",
    "        self.grid_projection = grid_projection\n",
    "        self.boundary = boundary"
   ]
  },
  {
   "cell_type": "code",
   "execution_count": 14,
   "metadata": {},
   "outputs": [],
   "source": [
    "# export\n",
    "\n",
    "\n",
    "@patch\n",
    "def create_cell(\n",
    "    self: SquareGridGenerator,\n",
    "    x: float,  # x coord of top left\n",
    "    y: float,  # y coord of top left\n",
    ") -> Polygon:\n",
    "    \"\"\"Create a square cell based on the top left coordinates and cell_size\"\"\"\n",
    "    return Polygon(\n",
    "        [\n",
    "            (x, y),\n",
    "            (x + self.cell_size, y),\n",
    "            (x + self.cell_size, y + self.cell_size),\n",
    "            (x, y + self.cell_size),\n",
    "        ]\n",
    "    )"
   ]
  },
  {
   "cell_type": "code",
   "execution_count": 22,
   "metadata": {},
   "outputs": [],
   "source": [
    "# export\n",
    "\n",
    "\n",
    "@patch\n",
    "def generate_grid(self: SquareGridGenerator) -> GeoDataFrame:\n",
    "    reprojected_gdf = self.gdf.to_crs(self.grid_projection)\n",
    "    if self.boundary is None:\n",
    "        boundary = SquareGridBoundary(*reprojected_gdf.total_bounds)\n",
    "    elif isinstance(self.boundary, SquareGridBoundary):\n",
    "        boundary = self.boundary\n",
    "    else:\n",
    "        transformer = Transformer.from_crs(\n",
    "            self.gdf.crs, reprojected_gdf.crs, always_xy=True\n",
    "        )\n",
    "        x_min, y_min = transformer.transform(self.boundary[0], self.boundary[1])\n",
    "        x_max, y_max = transformer.transform(self.boundary[2], self.boundary[3])\n",
    "        boundary = SquareGridBoundary(x_min, y_min, x_max, y_max)\n",
    "\n",
    "    # TODO: Catch case where no geometries are within the boundary\n",
    "    x_idx_offset, xrange, y_idx_offset, yrange = boundary.get_range_subset(\n",
    "        *reprojected_gdf.total_bounds, cell_size=self.cell_size\n",
    "    )\n",
    "    polygons = []\n",
    "    for x_idx, x in enumerate(xrange):\n",
    "        for y_idx, y in enumerate(yrange):\n",
    "            polygons.append(\n",
    "                {\n",
    "                    \"x\": x_idx + x_idx_offset,\n",
    "                    \"y\": y_idx + y_idx_offset,\n",
    "                    \"geometry\": self.create_cell(x, y),\n",
    "                }\n",
    "            )\n",
    "    # Cache case where no cell intersect with the aoi\n",
    "    if polygons:\n",
    "        dest = GeoDataFrame(polygons, geometry=\"geometry\", crs=self.grid_projection)\n",
    "        dest_reproject = dest.to_crs(self.gdf.crs)\n",
    "        final = dest_reproject[dest_reproject.intersects(self.gdf.unary_union)]\n",
    "        return final\n",
    "    else:\n",
    "        return GeoDataFrame(\n",
    "            {\"x\": [], \"y\": [], \"geometry\": []}, geometry=\"geometry\", crs=self.gdf.crs\n",
    "        )"
   ]
  },
  {
   "cell_type": "code",
   "execution_count": 29,
   "metadata": {},
   "outputs": [
    {
     "name": "stdout",
     "output_type": "stream",
     "text": [
      "Converted 00_grids.ipynb.\n"
     ]
    }
   ],
   "source": [
    "# hide\n",
    "# no_test\n",
    "from nbdev.export import notebook2script\n",
    "\n",
    "notebook2script(\"00_grids.ipynb\")"
   ]
  }
 ],
 "metadata": {
  "kernelspec": {
   "display_name": "Python 3",
   "language": "python",
   "name": "python3"
  },
  "language_info": {
   "codemirror_mode": {
    "name": "ipython",
    "version": 3
   },
   "file_extension": ".py",
   "mimetype": "text/x-python",
   "name": "python",
   "nbconvert_exporter": "python",
   "pygments_lexer": "ipython3",
   "version": "3.7.12"
  }
 },
 "nbformat": 4,
 "nbformat_minor": 4
}
