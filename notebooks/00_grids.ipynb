{
 "cells": [
  {
   "cell_type": "code",
   "execution_count": 1,
   "metadata": {},
   "outputs": [],
   "source": [
    "# default_exp grids"
   ]
  },
  {
   "cell_type": "code",
   "execution_count": 2,
   "metadata": {},
   "outputs": [],
   "source": [
    "# hide\n",
    "%reload_ext lab_black"
   ]
  },
  {
   "cell_type": "markdown",
   "metadata": {},
   "source": [
    "# Grids\n",
    "\n",
    "> grid generators"
   ]
  },
  {
   "cell_type": "code",
   "execution_count": 3,
   "metadata": {},
   "outputs": [],
   "source": [
    "# exporti\n",
    "import logging\n",
    "\n",
    "import numpy as np\n",
    "from fastcore.basics import patch\n",
    "from geopandas import GeoDataFrame\n",
    "from shapely.geometry import Polygon\n",
    "\n",
    "logger = logging.getLogger(__name__)"
   ]
  },
  {
   "cell_type": "code",
   "execution_count": 4,
   "metadata": {},
   "outputs": [],
   "source": [
    "# export\n",
    "\n",
    "\n",
    "class GridGenerator:\n",
    "    def __init__(\n",
    "        self,\n",
    "        gdf: GeoDataFrame,  # a geodataframe to create grids from\n",
    "        grid_size: float,  # grid size in meters\n",
    "        grid_projection: str = \"EPSG:3857\",  # projection of grid output\n",
    "    ):\n",
    "        self.gdf = gdf\n",
    "        self.grid_size = grid_size\n",
    "        self.grid_projection = grid_projection"
   ]
  },
  {
   "cell_type": "code",
   "execution_count": 5,
   "metadata": {},
   "outputs": [],
   "source": [
    "# export\n",
    "\n",
    "\n",
    "@patch\n",
    "def get_ranges(self: GridGenerator) -> (float, float):\n",
    "    \"\"\"Get ranges of the top and left corners of grid\"\"\"\n",
    "    reprojected_gdf = self.gdf.to_crs(self.grid_projection)\n",
    "    minx, miny, maxx, maxy = reprojected_gdf.total_bounds\n",
    "    xrange = np.arange(minx, maxx, self.grid_size)\n",
    "    yrange = np.arange(miny, maxy, self.grid_size)\n",
    "    return xrange, yrange"
   ]
  },
  {
   "cell_type": "code",
   "execution_count": 6,
   "metadata": {},
   "outputs": [],
   "source": [
    "# export\n",
    "\n",
    "\n",
    "@patch\n",
    "def create_grid(\n",
    "    self: GridGenerator,\n",
    "    x: float,  # x coord of top left\n",
    "    y: float,  # y coord of top left\n",
    ") -> Polygon:\n",
    "    \"\"\"Create a grid based on the top left coordinates and grid_size\"\"\"\n",
    "    return Polygon(\n",
    "        [\n",
    "            (x, y),\n",
    "            (x + self.grid_size, y),\n",
    "            (x + self.grid_size, y + self.grid_size),\n",
    "            (x, y + self.grid_size),\n",
    "        ]\n",
    "    )"
   ]
  },
  {
   "cell_type": "code",
   "execution_count": 7,
   "metadata": {},
   "outputs": [],
   "source": [
    "# export\n",
    "\n",
    "\n",
    "@patch\n",
    "def generate_grids(self: GridGenerator) -> GeoDataFrame:\n",
    "    xrange, yrange = self.get_ranges()\n",
    "    polygons = []\n",
    "    for x_idx, x in enumerate(xrange):\n",
    "        for y_idx, y in enumerate(yrange):\n",
    "            polygons.append(\n",
    "                {\"x\": x_idx, \"y\": y_idx, \"geometry\": self.create_grid(x, y)}\n",
    "            )\n",
    "    dest = GeoDataFrame(polygons, geometry=\"geometry\", crs=self.grid_projection)\n",
    "    dest_reproject = dest.to_crs(self.gdf.crs)\n",
    "    final = dest_reproject[dest_reproject.intersects(self.gdf.unary_union)]\n",
    "    return final"
   ]
  },
  {
   "cell_type": "code",
   "execution_count": 8,
   "metadata": {},
   "outputs": [
    {
     "name": "stdout",
     "output_type": "stream",
     "text": [
      "Converted 00_grids.ipynb.\n"
     ]
    }
   ],
   "source": [
    "# hide\n",
    "from nbdev.export import notebook2script\n",
    "\n",
    "notebook2script(\"00_grids.ipynb\")"
   ]
  }
 ],
 "metadata": {
  "kernelspec": {
   "display_name": "Python 3",
   "language": "python",
   "name": "python3"
  },
  "language_info": {
   "codemirror_mode": {
    "name": "ipython",
    "version": 3
   },
   "file_extension": ".py",
   "mimetype": "text/x-python",
   "name": "python",
   "nbconvert_exporter": "python",
   "pygments_lexer": "ipython3",
   "version": "3.9.12"
  }
 },
 "nbformat": 4,
 "nbformat_minor": 4
}
