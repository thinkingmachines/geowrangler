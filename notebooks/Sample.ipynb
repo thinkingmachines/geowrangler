{
 "cells": [
  {
   "cell_type": "markdown",
   "id": "a0f8e522-4ce3-4d13-8150-2481ecb5ffb3",
   "metadata": {},
   "source": [
    "# Sample\n",
    "> Examples of geowrangler usage"
   ]
  },
  {
   "cell_type": "code",
   "execution_count": null,
   "id": "ec83c6b5-c214-4849-aaba-c75bc75fe171",
   "metadata": {},
   "outputs": [],
   "source": [
    "from geowrangler import utils"
   ]
  },
  {
   "cell_type": "code",
   "execution_count": null,
   "id": "bb2b739a-4cb2-41e1-98b4-fc2d13a3c73a",
   "metadata": {},
   "outputs": [
    {
     "data": {
      "text/plain": [
       "3"
      ]
     },
     "execution_count": null,
     "metadata": {},
     "output_type": "execute_result"
    }
   ],
   "source": [
    "utils.add(1, 2)"
   ]
  }
 ],
 "metadata": {
  "kernelspec": {
   "display_name": "Python 3",
   "language": "python",
   "name": "python3"
  }
 },
 "nbformat": 4,
 "nbformat_minor": 5
}
