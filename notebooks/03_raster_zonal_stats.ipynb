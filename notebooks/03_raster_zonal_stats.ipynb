{
 "cells": [
  {
   "cell_type": "code",
   "execution_count": 1,
   "metadata": {
    "tags": []
   },
   "outputs": [],
   "source": [
    "# default_exp raster_zonal_stats"
   ]
  },
  {
   "cell_type": "code",
   "execution_count": 2,
   "metadata": {},
   "outputs": [],
   "source": [
    "# hide\n",
    "# no_test\n",
    "! [ -e /content ] && pip install -Uqq geowrangler"
   ]
  },
  {
   "cell_type": "code",
   "execution_count": 3,
   "metadata": {},
   "outputs": [],
   "source": [
    "# hide\n",
    "# no_test\n",
    "!mkdir -p ../data\n",
    "![ -e /content ] && ln -s ../data ."
   ]
  },
  {
   "cell_type": "code",
   "execution_count": 4,
   "metadata": {},
   "outputs": [],
   "source": [
    "# hide\n",
    "# no_test\n",
    "!mkdir -p ../data\n",
    "# download sample geojson files from repo\n",
    "![ ! -e ../data/sample_terrain.tif ] && curl -s -o ../data/sample_terrain.tif https://raw.githubusercontent.com/thinkingmachines/geowrangler/master/data/sample_terrain.tif\n",
    "![ ! -e ../data/region3_admin.geojson ] && curl -s -o ../data/region3_admin.geojson https://raw.githubusercontent.com/thinkingmachines/geowrangler/master/data/region3_admin.geojson\n",
    "# originally from https://data.worldpop.org/GIS/Population/Global_2000_2020_Constrained/2020/BSGM/PHL/phl_ppp_2020_constrained.tif\n",
    "![ ! -e ../data/phl_ppp_2020_constrained.tif ] && curl -s -o ../data/phl_ppp_2020_constrained.tif https://raw.githubusercontent.com/thinkingmachines/geowrangler/master/data/phl_ppp_2020_constrained.tif"
   ]
  },
  {
   "cell_type": "code",
   "execution_count": 5,
   "metadata": {},
   "outputs": [],
   "source": [
    "# hide\n",
    "# no_test\n",
    "%reload_ext autoreload\n",
    "%autoreload 2\n",
    "%matplotlib inline"
   ]
  },
  {
   "cell_type": "markdown",
   "metadata": {
    "tags": []
   },
   "source": [
    "# Raster Zonal Stats"
   ]
  },
  {
   "cell_type": "markdown",
   "metadata": {
    "tags": []
   },
   "source": [
    "> generating zonal stats from raster data\n",
    "\n",
    "Note: This module is a thin layer on top of the `rasterstats` package to make its interface more compatible with the other geowrangler modules (e.g. vector zonal stats)"
   ]
  },
  {
   "cell_type": "code",
   "execution_count": 6,
   "metadata": {},
   "outputs": [],
   "source": [
    "# export\n",
    "from pathlib import Path\n",
    "from typing import Any, Dict, Union\n",
    "\n",
    "import geopandas as gpd\n",
    "import pandas as pd\n",
    "import rasterio\n",
    "import rasterstats as rs\n",
    "\n",
    "from geowrangler.vector_zonal_stats import _expand_aggs, _fillnas, _fix_agg"
   ]
  },
  {
   "cell_type": "code",
   "execution_count": 7,
   "metadata": {},
   "outputs": [],
   "source": [
    "# export\n",
    "def create_raster_zonal_stats(\n",
    "    aoi: Union[  # The area of interest geodataframe, or path to the vector file\n",
    "        str, gpd.GeoDataFrame\n",
    "    ],\n",
    "    data: Union[str, Path],  # The path to the raster data file\n",
    "    aggregation: Dict[  # A dict specifying the aggregation. See `create_zonal_stats` from the `geowrangler.vector_zonal_stats` module for more details\n",
    "        str, Any\n",
    "    ],\n",
    "    extra_args: Dict[  # Extra arguments passed to `rasterstats.zonal_stats` method\n",
    "        str, Any\n",
    "    ] = dict(\n",
    "        layer=0,\n",
    "        band_num=1,\n",
    "        nodata=None,\n",
    "        affine=None,\n",
    "        all_touched=False,\n",
    "    ),\n",
    ") -> gpd.GeoDataFrame:\n",
    "\n",
    "    \"\"\"Compute zonal stats with a vector areas of interest (aoi) from raster data sources.\n",
    "    This is a thin layer  over the `zonal_stats` method from\n",
    "    the `rasterstats` python package for compatibility with other geowrangler modules.\n",
    "    This method currently only supports 1 band for each call, so if you want to create zonal\n",
    "    stats for multiple bands with the same raster data, you can call this method for\n",
    "    each band (make sure to specify the correct `band_num` in the `extra_args` parameter).\n",
    "    See https://pythonhosted.org/rasterstats/manual.html#zonal-statistics for more details\"\"\"\n",
    "    fixed_agg = _fix_agg(aggregation)\n",
    "\n",
    "    if \"stats\" in extra_args:\n",
    "        extra_args.pop(\"stats\")  # use aggregation\n",
    "\n",
    "    if \"geojson_out\" in extra_args:\n",
    "        extra_args.pop(\"geojson_out\")  # never add features\n",
    "\n",
    "    if \"categorical\" in extra_args:\n",
    "        extra_args.pop(\"categorical\")  # no use for categorical and categorical maps\n",
    "    if \"categorical_map\" in extra_args:\n",
    "        extra_args.pop(\"categorical_map\")\n",
    "\n",
    "    if \"prefix\" in extra_args:\n",
    "        extra_args.pop(\"prefix\")  # use agg['column'] as prefix\n",
    "\n",
    "    if \"add_stats\" in extra_args:\n",
    "        extra_args.pop(\"add_stats\")  # always use stats only\n",
    "\n",
    "    if \"nodata\" in extra_args:\n",
    "        nodata = extra_args[\"nodata\"]\n",
    "        if nodata is None:\n",
    "            extra_args.pop(\"nodata\")\n",
    "            with rasterio.open(data) as src:\n",
    "                extra_args[\"nodata\"] = src.nodata\n",
    "\n",
    "    stats = fixed_agg[\"func\"]\n",
    "    prefix = fixed_agg[\"column\"] + \"_\"\n",
    "\n",
    "    renamed_columns = {\n",
    "        f\"{prefix}{func}\": fixed_agg[\"output\"][i]\n",
    "        for (i, func) in enumerate(fixed_agg[\"func\"])\n",
    "        if f\"{prefix}{func}\" != fixed_agg[\"output\"][i]\n",
    "    }\n",
    "    results_dict = rs.zonal_stats(\n",
    "        vectors=aoi,\n",
    "        raster=data,\n",
    "        stats=stats,\n",
    "        geojson_out=False,\n",
    "        categorical=False,\n",
    "        category_map=None,\n",
    "        prefix=prefix,\n",
    "        **extra_args,\n",
    "    )\n",
    "\n",
    "    results = pd.DataFrame.from_records(results_dict)\n",
    "    results.rename(columns=renamed_columns, inplace=True)\n",
    "    expanded_aggs = _expand_aggs([fixed_agg])\n",
    "\n",
    "    if type(aoi) == str:\n",
    "        aoi = gpd.read_file(aoi)\n",
    "\n",
    "    _fillnas(expanded_aggs, results, aoi)\n",
    "\n",
    "    aoi = aoi.merge(results, how=\"left\", left_index=True, right_index=True)\n",
    "\n",
    "    return aoi"
   ]
  },
  {
   "cell_type": "code",
   "execution_count": 8,
   "metadata": {},
   "outputs": [],
   "source": [
    "# hide\n",
    "# see tests/test_vector_zonal_stats.py\n",
    "from shapely.geometry import Polygon\n",
    "\n",
    "\n",
    "def make_simple_aoi():\n",
    "    df = pd.DataFrame(\n",
    "        data={\n",
    "            \"col1\": [1, 2, 3],\n",
    "            \"lat0\": [0.0, 1.0, 2.0],\n",
    "            \"lon0\": [0.0, 0.0, 0.0],\n",
    "            \"lat1\": [0.0, 1.0, 2.0],\n",
    "            \"lon1\": [1.0, 1.0, 1.0],\n",
    "            \"lat2\": [1.0, 2.0, 3.0],\n",
    "            \"lon2\": [1.0, 1.0, 1.0],\n",
    "            \"lat3\": [1.0, 2.0, 3.0],\n",
    "            \"lon3\": [0.0, 0.0, 0.0],\n",
    "        }\n",
    "    )\n",
    "\n",
    "    def square(row):\n",
    "        return Polygon(\n",
    "            (\n",
    "                [\n",
    "                    (row.lat0, row.lon0),\n",
    "                    (row.lat1, row.lon1),\n",
    "                    (row.lat2, row.lon2),\n",
    "                    (row.lat3, row.lon3),\n",
    "                ]\n",
    "            )\n",
    "        )\n",
    "\n",
    "    return gpd.GeoDataFrame(df, geometry=df.apply(square, axis=1), crs=\"EPSG:4326\")\n",
    "\n",
    "\n",
    "simple_aoi = make_simple_aoi()\n",
    "terrain_file = \"../data/sample_terrain.tif\""
   ]
  },
  {
   "cell_type": "code",
   "execution_count": 9,
   "metadata": {},
   "outputs": [],
   "source": [
    "import matplotlib.pyplot as plt\n",
    "import numpy as np\n",
    "import rasterio"
   ]
  },
  {
   "cell_type": "code",
   "execution_count": 10,
   "metadata": {},
   "outputs": [
    {
     "name": "stdout",
     "output_type": "stream",
     "text": [
      "(707, 707) EPSG:3857 BoundingBox(left=-20.0, bottom=-19.994, right=19.994, top=20.0)\n"
     ]
    }
   ],
   "source": [
    "with rasterio.open(terrain_file) as src:\n",
    "    data = src.read(1)\n",
    "    data_crs = src.crs\n",
    "    data_bounds = src.bounds\n",
    "print(data.shape, data_crs, data_bounds)"
   ]
  },
  {
   "cell_type": "code",
   "execution_count": 11,
   "metadata": {},
   "outputs": [
    {
     "data": {
      "text/plain": [
       "array([0., 0., 3., 1.])"
      ]
     },
     "execution_count": 11,
     "metadata": {},
     "output_type": "execute_result"
    }
   ],
   "source": [
    "simple_aoi.total_bounds"
   ]
  },
  {
   "cell_type": "code",
   "execution_count": 12,
   "metadata": {},
   "outputs": [
    {
     "data": {
      "image/png": "[encoded data removed]",
      "text/plain": [
       "<Figure size 432x288 with 1 Axes>"
      ]
     },
     "metadata": {
      "needs_background": "light"
     },
     "output_type": "display_data"
    }
   ],
   "source": [
    "ax = plt.imshow(data, cmap=\"pink\")"
   ]
  },
  {
   "cell_type": "code",
   "execution_count": 13,
   "metadata": {},
   "outputs": [
    {
     "data": {
      "image/png": "[encoded data removed]",
      "text/plain": [
       "<Figure size 432x288 with 1 Axes>"
      ]
     },
     "metadata": {
      "needs_background": "light"
     },
     "output_type": "display_data"
    }
   ],
   "source": [
    "ax = simple_aoi.plot(facecolor=\"none\", edgecolor=\"blue\")"
   ]
  },
  {
   "cell_type": "code",
   "execution_count": 14,
   "metadata": {},
   "outputs": [
    {
     "name": "stdout",
     "output_type": "stream",
     "text": [
      "CPU times: user 18.5 ms, sys: 39.4 ms, total: 58 ms\n",
      "Wall time: 19 ms\n"
     ]
    }
   ],
   "source": [
    "%%time\n",
    "results = create_raster_zonal_stats(\n",
    "    simple_aoi,\n",
    "    terrain_file,\n",
    "    aggregation=dict(func=[\"mean\", \"max\", \"min\", \"std\"], column=\"elevation\"),\n",
    "    extra_args=dict(nodata=np.nan),\n",
    ")"
   ]
  },
  {
   "cell_type": "code",
   "execution_count": 15,
   "metadata": {},
   "outputs": [
    {
     "data": {
      "text/html": [
       "<div>\n",
       "<style scoped>\n",
       "    .dataframe tbody tr th:only-of-type {\n",
       "        vertical-align: middle;\n",
       "    }\n",
       "\n",
       "    .dataframe tbody tr th {\n",
       "        vertical-align: top;\n",
       "    }\n",
       "\n",
       "    .dataframe thead th {\n",
       "        text-align: right;\n",
       "    }\n",
       "</style>\n",
       "<table border=\"1\" class=\"dataframe\">\n",
       "  <thead>\n",
       "    <tr style=\"text-align: right;\">\n",
       "      <th></th>\n",
       "      <th>col1</th>\n",
       "      <th>lat0</th>\n",
       "      <th>lon0</th>\n",
       "      <th>lat1</th>\n",
       "      <th>lon1</th>\n",
       "      <th>lat2</th>\n",
       "      <th>lon2</th>\n",
       "      <th>lat3</th>\n",
       "      <th>lon3</th>\n",
       "      <th>geometry</th>\n",
       "      <th>elevation_min</th>\n",
       "      <th>elevation_max</th>\n",
       "      <th>elevation_mean</th>\n",
       "      <th>elevation_std</th>\n",
       "    </tr>\n",
       "  </thead>\n",
       "  <tbody>\n",
       "    <tr>\n",
       "      <th>0</th>\n",
       "      <td>1</td>\n",
       "      <td>0.0</td>\n",
       "      <td>0.0</td>\n",
       "      <td>0.0</td>\n",
       "      <td>1.0</td>\n",
       "      <td>1.0</td>\n",
       "      <td>1.0</td>\n",
       "      <td>1.0</td>\n",
       "      <td>0.0</td>\n",
       "      <td>POLYGON ((0.00000 0.00000, 0.00000 1.00000, 1....</td>\n",
       "      <td>1238.734161</td>\n",
       "      <td>1444.722213</td>\n",
       "      <td>1339.126726</td>\n",
       "      <td>64.362218</td>\n",
       "    </tr>\n",
       "    <tr>\n",
       "      <th>1</th>\n",
       "      <td>2</td>\n",
       "      <td>1.0</td>\n",
       "      <td>0.0</td>\n",
       "      <td>1.0</td>\n",
       "      <td>1.0</td>\n",
       "      <td>2.0</td>\n",
       "      <td>1.0</td>\n",
       "      <td>2.0</td>\n",
       "      <td>0.0</td>\n",
       "      <td>POLYGON ((1.00000 0.00000, 1.00000 1.00000, 2....</td>\n",
       "      <td>1222.409102</td>\n",
       "      <td>1425.920852</td>\n",
       "      <td>1311.903997</td>\n",
       "      <td>51.286449</td>\n",
       "    </tr>\n",
       "    <tr>\n",
       "      <th>2</th>\n",
       "      <td>3</td>\n",
       "      <td>2.0</td>\n",
       "      <td>0.0</td>\n",
       "      <td>2.0</td>\n",
       "      <td>1.0</td>\n",
       "      <td>3.0</td>\n",
       "      <td>1.0</td>\n",
       "      <td>3.0</td>\n",
       "      <td>0.0</td>\n",
       "      <td>POLYGON ((2.00000 0.00000, 2.00000 1.00000, 3....</td>\n",
       "      <td>1231.569771</td>\n",
       "      <td>1402.859628</td>\n",
       "      <td>1319.624868</td>\n",
       "      <td>45.298326</td>\n",
       "    </tr>\n",
       "  </tbody>\n",
       "</table>\n",
       "</div>"
      ],
      "text/plain": [
       "   col1  lat0  lon0  lat1  lon1  lat2  lon2  lat3  lon3  \\\n",
       "0     1   0.0   0.0   0.0   1.0   1.0   1.0   1.0   0.0   \n",
       "1     2   1.0   0.0   1.0   1.0   2.0   1.0   2.0   0.0   \n",
       "2     3   2.0   0.0   2.0   1.0   3.0   1.0   3.0   0.0   \n",
       "\n",
       "                                            geometry  elevation_min  \\\n",
       "0  POLYGON ((0.00000 0.00000, 0.00000 1.00000, 1....    1238.734161   \n",
       "1  POLYGON ((1.00000 0.00000, 1.00000 1.00000, 2....    1222.409102   \n",
       "2  POLYGON ((2.00000 0.00000, 2.00000 1.00000, 3....    1231.569771   \n",
       "\n",
       "   elevation_max  elevation_mean  elevation_std  \n",
       "0    1444.722213     1339.126726      64.362218  \n",
       "1    1425.920852     1311.903997      51.286449  \n",
       "2    1402.859628     1319.624868      45.298326  "
      ]
     },
     "execution_count": 15,
     "metadata": {},
     "output_type": "execute_result"
    }
   ],
   "source": [
    "results"
   ]
  },
  {
   "cell_type": "markdown",
   "metadata": {},
   "source": [
    "Check that `create_raster_zonal_stats` uses the `nodata` attribute set in the tif file if `extra_args.nodata` is set to `None`"
   ]
  },
  {
   "cell_type": "code",
   "execution_count": 23,
   "metadata": {},
   "outputs": [],
   "source": [
    "# Load in admin bounds\n",
    "phl_adm = gpd.read_file(\"../data/region3_admin.geojson\")"
   ]
  },
  {
   "cell_type": "markdown",
   "metadata": {},
   "source": [
    "If the `nodata` parameter is explicitly set to `-999999`, the Population count should be > 0."
   ]
  },
  {
   "cell_type": "code",
   "execution_count": 24,
   "metadata": {},
   "outputs": [],
   "source": [
    "grid_aoi_results = create_raster_zonal_stats(\n",
    "    phl_adm,\n",
    "    \"../data/phl_ppp_2020_constrained.tif\",\n",
    "    aggregation=dict(\n",
    "        func=[\"sum\"],\n",
    "        column=\"population\",\n",
    "        output=[\"population_count\"],\n",
    "        fillna=[True],\n",
    "    ),\n",
    "    extra_args=dict(nodata=-99999),\n",
    ")"
   ]
  },
  {
   "cell_type": "code",
   "execution_count": 25,
   "metadata": {},
   "outputs": [
    {
     "data": {
      "text/html": [
       "<div>\n",
       "<style scoped>\n",
       "    .dataframe tbody tr th:only-of-type {\n",
       "        vertical-align: middle;\n",
       "    }\n",
       "\n",
       "    .dataframe tbody tr th {\n",
       "        vertical-align: top;\n",
       "    }\n",
       "\n",
       "    .dataframe thead th {\n",
       "        text-align: right;\n",
       "    }\n",
       "</style>\n",
       "<table border=\"1\" class=\"dataframe\">\n",
       "  <thead>\n",
       "    <tr style=\"text-align: right;\">\n",
       "      <th></th>\n",
       "      <th>Reg_Code</th>\n",
       "      <th>Reg_Name</th>\n",
       "      <th>Reg_Alt_Name</th>\n",
       "      <th>geometry</th>\n",
       "      <th>population_count</th>\n",
       "    </tr>\n",
       "  </thead>\n",
       "  <tbody>\n",
       "    <tr>\n",
       "      <th>0</th>\n",
       "      <td>030000000</td>\n",
       "      <td>Region III</td>\n",
       "      <td>Central Luzon</td>\n",
       "      <td>MULTIPOLYGON (((120.11687 14.76309, 120.11684 ...</td>\n",
       "      <td>10983338.0</td>\n",
       "    </tr>\n",
       "  </tbody>\n",
       "</table>\n",
       "</div>"
      ],
      "text/plain": [
       "    Reg_Code    Reg_Name   Reg_Alt_Name  \\\n",
       "0  030000000  Region III  Central Luzon   \n",
       "\n",
       "                                            geometry  population_count  \n",
       "0  MULTIPOLYGON (((120.11687 14.76309, 120.11684 ...        10983338.0  "
      ]
     },
     "execution_count": 25,
     "metadata": {},
     "output_type": "execute_result"
    }
   ],
   "source": [
    "grid_aoi_results"
   ]
  },
  {
   "cell_type": "code",
   "execution_count": 26,
   "metadata": {},
   "outputs": [],
   "source": [
    "# hide\n",
    "assert grid_aoi_results[\"population_count\"].iloc[0] > 0"
   ]
  },
  {
   "cell_type": "markdown",
   "metadata": {},
   "source": [
    "If  the `nodata` parameter is not set, `create_raster_zonal_stats` should use the `nodata` attribute set by the geotiff file so that population count should still be > 0."
   ]
  },
  {
   "cell_type": "code",
   "execution_count": 27,
   "metadata": {},
   "outputs": [],
   "source": [
    "grid_aoi_results = create_raster_zonal_stats(\n",
    "    phl_adm,\n",
    "    \"../data/phl_ppp_2020_constrained.tif\",\n",
    "    aggregation=dict(\n",
    "        func=[\"sum\"],\n",
    "        column=\"population\",\n",
    "        output=[\"population_count\"],\n",
    "        fillna=[True],\n",
    "    ),\n",
    ")"
   ]
  },
  {
   "cell_type": "code",
   "execution_count": 28,
   "metadata": {},
   "outputs": [],
   "source": [
    "# hide\n",
    "assert grid_aoi_results[\"population_count\"].iloc[0] > 0"
   ]
  },
  {
   "cell_type": "code",
   "execution_count": 22,
   "metadata": {},
   "outputs": [
    {
     "data": {
      "text/html": [
       "<div>\n",
       "<style scoped>\n",
       "    .dataframe tbody tr th:only-of-type {\n",
       "        vertical-align: middle;\n",
       "    }\n",
       "\n",
       "    .dataframe tbody tr th {\n",
       "        vertical-align: top;\n",
       "    }\n",
       "\n",
       "    .dataframe thead th {\n",
       "        text-align: right;\n",
       "    }\n",
       "</style>\n",
       "<table border=\"1\" class=\"dataframe\">\n",
       "  <thead>\n",
       "    <tr style=\"text-align: right;\">\n",
       "      <th></th>\n",
       "      <th>Reg_Code</th>\n",
       "      <th>Reg_Name</th>\n",
       "      <th>Reg_Alt_Name</th>\n",
       "      <th>geometry</th>\n",
       "      <th>population_count</th>\n",
       "    </tr>\n",
       "  </thead>\n",
       "  <tbody>\n",
       "    <tr>\n",
       "      <th>0</th>\n",
       "      <td>030000000</td>\n",
       "      <td>Region III</td>\n",
       "      <td>Central Luzon</td>\n",
       "      <td>MULTIPOLYGON (((120.11687 14.76309, 120.11684 ...</td>\n",
       "      <td>10983338.0</td>\n",
       "    </tr>\n",
       "  </tbody>\n",
       "</table>\n",
       "</div>"
      ],
      "text/plain": [
       "    Reg_Code    Reg_Name   Reg_Alt_Name  \\\n",
       "0  030000000  Region III  Central Luzon   \n",
       "\n",
       "                                            geometry  population_count  \n",
       "0  MULTIPOLYGON (((120.11687 14.76309, 120.11684 ...        10983338.0  "
      ]
     },
     "execution_count": 22,
     "metadata": {},
     "output_type": "execute_result"
    }
   ],
   "source": [
    "grid_aoi_results"
   ]
  }
 ],
 "metadata": {
  "kernelspec": {
   "display_name": "Python 3",
   "language": "python",
   "name": "python3"
  },
  "language_info": {
   "codemirror_mode": {
    "name": "ipython",
    "version": 3
   },
   "file_extension": ".py",
   "mimetype": "text/x-python",
   "name": "python",
   "nbconvert_exporter": "python",
   "pygments_lexer": "ipython3",
   "version": "3.9.13"
  },
  "vscode": {
   "interpreter": {
    "hash": "96504261293d914944b76c862bc572bac83368dd32313a7543258cc152adf9e9"
   }
  }
 },
 "nbformat": 4,
 "nbformat_minor": 4
}
