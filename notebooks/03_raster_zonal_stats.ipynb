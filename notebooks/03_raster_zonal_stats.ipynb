{
 "cells": [
  {
   "cell_type": "code",
   "execution_count": null,
   "metadata": {
    "tags": []
   },
   "outputs": [],
   "source": [
    "# default_exp raster_zonal_stats"
   ]
  },
  {
   "cell_type": "code",
   "execution_count": null,
   "metadata": {},
   "outputs": [],
   "source": [
    "# hide\n",
    "# no_test\n",
    "! [ -e /content ] && pip install -Uqq geowrangler"
   ]
  },
  {
   "cell_type": "code",
   "execution_count": null,
   "metadata": {},
   "outputs": [],
   "source": [
    "# hide\n",
    "# no_test\n",
    "!mkdir -p ../data\n",
    "![ -e /content ] && ln -s ../data ."
   ]
  },
  {
   "cell_type": "code",
   "execution_count": null,
   "metadata": {},
   "outputs": [],
   "source": [
    "# hide\n",
    "# no_test\n",
    "!mkdir -p ../data\n",
    "# download sample geojson files from repo\n",
    "![ ! -e ../data/sample_terrain.tif ] && curl -s -o ../data/sample_terrain.tif https://raw.githubusercontent.com/thinkingmachines/geowrangler/master/data/sample_terrain.tif"
   ]
  },
  {
   "cell_type": "code",
   "execution_count": null,
   "metadata": {},
   "outputs": [],
   "source": [
    "# hide\n",
    "# no_test\n",
    "# download sample geojson files from repo\n",
    "![ ! -e ../data/phl_ppp_2020_constrained.tif ] && curl -s -o ../data/phl_ppp_2020_constrained.tif https://data.worldpop.org/GIS/Population/Global_2000_2020_Constrained/2020/BSGM/PHL/phl_ppp_2020_constrained.tif"
   ]
  },
  {
   "cell_type": "code",
   "execution_count": null,
   "metadata": {},
   "outputs": [],
   "source": [
    "# hide\n",
    "# no_test\n",
    "%reload_ext autoreload\n",
    "%autoreload 2\n",
    "%matplotlib inline"
   ]
  },
  {
   "cell_type": "markdown",
   "metadata": {
    "tags": []
   },
   "source": [
    "# Raster Zonal Stats"
   ]
  },
  {
   "cell_type": "markdown",
   "metadata": {
    "tags": []
   },
   "source": [
    "> generating zonal stats from raster data\n",
    "\n",
    "Note: This module is a thin layer on top of the `rasterstats` package to make its interface more compatible with the other geowrangler modules (e.g. vector zonal stats)"
   ]
  },
  {
   "cell_type": "code",
   "execution_count": null,
   "metadata": {},
   "outputs": [],
   "source": [
    "# export\n",
    "from pathlib import Path\n",
    "from typing import Any, Dict, Union\n",
    "\n",
    "import geopandas as gpd\n",
    "import pandas as pd\n",
    "import rasterio\n",
    "import rasterstats as rs\n",
    "\n",
    "from geowrangler.vector_zonal_stats import _expand_aggs, _fillnas, _fix_agg"
   ]
  },
  {
   "cell_type": "code",
   "execution_count": null,
   "metadata": {},
   "outputs": [],
   "source": [
    "# export\n",
    "def create_raster_zonal_stats(\n",
    "    aoi: Union[  # The area of interest geodataframe, or path to the vector file\n",
    "        str, gpd.GeoDataFrame\n",
    "    ],\n",
    "    data: Union[str, Path],  # The path to the raster data file\n",
    "    aggregation: Dict[  # A dict specifying the aggregation. See `create_zonal_stats` from the `geowrangler.vector_zonal_stats` module for more details\n",
    "        str, Any\n",
    "    ],\n",
    "    extra_args: Dict[  # Extra arguments passed to `rasterstats.zonal_stats` method\n",
    "        str, Any\n",
    "    ] = dict(\n",
    "        layer=0,\n",
    "        band_num=1,\n",
    "        nodata=None,\n",
    "        affine=None,\n",
    "        all_touched=False,\n",
    "    ),\n",
    ") -> gpd.GeoDataFrame:\n",
    "\n",
    "    \"\"\"Compute zonal stats with a vector areas of interest (aoi) from raster data sources.\n",
    "    This is a thin layer  over the `zonal_stats` method from\n",
    "    the `rasterstats` python package for compatibility with other geowrangler modules.\n",
    "    This method currently only supports 1 band for each call, so if you want to create zonal\n",
    "    stats for multiple bands with the same raster data, you can call this method for\n",
    "    each band (make sure to specify the correct `band_num` in the `extra_args` parameter).\n",
    "    See https://pythonhosted.org/rasterstats/manual.html#zonal-statistics for more details\"\"\"\n",
    "    fixed_agg = _fix_agg(aggregation)\n",
    "\n",
    "    if \"stats\" in extra_args:\n",
    "        extra_args.pop(\"stats\")  # use aggregation\n",
    "\n",
    "    if \"geojson_out\" in extra_args:\n",
    "        extra_args.pop(\"geojson_out\")  # never add features\n",
    "\n",
    "    if \"categorical\" in extra_args:\n",
    "        extra_args.pop(\"categorical\")  # no use for categorical and categorical maps\n",
    "    if \"categorical_map\" in extra_args:\n",
    "        extra_args.pop(\"categorical_map\")\n",
    "\n",
    "    if \"prefix\" in extra_args:\n",
    "        extra_args.pop(\"prefix\")  # use agg['column'] as prefix\n",
    "\n",
    "    if \"add_stats\" in extra_args:\n",
    "        extra_args.pop(\"add_stats\")  # always use stats only\n",
    "\n",
    "    if \"nodata\" in extra_args:\n",
    "        nodata = extra_args[\"nodata\"]\n",
    "        if nodata is None:\n",
    "            extra_args.pop(\"nodata\")\n",
    "            with rasterio.open(data) as src:\n",
    "                extra_args[\"nodata\"] = src.nodata\n",
    "\n",
    "    stats = fixed_agg[\"func\"]\n",
    "    prefix = fixed_agg[\"column\"] + \"_\"\n",
    "\n",
    "    renamed_columns = {\n",
    "        f\"{prefix}{func}\": fixed_agg[\"output\"][i]\n",
    "        for (i, func) in enumerate(fixed_agg[\"func\"])\n",
    "        if f\"{prefix}{func}\" != fixed_agg[\"output\"][i]\n",
    "    }\n",
    "    results_dict = rs.zonal_stats(\n",
    "        vectors=aoi,\n",
    "        raster=data,\n",
    "        stats=stats,\n",
    "        geojson_out=False,\n",
    "        categorical=False,\n",
    "        category_map=None,\n",
    "        prefix=prefix,\n",
    "        **extra_args,\n",
    "    )\n",
    "\n",
    "    results = pd.DataFrame.from_records(results_dict)\n",
    "    results.rename(columns=renamed_columns, inplace=True)\n",
    "    expanded_aggs = _expand_aggs([fixed_agg])\n",
    "\n",
    "    if type(aoi) == str:\n",
    "        aoi = gpd.read_file(aoi)\n",
    "\n",
    "    _fillnas(expanded_aggs, results, aoi)\n",
    "\n",
    "    aoi = aoi.merge(results, how=\"left\", left_index=True, right_index=True)\n",
    "\n",
    "    return aoi"
   ]
  },
  {
   "cell_type": "code",
   "execution_count": null,
   "metadata": {},
   "outputs": [],
   "source": [
    "# hide\n",
    "# see tests/test_vector_zonal_stats.py\n",
    "from shapely.geometry import Polygon\n",
    "\n",
    "\n",
    "def make_simple_aoi():\n",
    "    df = pd.DataFrame(\n",
    "        data={\n",
    "            \"col1\": [1, 2, 3],\n",
    "            \"lat0\": [0.0, 1.0, 2.0],\n",
    "            \"lon0\": [0.0, 0.0, 0.0],\n",
    "            \"lat1\": [0.0, 1.0, 2.0],\n",
    "            \"lon1\": [1.0, 1.0, 1.0],\n",
    "            \"lat2\": [1.0, 2.0, 3.0],\n",
    "            \"lon2\": [1.0, 1.0, 1.0],\n",
    "            \"lat3\": [1.0, 2.0, 3.0],\n",
    "            \"lon3\": [0.0, 0.0, 0.0],\n",
    "        }\n",
    "    )\n",
    "\n",
    "    def square(row):\n",
    "        return Polygon(\n",
    "            (\n",
    "                [\n",
    "                    (row.lat0, row.lon0),\n",
    "                    (row.lat1, row.lon1),\n",
    "                    (row.lat2, row.lon2),\n",
    "                    (row.lat3, row.lon3),\n",
    "                ]\n",
    "            )\n",
    "        )\n",
    "\n",
    "    return gpd.GeoDataFrame(df, geometry=df.apply(square, axis=1), crs=\"EPSG:4326\")\n",
    "\n",
    "\n",
    "simple_aoi = make_simple_aoi()\n",
    "terrain_file = \"../data/sample_terrain.tif\""
   ]
  },
  {
   "cell_type": "code",
   "execution_count": null,
   "metadata": {},
   "outputs": [],
   "source": [
    "import matplotlib.pyplot as plt\n",
    "import numpy as np\n",
    "import rasterio"
   ]
  },
  {
   "cell_type": "code",
   "execution_count": null,
   "metadata": {},
   "outputs": [],
   "source": [
    "with rasterio.open(terrain_file) as src:\n",
    "    data = src.read(1)\n",
    "    data_crs = src.crs\n",
    "    data_bounds = src.bounds\n",
    "print(data.shape, data_crs, data_bounds)"
   ]
  },
  {
   "cell_type": "code",
   "execution_count": null,
   "metadata": {},
   "outputs": [],
   "source": [
    "simple_aoi.total_bounds"
   ]
  },
  {
   "cell_type": "code",
   "execution_count": null,
   "metadata": {},
   "outputs": [],
   "source": [
    "ax = plt.imshow(data, cmap=\"pink\")"
   ]
  },
  {
   "cell_type": "code",
   "execution_count": null,
   "metadata": {},
   "outputs": [],
   "source": [
    "ax = simple_aoi.plot(facecolor=\"none\", edgecolor=\"blue\")"
   ]
  },
  {
   "cell_type": "code",
   "execution_count": null,
   "metadata": {},
   "outputs": [],
   "source": [
    "%%time\n",
    "results = create_raster_zonal_stats(\n",
    "    simple_aoi,\n",
    "    terrain_file,\n",
    "    aggregation=dict(func=[\"mean\", \"max\", \"min\", \"std\"], column=\"elevation\"),\n",
    "    extra_args=dict(nodata=np.nan),\n",
    ")"
   ]
  },
  {
   "cell_type": "code",
   "execution_count": null,
   "metadata": {},
   "outputs": [],
   "source": [
    "results"
   ]
  },
  {
   "cell_type": "code",
   "execution_count": null,
   "metadata": {},
   "outputs": [],
   "source": [
    "# Load in admin bounds\n",
    "phl_adm = gpd.read_file(\"../data/region3_admin.geojson\")"
   ]
  },
  {
   "cell_type": "code",
   "execution_count": null,
   "metadata": {},
   "outputs": [],
   "source": [
    "grid_aoi_results = create_raster_zonal_stats(\n",
    "    phl_adm,\n",
    "    \"../data/phl_ppp_2020_constrained.tif\",\n",
    "    aggregation=dict(\n",
    "        func=[\"sum\"],\n",
    "        column=\"population\",\n",
    "        output=[\"population_count\"],\n",
    "        fillna=[True],\n",
    "    ),\n",
    "    extra_args=dict(nodata=-99999),\n",
    ")"
   ]
  },
  {
   "cell_type": "code",
   "execution_count": 21,
   "metadata": {},
   "outputs": [
    {
     "data": {
      "text/plain": [
       "True"
      ]
     },
     "execution_count": 21,
     "metadata": {},
     "output_type": "execute_result"
    }
   ],
   "source": [
    "assert grid_aoi_results[\"population_count\"].iloc[0] > 0"
   ]
  },
  {
   "cell_type": "code",
   "execution_count": null,
   "metadata": {},
   "outputs": [],
   "source": []
  }
 ],
 "metadata": {
  "kernelspec": {
   "display_name": "Python 3 (ipykernel)",
   "language": "python",
   "name": "python3"
  },
  "language_info": {
   "codemirror_mode": {
    "name": "ipython",
    "version": 3
   },
   "file_extension": ".py",
   "mimetype": "text/x-python",
   "name": "python",
   "nbconvert_exporter": "python",
   "pygments_lexer": "ipython3",
   "version": "3.9.13"
  },
  "vscode": {
   "interpreter": {
    "hash": "96504261293d914944b76c862bc572bac83368dd32313a7543258cc152adf9e9"
   }
  }
 },
 "nbformat": 4,
 "nbformat_minor": 4
}
