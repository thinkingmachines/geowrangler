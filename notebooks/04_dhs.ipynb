{
 "cells": [
  {
   "cell_type": "code",
   "execution_count": 1,
   "id": "911e9d52-f335-484d-90f5-dece2cf4da18",
   "metadata": {},
   "outputs": [],
   "source": [
    "# default_exp dhs"
   ]
  },
  {
   "cell_type": "code",
   "execution_count": 2,
   "id": "0cc6cb14-20e0-44a0-ab6d-cc73892763d4",
   "metadata": {},
   "outputs": [],
   "source": [
    "# hide\n",
    "# no_test\n",
    "! [ -e /content ] && pip install -Uqq geowrangler"
   ]
  },
  {
   "cell_type": "code",
   "execution_count": 3,
   "id": "b41c477c-c015-4541-a7e7-51838970283c",
   "metadata": {},
   "outputs": [],
   "source": [
    "# hide\n",
    "# no_test\n",
    "%reload_ext autoreload\n",
    "%autoreload 2\n",
    "%matplotlib inline"
   ]
  },
  {
   "cell_type": "markdown",
   "id": "4b25ee3a-ea83-470e-a255-11b6e8c701d3",
   "metadata": {
    "tags": []
   },
   "source": [
    "# DHS Utilities\n",
    "> Utility function for dealing with dhs data"
   ]
  },
  {
   "cell_type": "code",
   "execution_count": 4,
   "id": "c98ad075-ed5e-4878-9a98-72f64615535c",
   "metadata": {},
   "outputs": [],
   "source": [
    "# exporti\n",
    "from typing import List\n",
    "\n",
    "import numpy as np\n",
    "import pandas as pd\n",
    "from pandas import DataFrame\n",
    "from sklearn.decomposition import PCA"
   ]
  },
  {
   "cell_type": "code",
   "execution_count": 42,
   "id": "a6b49e98-ac46-4598-92c5-cf41d9a91154",
   "metadata": {},
   "outputs": [],
   "source": [
    "# exporti\n",
    "PH_COLUMN_CONFIG = {\n",
    "    \"cluster number\": \"DHSCLUST\",\n",
    "    \"wealth index factor score combined (5 decimals)\": \"Wealth Index\",\n",
    "    \"country code and phase\": \"country code and phase\",\n",
    "    \"number of rooms used for sleeping\": \"rooms\",\n",
    "    \"has electricity\": \"electric\",\n",
    "    \"has mobile telephone\": \"mobile telephone\",\n",
    "    \"has radio\": \"radio\",\n",
    "    \"has television\": \"television\",\n",
    "    \"has car/truck\": \"car/truck\",\n",
    "    \"has refrigerator\": \"refrigerator\",\n",
    "    \"has motorcycle/scooter\": \"motorcycle\",\n",
    "    \"main floor material\": \"floor\",\n",
    "    \"type of toilet facility\": \"toilet\",\n",
    "    \"source of drinking water\": \"drinking water\",\n",
    "}\n",
    "\n",
    "KH_COLUMN_CONFIG = {\n",
    "    \"cluster number\": \"DHSCLUST\",\n",
    "    \"wealth index factor score (5 decimals)\": \"Wealth Index\",\n",
    "    \"country code and phase\": \"country code and phase\",\n",
    "    \"number of rooms used for sleeping\": \"rooms\",\n",
    "    \"has electricity\": \"electric\",\n",
    "    \"has mobile telephone\": \"mobile telephone\",\n",
    "    \"has radio\": \"radio\",\n",
    "    \"has television\": \"television\",\n",
    "    \"has car/truck\": \"car/truck\",\n",
    "    \"has refrigerator\": \"refrigerator\",\n",
    "    \"has motorcycle/scooter\": \"motorcycle\",\n",
    "    \"main floor material\": \"floor\",\n",
    "    \"type of toilet facility\": \"toilet\",\n",
    "    \"na - source of drinking water\": \"drinking water\",\n",
    "}\n",
    "MM_COLUMN_CONFIG = {\n",
    "    \"cluster number\": \"DHSCLUST\",\n",
    "    \"wealth index factor score combined (5 decimals)\": \"Wealth Index\",\n",
    "    \"country code and phase\": \"country code and phase\",\n",
    "    \"number of rooms used for sleeping\": \"rooms\",\n",
    "    \"has electricity\": \"electric\",\n",
    "    \"has mobile telephone\": \"mobile telephone\",\n",
    "    \"has radio\": \"radio\",\n",
    "    \"has television\": \"television\",\n",
    "    \"has car/truck\": \"car/truck\",\n",
    "    \"has refrigerator\": \"refrigerator\",\n",
    "    \"has motorcycle/scooter\": \"motorcycle\",\n",
    "    \"main floor material\": \"floor\",\n",
    "    \"type of toilet facility\": \"toilet\",\n",
    "    \"source of drinking water\": \"drinking water\",\n",
    "}\n",
    "TL_COLUMN_CONFIG = {\n",
    "    \"cluster number\": \"DHSCLUST\",\n",
    "    \"wealth index factor score combined (5 decimals)\": \"Wealth Index\",\n",
    "    \"country code and phase\": \"country code and phase\",\n",
    "    \"number of rooms used for sleeping\": \"rooms\",\n",
    "    \"has electricity\": \"electric\",\n",
    "    \"has mobile telephone\": \"mobile telephone\",\n",
    "    \"has radio\": \"radio\",\n",
    "    \"has television\": \"television\",\n",
    "    \"has car/truck\": \"car/truck\",\n",
    "    \"has refrigerator\": \"refrigerator\",\n",
    "    \"has motorcycle/scooter\": \"motorcycle\",\n",
    "    \"main floor material\": \"floor\",\n",
    "    \"type of toilet facility\": \"toilet\",\n",
    "    \"source of drinking water\": \"drinking water\",\n",
    "}\n",
    "\n",
    "COLUMN_CONFIG = {\n",
    "    \"ph\": PH_COLUMN_CONFIG,\n",
    "    \"kh\": KH_COLUMN_CONFIG,\n",
    "    \"mm\": MM_COLUMN_CONFIG,\n",
    "    \"tl\": TL_COLUMN_CONFIG,\n",
    "}"
   ]
  },
  {
   "cell_type": "code",
   "execution_count": 44,
   "id": "6b28e3a9-ed59-4e14-91b6-05e59af2a661",
   "metadata": {},
   "outputs": [],
   "source": [
    "# export\n",
    "def load_column_config(\n",
    "    country: str,  # 2 letter character representing the country\n",
    ") -> dict:\n",
    "    \"\"\"Get predined column mapping for some countries.\n",
    "    The following countries area supported:\n",
    "    - `ph` Philippines\n",
    "    - `tl` East Timor\n",
    "    - `mm` Myanmar\n",
    "    - `kh` Cambodia\n",
    "    \"\"\"\n",
    "    if country in COLUMN_CONFIG:\n",
    "        return COLUMN_CONFIG[country]\n",
    "    else:\n",
    "        raise ValueError(\n",
    "            f\"Not a valid country. Valid countries are {list(COLUMN_CONFIG.keys())}\"\n",
    "        )"
   ]
  },
  {
   "cell_type": "code",
   "execution_count": 6,
   "id": "e8df362a-52b9-4bae-9a51-bf88c0517cb3",
   "metadata": {},
   "outputs": [],
   "source": [
    "# export\n",
    "def load_dhs_file(\n",
    "    household_data: str,  # str or pathlike object to the household data\n",
    ") -> DataFrame:\n",
    "    \"\"\"Loads household data and renames columns based on variable labels of the file\"\"\"\n",
    "    dhs_reader = pd.read_stata(\n",
    "        household_data, convert_categoricals=False, iterator=True\n",
    "    )\n",
    "    dhs_dict = dhs_reader.variable_labels()\n",
    "    with dhs_reader:\n",
    "        dhs_df = dhs_reader.read()\n",
    "    dhs_df.rename(columns=dhs_dict, inplace=True)\n",
    "    return dhs_df"
   ]
  },
  {
   "cell_type": "code",
   "execution_count": 57,
   "id": "cd6dfea2-b95b-4019-9040-50a2b5aecbca",
   "metadata": {},
   "outputs": [],
   "source": [
    "# export\n",
    "def apply_threshold(\n",
    "    df: DataFrame,  # Dataframe\n",
    "    columns: List[str],  # List of columns to apply the threshold\n",
    "    config: dict,  # Config containing the min and max of each columns\n",
    ") -> DataFrame:\n",
    "    \"\"\"Applies a threshold to a list of columns\"\"\"\n",
    "    copied = df.copy()\n",
    "    for col in columns:\n",
    "        if col in config:\n",
    "            copied[col] = copied[col].clip(*config[col])\n",
    "        elif \"_default\" in config:\n",
    "            copied[col] = copied[col].clip(*config[\"_default\"])\n",
    "    return copied"
   ]
  },
  {
   "cell_type": "code",
   "execution_count": 9,
   "id": "8e531460-9a13-4dd1-8405-4baca4bb104d",
   "metadata": {},
   "outputs": [],
   "source": [
    "# export\n",
    "def assign_wealth_index(\n",
    "    asset_df: DataFrame,  # Dataframe containg only the features to apply wealth index\n",
    "    use_pca=True,  # if calculating wealth index should be done via PCA or via Sigular Value Decomposition\n",
    "):\n",
    "    if use_pca:\n",
    "        pca = PCA(1)\n",
    "        pca.fit(asset_df.values)\n",
    "\n",
    "        first_comp_vec_scaled = np.matmul(asset_df, pca.components_.T).squeeze()\n",
    "\n",
    "    else:\n",
    "        asset_df = asset_df.apply(lambda x: x - x.mean(), axis=1)\n",
    "        u, s, _ = np.linalg.svd(asset_df.values.T, full_matrices=False)\n",
    "        orthog_pc1_proj = np.matmul(asset_df, u[0])\n",
    "        first_comp_vec_scaled = s[0] * orthog_pc1_proj\n",
    "    return first_comp_vec_scaled"
   ]
  },
  {
   "cell_type": "code",
   "execution_count": 59,
   "id": "6bb8fe35-a2b8-4102-a468-4a778756cf7e",
   "metadata": {},
   "outputs": [
    {
     "name": "stdout",
     "output_type": "stream",
     "text": [
      "Converted 04_dhs_data.ipynb.\n"
     ]
    }
   ],
   "source": [
    "# hide\n",
    "# no_test\n",
    "from nbdev.export import notebook2script\n",
    "\n",
    "notebook2script(\"04_dhs_data.ipynb\")"
   ]
  }
 ],
 "metadata": {
  "kernelspec": {
   "display_name": "Python 3 (ipykernel)",
   "language": "python",
   "name": "python3"
  },
  "language_info": {
   "codemirror_mode": {
    "name": "ipython",
    "version": 3
   },
   "file_extension": ".py",
   "mimetype": "text/x-python",
   "name": "python",
   "nbconvert_exporter": "python",
   "pygments_lexer": "ipython3",
   "version": "3.9.11"
  }
 },
 "nbformat": 4,
 "nbformat_minor": 5
}
